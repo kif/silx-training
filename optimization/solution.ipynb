{
 "cells": [
  {
   "cell_type": "markdown",
   "metadata": {},
   "source": [
    "# Solution of optimization exercises"
   ]
  },
  {
   "cell_type": "code",
   "execution_count": null,
   "metadata": {},
   "outputs": [],
   "source": [
    "%matplotlib inline \n",
    "# This is for plotting\n",
    "import math\n",
    "import cmath\n",
    "import numpy as np\n",
    "from matplotlib.pyplot import subplots\n",
    "from matplotlib.colors import LogNorm"
   ]
  },
  {
   "cell_type": "code",
   "execution_count": null,
   "metadata": {},
   "outputs": [],
   "source": [
    "n_cpu = 4"
   ]
  },
  {
   "cell_type": "code",
   "execution_count": null,
   "metadata": {},
   "outputs": [],
   "source": [
    "# Some constants valid for all calculation\n",
    "# Miller index of reflection\n",
    "H = 0 \n",
    "# Miller index of reflection\n",
    "K = 4 \n",
    "# Number of unit cells per direction\n",
    "N = 32 \n",
    "# Defines how much points are needed to describe a single Laue fringe (2 = Nyquist frequency)\n",
    "oversampling = 3\n",
    "\n",
    "# Maximum strain at surface\n",
    "e0 = 0.01 \n",
    "# Width of the strain profile below the surface\n",
    "w = 5.\n",
    "\n",
    "# Generate real and reciprocal space coordinates\n",
    "n = np.arange(N)\n",
    "m = np.arange(N)\n",
    "h = np.arange(H-0.5, H+0.5, 1./(oversampling*N))\n",
    "k = np.arange(K-0.5, K+0.5, 1./(oversampling*N))"
   ]
  },
  {
   "cell_type": "code",
   "execution_count": null,
   "metadata": {},
   "outputs": [],
   "source": [
    "def validate_ci(result):\n",
    "    \"Return the error value (for exercises)\"\n",
    "    reference = np.load(\"reference_ci.npy\")\n",
    "    return abs(np.array(reference)-result).max()/reference.max()\n",
    "\n",
    "def display(result):\n",
    "    \"Display the array\"\n",
    "    fig, ax = subplots()\n",
    "    fig.suptitle(\"Bragg peak\")\n",
    "    ax.imshow(result.T, extent=(h.min(), h.max(), k.min(), k.max()), norm=LogNorm(), origin = 'lower')\n",
    "    ax.set_xlabel('H');ax.set_ylabel('K')\n",
    "    ax.set_title(f\"Crystal {N}x{N}\")"
   ]
  },
  {
   "cell_type": "markdown",
   "metadata": {},
   "source": [
    "## Python implementation\n",
    "\n",
    "### Circular crystal"
   ]
  },
  {
   "cell_type": "code",
   "execution_count": null,
   "metadata": {},
   "outputs": [],
   "source": [
    "def Circ_python_1(N, h, k):\n",
    "    x = (np.arange(N) - N/2).reshape(-1, 1)\n",
    "    y = (np.arange(N) - N/2).reshape(1, -1)\n",
    "    omega = x*x + y*y <= (N/2)**2\n",
    "    result = np.zeros((h.size, k.size))\n",
    "    for i_h, v_h in enumerate(h):  # loop over the reciprocal space coordinates\n",
    "        for i_k, v_k in enumerate(k):\n",
    "            # One should discard bad values\n",
    "            tmp = 0.0\n",
    "            for n in range(N):  # loop and sum over unit-cells\n",
    "                for m in range(N):\n",
    "                    if omega[n, m]:\n",
    "                        tmp += cmath.exp(2j*np.pi*(v_h*n + v_k*m))\n",
    "            result[i_h][i_k] = abs(tmp)**2\n",
    "    return result\n",
    "\n",
    "# Compute\n",
    "%time intensity = Circ_python_1(N, h, k)\n",
    "print(\"Error measured:\", validate_ci(intensity))"
   ]
  },
  {
   "cell_type": "code",
   "execution_count": null,
   "metadata": {},
   "outputs": [],
   "source": [
    "# Alternative using Python `sum`\n",
    "def Circ_python_1(N, h, k):\n",
    "    # Filter-out position outside crystal once for all\n",
    "    inside_pos = [(n, m) for n in range(N) for m in range(N)\n",
    "           if ((n-N/2)**2 + (m-N/2)**2) <= (N/2)**2]\n",
    "\n",
    "    result = np.zeros((h.size, k.size))\n",
    "    for i_h, v_h in enumerate(h):  # loop over the reciprocal space coordinates\n",
    "        for i_k, v_k in enumerate(k):\n",
    "            result[i_h][i_k] = abs(\n",
    "                sum(  # Sum over positions inside the crystal\n",
    "                    cmath.exp(2j*np.pi*(v_h*n + v_k*m))\n",
    "                    for n, m in inside_pos\n",
    "                )\n",
    "            )**2\n",
    "    return result\n",
    "\n",
    "# Compute\n",
    "%time intensity = Circ_python_1(N, h, k)\n",
    "print(\"Error measured:\", validate_ci(intensity))"
   ]
  },
  {
   "cell_type": "markdown",
   "metadata": {},
   "source": [
    "### Circular strained crystal"
   ]
  },
  {
   "cell_type": "code",
   "execution_count": null,
   "metadata": {},
   "outputs": [],
   "source": [
    "def Circ_python(N, h, k):\n",
    "    N_2 = N / 2\n",
    "    positions = {}\n",
    "    for i in range(N):\n",
    "        x = i - N_2\n",
    "        for j in range(N):\n",
    "            y = j - N_2\n",
    "            r = (x*x + y*y)**0.5\n",
    "            if r<=N_2:\n",
    "                strain = e0 * (1 + math.tanh((r - N_2)/w))\n",
    "                positions[(i,j)] = (i + strain*x,\n",
    "                                    j + strain*y)\n",
    "    result = np.zeros((h.size, k.size))\n",
    "    for i_h, v_h in enumerate(h): #loop over the reciprocal space coordinates\n",
    "        for i_k, v_k in enumerate(k):\n",
    "            #One should discard  bad values\n",
    "            tmp = 0.0\n",
    "            for i_n in range(N):#loop and sum over unit-cells\n",
    "                for i_m in range(N):\n",
    "                    pos = positions.get((i_n, i_m))\n",
    "                    if pos:\n",
    "                        n_s, m_s = pos\n",
    "                        tmp += cmath.exp(2j*np.pi*(v_h*n_s + v_k*m_s))\n",
    "            result[i_h, i_k] = abs(tmp)**2\n",
    "    return result\n",
    "\n",
    "%time intensity = Circ_python(N, h, k)\n",
    "print(\"Error measured:\", validate_ci(intensity))"
   ]
  },
  {
   "cell_type": "code",
   "execution_count": null,
   "metadata": {},
   "outputs": [],
   "source": [
    "# Alternative computing list of strained position\n",
    "def Circ_python(N, h, k):\n",
    "    # Compute strained position inside the crystal once for all\n",
    "    strained_pos = []\n",
    "    crystal_radius = N/2\n",
    "    for n in range(N):\n",
    "        for m in range(N):\n",
    "            # Center is at (N/2, N/2)\n",
    "            x = n - crystal_radius\n",
    "            y = m - crystal_radius\n",
    "            radius = (x**2 + y**2)**0.5\n",
    "            if radius <= crystal_radius:\n",
    "                delta = e0 * (1 + math.tanh((radius - crystal_radius)/w))\n",
    "                strained_pos.append((n + delta*x, m + delta*y))\n",
    "\n",
    "    result = np.zeros((h.size, k.size))\n",
    "    for i_h, v_h in enumerate(h): #loop over the reciprocal space coordinates\n",
    "        for i_k, v_k in enumerate(k):\n",
    "            result[i_h][i_k] = abs(\n",
    "                sum(\n",
    "                    cmath.exp(2j*np.pi*(v_h*n_s + v_k*m_s))\n",
    "                    for n_s, m_s in strained_pos\n",
    "                )\n",
    "            )**2\n",
    "    return result\n",
    "\n",
    "%time intensity = Circ_python(N, h, k)\n",
    "print(\"Error measured:\", validate_ci(intensity))"
   ]
  },
  {
   "cell_type": "markdown",
   "metadata": {},
   "source": [
    "## NumPy implementation"
   ]
  },
  {
   "cell_type": "code",
   "execution_count": null,
   "metadata": {},
   "outputs": [],
   "source": [
    "def Circ_numpy(N, h, k):\n",
    "    N_2 = N/2\n",
    "    h = h.reshape(-1, 1, 1, 1)\n",
    "    k = k.reshape(1, -1, 1, 1)\n",
    "    n = np.arange(N).reshape(1, 1, -1, 1)\n",
    "    m = np.arange(N).reshape(1, 1, 1, -1)\n",
    "    radius = np.sqrt((n-N_2)**2 + (m-N_2)**2)\n",
    "    strain = e0 * (1.0 + np.tanh((radius - N_2)/w))\n",
    "    p_n = n + strain*(n-N_2)\n",
    "    p_m = m + strain*(m-N_2)\n",
    "    omega = radius <= N_2    \n",
    "    tmp = omega * np.exp(2j*np.pi*(h*p_n + k*p_m))\n",
    "    return np.abs(tmp.sum(axis=(2,3)))**2\n",
    "\n",
    "%time intensity = Circ_numpy(N, h, k)\n",
    "print(\"Error measured:\", validate_ci(intensity))"
   ]
  },
  {
   "cell_type": "markdown",
   "metadata": {},
   "source": [
    "## NumExpr implementation"
   ]
  },
  {
   "cell_type": "code",
   "execution_count": null,
   "metadata": {},
   "outputs": [],
   "source": [
    "import numexpr as ne\n",
    "ne.set_num_threads(n_cpu)  # Limit the number of threads to be used"
   ]
  },
  {
   "cell_type": "code",
   "execution_count": null,
   "metadata": {},
   "outputs": [],
   "source": [
    "def Circ_numexpr(N, h, k):\n",
    "    N_2 = N/2\n",
    "    h = h.reshape(-1, 1, 1, 1)\n",
    "    k = k.reshape(1, -1, 1, 1)\n",
    "    n = np.arange(N).reshape(1, 1, -1, 1)\n",
    "    m = np.arange(N).reshape(1, 1, 1, -1)\n",
    "    radius = ne.evaluate(\"sqrt((n - N_2)**2 + (m - N_2)**2)\")\n",
    "    strain = ne.evaluate(\"e0 * (1 + tanh((radius-N_2) / w))\")\n",
    "    j2pi = np.pi*2j\n",
    "    tmp = ne.evaluate(\"where(radius > N_2, 0, exp(j2pi*(h*(n+strain*(n-N_2)) + k*(m+strain*(m-N_2)))))\")\n",
    "    result = abs(tmp.sum(axis=(2,3)))**2\n",
    "    return result\n",
    "\n",
    "%time intensity = Circ_numexpr(N, h, k)\n",
    "print(\"Error measured:\", validate_ci(intensity))"
   ]
  },
  {
   "cell_type": "markdown",
   "metadata": {},
   "source": [
    "## Numba implementation"
   ]
  },
  {
   "cell_type": "code",
   "execution_count": null,
   "metadata": {},
   "outputs": [],
   "source": [
    "import numba as nb\n",
    "nb.set_num_threads(n_cpu)  # Limit the number of cores to be used"
   ]
  },
  {
   "cell_type": "code",
   "execution_count": null,
   "metadata": {},
   "outputs": [],
   "source": [
    "@nb.jit(parallel=True)\n",
    "def Circ_numba(N, h, k):\n",
    "    result = np.zeros((h.size,k.size), dtype=np.float64)\n",
    "    N_2 = N/2\n",
    "    for h_i in nb.prange(h.size):  # loop over the reciprocal space coordinates\n",
    "        for k_i in range(k.size):\n",
    "            tmp = 0j\n",
    "            for n in range(N):  # loop and sum over unit-cells\n",
    "                for m in range(N):\n",
    "                    radius = math.sqrt((n - N_2)** 2 + (m - N_2)** 2)\n",
    "                    if (radius > (N_2)):\n",
    "                        value = 0j\n",
    "                        # continue  # Numba isn't working using the same continue pattern as below\n",
    "                    else:\n",
    "                        strain = e0 * (1 + math.tanh((radius-N_2)/w))\n",
    "                        p_n = n + strain*(n - N_2)\n",
    "                        p_m = m + strain*(m - N_2)\n",
    "                        value = np.exp(2j*cmath.pi*(h[h_i]*p_n + k[k_i]*p_m))\n",
    "                    tmp +=  value\n",
    "            result[h_i, k_i] = abs(tmp)**2\n",
    "    return result\n",
    "\n",
    "%time intensity = Circ_numba(N, h, k)\n",
    "print(\"Error measured:\", validate_ci(intensity))"
   ]
  },
  {
   "cell_type": "markdown",
   "metadata": {},
   "source": [
    "## Cython"
   ]
  },
  {
   "cell_type": "code",
   "execution_count": null,
   "metadata": {},
   "outputs": [],
   "source": [
    "import os\n",
    "os.environ[\"OMP_NUM_THREADS\"] = str(n_cpu)\n",
    "# This enables the %cython mode\n",
    "%load_ext Cython"
   ]
  },
  {
   "cell_type": "code",
   "execution_count": null,
   "metadata": {},
   "outputs": [],
   "source": [
    "%%cython --compile-args=-fopenmp --link-args=-fopenmp -a\n",
    "#%%cython -a\n",
    "#cython: embedsignature=True, language_level=3, binding=True\n",
    "# cython: boundscheck=False, wraparound=False, cdivision=True, initializedcheck=False,\n",
    "## This is for developping:\n",
    "## cython: profile=True, warn.undeclared=True, warn.unused=True, warn.unused_result=False, warn.unused_arg=True\n",
    "\n",
    "import numpy as np\n",
    "from cython.parallel import prange\n",
    "from libc.math cimport sqrt, pi, tanh\n",
    "\n",
    "# With Cython3: from libc.complex cimport cabs, cexp\n",
    "# Accessing C code from cython (out of the scope for today)\n",
    "cdef extern from \"complex.h\" nogil:\n",
    "    double cabs(double complex)\n",
    "    double complex cexp(double complex)\n",
    "\n",
    "def Circ_cython(int N, \n",
    "                double[::1] h, \n",
    "                double[::1] k,\n",
    "                double e0,\n",
    "                double w):\n",
    "    cdef:\n",
    "        double[:, ::1] result\n",
    "        double N_2, p_n, p_m, strain, radius, n_v, m_v\n",
    "        double complex tmp, two_j_pi,  value\n",
    "        int i_h, i_k, m, n, h_size, k_size\n",
    "        \n",
    "    two_j_pi = np.pi*2j\n",
    "    h_size = h.shape[0]\n",
    "    k_size = k.shape[0]\n",
    "    result = np.zeros((h_size, k_size))\n",
    "    N_2 = N / 2.0\n",
    "    for i_h in prange(h_size, nogil=True):  # loop over the reciprocal space coordinates\n",
    "        for i_k in range(k_size):\n",
    "            tmp = 0.0\n",
    "            for n in range(N):  # loop and sum over unit-cells\n",
    "                for m in range(N):\n",
    "                    radius = sqrt((n - N_2)** 2 + (m - N_2)** 2)\n",
    "                    if (radius > (N_2)):\n",
    "                        value = 0.0\n",
    "                    else:\n",
    "                        strain = e0 * (1.0 + tanh((radius-N_2)/w))\n",
    "                        p_n = n + strain*(n - N_2)\n",
    "                        p_m = m + strain*(m - N_2)\n",
    "                        value = cexp(2j*pi*(h[i_h]*p_n + k[i_k]*p_m))\n",
    "                    tmp +=  value\n",
    "            result[i_h, i_k] += cabs(tmp)**2\n",
    "    return np.asarray(result)"
   ]
  },
  {
   "cell_type": "code",
   "execution_count": null,
   "metadata": {},
   "outputs": [],
   "source": [
    "%time intensity = Circ_cython(N, h, k, e0, w)\n",
    "print(\"Error measured:\", validate_ci(intensity))"
   ]
  },
  {
   "cell_type": "code",
   "execution_count": null,
   "metadata": {},
   "outputs": [],
   "source": []
  }
 ],
 "metadata": {
  "kernelspec": {
   "display_name": "Python 3",
   "language": "python",
   "name": "python3"
  },
  "language_info": {
   "codemirror_mode": {
    "name": "ipython",
    "version": 3
   },
   "file_extension": ".py",
   "mimetype": "text/x-python",
   "name": "python",
   "nbconvert_exporter": "python",
   "pygments_lexer": "ipython3",
   "version": "3.8.5"
  },
  "toc": {
   "base_numbering": 1,
   "nav_menu": {},
   "number_sections": true,
   "sideBar": true,
   "skip_h1_title": false,
   "title_cell": "Table of Contents",
   "title_sidebar": "Contents",
   "toc_cell": false,
   "toc_position": {},
   "toc_section_display": true,
   "toc_window_display": false
  },
  "varInspector": {
   "cols": {
    "lenName": 16,
    "lenType": 16,
    "lenVar": 40
   },
   "kernels_config": {
    "python": {
     "delete_cmd_postfix": "",
     "delete_cmd_prefix": "del ",
     "library": "var_list.py",
     "varRefreshCmd": "print(var_dic_list())"
    },
    "r": {
     "delete_cmd_postfix": ") ",
     "delete_cmd_prefix": "rm(",
     "library": "var_list.r",
     "varRefreshCmd": "cat(var_dic_list()) "
    }
   },
   "types_to_exclude": [
    "module",
    "function",
    "builtin_function_or_method",
    "instance",
    "_Feature"
   ],
   "window_display": false
  }
 },
 "nbformat": 4,
 "nbformat_minor": 5
}
