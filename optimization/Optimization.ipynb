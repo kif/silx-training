{
 "cells": [
  {
   "cell_type": "markdown",
   "metadata": {
    "slideshow": {
     "slide_type": "slide"
    }
   },
   "source": [
    "# Optimization of compute bound Python code \n",
    "\n",
    "## Layout:\n",
    "\n",
    "* Foreword about optimization and profiling:\n",
    "    - No optimisation without profiling\n",
    "    - No benchmarking without tests\n",
    "* Presentation of the example:\n",
    "    - Square crystal: demonstration\n",
    "    - Relaxed circular crystal: exercise\n",
    "* `Python` version:\n",
    "    - code with loops à la `FORTRAN`\n",
    "    - Bottleneck search\n",
    "* `Numpy` vectorized version:\n",
    "    - Limits of vectorization: cache sizes\n",
    "[...]"
   ]
  },
  {
   "cell_type": "markdown",
   "metadata": {
    "slideshow": {
     "slide_type": "subslide"
    }
   },
   "source": [
    "* `Numexpr` compiler for mathematical formula\n",
    "    - Single and multi-threaded evaluation\n",
    "    - Limits of `numexpr`\n",
    "* `Numba`: just in time compilation of numerical code\n",
    "    - Decoration of function\n",
    "    - Type annotation\n",
    "    - Limits of `numba`\n",
    "* `Cython`: ahead of time compilation\n",
    "    - `Cython` usage within `Jupyter`\n",
    "    - Annotated compilation \n",
    "    - Single threaded performances\n",
    "    - Parallelization with OpenMP\n",
    "    - Mixing extensions with Python threads\n",
    "* Conclusions:\n",
    "    - Only addresses CPU-bound issues, not I/O issues\n",
    "    - If your problem is still compute-bound, then move to GPU"
   ]
  },
  {
   "cell_type": "markdown",
   "metadata": {
    "slideshow": {
     "slide_type": "subslide"
    }
   },
   "source": [
    "## Definitions:\n",
    "* In computer science, software **optimization** is the process of modifying a software system to make some aspect of it work more efficiently or use fewer resources.[[Wikipedia](https://en.wikipedia.org/wiki/Program_optimization)]\n",
    "* In software engineering, software **profiling** is a form of dynamic program analysis that measures, for example, the space (memory) or time complexity of a program, the usage of particular instructions, or the frequency and duration of function calls. Most commonly, profiling information serves to aid program optimization, and more specifically, performance engineering. [[Wikipedia](https://en.wikipedia.org/wiki/Profiling_%28computer_programming%29)]\n",
    "* Regression **testing** is re-running functional and non-functional tests to ensure that previously developed and tested software still performs after a change. If not, that would be called a regression. [[Wikipedia](https://en.wikipedia.org/wiki/Regression_testing)]"
   ]
  },
  {
   "cell_type": "markdown",
   "metadata": {
    "slideshow": {
     "slide_type": "subslide"
    }
   },
   "source": [
    "## Methodology:\n",
    "\n",
    "1. **Make your algorithm work**, regardless how you implement it.\n",
    "2. Make it right and ensure it is right before writing **non-regression tests**.\n",
    "3. **Benchmark** it. \n",
    "4. If it fast enough, goto 9.\n",
    "5. **Profile** it to see where most of the time is spent.\n",
    "6. **Optimize** your code where most time is spent. \n",
    "7. **Check** non-regression tests are still passing:\n",
    "   * Fast algorithms giving wrong answers are useless!\n",
    "8. **Loop** to 3.\n",
    "9. Your work is **done** and you deserve a beer\n",
    "\n",
    "**Premature optimization is the root of all evil (or at least most of it) in programming.** *Donald Knuth*"
   ]
  },
  {
   "cell_type": "markdown",
   "metadata": {
    "slideshow": {
     "slide_type": "subslide"
    }
   },
   "source": [
    "## Profiling in Python\n",
    "\n",
    "The standard library of *Python* contains the `cProfile` module which collects information about the running code. It is a *C* version of the `profile` module.\n",
    "\n",
    "Profile results can be analyzed with the `pstats` module or exernal programs like [**RunSnakeRun**](http://www.vrplumber.com/programming/runsnakerun/), [**SnakeViz**](https://jiffyclub.github.io/snakeviz/) or [**kcachegrind**](https://kcachegrind.github.io/) (using [pyprof2calltree](https://pypi.org/project/pyprof2calltree/) converter). \n",
    "\n",
    "Profiling induces slow-down, it should be distinguished from *benchmarking* which measures the actual performances.\n",
    "\n",
    "Here is the link to the official python documentation: https://docs.python.org/3/library/profile.html"
   ]
  },
  {
   "cell_type": "code",
   "execution_count": 1,
   "metadata": {
    "slideshow": {
     "slide_type": "subslide"
    }
   },
   "outputs": [
    {
     "name": "stdout",
     "output_type": "stream",
     "text": [
      "         3000109 function calls in 0.850 seconds\n",
      "\n",
      "   Ordered by: internal time\n",
      "\n",
      "   ncalls  tottime  percall  cumtime  percall filename:lineno(function)\n",
      "        1    0.618    0.618    0.849    0.849 <ipython-input-1-bd2ff54b70bf>:5(<module>)\n",
      "  1000000    0.113    0.000    0.113    0.000 {built-in method math.atan2}\n",
      "  1000000    0.065    0.000    0.065    0.000 {built-in method math.sqrt}\n",
      "  1000000    0.053    0.000    0.053    0.000 {method 'append' of 'list' objects}\n",
      "        5    0.000    0.000    0.000    0.000 {built-in method builtins.compile}\n",
      "        5    0.000    0.000    0.849    0.170 interactiveshell.py:3293(run_code)\n",
      "        5    0.000    0.000    0.000    0.000 codeop.py:132(__call__)\n",
      "        5    0.000    0.000    0.000    0.000 contextlib.py:82(__init__)\n",
      "       10    0.000    0.000    0.000    0.000 compilerop.py:138(extra_flags)\n",
      "        5    0.000    0.000    0.000    0.000 hooks.py:103(__call__)\n",
      "        5    0.000    0.000    0.000    0.000 contextlib.py:117(__exit__)\n",
      "        5    0.000    0.000    0.000    0.000 contextlib.py:108(__enter__)\n",
      "        5    0.000    0.000    0.849    0.170 {built-in method builtins.exec}\n",
      "        5    0.000    0.000    0.000    0.000 contextlib.py:238(helper)\n",
      "       10    0.000    0.000    0.000    0.000 {built-in method builtins.next}\n",
      "        5    0.000    0.000    0.000    0.000 traitlets.py:545(__get__)\n",
      "        5    0.000    0.000    0.000    0.000 interactiveshell.py:3231(compare)\n",
      "       10    0.000    0.000    0.000    0.000 {built-in method builtins.getattr}\n",
      "        5    0.000    0.000    0.000    0.000 traitlets.py:526(get)\n",
      "        5    0.000    0.000    0.000    0.000 ipstruct.py:125(__getattr__)\n",
      "        1    0.000    0.000    0.000    0.000 <ipython-input-1-bd2ff54b70bf>:9(<module>)\n",
      "        5    0.000    0.000    0.000    0.000 interactiveshell.py:1276(user_global_ns)\n",
      "        5    0.000    0.000    0.000    0.000 hooks.py:168(pre_run_code_hook)\n",
      "        1    0.000    0.000    0.000    0.000 <ipython-input-1-bd2ff54b70bf>:4(<module>)\n",
      "        1    0.000    0.000    0.000    0.000 {method 'disable' of '_lsprof.Profiler' objects}\n",
      "\n",
      "\n"
     ]
    }
   ],
   "source": [
    "import math, cProfile\n",
    "prf = cProfile.Profile()\n",
    "prf.enable() # Start of the profiled section:\n",
    "size = 1000000; distance = 1; tth = []\n",
    "for i in range(size):\n",
    "    x_i = size//1000/1000\n",
    "    y_i = size%1000/1000\n",
    "    tth.append(math.atan2(math.sqrt(x_i**2 + y_i**2), distance))\n",
    "prf.disable() #End of section:\n",
    "prf.dump_stats(\"profile.log\"); prf.print_stats(sort=1) # Save / display some results"
   ]
  },
  {
   "cell_type": "markdown",
   "metadata": {
    "slideshow": {
     "slide_type": "subslide"
    }
   },
   "source": [
    "Example of visualization of the profiling with **runSnakeRun** or **SnakeViz**. Equivalent visualization is available from the other tools.\n",
    "\n",
    "This is the typical way of using the Python profiler. Another way to use it is to invoque it when starting the process:\n",
    "\n",
    "`python -m cProfile -o profile.log myscript.py`\n"
   ]
  },
  {
   "cell_type": "code",
   "execution_count": 2,
   "metadata": {
    "slideshow": {
     "slide_type": "fragment"
    }
   },
   "outputs": [],
   "source": [
    "#!snakeviz profile.log"
   ]
  },
  {
   "cell_type": "markdown",
   "metadata": {
    "slideshow": {
     "slide_type": "subslide"
    }
   },
   "source": [
    "# Jupyter magic functions for profiling\n",
    "\n",
    "Line magics:\n",
    "\n",
    "* `%time`: measure the time to run one statement/function call, once\n",
    "* `%timeit`: measure in benchmarking mode (many repetitions, garbage collector disabled)\n",
    "* `%prun`: run command within the profiler\n",
    "* `%lprun`: run with the line-profiler active\n",
    "* `%memit`: check for memory allocations\n",
    "* `%mprun`: run with memory profile, line per line\n",
    "\n",
    "All those functions can be used with `%%` to apply to the full cell instead of a single command.\n",
    "    \n",
    "Mind to ask for their help ... sometimes they have multiple options `%timeit?`"
   ]
  },
  {
   "cell_type": "code",
   "execution_count": 3,
   "metadata": {
    "slideshow": {
     "slide_type": "fragment"
    }
   },
   "outputs": [],
   "source": [
    "%timeit?"
   ]
  },
  {
   "cell_type": "code",
   "execution_count": 4,
   "metadata": {
    "slideshow": {
     "slide_type": "subslide"
    }
   },
   "outputs": [],
   "source": [
    "# Description of the system:\n",
    "import os\n",
    "import cpuinfo\n",
    "if hasattr(os, 'shed_getaffinity'):  # Some Unix only\n",
    "    # Get the number of cores the Python process has access to\n",
    "    # This provides the number of cores requested in SLURM\n",
    "    n_cpu = len(os.sched_getaffinity(0))\n",
    "else:\n",
    "    n_cpu = os.cpu_count()\n",
    "n_total_cpu = os.cpu_count()\n",
    "print(f\"We can use {n_cpu} out of the {n_total_cpu} cores of the computer\")\n",
    "# Limit the number of cores we use to at most 8\n",
    "n_cpu = min(8, n_cpu); print(f\"We are using only {n_cpu} cores\") \n",
    "for key, val in cpuinfo.get_cpu_info().items():\n",
    "    if \"cache_size\" in key:\n",
    "        print(key, val)"
   ]
  },
  {
   "cell_type": "markdown",
   "metadata": {
    "slideshow": {
     "slide_type": "slide"
    }
   },
   "source": [
    "## Two-dimensional Laue function example\n",
    "\n",
    "All this training is based on the same example: 2D diffraction from a finite size crystallite given by Laue function:\n",
    "\n",
    "$$ I(H,K) = \\left | \\sum_{n=0}^{N-1} \\sum_{m=0}^{N-1} \\exp \\left [ 2 \\pi i \\left ( H n + K m \\right ) \\right ] \\right| ^2 $$\n",
    "\n",
    "This equation describes the scattering from square crystal:\n",
    "\n",
    "- **N** is the number of unit cells of the crystal in both directions\n",
    "- **n** and **m** are the indices of the unit-cell in each direction (**real space** coordinates),\n",
    "- **H** and **K** are the continuous Miller indices (**reciprocal space** coordinates)."
   ]
  },
  {
   "cell_type": "code",
   "execution_count": null,
   "id": "laughing-retreat",
   "metadata": {},
   "outputs": [],
   "source": [
    "import numpy as np\n",
    "import cmath\n",
    "\n",
    "def laue(N, H, K):\n",
    "    \"\"\"Laue formulae for a square crystal with N unit cells given H, K coordinate\"\"\"\n",
    "    tmp = 0.0\n",
    "    for n in range(N):  # loop and sum over unit-cells\n",
    "        for m in range(N):\n",
    "            tmp += cmath.exp(2j*np.pi*(H*n + K*m))\n",
    "    return abs(tmp)**2\n",
    "\n",
    "laue(N=32, H=0, K=4)"
   ]
  },
  {
   "cell_type": "markdown",
   "id": "fluid-sampling",
   "metadata": {},
   "source": [
    "To build an image of the diffraction peak, the continuous Miller indices are sampled in the neighborhood of **H**, **K**:\n",
    "\n",
    "- $h \\in [H-0.5,H+0.5]$\n",
    "- $k \\in [K-0.5,K+0.5]$\n",
    "\n",
    "With $oversampling * N$ samples on each direction, where:\n",
    "\n",
    "- **N** is the number of unit cells of the crystal in both directions\n",
    "- **oversampling** defines how much points are needed to describe a single Laue fringe (2 = Nyquist frequency)\n",
    "\n",
    "![bragg peak](square_crystal_bragg_peak.png)\n",
    "\n",
    "This example is derived from: https://journals.iucr.org/j/issues/2019/04/00/gj5229/gj5229.pdf"
   ]
  },
  {
   "cell_type": "code",
   "execution_count": 5,
   "metadata": {
    "slideshow": {
     "slide_type": "subslide"
    }
   },
   "outputs": [],
   "source": [
    "%matplotlib inline \n",
    "# This is for plotting\n",
    "import math\n",
    "import cmath\n",
    "import numpy as np\n",
    "from matplotlib.pyplot import subplots\n",
    "from matplotlib.colors import LogNorm"
   ]
  },
  {
   "cell_type": "code",
   "execution_count": 6,
   "metadata": {
    "slideshow": {
     "slide_type": "subslide"
    }
   },
   "outputs": [],
   "source": [
    "# Some constants valid for all calculation\n",
    "# Miller index of reflection\n",
    "H = 0 \n",
    "# Miller index of reflection\n",
    "K = 4 \n",
    "# Number of unit cells per direction\n",
    "N = 32 \n",
    "# Defines how much points are needed to describe a single Laue fringe (2 = Nyquist frequency)\n",
    "oversampling = 3\n",
    "\n",
    "# Generate real and reciprocal space coordinates\n",
    "n = np.arange(N)\n",
    "m = np.arange(N)\n",
    "h = np.arange(H-0.5, H+0.5, 1./(oversampling*N))\n",
    "k = np.arange(K-0.5, K+0.5, 1./(oversampling*N))"
   ]
  },
  {
   "cell_type": "code",
   "execution_count": 7,
   "metadata": {
    "slideshow": {
     "slide_type": "subslide"
    }
   },
   "outputs": [
    {
     "name": "stdout",
     "output_type": "stream",
     "text": [
      "CPU times: user 4.95 s, sys: 2.82 ms, total: 4.95 s\n",
      "Wall time: 4.95 s\n"
     ]
    }
   ],
   "source": [
    "def Laue_python(N, h, k):\n",
    "    result = np.zeros((h.size, k.size))\n",
    "    for i_h, v_h in enumerate(h):  # loop over the reciprocal space coordinates\n",
    "        for i_k, v_k in enumerate(k):\n",
    "            tmp = 0.0\n",
    "            for n in range(N):  # loop and sum over unit-cells\n",
    "                for m in range(N):\n",
    "                    tmp += cmath.exp(2j*np.pi*(v_h*n + v_k*m))\n",
    "            result[i_h, i_k] = abs(tmp)**2\n",
    "    return result\n",
    "\n",
    "#Compute\n",
    "%time square_intensity = Laue_python(N, h, k)"
   ]
  },
  {
   "cell_type": "code",
   "execution_count": 7,
   "id": "unauthorized-breast",
   "metadata": {
    "slideshow": {
     "slide_type": "subslide"
    }
   },
   "outputs": [
    {
     "data": {
      "image/png": "[encoded data removed]",
      "text/plain": [
       "<Figure size 720x360 with 2 Axes>"
      ]
     },
     "metadata": {
      "needs_background": "light"
     },
     "output_type": "display_data"
    }
   ],
   "source": [
    "# Visualization of the reference images\n",
    "fig, ax = subplots(1,2, figsize=(10,5))\n",
    "fig.suptitle(\"Bragg peak\")\n",
    "ax[0].imshow(np.load(\"reference_sq.npy\").T, extent=(h.min(), h.max(), k.min(), k.max()), norm=LogNorm(), origin = 'lower')\n",
    "ax[0].set_xlabel('H')\n",
    "ax[0].set_ylabel('K')\n",
    "ax[0].set_title(f\"Square crystal {N}x{N}\")\n",
    "ax[1].imshow(np.load(\"reference_ci.npy\").T, extent=(h.min(), h.max(), k.min(), k.max()), norm=LogNorm(), origin = 'lower')\n",
    "ax[1].set_xlabel('H')\n",
    "ax[1].set_ylabel('K')\n",
    "ax[1].set_title(f\"Circular crystal {N}x{N}\")\n",
    "pass"
   ]
  },
  {
   "cell_type": "markdown",
   "metadata": {
    "slideshow": {
     "slide_type": "subslide"
    }
   },
   "source": [
    "### Validation of optimization\n",
    "\n",
    "Code optimization should always be performed with some tests to ensure the speed-up obtained is not degrading the numerical quality !"
   ]
  },
  {
   "cell_type": "code",
   "execution_count": 9,
   "metadata": {
    "slideshow": {
     "slide_type": "fragment"
    }
   },
   "outputs": [
    {
     "name": "stdout",
     "output_type": "stream",
     "text": [
      "Error measured: 4.218847493575595e-15\n",
      "4.86 s ± 57.3 ms per loop (mean ± std. dev. of 7 runs, 1 loop each)\n"
     ]
    }
   ],
   "source": [
    "def validate_sq(result):\n",
    "    \"Return the error value\"\n",
    "    reference = np.load(\"reference_sq.npy\")\n",
    "    return abs(reference-result).max()/reference.max()\n",
    "\n",
    "def validate_ci(result):\n",
    "    \"Return the error value (for exercises)\"\n",
    "    reference = np.load(\"reference_ci.npy\")\n",
    "    return abs(np.array(reference)-result).max()/reference.max()\n",
    "\n",
    "def display(result):\n",
    "    \"Display the array\"\n",
    "    fig, ax = subplots()\n",
    "    fig.suptitle(\"Bragg peak\")\n",
    "    ax.imshow(result.T, extent=(h.min(), h.max(), k.min(), k.max()), norm=LogNorm(), origin = 'lower')\n",
    "    ax.set_xlabel('H');ax.set_ylabel('K')\n",
    "    ax.set_title(f\"Crystal {N}x{N}\")\n",
    "    \n",
    "print(\"Error measured:\", validate_sq(square_intensity))  # Validation of the result:\n",
    "perf_sq_python = %timeit -o Laue_python(N, h, k)      # Measure performances of the Python implementation"
   ]
  },
  {
   "cell_type": "code",
   "execution_count": 10,
   "metadata": {
    "slideshow": {
     "slide_type": "subslide"
    }
   },
   "outputs": [
    {
     "name": "stdout",
     "output_type": "stream",
     "text": [
      " \n",
      "*** Profile stats marshalled to file 'square.log'. \n"
     ]
    }
   ],
   "source": [
    "# Run a function in the Python profiler ...\n",
    "%prun -D square.log Laue_python(N, h, k)"
   ]
  },
  {
   "cell_type": "code",
   "execution_count": 11,
   "metadata": {
    "slideshow": {
     "slide_type": "fragment"
    }
   },
   "outputs": [],
   "source": [
    "# Line profiler:\n",
    "%load_ext line_profiler\n",
    "%lprun -f Laue_python Laue_python(N, h, k)"
   ]
  },
  {
   "cell_type": "code",
   "execution_count": 12,
   "metadata": {
    "slideshow": {
     "slide_type": "fragment"
    }
   },
   "outputs": [
    {
     "name": "stdout",
     "output_type": "stream",
     "text": [
      "peak memory: 126.38 MiB, increment: 0.22 MiB\n"
     ]
    }
   ],
   "source": [
    "#Memory profiler\n",
    "%load_ext memory_profiler\n",
    "%memit Laue_python(N, h, k)"
   ]
  },
  {
   "cell_type": "markdown",
   "metadata": {
    "slideshow": {
     "slide_type": "slide"
    }
   },
   "source": [
    "## Exercise\n",
    "\n",
    "\n",
    "### Circular crystal\n",
    "\n",
    "Let's first consider the case of a **circular** crystal rather than a square:\n",
    "\n",
    "1. Write a function generating the diffraction from a **circular** 2D crystal without strain.\n",
    "   The previous formula then becomes:\n",
    "\n",
    "   $$ I(H,K) = \\left | \\sum_{n=0}^{N-1} \\sum_{m=0}^{N-1} \\Omega \\left (n,m \\right ) \\exp \\left [ 2 \\pi i \\left ( H n + K m \\right ) \\right ] \\right | ^2$$\n",
    "\n",
    "   With $R=N/2$ the radius of the disk, the support function $\\Omega\\left (n,m \\right )$ is defined as: \n",
    "     * $ \\Omega \\left (n,m \\right ) = 0$  where $(n-N/2)^2+(m-N/2)^2>(N/2)^2$\n",
    "     * $ \\Omega \\left (n,m \\right ) = 1$  where $(n-N/2)^2+(m-N/2)^2 \\leq (N/2)^2$\n",
    "\n",
    "\n",
    "2. How do these modifications affect the result? the execution speed?"
   ]
  },
  {
   "cell_type": "code",
   "execution_count": 42,
   "id": "standing-photographer",
   "metadata": {},
   "outputs": [],
   "source": [
    "# Miller index of reflection\n",
    "H = 0\n",
    "# Miller index of reflection\n",
    "K = 4\n",
    "# Number of unit cells per direction\n",
    "N = 32\n",
    "# Defines how much points are needed to describe a single Laue fringe (2 = Nyquist frequency)\n",
    "oversampling = 3\n",
    "\n",
    "# Radius of the crystal\n",
    "R = N/2\n",
    "\n",
    "# Generate real and reciprocal space coordinates\n",
    "n = np.arange(N)\n",
    "m = np.arange(N)\n",
    "h = np.arange(H-0.5, H+0.5, 1./(oversampling*N))\n",
    "k = np.arange(K-0.5, K+0.5, 1./(oversampling*N))"
   ]
  },
  {
   "cell_type": "code",
   "execution_count": null,
   "id": "animal-decrease",
   "metadata": {},
   "outputs": [],
   "source": [
    "def Circ_python_1(N, h, k):\n",
    "    pass"
   ]
  },
  {
   "cell_type": "code",
   "execution_count": 46,
   "id": "latest-identity",
   "metadata": {
    "slideshow": {
     "slide_type": "skip"
    }
   },
   "outputs": [],
   "source": [
    "%time intensity_circle = Circ_python_1(N, h, k)\n",
    "print(\"Error:\", validate_ci(intensity_circle))\n",
    "display(intensity_circle)"
   ]
  },
  {
   "cell_type": "markdown",
   "id": "quiet-creation",
   "metadata": {
    "slideshow": {
     "slide_type": "subslide"
    }
   },
   "source": [
    "### Strained circular crystal\n",
    "\n",
    "Let's consider the case where the circular crystal atoms are not perfectly ordered (**strain**).\n",
    "\n",
    "**Strain** implies that unit-cells are shifted from their regular position according to $\\overrightarrow{r'_i} = \\overrightarrow{r_i} + \\overrightarrow{\\Delta r_i}$, where $\\overrightarrow{\\Delta r_i}$ is the displacement for the cell *i*.\n",
    "For the case of a circular crystal, a function describing a progressive dilatation when moving from the center towards the periphery. \n",
    "It can be written:\n",
    "\n",
    "$$  \\overrightarrow{\\Delta r}(\\overrightarrow{r}) = e_{0} \\overrightarrow{r} (1 + tanh(\\frac{r-R}{w})) $$\n",
    "where:\n",
    "\n",
    "- $\\overrightarrow{\\Delta r}(\\overrightarrow{r})$ is the displacement of the unit-cell located at a distance $r$ from the crystal center,\n",
    "- $R=N/2$ is the radius of the disk,\n",
    "- $e_0$ is the maximum strain,\n",
    "- $w$ is a parameter describing the width of the displacement profile (for small values of $w$ the strain is confined at the periphery of the crystal, whereas large values also affect the interior of the crystal)."
   ]
  },
  {
   "cell_type": "markdown",
   "id": "designed-amount",
   "metadata": {},
   "source": [
    "The previous formula then becomes:\n",
    "\n",
    "$$ I(H,K) = \\left | \\sum_{n=0}^{N-1} \\sum_{m=0}^{N-1} \\Omega \\left (n,m \\right ) \\exp \\left \\{ 2 \\pi i \\left [ H \\left (n + \\Delta n_{n,m}\\right )+ K \\left (m + \\Delta m_{n,m}\\right ) \\right ] \\right \\} \\right | ^2$$"
   ]
  },
  {
   "cell_type": "markdown",
   "id": "committed-sodium",
   "metadata": {},
   "source": [
    "**Exercise**:\n",
    "\n",
    "1. Modify the function to take into account the displacement induced by the strain.\n",
    "2. How do thess modifications affect the result? the execution speed? Store the timimg in `perf_ci_python`"
   ]
  },
  {
   "cell_type": "code",
   "execution_count": 35,
   "id": "introductory-matthew",
   "metadata": {},
   "outputs": [],
   "source": [
    "# Miller index of reflection\n",
    "H = 0 \n",
    "# Miller index of reflection\n",
    "K = 4 \n",
    "# Number of unit cells per direction\n",
    "N = 32 \n",
    "# Defines how much points are needed to describe a single Laue fringe (2 = Nyquist frequency)\n",
    "oversampling = 3\n",
    "\n",
    "# Maximum strain at surface\n",
    "e0 = 0.01 \n",
    "# Width of the strain profile below the surface\n",
    "w = 5.\n",
    "\n",
    "# Generate real and reciprocal space coordinates\n",
    "n = np.arange(N)\n",
    "m = np.arange(N)\n",
    "h = np.arange(H-0.5, H+0.5, 1./(oversampling*N))\n",
    "k = np.arange(K-0.5, K+0.5, 1./(oversampling*N))"
   ]
  },
  {
   "cell_type": "code",
   "execution_count": 36,
   "id": "dress-circle",
   "metadata": {
    "slideshow": {
     "slide_type": "subslide"
    }
   },
   "outputs": [
    {
     "data": {
      "image/png": "[encoded data removed]",
      "text/plain": [
       "<Figure size 432x288 with 1 Axes>"
      ]
     },
     "metadata": {
      "needs_background": "light"
     },
     "output_type": "display_data"
    }
   ],
   "source": [
    "# Displacement of atoms as function of the radius\n",
    "def delta(radius, crystal_radius, strain_width):\n",
    "    \"\"\"Displacement of atoms as function of the radius\"\"\"\n",
    "    return 1 + np.tanh((radius - crystal_radius) / strain_width)\n",
    "\n",
    "fig, ax = subplots()\n",
    "x = np.linspace(0, N/2, 1000)\n",
    "ax.plot(x, delta(x, N/2, w))\n",
    "ax.set_xlabel(\"Radius\")\n",
    "ax.set_ylabel(\"Displacement\")\n",
    "t = ax.set_title(\"Strain as function of radius\")"
   ]
  },
  {
   "cell_type": "code",
   "execution_count": 81,
   "id": "caring-jewel",
   "metadata": {
    "slideshow": {
     "slide_type": "skip"
    }
   },
   "outputs": [],
   "source": [
    "def Circ_python(N, h, k):\n",
    "    pass"
   ]
  },
  {
   "cell_type": "code",
   "execution_count": null,
   "id": "medieval-europe",
   "metadata": {},
   "outputs": [],
   "source": [
    "%time intensity_circle = Circ_python(N, h, k)\n",
    "display(intensity_circle)\n",
    "perf_ci_python = %timeit -o Circ_python(N, h, k)"
   ]
  },
  {
   "cell_type": "markdown",
   "metadata": {
    "slideshow": {
     "slide_type": "subslide"
    }
   },
   "source": [
    "**Exercise:** Profile your strained crystal diffraction with `%prun` and `%lprun` and `%memit`."
   ]
  },
  {
   "cell_type": "code",
   "execution_count": 17,
   "metadata": {
    "slideshow": {
     "slide_type": "skip"
    }
   },
   "outputs": [
    {
     "name": "stdout",
     "output_type": "stream",
     "text": [
      " \n",
      "*** Profile stats marshalled to file 'circle.log'. \n"
     ]
    }
   ],
   "source": [
    "%prun -D circle.log Circ_python(N, h, k)"
   ]
  },
  {
   "cell_type": "code",
   "execution_count": 18,
   "metadata": {
    "slideshow": {
     "slide_type": "skip"
    }
   },
   "outputs": [],
   "source": [
    "%lprun -f Circ_python Circ_python(N, h, k)"
   ]
  },
  {
   "cell_type": "code",
   "execution_count": 19,
   "metadata": {
    "slideshow": {
     "slide_type": "skip"
    }
   },
   "outputs": [
    {
     "name": "stdout",
     "output_type": "stream",
     "text": [
      "peak memory: 132.70 MiB, increment: 0.09 MiB\n"
     ]
    }
   ],
   "source": [
    "%memit Circ_python(N, h, k)"
   ]
  },
  {
   "cell_type": "markdown",
   "metadata": {
    "slideshow": {
     "slide_type": "slide"
    }
   },
   "source": [
    "## Optimization with `NumPy`\n",
    "\n",
    "Python is a dynamic language and is known to be pretty inefficient when looping over large datasets.\n",
    "The `numpy` library offers vectorial notation which avoids those loops.\n",
    "\n",
    "### Square crystal implemented with `NumPy`\n",
    "\n",
    "This is how this code looks like once fully vectorized with `NumPy`:"
   ]
  },
  {
   "cell_type": "code",
   "execution_count": 20,
   "metadata": {},
   "outputs": [],
   "source": [
    "def Laue_numpy(N, h, k):\n",
    "    h = h.reshape(-1, 1, 1, 1)\n",
    "    k = k.reshape(1, -1, 1, 1)\n",
    "    n = np.arange(N).reshape(1, 1, -1, 1)\n",
    "    m = np.arange(N).reshape(1, 1, 1, -1)\n",
    "    return np.abs(\n",
    "        np.sum(\n",
    "            np.exp(2j * np.pi * (h*n + k*m)),\n",
    "            axis=(2, 3),\n",
    "        )\n",
    "    )**2"
   ]
  },
  {
   "cell_type": "code",
   "execution_count": 58,
   "id": "referenced-junction",
   "metadata": {},
   "outputs": [
    {
     "name": "stdout",
     "output_type": "stream",
     "text": [
      "CPU times: user 321 ms, sys: 24 ms, total: 345 ms\n",
      "Wall time: 344 ms\n",
      "Error: 0.0\n",
      "333 ms ± 455 µs per loop (mean ± std. dev. of 7 runs, 1 loop each)\n"
     ]
    }
   ],
   "source": [
    "# Compute and check error\n",
    "%time intensity = Laue_numpy(N, h, k)\n",
    "print(\"Error:\", validate_sq(intensity))\n",
    "perf_sq_numpy = %timeit -o Laue_numpy(N, h, k)"
   ]
  },
  {
   "cell_type": "markdown",
   "id": "familiar-float",
   "metadata": {
    "slideshow": {
     "slide_type": "fragment"
    }
   },
   "source": [
    "The first striking observation is that the code is much more concise: it can fit in a single line.\n",
    "\n",
    "It is also much clearer being shorter and with a syntax similar to the provided formula:\n",
    "\n",
    "$$ I(H,K) = \\left | \\sum_{n=0}^{N-1} \\sum_{m=0}^{N-1} \\exp \\left [ 2 \\pi i \\left ( H n + K m \\right ) \\right ] \\right| ^2 $$\n",
    "\n",
    "Lines 2-5 add new (empty) dimensions to the input arrays. With this transformation the calculation of `h*n + k*m` actually returns a 4-dimensional array. This important feature of NumPy is known as [**broadcasting**](https://numpy.org/doc/stable/reference/ufuncs.html#broadcasting). \n",
    "\n",
    "The exponential then operates on all cells of this array.\n",
    "\n",
    "The sum over the real-space coordinates is performed using numpy's `sum()` function: the `axis=(2, 3)` argument designates the fact that the summation has to be performed over the last two dimensions of the array that contain the real space variables.\n",
    "\n",
    "Besides the cleaner syntax, this implementation is also much faster than Python code."
   ]
  },
  {
   "cell_type": "code",
   "execution_count": 46,
   "id": "interior-internet",
   "metadata": {},
   "outputs": [
    {
     "name": "stdout",
     "output_type": "stream",
     "text": [
      "a = [1 2 3]\n",
      "b = [[1]\n",
      " [2]\n",
      " [3]]\n",
      "a*b = [[1 2 3]\n",
      " [2 4 6]\n",
      " [3 6 9]]\n"
     ]
    }
   ],
   "source": [
    "# Broadcasing example\n",
    "a = np.array([1, 2, 3])\n",
    "b = a.reshape(-1, 1)\n",
    "print('a =', a)\n",
    "print('b =', b)\n",
    "print('a*b =', a*b)"
   ]
  },
  {
   "cell_type": "markdown",
   "id": "dynamic-richardson",
   "metadata": {
    "slideshow": {
     "slide_type": "fragment"
    }
   },
   "source": [
    "### Exercise\n",
    "\n",
    "1. Implement the strained crystal diffraction using `NumPy` ([Documentation](https://numpy.org/doc/stable/reference/index.html)).\n",
    "2. Profile the code and store the timings in `perf_ci_numpy`."
   ]
  },
  {
   "cell_type": "code",
   "execution_count": 22,
   "metadata": {
    "slideshow": {
     "slide_type": "skip"
    }
   },
   "outputs": [],
   "source": [
    "def Circ_numpy(N, h, k):\n",
    "    pass"
   ]
  },
  {
   "cell_type": "code",
   "execution_count": 46,
   "id": "interior-internet",
   "metadata": {},
   "outputs": [],
   "source": [
    "#Compute and check error\n",
    "%time intensity = Circ_numpy(N, h, k)\n",
    "print(\"Error:\", validate_ci(intensity))\n",
    "perf_ci_numpy = %timeit -o Circ_numpy(N, h, k)"
   ]
  },
  {
   "cell_type": "markdown",
   "metadata": {
    "slideshow": {
     "slide_type": "subslide"
    }
   },
   "source": [
    "### Limits of `numpy`'s vectorization\n",
    "\n",
    "When calculating expression like `a+2*b+5*c+a*b`, each individual operation creates a new temporary array where all results of each binary operation are stored. This can be an issue when the number of operands is large and that those temporary arrays are larger than the cache of the processor. Those temporary arrays need to go back to central memory before starting next operation and this is bad for performances."
   ]
  },
  {
   "cell_type": "code",
   "execution_count": 23,
   "metadata": {
    "slideshow": {
     "slide_type": "fragment"
    }
   },
   "outputs": [
    {
     "name": "stdout",
     "output_type": "stream",
     "text": [
      "Size of the intermediate array: 144.00 MiB\n"
     ]
    }
   ],
   "source": [
    "#Importance of the cache:\n",
    "def tmp_numpy(N, h, k):\n",
    "    h = h.reshape(-1, 1, 1, 1)\n",
    "    k = k.reshape(1, -1, 1, 1)\n",
    "    n = np.arange(N).reshape(1, 1, -1, 1)\n",
    "    m = np.arange(N).reshape(1, 1, 1, -1)\n",
    "    return np.exp(2j*np.pi*(h*n + k*m))\n",
    "print(f\"Size of the intermediate array: {tmp_numpy(N,h,k).nbytes/2**20:.2f} MiB\")"
   ]
  },
  {
   "cell_type": "code",
   "execution_count": 24,
   "metadata": {
    "slideshow": {
     "slide_type": "fragment"
    }
   },
   "outputs": [
    {
     "name": "stdout",
     "output_type": "stream",
     "text": [
      "peak memory: 397.38 MiB, increment: 264.00 MiB\n"
     ]
    }
   ],
   "source": [
    "%memit Laue_numpy(N, h, k)"
   ]
  },
  {
   "cell_type": "markdown",
   "metadata": {
    "slideshow": {
     "slide_type": "slide"
    }
   },
   "source": [
    "## Multi-threading in Python\n",
    "\n",
    "Threads are lightweight processes which have all access to the process memory and have some own local memory space. \n",
    "It looks like a good idea to have different threads performing some work in parallel to use the multi-cores of our modern processors. \n",
    "\n",
    "Python offers access to threads via the `threading` library, and offers some more convenient tools like the `ThreadPool` from `multiprocessing.pool`, able to apply the same function to a set of different inputs. "
   ]
  },
  {
   "cell_type": "code",
   "execution_count": 25,
   "metadata": {},
   "outputs": [],
   "source": [
    "from multiprocessing.pool import ThreadPool, Pool\n",
    "from itertools import product\n",
    "\n",
    "def Laue_mt(N, h, k):\n",
    "    n = np.arange(N).reshape(-1, 1)\n",
    "    m = np.arange(N).reshape(1, -1)\n",
    "    def Laue_st(hi, ki):\n",
    "        return np.abs(np.exp(2j*np.pi*(hi*n + ki*m)).sum())**2\n",
    "    with ThreadPool(n_cpu) as pool:\n",
    "        tmp = pool.starmap(Laue_st, product(h, k))\n",
    "    return np.array(tmp).reshape(h.size, k.size)"
   ]
  },
  {
   "cell_type": "code",
   "execution_count": null,
   "id": "varying-liabilities",
   "metadata": {},
   "outputs": [],
   "source": [
    "%time intensity = Laue_mt(N, h, k)\n",
    "print(\"Error:\", validate_sq(intensity))\n",
    "perf_sq_mt = %timeit -o Laue_mt(N, h, k)\n",
    "print(f\"Speed-up {perf_sq_numpy.best/perf_sq_mt.best:6.3f}x over {n_cpu} processes\")"
   ]
  },
  {
   "cell_type": "markdown",
   "metadata": {
    "slideshow": {
     "slide_type": "fragment"
    }
   },
   "source": [
    "By running `htop` during the execution of the previous cell, one validates that many cores are used simultaneously but the execution time is much longer. The performances are ~50% worse than without threads!\n",
    "All threads are **fighting for the Global Interpreter Lock (GIL)**, i.e., they are all waiting for the GIL to be allowed to run a bit of code.\n",
    "This explains why, by going parallel, it is slower (with pure Python code)."
   ]
  },
  {
   "cell_type": "markdown",
   "metadata": {
    "slideshow": {
     "slide_type": "subslide"
    }
   },
   "source": [
    "### Introduction to the GIL\n",
    "\n",
    "Indeed, using threads looks like a good idea but turns out to be more complicated than expected.\n",
    "Having multiple threads accessing to the same Python object, possibly modifying them inplace, is dangerous. \n",
    "This is why developers of Python introduced the GIL (Global Intepreter Lock) which prevents multiple Python objects from being accessed simulaneously.\n",
    "\n",
    "The GIL is at the core of C-Python but other implementations of Python do not suffer from the GIL: PyPy, Jython or IronPython are some examples. \n",
    "For now, there is no reason to hope this will change in the future. Just learn to live with the GIL!\n",
    "\n",
    "There are two ways to work-around the GIL:\n",
    "1. Using separated processes\n",
    "2. Use GIL-free sections"
   ]
  },
  {
   "cell_type": "markdown",
   "metadata": {
    "slideshow": {
     "slide_type": "subslide"
    }
   },
   "source": [
    "#### 1. Using separated processes\n",
    "   Processes have distinct memory spaces and can run simultaneously without interfering. There is a `ProcessPool` \n",
    "   which works like the `ThreadPool` except that workers are separated processes. \n",
    "   The drawback of this method is that both the program, operands and the result should be sent to the worker and back.\n",
    "   This requires them to be **serialized** and fully self-consistent. For example the shared variables *n* and *m* are no more allowed. \n",
    "\n",
    "The next cell presents an example of implementation:"
   ]
  },
  {
   "cell_type": "code",
   "execution_count": 27,
   "metadata": {
    "slideshow": {
     "slide_type": "fragment"
    }
   },
   "outputs": [],
   "source": [
    "class LaueSP:\n",
    "    def __init__(self, N):\n",
    "        self.n = np.arange(N).reshape(1, -1)\n",
    "        self.m = np.arange(N).reshape(-1, 1)\n",
    "    def __call__(self, h, k):\n",
    "        return np.abs(np.exp(2j*np.pi*(h*self.n + k*self.m)).sum())**2\n",
    "\n",
    "def Laue_mp(N, h, k):\n",
    "    with Pool(n_cpu) as pool:\n",
    "        laue = LaueSP(N)\n",
    "        tmp = pool.starmap(laue, product(h, k))     \n",
    "    return np.array(tmp).reshape(h.size, k.size)"
   ]
  },
  {
   "cell_type": "code",
   "execution_count": 28,
   "metadata": {
    "slideshow": {
     "slide_type": "subslide"
    }
   },
   "outputs": [
    {
     "name": "stdout",
     "output_type": "stream",
     "text": [
      "CPU times: user 22.7 ms, sys: 48 ms, total: 70.7 ms\n",
      "Wall time: 138 ms\n",
      "Error: 1.1102230246251565e-16\n",
      "140 ms ± 2.19 ms per loop (mean ± std. dev. of 7 runs, 10 loops each)\n",
      "Speed-up  2.412x over 8 processes\n"
     ]
    }
   ],
   "source": [
    "%time intensity = Laue_mp(N, h, k)\n",
    "print(\"Error:\", validate_sq(intensity)) #Compute and check error\n",
    "perf_sq_mt = %timeit -o Laue_mp(N, h, k)\n",
    "print(f\"Speed-up {perf_sq_numpy.best/perf_sq_mt.best:6.3f}x over {n_cpu} processes\")"
   ]
  },
  {
   "cell_type": "markdown",
   "metadata": {
    "slideshow": {
     "slide_type": "fragment"
    }
   },
   "source": [
    "A class instance *laue* has to be used to ship the shared variable ($n$, $m$) to other processes, making the code a bit harder to read for people not used to object oriented programming (OOP).\n",
    "\n",
    "Moreover, the speed-up obtained (3) is far from the resources consumed (8), this is due to the communication overhead."
   ]
  },
  {
   "cell_type": "markdown",
   "metadata": {
    "slideshow": {
     "slide_type": "subslide"
    }
   },
   "source": [
    "#### 2. Use threads with section which are all **GIL-free**\n",
    "\n",
    "   Next section will present three tools which are all compilers able to produce parallel code which is actually run using all cores of your computer.\n",
    "   * `NumExp`: Fast numerical expression evaluator\n",
    "   * `Numba`: JIT Python compiler\n",
    "   * `Cython`: C-extensions for Python\n",
    "   \n",
    "Several other tool exists (`Pytran`, `Transonic`, ...) but won't be presented."
   ]
  },
  {
   "cell_type": "markdown",
   "metadata": {
    "slideshow": {
     "slide_type": "slide"
    }
   },
   "source": [
    "## `NumExpr` is a fast numerical expression evaluator for `NumPy`.\n",
    "\n",
    "It works best for evaluating large numerical expressions on arrays which do not fit into cache. The speed-up is typically of the order of 4-8x (may be limited by the number of cores since `numexpr` uses all cores)."
   ]
  },
  {
   "cell_type": "code",
   "execution_count": 29,
   "metadata": {
    "slideshow": {
     "slide_type": "fragment"
    }
   },
   "outputs": [
    {
     "data": {
      "text/plain": [
       "array([1., 1., 1., 1., 1., 1., 1., 1., 1., 1.])"
      ]
     },
     "execution_count": 29,
     "metadata": {},
     "output_type": "execute_result"
    }
   ],
   "source": [
    "import numexpr as ne\n",
    "ne.set_num_threads(n_cpu)  # Limit the number of threads to be used\n",
    "\n",
    "a = np.arange(10)\n",
    "ne.evaluate(\"sin(a)**2 + cos(a)**2\")"
   ]
  },
  {
   "cell_type": "markdown",
   "metadata": {
    "slideshow": {
     "slide_type": "fragment"
    }
   },
   "source": [
    "How does `NumExpr` work:\n",
    "1. Parse the mathematical expression \n",
    "2. Compile it in the Virtual Machine\n",
    "2. Split data into chunks (4096 bytes: cache friendly). Broadcasting is handled as well.\n",
    "3. Chunks can be processed in multiple threads"
   ]
  },
  {
   "cell_type": "code",
   "execution_count": 30,
   "metadata": {
    "slideshow": {
     "slide_type": "skip"
    }
   },
   "outputs": [
    {
     "name": "stdout",
     "output_type": "stream",
     "text": [
      "[(b'func_ddn', b't2', b'r1[a]', 1), (b'mul_ddd', b't2', b't2', b't2'), (b'func_ddn', b'r0', b'r1[a]', 2), (b'mul_ddd', b'r0', b'r0', b'r0'), (b'add_ddd', b'r0', b't2', b'r0')]\n"
     ]
    }
   ],
   "source": [
    "# How does NumExpr actually work ...\n",
    "nex = ne.NumExpr(\"sin(a)**2 + cos(a)**2\")\n",
    "print(ne.disassemble(nex))"
   ]
  },
  {
   "cell_type": "markdown",
   "metadata": {
    "slideshow": {
     "slide_type": "subslide"
    }
   },
   "source": [
    "### Square crystal implemented with `NumExpr`\n",
    "\n",
    "* Only the complex exponential part is implemented in `NumExpr`.\n",
    "* `NumExpr` implements efficiently the broadcast of data.\n",
    "* Reductions (sum) exists but it is not faster than `NumPy`."
   ]
  },
  {
   "cell_type": "code",
   "execution_count": 80,
   "id": "passing-begin",
   "metadata": {},
   "outputs": [
    {
     "name": "stdout",
     "output_type": "stream",
     "text": [
      "Error: 0.0\n",
      "75.4 ms ± 3.25 ms per loop (mean ± std. dev. of 7 runs, 10 loops each)\n",
      "peak memory: 278.84 MiB, increment: 144.00 MiB\n"
     ]
    }
   ],
   "source": [
    "def Laue_numexpr(N, h, k):\n",
    "    h = h.reshape(-1, 1, 1, 1)\n",
    "    k = k.reshape(1, -1, 1, 1)\n",
    "    n = np.arange(N).reshape(1, 1, -1, 1)\n",
    "    m = np.arange(N).reshape(1, 1, 1, -1)\n",
    "    j2pi = np.pi*2j\n",
    "    tmp = ne.evaluate(\"exp(j2pi*(h*n + k*m))\")\n",
    "    return np.abs(np.sum(tmp, axis=(2, 3)))**2\n",
    "\n",
    "#Compute and check error\n",
    "intensity = Laue_numexpr(N, h, k)\n",
    "print(\"Error:\", validate_sq(intensity))\n",
    "perf_sq_numexpr = %timeit -o Laue_numexpr(N, h, k)\n",
    "%memit Laue_numexpr(N, h, k)"
   ]
  },
  {
   "cell_type": "code",
   "execution_count": 32,
   "metadata": {
    "slideshow": {
     "slide_type": "skip"
    }
   },
   "outputs": [
    {
     "name": "stdout",
     "output_type": "stream",
     "text": [
      "Error: 4.218847493575595e-15\n",
      "77 ms ± 1.81 ms per loop (mean ± std. dev. of 7 runs, 10 loops each)\n",
      "peak memory: 278.84 MiB, increment: 144.00 MiB\n"
     ]
    }
   ],
   "source": [
    "# Full NumExpr version ... not faster.\n",
    "def Laue_numexpr2(N, h, k):\n",
    "    h = h.reshape(-1, 1, 1, 1)\n",
    "    k = k.reshape(1, -1, 1, 1)\n",
    "    n = np.arange(N).reshape(1, 1, -1, 1)\n",
    "    m = np.arange(N).reshape(1, 1, 1, -1)\n",
    "    j2pi = np.pi*2j\n",
    "    tmp = ne.evaluate(\"exp(j2pi*(h*n + k*m))\")\n",
    "    tmp.shape = h.size, k.size, -1\n",
    "    return abs(ne.evaluate(\"sum(tmp, axis=2)\"))**2\n",
    "\n",
    "#Compute and check error\n",
    "intensity = Laue_numexpr2(N, h, k)\n",
    "print(\"Error:\", validate_sq(intensity))\n",
    "perf_sq_numexpr2 = %timeit -o Laue_numexpr2(N, h, k)\n",
    "%memit Laue_numexpr2(N, h, k)"
   ]
  },
  {
   "cell_type": "markdown",
   "metadata": {
    "slideshow": {
     "slide_type": "subslide"
    }
   },
   "source": [
    "### Exercise\n",
    "\n",
    "1. Implement the strained crystal diffraction using `NumExpr` ([User Guide](https://numexpr.readthedocs.io/projects/NumExpr3/en/latest/user_guide.html)).\n",
    "2. Profile the code and store the timings in `perf_ci_numexpr`."
   ]
  },
  {
   "cell_type": "code",
   "execution_count": 33,
   "metadata": {
    "slideshow": {
     "slide_type": "skip"
    }
   },
   "outputs": [],
   "source": [
    "def Circ_numexpr(N, h, k):\n",
    "    pass"
   ]
  },
  {
   "cell_type": "code",
   "execution_count": null,
   "id": "indian-harrison",
   "metadata": {},
   "outputs": [],
   "source": [
    "%time  intensity = Circ_numexpr(N, h, k)\n",
    "print(\"Error:\", validate_ci(intensity))\n",
    "perf_ci_numexpr = %timeit -o Circ_numexpr(N, h, k)"
   ]
  },
  {
   "cell_type": "markdown",
   "metadata": {
    "slideshow": {
     "slide_type": "subslide"
    }
   },
   "source": [
    "### Limits of `NumExpr`\n",
    "* Limited to mathematical functions\n",
    "* Limited to element-wise evaluation (reduction is under development)"
   ]
  },
  {
   "cell_type": "markdown",
   "metadata": {
    "slideshow": {
     "slide_type": "slide"
    }
   },
   "source": [
    "## `Numba`, a high performance Python compiler\n",
    "`Numba` is an open source, **Just In Time** compiler that translates a subset of `Python` and `NumPy` code into fast machine code using the `LLVM` compiler library.\n",
    "\n",
    "`Numba` provides a `jit` decorator to indicate the function should be compiled. It usually performs better on explicit loops but accepts most of the `NumPy` constructions. The `jit` decorator takes those options:\n",
    "* signature of the function\n",
    "* `nogil=True`: the function should contains not more Python construct after compilation\n",
    "* `nopython=True`: raises an exception when Python construct remains\n",
    "* `parallel=True`: enables parallel excution with `numba.prange` instead of `range`. Requires `nogil` and `nopython`"
   ]
  },
  {
   "cell_type": "code",
   "execution_count": 34,
   "metadata": {
    "slideshow": {
     "slide_type": "fragment"
    }
   },
   "outputs": [],
   "source": [
    "import numba as nb\n",
    "nb.set_num_threads(n_cpu)  # Limit the number of cores to be used"
   ]
  },
  {
   "cell_type": "code",
   "execution_count": 35,
   "metadata": {
    "slideshow": {
     "slide_type": "subslide"
    }
   },
   "outputs": [],
   "source": [
    "@nb.jit\n",
    "def test_one(a):\n",
    "    result = np.zeros(a.shape)\n",
    "    for i in range(a.size):\n",
    "        result[i] = np.cos(a[i])**2 + np.sin(a[i])**2\n",
    "    return result\n",
    "\n",
    "a = np.arange(10)\n",
    "%time test_one(a)\n",
    "%timeit test_one(a)\n",
    "test_one(a)"
   ]
  },
  {
   "cell_type": "code",
   "execution_count": null,
   "id": "widespread-flood",
   "metadata": {
    "slideshow": {
     "slide_type": "subslide"
    }
   },
   "outputs": [],
   "source": [
    "# Get the assembly code\n",
    "for key, value in test_one.inspect_asm().items():\n",
    "    print(\"Signature:\", key)\n",
    "    print(\"Machine code:\\n\",value)"
   ]
  },
  {
   "cell_type": "markdown",
   "id": "signed-router",
   "metadata": {},
   "source": [
    "### Square crystal implemented with `Numba`"
   ]
  },
  {
   "cell_type": "code",
   "execution_count": 89,
   "id": "current-playback",
   "metadata": {},
   "outputs": [
    {
     "name": "stdout",
     "output_type": "stream",
     "text": [
      "CPU times: user 1.1 s, sys: 8.58 ms, total: 1.1 s\n",
      "Wall time: 906 ms\n",
      "Error: 4.218847493575595e-15\n"
     ]
    }
   ],
   "source": [
    "@nb.jit(parallel=True)\n",
    "def Laue_numba(N, h, k):\n",
    "    result = np.zeros((h.size, k.size), dtype=np.float64)\n",
    "    for i in nb.prange(h.size):  # loop over the reciprocal space coordinates\n",
    "        for j in range(k.size):\n",
    "            tmp = 0j\n",
    "            for n in range(N):  # loop and sum over unit-cells\n",
    "                for m in range(N):\n",
    "                    tmp +=  cmath.exp(2j*np.pi*(h[i]*n + k[j]*m))\n",
    "            result[i, j] = abs(tmp)**2\n",
    "    return result\n",
    "\n",
    "#Compute and check error\n",
    "%time intensity = Laue_numba(N, h, k)\n",
    "print(\"Error:\", validate_sq(intensity))"
   ]
  },
  {
   "cell_type": "code",
   "execution_count": 38,
   "metadata": {
    "slideshow": {
     "slide_type": "fragment"
    }
   },
   "outputs": [],
   "source": [
    "perf_sq_numba = %timeit -o Laue_numba(N, h, k)"
   ]
  },
  {
   "cell_type": "code",
   "execution_count": 39,
   "metadata": {
    "slideshow": {
     "slide_type": "fragment"
    }
   },
   "outputs": [],
   "source": [
    "%memit Laue_numba(N, h, k)"
   ]
  },
  {
   "cell_type": "markdown",
   "metadata": {
    "slideshow": {
     "slide_type": "fragment"
    }
   },
   "source": [
    "### Exercise\n",
    "\n",
    "1. Implement the strained crystal diffraction using `Numba` ([Documentation](https://numba.readthedocs.io/)).\n",
    "2. Profile the code and store the timings in `perf_ci_numba`."
   ]
  },
  {
   "cell_type": "code",
   "execution_count": 40,
   "metadata": {
    "slideshow": {
     "slide_type": "skip"
    }
   },
   "outputs": [],
   "source": [
    "@nb.jit(parallel=True)\n",
    "def Circ_numba(N, h, k):\n",
    "    pass"
   ]
  },
  {
   "cell_type": "code",
   "execution_count": null,
   "id": "surprising-parameter",
   "metadata": {},
   "outputs": [],
   "source": [
    "%time intensity = Circ_numba(N, h, k)\n",
    "print(\"Error:\", validate_ci(intensity))\n",
    "perf_ci_numba = %timeit -o  Circ_numba(N, h, k)"
   ]
  },
  {
   "cell_type": "markdown",
   "metadata": {
    "slideshow": {
     "slide_type": "subslide"
    }
   },
   "source": [
    "### Limits of `Numba`\n",
    "`Numba` being a JIT compiler, it requires the compiler `LLVM-lite` to be installed and configured on every single node.\n",
    "\n",
    "The second drawback is the JIT: the compilation will be performed for the first execution of a session and if it runs on a cluster, the compilation will occur on every node. Numba is not `multi-processing` friendly.\n",
    "\n",
    "Finally the support for multi-threading in classes looks brittle, at least when evaluated."
   ]
  },
  {
   "cell_type": "markdown",
   "metadata": {
    "slideshow": {
     "slide_type": "slide"
    }
   },
   "source": [
    "## Cython: C-extensions for Python\n",
    "\n",
    "Static, ahead-of-time compiler for Python: compiles Python code into C-extensions (or C++ if you wish).\n",
    "\n",
    "Normal Python code gets usually 30% speed-up but for numerical kernels, native C-speed is achievable easily.\n",
    "To get substential speed-up, one need to declare most variables and explicitly write loops. \n",
    "\n",
    "The methodology is pretty similar to `numba`:\n",
    "1. Write the code with loops\n",
    "2. Use the `cython -a` to annotate the code to highlight potential hot-spots, in yellow.\n",
    "3. Declare variables which are not infered with `cdef` and the proper type\n",
    "4. Isolate the numerical kernel and replace numpy functions with the ones provided by the `libc` or `libm` which are garanteed to be GIL-free."
   ]
  },
  {
   "cell_type": "code",
   "execution_count": 41,
   "metadata": {
    "slideshow": {
     "slide_type": "fragment"
    }
   },
   "outputs": [],
   "source": [
    "import os\n",
    "\n",
    "os.environ[\"OMP_NUM_THREADS\"] = str(n_cpu)\n",
    "# This enables the %cython mode\n",
    "%load_ext Cython"
   ]
  },
  {
   "cell_type": "markdown",
   "id": "public-identity",
   "metadata": {},
   "source": [
    "### Square crystal implemented with `Cython`"
   ]
  },
  {
   "cell_type": "code",
   "execution_count": 42,
   "metadata": {
    "slideshow": {
     "slide_type": "subslide"
    }
   },
   "outputs": [
    {
     "data": {
      "text/html": [
       "<!DOCTYPE html>\n",
       "<!-- Generated by Cython 3.0a7 -->\n",
       "<html>\n",
       "<head>\n",
       "    <meta http-equiv=\"Content-Type\" content=\"text/html; charset=utf-8\" />\n",
       "    <title>Cython: _cython_magic_dc62ba7c271e65f28948773799161bdfa6ff259e.pyx</title>\n",
       "    <style type=\"text/css\">\n",
       "    \n",
       "body.cython { font-family: courier; font-size: 12; }\n",
       "\n",
       ".cython.tag  {  }\n",
       ".cython.line { color: #000000; margin: 0em }\n",
       ".cython.code { font-size: 9; color: #444444; display: none; margin: 0px 0px 0px 8px; border-left: 8px none; }\n",
       "\n",
       ".cython.line .run { background-color: #B0FFB0; }\n",
       ".cython.line .mis { background-color: #FFB0B0; }\n",
       ".cython.code.run  { border-left: 8px solid #B0FFB0; }\n",
       ".cython.code.mis  { border-left: 8px solid #FFB0B0; }\n",
       "\n",
       ".cython.code .py_c_api  { color: red; }\n",
       ".cython.code .py_macro_api  { color: #FF7000; }\n",
       ".cython.code .pyx_c_api  { color: #FF3000; }\n",
       ".cython.code .pyx_macro_api  { color: #FF7000; }\n",
       ".cython.code .refnanny  { color: #FFA000; }\n",
       ".cython.code .trace  { color: #FFA000; }\n",
       ".cython.code .error_goto  { color: #FFA000; }\n",
       "\n",
       ".cython.code .coerce  { color: #008000; border: 1px dotted #008000 }\n",
       ".cython.code .py_attr { color: #FF0000; font-weight: bold; }\n",
       ".cython.code .c_attr  { color: #0000FF; }\n",
       ".cython.code .py_call { color: #FF0000; font-weight: bold; }\n",
       ".cython.code .c_call  { color: #0000FF; }\n",
       "\n",
       ".cython.score-0 {background-color: #FFFFff;}\n",
       ".cython.score-1 {background-color: #FFFFe7;}\n",
       ".cython.score-2 {background-color: #FFFFd4;}\n",
       ".cython.score-3 {background-color: #FFFFc4;}\n",
       ".cython.score-4 {background-color: #FFFFb6;}\n",
       ".cython.score-5 {background-color: #FFFFaa;}\n",
       ".cython.score-6 {background-color: #FFFF9f;}\n",
       ".cython.score-7 {background-color: #FFFF96;}\n",
       ".cython.score-8 {background-color: #FFFF8d;}\n",
       ".cython.score-9 {background-color: #FFFF86;}\n",
       ".cython.score-10 {background-color: #FFFF7f;}\n",
       ".cython.score-11 {background-color: #FFFF79;}\n",
       ".cython.score-12 {background-color: #FFFF73;}\n",
       ".cython.score-13 {background-color: #FFFF6e;}\n",
       ".cython.score-14 {background-color: #FFFF6a;}\n",
       ".cython.score-15 {background-color: #FFFF66;}\n",
       ".cython.score-16 {background-color: #FFFF62;}\n",
       ".cython.score-17 {background-color: #FFFF5e;}\n",
       ".cython.score-18 {background-color: #FFFF5b;}\n",
       ".cython.score-19 {background-color: #FFFF57;}\n",
       ".cython.score-20 {background-color: #FFFF55;}\n",
       ".cython.score-21 {background-color: #FFFF52;}\n",
       ".cython.score-22 {background-color: #FFFF4f;}\n",
       ".cython.score-23 {background-color: #FFFF4d;}\n",
       ".cython.score-24 {background-color: #FFFF4b;}\n",
       ".cython.score-25 {background-color: #FFFF48;}\n",
       ".cython.score-26 {background-color: #FFFF46;}\n",
       ".cython.score-27 {background-color: #FFFF44;}\n",
       ".cython.score-28 {background-color: #FFFF43;}\n",
       ".cython.score-29 {background-color: #FFFF41;}\n",
       ".cython.score-30 {background-color: #FFFF3f;}\n",
       ".cython.score-31 {background-color: #FFFF3e;}\n",
       ".cython.score-32 {background-color: #FFFF3c;}\n",
       ".cython.score-33 {background-color: #FFFF3b;}\n",
       ".cython.score-34 {background-color: #FFFF39;}\n",
       ".cython.score-35 {background-color: #FFFF38;}\n",
       ".cython.score-36 {background-color: #FFFF37;}\n",
       ".cython.score-37 {background-color: #FFFF36;}\n",
       ".cython.score-38 {background-color: #FFFF35;}\n",
       ".cython.score-39 {background-color: #FFFF34;}\n",
       ".cython.score-40 {background-color: #FFFF33;}\n",
       ".cython.score-41 {background-color: #FFFF32;}\n",
       ".cython.score-42 {background-color: #FFFF31;}\n",
       ".cython.score-43 {background-color: #FFFF30;}\n",
       ".cython.score-44 {background-color: #FFFF2f;}\n",
       ".cython.score-45 {background-color: #FFFF2e;}\n",
       ".cython.score-46 {background-color: #FFFF2d;}\n",
       ".cython.score-47 {background-color: #FFFF2c;}\n",
       ".cython.score-48 {background-color: #FFFF2b;}\n",
       ".cython.score-49 {background-color: #FFFF2b;}\n",
       ".cython.score-50 {background-color: #FFFF2a;}\n",
       ".cython.score-51 {background-color: #FFFF29;}\n",
       ".cython.score-52 {background-color: #FFFF29;}\n",
       ".cython.score-53 {background-color: #FFFF28;}\n",
       ".cython.score-54 {background-color: #FFFF27;}\n",
       ".cython.score-55 {background-color: #FFFF27;}\n",
       ".cython.score-56 {background-color: #FFFF26;}\n",
       ".cython.score-57 {background-color: #FFFF26;}\n",
       ".cython.score-58 {background-color: #FFFF25;}\n",
       ".cython.score-59 {background-color: #FFFF24;}\n",
       ".cython.score-60 {background-color: #FFFF24;}\n",
       ".cython.score-61 {background-color: #FFFF23;}\n",
       ".cython.score-62 {background-color: #FFFF23;}\n",
       ".cython.score-63 {background-color: #FFFF22;}\n",
       ".cython.score-64 {background-color: #FFFF22;}\n",
       ".cython.score-65 {background-color: #FFFF22;}\n",
       ".cython.score-66 {background-color: #FFFF21;}\n",
       ".cython.score-67 {background-color: #FFFF21;}\n",
       ".cython.score-68 {background-color: #FFFF20;}\n",
       ".cython.score-69 {background-color: #FFFF20;}\n",
       ".cython.score-70 {background-color: #FFFF1f;}\n",
       ".cython.score-71 {background-color: #FFFF1f;}\n",
       ".cython.score-72 {background-color: #FFFF1f;}\n",
       ".cython.score-73 {background-color: #FFFF1e;}\n",
       ".cython.score-74 {background-color: #FFFF1e;}\n",
       ".cython.score-75 {background-color: #FFFF1e;}\n",
       ".cython.score-76 {background-color: #FFFF1d;}\n",
       ".cython.score-77 {background-color: #FFFF1d;}\n",
       ".cython.score-78 {background-color: #FFFF1c;}\n",
       ".cython.score-79 {background-color: #FFFF1c;}\n",
       ".cython.score-80 {background-color: #FFFF1c;}\n",
       ".cython.score-81 {background-color: #FFFF1c;}\n",
       ".cython.score-82 {background-color: #FFFF1b;}\n",
       ".cython.score-83 {background-color: #FFFF1b;}\n",
       ".cython.score-84 {background-color: #FFFF1b;}\n",
       ".cython.score-85 {background-color: #FFFF1a;}\n",
       ".cython.score-86 {background-color: #FFFF1a;}\n",
       ".cython.score-87 {background-color: #FFFF1a;}\n",
       ".cython.score-88 {background-color: #FFFF1a;}\n",
       ".cython.score-89 {background-color: #FFFF19;}\n",
       ".cython.score-90 {background-color: #FFFF19;}\n",
       ".cython.score-91 {background-color: #FFFF19;}\n",
       ".cython.score-92 {background-color: #FFFF19;}\n",
       ".cython.score-93 {background-color: #FFFF18;}\n",
       ".cython.score-94 {background-color: #FFFF18;}\n",
       ".cython.score-95 {background-color: #FFFF18;}\n",
       ".cython.score-96 {background-color: #FFFF18;}\n",
       ".cython.score-97 {background-color: #FFFF17;}\n",
       ".cython.score-98 {background-color: #FFFF17;}\n",
       ".cython.score-99 {background-color: #FFFF17;}\n",
       ".cython.score-100 {background-color: #FFFF17;}\n",
       ".cython.score-101 {background-color: #FFFF16;}\n",
       ".cython.score-102 {background-color: #FFFF16;}\n",
       ".cython.score-103 {background-color: #FFFF16;}\n",
       ".cython.score-104 {background-color: #FFFF16;}\n",
       ".cython.score-105 {background-color: #FFFF16;}\n",
       ".cython.score-106 {background-color: #FFFF15;}\n",
       ".cython.score-107 {background-color: #FFFF15;}\n",
       ".cython.score-108 {background-color: #FFFF15;}\n",
       ".cython.score-109 {background-color: #FFFF15;}\n",
       ".cython.score-110 {background-color: #FFFF15;}\n",
       ".cython.score-111 {background-color: #FFFF15;}\n",
       ".cython.score-112 {background-color: #FFFF14;}\n",
       ".cython.score-113 {background-color: #FFFF14;}\n",
       ".cython.score-114 {background-color: #FFFF14;}\n",
       ".cython.score-115 {background-color: #FFFF14;}\n",
       ".cython.score-116 {background-color: #FFFF14;}\n",
       ".cython.score-117 {background-color: #FFFF14;}\n",
       ".cython.score-118 {background-color: #FFFF13;}\n",
       ".cython.score-119 {background-color: #FFFF13;}\n",
       ".cython.score-120 {background-color: #FFFF13;}\n",
       ".cython.score-121 {background-color: #FFFF13;}\n",
       ".cython.score-122 {background-color: #FFFF13;}\n",
       ".cython.score-123 {background-color: #FFFF13;}\n",
       ".cython.score-124 {background-color: #FFFF13;}\n",
       ".cython.score-125 {background-color: #FFFF12;}\n",
       ".cython.score-126 {background-color: #FFFF12;}\n",
       ".cython.score-127 {background-color: #FFFF12;}\n",
       ".cython.score-128 {background-color: #FFFF12;}\n",
       ".cython.score-129 {background-color: #FFFF12;}\n",
       ".cython.score-130 {background-color: #FFFF12;}\n",
       ".cython.score-131 {background-color: #FFFF12;}\n",
       ".cython.score-132 {background-color: #FFFF11;}\n",
       ".cython.score-133 {background-color: #FFFF11;}\n",
       ".cython.score-134 {background-color: #FFFF11;}\n",
       ".cython.score-135 {background-color: #FFFF11;}\n",
       ".cython.score-136 {background-color: #FFFF11;}\n",
       ".cython.score-137 {background-color: #FFFF11;}\n",
       ".cython.score-138 {background-color: #FFFF11;}\n",
       ".cython.score-139 {background-color: #FFFF11;}\n",
       ".cython.score-140 {background-color: #FFFF11;}\n",
       ".cython.score-141 {background-color: #FFFF10;}\n",
       ".cython.score-142 {background-color: #FFFF10;}\n",
       ".cython.score-143 {background-color: #FFFF10;}\n",
       ".cython.score-144 {background-color: #FFFF10;}\n",
       ".cython.score-145 {background-color: #FFFF10;}\n",
       ".cython.score-146 {background-color: #FFFF10;}\n",
       ".cython.score-147 {background-color: #FFFF10;}\n",
       ".cython.score-148 {background-color: #FFFF10;}\n",
       ".cython.score-149 {background-color: #FFFF10;}\n",
       ".cython.score-150 {background-color: #FFFF0f;}\n",
       ".cython.score-151 {background-color: #FFFF0f;}\n",
       ".cython.score-152 {background-color: #FFFF0f;}\n",
       ".cython.score-153 {background-color: #FFFF0f;}\n",
       ".cython.score-154 {background-color: #FFFF0f;}\n",
       ".cython.score-155 {background-color: #FFFF0f;}\n",
       ".cython.score-156 {background-color: #FFFF0f;}\n",
       ".cython.score-157 {background-color: #FFFF0f;}\n",
       ".cython.score-158 {background-color: #FFFF0f;}\n",
       ".cython.score-159 {background-color: #FFFF0f;}\n",
       ".cython.score-160 {background-color: #FFFF0f;}\n",
       ".cython.score-161 {background-color: #FFFF0e;}\n",
       ".cython.score-162 {background-color: #FFFF0e;}\n",
       ".cython.score-163 {background-color: #FFFF0e;}\n",
       ".cython.score-164 {background-color: #FFFF0e;}\n",
       ".cython.score-165 {background-color: #FFFF0e;}\n",
       ".cython.score-166 {background-color: #FFFF0e;}\n",
       ".cython.score-167 {background-color: #FFFF0e;}\n",
       ".cython.score-168 {background-color: #FFFF0e;}\n",
       ".cython.score-169 {background-color: #FFFF0e;}\n",
       ".cython.score-170 {background-color: #FFFF0e;}\n",
       ".cython.score-171 {background-color: #FFFF0e;}\n",
       ".cython.score-172 {background-color: #FFFF0e;}\n",
       ".cython.score-173 {background-color: #FFFF0d;}\n",
       ".cython.score-174 {background-color: #FFFF0d;}\n",
       ".cython.score-175 {background-color: #FFFF0d;}\n",
       ".cython.score-176 {background-color: #FFFF0d;}\n",
       ".cython.score-177 {background-color: #FFFF0d;}\n",
       ".cython.score-178 {background-color: #FFFF0d;}\n",
       ".cython.score-179 {background-color: #FFFF0d;}\n",
       ".cython.score-180 {background-color: #FFFF0d;}\n",
       ".cython.score-181 {background-color: #FFFF0d;}\n",
       ".cython.score-182 {background-color: #FFFF0d;}\n",
       ".cython.score-183 {background-color: #FFFF0d;}\n",
       ".cython.score-184 {background-color: #FFFF0d;}\n",
       ".cython.score-185 {background-color: #FFFF0d;}\n",
       ".cython.score-186 {background-color: #FFFF0d;}\n",
       ".cython.score-187 {background-color: #FFFF0c;}\n",
       ".cython.score-188 {background-color: #FFFF0c;}\n",
       ".cython.score-189 {background-color: #FFFF0c;}\n",
       ".cython.score-190 {background-color: #FFFF0c;}\n",
       ".cython.score-191 {background-color: #FFFF0c;}\n",
       ".cython.score-192 {background-color: #FFFF0c;}\n",
       ".cython.score-193 {background-color: #FFFF0c;}\n",
       ".cython.score-194 {background-color: #FFFF0c;}\n",
       ".cython.score-195 {background-color: #FFFF0c;}\n",
       ".cython.score-196 {background-color: #FFFF0c;}\n",
       ".cython.score-197 {background-color: #FFFF0c;}\n",
       ".cython.score-198 {background-color: #FFFF0c;}\n",
       ".cython.score-199 {background-color: #FFFF0c;}\n",
       ".cython.score-200 {background-color: #FFFF0c;}\n",
       ".cython.score-201 {background-color: #FFFF0c;}\n",
       ".cython.score-202 {background-color: #FFFF0c;}\n",
       ".cython.score-203 {background-color: #FFFF0b;}\n",
       ".cython.score-204 {background-color: #FFFF0b;}\n",
       ".cython.score-205 {background-color: #FFFF0b;}\n",
       ".cython.score-206 {background-color: #FFFF0b;}\n",
       ".cython.score-207 {background-color: #FFFF0b;}\n",
       ".cython.score-208 {background-color: #FFFF0b;}\n",
       ".cython.score-209 {background-color: #FFFF0b;}\n",
       ".cython.score-210 {background-color: #FFFF0b;}\n",
       ".cython.score-211 {background-color: #FFFF0b;}\n",
       ".cython.score-212 {background-color: #FFFF0b;}\n",
       ".cython.score-213 {background-color: #FFFF0b;}\n",
       ".cython.score-214 {background-color: #FFFF0b;}\n",
       ".cython.score-215 {background-color: #FFFF0b;}\n",
       ".cython.score-216 {background-color: #FFFF0b;}\n",
       ".cython.score-217 {background-color: #FFFF0b;}\n",
       ".cython.score-218 {background-color: #FFFF0b;}\n",
       ".cython.score-219 {background-color: #FFFF0b;}\n",
       ".cython.score-220 {background-color: #FFFF0b;}\n",
       ".cython.score-221 {background-color: #FFFF0b;}\n",
       ".cython.score-222 {background-color: #FFFF0a;}\n",
       ".cython.score-223 {background-color: #FFFF0a;}\n",
       ".cython.score-224 {background-color: #FFFF0a;}\n",
       ".cython.score-225 {background-color: #FFFF0a;}\n",
       ".cython.score-226 {background-color: #FFFF0a;}\n",
       ".cython.score-227 {background-color: #FFFF0a;}\n",
       ".cython.score-228 {background-color: #FFFF0a;}\n",
       ".cython.score-229 {background-color: #FFFF0a;}\n",
       ".cython.score-230 {background-color: #FFFF0a;}\n",
       ".cython.score-231 {background-color: #FFFF0a;}\n",
       ".cython.score-232 {background-color: #FFFF0a;}\n",
       ".cython.score-233 {background-color: #FFFF0a;}\n",
       ".cython.score-234 {background-color: #FFFF0a;}\n",
       ".cython.score-235 {background-color: #FFFF0a;}\n",
       ".cython.score-236 {background-color: #FFFF0a;}\n",
       ".cython.score-237 {background-color: #FFFF0a;}\n",
       ".cython.score-238 {background-color: #FFFF0a;}\n",
       ".cython.score-239 {background-color: #FFFF0a;}\n",
       ".cython.score-240 {background-color: #FFFF0a;}\n",
       ".cython.score-241 {background-color: #FFFF0a;}\n",
       ".cython.score-242 {background-color: #FFFF0a;}\n",
       ".cython.score-243 {background-color: #FFFF0a;}\n",
       ".cython.score-244 {background-color: #FFFF0a;}\n",
       ".cython.score-245 {background-color: #FFFF0a;}\n",
       ".cython.score-246 {background-color: #FFFF09;}\n",
       ".cython.score-247 {background-color: #FFFF09;}\n",
       ".cython.score-248 {background-color: #FFFF09;}\n",
       ".cython.score-249 {background-color: #FFFF09;}\n",
       ".cython.score-250 {background-color: #FFFF09;}\n",
       ".cython.score-251 {background-color: #FFFF09;}\n",
       ".cython.score-252 {background-color: #FFFF09;}\n",
       ".cython.score-253 {background-color: #FFFF09;}\n",
       ".cython.score-254 {background-color: #FFFF09;}\n",
       ".cython .hll { background-color: #ffffcc }\n",
       ".cython  { background: #f8f8f8; }\n",
       ".cython .c { color: #408080; font-style: italic } /* Comment */\n",
       ".cython .err { border: 1px solid #FF0000 } /* Error */\n",
       ".cython .k { color: #008000; font-weight: bold } /* Keyword */\n",
       ".cython .o { color: #666666 } /* Operator */\n",
       ".cython .ch { color: #408080; font-style: italic } /* Comment.Hashbang */\n",
       ".cython .cm { color: #408080; font-style: italic } /* Comment.Multiline */\n",
       ".cython .cp { color: #BC7A00 } /* Comment.Preproc */\n",
       ".cython .cpf { color: #408080; font-style: italic } /* Comment.PreprocFile */\n",
       ".cython .c1 { color: #408080; font-style: italic } /* Comment.Single */\n",
       ".cython .cs { color: #408080; font-style: italic } /* Comment.Special */\n",
       ".cython .gd { color: #A00000 } /* Generic.Deleted */\n",
       ".cython .ge { font-style: italic } /* Generic.Emph */\n",
       ".cython .gr { color: #FF0000 } /* Generic.Error */\n",
       ".cython .gh { color: #000080; font-weight: bold } /* Generic.Heading */\n",
       ".cython .gi { color: #00A000 } /* Generic.Inserted */\n",
       ".cython .go { color: #888888 } /* Generic.Output */\n",
       ".cython .gp { color: #000080; font-weight: bold } /* Generic.Prompt */\n",
       ".cython .gs { font-weight: bold } /* Generic.Strong */\n",
       ".cython .gu { color: #800080; font-weight: bold } /* Generic.Subheading */\n",
       ".cython .gt { color: #0044DD } /* Generic.Traceback */\n",
       ".cython .kc { color: #008000; font-weight: bold } /* Keyword.Constant */\n",
       ".cython .kd { color: #008000; font-weight: bold } /* Keyword.Declaration */\n",
       ".cython .kn { color: #008000; font-weight: bold } /* Keyword.Namespace */\n",
       ".cython .kp { color: #008000 } /* Keyword.Pseudo */\n",
       ".cython .kr { color: #008000; font-weight: bold } /* Keyword.Reserved */\n",
       ".cython .kt { color: #B00040 } /* Keyword.Type */\n",
       ".cython .m { color: #666666 } /* Literal.Number */\n",
       ".cython .s { color: #BA2121 } /* Literal.String */\n",
       ".cython .na { color: #7D9029 } /* Name.Attribute */\n",
       ".cython .nb { color: #008000 } /* Name.Builtin */\n",
       ".cython .nc { color: #0000FF; font-weight: bold } /* Name.Class */\n",
       ".cython .no { color: #880000 } /* Name.Constant */\n",
       ".cython .nd { color: #AA22FF } /* Name.Decorator */\n",
       ".cython .ni { color: #999999; font-weight: bold } /* Name.Entity */\n",
       ".cython .ne { color: #D2413A; font-weight: bold } /* Name.Exception */\n",
       ".cython .nf { color: #0000FF } /* Name.Function */\n",
       ".cython .nl { color: #A0A000 } /* Name.Label */\n",
       ".cython .nn { color: #0000FF; font-weight: bold } /* Name.Namespace */\n",
       ".cython .nt { color: #008000; font-weight: bold } /* Name.Tag */\n",
       ".cython .nv { color: #19177C } /* Name.Variable */\n",
       ".cython .ow { color: #AA22FF; font-weight: bold } /* Operator.Word */\n",
       ".cython .w { color: #bbbbbb } /* Text.Whitespace */\n",
       ".cython .mb { color: #666666 } /* Literal.Number.Bin */\n",
       ".cython .mf { color: #666666 } /* Literal.Number.Float */\n",
       ".cython .mh { color: #666666 } /* Literal.Number.Hex */\n",
       ".cython .mi { color: #666666 } /* Literal.Number.Integer */\n",
       ".cython .mo { color: #666666 } /* Literal.Number.Oct */\n",
       ".cython .sa { color: #BA2121 } /* Literal.String.Affix */\n",
       ".cython .sb { color: #BA2121 } /* Literal.String.Backtick */\n",
       ".cython .sc { color: #BA2121 } /* Literal.String.Char */\n",
       ".cython .dl { color: #BA2121 } /* Literal.String.Delimiter */\n",
       ".cython .sd { color: #BA2121; font-style: italic } /* Literal.String.Doc */\n",
       ".cython .s2 { color: #BA2121 } /* Literal.String.Double */\n",
       ".cython .se { color: #BB6622; font-weight: bold } /* Literal.String.Escape */\n",
       ".cython .sh { color: #BA2121 } /* Literal.String.Heredoc */\n",
       ".cython .si { color: #BB6688; font-weight: bold } /* Literal.String.Interpol */\n",
       ".cython .sx { color: #008000 } /* Literal.String.Other */\n",
       ".cython .sr { color: #BB6688 } /* Literal.String.Regex */\n",
       ".cython .s1 { color: #BA2121 } /* Literal.String.Single */\n",
       ".cython .ss { color: #19177C } /* Literal.String.Symbol */\n",
       ".cython .bp { color: #008000 } /* Name.Builtin.Pseudo */\n",
       ".cython .fm { color: #0000FF } /* Name.Function.Magic */\n",
       ".cython .vc { color: #19177C } /* Name.Variable.Class */\n",
       ".cython .vg { color: #19177C } /* Name.Variable.Global */\n",
       ".cython .vi { color: #19177C } /* Name.Variable.Instance */\n",
       ".cython .vm { color: #19177C } /* Name.Variable.Magic */\n",
       ".cython .il { color: #666666 } /* Literal.Number.Integer.Long */\n",
       "    </style>\n",
       "</head>\n",
       "<body class=\"cython\">\n",
       "<p><span style=\"border-bottom: solid 1px grey;\">Generated by Cython 3.0a7</span></p>\n",
       "<p>\n",
       "    <span style=\"background-color: #FFFF00\">Yellow lines</span> hint at Python interaction.<br />\n",
       "    Click on a line that starts with a \"<code>+</code>\" to see the C code that Cython generated for it.\n",
       "</p>\n",
       "<div class=\"cython\"><pre class=\"cython line score-8\" onclick=\"(function(s){s.display=s.display==='block'?'none':'block'})(this.nextElementSibling.style)\">+<span class=\"\">01</span>: <span class=\"c\">#cython: embedsignature=True, language_level=3, binding=True</span></pre>\n",
       "<pre class='cython code score-8 '>  __pyx_t_1 = <span class='pyx_c_api'>__Pyx_PyDict_NewPresized</span>(0);<span class='error_goto'> if (unlikely(!__pyx_t_1)) __PYX_ERR(0, 1, __pyx_L1_error)</span>\n",
       "  <span class='refnanny'>__Pyx_GOTREF</span>(__pyx_t_1);\n",
       "  if (<span class='py_c_api'>PyDict_SetItem</span>(__pyx_d, __pyx_n_s_test, __pyx_t_1) &lt; 0) <span class='error_goto'>__PYX_ERR(0, 1, __pyx_L1_error)</span>\n",
       "  <span class='pyx_macro_api'>__Pyx_DECREF</span>(__pyx_t_1); __pyx_t_1 = 0;\n",
       "</pre><pre class=\"cython line score-0\">&#xA0;<span class=\"\">02</span>: <span class=\"c\">#cython: boundscheck=False, wraparound=False, cdivision=True, initializedcheck=False,</span></pre>\n",
       "<pre class=\"cython line score-0\">&#xA0;<span class=\"\">03</span>: <span class=\"c\">## This is for developping:</span></pre>\n",
       "<pre class=\"cython line score-0\">&#xA0;<span class=\"\">04</span>: <span class=\"c\">## cython: profile=True, warn.undeclared=True, warn.unused=True, warn.unused_result=False, warn.unused_arg=True</span></pre>\n",
       "<pre class=\"cython line score-0\">&#xA0;<span class=\"\">05</span>: </pre>\n",
       "<pre class=\"cython line score-8\" onclick=\"(function(s){s.display=s.display==='block'?'none':'block'})(this.nextElementSibling.style)\">+<span class=\"\">06</span>: <span class=\"k\">import</span> <span class=\"nn\">numpy</span> <span class=\"k\">as</span> <span class=\"nn\">np</span></pre>\n",
       "<pre class='cython code score-8 '>  __pyx_t_1 = <span class='pyx_c_api'>__Pyx_ImportDottedModule</span>(__pyx_n_s_numpy, NULL);<span class='error_goto'> if (unlikely(!__pyx_t_1)) __PYX_ERR(0, 6, __pyx_L1_error)</span>\n",
       "  <span class='refnanny'>__Pyx_GOTREF</span>(__pyx_t_1);\n",
       "  if (<span class='py_c_api'>PyDict_SetItem</span>(__pyx_d, __pyx_n_s_np, __pyx_t_1) &lt; 0) <span class='error_goto'>__PYX_ERR(0, 6, __pyx_L1_error)</span>\n",
       "  <span class='pyx_macro_api'>__Pyx_DECREF</span>(__pyx_t_1); __pyx_t_1 = 0;\n",
       "</pre><pre class=\"cython line score-0\">&#xA0;<span class=\"\">07</span>: <span class=\"k\">from</span> <span class=\"nn\">cython.parallel</span> <span class=\"k\">import</span> <span class=\"n\">prange</span></pre>\n",
       "<pre class=\"cython line score-0\">&#xA0;<span class=\"\">08</span>: <span class=\"k\">from</span> <span class=\"nn\">libc.complex</span> <span class=\"k\">cimport</span> <span class=\"n\">cabs</span><span class=\"p\">,</span> <span class=\"n\">cexp</span></pre>\n",
       "<pre class=\"cython line score-0\">&#xA0;<span class=\"\">09</span>: </pre>\n",
       "<pre class=\"cython line score-92\" onclick=\"(function(s){s.display=s.display==='block'?'none':'block'})(this.nextElementSibling.style)\">+<span class=\"\">10</span>: <span class=\"k\">def</span> <span class=\"nf\">Laue_cython</span><span class=\"p\">(</span><span class=\"nb\">long</span><span class=\"p\">[::</span><span class=\"mf\">1</span><span class=\"p\">]</span> <span class=\"n\">n</span><span class=\"p\">,</span></pre>\n",
       "<pre class='cython code score-92 '>/* Python wrapper */\n",
       "static PyObject *__pyx_pw_54_cython_magic_dc62ba7c271e65f28948773799161bdfa6ff259e_1Laue_cython(PyObject *__pyx_self, \n",
       "#if CYTHON_METH_FASTCALL\n",
       "PyObject *const *__pyx_args, Py_ssize_t __pyx_nargs, PyObject *__pyx_kwds\n",
       "#else\n",
       "PyObject *__pyx_args, PyObject *__pyx_kwds\n",
       "#endif\n",
       "); /*proto*/\n",
       "<span class='py_macro_api'>PyDoc_STRVAR</span>(__pyx_doc_54_cython_magic_dc62ba7c271e65f28948773799161bdfa6ff259e_Laue_cython, \"Laue_cython(long[::1] n, long[::1] m, double[::1] h, double[::1] k)\");\n",
       "static PyMethodDef __pyx_mdef_54_cython_magic_dc62ba7c271e65f28948773799161bdfa6ff259e_1Laue_cython = {\"Laue_cython\", (PyCFunction)(void*)(__Pyx_PyCFunction_FastCallWithKeywords)__pyx_pw_54_cython_magic_dc62ba7c271e65f28948773799161bdfa6ff259e_1Laue_cython, __Pyx_METH_FASTCALL|METH_KEYWORDS, __pyx_doc_54_cython_magic_dc62ba7c271e65f28948773799161bdfa6ff259e_Laue_cython};\n",
       "static PyObject *__pyx_pw_54_cython_magic_dc62ba7c271e65f28948773799161bdfa6ff259e_1Laue_cython(PyObject *__pyx_self, \n",
       "#if CYTHON_METH_FASTCALL\n",
       "PyObject *const *__pyx_args, Py_ssize_t __pyx_nargs, PyObject *__pyx_kwds\n",
       "#else\n",
       "PyObject *__pyx_args, PyObject *__pyx_kwds\n",
       "#endif\n",
       ") {\n",
       "  __Pyx_memviewslice __pyx_v_n = { 0, 0, { 0 }, { 0 }, { 0 } };\n",
       "  __Pyx_memviewslice __pyx_v_m = { 0, 0, { 0 }, { 0 }, { 0 } };\n",
       "  __Pyx_memviewslice __pyx_v_h = { 0, 0, { 0 }, { 0 }, { 0 } };\n",
       "  __Pyx_memviewslice __pyx_v_k = { 0, 0, { 0 }, { 0 }, { 0 } };\n",
       "  #if !CYTHON_METH_FASTCALL\n",
       "  CYTHON_UNUSED const Py_ssize_t __pyx_nargs = <span class='py_macro_api'>PyTuple_GET_SIZE</span>(__pyx_args);\n",
       "  #endif\n",
       "  CYTHON_UNUSED PyObject *const *__pyx_kwvalues = <span class='pyx_c_api'>__Pyx_KwValues_FASTCALL</span>(__pyx_args, __pyx_nargs);\n",
       "  PyObject *__pyx_r = 0;\n",
       "  <span class='refnanny'>__Pyx_RefNannyDeclarations</span>\n",
       "  <span class='refnanny'>__Pyx_RefNannySetupContext</span>(\"Laue_cython (wrapper)\", 0);\n",
       "  {\n",
       "    #if CYTHON_COMPILING_IN_LIMITED_API\n",
       "    PyObject **__pyx_pyargnames[] = {&amp;__pyx_n_s_n,&amp;__pyx_n_s_m,&amp;__pyx_n_s_h,&amp;__pyx_n_s_k,0};\n",
       "    #else\n",
       "    static PyObject **__pyx_pyargnames[] = {&amp;__pyx_n_s_n,&amp;__pyx_n_s_m,&amp;__pyx_n_s_h,&amp;__pyx_n_s_k,0};\n",
       "    #endif\n",
       "    PyObject* values[4] = {0,0,0,0};\n",
       "    if (__pyx_kwds) {\n",
       "      Py_ssize_t kw_args;\n",
       "      switch (__pyx_nargs) {\n",
       "        case  4: values[3] = <span class='pyx_c_api'>__Pyx_Arg_FASTCALL</span>(__pyx_args, 3);\n",
       "        CYTHON_FALLTHROUGH;\n",
       "        case  3: values[2] = <span class='pyx_c_api'>__Pyx_Arg_FASTCALL</span>(__pyx_args, 2);\n",
       "        CYTHON_FALLTHROUGH;\n",
       "        case  2: values[1] = <span class='pyx_c_api'>__Pyx_Arg_FASTCALL</span>(__pyx_args, 1);\n",
       "        CYTHON_FALLTHROUGH;\n",
       "        case  1: values[0] = <span class='pyx_c_api'>__Pyx_Arg_FASTCALL</span>(__pyx_args, 0);\n",
       "        CYTHON_FALLTHROUGH;\n",
       "        case  0: break;\n",
       "        default: goto __pyx_L5_argtuple_error;\n",
       "      }\n",
       "      kw_args = <span class='pyx_c_api'>__Pyx_NumKwargs_FASTCALL</span>(__pyx_kwds);\n",
       "      switch (__pyx_nargs) {\n",
       "        case  0:\n",
       "        if (likely((values[0] = <span class='pyx_c_api'>__Pyx_GetKwValue_FASTCALL</span>(__pyx_kwds, __pyx_kwvalues, __pyx_n_s_n)) != 0)) kw_args--;\n",
       "        else if (unlikely(<span class='py_c_api'>PyErr_Occurred</span>())) <span class='error_goto'>__PYX_ERR(0, 10, __pyx_L3_error)</span>\n",
       "        else goto __pyx_L5_argtuple_error;\n",
       "        CYTHON_FALLTHROUGH;\n",
       "        case  1:\n",
       "        if (likely((values[1] = <span class='pyx_c_api'>__Pyx_GetKwValue_FASTCALL</span>(__pyx_kwds, __pyx_kwvalues, __pyx_n_s_m)) != 0)) kw_args--;\n",
       "        else if (unlikely(<span class='py_c_api'>PyErr_Occurred</span>())) <span class='error_goto'>__PYX_ERR(0, 10, __pyx_L3_error)</span>\n",
       "        else {\n",
       "          <span class='pyx_c_api'>__Pyx_RaiseArgtupleInvalid</span>(\"Laue_cython\", 1, 4, 4, 1); <span class='error_goto'>__PYX_ERR(0, 10, __pyx_L3_error)</span>\n",
       "        }\n",
       "        CYTHON_FALLTHROUGH;\n",
       "        case  2:\n",
       "        if (likely((values[2] = <span class='pyx_c_api'>__Pyx_GetKwValue_FASTCALL</span>(__pyx_kwds, __pyx_kwvalues, __pyx_n_s_h)) != 0)) kw_args--;\n",
       "        else if (unlikely(<span class='py_c_api'>PyErr_Occurred</span>())) <span class='error_goto'>__PYX_ERR(0, 10, __pyx_L3_error)</span>\n",
       "        else {\n",
       "          <span class='pyx_c_api'>__Pyx_RaiseArgtupleInvalid</span>(\"Laue_cython\", 1, 4, 4, 2); <span class='error_goto'>__PYX_ERR(0, 10, __pyx_L3_error)</span>\n",
       "        }\n",
       "        CYTHON_FALLTHROUGH;\n",
       "        case  3:\n",
       "        if (likely((values[3] = <span class='pyx_c_api'>__Pyx_GetKwValue_FASTCALL</span>(__pyx_kwds, __pyx_kwvalues, __pyx_n_s_k)) != 0)) kw_args--;\n",
       "        else if (unlikely(<span class='py_c_api'>PyErr_Occurred</span>())) <span class='error_goto'>__PYX_ERR(0, 10, __pyx_L3_error)</span>\n",
       "        else {\n",
       "          <span class='pyx_c_api'>__Pyx_RaiseArgtupleInvalid</span>(\"Laue_cython\", 1, 4, 4, 3); <span class='error_goto'>__PYX_ERR(0, 10, __pyx_L3_error)</span>\n",
       "        }\n",
       "      }\n",
       "      if (unlikely(kw_args &gt; 0)) {\n",
       "        const Py_ssize_t kwd_pos_args = __pyx_nargs;\n",
       "        if (unlikely(<span class='pyx_c_api'>__Pyx_ParseOptionalKeywords</span>(__pyx_kwds, __pyx_kwvalues, __pyx_pyargnames, 0, values + 0, kwd_pos_args, \"Laue_cython\") &lt; 0)) <span class='error_goto'>__PYX_ERR(0, 10, __pyx_L3_error)</span>\n",
       "      }\n",
       "    } else if (unlikely(__pyx_nargs != 4)) {\n",
       "      goto __pyx_L5_argtuple_error;\n",
       "    } else {\n",
       "      values[0] = <span class='pyx_c_api'>__Pyx_Arg_FASTCALL</span>(__pyx_args, 0);\n",
       "      values[1] = <span class='pyx_c_api'>__Pyx_Arg_FASTCALL</span>(__pyx_args, 1);\n",
       "      values[2] = <span class='pyx_c_api'>__Pyx_Arg_FASTCALL</span>(__pyx_args, 2);\n",
       "      values[3] = <span class='pyx_c_api'>__Pyx_Arg_FASTCALL</span>(__pyx_args, 3);\n",
       "    }\n",
       "    __pyx_v_n = <span class='pyx_c_api'>__Pyx_PyObject_to_MemoryviewSlice_dc_long</span>(values[0], PyBUF_WRITABLE);<span class='error_goto'> if (unlikely(!__pyx_v_n.memview)) __PYX_ERR(0, 10, __pyx_L3_error)</span>\n",
       "    __pyx_v_m = <span class='pyx_c_api'>__Pyx_PyObject_to_MemoryviewSlice_dc_long</span>(values[1], PyBUF_WRITABLE);<span class='error_goto'> if (unlikely(!__pyx_v_m.memview)) __PYX_ERR(0, 11, __pyx_L3_error)</span>\n",
       "    __pyx_v_h = <span class='pyx_c_api'>__Pyx_PyObject_to_MemoryviewSlice_dc_double</span>(values[2], PyBUF_WRITABLE);<span class='error_goto'> if (unlikely(!__pyx_v_h.memview)) __PYX_ERR(0, 12, __pyx_L3_error)</span>\n",
       "    __pyx_v_k = <span class='pyx_c_api'>__Pyx_PyObject_to_MemoryviewSlice_dc_double</span>(values[3], PyBUF_WRITABLE);<span class='error_goto'> if (unlikely(!__pyx_v_k.memview)) __PYX_ERR(0, 13, __pyx_L3_error)</span>\n",
       "  }\n",
       "  goto __pyx_L4_argument_unpacking_done;\n",
       "  __pyx_L5_argtuple_error:;\n",
       "  <span class='pyx_c_api'>__Pyx_RaiseArgtupleInvalid</span>(\"Laue_cython\", 1, 4, 4, __pyx_nargs); <span class='error_goto'>__PYX_ERR(0, 10, __pyx_L3_error)</span>\n",
       "  __pyx_L3_error:;\n",
       "  <span class='pyx_c_api'>__Pyx_AddTraceback</span>(\"_cython_magic_dc62ba7c271e65f28948773799161bdfa6ff259e.Laue_cython\", __pyx_clineno, __pyx_lineno, __pyx_filename);\n",
       "  <span class='refnanny'>__Pyx_RefNannyFinishContext</span>();\n",
       "  return NULL;\n",
       "  __pyx_L4_argument_unpacking_done:;\n",
       "  __pyx_r = __pyx_pf_54_cython_magic_dc62ba7c271e65f28948773799161bdfa6ff259e_Laue_cython(__pyx_self, __pyx_v_n, __pyx_v_m, __pyx_v_h, __pyx_v_k);\n",
       "  int __pyx_lineno = 0;\n",
       "  const char *__pyx_filename = NULL;\n",
       "  int __pyx_clineno = 0;\n",
       "\n",
       "  /* function exit code */\n",
       "  <span class='refnanny'>__Pyx_RefNannyFinishContext</span>();\n",
       "  return __pyx_r;\n",
       "}\n",
       "\n",
       "static PyObject *__pyx_pf_54_cython_magic_dc62ba7c271e65f28948773799161bdfa6ff259e_Laue_cython(CYTHON_UNUSED PyObject *__pyx_self, __Pyx_memviewslice __pyx_v_n, __Pyx_memviewslice __pyx_v_m, __Pyx_memviewslice __pyx_v_h, __Pyx_memviewslice __pyx_v_k) {\n",
       "  __Pyx_memviewslice __pyx_v_result = { 0, 0, { 0 }, { 0 }, { 0 } };\n",
       "  __pyx_t_double_complex __pyx_v_tmp;\n",
       "  __pyx_t_double_complex __pyx_v_two_j_pi;\n",
       "  int __pyx_v_i_h;\n",
       "  int __pyx_v_i_k;\n",
       "  int __pyx_v_i_m;\n",
       "  int __pyx_v_i_n;\n",
       "  int __pyx_v_h_size;\n",
       "  int __pyx_v_k_size;\n",
       "  int __pyx_v_n_size;\n",
       "  int __pyx_v_m_size;\n",
       "  PyObject *__pyx_r = NULL;\n",
       "  <span class='refnanny'>__Pyx_RefNannyDeclarations</span>\n",
       "  <span class='refnanny'>__Pyx_RefNannySetupContext</span>(\"Laue_cython\", 0);\n",
       "/* … */\n",
       "  /* function exit code */\n",
       "  __pyx_L1_error:;\n",
       "  <span class='pyx_macro_api'>__Pyx_XDECREF</span>(__pyx_t_1);\n",
       "  <span class='pyx_macro_api'>__Pyx_XDECREF</span>(__pyx_t_2);\n",
       "  <span class='pyx_macro_api'>__Pyx_XDECREF</span>(__pyx_t_3);\n",
       "  <span class='pyx_macro_api'>__Pyx_XDECREF</span>(__pyx_t_5);\n",
       "  <span class='pyx_macro_api'>__Pyx_XDECREF</span>(__pyx_t_6);\n",
       "  __PYX_XCLEAR_MEMVIEW(&amp;__pyx_t_8, 1);\n",
       "  <span class='pyx_c_api'>__Pyx_AddTraceback</span>(\"_cython_magic_dc62ba7c271e65f28948773799161bdfa6ff259e.Laue_cython\", __pyx_clineno, __pyx_lineno, __pyx_filename);\n",
       "  __pyx_r = NULL;\n",
       "  __pyx_L0:;\n",
       "  __PYX_XCLEAR_MEMVIEW(&amp;__pyx_v_result, 1);\n",
       "  __PYX_XCLEAR_MEMVIEW(&amp;__pyx_v_n, 1);\n",
       "  __PYX_XCLEAR_MEMVIEW(&amp;__pyx_v_m, 1);\n",
       "  __PYX_XCLEAR_MEMVIEW(&amp;__pyx_v_h, 1);\n",
       "  __PYX_XCLEAR_MEMVIEW(&amp;__pyx_v_k, 1);\n",
       "  <span class='refnanny'>__Pyx_XGIVEREF</span>(__pyx_r);\n",
       "  <span class='refnanny'>__Pyx_RefNannyFinishContext</span>();\n",
       "  return __pyx_r;\n",
       "}\n",
       "/* … */\n",
       "  __pyx_tuple__8 = <span class='py_c_api'>PyTuple_Pack</span>(15, __pyx_n_s_n, __pyx_n_s_m, __pyx_n_s_h, __pyx_n_s_k, __pyx_n_s_result, __pyx_n_s_tmp, __pyx_n_s_two_j_pi, __pyx_n_s_i_h, __pyx_n_s_i_k, __pyx_n_s_i_m, __pyx_n_s_i_n, __pyx_n_s_h_size, __pyx_n_s_k_size, __pyx_n_s_n_size, __pyx_n_s_m_size);<span class='error_goto'> if (unlikely(!__pyx_tuple__8)) __PYX_ERR(0, 10, __pyx_L1_error)</span>\n",
       "  <span class='refnanny'>__Pyx_GOTREF</span>(__pyx_tuple__8);\n",
       "  <span class='refnanny'>__Pyx_GIVEREF</span>(__pyx_tuple__8);\n",
       "/* … */\n",
       "  __pyx_t_1 = <span class='pyx_c_api'>__Pyx_CyFunction_New</span>(&amp;__pyx_mdef_54_cython_magic_dc62ba7c271e65f28948773799161bdfa6ff259e_1Laue_cython, 0, __pyx_n_s_Laue_cython, NULL, __pyx_n_s_cython_magic_dc62ba7c271e65f289, __pyx_d, ((PyObject *)__pyx_codeobj__9));<span class='error_goto'> if (unlikely(!__pyx_t_1)) __PYX_ERR(0, 10, __pyx_L1_error)</span>\n",
       "  <span class='refnanny'>__Pyx_GOTREF</span>(__pyx_t_1);\n",
       "  if (<span class='py_c_api'>PyDict_SetItem</span>(__pyx_d, __pyx_n_s_Laue_cython, __pyx_t_1) &lt; 0) <span class='error_goto'>__PYX_ERR(0, 10, __pyx_L1_error)</span>\n",
       "  <span class='pyx_macro_api'>__Pyx_DECREF</span>(__pyx_t_1); __pyx_t_1 = 0;\n",
       "  __pyx_codeobj__9 = (PyObject*)<span class='pyx_c_api'>__Pyx_PyCode_New</span>(4, 0, 0, 15, 0, CO_OPTIMIZED|CO_NEWLOCALS, __pyx_empty_bytes, __pyx_empty_tuple, __pyx_empty_tuple, __pyx_tuple__8, __pyx_empty_tuple, __pyx_empty_tuple, __pyx_kp_s_users_kieffer_cache_ipython_cyt, __pyx_n_s_Laue_cython, 10, __pyx_empty_bytes);<span class='error_goto'> if (unlikely(!__pyx_codeobj__9)) __PYX_ERR(0, 10, __pyx_L1_error)</span>\n",
       "</pre><pre class=\"cython line score-0\">&#xA0;<span class=\"\">11</span>:                 <span class=\"nb\">long</span><span class=\"p\">[::</span><span class=\"mf\">1</span><span class=\"p\">]</span> <span class=\"n\">m</span><span class=\"p\">,</span></pre>\n",
       "<pre class=\"cython line score-0\">&#xA0;<span class=\"\">12</span>:                 <span class=\"n\">double</span><span class=\"p\">[::</span><span class=\"mf\">1</span><span class=\"p\">]</span> <span class=\"n\">h</span><span class=\"p\">,</span></pre>\n",
       "<pre class=\"cython line score-0\">&#xA0;<span class=\"\">13</span>:                 <span class=\"n\">double</span><span class=\"p\">[::</span><span class=\"mf\">1</span><span class=\"p\">]</span> <span class=\"n\">k</span><span class=\"p\">):</span></pre>\n",
       "<pre class=\"cython line score-0\">&#xA0;<span class=\"\">14</span>:     <span class=\"k\">cdef</span><span class=\"p\">:</span></pre>\n",
       "<pre class=\"cython line score-0\">&#xA0;<span class=\"\">15</span>:         <span class=\"n\">double</span><span class=\"p\">[:,</span> <span class=\"p\">::</span><span class=\"mf\">1</span><span class=\"p\">]</span> <span class=\"n\">result</span></pre>\n",
       "<pre class=\"cython line score-0\">&#xA0;<span class=\"\">16</span>:         <span class=\"n\">double</span> <span class=\"nb\">complex</span> <span class=\"n\">tmp</span><span class=\"p\">,</span> <span class=\"n\">two_j_pi</span></pre>\n",
       "<pre class=\"cython line score-0\">&#xA0;<span class=\"\">17</span>:         <span class=\"nb\">int</span> <span class=\"n\">i_h</span><span class=\"p\">,</span> <span class=\"n\">i_k</span><span class=\"p\">,</span> <span class=\"n\">i_m</span><span class=\"p\">,</span> <span class=\"n\">i_n</span><span class=\"p\">,</span> <span class=\"n\">h_size</span><span class=\"p\">,</span> <span class=\"n\">k_size</span><span class=\"p\">,</span> <span class=\"n\">n_size</span><span class=\"p\">,</span> <span class=\"n\">m_size</span></pre>\n",
       "<pre class=\"cython line score-0\">&#xA0;<span class=\"\">18</span>: </pre>\n",
       "<pre class=\"cython line score-20\" onclick=\"(function(s){s.display=s.display==='block'?'none':'block'})(this.nextElementSibling.style)\">+<span class=\"\">19</span>:     <span class=\"n\">two_j_pi</span> <span class=\"o\">=</span> <span class=\"n\">np</span><span class=\"o\">.</span><span class=\"n\">pi</span><span class=\"o\">*</span><span class=\"mf\">2</span><span class=\"n\">j</span></pre>\n",
       "<pre class='cython code score-20 '>  <span class='pyx_c_api'>__Pyx_GetModuleGlobalName</span>(__pyx_t_1, __pyx_n_s_np);<span class='error_goto'> if (unlikely(!__pyx_t_1)) __PYX_ERR(0, 19, __pyx_L1_error)</span>\n",
       "  <span class='refnanny'>__Pyx_GOTREF</span>(__pyx_t_1);\n",
       "  __pyx_t_2 = <span class='pyx_c_api'>__Pyx_PyObject_GetAttrStr</span>(__pyx_t_1, __pyx_n_s_pi);<span class='error_goto'> if (unlikely(!__pyx_t_2)) __PYX_ERR(0, 19, __pyx_L1_error)</span>\n",
       "  <span class='refnanny'>__Pyx_GOTREF</span>(__pyx_t_2);\n",
       "  <span class='pyx_macro_api'>__Pyx_DECREF</span>(__pyx_t_1); __pyx_t_1 = 0;\n",
       "  __pyx_t_1 = <span class='py_c_api'>PyComplex_FromDoubles</span>(0.0, 2.0);<span class='error_goto'> if (unlikely(!__pyx_t_1)) __PYX_ERR(0, 19, __pyx_L1_error)</span>\n",
       "  <span class='refnanny'>__Pyx_GOTREF</span>(__pyx_t_1);\n",
       "  __pyx_t_3 = <span class='py_c_api'>PyNumber_Multiply</span>(__pyx_t_2, __pyx_t_1);<span class='error_goto'> if (unlikely(!__pyx_t_3)) __PYX_ERR(0, 19, __pyx_L1_error)</span>\n",
       "  <span class='refnanny'>__Pyx_GOTREF</span>(__pyx_t_3);\n",
       "  <span class='pyx_macro_api'>__Pyx_DECREF</span>(__pyx_t_2); __pyx_t_2 = 0;\n",
       "  <span class='pyx_macro_api'>__Pyx_DECREF</span>(__pyx_t_1); __pyx_t_1 = 0;\n",
       "  __pyx_t_4 = <span class='pyx_c_api'>__Pyx_PyComplex_As___pyx_t_double_complex</span>(__pyx_t_3);<span class='error_goto'> if (unlikely(PyErr_Occurred())) __PYX_ERR(0, 19, __pyx_L1_error)</span>\n",
       "  <span class='pyx_macro_api'>__Pyx_DECREF</span>(__pyx_t_3); __pyx_t_3 = 0;\n",
       "  __pyx_v_two_j_pi = __pyx_t_4;\n",
       "</pre><pre class=\"cython line score-0\" onclick=\"(function(s){s.display=s.display==='block'?'none':'block'})(this.nextElementSibling.style)\">+<span class=\"\">20</span>:     <span class=\"n\">h_size</span> <span class=\"o\">=</span> <span class=\"n\">h</span><span class=\"o\">.</span><span class=\"n\">shape</span><span class=\"p\">[</span><span class=\"mf\">0</span><span class=\"p\">]</span></pre>\n",
       "<pre class='cython code score-0 '>  __pyx_v_h_size = (__pyx_v_h.shape[0]);\n",
       "</pre><pre class=\"cython line score-0\" onclick=\"(function(s){s.display=s.display==='block'?'none':'block'})(this.nextElementSibling.style)\">+<span class=\"\">21</span>:     <span class=\"n\">k_size</span> <span class=\"o\">=</span> <span class=\"n\">k</span><span class=\"o\">.</span><span class=\"n\">shape</span><span class=\"p\">[</span><span class=\"mf\">0</span><span class=\"p\">]</span></pre>\n",
       "<pre class='cython code score-0 '>  __pyx_v_k_size = (__pyx_v_k.shape[0]);\n",
       "</pre><pre class=\"cython line score-0\" onclick=\"(function(s){s.display=s.display==='block'?'none':'block'})(this.nextElementSibling.style)\">+<span class=\"\">22</span>:     <span class=\"n\">n_size</span> <span class=\"o\">=</span> <span class=\"n\">n</span><span class=\"o\">.</span><span class=\"n\">shape</span><span class=\"p\">[</span><span class=\"mf\">0</span><span class=\"p\">]</span></pre>\n",
       "<pre class='cython code score-0 '>  __pyx_v_n_size = (__pyx_v_n.shape[0]);\n",
       "</pre><pre class=\"cython line score-0\" onclick=\"(function(s){s.display=s.display==='block'?'none':'block'})(this.nextElementSibling.style)\">+<span class=\"\">23</span>:     <span class=\"n\">m_size</span> <span class=\"o\">=</span> <span class=\"n\">m</span><span class=\"o\">.</span><span class=\"n\">shape</span><span class=\"p\">[</span><span class=\"mf\">0</span><span class=\"p\">]</span></pre>\n",
       "<pre class='cython code score-0 '>  __pyx_v_m_size = (__pyx_v_m.shape[0]);\n",
       "</pre><pre class=\"cython line score-34\" onclick=\"(function(s){s.display=s.display==='block'?'none':'block'})(this.nextElementSibling.style)\">+<span class=\"\">24</span>:     <span class=\"n\">result</span> <span class=\"o\">=</span> <span class=\"n\">np</span><span class=\"o\">.</span><span class=\"n\">zeros</span><span class=\"p\">((</span><span class=\"n\">h_size</span><span class=\"p\">,</span> <span class=\"n\">k_size</span><span class=\"p\">))</span></pre>\n",
       "<pre class='cython code score-34 '>  <span class='pyx_c_api'>__Pyx_GetModuleGlobalName</span>(__pyx_t_1, __pyx_n_s_np);<span class='error_goto'> if (unlikely(!__pyx_t_1)) __PYX_ERR(0, 24, __pyx_L1_error)</span>\n",
       "  <span class='refnanny'>__Pyx_GOTREF</span>(__pyx_t_1);\n",
       "  __pyx_t_2 = <span class='pyx_c_api'>__Pyx_PyObject_GetAttrStr</span>(__pyx_t_1, __pyx_n_s_zeros);<span class='error_goto'> if (unlikely(!__pyx_t_2)) __PYX_ERR(0, 24, __pyx_L1_error)</span>\n",
       "  <span class='refnanny'>__Pyx_GOTREF</span>(__pyx_t_2);\n",
       "  <span class='pyx_macro_api'>__Pyx_DECREF</span>(__pyx_t_1); __pyx_t_1 = 0;\n",
       "  __pyx_t_1 = <span class='pyx_c_api'>__Pyx_PyInt_From_int</span>(__pyx_v_h_size);<span class='error_goto'> if (unlikely(!__pyx_t_1)) __PYX_ERR(0, 24, __pyx_L1_error)</span>\n",
       "  <span class='refnanny'>__Pyx_GOTREF</span>(__pyx_t_1);\n",
       "  __pyx_t_5 = <span class='pyx_c_api'>__Pyx_PyInt_From_int</span>(__pyx_v_k_size);<span class='error_goto'> if (unlikely(!__pyx_t_5)) __PYX_ERR(0, 24, __pyx_L1_error)</span>\n",
       "  <span class='refnanny'>__Pyx_GOTREF</span>(__pyx_t_5);\n",
       "  __pyx_t_6 = <span class='py_c_api'>PyTuple_New</span>(2);<span class='error_goto'> if (unlikely(!__pyx_t_6)) __PYX_ERR(0, 24, __pyx_L1_error)</span>\n",
       "  <span class='refnanny'>__Pyx_GOTREF</span>(__pyx_t_6);\n",
       "  <span class='refnanny'>__Pyx_GIVEREF</span>(__pyx_t_1);\n",
       "  <span class='py_macro_api'>PyTuple_SET_ITEM</span>(__pyx_t_6, 0, __pyx_t_1);\n",
       "  <span class='refnanny'>__Pyx_GIVEREF</span>(__pyx_t_5);\n",
       "  <span class='py_macro_api'>PyTuple_SET_ITEM</span>(__pyx_t_6, 1, __pyx_t_5);\n",
       "  __pyx_t_1 = 0;\n",
       "  __pyx_t_5 = 0;\n",
       "  __pyx_t_5 = NULL;\n",
       "  __pyx_t_7 = 0;\n",
       "  if (CYTHON_UNPACK_METHODS &amp;&amp; unlikely(<span class='py_c_api'>PyMethod_Check</span>(__pyx_t_2))) {\n",
       "    __pyx_t_5 = <span class='py_macro_api'>PyMethod_GET_SELF</span>(__pyx_t_2);\n",
       "    if (likely(__pyx_t_5)) {\n",
       "      PyObject* function = <span class='py_macro_api'>PyMethod_GET_FUNCTION</span>(__pyx_t_2);\n",
       "      <span class='pyx_macro_api'>__Pyx_INCREF</span>(__pyx_t_5);\n",
       "      <span class='pyx_macro_api'>__Pyx_INCREF</span>(function);\n",
       "      <span class='pyx_macro_api'>__Pyx_DECREF_SET</span>(__pyx_t_2, function);\n",
       "      __pyx_t_7 = 1;\n",
       "    }\n",
       "  }\n",
       "  {\n",
       "    PyObject *__pyx_callargs[2] = {__pyx_t_5, __pyx_t_6};\n",
       "    __pyx_t_3 = <span class='pyx_c_api'>__Pyx_PyObject_FastCall</span>(__pyx_t_2, __pyx_callargs+1-__pyx_t_7, 1+__pyx_t_7);\n",
       "    <span class='pyx_macro_api'>__Pyx_XDECREF</span>(__pyx_t_5); __pyx_t_5 = 0;\n",
       "    <span class='pyx_macro_api'>__Pyx_DECREF</span>(__pyx_t_6); __pyx_t_6 = 0;\n",
       "    if (unlikely(!__pyx_t_3)) <span class='error_goto'>__PYX_ERR(0, 24, __pyx_L1_error)</span>\n",
       "    <span class='refnanny'>__Pyx_GOTREF</span>(__pyx_t_3);\n",
       "    <span class='pyx_macro_api'>__Pyx_DECREF</span>(__pyx_t_2); __pyx_t_2 = 0;\n",
       "  }\n",
       "  __pyx_t_8 = <span class='pyx_c_api'>__Pyx_PyObject_to_MemoryviewSlice_d_dc_double</span>(__pyx_t_3, PyBUF_WRITABLE);<span class='error_goto'> if (unlikely(!__pyx_t_8.memview)) __PYX_ERR(0, 24, __pyx_L1_error)</span>\n",
       "  <span class='pyx_macro_api'>__Pyx_DECREF</span>(__pyx_t_3); __pyx_t_3 = 0;\n",
       "  __pyx_v_result = __pyx_t_8;\n",
       "  __pyx_t_8.memview = NULL;\n",
       "  __pyx_t_8.data = NULL;\n",
       "</pre><pre class=\"cython line score-0\">&#xA0;<span class=\"\">25</span>: </pre>\n",
       "<pre class=\"cython line score-4\" onclick=\"(function(s){s.display=s.display==='block'?'none':'block'})(this.nextElementSibling.style)\">+<span class=\"\">26</span>:     <span class=\"k\">for</span> <span class=\"n\">i_h</span> <span class=\"ow\">in</span> <span class=\"n\">prange</span><span class=\"p\">(</span><span class=\"n\">h_size</span><span class=\"p\">,</span> <span class=\"k\">nogil</span><span class=\"o\">=</span><span class=\"bp\">True</span><span class=\"p\">):</span>  <span class=\"c\"># loop over the reciprocal space coordinates</span></pre>\n",
       "<pre class='cython code score-4 '>  {\n",
       "      #ifdef WITH_THREAD\n",
       "      PyThreadState *_save;\n",
       "      Py_UNBLOCK_THREADS\n",
       "      <span class='pyx_c_api'>__Pyx_FastGIL_Remember</span>();\n",
       "      #endif\n",
       "      /*try:*/ {\n",
       "        __pyx_t_7 = __pyx_v_h_size;\n",
       "        {\n",
       "            #if ((defined(__APPLE__) || defined(__OSX__)) &amp;&amp; (defined(__GNUC__) &amp;&amp; (__GNUC__ &gt; 2 || (__GNUC__ == 2 &amp;&amp; (__GNUC_MINOR__ &gt; 95)))))\n",
       "                #undef likely\n",
       "                #undef unlikely\n",
       "                #define likely(x)   (x)\n",
       "                #define unlikely(x) (x)\n",
       "            #endif\n",
       "            __pyx_t_10 = (__pyx_t_7 - 0 + 1 - 1/abs(1)) / 1;\n",
       "            if (__pyx_t_10 &gt; 0)\n",
       "            {\n",
       "                #ifdef _OPENMP\n",
       "                #pragma omp parallel\n",
       "                #endif /* _OPENMP */\n",
       "                {\n",
       "                    #ifdef _OPENMP\n",
       "                    #pragma omp for firstprivate(__pyx_v_i_h) lastprivate(__pyx_v_i_h) lastprivate(__pyx_v_i_k) lastprivate(__pyx_v_i_m) lastprivate(__pyx_v_i_n) reduction(+:__pyx_v_tmp)\n",
       "                    #endif /* _OPENMP */\n",
       "                    for (__pyx_t_9 = 0; __pyx_t_9 &lt; __pyx_t_10; __pyx_t_9++){\n",
       "                        {\n",
       "                            __pyx_v_i_h = (int)(0 + 1 * __pyx_t_9);\n",
       "                            /* Initialize private variables to invalid values */\n",
       "                            __pyx_v_i_k = ((int)0xbad0bad0);\n",
       "                            __pyx_v_i_m = ((int)0xbad0bad0);\n",
       "                            __pyx_v_i_n = ((int)0xbad0bad0);\n",
       "/* … */\n",
       "      /*finally:*/ {\n",
       "        /*normal exit:*/{\n",
       "          #ifdef WITH_THREAD\n",
       "          <span class='pyx_c_api'>__Pyx_FastGIL_Forget</span>();\n",
       "          Py_BLOCK_THREADS\n",
       "          #endif\n",
       "          goto __pyx_L5;\n",
       "        }\n",
       "        __pyx_L5:;\n",
       "      }\n",
       "  }\n",
       "</pre><pre class=\"cython line score-0\" onclick=\"(function(s){s.display=s.display==='block'?'none':'block'})(this.nextElementSibling.style)\">+<span class=\"\">27</span>:         <span class=\"k\">for</span> <span class=\"n\">i_k</span> <span class=\"ow\">in</span> <span class=\"nb\">range</span><span class=\"p\">(</span><span class=\"n\">k_size</span><span class=\"p\">):</span></pre>\n",
       "<pre class='cython code score-0 '>                            __pyx_t_11 = __pyx_v_k_size;\n",
       "                            __pyx_t_12 = __pyx_t_11;\n",
       "                            for (__pyx_t_13 = 0; __pyx_t_13 &lt; __pyx_t_12; __pyx_t_13+=1) {\n",
       "                              __pyx_v_i_k = __pyx_t_13;\n",
       "</pre><pre class=\"cython line score-0\" onclick=\"(function(s){s.display=s.display==='block'?'none':'block'})(this.nextElementSibling.style)\">+<span class=\"\">28</span>:             <span class=\"n\">tmp</span> <span class=\"o\">=</span> <span class=\"mf\">0.0</span></pre>\n",
       "<pre class='cython code score-0 '>                              __pyx_v_tmp = __pyx_t_double_complex_from_parts(0.0, 0);\n",
       "</pre><pre class=\"cython line score-0\" onclick=\"(function(s){s.display=s.display==='block'?'none':'block'})(this.nextElementSibling.style)\">+<span class=\"\">29</span>:             <span class=\"k\">for</span> <span class=\"n\">i_n</span> <span class=\"ow\">in</span> <span class=\"nb\">range</span><span class=\"p\">(</span><span class=\"n\">n_size</span><span class=\"p\">):</span>  <span class=\"c\"># loop and sum over unit-cells</span></pre>\n",
       "<pre class='cython code score-0 '>                              __pyx_t_14 = __pyx_v_n_size;\n",
       "                              __pyx_t_15 = __pyx_t_14;\n",
       "                              for (__pyx_t_16 = 0; __pyx_t_16 &lt; __pyx_t_15; __pyx_t_16+=1) {\n",
       "                                __pyx_v_i_n = __pyx_t_16;\n",
       "</pre><pre class=\"cython line score-0\" onclick=\"(function(s){s.display=s.display==='block'?'none':'block'})(this.nextElementSibling.style)\">+<span class=\"\">30</span>:                 <span class=\"k\">for</span> <span class=\"n\">i_m</span> <span class=\"ow\">in</span> <span class=\"nb\">range</span><span class=\"p\">(</span><span class=\"n\">m_size</span><span class=\"p\">):</span></pre>\n",
       "<pre class='cython code score-0 '>                                __pyx_t_17 = __pyx_v_m_size;\n",
       "                                __pyx_t_18 = __pyx_t_17;\n",
       "                                for (__pyx_t_19 = 0; __pyx_t_19 &lt; __pyx_t_18; __pyx_t_19+=1) {\n",
       "                                  __pyx_v_i_m = __pyx_t_19;\n",
       "</pre><pre class=\"cython line score-0\" onclick=\"(function(s){s.display=s.display==='block'?'none':'block'})(this.nextElementSibling.style)\">+<span class=\"\">31</span>:                     <span class=\"n\">tmp</span> <span class=\"o\">+=</span> <span class=\"n\">cexp</span><span class=\"p\">(</span><span class=\"n\">two_j_pi</span><span class=\"o\">*</span><span class=\"p\">(</span><span class=\"n\">h</span><span class=\"p\">[</span><span class=\"n\">i_h</span><span class=\"p\">]</span><span class=\"o\">*</span><span class=\"n\">n</span><span class=\"p\">[</span><span class=\"n\">i_n</span><span class=\"p\">]</span> <span class=\"o\">+</span> <span class=\"n\">k</span><span class=\"p\">[</span><span class=\"n\">i_k</span><span class=\"p\">]</span><span class=\"o\">*</span><span class=\"n\">m</span><span class=\"p\">[</span><span class=\"n\">i_m</span><span class=\"p\">]))</span></pre>\n",
       "<pre class='cython code score-0 '>                                  __pyx_t_20 = __pyx_v_i_h;\n",
       "                                  __pyx_t_21 = __pyx_v_i_n;\n",
       "                                  __pyx_t_22 = __pyx_v_i_k;\n",
       "                                  __pyx_t_23 = __pyx_v_i_m;\n",
       "                                  __pyx_v_tmp = __Pyx_c_sum_double(__pyx_v_tmp, cexp(__Pyx_c_prod_double(__pyx_v_two_j_pi, __pyx_t_double_complex_from_parts((((*((double *) ( /* dim=0 */ ((char *) (((double *) __pyx_v_h.data) + __pyx_t_20)) ))) * (*((long *) ( /* dim=0 */ ((char *) (((long *) __pyx_v_n.data) + __pyx_t_21)) )))) + ((*((double *) ( /* dim=0 */ ((char *) (((double *) __pyx_v_k.data) + __pyx_t_22)) ))) * (*((long *) ( /* dim=0 */ ((char *) (((long *) __pyx_v_m.data) + __pyx_t_23)) ))))), 0))));\n",
       "                                }\n",
       "                              }\n",
       "</pre><pre class=\"cython line score-0\" onclick=\"(function(s){s.display=s.display==='block'?'none':'block'})(this.nextElementSibling.style)\">+<span class=\"\">32</span>:             <span class=\"n\">result</span><span class=\"p\">[</span><span class=\"n\">i_h</span><span class=\"p\">,</span> <span class=\"n\">i_k</span><span class=\"p\">]</span> <span class=\"o\">+=</span> <span class=\"n\">cabs</span><span class=\"p\">(</span><span class=\"n\">tmp</span><span class=\"p\">)</span><span class=\"o\">**</span><span class=\"mf\">2</span></pre>\n",
       "<pre class='cython code score-0 '>                              __pyx_t_23 = __pyx_v_i_h;\n",
       "                              __pyx_t_22 = __pyx_v_i_k;\n",
       "                              *((double *) ( /* dim=1 */ ((char *) (((double *) ( /* dim=0 */ (__pyx_v_result.data + __pyx_t_23 * __pyx_v_result.strides[0]) )) + __pyx_t_22)) )) += pow(cabs(__pyx_v_tmp), 2.0);\n",
       "                            }\n",
       "                        }\n",
       "                    }\n",
       "                }\n",
       "            }\n",
       "        }\n",
       "        #if ((defined(__APPLE__) || defined(__OSX__)) &amp;&amp; (defined(__GNUC__) &amp;&amp; (__GNUC__ &gt; 2 || (__GNUC__ == 2 &amp;&amp; (__GNUC_MINOR__ &gt; 95)))))\n",
       "            #undef likely\n",
       "            #undef unlikely\n",
       "            #define likely(x)   __builtin_expect(!!(x), 1)\n",
       "            #define unlikely(x) __builtin_expect(!!(x), 0)\n",
       "        #endif\n",
       "      }\n",
       "</pre><pre class=\"cython line score-21\" onclick=\"(function(s){s.display=s.display==='block'?'none':'block'})(this.nextElementSibling.style)\">+<span class=\"\">33</span>:     <span class=\"k\">return</span> <span class=\"n\">np</span><span class=\"o\">.</span><span class=\"n\">asarray</span><span class=\"p\">(</span><span class=\"n\">result</span><span class=\"p\">)</span></pre>\n",
       "<pre class='cython code score-21 '>  <span class='pyx_macro_api'>__Pyx_XDECREF</span>(__pyx_r);\n",
       "  <span class='pyx_c_api'>__Pyx_GetModuleGlobalName</span>(__pyx_t_2, __pyx_n_s_np);<span class='error_goto'> if (unlikely(!__pyx_t_2)) __PYX_ERR(0, 33, __pyx_L1_error)</span>\n",
       "  <span class='refnanny'>__Pyx_GOTREF</span>(__pyx_t_2);\n",
       "  __pyx_t_6 = <span class='pyx_c_api'>__Pyx_PyObject_GetAttrStr</span>(__pyx_t_2, __pyx_n_s_asarray);<span class='error_goto'> if (unlikely(!__pyx_t_6)) __PYX_ERR(0, 33, __pyx_L1_error)</span>\n",
       "  <span class='refnanny'>__Pyx_GOTREF</span>(__pyx_t_6);\n",
       "  <span class='pyx_macro_api'>__Pyx_DECREF</span>(__pyx_t_2); __pyx_t_2 = 0;\n",
       "  __pyx_t_2 = __pyx_memoryview_fromslice(__pyx_v_result, 2, (PyObject *(*)(char *)) __pyx_memview_get_double, (int (*)(char *, PyObject *)) __pyx_memview_set_double, 0);;<span class='error_goto'> if (unlikely(!__pyx_t_2)) __PYX_ERR(0, 33, __pyx_L1_error)</span>\n",
       "  <span class='refnanny'>__Pyx_GOTREF</span>(__pyx_t_2);\n",
       "  __pyx_t_5 = NULL;\n",
       "  __pyx_t_10 = 0;\n",
       "  if (CYTHON_UNPACK_METHODS &amp;&amp; unlikely(<span class='py_c_api'>PyMethod_Check</span>(__pyx_t_6))) {\n",
       "    __pyx_t_5 = <span class='py_macro_api'>PyMethod_GET_SELF</span>(__pyx_t_6);\n",
       "    if (likely(__pyx_t_5)) {\n",
       "      PyObject* function = <span class='py_macro_api'>PyMethod_GET_FUNCTION</span>(__pyx_t_6);\n",
       "      <span class='pyx_macro_api'>__Pyx_INCREF</span>(__pyx_t_5);\n",
       "      <span class='pyx_macro_api'>__Pyx_INCREF</span>(function);\n",
       "      <span class='pyx_macro_api'>__Pyx_DECREF_SET</span>(__pyx_t_6, function);\n",
       "      __pyx_t_10 = 1;\n",
       "    }\n",
       "  }\n",
       "  {\n",
       "    PyObject *__pyx_callargs[2] = {__pyx_t_5, __pyx_t_2};\n",
       "    __pyx_t_3 = <span class='pyx_c_api'>__Pyx_PyObject_FastCall</span>(__pyx_t_6, __pyx_callargs+1-__pyx_t_10, 1+__pyx_t_10);\n",
       "    <span class='pyx_macro_api'>__Pyx_XDECREF</span>(__pyx_t_5); __pyx_t_5 = 0;\n",
       "    <span class='pyx_macro_api'>__Pyx_DECREF</span>(__pyx_t_2); __pyx_t_2 = 0;\n",
       "    if (unlikely(!__pyx_t_3)) <span class='error_goto'>__PYX_ERR(0, 33, __pyx_L1_error)</span>\n",
       "    <span class='refnanny'>__Pyx_GOTREF</span>(__pyx_t_3);\n",
       "    <span class='pyx_macro_api'>__Pyx_DECREF</span>(__pyx_t_6); __pyx_t_6 = 0;\n",
       "  }\n",
       "  __pyx_r = __pyx_t_3;\n",
       "  __pyx_t_3 = 0;\n",
       "  goto __pyx_L0;\n",
       "</pre></div></body></html>"
      ],
      "text/plain": [
       "<IPython.core.display.HTML object>"
      ]
     },
     "execution_count": 42,
     "metadata": {},
     "output_type": "execute_result"
    }
   ],
   "source": [
    "%%cython --compile-args=-fopenmp --link-args=-fopenmp -a\n",
    "#cython: embedsignature=True, language_level=3, binding=True\n",
    "#cython: boundscheck=False, wraparound=False, cdivision=True, initializedcheck=False,\n",
    "## This is for developping:\n",
    "## cython: profile=True, warn.undeclared=True, warn.unused=True, warn.unused_result=False, warn.unused_arg=True\n",
    "\n",
    "import numpy as np\n",
    "from cython.parallel import prange\n",
    "from libc.complex cimport cabs, cexp\n",
    "    \n",
    "def Laue_cython(long[::1] n, \n",
    "                long[::1] m, \n",
    "                double[::1] h, \n",
    "                double[::1] k):\n",
    "    cdef:\n",
    "        double[:, ::1] result\n",
    "        double complex tmp, two_j_pi\n",
    "        int i_h, i_k, i_m, i_n, h_size, k_size, n_size, m_size\n",
    "        \n",
    "    two_j_pi = np.pi*2j\n",
    "    h_size = h.shape[0]\n",
    "    k_size = k.shape[0]\n",
    "    n_size = n.shape[0]\n",
    "    m_size = m.shape[0]\n",
    "    result = np.zeros((h_size, k_size))\n",
    "    \n",
    "    for i_h in prange(h_size, nogil=True):  # loop over the reciprocal space coordinates\n",
    "        for i_k in range(k_size):\n",
    "            tmp = 0.0\n",
    "            for i_n in range(n_size):  # loop and sum over unit-cells\n",
    "                for i_m in range(m_size):\n",
    "                    tmp += cexp(two_j_pi*(h[i_h]*n[i_n] + k[i_k]*m[i_m]))\n",
    "            result[i_h, i_k] += cabs(tmp)**2\n",
    "    return np.asarray(result)"
   ]
  },
  {
   "cell_type": "code",
   "execution_count": 43,
   "metadata": {
    "slideshow": {
     "slide_type": "subslide"
    }
   },
   "outputs": [
    {
     "name": "stdout",
     "output_type": "stream",
     "text": [
      "CPU times: user 540 ms, sys: 3.77 ms, total: 544 ms\n",
      "Wall time: 67 ms\n",
      "Error: 4.218847493575595e-15\n",
      "42.7 ms ± 387 µs per loop (mean ± std. dev. of 7 runs, 10 loops each)\n"
     ]
    }
   ],
   "source": [
    "#Compute and check error\n",
    "%time intensity = Laue_cython(n, m, h, k)\n",
    "print(\"Error:\", validate_sq(intensity))\n",
    "perf_sq_cython = %timeit -o Laue_cython(n, m, h, k)"
   ]
  },
  {
   "cell_type": "markdown",
   "metadata": {
    "slideshow": {
     "slide_type": "fragment"
    }
   },
   "source": [
    "### Exercise\n",
    "\n",
    "1. Implement the strained crystal diffraction using `Cython` ([Documentation](http://docs.cython.org/en/latest/)).\n",
    "\n",
    "2. Profile the code and store the timings in `perf_ci_cython`."
   ]
  },
  {
   "cell_type": "code",
   "execution_count": null,
   "id": "adjusted-turner",
   "metadata": {
    "slideshow": {
     "slide_type": "skip"
    }
   },
   "outputs": [],
   "source": [
    "%%cython --compile-args=-fopenmp --link-args=-fopenmp -a\n",
    "#%%cython -a\n",
    "#cython: embedsignature=True, language_level=3, binding=True\n",
    "# cython: boundscheck=False, wraparound=False, cdivision=True, initializedcheck=False,\n",
    "## This is for developping:\n",
    "## cython: profile=True, warn.undeclared=True, warn.unused=True, warn.unused_result=False, warn.unused_arg=True\n",
    "\n",
    "import numpy as np\n",
    "from cython.parallel import prange\n",
    "from libc.math cimport sqrt, pi, tanh\n",
    "from libc.complex cimport cabs, cexp\n",
    "    \n",
    "def Circ_cython(long[::1] n, \n",
    "                long[::1] m, \n",
    "                double[::1] h, \n",
    "                double[::1] k,\n",
    "                double e0,\n",
    "                double w):\n",
    "    pass"
   ]
  },
  {
   "cell_type": "code",
   "execution_count": 45,
   "id": "black-renewal",
   "metadata": {
    "slideshow": {
     "slide_type": "skip"
    }
   },
   "outputs": [
    {
     "name": "stdout",
     "output_type": "stream",
     "text": [
      "CPU times: user 876 ms, sys: 123 µs, total: 876 ms\n",
      "Wall time: 105 ms\n",
      "Error: 3.3097742436391504e-15\n",
      "72.7 ms ± 405 µs per loop (mean ± std. dev. of 7 runs, 10 loops each)\n"
     ]
    }
   ],
   "source": [
    "#Compute and check error\n",
    "%time intensity = Circ_cython(n, m, h, k, e0, w)\n",
    "print(\"Error:\", validate_ci(intensity))\n",
    "perf_ci_cython = %timeit -o Circ_cython(n, m, h, k, e0, w)"
   ]
  },
  {
   "cell_type": "markdown",
   "id": "vital-killer",
   "metadata": {
    "slideshow": {
     "slide_type": "subslide"
    }
   },
   "source": [
    "### Limits of `Cython`\n",
    "\n",
    "* The learning curve for `Cython` is steaper than that of `numba` since it targets C/C++ as intermediate language.\n",
    "* Distribution of compiled extensions can be an issue. \n",
    "* Distribution of source code (C or C++) requires the user to install a compiler (rarely on consumer targeted operating systems like Windows & MacOS).\n",
    "* Compiler features depend a lot on the operating system: For instance MacOS removed the support for OpenMP.\n",
    "* Issues about software distribution are addressed in the software engineering training course.\n",
    "\n",
    "The issue about OpenMP not being supported in some environments can be worked around using a `ThreadPool` in Python and a `nogil` section in Cython:"
   ]
  },
  {
   "cell_type": "code",
   "execution_count": 46,
   "id": "familiar-drive",
   "metadata": {
    "slideshow": {
     "slide_type": "subslide"
    }
   },
   "outputs": [
    {
     "data": {
      "text/html": [
       "<!DOCTYPE html>\n",
       "<!-- Generated by Cython 3.0a7 -->\n",
       "<html>\n",
       "<head>\n",
       "    <meta http-equiv=\"Content-Type\" content=\"text/html; charset=utf-8\" />\n",
       "    <title>Cython: _cython_magic_f7eaf57963f1cfe2851dd00023959fa25f5ca019.pyx</title>\n",
       "    <style type=\"text/css\">\n",
       "    \n",
       "body.cython { font-family: courier; font-size: 12; }\n",
       "\n",
       ".cython.tag  {  }\n",
       ".cython.line { color: #000000; margin: 0em }\n",
       ".cython.code { font-size: 9; color: #444444; display: none; margin: 0px 0px 0px 8px; border-left: 8px none; }\n",
       "\n",
       ".cython.line .run { background-color: #B0FFB0; }\n",
       ".cython.line .mis { background-color: #FFB0B0; }\n",
       ".cython.code.run  { border-left: 8px solid #B0FFB0; }\n",
       ".cython.code.mis  { border-left: 8px solid #FFB0B0; }\n",
       "\n",
       ".cython.code .py_c_api  { color: red; }\n",
       ".cython.code .py_macro_api  { color: #FF7000; }\n",
       ".cython.code .pyx_c_api  { color: #FF3000; }\n",
       ".cython.code .pyx_macro_api  { color: #FF7000; }\n",
       ".cython.code .refnanny  { color: #FFA000; }\n",
       ".cython.code .trace  { color: #FFA000; }\n",
       ".cython.code .error_goto  { color: #FFA000; }\n",
       "\n",
       ".cython.code .coerce  { color: #008000; border: 1px dotted #008000 }\n",
       ".cython.code .py_attr { color: #FF0000; font-weight: bold; }\n",
       ".cython.code .c_attr  { color: #0000FF; }\n",
       ".cython.code .py_call { color: #FF0000; font-weight: bold; }\n",
       ".cython.code .c_call  { color: #0000FF; }\n",
       "\n",
       ".cython.score-0 {background-color: #FFFFff;}\n",
       ".cython.score-1 {background-color: #FFFFe7;}\n",
       ".cython.score-2 {background-color: #FFFFd4;}\n",
       ".cython.score-3 {background-color: #FFFFc4;}\n",
       ".cython.score-4 {background-color: #FFFFb6;}\n",
       ".cython.score-5 {background-color: #FFFFaa;}\n",
       ".cython.score-6 {background-color: #FFFF9f;}\n",
       ".cython.score-7 {background-color: #FFFF96;}\n",
       ".cython.score-8 {background-color: #FFFF8d;}\n",
       ".cython.score-9 {background-color: #FFFF86;}\n",
       ".cython.score-10 {background-color: #FFFF7f;}\n",
       ".cython.score-11 {background-color: #FFFF79;}\n",
       ".cython.score-12 {background-color: #FFFF73;}\n",
       ".cython.score-13 {background-color: #FFFF6e;}\n",
       ".cython.score-14 {background-color: #FFFF6a;}\n",
       ".cython.score-15 {background-color: #FFFF66;}\n",
       ".cython.score-16 {background-color: #FFFF62;}\n",
       ".cython.score-17 {background-color: #FFFF5e;}\n",
       ".cython.score-18 {background-color: #FFFF5b;}\n",
       ".cython.score-19 {background-color: #FFFF57;}\n",
       ".cython.score-20 {background-color: #FFFF55;}\n",
       ".cython.score-21 {background-color: #FFFF52;}\n",
       ".cython.score-22 {background-color: #FFFF4f;}\n",
       ".cython.score-23 {background-color: #FFFF4d;}\n",
       ".cython.score-24 {background-color: #FFFF4b;}\n",
       ".cython.score-25 {background-color: #FFFF48;}\n",
       ".cython.score-26 {background-color: #FFFF46;}\n",
       ".cython.score-27 {background-color: #FFFF44;}\n",
       ".cython.score-28 {background-color: #FFFF43;}\n",
       ".cython.score-29 {background-color: #FFFF41;}\n",
       ".cython.score-30 {background-color: #FFFF3f;}\n",
       ".cython.score-31 {background-color: #FFFF3e;}\n",
       ".cython.score-32 {background-color: #FFFF3c;}\n",
       ".cython.score-33 {background-color: #FFFF3b;}\n",
       ".cython.score-34 {background-color: #FFFF39;}\n",
       ".cython.score-35 {background-color: #FFFF38;}\n",
       ".cython.score-36 {background-color: #FFFF37;}\n",
       ".cython.score-37 {background-color: #FFFF36;}\n",
       ".cython.score-38 {background-color: #FFFF35;}\n",
       ".cython.score-39 {background-color: #FFFF34;}\n",
       ".cython.score-40 {background-color: #FFFF33;}\n",
       ".cython.score-41 {background-color: #FFFF32;}\n",
       ".cython.score-42 {background-color: #FFFF31;}\n",
       ".cython.score-43 {background-color: #FFFF30;}\n",
       ".cython.score-44 {background-color: #FFFF2f;}\n",
       ".cython.score-45 {background-color: #FFFF2e;}\n",
       ".cython.score-46 {background-color: #FFFF2d;}\n",
       ".cython.score-47 {background-color: #FFFF2c;}\n",
       ".cython.score-48 {background-color: #FFFF2b;}\n",
       ".cython.score-49 {background-color: #FFFF2b;}\n",
       ".cython.score-50 {background-color: #FFFF2a;}\n",
       ".cython.score-51 {background-color: #FFFF29;}\n",
       ".cython.score-52 {background-color: #FFFF29;}\n",
       ".cython.score-53 {background-color: #FFFF28;}\n",
       ".cython.score-54 {background-color: #FFFF27;}\n",
       ".cython.score-55 {background-color: #FFFF27;}\n",
       ".cython.score-56 {background-color: #FFFF26;}\n",
       ".cython.score-57 {background-color: #FFFF26;}\n",
       ".cython.score-58 {background-color: #FFFF25;}\n",
       ".cython.score-59 {background-color: #FFFF24;}\n",
       ".cython.score-60 {background-color: #FFFF24;}\n",
       ".cython.score-61 {background-color: #FFFF23;}\n",
       ".cython.score-62 {background-color: #FFFF23;}\n",
       ".cython.score-63 {background-color: #FFFF22;}\n",
       ".cython.score-64 {background-color: #FFFF22;}\n",
       ".cython.score-65 {background-color: #FFFF22;}\n",
       ".cython.score-66 {background-color: #FFFF21;}\n",
       ".cython.score-67 {background-color: #FFFF21;}\n",
       ".cython.score-68 {background-color: #FFFF20;}\n",
       ".cython.score-69 {background-color: #FFFF20;}\n",
       ".cython.score-70 {background-color: #FFFF1f;}\n",
       ".cython.score-71 {background-color: #FFFF1f;}\n",
       ".cython.score-72 {background-color: #FFFF1f;}\n",
       ".cython.score-73 {background-color: #FFFF1e;}\n",
       ".cython.score-74 {background-color: #FFFF1e;}\n",
       ".cython.score-75 {background-color: #FFFF1e;}\n",
       ".cython.score-76 {background-color: #FFFF1d;}\n",
       ".cython.score-77 {background-color: #FFFF1d;}\n",
       ".cython.score-78 {background-color: #FFFF1c;}\n",
       ".cython.score-79 {background-color: #FFFF1c;}\n",
       ".cython.score-80 {background-color: #FFFF1c;}\n",
       ".cython.score-81 {background-color: #FFFF1c;}\n",
       ".cython.score-82 {background-color: #FFFF1b;}\n",
       ".cython.score-83 {background-color: #FFFF1b;}\n",
       ".cython.score-84 {background-color: #FFFF1b;}\n",
       ".cython.score-85 {background-color: #FFFF1a;}\n",
       ".cython.score-86 {background-color: #FFFF1a;}\n",
       ".cython.score-87 {background-color: #FFFF1a;}\n",
       ".cython.score-88 {background-color: #FFFF1a;}\n",
       ".cython.score-89 {background-color: #FFFF19;}\n",
       ".cython.score-90 {background-color: #FFFF19;}\n",
       ".cython.score-91 {background-color: #FFFF19;}\n",
       ".cython.score-92 {background-color: #FFFF19;}\n",
       ".cython.score-93 {background-color: #FFFF18;}\n",
       ".cython.score-94 {background-color: #FFFF18;}\n",
       ".cython.score-95 {background-color: #FFFF18;}\n",
       ".cython.score-96 {background-color: #FFFF18;}\n",
       ".cython.score-97 {background-color: #FFFF17;}\n",
       ".cython.score-98 {background-color: #FFFF17;}\n",
       ".cython.score-99 {background-color: #FFFF17;}\n",
       ".cython.score-100 {background-color: #FFFF17;}\n",
       ".cython.score-101 {background-color: #FFFF16;}\n",
       ".cython.score-102 {background-color: #FFFF16;}\n",
       ".cython.score-103 {background-color: #FFFF16;}\n",
       ".cython.score-104 {background-color: #FFFF16;}\n",
       ".cython.score-105 {background-color: #FFFF16;}\n",
       ".cython.score-106 {background-color: #FFFF15;}\n",
       ".cython.score-107 {background-color: #FFFF15;}\n",
       ".cython.score-108 {background-color: #FFFF15;}\n",
       ".cython.score-109 {background-color: #FFFF15;}\n",
       ".cython.score-110 {background-color: #FFFF15;}\n",
       ".cython.score-111 {background-color: #FFFF15;}\n",
       ".cython.score-112 {background-color: #FFFF14;}\n",
       ".cython.score-113 {background-color: #FFFF14;}\n",
       ".cython.score-114 {background-color: #FFFF14;}\n",
       ".cython.score-115 {background-color: #FFFF14;}\n",
       ".cython.score-116 {background-color: #FFFF14;}\n",
       ".cython.score-117 {background-color: #FFFF14;}\n",
       ".cython.score-118 {background-color: #FFFF13;}\n",
       ".cython.score-119 {background-color: #FFFF13;}\n",
       ".cython.score-120 {background-color: #FFFF13;}\n",
       ".cython.score-121 {background-color: #FFFF13;}\n",
       ".cython.score-122 {background-color: #FFFF13;}\n",
       ".cython.score-123 {background-color: #FFFF13;}\n",
       ".cython.score-124 {background-color: #FFFF13;}\n",
       ".cython.score-125 {background-color: #FFFF12;}\n",
       ".cython.score-126 {background-color: #FFFF12;}\n",
       ".cython.score-127 {background-color: #FFFF12;}\n",
       ".cython.score-128 {background-color: #FFFF12;}\n",
       ".cython.score-129 {background-color: #FFFF12;}\n",
       ".cython.score-130 {background-color: #FFFF12;}\n",
       ".cython.score-131 {background-color: #FFFF12;}\n",
       ".cython.score-132 {background-color: #FFFF11;}\n",
       ".cython.score-133 {background-color: #FFFF11;}\n",
       ".cython.score-134 {background-color: #FFFF11;}\n",
       ".cython.score-135 {background-color: #FFFF11;}\n",
       ".cython.score-136 {background-color: #FFFF11;}\n",
       ".cython.score-137 {background-color: #FFFF11;}\n",
       ".cython.score-138 {background-color: #FFFF11;}\n",
       ".cython.score-139 {background-color: #FFFF11;}\n",
       ".cython.score-140 {background-color: #FFFF11;}\n",
       ".cython.score-141 {background-color: #FFFF10;}\n",
       ".cython.score-142 {background-color: #FFFF10;}\n",
       ".cython.score-143 {background-color: #FFFF10;}\n",
       ".cython.score-144 {background-color: #FFFF10;}\n",
       ".cython.score-145 {background-color: #FFFF10;}\n",
       ".cython.score-146 {background-color: #FFFF10;}\n",
       ".cython.score-147 {background-color: #FFFF10;}\n",
       ".cython.score-148 {background-color: #FFFF10;}\n",
       ".cython.score-149 {background-color: #FFFF10;}\n",
       ".cython.score-150 {background-color: #FFFF0f;}\n",
       ".cython.score-151 {background-color: #FFFF0f;}\n",
       ".cython.score-152 {background-color: #FFFF0f;}\n",
       ".cython.score-153 {background-color: #FFFF0f;}\n",
       ".cython.score-154 {background-color: #FFFF0f;}\n",
       ".cython.score-155 {background-color: #FFFF0f;}\n",
       ".cython.score-156 {background-color: #FFFF0f;}\n",
       ".cython.score-157 {background-color: #FFFF0f;}\n",
       ".cython.score-158 {background-color: #FFFF0f;}\n",
       ".cython.score-159 {background-color: #FFFF0f;}\n",
       ".cython.score-160 {background-color: #FFFF0f;}\n",
       ".cython.score-161 {background-color: #FFFF0e;}\n",
       ".cython.score-162 {background-color: #FFFF0e;}\n",
       ".cython.score-163 {background-color: #FFFF0e;}\n",
       ".cython.score-164 {background-color: #FFFF0e;}\n",
       ".cython.score-165 {background-color: #FFFF0e;}\n",
       ".cython.score-166 {background-color: #FFFF0e;}\n",
       ".cython.score-167 {background-color: #FFFF0e;}\n",
       ".cython.score-168 {background-color: #FFFF0e;}\n",
       ".cython.score-169 {background-color: #FFFF0e;}\n",
       ".cython.score-170 {background-color: #FFFF0e;}\n",
       ".cython.score-171 {background-color: #FFFF0e;}\n",
       ".cython.score-172 {background-color: #FFFF0e;}\n",
       ".cython.score-173 {background-color: #FFFF0d;}\n",
       ".cython.score-174 {background-color: #FFFF0d;}\n",
       ".cython.score-175 {background-color: #FFFF0d;}\n",
       ".cython.score-176 {background-color: #FFFF0d;}\n",
       ".cython.score-177 {background-color: #FFFF0d;}\n",
       ".cython.score-178 {background-color: #FFFF0d;}\n",
       ".cython.score-179 {background-color: #FFFF0d;}\n",
       ".cython.score-180 {background-color: #FFFF0d;}\n",
       ".cython.score-181 {background-color: #FFFF0d;}\n",
       ".cython.score-182 {background-color: #FFFF0d;}\n",
       ".cython.score-183 {background-color: #FFFF0d;}\n",
       ".cython.score-184 {background-color: #FFFF0d;}\n",
       ".cython.score-185 {background-color: #FFFF0d;}\n",
       ".cython.score-186 {background-color: #FFFF0d;}\n",
       ".cython.score-187 {background-color: #FFFF0c;}\n",
       ".cython.score-188 {background-color: #FFFF0c;}\n",
       ".cython.score-189 {background-color: #FFFF0c;}\n",
       ".cython.score-190 {background-color: #FFFF0c;}\n",
       ".cython.score-191 {background-color: #FFFF0c;}\n",
       ".cython.score-192 {background-color: #FFFF0c;}\n",
       ".cython.score-193 {background-color: #FFFF0c;}\n",
       ".cython.score-194 {background-color: #FFFF0c;}\n",
       ".cython.score-195 {background-color: #FFFF0c;}\n",
       ".cython.score-196 {background-color: #FFFF0c;}\n",
       ".cython.score-197 {background-color: #FFFF0c;}\n",
       ".cython.score-198 {background-color: #FFFF0c;}\n",
       ".cython.score-199 {background-color: #FFFF0c;}\n",
       ".cython.score-200 {background-color: #FFFF0c;}\n",
       ".cython.score-201 {background-color: #FFFF0c;}\n",
       ".cython.score-202 {background-color: #FFFF0c;}\n",
       ".cython.score-203 {background-color: #FFFF0b;}\n",
       ".cython.score-204 {background-color: #FFFF0b;}\n",
       ".cython.score-205 {background-color: #FFFF0b;}\n",
       ".cython.score-206 {background-color: #FFFF0b;}\n",
       ".cython.score-207 {background-color: #FFFF0b;}\n",
       ".cython.score-208 {background-color: #FFFF0b;}\n",
       ".cython.score-209 {background-color: #FFFF0b;}\n",
       ".cython.score-210 {background-color: #FFFF0b;}\n",
       ".cython.score-211 {background-color: #FFFF0b;}\n",
       ".cython.score-212 {background-color: #FFFF0b;}\n",
       ".cython.score-213 {background-color: #FFFF0b;}\n",
       ".cython.score-214 {background-color: #FFFF0b;}\n",
       ".cython.score-215 {background-color: #FFFF0b;}\n",
       ".cython.score-216 {background-color: #FFFF0b;}\n",
       ".cython.score-217 {background-color: #FFFF0b;}\n",
       ".cython.score-218 {background-color: #FFFF0b;}\n",
       ".cython.score-219 {background-color: #FFFF0b;}\n",
       ".cython.score-220 {background-color: #FFFF0b;}\n",
       ".cython.score-221 {background-color: #FFFF0b;}\n",
       ".cython.score-222 {background-color: #FFFF0a;}\n",
       ".cython.score-223 {background-color: #FFFF0a;}\n",
       ".cython.score-224 {background-color: #FFFF0a;}\n",
       ".cython.score-225 {background-color: #FFFF0a;}\n",
       ".cython.score-226 {background-color: #FFFF0a;}\n",
       ".cython.score-227 {background-color: #FFFF0a;}\n",
       ".cython.score-228 {background-color: #FFFF0a;}\n",
       ".cython.score-229 {background-color: #FFFF0a;}\n",
       ".cython.score-230 {background-color: #FFFF0a;}\n",
       ".cython.score-231 {background-color: #FFFF0a;}\n",
       ".cython.score-232 {background-color: #FFFF0a;}\n",
       ".cython.score-233 {background-color: #FFFF0a;}\n",
       ".cython.score-234 {background-color: #FFFF0a;}\n",
       ".cython.score-235 {background-color: #FFFF0a;}\n",
       ".cython.score-236 {background-color: #FFFF0a;}\n",
       ".cython.score-237 {background-color: #FFFF0a;}\n",
       ".cython.score-238 {background-color: #FFFF0a;}\n",
       ".cython.score-239 {background-color: #FFFF0a;}\n",
       ".cython.score-240 {background-color: #FFFF0a;}\n",
       ".cython.score-241 {background-color: #FFFF0a;}\n",
       ".cython.score-242 {background-color: #FFFF0a;}\n",
       ".cython.score-243 {background-color: #FFFF0a;}\n",
       ".cython.score-244 {background-color: #FFFF0a;}\n",
       ".cython.score-245 {background-color: #FFFF0a;}\n",
       ".cython.score-246 {background-color: #FFFF09;}\n",
       ".cython.score-247 {background-color: #FFFF09;}\n",
       ".cython.score-248 {background-color: #FFFF09;}\n",
       ".cython.score-249 {background-color: #FFFF09;}\n",
       ".cython.score-250 {background-color: #FFFF09;}\n",
       ".cython.score-251 {background-color: #FFFF09;}\n",
       ".cython.score-252 {background-color: #FFFF09;}\n",
       ".cython.score-253 {background-color: #FFFF09;}\n",
       ".cython.score-254 {background-color: #FFFF09;}\n",
       ".cython .hll { background-color: #ffffcc }\n",
       ".cython  { background: #f8f8f8; }\n",
       ".cython .c { color: #408080; font-style: italic } /* Comment */\n",
       ".cython .err { border: 1px solid #FF0000 } /* Error */\n",
       ".cython .k { color: #008000; font-weight: bold } /* Keyword */\n",
       ".cython .o { color: #666666 } /* Operator */\n",
       ".cython .ch { color: #408080; font-style: italic } /* Comment.Hashbang */\n",
       ".cython .cm { color: #408080; font-style: italic } /* Comment.Multiline */\n",
       ".cython .cp { color: #BC7A00 } /* Comment.Preproc */\n",
       ".cython .cpf { color: #408080; font-style: italic } /* Comment.PreprocFile */\n",
       ".cython .c1 { color: #408080; font-style: italic } /* Comment.Single */\n",
       ".cython .cs { color: #408080; font-style: italic } /* Comment.Special */\n",
       ".cython .gd { color: #A00000 } /* Generic.Deleted */\n",
       ".cython .ge { font-style: italic } /* Generic.Emph */\n",
       ".cython .gr { color: #FF0000 } /* Generic.Error */\n",
       ".cython .gh { color: #000080; font-weight: bold } /* Generic.Heading */\n",
       ".cython .gi { color: #00A000 } /* Generic.Inserted */\n",
       ".cython .go { color: #888888 } /* Generic.Output */\n",
       ".cython .gp { color: #000080; font-weight: bold } /* Generic.Prompt */\n",
       ".cython .gs { font-weight: bold } /* Generic.Strong */\n",
       ".cython .gu { color: #800080; font-weight: bold } /* Generic.Subheading */\n",
       ".cython .gt { color: #0044DD } /* Generic.Traceback */\n",
       ".cython .kc { color: #008000; font-weight: bold } /* Keyword.Constant */\n",
       ".cython .kd { color: #008000; font-weight: bold } /* Keyword.Declaration */\n",
       ".cython .kn { color: #008000; font-weight: bold } /* Keyword.Namespace */\n",
       ".cython .kp { color: #008000 } /* Keyword.Pseudo */\n",
       ".cython .kr { color: #008000; font-weight: bold } /* Keyword.Reserved */\n",
       ".cython .kt { color: #B00040 } /* Keyword.Type */\n",
       ".cython .m { color: #666666 } /* Literal.Number */\n",
       ".cython .s { color: #BA2121 } /* Literal.String */\n",
       ".cython .na { color: #7D9029 } /* Name.Attribute */\n",
       ".cython .nb { color: #008000 } /* Name.Builtin */\n",
       ".cython .nc { color: #0000FF; font-weight: bold } /* Name.Class */\n",
       ".cython .no { color: #880000 } /* Name.Constant */\n",
       ".cython .nd { color: #AA22FF } /* Name.Decorator */\n",
       ".cython .ni { color: #999999; font-weight: bold } /* Name.Entity */\n",
       ".cython .ne { color: #D2413A; font-weight: bold } /* Name.Exception */\n",
       ".cython .nf { color: #0000FF } /* Name.Function */\n",
       ".cython .nl { color: #A0A000 } /* Name.Label */\n",
       ".cython .nn { color: #0000FF; font-weight: bold } /* Name.Namespace */\n",
       ".cython .nt { color: #008000; font-weight: bold } /* Name.Tag */\n",
       ".cython .nv { color: #19177C } /* Name.Variable */\n",
       ".cython .ow { color: #AA22FF; font-weight: bold } /* Operator.Word */\n",
       ".cython .w { color: #bbbbbb } /* Text.Whitespace */\n",
       ".cython .mb { color: #666666 } /* Literal.Number.Bin */\n",
       ".cython .mf { color: #666666 } /* Literal.Number.Float */\n",
       ".cython .mh { color: #666666 } /* Literal.Number.Hex */\n",
       ".cython .mi { color: #666666 } /* Literal.Number.Integer */\n",
       ".cython .mo { color: #666666 } /* Literal.Number.Oct */\n",
       ".cython .sa { color: #BA2121 } /* Literal.String.Affix */\n",
       ".cython .sb { color: #BA2121 } /* Literal.String.Backtick */\n",
       ".cython .sc { color: #BA2121 } /* Literal.String.Char */\n",
       ".cython .dl { color: #BA2121 } /* Literal.String.Delimiter */\n",
       ".cython .sd { color: #BA2121; font-style: italic } /* Literal.String.Doc */\n",
       ".cython .s2 { color: #BA2121 } /* Literal.String.Double */\n",
       ".cython .se { color: #BB6622; font-weight: bold } /* Literal.String.Escape */\n",
       ".cython .sh { color: #BA2121 } /* Literal.String.Heredoc */\n",
       ".cython .si { color: #BB6688; font-weight: bold } /* Literal.String.Interpol */\n",
       ".cython .sx { color: #008000 } /* Literal.String.Other */\n",
       ".cython .sr { color: #BB6688 } /* Literal.String.Regex */\n",
       ".cython .s1 { color: #BA2121 } /* Literal.String.Single */\n",
       ".cython .ss { color: #19177C } /* Literal.String.Symbol */\n",
       ".cython .bp { color: #008000 } /* Name.Builtin.Pseudo */\n",
       ".cython .fm { color: #0000FF } /* Name.Function.Magic */\n",
       ".cython .vc { color: #19177C } /* Name.Variable.Class */\n",
       ".cython .vg { color: #19177C } /* Name.Variable.Global */\n",
       ".cython .vi { color: #19177C } /* Name.Variable.Instance */\n",
       ".cython .vm { color: #19177C } /* Name.Variable.Magic */\n",
       ".cython .il { color: #666666 } /* Literal.Number.Integer.Long */\n",
       "    </style>\n",
       "</head>\n",
       "<body class=\"cython\">\n",
       "<p><span style=\"border-bottom: solid 1px grey;\">Generated by Cython 3.0a7</span></p>\n",
       "<p>\n",
       "    <span style=\"background-color: #FFFF00\">Yellow lines</span> hint at Python interaction.<br />\n",
       "    Click on a line that starts with a \"<code>+</code>\" to see the C code that Cython generated for it.\n",
       "</p>\n",
       "<div class=\"cython\"><pre class=\"cython line score-8\" onclick=\"(function(s){s.display=s.display==='block'?'none':'block'})(this.nextElementSibling.style)\">+<span class=\"\">01</span>: <span class=\"c\">#%%cython -a</span></pre>\n",
       "<pre class='cython code score-8 '>  __pyx_t_1 = <span class='pyx_c_api'>__Pyx_PyDict_NewPresized</span>(0);<span class='error_goto'> if (unlikely(!__pyx_t_1)) __PYX_ERR(0, 1, __pyx_L1_error)</span>\n",
       "  <span class='refnanny'>__Pyx_GOTREF</span>(__pyx_t_1);\n",
       "  if (<span class='py_c_api'>PyDict_SetItem</span>(__pyx_d, __pyx_n_s_test, __pyx_t_1) &lt; 0) <span class='error_goto'>__PYX_ERR(0, 1, __pyx_L1_error)</span>\n",
       "  <span class='pyx_macro_api'>__Pyx_DECREF</span>(__pyx_t_1); __pyx_t_1 = 0;\n",
       "</pre><pre class=\"cython line score-0\">&#xA0;<span class=\"\">02</span>: <span class=\"c\">#cython: embedsignature=True, language_level=3, binding=True</span></pre>\n",
       "<pre class=\"cython line score-0\">&#xA0;<span class=\"\">03</span>: <span class=\"c\"># cython: boundscheck=False, wraparound=False, cdivision=True, initializedcheck=False,</span></pre>\n",
       "<pre class=\"cython line score-0\">&#xA0;<span class=\"\">04</span>: <span class=\"c\">## This is for developping:</span></pre>\n",
       "<pre class=\"cython line score-0\">&#xA0;<span class=\"\">05</span>: <span class=\"c\">## cython: profile=True, warn.undeclared=True, warn.unused=True, warn.unused_result=False, warn.unused_arg=True</span></pre>\n",
       "<pre class=\"cython line score-0\">&#xA0;<span class=\"\">06</span>: </pre>\n",
       "<pre class=\"cython line score-8\" onclick=\"(function(s){s.display=s.display==='block'?'none':'block'})(this.nextElementSibling.style)\">+<span class=\"\">07</span>: <span class=\"k\">import</span> <span class=\"nn\">numpy</span> <span class=\"k\">as</span> <span class=\"nn\">np</span></pre>\n",
       "<pre class='cython code score-8 '>  __pyx_t_1 = <span class='pyx_c_api'>__Pyx_ImportDottedModule</span>(__pyx_n_s_numpy, NULL);<span class='error_goto'> if (unlikely(!__pyx_t_1)) __PYX_ERR(0, 7, __pyx_L1_error)</span>\n",
       "  <span class='refnanny'>__Pyx_GOTREF</span>(__pyx_t_1);\n",
       "  if (<span class='py_c_api'>PyDict_SetItem</span>(__pyx_d, __pyx_n_s_np, __pyx_t_1) &lt; 0) <span class='error_goto'>__PYX_ERR(0, 7, __pyx_L1_error)</span>\n",
       "  <span class='pyx_macro_api'>__Pyx_DECREF</span>(__pyx_t_1); __pyx_t_1 = 0;\n",
       "</pre><pre class=\"cython line score-0\">&#xA0;<span class=\"\">08</span>: <span class=\"k\">from</span> <span class=\"nn\">cython.parallel</span> <span class=\"k\">import</span> <span class=\"n\">prange</span></pre>\n",
       "<pre class=\"cython line score-0\">&#xA0;<span class=\"\">09</span>: <span class=\"k\">from</span> <span class=\"nn\">libc.math</span> <span class=\"k\">cimport</span> <span class=\"n\">sqrt</span><span class=\"p\">,</span> <span class=\"n\">pi</span><span class=\"p\">,</span> <span class=\"n\">tanh</span></pre>\n",
       "<pre class=\"cython line score-0\">&#xA0;<span class=\"\">10</span>: <span class=\"k\">from</span> <span class=\"nn\">libc.complex</span> <span class=\"k\">cimport</span> <span class=\"n\">cabs</span><span class=\"p\">,</span> <span class=\"n\">cexp</span></pre>\n",
       "<pre class=\"cython line score-0\">&#xA0;<span class=\"\">11</span>: </pre>\n",
       "<pre class=\"cython line score-138\" onclick=\"(function(s){s.display=s.display==='block'?'none':'block'})(this.nextElementSibling.style)\">+<span class=\"\">12</span>: <span class=\"k\">def</span> <span class=\"nf\">Circ_cython</span><span class=\"p\">(</span><span class=\"nb\">long</span><span class=\"p\">[::</span><span class=\"mf\">1</span><span class=\"p\">]</span> <span class=\"n\">n</span><span class=\"p\">,</span></pre>\n",
       "<pre class='cython code score-138 '>/* Python wrapper */\n",
       "static PyObject *__pyx_pw_54_cython_magic_f7eaf57963f1cfe2851dd00023959fa25f5ca019_1Circ_cython(PyObject *__pyx_self, \n",
       "#if CYTHON_METH_FASTCALL\n",
       "PyObject *const *__pyx_args, Py_ssize_t __pyx_nargs, PyObject *__pyx_kwds\n",
       "#else\n",
       "PyObject *__pyx_args, PyObject *__pyx_kwds\n",
       "#endif\n",
       "); /*proto*/\n",
       "<span class='py_macro_api'>PyDoc_STRVAR</span>(__pyx_doc_54_cython_magic_f7eaf57963f1cfe2851dd00023959fa25f5ca019_Circ_cython, \"Circ_cython(long[::1] n, long[::1] m, double[::1] h, double[::1] k, double e0, double w)\");\n",
       "static PyMethodDef __pyx_mdef_54_cython_magic_f7eaf57963f1cfe2851dd00023959fa25f5ca019_1Circ_cython = {\"Circ_cython\", (PyCFunction)(void*)(__Pyx_PyCFunction_FastCallWithKeywords)__pyx_pw_54_cython_magic_f7eaf57963f1cfe2851dd00023959fa25f5ca019_1Circ_cython, __Pyx_METH_FASTCALL|METH_KEYWORDS, __pyx_doc_54_cython_magic_f7eaf57963f1cfe2851dd00023959fa25f5ca019_Circ_cython};\n",
       "static PyObject *__pyx_pw_54_cython_magic_f7eaf57963f1cfe2851dd00023959fa25f5ca019_1Circ_cython(PyObject *__pyx_self, \n",
       "#if CYTHON_METH_FASTCALL\n",
       "PyObject *const *__pyx_args, Py_ssize_t __pyx_nargs, PyObject *__pyx_kwds\n",
       "#else\n",
       "PyObject *__pyx_args, PyObject *__pyx_kwds\n",
       "#endif\n",
       ") {\n",
       "  __Pyx_memviewslice __pyx_v_n = { 0, 0, { 0 }, { 0 }, { 0 } };\n",
       "  __Pyx_memviewslice __pyx_v_m = { 0, 0, { 0 }, { 0 }, { 0 } };\n",
       "  __Pyx_memviewslice __pyx_v_h = { 0, 0, { 0 }, { 0 }, { 0 } };\n",
       "  __Pyx_memviewslice __pyx_v_k = { 0, 0, { 0 }, { 0 }, { 0 } };\n",
       "  double __pyx_v_e0;\n",
       "  double __pyx_v_w;\n",
       "  #if !CYTHON_METH_FASTCALL\n",
       "  CYTHON_UNUSED const Py_ssize_t __pyx_nargs = <span class='py_macro_api'>PyTuple_GET_SIZE</span>(__pyx_args);\n",
       "  #endif\n",
       "  CYTHON_UNUSED PyObject *const *__pyx_kwvalues = <span class='pyx_c_api'>__Pyx_KwValues_FASTCALL</span>(__pyx_args, __pyx_nargs);\n",
       "  PyObject *__pyx_r = 0;\n",
       "  <span class='refnanny'>__Pyx_RefNannyDeclarations</span>\n",
       "  <span class='refnanny'>__Pyx_RefNannySetupContext</span>(\"Circ_cython (wrapper)\", 0);\n",
       "  {\n",
       "    #if CYTHON_COMPILING_IN_LIMITED_API\n",
       "    PyObject **__pyx_pyargnames[] = {&amp;__pyx_n_s_n,&amp;__pyx_n_s_m,&amp;__pyx_n_s_h,&amp;__pyx_n_s_k,&amp;__pyx_n_s_e0,&amp;__pyx_n_s_w,0};\n",
       "    #else\n",
       "    static PyObject **__pyx_pyargnames[] = {&amp;__pyx_n_s_n,&amp;__pyx_n_s_m,&amp;__pyx_n_s_h,&amp;__pyx_n_s_k,&amp;__pyx_n_s_e0,&amp;__pyx_n_s_w,0};\n",
       "    #endif\n",
       "    PyObject* values[6] = {0,0,0,0,0,0};\n",
       "    if (__pyx_kwds) {\n",
       "      Py_ssize_t kw_args;\n",
       "      switch (__pyx_nargs) {\n",
       "        case  6: values[5] = <span class='pyx_c_api'>__Pyx_Arg_FASTCALL</span>(__pyx_args, 5);\n",
       "        CYTHON_FALLTHROUGH;\n",
       "        case  5: values[4] = <span class='pyx_c_api'>__Pyx_Arg_FASTCALL</span>(__pyx_args, 4);\n",
       "        CYTHON_FALLTHROUGH;\n",
       "        case  4: values[3] = <span class='pyx_c_api'>__Pyx_Arg_FASTCALL</span>(__pyx_args, 3);\n",
       "        CYTHON_FALLTHROUGH;\n",
       "        case  3: values[2] = <span class='pyx_c_api'>__Pyx_Arg_FASTCALL</span>(__pyx_args, 2);\n",
       "        CYTHON_FALLTHROUGH;\n",
       "        case  2: values[1] = <span class='pyx_c_api'>__Pyx_Arg_FASTCALL</span>(__pyx_args, 1);\n",
       "        CYTHON_FALLTHROUGH;\n",
       "        case  1: values[0] = <span class='pyx_c_api'>__Pyx_Arg_FASTCALL</span>(__pyx_args, 0);\n",
       "        CYTHON_FALLTHROUGH;\n",
       "        case  0: break;\n",
       "        default: goto __pyx_L5_argtuple_error;\n",
       "      }\n",
       "      kw_args = <span class='pyx_c_api'>__Pyx_NumKwargs_FASTCALL</span>(__pyx_kwds);\n",
       "      switch (__pyx_nargs) {\n",
       "        case  0:\n",
       "        if (likely((values[0] = <span class='pyx_c_api'>__Pyx_GetKwValue_FASTCALL</span>(__pyx_kwds, __pyx_kwvalues, __pyx_n_s_n)) != 0)) kw_args--;\n",
       "        else if (unlikely(<span class='py_c_api'>PyErr_Occurred</span>())) <span class='error_goto'>__PYX_ERR(0, 12, __pyx_L3_error)</span>\n",
       "        else goto __pyx_L5_argtuple_error;\n",
       "        CYTHON_FALLTHROUGH;\n",
       "        case  1:\n",
       "        if (likely((values[1] = <span class='pyx_c_api'>__Pyx_GetKwValue_FASTCALL</span>(__pyx_kwds, __pyx_kwvalues, __pyx_n_s_m)) != 0)) kw_args--;\n",
       "        else if (unlikely(<span class='py_c_api'>PyErr_Occurred</span>())) <span class='error_goto'>__PYX_ERR(0, 12, __pyx_L3_error)</span>\n",
       "        else {\n",
       "          <span class='pyx_c_api'>__Pyx_RaiseArgtupleInvalid</span>(\"Circ_cython\", 1, 6, 6, 1); <span class='error_goto'>__PYX_ERR(0, 12, __pyx_L3_error)</span>\n",
       "        }\n",
       "        CYTHON_FALLTHROUGH;\n",
       "        case  2:\n",
       "        if (likely((values[2] = <span class='pyx_c_api'>__Pyx_GetKwValue_FASTCALL</span>(__pyx_kwds, __pyx_kwvalues, __pyx_n_s_h)) != 0)) kw_args--;\n",
       "        else if (unlikely(<span class='py_c_api'>PyErr_Occurred</span>())) <span class='error_goto'>__PYX_ERR(0, 12, __pyx_L3_error)</span>\n",
       "        else {\n",
       "          <span class='pyx_c_api'>__Pyx_RaiseArgtupleInvalid</span>(\"Circ_cython\", 1, 6, 6, 2); <span class='error_goto'>__PYX_ERR(0, 12, __pyx_L3_error)</span>\n",
       "        }\n",
       "        CYTHON_FALLTHROUGH;\n",
       "        case  3:\n",
       "        if (likely((values[3] = <span class='pyx_c_api'>__Pyx_GetKwValue_FASTCALL</span>(__pyx_kwds, __pyx_kwvalues, __pyx_n_s_k)) != 0)) kw_args--;\n",
       "        else if (unlikely(<span class='py_c_api'>PyErr_Occurred</span>())) <span class='error_goto'>__PYX_ERR(0, 12, __pyx_L3_error)</span>\n",
       "        else {\n",
       "          <span class='pyx_c_api'>__Pyx_RaiseArgtupleInvalid</span>(\"Circ_cython\", 1, 6, 6, 3); <span class='error_goto'>__PYX_ERR(0, 12, __pyx_L3_error)</span>\n",
       "        }\n",
       "        CYTHON_FALLTHROUGH;\n",
       "        case  4:\n",
       "        if (likely((values[4] = <span class='pyx_c_api'>__Pyx_GetKwValue_FASTCALL</span>(__pyx_kwds, __pyx_kwvalues, __pyx_n_s_e0)) != 0)) kw_args--;\n",
       "        else if (unlikely(<span class='py_c_api'>PyErr_Occurred</span>())) <span class='error_goto'>__PYX_ERR(0, 12, __pyx_L3_error)</span>\n",
       "        else {\n",
       "          <span class='pyx_c_api'>__Pyx_RaiseArgtupleInvalid</span>(\"Circ_cython\", 1, 6, 6, 4); <span class='error_goto'>__PYX_ERR(0, 12, __pyx_L3_error)</span>\n",
       "        }\n",
       "        CYTHON_FALLTHROUGH;\n",
       "        case  5:\n",
       "        if (likely((values[5] = <span class='pyx_c_api'>__Pyx_GetKwValue_FASTCALL</span>(__pyx_kwds, __pyx_kwvalues, __pyx_n_s_w)) != 0)) kw_args--;\n",
       "        else if (unlikely(<span class='py_c_api'>PyErr_Occurred</span>())) <span class='error_goto'>__PYX_ERR(0, 12, __pyx_L3_error)</span>\n",
       "        else {\n",
       "          <span class='pyx_c_api'>__Pyx_RaiseArgtupleInvalid</span>(\"Circ_cython\", 1, 6, 6, 5); <span class='error_goto'>__PYX_ERR(0, 12, __pyx_L3_error)</span>\n",
       "        }\n",
       "      }\n",
       "      if (unlikely(kw_args &gt; 0)) {\n",
       "        const Py_ssize_t kwd_pos_args = __pyx_nargs;\n",
       "        if (unlikely(<span class='pyx_c_api'>__Pyx_ParseOptionalKeywords</span>(__pyx_kwds, __pyx_kwvalues, __pyx_pyargnames, 0, values + 0, kwd_pos_args, \"Circ_cython\") &lt; 0)) <span class='error_goto'>__PYX_ERR(0, 12, __pyx_L3_error)</span>\n",
       "      }\n",
       "    } else if (unlikely(__pyx_nargs != 6)) {\n",
       "      goto __pyx_L5_argtuple_error;\n",
       "    } else {\n",
       "      values[0] = <span class='pyx_c_api'>__Pyx_Arg_FASTCALL</span>(__pyx_args, 0);\n",
       "      values[1] = <span class='pyx_c_api'>__Pyx_Arg_FASTCALL</span>(__pyx_args, 1);\n",
       "      values[2] = <span class='pyx_c_api'>__Pyx_Arg_FASTCALL</span>(__pyx_args, 2);\n",
       "      values[3] = <span class='pyx_c_api'>__Pyx_Arg_FASTCALL</span>(__pyx_args, 3);\n",
       "      values[4] = <span class='pyx_c_api'>__Pyx_Arg_FASTCALL</span>(__pyx_args, 4);\n",
       "      values[5] = <span class='pyx_c_api'>__Pyx_Arg_FASTCALL</span>(__pyx_args, 5);\n",
       "    }\n",
       "    __pyx_v_n = <span class='pyx_c_api'>__Pyx_PyObject_to_MemoryviewSlice_dc_long</span>(values[0], PyBUF_WRITABLE);<span class='error_goto'> if (unlikely(!__pyx_v_n.memview)) __PYX_ERR(0, 12, __pyx_L3_error)</span>\n",
       "    __pyx_v_m = <span class='pyx_c_api'>__Pyx_PyObject_to_MemoryviewSlice_dc_long</span>(values[1], PyBUF_WRITABLE);<span class='error_goto'> if (unlikely(!__pyx_v_m.memview)) __PYX_ERR(0, 13, __pyx_L3_error)</span>\n",
       "    __pyx_v_h = <span class='pyx_c_api'>__Pyx_PyObject_to_MemoryviewSlice_dc_double</span>(values[2], PyBUF_WRITABLE);<span class='error_goto'> if (unlikely(!__pyx_v_h.memview)) __PYX_ERR(0, 14, __pyx_L3_error)</span>\n",
       "    __pyx_v_k = <span class='pyx_c_api'>__Pyx_PyObject_to_MemoryviewSlice_dc_double</span>(values[3], PyBUF_WRITABLE);<span class='error_goto'> if (unlikely(!__pyx_v_k.memview)) __PYX_ERR(0, 15, __pyx_L3_error)</span>\n",
       "    __pyx_v_e0 = __pyx_<span class='py_c_api'>PyFloat_AsDouble</span>(values[4]); if (unlikely((__pyx_v_e0 == (double)-1) &amp;&amp; <span class='py_c_api'>PyErr_Occurred</span>())) <span class='error_goto'>__PYX_ERR(0, 16, __pyx_L3_error)</span>\n",
       "    __pyx_v_w = __pyx_<span class='py_c_api'>PyFloat_AsDouble</span>(values[5]); if (unlikely((__pyx_v_w == (double)-1) &amp;&amp; <span class='py_c_api'>PyErr_Occurred</span>())) <span class='error_goto'>__PYX_ERR(0, 17, __pyx_L3_error)</span>\n",
       "  }\n",
       "  goto __pyx_L4_argument_unpacking_done;\n",
       "  __pyx_L5_argtuple_error:;\n",
       "  <span class='pyx_c_api'>__Pyx_RaiseArgtupleInvalid</span>(\"Circ_cython\", 1, 6, 6, __pyx_nargs); <span class='error_goto'>__PYX_ERR(0, 12, __pyx_L3_error)</span>\n",
       "  __pyx_L3_error:;\n",
       "  <span class='pyx_c_api'>__Pyx_AddTraceback</span>(\"_cython_magic_f7eaf57963f1cfe2851dd00023959fa25f5ca019.Circ_cython\", __pyx_clineno, __pyx_lineno, __pyx_filename);\n",
       "  <span class='refnanny'>__Pyx_RefNannyFinishContext</span>();\n",
       "  return NULL;\n",
       "  __pyx_L4_argument_unpacking_done:;\n",
       "  __pyx_r = __pyx_pf_54_cython_magic_f7eaf57963f1cfe2851dd00023959fa25f5ca019_Circ_cython(__pyx_self, __pyx_v_n, __pyx_v_m, __pyx_v_h, __pyx_v_k, __pyx_v_e0, __pyx_v_w);\n",
       "  int __pyx_lineno = 0;\n",
       "  const char *__pyx_filename = NULL;\n",
       "  int __pyx_clineno = 0;\n",
       "\n",
       "  /* function exit code */\n",
       "  <span class='refnanny'>__Pyx_RefNannyFinishContext</span>();\n",
       "  return __pyx_r;\n",
       "}\n",
       "\n",
       "static PyObject *__pyx_pf_54_cython_magic_f7eaf57963f1cfe2851dd00023959fa25f5ca019_Circ_cython(CYTHON_UNUSED PyObject *__pyx_self, __Pyx_memviewslice __pyx_v_n, __Pyx_memviewslice __pyx_v_m, __Pyx_memviewslice __pyx_v_h, __Pyx_memviewslice __pyx_v_k, double __pyx_v_e0, double __pyx_v_w) {\n",
       "  __Pyx_memviewslice __pyx_v_result = { 0, 0, { 0 }, { 0 }, { 0 } };\n",
       "  double __pyx_v_N_2;\n",
       "  double __pyx_v_p_n;\n",
       "  double __pyx_v_p_m;\n",
       "  double __pyx_v_strain;\n",
       "  double __pyx_v_radius;\n",
       "  double __pyx_v_n_v;\n",
       "  double __pyx_v_m_v;\n",
       "  __pyx_t_double_complex __pyx_v_tmp;\n",
       "  CYTHON_UNUSED __pyx_t_double_complex __pyx_v_two_j_pi;\n",
       "  __pyx_t_double_complex __pyx_v_value;\n",
       "  int __pyx_v_i_h;\n",
       "  int __pyx_v_i_k;\n",
       "  int __pyx_v_i_m;\n",
       "  int __pyx_v_i_n;\n",
       "  int __pyx_v_h_size;\n",
       "  int __pyx_v_k_size;\n",
       "  int __pyx_v_n_size;\n",
       "  int __pyx_v_m_size;\n",
       "  PyObject *__pyx_r = NULL;\n",
       "  <span class='refnanny'>__Pyx_RefNannyDeclarations</span>\n",
       "  <span class='refnanny'>__Pyx_RefNannySetupContext</span>(\"Circ_cython\", 0);\n",
       "/* … */\n",
       "  /* function exit code */\n",
       "  __pyx_L1_error:;\n",
       "  <span class='pyx_macro_api'>__Pyx_XDECREF</span>(__pyx_t_1);\n",
       "  <span class='pyx_macro_api'>__Pyx_XDECREF</span>(__pyx_t_2);\n",
       "  <span class='pyx_macro_api'>__Pyx_XDECREF</span>(__pyx_t_3);\n",
       "  <span class='pyx_macro_api'>__Pyx_XDECREF</span>(__pyx_t_5);\n",
       "  <span class='pyx_macro_api'>__Pyx_XDECREF</span>(__pyx_t_6);\n",
       "  __PYX_XCLEAR_MEMVIEW(&amp;__pyx_t_8, 1);\n",
       "  <span class='pyx_c_api'>__Pyx_AddTraceback</span>(\"_cython_magic_f7eaf57963f1cfe2851dd00023959fa25f5ca019.Circ_cython\", __pyx_clineno, __pyx_lineno, __pyx_filename);\n",
       "  __pyx_r = NULL;\n",
       "  __pyx_L0:;\n",
       "  __PYX_XCLEAR_MEMVIEW(&amp;__pyx_v_result, 1);\n",
       "  __PYX_XCLEAR_MEMVIEW(&amp;__pyx_v_n, 1);\n",
       "  __PYX_XCLEAR_MEMVIEW(&amp;__pyx_v_m, 1);\n",
       "  __PYX_XCLEAR_MEMVIEW(&amp;__pyx_v_h, 1);\n",
       "  __PYX_XCLEAR_MEMVIEW(&amp;__pyx_v_k, 1);\n",
       "  <span class='refnanny'>__Pyx_XGIVEREF</span>(__pyx_r);\n",
       "  <span class='refnanny'>__Pyx_RefNannyFinishContext</span>();\n",
       "  return __pyx_r;\n",
       "}\n",
       "/* … */\n",
       "  __pyx_tuple__8 = <span class='py_c_api'>PyTuple_Pack</span>(25, __pyx_n_s_n, __pyx_n_s_m, __pyx_n_s_h, __pyx_n_s_k, __pyx_n_s_e0, __pyx_n_s_w, __pyx_n_s_result, __pyx_n_s_N_2, __pyx_n_s_p_n, __pyx_n_s_p_m, __pyx_n_s_strain, __pyx_n_s_radius, __pyx_n_s_n_v, __pyx_n_s_m_v, __pyx_n_s_tmp, __pyx_n_s_two_j_pi, __pyx_n_s_value, __pyx_n_s_i_h, __pyx_n_s_i_k, __pyx_n_s_i_m, __pyx_n_s_i_n, __pyx_n_s_h_size, __pyx_n_s_k_size, __pyx_n_s_n_size, __pyx_n_s_m_size);<span class='error_goto'> if (unlikely(!__pyx_tuple__8)) __PYX_ERR(0, 12, __pyx_L1_error)</span>\n",
       "  <span class='refnanny'>__Pyx_GOTREF</span>(__pyx_tuple__8);\n",
       "  <span class='refnanny'>__Pyx_GIVEREF</span>(__pyx_tuple__8);\n",
       "/* … */\n",
       "  __pyx_t_1 = <span class='pyx_c_api'>__Pyx_CyFunction_New</span>(&amp;__pyx_mdef_54_cython_magic_f7eaf57963f1cfe2851dd00023959fa25f5ca019_1Circ_cython, 0, __pyx_n_s_Circ_cython, NULL, __pyx_n_s_cython_magic_f7eaf57963f1cfe285, __pyx_d, ((PyObject *)__pyx_codeobj__9));<span class='error_goto'> if (unlikely(!__pyx_t_1)) __PYX_ERR(0, 12, __pyx_L1_error)</span>\n",
       "  <span class='refnanny'>__Pyx_GOTREF</span>(__pyx_t_1);\n",
       "  if (<span class='py_c_api'>PyDict_SetItem</span>(__pyx_d, __pyx_n_s_Circ_cython, __pyx_t_1) &lt; 0) <span class='error_goto'>__PYX_ERR(0, 12, __pyx_L1_error)</span>\n",
       "  <span class='pyx_macro_api'>__Pyx_DECREF</span>(__pyx_t_1); __pyx_t_1 = 0;\n",
       "  __pyx_codeobj__9 = (PyObject*)<span class='pyx_c_api'>__Pyx_PyCode_New</span>(6, 0, 0, 25, 0, CO_OPTIMIZED|CO_NEWLOCALS, __pyx_empty_bytes, __pyx_empty_tuple, __pyx_empty_tuple, __pyx_tuple__8, __pyx_empty_tuple, __pyx_empty_tuple, __pyx_kp_s_users_kieffer_cache_ipython_cyt, __pyx_n_s_Circ_cython, 12, __pyx_empty_bytes);<span class='error_goto'> if (unlikely(!__pyx_codeobj__9)) __PYX_ERR(0, 12, __pyx_L1_error)</span>\n",
       "</pre><pre class=\"cython line score-0\">&#xA0;<span class=\"\">13</span>:                 <span class=\"nb\">long</span><span class=\"p\">[::</span><span class=\"mf\">1</span><span class=\"p\">]</span> <span class=\"n\">m</span><span class=\"p\">,</span></pre>\n",
       "<pre class=\"cython line score-0\">&#xA0;<span class=\"\">14</span>:                 <span class=\"n\">double</span><span class=\"p\">[::</span><span class=\"mf\">1</span><span class=\"p\">]</span> <span class=\"n\">h</span><span class=\"p\">,</span></pre>\n",
       "<pre class=\"cython line score-0\">&#xA0;<span class=\"\">15</span>:                 <span class=\"n\">double</span><span class=\"p\">[::</span><span class=\"mf\">1</span><span class=\"p\">]</span> <span class=\"n\">k</span><span class=\"p\">,</span></pre>\n",
       "<pre class=\"cython line score-0\">&#xA0;<span class=\"\">16</span>:                 <span class=\"n\">double</span> <span class=\"n\">e0</span><span class=\"p\">,</span></pre>\n",
       "<pre class=\"cython line score-0\">&#xA0;<span class=\"\">17</span>:                 <span class=\"n\">double</span> <span class=\"n\">w</span><span class=\"p\">):</span></pre>\n",
       "<pre class=\"cython line score-0\">&#xA0;<span class=\"\">18</span>:     <span class=\"k\">cdef</span><span class=\"p\">:</span></pre>\n",
       "<pre class=\"cython line score-0\">&#xA0;<span class=\"\">19</span>:         <span class=\"n\">double</span><span class=\"p\">[:,</span> <span class=\"p\">::</span><span class=\"mf\">1</span><span class=\"p\">]</span> <span class=\"n\">result</span></pre>\n",
       "<pre class=\"cython line score-0\">&#xA0;<span class=\"\">20</span>:         <span class=\"n\">double</span> <span class=\"n\">N_2</span><span class=\"p\">,</span> <span class=\"n\">p_n</span><span class=\"p\">,</span> <span class=\"n\">p_m</span><span class=\"p\">,</span> <span class=\"n\">strain</span><span class=\"p\">,</span> <span class=\"n\">radius</span><span class=\"p\">,</span> <span class=\"n\">n_v</span><span class=\"p\">,</span> <span class=\"n\">m_v</span></pre>\n",
       "<pre class=\"cython line score-0\">&#xA0;<span class=\"\">21</span>:         <span class=\"n\">double</span> <span class=\"nb\">complex</span> <span class=\"n\">tmp</span><span class=\"p\">,</span> <span class=\"n\">two_j_pi</span><span class=\"p\">,</span>  <span class=\"n\">value</span></pre>\n",
       "<pre class=\"cython line score-0\">&#xA0;<span class=\"\">22</span>:         <span class=\"nb\">int</span> <span class=\"n\">i_h</span><span class=\"p\">,</span> <span class=\"n\">i_k</span><span class=\"p\">,</span> <span class=\"n\">i_m</span><span class=\"p\">,</span> <span class=\"n\">i_n</span><span class=\"p\">,</span> <span class=\"n\">h_size</span><span class=\"p\">,</span> <span class=\"n\">k_size</span><span class=\"p\">,</span> <span class=\"n\">n_size</span><span class=\"p\">,</span> <span class=\"n\">m_size</span></pre>\n",
       "<pre class=\"cython line score-0\">&#xA0;<span class=\"\">23</span>: </pre>\n",
       "<pre class=\"cython line score-20\" onclick=\"(function(s){s.display=s.display==='block'?'none':'block'})(this.nextElementSibling.style)\">+<span class=\"\">24</span>:     <span class=\"n\">two_j_pi</span> <span class=\"o\">=</span> <span class=\"n\">np</span><span class=\"o\">.</span><span class=\"n\">pi</span><span class=\"o\">*</span><span class=\"mf\">2</span><span class=\"n\">j</span></pre>\n",
       "<pre class='cython code score-20 '>  <span class='pyx_c_api'>__Pyx_GetModuleGlobalName</span>(__pyx_t_1, __pyx_n_s_np);<span class='error_goto'> if (unlikely(!__pyx_t_1)) __PYX_ERR(0, 24, __pyx_L1_error)</span>\n",
       "  <span class='refnanny'>__Pyx_GOTREF</span>(__pyx_t_1);\n",
       "  __pyx_t_2 = <span class='pyx_c_api'>__Pyx_PyObject_GetAttrStr</span>(__pyx_t_1, __pyx_n_s_pi);<span class='error_goto'> if (unlikely(!__pyx_t_2)) __PYX_ERR(0, 24, __pyx_L1_error)</span>\n",
       "  <span class='refnanny'>__Pyx_GOTREF</span>(__pyx_t_2);\n",
       "  <span class='pyx_macro_api'>__Pyx_DECREF</span>(__pyx_t_1); __pyx_t_1 = 0;\n",
       "  __pyx_t_1 = <span class='py_c_api'>PyComplex_FromDoubles</span>(0.0, 2.0);<span class='error_goto'> if (unlikely(!__pyx_t_1)) __PYX_ERR(0, 24, __pyx_L1_error)</span>\n",
       "  <span class='refnanny'>__Pyx_GOTREF</span>(__pyx_t_1);\n",
       "  __pyx_t_3 = <span class='py_c_api'>PyNumber_Multiply</span>(__pyx_t_2, __pyx_t_1);<span class='error_goto'> if (unlikely(!__pyx_t_3)) __PYX_ERR(0, 24, __pyx_L1_error)</span>\n",
       "  <span class='refnanny'>__Pyx_GOTREF</span>(__pyx_t_3);\n",
       "  <span class='pyx_macro_api'>__Pyx_DECREF</span>(__pyx_t_2); __pyx_t_2 = 0;\n",
       "  <span class='pyx_macro_api'>__Pyx_DECREF</span>(__pyx_t_1); __pyx_t_1 = 0;\n",
       "  __pyx_t_4 = <span class='pyx_c_api'>__Pyx_PyComplex_As___pyx_t_double_complex</span>(__pyx_t_3);<span class='error_goto'> if (unlikely(PyErr_Occurred())) __PYX_ERR(0, 24, __pyx_L1_error)</span>\n",
       "  <span class='pyx_macro_api'>__Pyx_DECREF</span>(__pyx_t_3); __pyx_t_3 = 0;\n",
       "  __pyx_v_two_j_pi = __pyx_t_4;\n",
       "</pre><pre class=\"cython line score-0\" onclick=\"(function(s){s.display=s.display==='block'?'none':'block'})(this.nextElementSibling.style)\">+<span class=\"\">25</span>:     <span class=\"n\">h_size</span> <span class=\"o\">=</span> <span class=\"n\">h</span><span class=\"o\">.</span><span class=\"n\">shape</span><span class=\"p\">[</span><span class=\"mf\">0</span><span class=\"p\">]</span></pre>\n",
       "<pre class='cython code score-0 '>  __pyx_v_h_size = (__pyx_v_h.shape[0]);\n",
       "</pre><pre class=\"cython line score-0\" onclick=\"(function(s){s.display=s.display==='block'?'none':'block'})(this.nextElementSibling.style)\">+<span class=\"\">26</span>:     <span class=\"n\">k_size</span> <span class=\"o\">=</span> <span class=\"n\">k</span><span class=\"o\">.</span><span class=\"n\">shape</span><span class=\"p\">[</span><span class=\"mf\">0</span><span class=\"p\">]</span></pre>\n",
       "<pre class='cython code score-0 '>  __pyx_v_k_size = (__pyx_v_k.shape[0]);\n",
       "</pre><pre class=\"cython line score-0\" onclick=\"(function(s){s.display=s.display==='block'?'none':'block'})(this.nextElementSibling.style)\">+<span class=\"\">27</span>:     <span class=\"n\">n_size</span> <span class=\"o\">=</span> <span class=\"n\">n</span><span class=\"o\">.</span><span class=\"n\">shape</span><span class=\"p\">[</span><span class=\"mf\">0</span><span class=\"p\">]</span></pre>\n",
       "<pre class='cython code score-0 '>  __pyx_v_n_size = (__pyx_v_n.shape[0]);\n",
       "</pre><pre class=\"cython line score-0\" onclick=\"(function(s){s.display=s.display==='block'?'none':'block'})(this.nextElementSibling.style)\">+<span class=\"\">28</span>:     <span class=\"n\">m_size</span> <span class=\"o\">=</span> <span class=\"n\">m</span><span class=\"o\">.</span><span class=\"n\">shape</span><span class=\"p\">[</span><span class=\"mf\">0</span><span class=\"p\">]</span></pre>\n",
       "<pre class='cython code score-0 '>  __pyx_v_m_size = (__pyx_v_m.shape[0]);\n",
       "</pre><pre class=\"cython line score-34\" onclick=\"(function(s){s.display=s.display==='block'?'none':'block'})(this.nextElementSibling.style)\">+<span class=\"\">29</span>:     <span class=\"n\">result</span> <span class=\"o\">=</span> <span class=\"n\">np</span><span class=\"o\">.</span><span class=\"n\">zeros</span><span class=\"p\">((</span><span class=\"n\">h_size</span><span class=\"p\">,</span> <span class=\"n\">k_size</span><span class=\"p\">))</span></pre>\n",
       "<pre class='cython code score-34 '>  <span class='pyx_c_api'>__Pyx_GetModuleGlobalName</span>(__pyx_t_1, __pyx_n_s_np);<span class='error_goto'> if (unlikely(!__pyx_t_1)) __PYX_ERR(0, 29, __pyx_L1_error)</span>\n",
       "  <span class='refnanny'>__Pyx_GOTREF</span>(__pyx_t_1);\n",
       "  __pyx_t_2 = <span class='pyx_c_api'>__Pyx_PyObject_GetAttrStr</span>(__pyx_t_1, __pyx_n_s_zeros);<span class='error_goto'> if (unlikely(!__pyx_t_2)) __PYX_ERR(0, 29, __pyx_L1_error)</span>\n",
       "  <span class='refnanny'>__Pyx_GOTREF</span>(__pyx_t_2);\n",
       "  <span class='pyx_macro_api'>__Pyx_DECREF</span>(__pyx_t_1); __pyx_t_1 = 0;\n",
       "  __pyx_t_1 = <span class='pyx_c_api'>__Pyx_PyInt_From_int</span>(__pyx_v_h_size);<span class='error_goto'> if (unlikely(!__pyx_t_1)) __PYX_ERR(0, 29, __pyx_L1_error)</span>\n",
       "  <span class='refnanny'>__Pyx_GOTREF</span>(__pyx_t_1);\n",
       "  __pyx_t_5 = <span class='pyx_c_api'>__Pyx_PyInt_From_int</span>(__pyx_v_k_size);<span class='error_goto'> if (unlikely(!__pyx_t_5)) __PYX_ERR(0, 29, __pyx_L1_error)</span>\n",
       "  <span class='refnanny'>__Pyx_GOTREF</span>(__pyx_t_5);\n",
       "  __pyx_t_6 = <span class='py_c_api'>PyTuple_New</span>(2);<span class='error_goto'> if (unlikely(!__pyx_t_6)) __PYX_ERR(0, 29, __pyx_L1_error)</span>\n",
       "  <span class='refnanny'>__Pyx_GOTREF</span>(__pyx_t_6);\n",
       "  <span class='refnanny'>__Pyx_GIVEREF</span>(__pyx_t_1);\n",
       "  <span class='py_macro_api'>PyTuple_SET_ITEM</span>(__pyx_t_6, 0, __pyx_t_1);\n",
       "  <span class='refnanny'>__Pyx_GIVEREF</span>(__pyx_t_5);\n",
       "  <span class='py_macro_api'>PyTuple_SET_ITEM</span>(__pyx_t_6, 1, __pyx_t_5);\n",
       "  __pyx_t_1 = 0;\n",
       "  __pyx_t_5 = 0;\n",
       "  __pyx_t_5 = NULL;\n",
       "  __pyx_t_7 = 0;\n",
       "  if (CYTHON_UNPACK_METHODS &amp;&amp; unlikely(<span class='py_c_api'>PyMethod_Check</span>(__pyx_t_2))) {\n",
       "    __pyx_t_5 = <span class='py_macro_api'>PyMethod_GET_SELF</span>(__pyx_t_2);\n",
       "    if (likely(__pyx_t_5)) {\n",
       "      PyObject* function = <span class='py_macro_api'>PyMethod_GET_FUNCTION</span>(__pyx_t_2);\n",
       "      <span class='pyx_macro_api'>__Pyx_INCREF</span>(__pyx_t_5);\n",
       "      <span class='pyx_macro_api'>__Pyx_INCREF</span>(function);\n",
       "      <span class='pyx_macro_api'>__Pyx_DECREF_SET</span>(__pyx_t_2, function);\n",
       "      __pyx_t_7 = 1;\n",
       "    }\n",
       "  }\n",
       "  {\n",
       "    PyObject *__pyx_callargs[2] = {__pyx_t_5, __pyx_t_6};\n",
       "    __pyx_t_3 = <span class='pyx_c_api'>__Pyx_PyObject_FastCall</span>(__pyx_t_2, __pyx_callargs+1-__pyx_t_7, 1+__pyx_t_7);\n",
       "    <span class='pyx_macro_api'>__Pyx_XDECREF</span>(__pyx_t_5); __pyx_t_5 = 0;\n",
       "    <span class='pyx_macro_api'>__Pyx_DECREF</span>(__pyx_t_6); __pyx_t_6 = 0;\n",
       "    if (unlikely(!__pyx_t_3)) <span class='error_goto'>__PYX_ERR(0, 29, __pyx_L1_error)</span>\n",
       "    <span class='refnanny'>__Pyx_GOTREF</span>(__pyx_t_3);\n",
       "    <span class='pyx_macro_api'>__Pyx_DECREF</span>(__pyx_t_2); __pyx_t_2 = 0;\n",
       "  }\n",
       "  __pyx_t_8 = <span class='pyx_c_api'>__Pyx_PyObject_to_MemoryviewSlice_d_dc_double</span>(__pyx_t_3, PyBUF_WRITABLE);<span class='error_goto'> if (unlikely(!__pyx_t_8.memview)) __PYX_ERR(0, 29, __pyx_L1_error)</span>\n",
       "  <span class='pyx_macro_api'>__Pyx_DECREF</span>(__pyx_t_3); __pyx_t_3 = 0;\n",
       "  __pyx_v_result = __pyx_t_8;\n",
       "  __pyx_t_8.memview = NULL;\n",
       "  __pyx_t_8.data = NULL;\n",
       "</pre><pre class=\"cython line score-0\" onclick=\"(function(s){s.display=s.display==='block'?'none':'block'})(this.nextElementSibling.style)\">+<span class=\"\">30</span>:     <span class=\"n\">N_2</span> <span class=\"o\">=</span> <span class=\"n\">n_size</span> <span class=\"o\">/</span> <span class=\"mf\">2.0</span></pre>\n",
       "<pre class='cython code score-0 '>  __pyx_v_N_2 = (((double)__pyx_v_n_size) / 2.0);\n",
       "</pre><pre class=\"cython line score-4\" onclick=\"(function(s){s.display=s.display==='block'?'none':'block'})(this.nextElementSibling.style)\">+<span class=\"\">31</span>:     <span class=\"k\">for</span> <span class=\"n\">i_h</span> <span class=\"ow\">in</span> <span class=\"n\">prange</span><span class=\"p\">(</span><span class=\"n\">h_size</span><span class=\"p\">,</span> <span class=\"k\">nogil</span><span class=\"o\">=</span><span class=\"bp\">True</span><span class=\"p\">):</span>  <span class=\"c\"># loop over the reciprocal space coordinates</span></pre>\n",
       "<pre class='cython code score-4 '>  {\n",
       "      #ifdef WITH_THREAD\n",
       "      PyThreadState *_save;\n",
       "      Py_UNBLOCK_THREADS\n",
       "      <span class='pyx_c_api'>__Pyx_FastGIL_Remember</span>();\n",
       "      #endif\n",
       "      /*try:*/ {\n",
       "        __pyx_t_7 = __pyx_v_h_size;\n",
       "        {\n",
       "            #if ((defined(__APPLE__) || defined(__OSX__)) &amp;&amp; (defined(__GNUC__) &amp;&amp; (__GNUC__ &gt; 2 || (__GNUC__ == 2 &amp;&amp; (__GNUC_MINOR__ &gt; 95)))))\n",
       "                #undef likely\n",
       "                #undef unlikely\n",
       "                #define likely(x)   (x)\n",
       "                #define unlikely(x) (x)\n",
       "            #endif\n",
       "            __pyx_t_10 = (__pyx_t_7 - 0 + 1 - 1/abs(1)) / 1;\n",
       "            if (__pyx_t_10 &gt; 0)\n",
       "            {\n",
       "                #ifdef _OPENMP\n",
       "                #pragma omp parallel\n",
       "                #endif /* _OPENMP */\n",
       "                {\n",
       "                    #ifdef _OPENMP\n",
       "                    #pragma omp for firstprivate(__pyx_v_i_h) lastprivate(__pyx_v_i_h) lastprivate(__pyx_v_i_k) lastprivate(__pyx_v_i_m) lastprivate(__pyx_v_i_n) lastprivate(__pyx_v_m_v) lastprivate(__pyx_v_n_v) lastprivate(__pyx_v_p_m) lastprivate(__pyx_v_p_n) lastprivate(__pyx_v_radius) lastprivate(__pyx_v_strain) reduction(+:__pyx_v_tmp) lastprivate(__pyx_v_value)\n",
       "                    #endif /* _OPENMP */\n",
       "                    for (__pyx_t_9 = 0; __pyx_t_9 &lt; __pyx_t_10; __pyx_t_9++){\n",
       "                        {\n",
       "                            __pyx_v_i_h = (int)(0 + 1 * __pyx_t_9);\n",
       "                            /* Initialize private variables to invalid values */\n",
       "                            __pyx_v_i_k = ((int)0xbad0bad0);\n",
       "                            __pyx_v_i_m = ((int)0xbad0bad0);\n",
       "                            __pyx_v_i_n = ((int)0xbad0bad0);\n",
       "                            __pyx_v_m_v = ((double)__PYX_NAN());\n",
       "                            __pyx_v_n_v = ((double)__PYX_NAN());\n",
       "                            __pyx_v_p_m = ((double)__PYX_NAN());\n",
       "                            __pyx_v_p_n = ((double)__PYX_NAN());\n",
       "                            __pyx_v_radius = ((double)__PYX_NAN());\n",
       "                            __pyx_v_strain = ((double)__PYX_NAN());\n",
       "/* … */\n",
       "      /*finally:*/ {\n",
       "        /*normal exit:*/{\n",
       "          #ifdef WITH_THREAD\n",
       "          <span class='pyx_c_api'>__Pyx_FastGIL_Forget</span>();\n",
       "          Py_BLOCK_THREADS\n",
       "          #endif\n",
       "          goto __pyx_L5;\n",
       "        }\n",
       "        __pyx_L5:;\n",
       "      }\n",
       "  }\n",
       "</pre><pre class=\"cython line score-0\" onclick=\"(function(s){s.display=s.display==='block'?'none':'block'})(this.nextElementSibling.style)\">+<span class=\"\">32</span>:         <span class=\"k\">for</span> <span class=\"n\">i_k</span> <span class=\"ow\">in</span> <span class=\"nb\">range</span><span class=\"p\">(</span><span class=\"n\">k_size</span><span class=\"p\">):</span></pre>\n",
       "<pre class='cython code score-0 '>                            __pyx_t_11 = __pyx_v_k_size;\n",
       "                            __pyx_t_12 = __pyx_t_11;\n",
       "                            for (__pyx_t_13 = 0; __pyx_t_13 &lt; __pyx_t_12; __pyx_t_13+=1) {\n",
       "                              __pyx_v_i_k = __pyx_t_13;\n",
       "</pre><pre class=\"cython line score-0\" onclick=\"(function(s){s.display=s.display==='block'?'none':'block'})(this.nextElementSibling.style)\">+<span class=\"\">33</span>:             <span class=\"n\">tmp</span> <span class=\"o\">=</span> <span class=\"mf\">0.0</span></pre>\n",
       "<pre class='cython code score-0 '>                              __pyx_v_tmp = __pyx_t_double_complex_from_parts(0.0, 0);\n",
       "</pre><pre class=\"cython line score-0\" onclick=\"(function(s){s.display=s.display==='block'?'none':'block'})(this.nextElementSibling.style)\">+<span class=\"\">34</span>:             <span class=\"k\">for</span> <span class=\"n\">i_n</span> <span class=\"ow\">in</span> <span class=\"nb\">range</span><span class=\"p\">(</span><span class=\"n\">n_size</span><span class=\"p\">):</span><span class=\"c\">#loop and sum over unit-cells</span></pre>\n",
       "<pre class='cython code score-0 '>                              __pyx_t_14 = __pyx_v_n_size;\n",
       "                              __pyx_t_15 = __pyx_t_14;\n",
       "                              for (__pyx_t_16 = 0; __pyx_t_16 &lt; __pyx_t_15; __pyx_t_16+=1) {\n",
       "                                __pyx_v_i_n = __pyx_t_16;\n",
       "</pre><pre class=\"cython line score-0\" onclick=\"(function(s){s.display=s.display==='block'?'none':'block'})(this.nextElementSibling.style)\">+<span class=\"\">35</span>:                 <span class=\"n\">n_v</span> <span class=\"o\">=</span> <span class=\"n\">n</span><span class=\"p\">[</span><span class=\"n\">i_n</span><span class=\"p\">]</span></pre>\n",
       "<pre class='cython code score-0 '>                                __pyx_t_17 = __pyx_v_i_n;\n",
       "                                __pyx_v_n_v = (*((long *) ( /* dim=0 */ ((char *) (((long *) __pyx_v_n.data) + __pyx_t_17)) )));\n",
       "</pre><pre class=\"cython line score-0\" onclick=\"(function(s){s.display=s.display==='block'?'none':'block'})(this.nextElementSibling.style)\">+<span class=\"\">36</span>:                 <span class=\"k\">for</span> <span class=\"n\">i_m</span> <span class=\"ow\">in</span> <span class=\"nb\">range</span><span class=\"p\">(</span><span class=\"n\">m_size</span><span class=\"p\">):</span></pre>\n",
       "<pre class='cython code score-0 '>                                __pyx_t_18 = __pyx_v_m_size;\n",
       "                                __pyx_t_19 = __pyx_t_18;\n",
       "                                for (__pyx_t_20 = 0; __pyx_t_20 &lt; __pyx_t_19; __pyx_t_20+=1) {\n",
       "                                  __pyx_v_i_m = __pyx_t_20;\n",
       "</pre><pre class=\"cython line score-0\" onclick=\"(function(s){s.display=s.display==='block'?'none':'block'})(this.nextElementSibling.style)\">+<span class=\"\">37</span>:                     <span class=\"n\">m_v</span> <span class=\"o\">=</span> <span class=\"n\">m</span><span class=\"p\">[</span><span class=\"n\">i_m</span><span class=\"p\">]</span></pre>\n",
       "<pre class='cython code score-0 '>                                  __pyx_t_17 = __pyx_v_i_m;\n",
       "                                  __pyx_v_m_v = (*((long *) ( /* dim=0 */ ((char *) (((long *) __pyx_v_m.data) + __pyx_t_17)) )));\n",
       "</pre><pre class=\"cython line score-0\" onclick=\"(function(s){s.display=s.display==='block'?'none':'block'})(this.nextElementSibling.style)\">+<span class=\"\">38</span>:                     <span class=\"n\">radius</span> <span class=\"o\">=</span> <span class=\"n\">sqrt</span><span class=\"p\">((</span><span class=\"n\">n_v</span> <span class=\"o\">-</span> <span class=\"n\">N_2</span><span class=\"p\">)</span><span class=\"o\">**</span> <span class=\"mf\">2</span> <span class=\"o\">+</span> <span class=\"p\">(</span><span class=\"n\">m_v</span> <span class=\"o\">-</span> <span class=\"n\">N_2</span><span class=\"p\">)</span><span class=\"o\">**</span> <span class=\"mf\">2</span><span class=\"p\">)</span></pre>\n",
       "<pre class='cython code score-0 '>                                  __pyx_v_radius = sqrt((pow((__pyx_v_n_v - __pyx_v_N_2), 2.0) + pow((__pyx_v_m_v - __pyx_v_N_2), 2.0)));\n",
       "</pre><pre class=\"cython line score-0\" onclick=\"(function(s){s.display=s.display==='block'?'none':'block'})(this.nextElementSibling.style)\">+<span class=\"\">39</span>:                     <span class=\"k\">if</span> <span class=\"p\">(</span><span class=\"n\">radius</span> <span class=\"o\">&gt;</span> <span class=\"p\">(</span><span class=\"n\">N_2</span><span class=\"p\">)):</span></pre>\n",
       "<pre class='cython code score-0 '>                                  __pyx_t_21 = ((__pyx_v_radius &gt; __pyx_v_N_2) != 0);\n",
       "                                  if (__pyx_t_21) {\n",
       "/* … */\n",
       "                                    goto __pyx_L16;\n",
       "                                  }\n",
       "</pre><pre class=\"cython line score-0\" onclick=\"(function(s){s.display=s.display==='block'?'none':'block'})(this.nextElementSibling.style)\">+<span class=\"\">40</span>:                         <span class=\"n\">value</span> <span class=\"o\">=</span> <span class=\"mf\">0.0</span></pre>\n",
       "<pre class='cython code score-0 '>                                    __pyx_v_value = __pyx_t_double_complex_from_parts(0.0, 0);\n",
       "</pre><pre class=\"cython line score-0\">&#xA0;<span class=\"\">41</span>:                     <span class=\"k\">else</span><span class=\"p\">:</span></pre>\n",
       "<pre class=\"cython line score-0\" onclick=\"(function(s){s.display=s.display==='block'?'none':'block'})(this.nextElementSibling.style)\">+<span class=\"\">42</span>:                         <span class=\"n\">strain</span> <span class=\"o\">=</span> <span class=\"n\">e0</span> <span class=\"o\">*</span> <span class=\"p\">(</span><span class=\"mf\">1.0</span> <span class=\"o\">+</span> <span class=\"n\">tanh</span><span class=\"p\">((</span><span class=\"n\">radius</span><span class=\"o\">-</span><span class=\"n\">N_2</span><span class=\"p\">)</span><span class=\"o\">/</span><span class=\"n\">w</span><span class=\"p\">))</span></pre>\n",
       "<pre class='cython code score-0 '>                                  /*else*/ {\n",
       "                                    __pyx_v_strain = (__pyx_v_e0 * (1.0 + tanh(((__pyx_v_radius - __pyx_v_N_2) / __pyx_v_w))));\n",
       "</pre><pre class=\"cython line score-0\" onclick=\"(function(s){s.display=s.display==='block'?'none':'block'})(this.nextElementSibling.style)\">+<span class=\"\">43</span>:                         <span class=\"n\">p_n</span> <span class=\"o\">=</span> <span class=\"n\">i_n</span> <span class=\"o\">+</span> <span class=\"n\">strain</span><span class=\"o\">*</span><span class=\"p\">(</span><span class=\"n\">i_n</span> <span class=\"o\">-</span> <span class=\"n\">N_2</span><span class=\"p\">)</span></pre>\n",
       "<pre class='cython code score-0 '>                                    __pyx_v_p_n = (__pyx_v_i_n + (__pyx_v_strain * (__pyx_v_i_n - __pyx_v_N_2)));\n",
       "</pre><pre class=\"cython line score-0\" onclick=\"(function(s){s.display=s.display==='block'?'none':'block'})(this.nextElementSibling.style)\">+<span class=\"\">44</span>:                         <span class=\"n\">p_m</span> <span class=\"o\">=</span> <span class=\"n\">i_m</span> <span class=\"o\">+</span> <span class=\"n\">strain</span><span class=\"o\">*</span><span class=\"p\">(</span><span class=\"n\">i_m</span> <span class=\"o\">-</span> <span class=\"n\">N_2</span><span class=\"p\">)</span></pre>\n",
       "<pre class='cython code score-0 '>                                    __pyx_v_p_m = (__pyx_v_i_m + (__pyx_v_strain * (__pyx_v_i_m - __pyx_v_N_2)));\n",
       "</pre><pre class=\"cython line score-0\" onclick=\"(function(s){s.display=s.display==='block'?'none':'block'})(this.nextElementSibling.style)\">+<span class=\"\">45</span>:                         <span class=\"n\">value</span> <span class=\"o\">=</span> <span class=\"n\">cexp</span><span class=\"p\">(</span><span class=\"mf\">2</span><span class=\"n\">j</span><span class=\"o\">*</span><span class=\"n\">pi</span><span class=\"o\">*</span><span class=\"p\">(</span><span class=\"n\">h</span><span class=\"p\">[</span><span class=\"n\">i_h</span><span class=\"p\">]</span><span class=\"o\">*</span><span class=\"n\">p_n</span> <span class=\"o\">+</span> <span class=\"n\">k</span><span class=\"p\">[</span><span class=\"n\">i_k</span><span class=\"p\">]</span><span class=\"o\">*</span><span class=\"n\">p_m</span><span class=\"p\">))</span></pre>\n",
       "<pre class='cython code score-0 '>                                    __pyx_t_17 = __pyx_v_i_h;\n",
       "                                    __pyx_t_22 = __pyx_v_i_k;\n",
       "                                    __pyx_v_value = cexp(__Pyx_c_prod_double(__Pyx_c_prod_double(__pyx_t_double_complex_from_parts(0, 2.0), __pyx_t_double_complex_from_parts(M_PI, 0)), __pyx_t_double_complex_from_parts((((*((double *) ( /* dim=0 */ ((char *) (((double *) __pyx_v_h.data) + __pyx_t_17)) ))) * __pyx_v_p_n) + ((*((double *) ( /* dim=0 */ ((char *) (((double *) __pyx_v_k.data) + __pyx_t_22)) ))) * __pyx_v_p_m)), 0)));\n",
       "                                  }\n",
       "                                  __pyx_L16:;\n",
       "</pre><pre class=\"cython line score-0\" onclick=\"(function(s){s.display=s.display==='block'?'none':'block'})(this.nextElementSibling.style)\">+<span class=\"\">46</span>:                     <span class=\"n\">tmp</span> <span class=\"o\">+=</span>  <span class=\"n\">value</span></pre>\n",
       "<pre class='cython code score-0 '>                                  __pyx_v_tmp = __Pyx_c_sum_double(__pyx_v_tmp, __pyx_v_value);\n",
       "                                }\n",
       "                              }\n",
       "</pre><pre class=\"cython line score-0\" onclick=\"(function(s){s.display=s.display==='block'?'none':'block'})(this.nextElementSibling.style)\">+<span class=\"\">47</span>:             <span class=\"n\">result</span><span class=\"p\">[</span><span class=\"n\">i_h</span><span class=\"p\">,</span> <span class=\"n\">i_k</span><span class=\"p\">]</span> <span class=\"o\">+=</span> <span class=\"n\">cabs</span><span class=\"p\">(</span><span class=\"n\">tmp</span><span class=\"p\">)</span><span class=\"o\">**</span><span class=\"mf\">2</span></pre>\n",
       "<pre class='cython code score-0 '>                              __pyx_t_22 = __pyx_v_i_h;\n",
       "                              __pyx_t_17 = __pyx_v_i_k;\n",
       "                              *((double *) ( /* dim=1 */ ((char *) (((double *) ( /* dim=0 */ (__pyx_v_result.data + __pyx_t_22 * __pyx_v_result.strides[0]) )) + __pyx_t_17)) )) += pow(cabs(__pyx_v_tmp), 2.0);\n",
       "                            }\n",
       "                        }\n",
       "                    }\n",
       "                }\n",
       "            }\n",
       "        }\n",
       "        #if ((defined(__APPLE__) || defined(__OSX__)) &amp;&amp; (defined(__GNUC__) &amp;&amp; (__GNUC__ &gt; 2 || (__GNUC__ == 2 &amp;&amp; (__GNUC_MINOR__ &gt; 95)))))\n",
       "            #undef likely\n",
       "            #undef unlikely\n",
       "            #define likely(x)   __builtin_expect(!!(x), 1)\n",
       "            #define unlikely(x) __builtin_expect(!!(x), 0)\n",
       "        #endif\n",
       "      }\n",
       "</pre><pre class=\"cython line score-21\" onclick=\"(function(s){s.display=s.display==='block'?'none':'block'})(this.nextElementSibling.style)\">+<span class=\"\">48</span>:     <span class=\"k\">return</span> <span class=\"n\">np</span><span class=\"o\">.</span><span class=\"n\">asarray</span><span class=\"p\">(</span><span class=\"n\">result</span><span class=\"p\">)</span></pre>\n",
       "<pre class='cython code score-21 '>  <span class='pyx_macro_api'>__Pyx_XDECREF</span>(__pyx_r);\n",
       "  <span class='pyx_c_api'>__Pyx_GetModuleGlobalName</span>(__pyx_t_2, __pyx_n_s_np);<span class='error_goto'> if (unlikely(!__pyx_t_2)) __PYX_ERR(0, 48, __pyx_L1_error)</span>\n",
       "  <span class='refnanny'>__Pyx_GOTREF</span>(__pyx_t_2);\n",
       "  __pyx_t_6 = <span class='pyx_c_api'>__Pyx_PyObject_GetAttrStr</span>(__pyx_t_2, __pyx_n_s_asarray);<span class='error_goto'> if (unlikely(!__pyx_t_6)) __PYX_ERR(0, 48, __pyx_L1_error)</span>\n",
       "  <span class='refnanny'>__Pyx_GOTREF</span>(__pyx_t_6);\n",
       "  <span class='pyx_macro_api'>__Pyx_DECREF</span>(__pyx_t_2); __pyx_t_2 = 0;\n",
       "  __pyx_t_2 = __pyx_memoryview_fromslice(__pyx_v_result, 2, (PyObject *(*)(char *)) __pyx_memview_get_double, (int (*)(char *, PyObject *)) __pyx_memview_set_double, 0);;<span class='error_goto'> if (unlikely(!__pyx_t_2)) __PYX_ERR(0, 48, __pyx_L1_error)</span>\n",
       "  <span class='refnanny'>__Pyx_GOTREF</span>(__pyx_t_2);\n",
       "  __pyx_t_5 = NULL;\n",
       "  __pyx_t_10 = 0;\n",
       "  if (CYTHON_UNPACK_METHODS &amp;&amp; unlikely(<span class='py_c_api'>PyMethod_Check</span>(__pyx_t_6))) {\n",
       "    __pyx_t_5 = <span class='py_macro_api'>PyMethod_GET_SELF</span>(__pyx_t_6);\n",
       "    if (likely(__pyx_t_5)) {\n",
       "      PyObject* function = <span class='py_macro_api'>PyMethod_GET_FUNCTION</span>(__pyx_t_6);\n",
       "      <span class='pyx_macro_api'>__Pyx_INCREF</span>(__pyx_t_5);\n",
       "      <span class='pyx_macro_api'>__Pyx_INCREF</span>(function);\n",
       "      <span class='pyx_macro_api'>__Pyx_DECREF_SET</span>(__pyx_t_6, function);\n",
       "      __pyx_t_10 = 1;\n",
       "    }\n",
       "  }\n",
       "  {\n",
       "    PyObject *__pyx_callargs[2] = {__pyx_t_5, __pyx_t_2};\n",
       "    __pyx_t_3 = <span class='pyx_c_api'>__Pyx_PyObject_FastCall</span>(__pyx_t_6, __pyx_callargs+1-__pyx_t_10, 1+__pyx_t_10);\n",
       "    <span class='pyx_macro_api'>__Pyx_XDECREF</span>(__pyx_t_5); __pyx_t_5 = 0;\n",
       "    <span class='pyx_macro_api'>__Pyx_DECREF</span>(__pyx_t_2); __pyx_t_2 = 0;\n",
       "    if (unlikely(!__pyx_t_3)) <span class='error_goto'>__PYX_ERR(0, 48, __pyx_L1_error)</span>\n",
       "    <span class='refnanny'>__Pyx_GOTREF</span>(__pyx_t_3);\n",
       "    <span class='pyx_macro_api'>__Pyx_DECREF</span>(__pyx_t_6); __pyx_t_6 = 0;\n",
       "  }\n",
       "  __pyx_r = __pyx_t_3;\n",
       "  __pyx_t_3 = 0;\n",
       "  goto __pyx_L0;\n",
       "</pre></div></body></html>"
      ],
      "text/plain": [
       "<IPython.core.display.HTML object>"
      ]
     },
     "execution_count": 44,
     "metadata": {},
     "output_type": "execute_result"
    }
   ],
   "source": [
    "%%cython --compile-args=-fopenmp --link-args=-fopenmp -a\n",
    "#%%cython -a\n",
    "#cython: embedsignature=True, language_level=3, binding=True\n",
    "# cython: boundscheck=False, wraparound=False, cdivision=True, initializedcheck=False,\n",
    "## This is for developping:\n",
    "## cython: profile=True, warn.undeclared=True, warn.unused=True, warn.unused_result=False, warn.unused_arg=True\n",
    "\n",
    "import numpy as np\n",
    "from cython.parallel import prange\n",
    "from libc.math cimport sqrt, pi, tanh\n",
    "from libc.complex cimport cabs, cexp\n",
    "    \n",
    "def Circ_cython(long[::1] n, \n",
    "                long[::1] m, \n",
    "                double[::1] h, \n",
    "                double[::1] k,\n",
    "                double e0,\n",
    "                double w):\n",
    "    cdef:\n",
    "        double[:, ::1] result\n",
    "        double N_2, p_n, p_m, strain, radius, n_v, m_v\n",
    "        double complex tmp, two_j_pi,  value\n",
    "        int i_h, i_k, i_m, i_n, h_size, k_size, n_size, m_size\n",
    "        \n",
    "    two_j_pi = np.pi*2j\n",
    "    h_size = h.shape[0]\n",
    "    k_size = k.shape[0]\n",
    "    n_size = n.shape[0]\n",
    "    m_size = m.shape[0]\n",
    "    result = np.zeros((h_size, k_size))\n",
    "    N_2 = n_size / 2.0\n",
    "    for i_h in prange(h_size, nogil=True):  # loop over the reciprocal space coordinates\n",
    "        for i_k in range(k_size):\n",
    "            tmp = 0.0\n",
    "            for i_n in range(n_size):#loop and sum over unit-cells\n",
    "                n_v = n[i_n]\n",
    "                for i_m in range(m_size):\n",
    "                    m_v = m[i_m]\n",
    "                    radius = sqrt((n_v - N_2)** 2 + (m_v - N_2)** 2)\n",
    "                    if (radius > (N_2)):\n",
    "                        value = 0.0\n",
    "                    else:\n",
    "                        strain = e0 * (1.0 + tanh((radius-N_2)/w))\n",
    "                        p_n = i_n + strain*(i_n - N_2)\n",
    "                        p_m = i_m + strain*(i_m - N_2)\n",
    "                        value = cexp(2j*pi*(h[i_h]*p_n + k[i_k]*p_m))\n",
    "                    tmp +=  value\n",
    "            result[i_h, i_k] += cabs(tmp)**2\n",
    "    return np.asarray(result)\n"
   ]
  },
  {
   "cell_type": "code",
   "execution_count": 45,
   "metadata": {
    "slideshow": {
     "slide_type": "skip"
    }
   },
   "outputs": [
    {
     "name": "stdout",
     "output_type": "stream",
     "text": [
      "CPU times: user 876 ms, sys: 123 µs, total: 876 ms\n",
      "Wall time: 105 ms\n",
      "Error: 3.3097742436391504e-15\n",
      "72.7 ms ± 405 µs per loop (mean ± std. dev. of 7 runs, 10 loops each)\n"
     ]
    }
   ],
   "source": [
    "#Compute and check error\n",
    "%time intensity = Circ_cython(n, m, h, k, e0, w)\n",
    "print(\"Error:\", validate_ci(intensity))\n",
    "perf_ci_cython = %timeit -o Circ_cython(n, m, h, k, e0, w)"
   ]
  },
  {
   "cell_type": "markdown",
   "metadata": {
    "slideshow": {
     "slide_type": "subslide"
    }
   },
   "source": [
    "### Limits of `Cython`\n",
    "\n",
    "* The learning curve for `Cython` is steaper than that of `numba` since it targets C/C++ as intermediate language.\n",
    "* Distribution of compiled extensions can be an issue. \n",
    "* Distribution of source code (C or C++) requires the user to install a compiler (rarely on consumer targeted operating systems like Windows & MacOS).\n",
    "* Compiler features depend a lot on the operating system: For instance MacOS removed the support for OpenMP.\n",
    "* Issues about software distribution are addressed in the software engineering training course.\n",
    "\n",
    "The issue about OpenMP not being supported in some environments can be worked around using a `ThreadPool` in Python and a `nogil` section in Cython:"
   ]
  },
  {
   "cell_type": "code",
   "execution_count": 46,
   "metadata": {
    "slideshow": {
     "slide_type": "subslide"
    }
   },
   "outputs": [
    {
     "data": {
      "text/html": [
       "<!DOCTYPE html>\n",
       "<!-- Generated by Cython 3.0a7 -->\n",
       "<html>\n",
       "<head>\n",
       "    <meta http-equiv=\"Content-Type\" content=\"text/html; charset=utf-8\" />\n",
       "    <title>Cython: _cython_magic_8f9c39a0eb27da48561eebdd414b447c7ffc140b.pyx</title>\n",
       "    <style type=\"text/css\">\n",
       "    \n",
       "body.cython { font-family: courier; font-size: 12; }\n",
       "\n",
       ".cython.tag  {  }\n",
       ".cython.line { color: #000000; margin: 0em }\n",
       ".cython.code { font-size: 9; color: #444444; display: none; margin: 0px 0px 0px 8px; border-left: 8px none; }\n",
       "\n",
       ".cython.line .run { background-color: #B0FFB0; }\n",
       ".cython.line .mis { background-color: #FFB0B0; }\n",
       ".cython.code.run  { border-left: 8px solid #B0FFB0; }\n",
       ".cython.code.mis  { border-left: 8px solid #FFB0B0; }\n",
       "\n",
       ".cython.code .py_c_api  { color: red; }\n",
       ".cython.code .py_macro_api  { color: #FF7000; }\n",
       ".cython.code .pyx_c_api  { color: #FF3000; }\n",
       ".cython.code .pyx_macro_api  { color: #FF7000; }\n",
       ".cython.code .refnanny  { color: #FFA000; }\n",
       ".cython.code .trace  { color: #FFA000; }\n",
       ".cython.code .error_goto  { color: #FFA000; }\n",
       "\n",
       ".cython.code .coerce  { color: #008000; border: 1px dotted #008000 }\n",
       ".cython.code .py_attr { color: #FF0000; font-weight: bold; }\n",
       ".cython.code .c_attr  { color: #0000FF; }\n",
       ".cython.code .py_call { color: #FF0000; font-weight: bold; }\n",
       ".cython.code .c_call  { color: #0000FF; }\n",
       "\n",
       ".cython.score-0 {background-color: #FFFFff;}\n",
       ".cython.score-1 {background-color: #FFFFe7;}\n",
       ".cython.score-2 {background-color: #FFFFd4;}\n",
       ".cython.score-3 {background-color: #FFFFc4;}\n",
       ".cython.score-4 {background-color: #FFFFb6;}\n",
       ".cython.score-5 {background-color: #FFFFaa;}\n",
       ".cython.score-6 {background-color: #FFFF9f;}\n",
       ".cython.score-7 {background-color: #FFFF96;}\n",
       ".cython.score-8 {background-color: #FFFF8d;}\n",
       ".cython.score-9 {background-color: #FFFF86;}\n",
       ".cython.score-10 {background-color: #FFFF7f;}\n",
       ".cython.score-11 {background-color: #FFFF79;}\n",
       ".cython.score-12 {background-color: #FFFF73;}\n",
       ".cython.score-13 {background-color: #FFFF6e;}\n",
       ".cython.score-14 {background-color: #FFFF6a;}\n",
       ".cython.score-15 {background-color: #FFFF66;}\n",
       ".cython.score-16 {background-color: #FFFF62;}\n",
       ".cython.score-17 {background-color: #FFFF5e;}\n",
       ".cython.score-18 {background-color: #FFFF5b;}\n",
       ".cython.score-19 {background-color: #FFFF57;}\n",
       ".cython.score-20 {background-color: #FFFF55;}\n",
       ".cython.score-21 {background-color: #FFFF52;}\n",
       ".cython.score-22 {background-color: #FFFF4f;}\n",
       ".cython.score-23 {background-color: #FFFF4d;}\n",
       ".cython.score-24 {background-color: #FFFF4b;}\n",
       ".cython.score-25 {background-color: #FFFF48;}\n",
       ".cython.score-26 {background-color: #FFFF46;}\n",
       ".cython.score-27 {background-color: #FFFF44;}\n",
       ".cython.score-28 {background-color: #FFFF43;}\n",
       ".cython.score-29 {background-color: #FFFF41;}\n",
       ".cython.score-30 {background-color: #FFFF3f;}\n",
       ".cython.score-31 {background-color: #FFFF3e;}\n",
       ".cython.score-32 {background-color: #FFFF3c;}\n",
       ".cython.score-33 {background-color: #FFFF3b;}\n",
       ".cython.score-34 {background-color: #FFFF39;}\n",
       ".cython.score-35 {background-color: #FFFF38;}\n",
       ".cython.score-36 {background-color: #FFFF37;}\n",
       ".cython.score-37 {background-color: #FFFF36;}\n",
       ".cython.score-38 {background-color: #FFFF35;}\n",
       ".cython.score-39 {background-color: #FFFF34;}\n",
       ".cython.score-40 {background-color: #FFFF33;}\n",
       ".cython.score-41 {background-color: #FFFF32;}\n",
       ".cython.score-42 {background-color: #FFFF31;}\n",
       ".cython.score-43 {background-color: #FFFF30;}\n",
       ".cython.score-44 {background-color: #FFFF2f;}\n",
       ".cython.score-45 {background-color: #FFFF2e;}\n",
       ".cython.score-46 {background-color: #FFFF2d;}\n",
       ".cython.score-47 {background-color: #FFFF2c;}\n",
       ".cython.score-48 {background-color: #FFFF2b;}\n",
       ".cython.score-49 {background-color: #FFFF2b;}\n",
       ".cython.score-50 {background-color: #FFFF2a;}\n",
       ".cython.score-51 {background-color: #FFFF29;}\n",
       ".cython.score-52 {background-color: #FFFF29;}\n",
       ".cython.score-53 {background-color: #FFFF28;}\n",
       ".cython.score-54 {background-color: #FFFF27;}\n",
       ".cython.score-55 {background-color: #FFFF27;}\n",
       ".cython.score-56 {background-color: #FFFF26;}\n",
       ".cython.score-57 {background-color: #FFFF26;}\n",
       ".cython.score-58 {background-color: #FFFF25;}\n",
       ".cython.score-59 {background-color: #FFFF24;}\n",
       ".cython.score-60 {background-color: #FFFF24;}\n",
       ".cython.score-61 {background-color: #FFFF23;}\n",
       ".cython.score-62 {background-color: #FFFF23;}\n",
       ".cython.score-63 {background-color: #FFFF22;}\n",
       ".cython.score-64 {background-color: #FFFF22;}\n",
       ".cython.score-65 {background-color: #FFFF22;}\n",
       ".cython.score-66 {background-color: #FFFF21;}\n",
       ".cython.score-67 {background-color: #FFFF21;}\n",
       ".cython.score-68 {background-color: #FFFF20;}\n",
       ".cython.score-69 {background-color: #FFFF20;}\n",
       ".cython.score-70 {background-color: #FFFF1f;}\n",
       ".cython.score-71 {background-color: #FFFF1f;}\n",
       ".cython.score-72 {background-color: #FFFF1f;}\n",
       ".cython.score-73 {background-color: #FFFF1e;}\n",
       ".cython.score-74 {background-color: #FFFF1e;}\n",
       ".cython.score-75 {background-color: #FFFF1e;}\n",
       ".cython.score-76 {background-color: #FFFF1d;}\n",
       ".cython.score-77 {background-color: #FFFF1d;}\n",
       ".cython.score-78 {background-color: #FFFF1c;}\n",
       ".cython.score-79 {background-color: #FFFF1c;}\n",
       ".cython.score-80 {background-color: #FFFF1c;}\n",
       ".cython.score-81 {background-color: #FFFF1c;}\n",
       ".cython.score-82 {background-color: #FFFF1b;}\n",
       ".cython.score-83 {background-color: #FFFF1b;}\n",
       ".cython.score-84 {background-color: #FFFF1b;}\n",
       ".cython.score-85 {background-color: #FFFF1a;}\n",
       ".cython.score-86 {background-color: #FFFF1a;}\n",
       ".cython.score-87 {background-color: #FFFF1a;}\n",
       ".cython.score-88 {background-color: #FFFF1a;}\n",
       ".cython.score-89 {background-color: #FFFF19;}\n",
       ".cython.score-90 {background-color: #FFFF19;}\n",
       ".cython.score-91 {background-color: #FFFF19;}\n",
       ".cython.score-92 {background-color: #FFFF19;}\n",
       ".cython.score-93 {background-color: #FFFF18;}\n",
       ".cython.score-94 {background-color: #FFFF18;}\n",
       ".cython.score-95 {background-color: #FFFF18;}\n",
       ".cython.score-96 {background-color: #FFFF18;}\n",
       ".cython.score-97 {background-color: #FFFF17;}\n",
       ".cython.score-98 {background-color: #FFFF17;}\n",
       ".cython.score-99 {background-color: #FFFF17;}\n",
       ".cython.score-100 {background-color: #FFFF17;}\n",
       ".cython.score-101 {background-color: #FFFF16;}\n",
       ".cython.score-102 {background-color: #FFFF16;}\n",
       ".cython.score-103 {background-color: #FFFF16;}\n",
       ".cython.score-104 {background-color: #FFFF16;}\n",
       ".cython.score-105 {background-color: #FFFF16;}\n",
       ".cython.score-106 {background-color: #FFFF15;}\n",
       ".cython.score-107 {background-color: #FFFF15;}\n",
       ".cython.score-108 {background-color: #FFFF15;}\n",
       ".cython.score-109 {background-color: #FFFF15;}\n",
       ".cython.score-110 {background-color: #FFFF15;}\n",
       ".cython.score-111 {background-color: #FFFF15;}\n",
       ".cython.score-112 {background-color: #FFFF14;}\n",
       ".cython.score-113 {background-color: #FFFF14;}\n",
       ".cython.score-114 {background-color: #FFFF14;}\n",
       ".cython.score-115 {background-color: #FFFF14;}\n",
       ".cython.score-116 {background-color: #FFFF14;}\n",
       ".cython.score-117 {background-color: #FFFF14;}\n",
       ".cython.score-118 {background-color: #FFFF13;}\n",
       ".cython.score-119 {background-color: #FFFF13;}\n",
       ".cython.score-120 {background-color: #FFFF13;}\n",
       ".cython.score-121 {background-color: #FFFF13;}\n",
       ".cython.score-122 {background-color: #FFFF13;}\n",
       ".cython.score-123 {background-color: #FFFF13;}\n",
       ".cython.score-124 {background-color: #FFFF13;}\n",
       ".cython.score-125 {background-color: #FFFF12;}\n",
       ".cython.score-126 {background-color: #FFFF12;}\n",
       ".cython.score-127 {background-color: #FFFF12;}\n",
       ".cython.score-128 {background-color: #FFFF12;}\n",
       ".cython.score-129 {background-color: #FFFF12;}\n",
       ".cython.score-130 {background-color: #FFFF12;}\n",
       ".cython.score-131 {background-color: #FFFF12;}\n",
       ".cython.score-132 {background-color: #FFFF11;}\n",
       ".cython.score-133 {background-color: #FFFF11;}\n",
       ".cython.score-134 {background-color: #FFFF11;}\n",
       ".cython.score-135 {background-color: #FFFF11;}\n",
       ".cython.score-136 {background-color: #FFFF11;}\n",
       ".cython.score-137 {background-color: #FFFF11;}\n",
       ".cython.score-138 {background-color: #FFFF11;}\n",
       ".cython.score-139 {background-color: #FFFF11;}\n",
       ".cython.score-140 {background-color: #FFFF11;}\n",
       ".cython.score-141 {background-color: #FFFF10;}\n",
       ".cython.score-142 {background-color: #FFFF10;}\n",
       ".cython.score-143 {background-color: #FFFF10;}\n",
       ".cython.score-144 {background-color: #FFFF10;}\n",
       ".cython.score-145 {background-color: #FFFF10;}\n",
       ".cython.score-146 {background-color: #FFFF10;}\n",
       ".cython.score-147 {background-color: #FFFF10;}\n",
       ".cython.score-148 {background-color: #FFFF10;}\n",
       ".cython.score-149 {background-color: #FFFF10;}\n",
       ".cython.score-150 {background-color: #FFFF0f;}\n",
       ".cython.score-151 {background-color: #FFFF0f;}\n",
       ".cython.score-152 {background-color: #FFFF0f;}\n",
       ".cython.score-153 {background-color: #FFFF0f;}\n",
       ".cython.score-154 {background-color: #FFFF0f;}\n",
       ".cython.score-155 {background-color: #FFFF0f;}\n",
       ".cython.score-156 {background-color: #FFFF0f;}\n",
       ".cython.score-157 {background-color: #FFFF0f;}\n",
       ".cython.score-158 {background-color: #FFFF0f;}\n",
       ".cython.score-159 {background-color: #FFFF0f;}\n",
       ".cython.score-160 {background-color: #FFFF0f;}\n",
       ".cython.score-161 {background-color: #FFFF0e;}\n",
       ".cython.score-162 {background-color: #FFFF0e;}\n",
       ".cython.score-163 {background-color: #FFFF0e;}\n",
       ".cython.score-164 {background-color: #FFFF0e;}\n",
       ".cython.score-165 {background-color: #FFFF0e;}\n",
       ".cython.score-166 {background-color: #FFFF0e;}\n",
       ".cython.score-167 {background-color: #FFFF0e;}\n",
       ".cython.score-168 {background-color: #FFFF0e;}\n",
       ".cython.score-169 {background-color: #FFFF0e;}\n",
       ".cython.score-170 {background-color: #FFFF0e;}\n",
       ".cython.score-171 {background-color: #FFFF0e;}\n",
       ".cython.score-172 {background-color: #FFFF0e;}\n",
       ".cython.score-173 {background-color: #FFFF0d;}\n",
       ".cython.score-174 {background-color: #FFFF0d;}\n",
       ".cython.score-175 {background-color: #FFFF0d;}\n",
       ".cython.score-176 {background-color: #FFFF0d;}\n",
       ".cython.score-177 {background-color: #FFFF0d;}\n",
       ".cython.score-178 {background-color: #FFFF0d;}\n",
       ".cython.score-179 {background-color: #FFFF0d;}\n",
       ".cython.score-180 {background-color: #FFFF0d;}\n",
       ".cython.score-181 {background-color: #FFFF0d;}\n",
       ".cython.score-182 {background-color: #FFFF0d;}\n",
       ".cython.score-183 {background-color: #FFFF0d;}\n",
       ".cython.score-184 {background-color: #FFFF0d;}\n",
       ".cython.score-185 {background-color: #FFFF0d;}\n",
       ".cython.score-186 {background-color: #FFFF0d;}\n",
       ".cython.score-187 {background-color: #FFFF0c;}\n",
       ".cython.score-188 {background-color: #FFFF0c;}\n",
       ".cython.score-189 {background-color: #FFFF0c;}\n",
       ".cython.score-190 {background-color: #FFFF0c;}\n",
       ".cython.score-191 {background-color: #FFFF0c;}\n",
       ".cython.score-192 {background-color: #FFFF0c;}\n",
       ".cython.score-193 {background-color: #FFFF0c;}\n",
       ".cython.score-194 {background-color: #FFFF0c;}\n",
       ".cython.score-195 {background-color: #FFFF0c;}\n",
       ".cython.score-196 {background-color: #FFFF0c;}\n",
       ".cython.score-197 {background-color: #FFFF0c;}\n",
       ".cython.score-198 {background-color: #FFFF0c;}\n",
       ".cython.score-199 {background-color: #FFFF0c;}\n",
       ".cython.score-200 {background-color: #FFFF0c;}\n",
       ".cython.score-201 {background-color: #FFFF0c;}\n",
       ".cython.score-202 {background-color: #FFFF0c;}\n",
       ".cython.score-203 {background-color: #FFFF0b;}\n",
       ".cython.score-204 {background-color: #FFFF0b;}\n",
       ".cython.score-205 {background-color: #FFFF0b;}\n",
       ".cython.score-206 {background-color: #FFFF0b;}\n",
       ".cython.score-207 {background-color: #FFFF0b;}\n",
       ".cython.score-208 {background-color: #FFFF0b;}\n",
       ".cython.score-209 {background-color: #FFFF0b;}\n",
       ".cython.score-210 {background-color: #FFFF0b;}\n",
       ".cython.score-211 {background-color: #FFFF0b;}\n",
       ".cython.score-212 {background-color: #FFFF0b;}\n",
       ".cython.score-213 {background-color: #FFFF0b;}\n",
       ".cython.score-214 {background-color: #FFFF0b;}\n",
       ".cython.score-215 {background-color: #FFFF0b;}\n",
       ".cython.score-216 {background-color: #FFFF0b;}\n",
       ".cython.score-217 {background-color: #FFFF0b;}\n",
       ".cython.score-218 {background-color: #FFFF0b;}\n",
       ".cython.score-219 {background-color: #FFFF0b;}\n",
       ".cython.score-220 {background-color: #FFFF0b;}\n",
       ".cython.score-221 {background-color: #FFFF0b;}\n",
       ".cython.score-222 {background-color: #FFFF0a;}\n",
       ".cython.score-223 {background-color: #FFFF0a;}\n",
       ".cython.score-224 {background-color: #FFFF0a;}\n",
       ".cython.score-225 {background-color: #FFFF0a;}\n",
       ".cython.score-226 {background-color: #FFFF0a;}\n",
       ".cython.score-227 {background-color: #FFFF0a;}\n",
       ".cython.score-228 {background-color: #FFFF0a;}\n",
       ".cython.score-229 {background-color: #FFFF0a;}\n",
       ".cython.score-230 {background-color: #FFFF0a;}\n",
       ".cython.score-231 {background-color: #FFFF0a;}\n",
       ".cython.score-232 {background-color: #FFFF0a;}\n",
       ".cython.score-233 {background-color: #FFFF0a;}\n",
       ".cython.score-234 {background-color: #FFFF0a;}\n",
       ".cython.score-235 {background-color: #FFFF0a;}\n",
       ".cython.score-236 {background-color: #FFFF0a;}\n",
       ".cython.score-237 {background-color: #FFFF0a;}\n",
       ".cython.score-238 {background-color: #FFFF0a;}\n",
       ".cython.score-239 {background-color: #FFFF0a;}\n",
       ".cython.score-240 {background-color: #FFFF0a;}\n",
       ".cython.score-241 {background-color: #FFFF0a;}\n",
       ".cython.score-242 {background-color: #FFFF0a;}\n",
       ".cython.score-243 {background-color: #FFFF0a;}\n",
       ".cython.score-244 {background-color: #FFFF0a;}\n",
       ".cython.score-245 {background-color: #FFFF0a;}\n",
       ".cython.score-246 {background-color: #FFFF09;}\n",
       ".cython.score-247 {background-color: #FFFF09;}\n",
       ".cython.score-248 {background-color: #FFFF09;}\n",
       ".cython.score-249 {background-color: #FFFF09;}\n",
       ".cython.score-250 {background-color: #FFFF09;}\n",
       ".cython.score-251 {background-color: #FFFF09;}\n",
       ".cython.score-252 {background-color: #FFFF09;}\n",
       ".cython.score-253 {background-color: #FFFF09;}\n",
       ".cython.score-254 {background-color: #FFFF09;}\n",
       ".cython .hll { background-color: #ffffcc }\n",
       ".cython  { background: #f8f8f8; }\n",
       ".cython .c { color: #408080; font-style: italic } /* Comment */\n",
       ".cython .err { border: 1px solid #FF0000 } /* Error */\n",
       ".cython .k { color: #008000; font-weight: bold } /* Keyword */\n",
       ".cython .o { color: #666666 } /* Operator */\n",
       ".cython .ch { color: #408080; font-style: italic } /* Comment.Hashbang */\n",
       ".cython .cm { color: #408080; font-style: italic } /* Comment.Multiline */\n",
       ".cython .cp { color: #BC7A00 } /* Comment.Preproc */\n",
       ".cython .cpf { color: #408080; font-style: italic } /* Comment.PreprocFile */\n",
       ".cython .c1 { color: #408080; font-style: italic } /* Comment.Single */\n",
       ".cython .cs { color: #408080; font-style: italic } /* Comment.Special */\n",
       ".cython .gd { color: #A00000 } /* Generic.Deleted */\n",
       ".cython .ge { font-style: italic } /* Generic.Emph */\n",
       ".cython .gr { color: #FF0000 } /* Generic.Error */\n",
       ".cython .gh { color: #000080; font-weight: bold } /* Generic.Heading */\n",
       ".cython .gi { color: #00A000 } /* Generic.Inserted */\n",
       ".cython .go { color: #888888 } /* Generic.Output */\n",
       ".cython .gp { color: #000080; font-weight: bold } /* Generic.Prompt */\n",
       ".cython .gs { font-weight: bold } /* Generic.Strong */\n",
       ".cython .gu { color: #800080; font-weight: bold } /* Generic.Subheading */\n",
       ".cython .gt { color: #0044DD } /* Generic.Traceback */\n",
       ".cython .kc { color: #008000; font-weight: bold } /* Keyword.Constant */\n",
       ".cython .kd { color: #008000; font-weight: bold } /* Keyword.Declaration */\n",
       ".cython .kn { color: #008000; font-weight: bold } /* Keyword.Namespace */\n",
       ".cython .kp { color: #008000 } /* Keyword.Pseudo */\n",
       ".cython .kr { color: #008000; font-weight: bold } /* Keyword.Reserved */\n",
       ".cython .kt { color: #B00040 } /* Keyword.Type */\n",
       ".cython .m { color: #666666 } /* Literal.Number */\n",
       ".cython .s { color: #BA2121 } /* Literal.String */\n",
       ".cython .na { color: #7D9029 } /* Name.Attribute */\n",
       ".cython .nb { color: #008000 } /* Name.Builtin */\n",
       ".cython .nc { color: #0000FF; font-weight: bold } /* Name.Class */\n",
       ".cython .no { color: #880000 } /* Name.Constant */\n",
       ".cython .nd { color: #AA22FF } /* Name.Decorator */\n",
       ".cython .ni { color: #999999; font-weight: bold } /* Name.Entity */\n",
       ".cython .ne { color: #D2413A; font-weight: bold } /* Name.Exception */\n",
       ".cython .nf { color: #0000FF } /* Name.Function */\n",
       ".cython .nl { color: #A0A000 } /* Name.Label */\n",
       ".cython .nn { color: #0000FF; font-weight: bold } /* Name.Namespace */\n",
       ".cython .nt { color: #008000; font-weight: bold } /* Name.Tag */\n",
       ".cython .nv { color: #19177C } /* Name.Variable */\n",
       ".cython .ow { color: #AA22FF; font-weight: bold } /* Operator.Word */\n",
       ".cython .w { color: #bbbbbb } /* Text.Whitespace */\n",
       ".cython .mb { color: #666666 } /* Literal.Number.Bin */\n",
       ".cython .mf { color: #666666 } /* Literal.Number.Float */\n",
       ".cython .mh { color: #666666 } /* Literal.Number.Hex */\n",
       ".cython .mi { color: #666666 } /* Literal.Number.Integer */\n",
       ".cython .mo { color: #666666 } /* Literal.Number.Oct */\n",
       ".cython .sa { color: #BA2121 } /* Literal.String.Affix */\n",
       ".cython .sb { color: #BA2121 } /* Literal.String.Backtick */\n",
       ".cython .sc { color: #BA2121 } /* Literal.String.Char */\n",
       ".cython .dl { color: #BA2121 } /* Literal.String.Delimiter */\n",
       ".cython .sd { color: #BA2121; font-style: italic } /* Literal.String.Doc */\n",
       ".cython .s2 { color: #BA2121 } /* Literal.String.Double */\n",
       ".cython .se { color: #BB6622; font-weight: bold } /* Literal.String.Escape */\n",
       ".cython .sh { color: #BA2121 } /* Literal.String.Heredoc */\n",
       ".cython .si { color: #BB6688; font-weight: bold } /* Literal.String.Interpol */\n",
       ".cython .sx { color: #008000 } /* Literal.String.Other */\n",
       ".cython .sr { color: #BB6688 } /* Literal.String.Regex */\n",
       ".cython .s1 { color: #BA2121 } /* Literal.String.Single */\n",
       ".cython .ss { color: #19177C } /* Literal.String.Symbol */\n",
       ".cython .bp { color: #008000 } /* Name.Builtin.Pseudo */\n",
       ".cython .fm { color: #0000FF } /* Name.Function.Magic */\n",
       ".cython .vc { color: #19177C } /* Name.Variable.Class */\n",
       ".cython .vg { color: #19177C } /* Name.Variable.Global */\n",
       ".cython .vi { color: #19177C } /* Name.Variable.Instance */\n",
       ".cython .vm { color: #19177C } /* Name.Variable.Magic */\n",
       ".cython .il { color: #666666 } /* Literal.Number.Integer.Long */\n",
       "    </style>\n",
       "</head>\n",
       "<body class=\"cython\">\n",
       "<p><span style=\"border-bottom: solid 1px grey;\">Generated by Cython 3.0a7</span></p>\n",
       "<p>\n",
       "    <span style=\"background-color: #FFFF00\">Yellow lines</span> hint at Python interaction.<br />\n",
       "    Click on a line that starts with a \"<code>+</code>\" to see the C code that Cython generated for it.\n",
       "</p>\n",
       "<div class=\"cython\"><pre class=\"cython line score-8\" onclick=\"(function(s){s.display=s.display==='block'?'none':'block'})(this.nextElementSibling.style)\">+<span class=\"\">01</span>: <span class=\"c\">#cython: embedsignature=True, language_level=3, binding=True</span></pre>\n",
       "<pre class='cython code score-8 '>  __pyx_t_1 = <span class='pyx_c_api'>__Pyx_PyDict_NewPresized</span>(0);<span class='error_goto'> if (unlikely(!__pyx_t_1)) __PYX_ERR(0, 1, __pyx_L1_error)</span>\n",
       "  <span class='refnanny'>__Pyx_GOTREF</span>(__pyx_t_1);\n",
       "  if (<span class='py_c_api'>PyDict_SetItem</span>(__pyx_d, __pyx_n_s_test, __pyx_t_1) &lt; 0) <span class='error_goto'>__PYX_ERR(0, 1, __pyx_L1_error)</span>\n",
       "  <span class='pyx_macro_api'>__Pyx_DECREF</span>(__pyx_t_1); __pyx_t_1 = 0;\n",
       "</pre><pre class=\"cython line score-0\">&#xA0;<span class=\"\">02</span>: <span class=\"c\">#cython: boundscheck=False, wraparound=False, cdivision=True, initializedcheck=False,</span></pre>\n",
       "<pre class=\"cython line score-0\">&#xA0;<span class=\"\">03</span>: <span class=\"c\">## This is for developping:</span></pre>\n",
       "<pre class=\"cython line score-0\">&#xA0;<span class=\"\">04</span>: <span class=\"c\">## cython: profile=True, warn.undeclared=True, warn.unused=True, warn.unused_result=False, warn.unused_arg=True</span></pre>\n",
       "<pre class=\"cython line score-0\">&#xA0;<span class=\"\">05</span>: </pre>\n",
       "<pre class=\"cython line score-0\">&#xA0;<span class=\"\">06</span>: <span class=\"k\">from</span> <span class=\"nn\">libc.math</span> <span class=\"k\">cimport</span> <span class=\"n\">pi</span></pre>\n",
       "<pre class=\"cython line score-0\">&#xA0;<span class=\"\">07</span>: <span class=\"k\">from</span> <span class=\"nn\">libc.complex</span> <span class=\"k\">cimport</span> <span class=\"n\">cabs</span><span class=\"p\">,</span> <span class=\"n\">cexp</span></pre>\n",
       "<pre class=\"cython line score-0\">&#xA0;<span class=\"\">08</span>: </pre>\n",
       "<pre class=\"cython line score-0\">&#xA0;<span class=\"\">09</span>: </pre>\n",
       "<pre class=\"cython line score-104\" onclick=\"(function(s){s.display=s.display==='block'?'none':'block'})(this.nextElementSibling.style)\">+<span class=\"\">10</span>: <span class=\"k\">def</span> <span class=\"nf\">Laue_nogil</span><span class=\"p\">(</span><span class=\"nb\">long</span><span class=\"p\">[::</span><span class=\"mf\">1</span><span class=\"p\">]</span> <span class=\"n\">n</span><span class=\"p\">,</span></pre>\n",
       "<pre class='cython code score-104 '>/* Python wrapper */\n",
       "static PyObject *__pyx_pw_54_cython_magic_8f9c39a0eb27da48561eebdd414b447c7ffc140b_1Laue_nogil(PyObject *__pyx_self, \n",
       "#if CYTHON_METH_FASTCALL\n",
       "PyObject *const *__pyx_args, Py_ssize_t __pyx_nargs, PyObject *__pyx_kwds\n",
       "#else\n",
       "PyObject *__pyx_args, PyObject *__pyx_kwds\n",
       "#endif\n",
       "); /*proto*/\n",
       "<span class='py_macro_api'>PyDoc_STRVAR</span>(__pyx_doc_54_cython_magic_8f9c39a0eb27da48561eebdd414b447c7ffc140b_Laue_nogil, \"Laue_nogil(long[::1] n, long[::1] m, double h, double k)\");\n",
       "static PyMethodDef __pyx_mdef_54_cython_magic_8f9c39a0eb27da48561eebdd414b447c7ffc140b_1Laue_nogil = {\"Laue_nogil\", (PyCFunction)(void*)(__Pyx_PyCFunction_FastCallWithKeywords)__pyx_pw_54_cython_magic_8f9c39a0eb27da48561eebdd414b447c7ffc140b_1Laue_nogil, __Pyx_METH_FASTCALL|METH_KEYWORDS, __pyx_doc_54_cython_magic_8f9c39a0eb27da48561eebdd414b447c7ffc140b_Laue_nogil};\n",
       "static PyObject *__pyx_pw_54_cython_magic_8f9c39a0eb27da48561eebdd414b447c7ffc140b_1Laue_nogil(PyObject *__pyx_self, \n",
       "#if CYTHON_METH_FASTCALL\n",
       "PyObject *const *__pyx_args, Py_ssize_t __pyx_nargs, PyObject *__pyx_kwds\n",
       "#else\n",
       "PyObject *__pyx_args, PyObject *__pyx_kwds\n",
       "#endif\n",
       ") {\n",
       "  __Pyx_memviewslice __pyx_v_n = { 0, 0, { 0 }, { 0 }, { 0 } };\n",
       "  __Pyx_memviewslice __pyx_v_m = { 0, 0, { 0 }, { 0 }, { 0 } };\n",
       "  double __pyx_v_h;\n",
       "  double __pyx_v_k;\n",
       "  #if !CYTHON_METH_FASTCALL\n",
       "  CYTHON_UNUSED const Py_ssize_t __pyx_nargs = <span class='py_macro_api'>PyTuple_GET_SIZE</span>(__pyx_args);\n",
       "  #endif\n",
       "  CYTHON_UNUSED PyObject *const *__pyx_kwvalues = <span class='pyx_c_api'>__Pyx_KwValues_FASTCALL</span>(__pyx_args, __pyx_nargs);\n",
       "  PyObject *__pyx_r = 0;\n",
       "  <span class='refnanny'>__Pyx_RefNannyDeclarations</span>\n",
       "  <span class='refnanny'>__Pyx_RefNannySetupContext</span>(\"Laue_nogil (wrapper)\", 0);\n",
       "  {\n",
       "    #if CYTHON_COMPILING_IN_LIMITED_API\n",
       "    PyObject **__pyx_pyargnames[] = {&amp;__pyx_n_s_n,&amp;__pyx_n_s_m,&amp;__pyx_n_s_h,&amp;__pyx_n_s_k,0};\n",
       "    #else\n",
       "    static PyObject **__pyx_pyargnames[] = {&amp;__pyx_n_s_n,&amp;__pyx_n_s_m,&amp;__pyx_n_s_h,&amp;__pyx_n_s_k,0};\n",
       "    #endif\n",
       "    PyObject* values[4] = {0,0,0,0};\n",
       "    if (__pyx_kwds) {\n",
       "      Py_ssize_t kw_args;\n",
       "      switch (__pyx_nargs) {\n",
       "        case  4: values[3] = <span class='pyx_c_api'>__Pyx_Arg_FASTCALL</span>(__pyx_args, 3);\n",
       "        CYTHON_FALLTHROUGH;\n",
       "        case  3: values[2] = <span class='pyx_c_api'>__Pyx_Arg_FASTCALL</span>(__pyx_args, 2);\n",
       "        CYTHON_FALLTHROUGH;\n",
       "        case  2: values[1] = <span class='pyx_c_api'>__Pyx_Arg_FASTCALL</span>(__pyx_args, 1);\n",
       "        CYTHON_FALLTHROUGH;\n",
       "        case  1: values[0] = <span class='pyx_c_api'>__Pyx_Arg_FASTCALL</span>(__pyx_args, 0);\n",
       "        CYTHON_FALLTHROUGH;\n",
       "        case  0: break;\n",
       "        default: goto __pyx_L5_argtuple_error;\n",
       "      }\n",
       "      kw_args = <span class='pyx_c_api'>__Pyx_NumKwargs_FASTCALL</span>(__pyx_kwds);\n",
       "      switch (__pyx_nargs) {\n",
       "        case  0:\n",
       "        if (likely((values[0] = <span class='pyx_c_api'>__Pyx_GetKwValue_FASTCALL</span>(__pyx_kwds, __pyx_kwvalues, __pyx_n_s_n)) != 0)) kw_args--;\n",
       "        else if (unlikely(<span class='py_c_api'>PyErr_Occurred</span>())) <span class='error_goto'>__PYX_ERR(0, 10, __pyx_L3_error)</span>\n",
       "        else goto __pyx_L5_argtuple_error;\n",
       "        CYTHON_FALLTHROUGH;\n",
       "        case  1:\n",
       "        if (likely((values[1] = <span class='pyx_c_api'>__Pyx_GetKwValue_FASTCALL</span>(__pyx_kwds, __pyx_kwvalues, __pyx_n_s_m)) != 0)) kw_args--;\n",
       "        else if (unlikely(<span class='py_c_api'>PyErr_Occurred</span>())) <span class='error_goto'>__PYX_ERR(0, 10, __pyx_L3_error)</span>\n",
       "        else {\n",
       "          <span class='pyx_c_api'>__Pyx_RaiseArgtupleInvalid</span>(\"Laue_nogil\", 1, 4, 4, 1); <span class='error_goto'>__PYX_ERR(0, 10, __pyx_L3_error)</span>\n",
       "        }\n",
       "        CYTHON_FALLTHROUGH;\n",
       "        case  2:\n",
       "        if (likely((values[2] = <span class='pyx_c_api'>__Pyx_GetKwValue_FASTCALL</span>(__pyx_kwds, __pyx_kwvalues, __pyx_n_s_h)) != 0)) kw_args--;\n",
       "        else if (unlikely(<span class='py_c_api'>PyErr_Occurred</span>())) <span class='error_goto'>__PYX_ERR(0, 10, __pyx_L3_error)</span>\n",
       "        else {\n",
       "          <span class='pyx_c_api'>__Pyx_RaiseArgtupleInvalid</span>(\"Laue_nogil\", 1, 4, 4, 2); <span class='error_goto'>__PYX_ERR(0, 10, __pyx_L3_error)</span>\n",
       "        }\n",
       "        CYTHON_FALLTHROUGH;\n",
       "        case  3:\n",
       "        if (likely((values[3] = <span class='pyx_c_api'>__Pyx_GetKwValue_FASTCALL</span>(__pyx_kwds, __pyx_kwvalues, __pyx_n_s_k)) != 0)) kw_args--;\n",
       "        else if (unlikely(<span class='py_c_api'>PyErr_Occurred</span>())) <span class='error_goto'>__PYX_ERR(0, 10, __pyx_L3_error)</span>\n",
       "        else {\n",
       "          <span class='pyx_c_api'>__Pyx_RaiseArgtupleInvalid</span>(\"Laue_nogil\", 1, 4, 4, 3); <span class='error_goto'>__PYX_ERR(0, 10, __pyx_L3_error)</span>\n",
       "        }\n",
       "      }\n",
       "      if (unlikely(kw_args &gt; 0)) {\n",
       "        const Py_ssize_t kwd_pos_args = __pyx_nargs;\n",
       "        if (unlikely(<span class='pyx_c_api'>__Pyx_ParseOptionalKeywords</span>(__pyx_kwds, __pyx_kwvalues, __pyx_pyargnames, 0, values + 0, kwd_pos_args, \"Laue_nogil\") &lt; 0)) <span class='error_goto'>__PYX_ERR(0, 10, __pyx_L3_error)</span>\n",
       "      }\n",
       "    } else if (unlikely(__pyx_nargs != 4)) {\n",
       "      goto __pyx_L5_argtuple_error;\n",
       "    } else {\n",
       "      values[0] = <span class='pyx_c_api'>__Pyx_Arg_FASTCALL</span>(__pyx_args, 0);\n",
       "      values[1] = <span class='pyx_c_api'>__Pyx_Arg_FASTCALL</span>(__pyx_args, 1);\n",
       "      values[2] = <span class='pyx_c_api'>__Pyx_Arg_FASTCALL</span>(__pyx_args, 2);\n",
       "      values[3] = <span class='pyx_c_api'>__Pyx_Arg_FASTCALL</span>(__pyx_args, 3);\n",
       "    }\n",
       "    __pyx_v_n = <span class='pyx_c_api'>__Pyx_PyObject_to_MemoryviewSlice_dc_long</span>(values[0], PyBUF_WRITABLE);<span class='error_goto'> if (unlikely(!__pyx_v_n.memview)) __PYX_ERR(0, 10, __pyx_L3_error)</span>\n",
       "    __pyx_v_m = <span class='pyx_c_api'>__Pyx_PyObject_to_MemoryviewSlice_dc_long</span>(values[1], PyBUF_WRITABLE);<span class='error_goto'> if (unlikely(!__pyx_v_m.memview)) __PYX_ERR(0, 11, __pyx_L3_error)</span>\n",
       "    __pyx_v_h = __pyx_<span class='py_c_api'>PyFloat_AsDouble</span>(values[2]); if (unlikely((__pyx_v_h == (double)-1) &amp;&amp; <span class='py_c_api'>PyErr_Occurred</span>())) <span class='error_goto'>__PYX_ERR(0, 12, __pyx_L3_error)</span>\n",
       "    __pyx_v_k = __pyx_<span class='py_c_api'>PyFloat_AsDouble</span>(values[3]); if (unlikely((__pyx_v_k == (double)-1) &amp;&amp; <span class='py_c_api'>PyErr_Occurred</span>())) <span class='error_goto'>__PYX_ERR(0, 13, __pyx_L3_error)</span>\n",
       "  }\n",
       "  goto __pyx_L4_argument_unpacking_done;\n",
       "  __pyx_L5_argtuple_error:;\n",
       "  <span class='pyx_c_api'>__Pyx_RaiseArgtupleInvalid</span>(\"Laue_nogil\", 1, 4, 4, __pyx_nargs); <span class='error_goto'>__PYX_ERR(0, 10, __pyx_L3_error)</span>\n",
       "  __pyx_L3_error:;\n",
       "  <span class='pyx_c_api'>__Pyx_AddTraceback</span>(\"_cython_magic_8f9c39a0eb27da48561eebdd414b447c7ffc140b.Laue_nogil\", __pyx_clineno, __pyx_lineno, __pyx_filename);\n",
       "  <span class='refnanny'>__Pyx_RefNannyFinishContext</span>();\n",
       "  return NULL;\n",
       "  __pyx_L4_argument_unpacking_done:;\n",
       "  __pyx_r = __pyx_pf_54_cython_magic_8f9c39a0eb27da48561eebdd414b447c7ffc140b_Laue_nogil(__pyx_self, __pyx_v_n, __pyx_v_m, __pyx_v_h, __pyx_v_k);\n",
       "  int __pyx_lineno = 0;\n",
       "  const char *__pyx_filename = NULL;\n",
       "  int __pyx_clineno = 0;\n",
       "\n",
       "  /* function exit code */\n",
       "  <span class='refnanny'>__Pyx_RefNannyFinishContext</span>();\n",
       "  return __pyx_r;\n",
       "}\n",
       "\n",
       "static PyObject *__pyx_pf_54_cython_magic_8f9c39a0eb27da48561eebdd414b447c7ffc140b_Laue_nogil(CYTHON_UNUSED PyObject *__pyx_self, __Pyx_memviewslice __pyx_v_n, __Pyx_memviewslice __pyx_v_m, double __pyx_v_h, double __pyx_v_k) {\n",
       "  double __pyx_v_result;\n",
       "  __pyx_t_double_complex __pyx_v_tmp;\n",
       "  __pyx_t_double_complex __pyx_v_two_j_pi;\n",
       "  int __pyx_v_i_m;\n",
       "  int __pyx_v_i_n;\n",
       "  int __pyx_v_n_size;\n",
       "  int __pyx_v_m_size;\n",
       "  PyObject *__pyx_r = NULL;\n",
       "  <span class='refnanny'>__Pyx_RefNannyDeclarations</span>\n",
       "  <span class='refnanny'>__Pyx_RefNannySetupContext</span>(\"Laue_nogil\", 0);\n",
       "/* … */\n",
       "  /* function exit code */\n",
       "  __pyx_L1_error:;\n",
       "  <span class='pyx_macro_api'>__Pyx_XDECREF</span>(__pyx_t_9);\n",
       "  <span class='pyx_c_api'>__Pyx_AddTraceback</span>(\"_cython_magic_8f9c39a0eb27da48561eebdd414b447c7ffc140b.Laue_nogil\", __pyx_clineno, __pyx_lineno, __pyx_filename);\n",
       "  __pyx_r = NULL;\n",
       "  __pyx_L0:;\n",
       "  __PYX_XCLEAR_MEMVIEW(&amp;__pyx_v_n, 1);\n",
       "  __PYX_XCLEAR_MEMVIEW(&amp;__pyx_v_m, 1);\n",
       "  <span class='refnanny'>__Pyx_XGIVEREF</span>(__pyx_r);\n",
       "  <span class='refnanny'>__Pyx_RefNannyFinishContext</span>();\n",
       "  return __pyx_r;\n",
       "}\n",
       "/* … */\n",
       "  __pyx_tuple__8 = <span class='py_c_api'>PyTuple_Pack</span>(11, __pyx_n_s_n, __pyx_n_s_m, __pyx_n_s_h, __pyx_n_s_k, __pyx_n_s_result, __pyx_n_s_tmp, __pyx_n_s_two_j_pi, __pyx_n_s_i_m, __pyx_n_s_i_n, __pyx_n_s_n_size, __pyx_n_s_m_size);<span class='error_goto'> if (unlikely(!__pyx_tuple__8)) __PYX_ERR(0, 10, __pyx_L1_error)</span>\n",
       "  <span class='refnanny'>__Pyx_GOTREF</span>(__pyx_tuple__8);\n",
       "  <span class='refnanny'>__Pyx_GIVEREF</span>(__pyx_tuple__8);\n",
       "/* … */\n",
       "  __pyx_t_1 = <span class='pyx_c_api'>__Pyx_CyFunction_New</span>(&amp;__pyx_mdef_54_cython_magic_8f9c39a0eb27da48561eebdd414b447c7ffc140b_1Laue_nogil, 0, __pyx_n_s_Laue_nogil, NULL, __pyx_n_s_cython_magic_8f9c39a0eb27da4856, __pyx_d, ((PyObject *)__pyx_codeobj__9));<span class='error_goto'> if (unlikely(!__pyx_t_1)) __PYX_ERR(0, 10, __pyx_L1_error)</span>\n",
       "  <span class='refnanny'>__Pyx_GOTREF</span>(__pyx_t_1);\n",
       "  if (<span class='py_c_api'>PyDict_SetItem</span>(__pyx_d, __pyx_n_s_Laue_nogil, __pyx_t_1) &lt; 0) <span class='error_goto'>__PYX_ERR(0, 10, __pyx_L1_error)</span>\n",
       "  <span class='pyx_macro_api'>__Pyx_DECREF</span>(__pyx_t_1); __pyx_t_1 = 0;\n",
       "  __pyx_codeobj__9 = (PyObject*)<span class='pyx_c_api'>__Pyx_PyCode_New</span>(4, 0, 0, 11, 0, CO_OPTIMIZED|CO_NEWLOCALS, __pyx_empty_bytes, __pyx_empty_tuple, __pyx_empty_tuple, __pyx_tuple__8, __pyx_empty_tuple, __pyx_empty_tuple, __pyx_kp_s_users_kieffer_cache_ipython_cyt, __pyx_n_s_Laue_nogil, 10, __pyx_empty_bytes);<span class='error_goto'> if (unlikely(!__pyx_codeobj__9)) __PYX_ERR(0, 10, __pyx_L1_error)</span>\n",
       "</pre><pre class=\"cython line score-0\">&#xA0;<span class=\"\">11</span>:                <span class=\"nb\">long</span><span class=\"p\">[::</span><span class=\"mf\">1</span><span class=\"p\">]</span> <span class=\"n\">m</span><span class=\"p\">,</span></pre>\n",
       "<pre class=\"cython line score-0\">&#xA0;<span class=\"\">12</span>:                <span class=\"n\">double</span> <span class=\"n\">h</span><span class=\"p\">,</span></pre>\n",
       "<pre class=\"cython line score-0\">&#xA0;<span class=\"\">13</span>:                <span class=\"n\">double</span> <span class=\"n\">k</span><span class=\"p\">):</span></pre>\n",
       "<pre class=\"cython line score-0\">&#xA0;<span class=\"\">14</span>:     <span class=\"k\">cdef</span><span class=\"p\">:</span></pre>\n",
       "<pre class=\"cython line score-0\">&#xA0;<span class=\"\">15</span>:         <span class=\"n\">double</span> <span class=\"n\">result</span></pre>\n",
       "<pre class=\"cython line score-0\">&#xA0;<span class=\"\">16</span>:         <span class=\"n\">double</span> <span class=\"nb\">complex</span> <span class=\"n\">tmp</span><span class=\"p\">,</span> <span class=\"n\">two_j_pi</span></pre>\n",
       "<pre class=\"cython line score-0\">&#xA0;<span class=\"\">17</span>:         <span class=\"nb\">int</span> <span class=\"n\">i_m</span><span class=\"p\">,</span> <span class=\"n\">i_n</span><span class=\"p\">,</span> <span class=\"n\">n_size</span><span class=\"p\">,</span> <span class=\"n\">m_size</span></pre>\n",
       "<pre class=\"cython line score-0\">&#xA0;<span class=\"\">18</span>: </pre>\n",
       "<pre class=\"cython line score-0\">&#xA0;<span class=\"\">19</span>: </pre>\n",
       "<pre class=\"cython line score-0\" onclick=\"(function(s){s.display=s.display==='block'?'none':'block'})(this.nextElementSibling.style)\">+<span class=\"\">20</span>:     <span class=\"n\">n_size</span> <span class=\"o\">=</span> <span class=\"n\">n</span><span class=\"o\">.</span><span class=\"n\">shape</span><span class=\"p\">[</span><span class=\"mf\">0</span><span class=\"p\">]</span></pre>\n",
       "<pre class='cython code score-0 '>  __pyx_v_n_size = (__pyx_v_n.shape[0]);\n",
       "</pre><pre class=\"cython line score-0\" onclick=\"(function(s){s.display=s.display==='block'?'none':'block'})(this.nextElementSibling.style)\">+<span class=\"\">21</span>:     <span class=\"n\">m_size</span> <span class=\"o\">=</span> <span class=\"n\">m</span><span class=\"o\">.</span><span class=\"n\">shape</span><span class=\"p\">[</span><span class=\"mf\">0</span><span class=\"p\">]</span></pre>\n",
       "<pre class='cython code score-0 '>  __pyx_v_m_size = (__pyx_v_m.shape[0]);\n",
       "</pre><pre class=\"cython line score-4\" onclick=\"(function(s){s.display=s.display==='block'?'none':'block'})(this.nextElementSibling.style)\">+<span class=\"\">22</span>:     <span class=\"k\">with</span> <span class=\"k\">nogil</span><span class=\"p\">:</span></pre>\n",
       "<pre class='cython code score-4 '>  {\n",
       "      #ifdef WITH_THREAD\n",
       "      PyThreadState *_save;\n",
       "      Py_UNBLOCK_THREADS\n",
       "      <span class='pyx_c_api'>__Pyx_FastGIL_Remember</span>();\n",
       "      #endif\n",
       "      /*try:*/ {\n",
       "/* … */\n",
       "      /*finally:*/ {\n",
       "        /*normal exit:*/{\n",
       "          #ifdef WITH_THREAD\n",
       "          <span class='pyx_c_api'>__Pyx_FastGIL_Forget</span>();\n",
       "          Py_BLOCK_THREADS\n",
       "          #endif\n",
       "          goto __pyx_L5;\n",
       "        }\n",
       "        __pyx_L5:;\n",
       "      }\n",
       "  }\n",
       "</pre><pre class=\"cython line score-0\" onclick=\"(function(s){s.display=s.display==='block'?'none':'block'})(this.nextElementSibling.style)\">+<span class=\"\">23</span>:         <span class=\"n\">two_j_pi</span> <span class=\"o\">=</span> <span class=\"n\">pi</span><span class=\"o\">*</span><span class=\"mf\">2</span><span class=\"n\">j</span></pre>\n",
       "<pre class='cython code score-0 '>        __pyx_v_two_j_pi = __Pyx_c_prod_double(__pyx_t_double_complex_from_parts(M_PI, 0), __pyx_t_double_complex_from_parts(0, 2.0));\n",
       "</pre><pre class=\"cython line score-0\" onclick=\"(function(s){s.display=s.display==='block'?'none':'block'})(this.nextElementSibling.style)\">+<span class=\"\">24</span>:         <span class=\"n\">tmp</span> <span class=\"o\">=</span> <span class=\"mf\">0.0</span></pre>\n",
       "<pre class='cython code score-0 '>        __pyx_v_tmp = __pyx_t_double_complex_from_parts(0.0, 0);\n",
       "</pre><pre class=\"cython line score-0\" onclick=\"(function(s){s.display=s.display==='block'?'none':'block'})(this.nextElementSibling.style)\">+<span class=\"\">25</span>:         <span class=\"k\">for</span> <span class=\"n\">i_n</span> <span class=\"ow\">in</span> <span class=\"nb\">range</span><span class=\"p\">(</span><span class=\"n\">n_size</span><span class=\"p\">):</span>  <span class=\"c\"># loop and sum over unit-cells</span></pre>\n",
       "<pre class='cython code score-0 '>        __pyx_t_1 = __pyx_v_n_size;\n",
       "        __pyx_t_2 = __pyx_t_1;\n",
       "        for (__pyx_t_3 = 0; __pyx_t_3 &lt; __pyx_t_2; __pyx_t_3+=1) {\n",
       "          __pyx_v_i_n = __pyx_t_3;\n",
       "</pre><pre class=\"cython line score-0\" onclick=\"(function(s){s.display=s.display==='block'?'none':'block'})(this.nextElementSibling.style)\">+<span class=\"\">26</span>:             <span class=\"k\">for</span> <span class=\"n\">i_m</span> <span class=\"ow\">in</span> <span class=\"nb\">range</span><span class=\"p\">(</span><span class=\"n\">m_size</span><span class=\"p\">):</span></pre>\n",
       "<pre class='cython code score-0 '>          __pyx_t_4 = __pyx_v_m_size;\n",
       "          __pyx_t_5 = __pyx_t_4;\n",
       "          for (__pyx_t_6 = 0; __pyx_t_6 &lt; __pyx_t_5; __pyx_t_6+=1) {\n",
       "            __pyx_v_i_m = __pyx_t_6;\n",
       "</pre><pre class=\"cython line score-0\" onclick=\"(function(s){s.display=s.display==='block'?'none':'block'})(this.nextElementSibling.style)\">+<span class=\"\">27</span>:                 <span class=\"n\">tmp</span> <span class=\"o\">+=</span> <span class=\"n\">cexp</span><span class=\"p\">(</span><span class=\"n\">two_j_pi</span><span class=\"o\">*</span><span class=\"p\">(</span><span class=\"n\">h</span><span class=\"o\">*</span><span class=\"n\">n</span><span class=\"p\">[</span><span class=\"n\">i_n</span><span class=\"p\">]</span> <span class=\"o\">+</span> <span class=\"n\">k</span><span class=\"o\">*</span><span class=\"n\">m</span><span class=\"p\">[</span><span class=\"n\">i_m</span><span class=\"p\">]))</span></pre>\n",
       "<pre class='cython code score-0 '>            __pyx_t_7 = __pyx_v_i_n;\n",
       "            __pyx_t_8 = __pyx_v_i_m;\n",
       "            __pyx_v_tmp = __Pyx_c_sum_double(__pyx_v_tmp, cexp(__Pyx_c_prod_double(__pyx_v_two_j_pi, __pyx_t_double_complex_from_parts(((__pyx_v_h * (*((long *) ( /* dim=0 */ ((char *) (((long *) __pyx_v_n.data) + __pyx_t_7)) )))) + (__pyx_v_k * (*((long *) ( /* dim=0 */ ((char *) (((long *) __pyx_v_m.data) + __pyx_t_8)) ))))), 0))));\n",
       "          }\n",
       "        }\n",
       "</pre><pre class=\"cython line score-0\" onclick=\"(function(s){s.display=s.display==='block'?'none':'block'})(this.nextElementSibling.style)\">+<span class=\"\">28</span>:         <span class=\"n\">result</span> <span class=\"o\">=</span> <span class=\"n\">cabs</span><span class=\"p\">(</span><span class=\"n\">tmp</span><span class=\"p\">)</span><span class=\"o\">**</span><span class=\"mf\">2</span></pre>\n",
       "<pre class='cython code score-0 '>        __pyx_v_result = pow(cabs(__pyx_v_tmp), 2.0);\n",
       "      }\n",
       "</pre><pre class=\"cython line score-6\" onclick=\"(function(s){s.display=s.display==='block'?'none':'block'})(this.nextElementSibling.style)\">+<span class=\"\">29</span>:     <span class=\"k\">return</span> <span class=\"n\">result</span></pre>\n",
       "<pre class='cython code score-6 '>  <span class='pyx_macro_api'>__Pyx_XDECREF</span>(__pyx_r);\n",
       "  __pyx_t_9 = <span class='py_c_api'>PyFloat_FromDouble</span>(__pyx_v_result);<span class='error_goto'> if (unlikely(!__pyx_t_9)) __PYX_ERR(0, 29, __pyx_L1_error)</span>\n",
       "  <span class='refnanny'>__Pyx_GOTREF</span>(__pyx_t_9);\n",
       "  __pyx_r = __pyx_t_9;\n",
       "  __pyx_t_9 = 0;\n",
       "  goto __pyx_L0;\n",
       "</pre></div></body></html>"
      ],
      "text/plain": [
       "<IPython.core.display.HTML object>"
      ]
     },
     "execution_count": 46,
     "metadata": {},
     "output_type": "execute_result"
    }
   ],
   "source": [
    "%%cython -a\n",
    "#cython: embedsignature=True, language_level=3, binding=True\n",
    "#cython: boundscheck=False, wraparound=False, cdivision=True, initializedcheck=False,\n",
    "## This is for developping:\n",
    "## cython: profile=True, warn.undeclared=True, warn.unused=True, warn.unused_result=False, warn.unused_arg=True\n",
    "\n",
    "from libc.math cimport pi\n",
    "from libc.complex cimport cabs, cexp\n",
    "\n",
    "    \n",
    "def Laue_nogil(long[::1] n, \n",
    "               long[::1] m, \n",
    "               double h, \n",
    "               double k):\n",
    "    cdef:\n",
    "        double result\n",
    "        double complex tmp, two_j_pi\n",
    "        int i_m, i_n, n_size, m_size\n",
    "        \n",
    "    \n",
    "    n_size = n.shape[0]\n",
    "    m_size = m.shape[0]\n",
    "    with nogil:\n",
    "        two_j_pi = pi*2j    \n",
    "        tmp = 0.0\n",
    "        for i_n in range(n_size):  # loop and sum over unit-cells\n",
    "            for i_m in range(m_size):\n",
    "                tmp += cexp(two_j_pi*(h*n[i_n] + k*m[i_m]))\n",
    "        result = cabs(tmp)**2\n",
    "    return result"
   ]
  },
  {
   "cell_type": "code",
   "execution_count": 47,
   "metadata": {
    "slideshow": {
     "slide_type": "subslide"
    }
   },
   "outputs": [
    {
     "name": "stdout",
     "output_type": "stream",
     "text": [
      "CPU times: user 512 ms, sys: 0 ns, total: 512 ms\n",
      "Wall time: 81.6 ms\n",
      "Error: 4.218847493575595e-15\n",
      "46.1 ms ± 6.69 ms per loop (mean ± std. dev. of 7 runs, 10 loops each)\n"
     ]
    }
   ],
   "source": [
    "def Laue_pool(n, m, h, k):\n",
    "    def local_Laue(i, j):\n",
    "        return Laue_nogil(n, m, i, j)\n",
    "    with ThreadPool(n_cpu) as pool:\n",
    "        res = pool.starmap(local_Laue, product(h, k))\n",
    "    return np.array(res).reshape(h.size, k.size)\n",
    "\n",
    "#Compute and check error\n",
    "%time intensity = Laue_pool(n, m, h, k)\n",
    "print(\"Error:\", validate_sq(intensity))\n",
    "perf_sq_pool = %timeit -o Laue_cython(n, m, h, k) "
   ]
  },
  {
   "cell_type": "markdown",
   "metadata": {
    "slideshow": {
     "slide_type": "slide"
    }
   },
   "source": [
    "## Other players in the game of optimizing Python code ...\n",
    "\n",
    "This tutorial demonstrated 4 ways of optimizing:\n",
    "* Vectorization with `NumPy`\n",
    "* Numerical kernel evaluation with `NumExpr`\n",
    "* Just In Time (JIT)-compilation with `Numba`\n",
    "* Ahead Of Time (AOT)-compilation with `Cython`\n",
    "\n",
    "There are several other ways to optimize code:\n",
    "* `Pythran` which is a Python to C++ compiler (with parallel and SIMD vectorization)\n",
    "* `Transonic` which is a wrapper over the different methods exposed here\n",
    "* Write Fortran code and bind it with `F2py`\n",
    "* Write C++ code and bind it with Cython, Boost, pybind11, ...\n",
    "* Write C code and bind it with Cython, ctypes, swig, ...\n",
    "\n",
    "Last but not least, the best way to optimize the code is to use the proper algorithm. \n",
    "In this example, the diffraction of the square crystal can be calculated using a FFT."
   ]
  },
  {
   "cell_type": "markdown",
   "metadata": {
    "slideshow": {
     "slide_type": "subslide"
    }
   },
   "source": [
    "### Use the right algorithm\n",
    "The best way to optimize the code is to use the proper algorithm. In this example, the diffraction of the square crystal can be calculated using a FFT:"
   ]
  },
  {
   "cell_type": "code",
   "execution_count": 48,
   "metadata": {
    "slideshow": {
     "slide_type": "fragment"
    }
   },
   "outputs": [],
   "source": [
    "def Laue_fft(N, h, k):\n",
    "    support = np.zeros([h.size,k.size]) #create a support function padded with 0s\n",
    "    support[0:N, 0:N]=1 #the first N values\n",
    "    return np.fft.fftshift(abs(np.fft.fft2(support))**2)\n",
    "\n",
    "%time intensity = Laue_fft(N, h, k)\n",
    "print(\"Error:\", validate_sq(intensity))\n",
    "perf_sq_fft = %timeit -o Laue_fft(N, h, k)"
   ]
  },
  {
   "cell_type": "markdown",
   "metadata": {
    "slideshow": {
     "slide_type": "fragment"
    }
   },
   "source": [
    "Unfortunately, the `FFT` approach does not work for strained crystals."
   ]
  },
  {
   "cell_type": "markdown",
   "metadata": {
    "slideshow": {
     "slide_type": "slide"
    }
   },
   "source": [
    "## Conclusions\n",
    "\n",
    "Within the Python ecosystem, the `NumPy` library is the *de facto* standard when it comes to scientific\n",
    "computing. As long as the algorithms are properly vectorized and the memory is large enough to store\n",
    "the arrays, it allows to reach high computational performances while keeping a clean and simple code,\n",
    "close to mathematical notation. Used in combination with the `NumExpr` library, simple `NumPy` code\n",
    "can benefit from multi-core CPUs as well as optimized memory management, with very little code\n",
    "modification.\n",
    "\n",
    "In the case where it is not possible to vectorize the algorithms, or when increased performances are\n",
    "critical, one must make use of compilers that translate Python code into statically-typed code that also\n",
    "provide an improved support of multi-core architectures. We have shown that `Numba` and `Cython` in\n",
    "general exhibit very close performances and, given the heavier syntax of `Cython`, `Numba` is easier to\n",
    "implement. `Cython`, on the other hand, allows to access more advanced options regarding thread and\n",
    "memory management.\n",
    "\n",
    "### Summary of the execution runtime"
   ]
  },
  {
   "cell_type": "code",
   "execution_count": 49,
   "metadata": {
    "slideshow": {
     "slide_type": "subslide"
    }
   },
   "outputs": [
    {
     "name": "stdout",
     "output_type": "stream",
     "text": [
      "Runtime   Square (ms)  Speed-up (x)\n",
      "Python    4761.6 ms    0.070x\n",
      "Numpy      332.5 ms    1.000x\n",
      "NumExpr     75.1 ms    4.427x\n",
      "Numba       51.6 ms    6.447x\n",
      "Cython      42.3 ms    7.858x\n",
      "Pool        42.2 ms    7.873x\n",
      "FFT          0.3 ms   1151.4x\n"
     ]
    }
   ],
   "source": [
    "print(\"Runtime   Square (ms)  Speed-up (x)\")\n",
    "ref = perf_sq_numpy.best\n",
    "print(f\"Python    {1000*perf_sq_python.best:6.1f} ms   {ref/perf_sq_python.best:6.3f}x\")\n",
    "print(f\"Numpy     {1000*perf_sq_numpy.best:6.1f} ms   {ref/perf_sq_numpy.best:6.3f}x\")\n",
    "print(f\"NumExpr   {1000*perf_sq_numexpr.best:6.1f} ms   {ref/perf_sq_numexpr.best:6.3f}x\")\n",
    "print(f\"Numba     {1000*perf_sq_numba.best:6.1f} ms   {ref/perf_sq_numba.best:6.3f}x\")\n",
    "print(f\"Cython    {1000*perf_sq_cython.best:6.1f} ms   {ref/perf_sq_cython.best:6.3f}x\")\n",
    "print(f\"Pool      {1000*perf_sq_pool.best:6.1f} ms   {ref/perf_sq_pool.best:6.3f}x\")\n",
    "print(f\"FFT       {1000*perf_sq_fft.best:6.1f} ms   {ref/perf_sq_fft.best:6.1f}x\")"
   ]
  },
  {
   "cell_type": "code",
   "execution_count": 50,
   "metadata": {
    "slideshow": {
     "slide_type": "subslide"
    }
   },
   "outputs": [
    {
     "name": "stdout",
     "output_type": "stream",
     "text": [
      "Runtime    Circle (ms)  Speed-up (x)\n",
      "Python    4975.9 ms   0.078x\n",
      "Numpy      389.7 ms   1.000x\n",
      "NumExpr     85.6 ms   4.552x\n",
      "Numba       91.9 ms   4.241x\n",
      "Cython      72.1 ms   5.404x\n"
     ]
    }
   ],
   "source": [
    "print(\"Runtime    Circle (ms)  Speed-up (x)\")\n",
    "ref = perf_ci_numpy.best\n",
    "print(f\"Python  {1000*perf_ci_python.best:8.1f} ms  {ref/perf_ci_python.best:6.3f}x\")\n",
    "print(f\"Numpy   {1000*perf_ci_numpy.best:8.1f} ms  {ref/perf_ci_numpy.best:6.3f}x\")\n",
    "print(f\"NumExpr {1000*perf_ci_numexpr.best:8.1f} ms  {ref/perf_ci_numexpr.best:6.3f}x\")\n",
    "print(f\"Numba   {1000*perf_ci_numba.best:8.1f} ms  {ref/perf_ci_numba.best:6.3f}x\")\n",
    "print(f\"Cython  {1000*perf_ci_cython.best:8.1f} ms  {ref/perf_ci_cython.best:6.3f}x\")\n",
    "# print(f\"Pool    {1000*perf_sq_pool.best:8.1f} ms  {np.NaN:6.3f}x\")"
   ]
  }
 ],
 "metadata": {
  "celltoolbar": "Slideshow",
  "kernelspec": {
   "display_name": "Python3.8 (venv)",
   "language": "python",
   "name": "py38-venv"
  },
  "language_info": {
   "codemirror_mode": {
    "name": "ipython",
    "version": 3
   },
   "file_extension": ".py",
   "mimetype": "text/x-python",
   "name": "python",
   "nbconvert_exporter": "python",
   "pygments_lexer": "ipython3",
   "version": "3.8.0"
  }
 },
 "nbformat": 4,
 "nbformat_minor": 5
}
