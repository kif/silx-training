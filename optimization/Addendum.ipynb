{
 "cells": [
  {
   "cell_type": "markdown",
   "id": "76f6219e",
   "metadata": {
    "slideshow": {
     "slide_type": "slide"
    }
   },
   "source": [
    "# Summary of first half-day:\n",
    "\n",
    "* Various types of profiler: `time`, `timeit`, `prun`, `lprun`, `memit`\n",
    "* Loops style coding in `Python`\n",
    "* Vectorized coding with `NumPy`\n",
    "* Introduction to the `GIL` and the impossibility to have efficient threads in Python\n",
    "* Multiprocessing and the communication issue"
   ]
  },
  {
   "cell_type": "markdown",
   "id": "8bc9bfe7",
   "metadata": {
    "slideshow": {
     "slide_type": "slide"
    }
   },
   "source": [
    "# Addendum\n",
    "\n",
    "* Hybrid approaches: Mix loops for the reciprocal space map and `numpy.sum`\n",
    "  Lowers the memory consumption\n",
    "* Einsum version with `NumPy`\n",
    "* Multiprocessing with shared memory\n"
   ]
  },
  {
   "cell_type": "code",
   "execution_count": null,
   "id": "36b3c390",
   "metadata": {},
   "outputs": [],
   "source": [
    "# Reload necessary packages, magics, functions and variables\n",
    "%matplotlib inline \n",
    "%load_ext memory_profiler\n",
    "%load_ext line_profiler\n",
    "\n",
    "import os\n",
    "import math\n",
    "import cmath\n",
    "import numpy as np\n",
    "from matplotlib.pyplot import subplots\n",
    "from matplotlib.colors import LogNorm\n",
    "\n",
    "# Number of cores to use\n",
    "if hasattr(os, 'sched_getaffinity'):  # Some Unix only\n",
    "    # Get the number of cores the Python process has access to\n",
    "    # This provides the number of cores requested in SLURM\n",
    "    n_cpu = len(os.sched_getaffinity(0))\n",
    "else:\n",
    "    n_cpu = os.cpu_count()\n",
    "n_cpu = min(4, n_cpu)\n",
    "\n",
    "\n",
    "# Validation functions\n",
    "\n",
    "def validate_sq(result):\n",
    "    \"Return the error value\"\n",
    "    reference = np.load(\"reference_sq.npy\")\n",
    "    return abs(reference-result).max()/reference.max()\n",
    "\n",
    "def validate_ci(result):\n",
    "    \"Return the error value (for exercises)\"\n",
    "    reference = np.load(\"reference_ci.npy\")\n",
    "    return abs(np.array(reference)-result).max()/reference.max()\n",
    "\n",
    "def display(result):\n",
    "    \"Display the array\"\n",
    "    fig, ax = subplots()\n",
    "    fig.suptitle(\"Bragg peak\")\n",
    "    ax.imshow(result.T, extent=(h.min(), h.max(), k.min(), k.max()), norm=LogNorm(), origin = 'lower')\n",
    "    ax.set_xlabel('H');ax.set_ylabel('K')\n",
    "    ax.set_title(f\"Crystal {N}x{N}\")\n",
    "\n",
    "    \n",
    "# Constants\n",
    "# Miller index of reflection\n",
    "H = 0 \n",
    "# Miller index of reflection\n",
    "K = 4 \n",
    "# Number of unit cells per direction\n",
    "N = 32 \n",
    "# Defines how many points are needed to describe a single Laue fringe (2 = Nyquist frequency)\n",
    "oversampling = 3\n",
    "\n",
    "# Radius of the crystal\n",
    "R = N/2\n",
    "\n",
    "# Maximum strain at surface\n",
    "e0 = 0.01 \n",
    "# Width of the strain profile below the surface\n",
    "w = 5.\n",
    "\n",
    "# Generate real and reciprocal space coordinates\n",
    "n = np.arange(N)\n",
    "m = np.arange(N)\n",
    "h = np.arange(H-0.5, H+0.5, 1./(oversampling*N))\n",
    "k = np.arange(K-0.5, K+0.5, 1./(oversampling*N))"
   ]
  },
  {
   "cell_type": "code",
   "execution_count": null,
   "id": "60f1292c",
   "metadata": {
    "slideshow": {
     "slide_type": "slide"
    }
   },
   "outputs": [],
   "source": [
    "# Hybrid method: mix loops with numpy.sum:\n",
    "import itertools\n",
    "\n",
    "def laue_hybrid(N, h, k):\n",
    "    n = np.atleast_2d(np.arange(N))\n",
    "    m = n.T\n",
    "    result = np.zeros((h.size, k.size))\n",
    "    for i_h, v_h in enumerate(h): #loop over the reciprocal space coordinates\n",
    "        for i_k, v_k in enumerate(k):\n",
    "            tmp = np.exp(2j*np.pi*(v_h*n + v_k*m)).sum()\n",
    "            result[i_h, i_k] = abs(tmp)**2\n",
    "    return result\n",
    "\n",
    "# Compute and check error\n",
    "%time intensity = laue_hybrid(N, h, k)\n",
    "print(\"Error:\", validate_sq(intensity))\n",
    "display(intensity)\n",
    "perf_sq_hybrid = %timeit -o laue_hybrid(N, h, k)\n",
    "%memit laue_hybrid(N, h, k)"
   ]
  },
  {
   "cell_type": "code",
   "execution_count": null,
   "id": "bef25d43",
   "metadata": {
    "slideshow": {
     "slide_type": "slide"
    }
   },
   "outputs": [],
   "source": [
    "# Using Einstein's summation: https://ajcr.net/Basic-guide-to-einsum/\n",
    "\n",
    "def laue_einsum(N, h, k):\n",
    "    n = np.arange(N)\n",
    "    m = n\n",
    "    Fhn = np.exp(2j * np.pi * np.outer(h , n))\n",
    "    Fkm = np.exp(2j * np.pi * np.outer(k , m))\n",
    "    F = np.einsum('hn,km->hk', Fhn, Fkm )\n",
    "    return np.abs(F)**2\n",
    "\n",
    "%time intensity = laue_einsum(N, h, k)\n",
    "print(\"Error:\", validate_sq(intensity))\n",
    "display(intensity)\n",
    "perf_sq_einsum = %timeit -o laue_einsum(N, h, k)\n",
    "%memit laue_einsum(N, h, k)               "
   ]
  },
  {
   "cell_type": "code",
   "execution_count": null,
   "id": "5be17979",
   "metadata": {
    "slideshow": {
     "slide_type": "slide"
    }
   },
   "outputs": [],
   "source": [
    "# Using shared memory ...\n",
    "from multiprocessing.pool import ThreadPool\n",
    "from multiprocessing import shared_memory\n",
    "from itertools import product\n",
    "\n",
    "def laue_mps(N, h, k):\n",
    "    result = np.zeros((h.size, k.size))\n",
    "    shm = shared_memory.SharedMemory(create=True, size=result.nbytes)\n",
    "    shared_result = np.ndarray(result.shape, dtype=result.dtype, buffer=shm.buf)\n",
    "    def laue_sp(N, i, h, j, k, res):\n",
    "        n = np.arange(N).reshape(-1, 1)\n",
    "        m = np.arange(N).reshape(1, -1)\n",
    "        res[i,j] = np.abs(np.exp(2j*np.pi*(h*n + k*m)).sum())**2\n",
    "    with ThreadPool(n_cpu) as pool:\n",
    "        tmp = pool.starmap(laue_sp, ( (N,)+i[0]+i[1]+(shared_result,) for i in product(enumerate(h), enumerate(k))))\n",
    "    result[:] = shared_result[:] #copy the result from the shared memory\n",
    "    shm.close()\n",
    "    shm.unlink\n",
    "    return result\n",
    "\n",
    "%time intensity = laue_mp(N, h, k)\n",
    "print(\"Error:\", validate_sq(intensity))\n",
    "display(intensity)\n",
    "perf_sq_mps = %timeit -o laue_mps(N, h, k)\n",
    "%memit laue_mps(N, h, k)               "
   ]
  }
 ],
 "metadata": {
  "celltoolbar": "Slideshow",
  "kernelspec": {
   "display_name": "Python 3.9 (local venv)",
   "language": "python",
   "name": "py39-venv"
  },
  "language_info": {
   "codemirror_mode": {
    "name": "ipython",
    "version": 3
   },
   "file_extension": ".py",
   "mimetype": "text/x-python",
   "name": "python",
   "nbconvert_exporter": "python",
   "pygments_lexer": "ipython3",
   "version": "3.9.2"
  }
 },
 "nbformat": 4,
 "nbformat_minor": 5
}
