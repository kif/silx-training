{
 "cells": [
  {
   "cell_type": "markdown",
   "metadata": {
    "slideshow": {
     "slide_type": "slide"
    }
   },
   "source": [
    "# Summary of first half-day:\n",
    "\n",
    "* Various types of profiler: `time`, `timeit`, `prun`, `lprun`, `memit`\n",
    "* Loops style coding in `Python`\n",
    "* Vectorized coding with `NumPy`\n",
    "* Introduction to the `GIL` and the impossibility to have efficient threads in Python\n",
    "* Multiprocessing and the communication issue"
   ]
  },
  {
   "cell_type": "markdown",
   "metadata": {
    "slideshow": {
     "slide_type": "slide"
    }
   },
   "source": [
    "# Addendum\n",
    "\n",
    "* Hybrid approaches: Mix loops for the reciprocal space map and `numpy.sum`\n",
    "  Lowers the memory consumption\n",
    "* Einsum version with `NumPy`\n",
    "* Multiprocessing with shared memory\n",
    "* Cython version using: $ e^{a+b} = e^{a} e^{b} $\n"
   ]
  },
  {
   "cell_type": "code",
   "execution_count": null,
   "metadata": {},
   "outputs": [],
   "source": [
    "# Reload necessary packages, magics, functions and variables\n",
    "%matplotlib inline \n",
    "%load_ext memory_profiler\n",
    "%load_ext line_profiler\n",
    "\n",
    "import os\n",
    "import math\n",
    "import cmath\n",
    "import numpy as np\n",
    "from matplotlib.pyplot import subplots\n",
    "from matplotlib.colors import LogNorm\n",
    "\n",
    "# Number of cores to use\n",
    "if hasattr(os, 'sched_getaffinity'):  # Some Unix only\n",
    "    # Get the number of cores the Python process has access to\n",
    "    # This provides the number of cores requested in SLURM\n",
    "    n_cpu = len(os.sched_getaffinity(0))\n",
    "else:\n",
    "    n_cpu = os.cpu_count()\n",
    "n_cpu = min(4, n_cpu)\n",
    "\n",
    "\n",
    "# Validation functions\n",
    "\n",
    "def validate_sq(result):\n",
    "    \"Return the error value\"\n",
    "    reference = np.load(\"reference_sq.npy\")\n",
    "    return abs(reference-result).max()/reference.max()\n",
    "\n",
    "def validate_ci(result):\n",
    "    \"Return the error value (for exercises)\"\n",
    "    reference = np.load(\"reference_ci.npy\")\n",
    "    return abs(np.array(reference)-result).max()/reference.max()\n",
    "\n",
    "def display(result):\n",
    "    \"Display the array\"\n",
    "    fig, ax = subplots()\n",
    "    fig.suptitle(\"Bragg peak\")\n",
    "    ax.imshow(result.T, extent=(h.min(), h.max(), k.min(), k.max()), norm=LogNorm(), origin = 'lower')\n",
    "    ax.set_xlabel('H');ax.set_ylabel('K')\n",
    "    ax.set_title(f\"Crystal {N}x{N}\")\n",
    "\n",
    "    \n",
    "# Constants\n",
    "# Miller index of reflection\n",
    "H = 0 \n",
    "# Miller index of reflection\n",
    "K = 4 \n",
    "# Number of unit cells per direction\n",
    "N = 32 \n",
    "# Defines how many points are needed to describe a single Laue fringe (2 = Nyquist frequency)\n",
    "oversampling = 3\n",
    "\n",
    "# Radius of the crystal\n",
    "R = N/2\n",
    "\n",
    "# Maximum strain at surface\n",
    "e0 = 0.01 \n",
    "# Width of the strain profile below the surface\n",
    "w = 5.\n",
    "\n",
    "# Generate real and reciprocal space coordinates\n",
    "n = np.arange(N)\n",
    "m = np.arange(N)\n",
    "h = np.arange(H-0.5, H+0.5, 1./(oversampling*N))\n",
    "k = np.arange(K-0.5, K+0.5, 1./(oversampling*N))"
   ]
  },
  {
   "cell_type": "markdown",
   "metadata": {},
   "source": [
    "## Hybrid approaches: Mix loops for the reciprocal space map and `numpy.sum`"
   ]
  },
  {
   "cell_type": "code",
   "execution_count": null,
   "metadata": {
    "slideshow": {
     "slide_type": "slide"
    }
   },
   "outputs": [],
   "source": [
    "# Hybrid method: mix loops with numpy.sum:\n",
    "import itertools\n",
    "\n",
    "def laue_hybrid(N, h, k):\n",
    "    n = np.atleast_2d(np.arange(N))\n",
    "    m = n.T\n",
    "    result = np.zeros((h.size, k.size))\n",
    "    for i_h, v_h in enumerate(h): #loop over the reciprocal space coordinates\n",
    "        for i_k, v_k in enumerate(k):\n",
    "            tmp = np.exp(2j*np.pi*(v_h*n + v_k*m)).sum()\n",
    "            result[i_h, i_k] = abs(tmp)**2\n",
    "    return result\n",
    "\n",
    "# Compute and check error\n",
    "%time intensity = laue_hybrid(N, h, k)\n",
    "print(\"Error:\", validate_sq(intensity))\n",
    "display(intensity)\n",
    "perf_sq_hybrid = %timeit -o laue_hybrid(N, h, k)\n",
    "%memit laue_hybrid(N, h, k)"
   ]
  },
  {
   "cell_type": "markdown",
   "metadata": {},
   "source": [
    "## Einsum version with `NumPy`"
   ]
  },
  {
   "cell_type": "code",
   "execution_count": null,
   "metadata": {
    "slideshow": {
     "slide_type": "slide"
    }
   },
   "outputs": [],
   "source": [
    "# Using Einstein's summation: https://ajcr.net/Basic-guide-to-einsum/\n",
    "\n",
    "def laue_einsum(N, h, k):\n",
    "    n = np.arange(N)\n",
    "    m = n\n",
    "    Fhn = np.exp(2j * np.pi * np.outer(h , n))\n",
    "    Fkm = np.exp(2j * np.pi * np.outer(k , m))\n",
    "    F = np.einsum('hn,km->hk', Fhn, Fkm )\n",
    "    return np.abs(F)**2\n",
    "\n",
    "%time intensity = laue_einsum(N, h, k)\n",
    "print(\"Error:\", validate_sq(intensity))\n",
    "display(intensity)\n",
    "perf_sq_einsum = %timeit -o laue_einsum(N, h, k)\n",
    "%memit laue_einsum(N, h, k)               "
   ]
  },
  {
   "cell_type": "code",
   "execution_count": null,
   "metadata": {},
   "outputs": [],
   "source": [
    "# Using Einstein's summation for the circular strained cristal\n",
    "\n",
    "def circ_einsum(N, h, k):\n",
    "    N_2 = N / 2\n",
    "    x = np.arange(N) - N_2\n",
    "    y = np.arange(N) - N_2\n",
    "    o = np.ones(N)\n",
    "    xa = x.reshape(-1, 1)*o.reshape(1, -1)  # or np.einsum('i,j', x, o)\n",
    "    ya = o.reshape(-1, 1)*y.reshape(1, -1)  # or np.einsum('i,j', o, y)\n",
    "    r2 = xa*xa + ya*ya\n",
    "    mask = r2 <= N_2**2\n",
    "    r = np.sqrt(r2[mask])\n",
    "    s = 1. + np.tanh((r - N_2) / w)\n",
    "    x = xa[mask] * (1. + e0 * s)\n",
    "    y = ya[mask] * (1. + e0 * s)\n",
    "    Fhx = np.exp(2j * np.pi * h.reshape(-1, 1)*x.reshape(1, -1))  # or np.einsum('h,x', h, x))\n",
    "    Fky = np.exp(2j * np.pi * k.reshape(-1, 1)*y.reshape(1, -1))  # or np.einsum('k,y', k, y))\n",
    "    F = np.einsum('hx,kx->hk', Fhx, Fky)\n",
    "    return np.abs(F)**2\n",
    "\n",
    "%time intensity = circ_einsum(N, h, k)\n",
    "print(\"Error:\", validate_ci(intensity))\n",
    "display(intensity)\n",
    "perf_ci_einsum = %timeit -o circ_einsum(N, h, k)\n",
    "%memit circ_einsum(N, h, k)  "
   ]
  },
  {
   "cell_type": "markdown",
   "metadata": {},
   "source": [
    "## Multiprocessing with shared memory"
   ]
  },
  {
   "cell_type": "code",
   "execution_count": null,
   "metadata": {
    "slideshow": {
     "slide_type": "slide"
    }
   },
   "outputs": [],
   "source": [
    "# Using shared memory ...\n",
    "from multiprocessing.pool import ThreadPool\n",
    "from multiprocessing import shared_memory\n",
    "from itertools import product\n",
    "\n",
    "def laue_mps(N, h, k):\n",
    "    result = np.zeros((h.size, k.size))\n",
    "    shm = shared_memory.SharedMemory(create=True, size=result.nbytes)\n",
    "    shared_result = np.ndarray(result.shape, dtype=result.dtype, buffer=shm.buf)\n",
    "    def laue_sp(N, i, h, j, k, res):\n",
    "        n = np.arange(N).reshape(-1, 1)\n",
    "        m = np.arange(N).reshape(1, -1)\n",
    "        res[i,j] = np.abs(np.exp(2j*np.pi*(h*n + k*m)).sum())**2\n",
    "    with ThreadPool(n_cpu) as pool:\n",
    "        tmp = pool.starmap(laue_sp, ( (N,)+i[0]+i[1]+(shared_result,) for i in product(enumerate(h), enumerate(k))))\n",
    "    result[:] = shared_result[:] #copy the result from the shared memory\n",
    "    shm.close()\n",
    "    shm.unlink\n",
    "    return result\n",
    "\n",
    "%time intensity = laue_mps(N, h, k)\n",
    "print(\"Error:\", validate_sq(intensity))\n",
    "display(intensity)\n",
    "perf_sq_mps = %timeit -o laue_mps(N, h, k)\n",
    "%memit laue_mps(N, h, k)               "
   ]
  },
  {
   "cell_type": "markdown",
   "metadata": {},
   "source": [
    "## Cython"
   ]
  },
  {
   "cell_type": "code",
   "execution_count": null,
   "metadata": {},
   "outputs": [],
   "source": [
    "import os\n",
    "\n",
    "os.environ[\"OMP_NUM_THREADS\"] = str(n_cpu)\n",
    "# This enables the %cython mode\n",
    "%load_ext Cython"
   ]
  },
  {
   "cell_type": "code",
   "execution_count": null,
   "metadata": {},
   "outputs": [],
   "source": [
    "%%cython --compile-args=-fopenmp --link-args=-fopenmp -a\n",
    "#cython: embedsignature=True, language_level=3, binding=True\n",
    "#cython: boundscheck=False, wraparound=False, cdivision=True, initializedcheck=False,\n",
    "## This is for development:\n",
    "## cython: profile=True, warn.undeclared=True, warn.unused=True, warn.unused_result=False, warn.unused_arg=True\n",
    "\n",
    "import numpy as np\n",
    "from cython.parallel import prange\n",
    "from libc.math cimport sqrt, pi, tanh\n",
    "\n",
    "# With Cython3: from libc.complex cimport cabs, cexp\n",
    "# Accessing C code from cython (out of the scope for today)\n",
    "cdef extern from \"complex.h\" nogil:\n",
    "    double cabs(double complex)\n",
    "    double complex cexp(double complex)\n",
    "\n",
    "\n",
    "def laue_cython(int N, \n",
    "                double[::1] h, \n",
    "                double[::1] k,\n",
    "                double w,\n",
    "                double e0):\n",
    "    cdef:\n",
    "        double complex[:, ::1] ehn, ekm\n",
    "        double[:, ::1] result\n",
    "        double complex tmp, two_j_pi\n",
    "        double complex v_h, v_k\n",
    "        double radius, N_2, strain\n",
    "        int i_h, i_k, m, n, h_size, k_size\n",
    "        \n",
    "    two_j_pi = np.pi*2j\n",
    "    h_size = h.shape[0]\n",
    "    k_size = k.shape[0]\n",
    "    ehn = np.empty((h_size, N), dtype=np.complex128)\n",
    "    ekm = np.empty((k_size, N), dtype=np.complex128)\n",
    "    result = np.zeros((h_size, k_size))\n",
    "    \n",
    "    with nogil:\n",
    "        for i_h in range(h_size):\n",
    "            for n in range(N):\n",
    "                ehn[i_h, n] = cexp(two_j_pi*h[i_h]*n)\n",
    "\n",
    "        for i_k in range(k_size):\n",
    "            for m in range(N):\n",
    "                ekm[i_k, m] = cexp(two_j_pi*k[i_k]*m)\n",
    "\n",
    "        for i_h in prange(h_size):\n",
    "            for i_k in range(k_size):\n",
    "                tmp = 0.0\n",
    "                for n in range(N):\n",
    "                    for m in range(N):\n",
    "                        tmp += ehn[i_h, n] * ekm[i_k, m]\n",
    "                result[i_h, i_k] += cabs(tmp)**2\n",
    "\n",
    "    return np.asarray(result)"
   ]
  },
  {
   "cell_type": "code",
   "execution_count": null,
   "metadata": {},
   "outputs": [],
   "source": [
    "%time intensity = laue_cython(N, h, k, w, e0)\n",
    "print(\"Error:\", validate_sq(intensity))\n",
    "display(intensity)\n",
    "perf_sq_cython = %timeit -o laue_cython(N, h, k, w, e0)\n",
    "%memit laue_cython(N, h, k, w, e0)"
   ]
  },
  {
   "cell_type": "markdown",
   "metadata": {},
   "source": [
    "## Results\n",
    "\n",
    "For square cristal:"
   ]
  },
  {
   "cell_type": "code",
   "execution_count": null,
   "metadata": {},
   "outputs": [],
   "source": [
    "print(\"                                    Runtime (ms)  Speed-up (x)\")\n",
    "ref = perf_sq_hybrid.best\n",
    "print(f\"Hybrid: for loops+numpy.sum        {1000*perf_sq_hybrid.best:6.1f} ms      {ref/perf_sq_hybrid.best:6.3f}x\")\n",
    "print(f\"Numpy Einsum                       {1000*perf_sq_einsum.best:6.1f} ms      {ref/perf_sq_einsum.best:6.3f}x\")\n",
    "print(f\"Multiprocessing with shared memory {1000*perf_sq_mps.best:6.1f} ms      {ref/perf_sq_mps.best:6.3f}x\")\n",
    "print(f\"Cython with e**(a+b)=e**a+e**b     {1000*perf_sq_cython.best:6.1f} ms      {ref/perf_sq_cython.best:6.3f}x\")"
   ]
  }
 ],
 "metadata": {
  "celltoolbar": "Slideshow",
  "kernelspec": {
   "display_name": "Python 3",
   "language": "python",
   "name": "python3"
  },
  "language_info": {
   "codemirror_mode": {
    "name": "ipython",
    "version": 3
   },
   "file_extension": ".py",
   "mimetype": "text/x-python",
   "name": "python",
   "nbconvert_exporter": "python",
   "pygments_lexer": "ipython3",
   "version": "3.8.5"
  },
  "varInspector": {
   "cols": {
    "lenName": 16,
    "lenType": 16,
    "lenVar": 40
   },
   "kernels_config": {
    "python": {
     "delete_cmd_postfix": "",
     "delete_cmd_prefix": "del ",
     "library": "var_list.py",
     "varRefreshCmd": "print(var_dic_list())"
    },
    "r": {
     "delete_cmd_postfix": ") ",
     "delete_cmd_prefix": "rm(",
     "library": "var_list.r",
     "varRefreshCmd": "cat(var_dic_list()) "
    }
   },
   "types_to_exclude": [
    "module",
    "function",
    "builtin_function_or_method",
    "instance",
    "_Feature"
   ],
   "window_display": false
  }
 },
 "nbformat": 4,
 "nbformat_minor": 5
}
