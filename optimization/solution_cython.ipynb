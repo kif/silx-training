{
 "cells": [
  {
   "cell_type": "markdown",
   "metadata": {},
   "source": [
    "# Solution of Cython optimization exercises"
   ]
  },
  {
   "cell_type": "code",
   "execution_count": null,
   "metadata": {},
   "outputs": [],
   "source": [
    "import numpy as np"
   ]
  },
  {
   "cell_type": "code",
   "execution_count": null,
   "metadata": {},
   "outputs": [],
   "source": [
    "n_cpu = 4"
   ]
  },
  {
   "cell_type": "code",
   "execution_count": null,
   "metadata": {},
   "outputs": [],
   "source": [
    "def validate_ci(result):\n",
    "    \"Return the error value (for exercises)\"\n",
    "    reference = np.load(\"reference_ci.npy\")\n",
    "    return abs(np.array(reference)-result).max()/reference.max()"
   ]
  },
  {
   "cell_type": "code",
   "execution_count": null,
   "metadata": {},
   "outputs": [],
   "source": [
    "# Some constants valid for all calculation\n",
    "# Miller index of reflection\n",
    "H = 0 \n",
    "# Miller index of reflection\n",
    "K = 4 \n",
    "# Number of unit cells per direction\n",
    "N = 32 \n",
    "# Defines how much points are needed to describe a single Laue fringe (2 = Nyquist frequency)\n",
    "oversampling = 3\n",
    "\n",
    "# Maximum strain at surface\n",
    "e0 = 0.01 \n",
    "# Width of the strain profile below the surface\n",
    "w = 5.\n",
    "\n",
    "# Generate real and reciprocal space coordinates\n",
    "n = np.arange(N)\n",
    "m = np.arange(N)\n",
    "h = np.arange(H-0.5, H+0.5, 1./(oversampling*N))\n",
    "k = np.arange(K-0.5, K+0.5, 1./(oversampling*N))"
   ]
  },
  {
   "cell_type": "code",
   "execution_count": null,
   "metadata": {},
   "outputs": [],
   "source": [
    "import os\n",
    "os.environ[\"OMP_NUM_THREADS\"] = str(n_cpu)\n",
    "# This enables the %cython mode\n",
    "%load_ext Cython"
   ]
  },
  {
   "cell_type": "code",
   "execution_count": null,
   "metadata": {},
   "outputs": [],
   "source": [
    "%%cython --compile-args=-fopenmp --link-args=-fopenmp -a\n",
    "#%%cython -a\n",
    "#cython: embedsignature=True, language_level=3, binding=True\n",
    "#cython: boundscheck=False, wraparound=False, cdivision=True, initializedcheck=False,\n",
    "## This is for developping:\n",
    "## cython: profile=True, warn.undeclared=True, warn.unused=True, warn.unused_result=False, warn.unused_arg=True\n",
    "\n",
    "import numpy as np\n",
    "from cython.parallel import prange\n",
    "from libc.math cimport sqrt, pi, tanh\n",
    "\n",
    "# With Cython3: from libc.complex cimport cabs, cexp\n",
    "# Accessing C code from cython (out of the scope for today)\n",
    "cdef extern from \"complex.h\" nogil:\n",
    "    double cabs(double complex)\n",
    "    double complex cexp(double complex)\n",
    "\n",
    "def circ_cython(int N, \n",
    "                double[::1] h, \n",
    "                double[::1] k,\n",
    "                double e0,\n",
    "                double w):\n",
    "    cdef:\n",
    "        double[:, ::1] result\n",
    "        double N_2, p_n, p_m, strain, radius, n_v, m_v\n",
    "        double complex tmp, two_j_pi,  value\n",
    "        int i_h, i_k, m, n, h_size, k_size\n",
    "        \n",
    "    two_j_pi = np.pi*2j\n",
    "    h_size = h.shape[0]\n",
    "    k_size = k.shape[0]\n",
    "    result = np.zeros((h_size, k_size))\n",
    "    N_2 = N / 2.0\n",
    "    for i_h in prange(h_size, nogil=True):  # loop over the reciprocal space coordinates\n",
    "        for i_k in range(k_size):\n",
    "            tmp = 0.0\n",
    "            for n in range(N):  # loop and sum over unit-cells\n",
    "                for m in range(N):\n",
    "                    radius = sqrt((n - N_2)** 2 + (m - N_2)** 2)\n",
    "                    if (radius > (N_2)):\n",
    "                        value = 0.0\n",
    "                    else:\n",
    "                        strain = e0 * (1.0 + tanh((radius-N_2)/w))\n",
    "                        p_n = n + strain*(n - N_2)\n",
    "                        p_m = m + strain*(m - N_2)\n",
    "                        value = cexp(2j*pi*(h[i_h]*p_n + k[i_k]*p_m))\n",
    "                    tmp +=  value\n",
    "            result[i_h, i_k] += cabs(tmp)**2\n",
    "    return np.asarray(result)"
   ]
  },
  {
   "cell_type": "code",
   "execution_count": null,
   "metadata": {},
   "outputs": [],
   "source": [
    "%time intensity = circ_cython(N, h, k, e0, w)\n",
    "print(\"Error measured:\", validate_ci(intensity))"
   ]
  },
  {
   "cell_type": "code",
   "execution_count": null,
   "metadata": {},
   "outputs": [],
   "source": []
  }
 ],
 "metadata": {
  "kernelspec": {
   "display_name": "Python 3",
   "language": "python",
   "name": "python3"
  },
  "language_info": {
   "codemirror_mode": {
    "name": "ipython",
    "version": 3
   },
   "file_extension": ".py",
   "mimetype": "text/x-python",
   "name": "python",
   "nbconvert_exporter": "python",
   "pygments_lexer": "ipython3",
   "version": "3.7.3"
  },
  "toc": {
   "base_numbering": 1,
   "nav_menu": {},
   "number_sections": true,
   "sideBar": true,
   "skip_h1_title": false,
   "title_cell": "Table of Contents",
   "title_sidebar": "Contents",
   "toc_cell": false,
   "toc_position": {},
   "toc_section_display": true,
   "toc_window_display": false
  },
  "varInspector": {
   "cols": {
    "lenName": 16,
    "lenType": 16,
    "lenVar": 40
   },
   "kernels_config": {
    "python": {
     "delete_cmd_postfix": "",
     "delete_cmd_prefix": "del ",
     "library": "var_list.py",
     "varRefreshCmd": "print(var_dic_list())"
    },
    "r": {
     "delete_cmd_postfix": ") ",
     "delete_cmd_prefix": "rm(",
     "library": "var_list.r",
     "varRefreshCmd": "cat(var_dic_list()) "
    }
   },
   "types_to_exclude": [
    "module",
    "function",
    "builtin_function_or_method",
    "instance",
    "_Feature"
   ],
   "window_display": false
  }
 },
 "nbformat": 4,
 "nbformat_minor": 5
}
