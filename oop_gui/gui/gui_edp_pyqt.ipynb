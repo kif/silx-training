{
 "cells": [
  {
   "cell_type": "markdown",
   "metadata": {
    "slideshow": {
     "slide_type": "slide"
    }
   },
   "source": [
    "# Graphical User Interface programming in Python\n",
    "\n",
    "Goal: Writing a simple Graphical User Interfaces (GUI) with PyQt based on existing widgets."
   ]
  },
  {
   "cell_type": "markdown",
   "metadata": {
    "slideshow": {
     "slide_type": "slide"
    }
   },
   "source": [
    "## Exercice\n",
    "\n",
    "The exercice for this training is to create a GUI for calculating the diffraction image obtained from a 2D cristal composed on a square of NxN atoms using the Laue formula.\n",
    "\n",
    "```python\n",
    "def laue_image(ncells, h, k, oversampling):\n",
    "    pass\n",
    "```\n",
    "\n",
    "The `laue_image` function calculates the diffraction image around the Bragg peak (`H`, `K`), actually (H-0.5…H+0.5, K-0.5…K+0.5) of a `ncells`x`ncells` 2D square cristal considering an `oversampling` factor.\n",
    "This oversampling factor should be at least 2 to have 2 points per peak. \n",
    "\n",
    "The Python/numpy implementation is available here: [laue.py](laue.py)"
   ]
  },
  {
   "cell_type": "code",
   "execution_count": null,
   "metadata": {
    "slideshow": {
     "slide_type": "slide"
    }
   },
   "outputs": [],
   "source": [
    "%matplotlib inline\n",
    "from matplotlib import pyplot\n",
    "from matplotlib.colors import LogNorm\n",
    "\n",
    "import laue\n",
    "\n",
    "result = laue.laue_image(ncells=10, h=0, k=4, oversampling=2)\n",
    "\n",
    "pyplot.imshow(result, norm=LogNorm())"
   ]
  },
  {
   "cell_type": "markdown",
   "metadata": {
    "slideshow": {
     "slide_type": "slide"
    }
   },
   "source": [
    "### Goal of the exercice\n",
    "\n",
    "Write a GUI similar to this sketch to execute the Laue function and save its result :\n",
    "\n",
    "![GUI sketch](images/sketch.png)"
   ]
  },
  {
   "cell_type": "markdown",
   "metadata": {
    "slideshow": {
     "slide_type": "slide"
    }
   },
   "source": [
    "## Introduction to GUI programming\n",
    "\n",
    "A GUI is an **interface** between a user and a computer system/program.\n",
    "\n",
    "It provides an **interaction** between both (mutual action/reaction relation).\n",
    "\n",
    "The computer system/program reacts upon user actions and provides feedbacks... and the other way around."
   ]
  },
  {
   "cell_type": "markdown",
   "metadata": {
    "slideshow": {
     "slide_type": "slide"
    }
   },
   "source": [
    "### Human factors\n",
    "\n",
    "For this interaction to be efficent, human factors and ergonomics is key.\n",
    "\n",
    "This is not covered in this training. We will only introduce how to program a GUI application.\n",
    "\n",
    "Yet, you can ask yourself a few questions:\n",
    "\n",
    "- Who are the expected users? E.g., beginners or experts, frequency of usage.\n",
    "- Does the GUI provides hints on how to proceed?\n",
    "  E.g., do not expect users to find a function that is only available as a keyboard shortcut."
   ]
  },
  {
   "cell_type": "markdown",
   "metadata": {
    "slideshow": {
     "slide_type": "slide"
    }
   },
   "source": [
    "### Event-driven programming\n",
    "\n",
    "The GUI is waiting for user inputs to react upon (or for new information from the processing to be available)."
   ]
  },
  {
   "cell_type": "markdown",
   "metadata": {
    "slideshow": {
     "slide_type": "slide"
    }
   },
   "source": [
    "#### Polling versus events\n",
    "\n",
    "Instead of checking if something happened on a regular basis (\"polling\"), a GUI program is waiting for notifications of user input or processing information.\n",
    "\n",
    "This is based on the callback mechanism: \"Don't call us, we'll call you back\" (Hollywood principle).\n",
    "\n",
    "This is the usual paradigm of GUI libraries."
   ]
  },
  {
   "cell_type": "markdown",
   "metadata": {
    "slideshow": {
     "slide_type": "slide"
    }
   },
   "source": [
    "#### Event loop\n",
    "\n",
    "The application execution is splitted in 2 stages:\n",
    "- Initialization: Prepare the application, register callbacks to get notified.\n",
    "- Execution of an event loop: Wait for events and process them in a loop.\n",
    "\n",
    "As the chronological order of events matters, the processing of events runs in a single thread.\n",
    "As a consequence, most GUI libraries are single-threaded (unless exceptions).\n",
    "\n",
    "The event loop is handled by the GUI libraries."
   ]
  },
  {
   "cell_type": "markdown",
   "metadata": {
    "slideshow": {
     "slide_type": "slide"
    }
   },
   "source": [
    "#### Event dispatcher\n",
    "\n",
    "GUI libraries provides an event dispatching mechanism to hide the event loop to the developer.\n",
    "\n",
    "A GUI is composed of reusable building bricks (\"widgets\") which are objects.\n",
    "The GUI library is in charge of dispatching the events to the right widget or to the right event handler.\n",
    "\n",
    "This turns the problem of handling events from a global one (a single loop for the whole application) to a local self-contained one (at the level of a single widget)."
   ]
  },
  {
   "cell_type": "markdown",
   "metadata": {
    "slideshow": {
     "slide_type": "slide"
    }
   },
   "source": [
    "### A bit of software design\n",
    "\n",
    "**1st rule**: Keep a strict separation between the processing code and the GUI.\n",
    "\n",
    "- Why?:\n",
    "  - Different concerns\n",
    "  - Different knowledge\n",
    "  - Testing\n",
    "\n",
    "- How?:\n",
    "  - Split the code in e.g., 2 files: `myprocessing.py` and `gui.py`"
   ]
  },
  {
   "cell_type": "markdown",
   "metadata": {
    "slideshow": {
     "slide_type": "slide"
    }
   },
   "source": [
    "**2nd rule**: The processing code does not depend on the GUI.\n",
    "\n",
    "- Why?:\n",
    "  - Minimize dependencies and avoid circular dependencies\n",
    "  - GUI usually evolves faster than the processing part\n",
    "  - The processing code can be reused in a different context (batch processing, script, web...)\n",
    "\n",
    "- How?:\n",
    "  - `gui.py` has an `import myprocessing` statement\n",
    "  - `myprocessing.py` does **NOT** have an `import gui` statement\n",
    "  - Communication:\n",
    "    - GUI -> Processing: function calls\n",
    "    - Processing -> GUI: callback mechanism"
   ]
  },
  {
   "cell_type": "markdown",
   "metadata": {},
   "source": [
    "# Developing GUI using PyQt5\n",
    "\n",
    "## GUI developmnent\n",
    "\n",
    "Gui developmnent are object oriented.\n",
    "\n",
    "\n",
    "### Architecture\n",
    "### Event-driven programming\n",
    "\n",
    "The flow of the program is determined by events (mouse clicks, key presses).\n",
    "The user is no more at the program service but the program is serving the user.\n",
    "Hollywood principle: \"Don't call us, we'll call you\"\n",
    "The program is at your service and not the \n"
   ]
  },
  {
   "cell_type": "markdown",
   "metadata": {},
   "source": [
    "## Qt and PyQt overview\n",
    "\n",
    "### Qt\n",
    "\n",
    "Qt is a free and open-source widget toolkit for creating graphical user interfaces.\n",
    "As a victim of its own success thanks it is also used for developing cross-platform applications.\n",
    "\n",
    "Written in c++, we are now in the 5th version, waiting for the 6th version.\n",
    "\n",
    "![qt](images/qt_icon.png)\n",
    "\n",
    "\n",
    "Qt is divided into several basic modules. The main modules for gui are:\n",
    "\n",
    "* Qt Core: Provides core non-GUI functionality, like signal and slots, properties, base classes of item models, serialization, etc.\n",
    "* Qt Gui: Extends QtCore with GUI functionality: Events, windows and screens, OpenGL and raster-based 2D painting, images.\n",
    "* Qt Widgets: Provides ready to use Widgets for your application, including also graphical elements for your UI.\n",
    "\n",
    "\n",
    "#### QApplication\n",
    "\n",
    "The QApplication specializes QGuiApplication with some functionality needed for QWidget -based applications. It handles widget specific initialization, finalization.\n",
    "\n",
    "No matter the number of windows, gui... there is only one QApplication object.\n",
    "\n",
    "It also manage the Signal / Event that you will see later."
   ]
  },
  {
   "cell_type": "code",
   "execution_count": null,
   "metadata": {},
   "outputs": [],
   "source": [
    "%gui qt\n",
    "\n",
    "from PyQt5.QtWidgets import QApplication, QLabel\n",
    "first_widget = QLabel('hello world')\n",
    "first_widget.show()"
   ]
  },
  {
   "cell_type": "markdown",
   "metadata": {},
   "source": [
    "### PyQt\n",
    "\n",
    "Due to it sucess and python sucess, bindings have been developed for Qt: PyQt5 for Qt5, PyQt4 for Qt4. Now Qt is also starting of developping is own: PySide2. But development is on going.\n",
    "\n",
    "This permits users to access the power of Qt with the python 'abstraction'.\n",
    "\n",
    "#### overview of some widget gallery\n",
    "\n",
    "Qt is presenting some widget gallery: https://doc.qt.io/qt-5/gallery.html\n",
    "\n",
    "\n",
    "#### hello world\n",
    "\n",
    "\n",
    "``` python\n",
    "\n",
    "from PyQt5.QtWidgets import QApplication, QLabel, QMainWindow\n",
    "\n",
    "app = QApplication([])\n",
    "\n",
    "main_window = QMainWindow()\n",
    "\n",
    "first_widget = QLabel('hello world', parent=main_window)\n",
    "main_window.setCentralWidget(first_widget)\n",
    "main_window.show()\n",
    "app.exec_()\n",
    "```\n"
   ]
  },
  {
   "cell_type": "markdown",
   "metadata": {},
   "source": [
    "We can execute some QApplication in a notbook locally using `%gui qt` magic"
   ]
  },
  {
   "cell_type": "code",
   "execution_count": null,
   "metadata": {},
   "outputs": [],
   "source": [
    "%gui qt\n",
    "\n",
    "from PyQt5.QtWidgets import QApplication, QLabel, QMainWindow\n",
    "\n",
    "app = QApplication([])\n",
    "\n",
    "main_window = QMainWindow()\n",
    "first_widget = QLabel('hello world !!!', parent=main_window)\n",
    "main_window.setCentralWidget(first_widget)\n",
    "main_window.show()\n",
    "\n",
    "app.exec_()"
   ]
  },
  {
   "cell_type": "markdown",
   "metadata": {
    "slideshow": {
     "slide_type": "slide"
    }
   },
   "source": [
    "# Widgets TODO\n",
    "\n",
    "- Basic widgets: QLabel, QLineEdit, buttons, combobox, TODO etc\n",
    "- Dialog: QMessageBox, QFileDialog TODO etc\n",
    "- Advanced widgets (not covered today) TODO list, tree"
   ]
  },
  {
   "cell_type": "markdown",
   "metadata": {
    "slideshow": {
     "slide_type": "slide"
    }
   },
   "source": [
    "# Assembling widgets\n",
    "\n",
    "How to go from single widgets to a consistent graphical user interface.\n",
    "\n",
    "Objective: Describe and manage the geometric imbrication of widgets:\n",
    "\n",
    "- Container widgets\n",
    "- Layout"
   ]
  },
  {
   "cell_type": "code",
   "execution_count": null,
   "metadata": {},
   "outputs": [],
   "source": [
    "# This creates the QApplication\n",
    "%gui qt\n",
    "\n",
    "from PyQt5 import Qt"
   ]
  },
  {
   "cell_type": "markdown",
   "metadata": {
    "slideshow": {
     "slide_type": "slide"
    }
   },
   "source": [
    "![pyMCA](images/pymca_gui.png)"
   ]
  },
  {
   "cell_type": "markdown",
   "metadata": {
    "slideshow": {
     "slide_type": "slide"
    }
   },
   "source": [
    "## Container widgets\n",
    "\n",
    "- [QMainWindow](https://doc.qt.io/qt-5/qmainwindow.html): Main application window\n",
    "\n",
    "\n",
    "- [QSplitter](https://doc.qt.io/qt-5/qsplitter.html): Lets the user control the size of child widgets\n",
    "- [QStackedWidget](https://doc.qt.io/qt-5/qstackedwidget.html): Stack of widgets where only one widget is visible at a time\n",
    "- [QTabWidget](https://doc.qt.io/qt-5/qtabwidget.html): Stack of tabbed widgets"
   ]
  },
  {
   "cell_type": "markdown",
   "metadata": {
    "slideshow": {
     "slide_type": "slide"
    }
   },
   "source": [
    "### QMainWindow: Main application window\n",
    "\n",
    "![QMainWindow example](images/QMainWindow.png)"
   ]
  },
  {
   "cell_type": "code",
   "execution_count": null,
   "metadata": {
    "slideshow": {
     "slide_type": "slide"
    }
   },
   "outputs": [],
   "source": [
    "class MainWindow(Qt.QMainWindow):\n",
    "    def __init__(self, parent=None):\n",
    "        super(MainWindow, self).__init__(parent)\n",
    "\n",
    "        # Set central widget\n",
    "        label = Qt.QTextEdit(\"Type text here\")\n",
    "        self.setCentralWidget(label)\n",
    "\n",
    "        # Add menu\n",
    "        menuBar = self.menuBar()\n",
    "        fileMenu = menuBar.addMenu(\"File\")\n",
    "        editMenu = menuBar.addMenu(\"Edit\")\n",
    "\n",
    "        # Add a toolbar\n",
    "        toolBar = self.addToolBar(\"Toolbar\")\n",
    "        toolBar.addAction(Qt.QIcon.fromTheme(\"edit-undo\"), \"Undo\")\n",
    "        toolBar.addAction(Qt.QIcon.fromTheme(\"edit-redo\"), \"Redo\")\n",
    "\n",
    "        # Add a dock widget\n",
    "        dock = Qt.QDockWidget(\"Dock\")\n",
    "        self.addDockWidget(Qt.Qt.RightDockWidgetArea, dock)\n",
    "\n",
    "        # Use status bar\n",
    "        self.statusBar().showMessage(\"Current status\")\n",
    "\n",
    "window = MainWindow()\n",
    "window.show()"
   ]
  },
  {
   "cell_type": "markdown",
   "metadata": {
    "slideshow": {
     "slide_type": "slide"
    }
   },
   "source": [
    "QMainWindow Layout:\n",
    "![QMainWindow layout](https://doc.qt.io/qt-5/images/mainwindowlayout.png)\n",
    "\n",
    "Set the central widget: [QMainWindow.setCentralWidget](https://doc.qt.io/qt-5/qmainwindow.html#setCentralWidget)\n",
    "\n",
    "Documentation: https://doc.qt.io/qt-5/qmainwindow.html"
   ]
  },
  {
   "cell_type": "markdown",
   "metadata": {
    "slideshow": {
     "slide_type": "slide"
    }
   },
   "source": [
    "## QWidget's layout\n",
    "\n",
    "[QWidget](https://doc.qt.io/qt-5/qwidget.html) base class can be used as a container with configurable layout (through the [QWidget.setLayout](https://doc.qt.io/qt-5/qwidget.html#setLayout) method).\n",
    "\n",
    "The layout is responsible for automatically allocating space for each child widget of a QWidget.\n",
    "\n",
    "Layouts are classes that inherit from [QLayout](https://doc.qt.io/qt-5/qlayout.html).\n",
    "\n",
    "This defines a spatial tree structure of widgets.\n",
    "\n",
    "We now have 2 different hierarchical structures: the class inheritance and the widget spatial imbrication."
   ]
  },
  {
   "cell_type": "markdown",
   "metadata": {
    "slideshow": {
     "slide_type": "slide"
    }
   },
   "source": [
    "### Basic layouts: Horizontal and vertical\n",
    "\n",
    "- [QHBoxLayout](https://doc.qt.io/qt-5/qhboxlayout.html): Lines up widgets horizontally\n",
    "  ![QHBoxLayout](images/QHBoxLayout.png)\n",
    "- [QVBoxLayout](https://doc.qt.io/qt-5/qvboxlayout.html): Lines up widgets vertically\n",
    "  ![QVBoxLayout](images/QVBoxLayout.png)\n",
    "- [QBoxLayout](https://doc.qt.io/qt-5/qboxlayout.html): Lines up child widgets horizontally or vertically.\n",
    "  The [setDirection](https://doc.qt.io/qt-5/qboxlayout.html#setDirection) method allows to change it.\n",
    "\n",
    "To populate the layout, use:\n",
    "- [QBoxLayout.addWidget](https://doc.qt.io/qt-5/qboxlayout.html#addWidget)(widget, stretch=0): Appends a widget to the end of the layout\n",
    "- [QBoxLayout.addStrech](https://doc.qt.io/qt-5/qboxlayout.html#addStretch)(strech=0): Adds a stretchable empty space\n",
    " "
   ]
  },
  {
   "cell_type": "markdown",
   "metadata": {
    "slideshow": {
     "slide_type": "slide"
    }
   },
   "source": [
    "#### QBoxLayout example"
   ]
  },
  {
   "cell_type": "code",
   "execution_count": null,
   "metadata": {
    "slideshow": {
     "slide_type": "-"
    }
   },
   "outputs": [],
   "source": [
    "class BoxWidget(Qt.QWidget):  # Container widget\n",
    "    def __init__(self, parent=None):\n",
    "        super(BoxWidget, self).__init__(parent)\n",
    "\n",
    "        # Child widgets\n",
    "        label = Qt.QLabel(\"Value:\")\n",
    "        lineEdit = Qt.QLineEdit(\"0\")\n",
    "        button = Qt.QPushButton(\"Done\")\n",
    "\n",
    "        # Create layout and add widgets to it\n",
    "        layout = Qt.QHBoxLayout()\n",
    "        # or: layout = Qt.QVBoxLayout()\n",
    "\n",
    "        layout.addWidget(label)\n",
    "        layout.addWidget(lineEdit)\n",
    "        layout.addWidget(button)\n",
    "        # layout.addStretch(1)  # Add a stretch area to improve resizing\n",
    "\n",
    "        # set the widget's layout\n",
    "        self.setLayout(layout)\n",
    "\n",
    "widget = BoxWidget()\n",
    "widget.show()"
   ]
  },
  {
   "cell_type": "markdown",
   "metadata": {
    "slideshow": {
     "slide_type": "slide"
    }
   },
   "source": [
    "### Advanced layouts : Grid and stack\n",
    "\n",
    "- [QGridLayout](https://doc.qt.io/qt-5/qgridlayout.html): lays out widgets in a grid\n",
    "\n",
    "  To populate the layout, use the [`addWidget(widget, row, column, rowSpan, columnSpan)`](https://doc.qt.io/qt-5/qgridlayout.html#addWidget) method.\n",
    "  ![](images/QGridLayout.svg)\n",
    "  \n",
    "- [QFormLayout](https://doc.qt.io/qt-5/qformlayout.html): lays out widgets in a 2 columns grid\n",
    "\n",
    "  To populate the layout, use the [`addRow(label, widget)`](https://doc.qt.io/qt-5/qformlayout.html#addRow) or [`addRow(widget)`](https://doc.qt.io/qt-5/qformlayout.html#addRow-4) method.\n",
    "  ![](images/QFormLayout.svg)\n",
    "  \n",
    "- [QStackedLayout](https://doc.qt.io/qt-5/qstackedlayout.html): stack of widgets where only one widget is visible at a time"
   ]
  },
  {
   "cell_type": "markdown",
   "metadata": {
    "slideshow": {
     "slide_type": "slide"
    }
   },
   "source": [
    "#### QGridLayout example"
   ]
  },
  {
   "cell_type": "code",
   "execution_count": null,
   "metadata": {
    "slideshow": {
     "slide_type": "-"
    }
   },
   "outputs": [],
   "source": [
    "class GridWidget(Qt.QWidget):  # Container widget\n",
    "    def __init__(self, parent=None):\n",
    "        super(GridWidget, self).__init__(parent)\n",
    "\n",
    "        # Child widgets\n",
    "        label = Qt.QLabel(\"Range:\")\n",
    "        beginLineEdit = Qt.QLineEdit(\"0\")\n",
    "        endLineEdit = Qt.QLineEdit(\"1\")\n",
    "        button = Qt.QPushButton(\"Done\")\n",
    "        \n",
    "        # Create layout and add widgets to it\n",
    "        layout = Qt.QGridLayout()\n",
    "        \n",
    "        layout.addWidget(label, 0, 0)\n",
    "        layout.addWidget(beginLineEdit, 0, 1)\n",
    "        layout.addWidget(endLineEdit, 0, 2)\n",
    "        layout.addWidget(button, 1, 0, 1, 3)\n",
    "        \n",
    "        # set the widget's layout\n",
    "        self.setLayout(layout)\n",
    "\n",
    "widget = GridWidget()\n",
    "widget.show()"
   ]
  },
  {
   "cell_type": "markdown",
   "metadata": {
    "slideshow": {
     "slide_type": "slide"
    }
   },
   "source": [
    "#### QFormLayout example"
   ]
  },
  {
   "cell_type": "code",
   "execution_count": null,
   "metadata": {
    "slideshow": {
     "slide_type": "-"
    }
   },
   "outputs": [],
   "source": [
    "# Alternative: inherit from QWidget\n",
    "class FormWidget(Qt.QWidget):\n",
    "    def __init__(self, parent=None):\n",
    "        super(FormWidget, self).__init__(parent)\n",
    "        beginLineEdit = Qt.QLineEdit(\"0\", parent=widget)\n",
    "        endLineEdit = Qt.QLineEdit(\"1\", parent=widget)\n",
    "        button = Qt.QPushButton(\"Done\", parent=widget)\n",
    "\n",
    "        # Create layout and add widgets to it\n",
    "        layout = Qt.QFormLayout(parent=self)  # Give the parent is same as setLayout\n",
    "\n",
    "        layout.addRow(\"Min:\", beginLineEdit)\n",
    "        layout.addRow(\"Max:\", endLineEdit)\n",
    "        layout.addRow(button)\n",
    "\n",
    "widget = FormWidget()\n",
    "widget.show()"
   ]
  },
  {
   "cell_type": "markdown",
   "metadata": {
    "slideshow": {
     "slide_type": "slide"
    }
   },
   "source": [
    "### Nested layout\n",
    "\n",
    "For complex widget imbrication, you can use a hierarchy of widgets, each having a different layout.\n",
    "\n",
    "It is also possible to nest layouts within each other (e.g., with [QBoxLayout.addLayout](https://doc.qt.io/qt-5/qboxlayout.html#addLayout))."
   ]
  },
  {
   "cell_type": "code",
   "execution_count": null,
   "metadata": {
    "slideshow": {
     "slide_type": "slide"
    }
   },
   "outputs": [],
   "source": [
    "class NestedBoxLayoutWidget(Qt.QWidget):\n",
    "    def __init__(self, parent=None):\n",
    "        super(NestedBoxLayoutWidget, self).__init__(parent)\n",
    "        label = Qt.QLabel(\"Range:\")\n",
    "        beginLineEdit = Qt.QLineEdit(\"0\")\n",
    "        endLineEdit = Qt.QLineEdit(\"1\")\n",
    "        button = Qt.QPushButton(\"Done\")\n",
    "\n",
    "        # Create layout and add widgets to it\n",
    "        layout = Qt.QVBoxLayout(self)\n",
    "\n",
    "        layout.addWidget(label)\n",
    "\n",
    "        # Adding a nested horizontal layout\n",
    "        horizontalLayout = Qt.QHBoxLayout()\n",
    "        layout.addLayout(horizontalLayout)\n",
    "\n",
    "        horizontalLayout.addWidget(beginLineEdit)\n",
    "        horizontalLayout.addWidget(endLineEdit)\n",
    "\n",
    "        layout.addWidget(button)\n",
    "        layout.addStretch(1)\n",
    "\n",
    "widget = NestedBoxLayoutWidget()\n",
    "widget.show()"
   ]
  },
  {
   "cell_type": "markdown",
   "metadata": {
    "slideshow": {
     "slide_type": "slide"
    }
   },
   "source": [
    "### Layout processus\n",
    "\n",
    "Each widget advertises:\n",
    "- some spatial request: [sizeHint](https://doc.qt.io/qt-5/qwidget.html#sizeHint-prop), [minimumSizeHint](https://doc.qt.io/qt-5/qwidget.html#minimumSizeHint-prop), [minimumSize](https://doc.qt.io/qt-5/qwidget.html#minimumSize-prop),\n",
    "[maximumSize](https://doc.qt.io/qt-5/qwidget.html#maximumSize-prop)\n",
    "- how it accepts to be resized: [sizePolicy](https://doc.qt.io/qt-5/qwidget.html#sizePolicy-prop)\n",
    "\n",
    "The layout manager takes this information into account to allocate a rectangle to each child widget.\n",
    "\n",
    "Documentation on layout: https://doc.qt.io/qt-5/layout.html\n"
   ]
  },
  {
   "cell_type": "markdown",
   "metadata": {
    "slideshow": {
     "slide_type": "slide"
    }
   },
   "source": [
    "### QWidget parent\n",
    "\n",
    "When a QWidget **A** is added to another QWidget **B** or to its layout, **B** becomes automatically the parent of **A**.\n",
    "\n",
    "To get the current QWidget parent, use the [QObject.parent](https://doc.qt.io/qt-5/qobject.html#parent) method.\n"
   ]
  },
  {
   "cell_type": "code",
   "execution_count": null,
   "metadata": {
    "scrolled": true,
    "slideshow": {
     "slide_type": "fragment"
    }
   },
   "outputs": [],
   "source": [
    "label = Qt.QLabel(\"Text\")  # Create a label\n",
    "print(\"label's parent:\", label.parent())"
   ]
  },
  {
   "cell_type": "code",
   "execution_count": null,
   "metadata": {
    "slideshow": {
     "slide_type": "fragment"
    }
   },
   "outputs": [],
   "source": [
    "# Add the label to a QWidget\n",
    "window = Qt.QMainWindow()\n",
    "window.setCentralWidget(label)\n",
    "print(\"label's parent:\", label.parent())\n",
    "label.parent() is window"
   ]
  },
  {
   "cell_type": "markdown",
   "metadata": {
    "slideshow": {
     "slide_type": "slide"
    }
   },
   "source": [
    "### (Py)Qt object instance destruction\n",
    "\n",
    "With Qt, the object parenting used for layout also handles the life-cycle (i.e., automatic destruction) of widget instances.\n",
    "\n",
    "When a widget is destroyed, all its children are also destroyed...\n",
    "\n",
    "With PyQt, this raises an issue as Python is also handling the life-cycle of instances (with reference counting)."
   ]
  },
  {
   "cell_type": "code",
   "execution_count": null,
   "metadata": {
    "slideshow": {
     "slide_type": "-"
    }
   },
   "outputs": [],
   "source": [
    "label.text()"
   ]
  },
  {
   "cell_type": "code",
   "execution_count": null,
   "metadata": {
    "slideshow": {
     "slide_type": "fragment"
    }
   },
   "outputs": [],
   "source": [
    "del window\n",
    "print(\"label:\", label)\n",
    "label.text()"
   ]
  },
  {
   "cell_type": "markdown",
   "metadata": {
    "slideshow": {
     "slide_type": "slide"
    }
   },
   "source": [
    "### (Py)Qt object instance destruction\n",
    "\n",
    "A QWidget is a C++ Qt object.\n",
    "To be accessible from Python, it is wrapped in a Python object by PyQt.\n",
    "\n",
    "- The destruction of the Python PyQt object instance is handled by Python.\n",
    "- The destruction of the C++ Qt object instance is handled by:\n",
    "  - **Python** if its `parent` is `None`.\n",
    "  - **Qt** if its `parent` is **not** `None`."
   ]
  },
  {
   "cell_type": "markdown",
   "metadata": {
    "slideshow": {
     "slide_type": "slide"
    }
   },
   "source": [
    "## Exercice: layout\n",
    "\n",
    "Write a form widget which allows the user to provide parameters for the calculation of the diffraction image obtained from a 2D square cristal using the Laue formula.\n",
    "The Python/numpy implementation is available here: [laue.py](laue.py)\n",
    "\n",
    "Sketch of the GUI:\n",
    "![GUI sketch](images/sketch.png)\n",
    "\n",
    "Hint: You can create such a form with a QWidget with a QFormLayout, QLineEdit widgets (and eventually QLabels) and a QPushButton."
   ]
  },
  {
   "cell_type": "markdown",
   "metadata": {
    "slideshow": {
     "slide_type": "slide"
    }
   },
   "source": [
    "# Signal/slot and events TODO\n",
    "\n",
    "- Signal: principle, usage, declaration\n",
    "- Slot: Just a word (meaningless in PyQt)\n",
    "- Events: Justa word and an example\n"
   ]
  },
  {
   "cell_type": "markdown",
   "metadata": {
    "slideshow": {
     "slide_type": "slide"
    }
   },
   "source": [
    "## Exercice: signal\n",
    "\n",
    "Use the QPushButton signal emitted when the user click on the button to trigger the computation of the Laue formulae with the given parameters."
   ]
  },
  {
   "cell_type": "markdown",
   "metadata": {
    "slideshow": {
     "slide_type": "slide"
    }
   },
   "source": [
    "\n",
    "### advanced hello world\n",
    "\n",
    "Define the following widget:\n",
    "\n",
    "The design is the following one:\n",
    "\n",
    "Now change the layout for a QVBoxLayout().\n",
    "See GridLayout ...\n",
    "\n",
    "\n",
    "\n",
    "## Learning by example: create an interface for Laue pattern\n",
    "\n",
    "TODO: add a screenshot of the final widget\n",
    "\n",
    "### create the formula\n",
    "### add a button\n",
    "### add callback\n",
    "### add a QMessageDialog if an input value is invalid (fail to cast to\n",
    "float for example).\n",
    "### add a QDoubleValidator\n",
    "### add a buttons to load and save data from / to a file.\n",
    "     -> Using QfileDialog, speak about silx DataDialog\n",
    "### propose a second solution using toolbar. QAction (or set it in home work)\n",
    "### add icons on buttons\n",
    "### move the formula into a dedicated widget. Play with Margins,\n",
    "setContentMargins\n",
    "### add some events ?\n",
    "### find a way to use a checkButton or radio button (activate complex\n",
    "mode / QDouble validator)\n",
    "### Do the same interface using qtcreator and make the connection\n"
   ]
  },
  {
   "cell_type": "markdown",
   "metadata": {},
   "source": [
    "Extra materials:\n",
    "\n",
    "some pyqt5 tutorials: https://pythonspot.com/gui/"
   ]
  },
  {
   "cell_type": "code",
   "execution_count": null,
   "metadata": {},
   "outputs": [],
   "source": []
  }
 ],
 "metadata": {
  "celltoolbar": "Slideshow",
  "kernelspec": {
   "display_name": "Python 3",
   "language": "python",
   "name": "python3"
  },
  "language_info": {
   "codemirror_mode": {
    "name": "ipython",
    "version": 3
   },
   "file_extension": ".py",
   "mimetype": "text/x-python",
   "name": "python",
   "nbconvert_exporter": "python",
   "pygments_lexer": "ipython3",
   "version": "3.4.2"
  }
 },
 "nbformat": 4,
 "nbformat_minor": 2
}
