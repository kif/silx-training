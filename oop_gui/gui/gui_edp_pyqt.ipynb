{
 "cells": [
  {
   "cell_type": "markdown",
   "metadata": {},
   "source": [
    "# Developing GUI using PyQt5\n",
    "\n",
    "## GUI developmnent\n",
    "\n",
    "Gui developmnent are object oriented.\n",
    "\n",
    "\n",
    "### Architecture\n",
    "### Event-driven programming\n",
    "\n",
    "The flow of the program is determined by events (mouse clicks, key presses).\n",
    "The user is no more at the program service but the program is serving the user.\n",
    "Hollywood principle: \"Don't call us, we'll call you\"\n",
    "The program is at your service and not the \n"
   ]
  },
  {
   "cell_type": "markdown",
   "metadata": {},
   "source": [
    "## Qt and PyQt overview\n",
    "\n",
    "### Qt\n",
    "\n",
    "TODO\n",
    "\n",
    "#### QApplication"
   ]
  },
  {
   "cell_type": "code",
   "execution_count": null,
   "metadata": {},
   "outputs": [],
   "source": [
    "%gui qt\n",
    "\n",
    "from PyQt5.QtWidgets import QApplication, QLabel\n",
    "first_widget = QLabel('hello world')\n",
    "first_widget.show()"
   ]
  },
  {
   "cell_type": "markdown",
   "metadata": {},
   "source": [
    "### PyQt\n",
    "\n",
    "TODO\n",
    "\n",
    "#### overview of some widget gallery\n",
    "\n",
    "TODO\n",
    "\n",
    "#### hello world\n",
    "\n",
    "\n",
    "``` python\n",
    "\n",
    "from PyQt5.QtWidgets import QApplication, QLabel, QMainWindow\n",
    "\n",
    "app = QApplication([])\n",
    "\n",
    "main_window = QMainWindow()\n",
    "\n",
    "first_widget = QLabel('hello world', parent=main_window)\n",
    "main_window.setCentralWidget(first_widget)\n",
    "main_window.show()\n",
    "app.exec_()\n",
    "```\n"
   ]
  },
  {
   "cell_type": "markdown",
   "metadata": {},
   "source": [
    "We can execute some QApplication in a notbook locally using `%gui qt` magic"
   ]
  },
  {
   "cell_type": "code",
   "execution_count": null,
   "metadata": {},
   "outputs": [],
   "source": [
    "%gui qt\n",
    "\n",
    "from PyQt5.QtWidgets import QApplication, QLabel, QMainWindow\n",
    "\n",
    "app = QApplication([])\n",
    "\n",
    "main_window = QMainWindow()\n",
    "first_widget = QLabel('hello world !!!', parent=main_window)\n",
    "main_window.setCentralWidget(first_widget)\n",
    "main_window.show()\n",
    "\n",
    "app.exec_()"
   ]
  },
  {
   "cell_type": "markdown",
   "metadata": {},
   "source": [
    "### layout\n",
    "\n",
    "TODO\n",
    "\n",
    "### advanced hello world\n",
    "\n",
    "Define the following widget:\n",
    "\n",
    "The design is the following one:\n",
    "\n",
    "Now change the layout for a QVBoxLayout().\n",
    "See GridLayout ...\n",
    "\n",
    "\n",
    "\n",
    "## Learning by example: create an interface for Laue pattern\n",
    "\n",
    "TODO: add a screenshot of the final widget\n",
    "\n",
    "### create the formula\n",
    "### add a button\n",
    "### add callback\n",
    "### add a QMessageDialog if an input value is invalid (fail to cast to\n",
    "float for example).\n",
    "### add a QDoubleValidator\n",
    "### add a buttons to load and save data from / to a file.\n",
    "     -> Using QfileDialog, speak about silx DataDialog\n",
    "### propose a second solution using toolbar. QAction (or set it in home work)\n",
    "### add icons on buttons\n",
    "### move the formula into a dedicated widget. Play with Margins,\n",
    "setContentMargins\n",
    "### add some events ?\n",
    "### find a way to use a checkButton or radio button (activate complex\n",
    "mode / QDouble validator)\n",
    "### Do the same interface using qtcreator and make the connection\n"
   ]
  },
  {
   "cell_type": "code",
   "execution_count": null,
   "metadata": {},
   "outputs": [],
   "source": []
  }
 ],
 "metadata": {
  "kernelspec": {
   "display_name": "Python 3",
   "language": "python",
   "name": "python3"
  },
  "language_info": {
   "codemirror_mode": {
    "name": "ipython",
    "version": 3
   },
   "file_extension": ".py",
   "mimetype": "text/x-python",
   "name": "python",
   "nbconvert_exporter": "python",
   "pygments_lexer": "ipython3",
   "version": "3.5.2"
  }
 },
 "nbformat": 4,
 "nbformat_minor": 2
}
