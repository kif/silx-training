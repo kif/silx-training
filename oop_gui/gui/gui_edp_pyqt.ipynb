{
 "cells": [
  {
   "cell_type": "code",
   "execution_count": null,
   "metadata": {},
   "outputs": [],
   "source": []
  },
  {
   "cell_type": "markdown",
   "metadata": {},
   "source": [
    "# Developing GUI using PyQt5\n",
    "\n",
    "## GUI developmnent\n",
    "\n",
    "Gui developmnent are object oriented.\n",
    "\n",
    "\n",
    "### Architecture\n",
    "### Event-driven programming\n",
    "\n",
    "The flow of the program is determined by events (mouse clicks, key presses).\n",
    "The user is no more at the program service but the program is serving the user.\n",
    "Hollywood principle: \"Don't call us, we'll call you\"\n",
    "The program is at your service and not the \n"
   ]
  },
  {
   "cell_type": "markdown",
   "metadata": {},
   "source": [
    "## Qt and PyQt overview\n",
    "\n",
    "### Qt\n",
    "\n",
    "Qt is a free and open-source widget toolkit for creating graphical user interfaces.\n",
    "As a victim of its own success thanks it is also used for developing cross-platform applications.\n",
    "\n",
    "Written in c++, we are now in the 5th version, waiting for the 6th version.\n",
    "\n",
    "![qt](images/qt_icon.png)\n",
    "\n",
    "\n",
    "Qt is divided into several basic modules. The main modules for gui are:\n",
    "\n",
    "* Qt Core: Provides core non-GUI functionality, like signal and slots, properties, base classes of item models, serialization, etc.\n",
    "* Qt Gui: Extends QtCore with GUI functionality: Events, windows and screens, OpenGL and raster-based 2D painting, images.\n",
    "* Qt Widgets: Provides ready to use Widgets for your application, including also graphical elements for your UI.\n",
    "\n",
    "\n",
    "#### QApplication\n",
    "\n",
    "The QApplication specializes QGuiApplication with some functionality needed for QWidget -based applications. It handles widget specific initialization, finalization.\n",
    "\n",
    "No matter the number of windows, gui... there is only one QApplication object.\n",
    "\n",
    "It also manage the Signal / Event that you will see later."
   ]
  },
  {
   "cell_type": "code",
   "execution_count": null,
   "metadata": {},
   "outputs": [],
   "source": [
    "%gui qt\n",
    "\n",
    "from PyQt5.QtWidgets import QApplication, QLabel\n",
    "first_widget = QLabel('hello world')\n",
    "first_widget.show()"
   ]
  },
  {
   "cell_type": "markdown",
   "metadata": {},
   "source": [
    "### PyQt\n",
    "\n",
    "Due to it sucess and python sucess, bindings have been developed for Qt: PyQt5 for Qt5, PyQt4 for Qt4. Now Qt is also starting of developping is own: PySide2. But development is on going.\n",
    "\n",
    "This permits users to access the power of Qt with the python 'abstraction'.\n",
    "\n",
    "#### overview of some widget gallery\n",
    "\n",
    "Qt is presenting some widget gallery: https://doc.qt.io/qt-5/gallery.html\n",
    "\n",
    "\n",
    "#### hello world\n",
    "\n",
    "\n",
    "``` python\n",
    "\n",
    "from PyQt5.QtWidgets import QApplication, QLabel, QMainWindow\n",
    "\n",
    "app = QApplication([])\n",
    "\n",
    "main_window = QMainWindow()\n",
    "\n",
    "first_widget = QLabel('hello world', parent=main_window)\n",
    "main_window.setCentralWidget(first_widget)\n",
    "main_window.show()\n",
    "app.exec_()\n",
    "```\n"
   ]
  },
  {
   "cell_type": "markdown",
   "metadata": {},
   "source": [
    "We can execute some QApplication in a notbook locally using `%gui qt` magic"
   ]
  },
  {
   "cell_type": "code",
   "execution_count": null,
   "metadata": {},
   "outputs": [],
   "source": [
    "%gui qt\n",
    "\n",
    "from PyQt5.QtWidgets import QApplication, QLabel, QMainWindow\n",
    "\n",
    "app = QApplication([])\n",
    "\n",
    "main_window = QMainWindow()\n",
    "first_widget = QLabel('hello world !!!', parent=main_window)\n",
    "main_window.setCentralWidget(first_widget)\n",
    "main_window.show()\n",
    "\n",
    "app.exec_()"
   ]
  },
  {
   "cell_type": "markdown",
   "metadata": {
    "slideshow": {
     "slide_type": "slide"
    }
   },
   "source": [
    "# Widgets TODO\n",
    "\n",
    "- Basic widgets: QLabel, QLineEdit, buttons, combobox, TODO etc\n",
    "- Dialog: QMessageBox, QFileDialog TODO etc\n",
    "- Advanced widgets (not covered today) TODO list, tree"
   ]
  },
  {
   "cell_type": "markdown",
   "metadata": {
    "slideshow": {
     "slide_type": "slide"
    }
   },
   "source": [
    "# Assembling widgets\n",
    "\n",
    "How to go from single widgets to a consistent graphical user interface.\n",
    "\n",
    "Objective: Describe and manage the geometric imbrication of widgets:\n",
    "\n",
    "- Container widgets\n",
    "- Layout"
   ]
  },
  {
   "cell_type": "code",
   "execution_count": null,
   "metadata": {},
   "outputs": [],
   "source": [
    "# This creates the QApplication\n",
    "%gui qt\n",
    "\n",
    "from PyQt5 import Qt"
   ]
  },
  {
   "cell_type": "markdown",
   "metadata": {
    "slideshow": {
     "slide_type": "slide"
    }
   },
   "source": [
    "![pyMCA](images/pymca_gui.png)"
   ]
  },
  {
   "cell_type": "markdown",
   "metadata": {
    "slideshow": {
     "slide_type": "slide"
    }
   },
   "source": [
    "## Container widgets\n",
    "\n",
    "- [QMainWindow](https://doc.qt.io/qt-5/qmainwindow.html): Main application window\n",
    "\n",
    "\n",
    "- [QSplitter](https://doc.qt.io/qt-5/qsplitter.html): Lets the user control the size of child widgets\n",
    "- [QStackedWidget](https://doc.qt.io/qt-5/qstackedwidget.html): Stack of widgets where only one widget is visible at a time\n",
    "- [QTabWidget](https://doc.qt.io/qt-5/qtabwidget.html): Stack of tabbed widgets"
   ]
  },
  {
   "cell_type": "markdown",
   "metadata": {
    "slideshow": {
     "slide_type": "slide"
    }
   },
   "source": [
    "### QMainWindow: Main application window\n",
    "\n",
    "Layout:\n",
    "![QMainWindow layout](https://doc.qt.io/qt-5/images/mainwindowlayout.png)\n",
    "\n",
    "Example:\n",
    "![QMainWindow example](images/QMainWindow.png)\n",
    "\n",
    "Set the central widget: [QMainWindow.setCentralWidget](https://doc.qt.io/qt-5/qmainwindow.html#setCentralWidget)\n",
    "\n",
    "Documentation: https://doc.qt.io/qt-5/qmainwindow.html"
   ]
  },
  {
   "cell_type": "markdown",
   "metadata": {
    "slideshow": {
     "slide_type": "slide"
    }
   },
   "source": [
    "#### QMainWindow example"
   ]
  },
  {
   "cell_type": "code",
   "execution_count": null,
   "metadata": {},
   "outputs": [],
   "source": [
    "window = Qt.QMainWindow()\n",
    "\n",
    "# Set central widget\n",
    "label = Qt.QTextEdit(\"Type text here\")\n",
    "window.setCentralWidget(label)\n",
    "\n",
    "# Add menu\n",
    "menuBar = window.menuBar()\n",
    "fileMenu = menuBar.addMenu(\"File\")\n",
    "editMenu = menuBar.addMenu(\"Edit\")\n",
    "\n",
    "# Add a toolbar\n",
    "toolBar = window.addToolBar(\"Toolbar\")\n",
    "toolBar.addAction(Qt.QIcon.fromTheme(\"edit-undo\"), \"Undo\")\n",
    "toolBar.addAction(Qt.QIcon.fromTheme(\"edit-redo\"), \"Redo\")\n",
    "\n",
    "# Add a dock widget\n",
    "dock = Qt.QDockWidget(\"Dock\")\n",
    "window.addDockWidget(Qt.Qt.RightDockWidgetArea, dock)\n",
    "\n",
    "# Use status bar\n",
    "window.statusBar().showMessage(\"Current status\")\n",
    "\n",
    "window.show()"
   ]
  },
  {
   "cell_type": "markdown",
   "metadata": {
    "slideshow": {
     "slide_type": "slide"
    }
   },
   "source": [
    "## QWidget's layout\n",
    "\n",
    "[QWidget](https://doc.qt.io/qt-5/qwidget.html) base class can be used as a container with configurable layout (through the [QWidget.setLayout](https://doc.qt.io/qt-5/qwidget.html#setLayout) method).\n",
    "\n",
    "The layout is responsible for automatically allocating space for each child widget of a QWidget.\n",
    "\n",
    "Layouts are classes that inherit from [QLayout](https://doc.qt.io/qt-5/qlayout.html).\n",
    "\n",
    "This defines a spatial tree structure of widgets.\n",
    "\n",
    "We have 2 different hierarchical structures: the class inheritance and the widget spatial imbrication."
   ]
  },
  {
   "cell_type": "markdown",
   "metadata": {
    "slideshow": {
     "slide_type": "slide"
    }
   },
   "source": [
    "### Basic layouts: Horizontal and vertical\n",
    "\n",
    "- [QHBoxLayout](https://doc.qt.io/qt-5/qhboxlayout.html): Lines up widgets horizontally\n",
    "  ![QHBoxLayout](images/QHBoxLayout.png)\n",
    "- [QVBoxLayout](https://doc.qt.io/qt-5/qvboxlayout.html): Lines up widgets vertically\n",
    "  ![QVBoxLayout](images/QVBoxLayout.png)\n",
    "- [QBoxLayout](https://doc.qt.io/qt-5/qboxlayout.html): Lines up child widgets horizontally or vertically.\n",
    "  The [setDirection](https://doc.qt.io/qt-5/qboxlayout.html#setDirection) method allows to change it.\n",
    "\n",
    "To populate the layout, use:\n",
    "- [QBoxLayout.addWidget](https://doc.qt.io/qt-5/qboxlayout.html#addWidget)(widget, stretch=0): Appends a widget to the end of the layout\n",
    "- [QBoxLayout.addStrech](https://doc.qt.io/qt-5/qboxlayout.html#addStretch)(strech=0): Adds a stretchable empty space\n",
    " "
   ]
  },
  {
   "cell_type": "markdown",
   "metadata": {
    "slideshow": {
     "slide_type": "slide"
    }
   },
   "source": [
    "#### QBoxLayout example"
   ]
  },
  {
   "cell_type": "code",
   "execution_count": null,
   "metadata": {
    "slideshow": {
     "slide_type": "-"
    }
   },
   "outputs": [],
   "source": [
    "widget = Qt.QWidget()  # Container widget\n",
    "# Child widgets\n",
    "label = Qt.QLabel(\"Value:\")\n",
    "lineEdit = Qt.QLineEdit(\"0\")\n",
    "button = Qt.QPushButton(\"Done\")\n",
    "\n",
    "# Create layout and add widgets to it\n",
    "layout = Qt.QVBoxLayout()\n",
    "# or: layout = Qt.QVBoxLayout()\n",
    "\n",
    "layout.addWidget(label)\n",
    "layout.addWidget(lineEdit)\n",
    "layout.addWidget(button)\n",
    "# layout.addStretch(1)  # Add a stretch area to improve resizing\n",
    "\n",
    "# set the widget's layout\n",
    "widget.setLayout(layout)\n",
    "\n",
    "widget.show()"
   ]
  },
  {
   "cell_type": "markdown",
   "metadata": {
    "slideshow": {
     "slide_type": "slide"
    }
   },
   "source": [
    "### Advanced layouts : Grid and stack\n",
    "\n",
    "- [QGridLayout](https://doc.qt.io/qt-5/qgridlayout.html): lays out widgets in a grid\n",
    "\n",
    "  To populate the layout, use the [`addWidget(widget, row, column, rowSpan, columnSpan)`](https://doc.qt.io/qt-5/qgridlayout.html#addWidget) method.\n",
    "  ![](images/QGridLayout.svg)\n",
    "  \n",
    "- [QFormLayout](https://doc.qt.io/qt-5/qformlayout.html): lays out widgets in a 2 columns grid\n",
    "\n",
    "  To populate the layout, use the [`addRow(label, widget)`](https://doc.qt.io/qt-5/qformlayout.html#addRow) or [`addRow(widget)`](https://doc.qt.io/qt-5/qformlayout.html#addRow-4) method.\n",
    "  ![](images/QFormLayout.svg)\n",
    "  \n",
    "- [QStackedLayout](https://doc.qt.io/qt-5/qstackedlayout.html): stack of widgets where only one widget is visible at a time"
   ]
  },
  {
   "cell_type": "markdown",
   "metadata": {
    "slideshow": {
     "slide_type": "slide"
    }
   },
   "source": [
    "#### QGridLayout example"
   ]
  },
  {
   "cell_type": "code",
   "execution_count": null,
   "metadata": {
    "slideshow": {
     "slide_type": "-"
    }
   },
   "outputs": [],
   "source": [
    "widget = Qt.QWidget()  # Container widget\n",
    "# Child widgets\n",
    "label = Qt.QLabel(\"Range:\")\n",
    "beginLineEdit = Qt.QLineEdit(\"0\")\n",
    "endLineEdit = Qt.QLineEdit(\"1\")\n",
    "button = Qt.QPushButton(\"Done\")\n",
    "\n",
    "# Create layout and add widgets to it\n",
    "layout = Qt.QGridLayout()\n",
    "\n",
    "layout.addWidget(label, 0, 0)\n",
    "layout.addWidget(beginLineEdit, 0, 1)\n",
    "layout.addWidget(endLineEdit, 0, 2)\n",
    "layout.addWidget(button, 1, 0, 1, 3)\n",
    "\n",
    "# set the widget's layout\n",
    "widget.setLayout(layout)\n",
    "\n",
    "widget.show()"
   ]
  },
  {
   "cell_type": "markdown",
   "metadata": {
    "slideshow": {
     "slide_type": "slide"
    }
   },
   "source": [
    "#### QFormLayout example"
   ]
  },
  {
   "cell_type": "code",
   "execution_count": null,
   "metadata": {
    "slideshow": {
     "slide_type": "-"
    }
   },
   "outputs": [],
   "source": [
    "widget = Qt.QWidget()  # Container widget\n",
    "# Child widgets\n",
    "beginLineEdit = Qt.QLineEdit(\"0\", parent=widget)\n",
    "endLineEdit = Qt.QLineEdit(\"1\", parent=widget)\n",
    "button = Qt.QPushButton(\"Done\", parent=widget)\n",
    "\n",
    "# Create layout and add widgets to it\n",
    "layout = Qt.QFormLayout(parent=widget)  # Give the parent\n",
    "\n",
    "layout.addRow(\"Min:\", beginLineEdit)\n",
    "layout.addRow(\"Max:\", endLineEdit)\n",
    "layout.addRow(button)\n",
    "\n",
    "widget.show()"
   ]
  },
  {
   "cell_type": "code",
   "execution_count": null,
   "metadata": {
    "slideshow": {
     "slide_type": "slide"
    }
   },
   "outputs": [],
   "source": [
    "# Alternative: inherit from QWidget\n",
    "class Form(Qt.QWidget):\n",
    "    def __init__(self, parent=None):\n",
    "        super(Form, self).__init__(parent)\n",
    "        beginLineEdit = Qt.QLineEdit(\"0\", parent=widget)\n",
    "        endLineEdit = Qt.QLineEdit(\"1\", parent=widget)\n",
    "        button = Qt.QPushButton(\"Done\", parent=widget)\n",
    "\n",
    "        # Create layout and add widgets to it\n",
    "        layout = Qt.QFormLayout(parent=self)  # Give the parent is same as setLayout\n",
    "\n",
    "        layout.addRow(\"Min:\", beginLineEdit)\n",
    "        layout.addRow(\"Max:\", endLineEdit)\n",
    "        layout.addRow(button)\n",
    "\n",
    "widget = Form()\n",
    "widget.show()"
   ]
  },
  {
   "cell_type": "markdown",
   "metadata": {
    "slideshow": {
     "slide_type": "slide"
    }
   },
   "source": [
    "### Nested layout\n",
    "\n",
    "For complex widget imbrication, you can use a hierarchy of widgets, each having a different layout.\n",
    "\n",
    "It is also possible to nest layouts within each other (e.g., with [QBoxLayout.addLayout](https://doc.qt.io/qt-5/qboxlayout.html#addLayout))."
   ]
  },
  {
   "cell_type": "code",
   "execution_count": null,
   "metadata": {
    "slideshow": {
     "slide_type": "slide"
    }
   },
   "outputs": [],
   "source": [
    "class NestedBoxLayout(Qt.QWidget):\n",
    "    def __init__(self, parent=None):\n",
    "        super(NestedBoxLayout, self).__init__(parent)\n",
    "        label = Qt.QLabel(\"Range:\")\n",
    "        beginLineEdit = Qt.QLineEdit(\"0\")\n",
    "        endLineEdit = Qt.QLineEdit(\"1\")\n",
    "        button = Qt.QPushButton(\"Done\")\n",
    "\n",
    "        # Create layout and add widgets to it\n",
    "        layout = Qt.QVBoxLayout(self)\n",
    "\n",
    "        layout.addWidget(label)\n",
    "\n",
    "        # Adding a nested horizontal layout\n",
    "        horizontalLayout = Qt.QHBoxLayout()\n",
    "        layout.addLayout(horizontalLayout)\n",
    "\n",
    "        horizontalLayout.addWidget(beginLineEdit)\n",
    "        horizontalLayout.addWidget(endLineEdit)\n",
    "\n",
    "        layout.addWidget(button)\n",
    "        layout.addStretch(1)\n",
    "\n",
    "widget = NestedBoxLayout()\n",
    "widget.show()"
   ]
  },
  {
   "cell_type": "markdown",
   "metadata": {
    "slideshow": {
     "slide_type": "slide"
    }
   },
   "source": [
    "### Layout processus\n",
    "\n",
    "Each widget advertises:\n",
    "- some spatial request: [sizeHint](https://doc.qt.io/qt-5/qwidget.html#sizeHint-prop), [minimumSizeHint](https://doc.qt.io/qt-5/qwidget.html#minimumSizeHint-prop), [minimumSize](https://doc.qt.io/qt-5/qwidget.html#minimumSize-prop),\n",
    "[maximumSize](https://doc.qt.io/qt-5/qwidget.html#maximumSize-prop)\n",
    "- how it accepts to be resized: [sizePolicy](https://doc.qt.io/qt-5/qwidget.html#sizePolicy-prop)\n",
    "\n",
    "The layout manager takes this information into account to allocate a rectangle to each child widget.\n",
    "\n",
    "Documentation on layout: https://doc.qt.io/qt-5/layout.html\n"
   ]
  },
  {
   "cell_type": "markdown",
   "metadata": {
    "slideshow": {
     "slide_type": "slide"
    }
   },
   "source": [
    "### QWidget parent\n",
    "\n",
    "When a QWidget **A** is added to another QWidget **B** or to its layout, **B** becomes automatically the parent of **A**.\n",
    "\n",
    "To get the current QWidget parent, use the [QObject.parent](https://doc.qt.io/qt-5/qobject.html#parent) method.\n"
   ]
  },
  {
   "cell_type": "code",
   "execution_count": null,
   "metadata": {
    "scrolled": true,
    "slideshow": {
     "slide_type": "fragment"
    }
   },
   "outputs": [],
   "source": [
    "label = Qt.QLabel(\"Text\")  # Create a label\n",
    "print(\"label's parent:\", label.parent())"
   ]
  },
  {
   "cell_type": "code",
   "execution_count": null,
   "metadata": {
    "slideshow": {
     "slide_type": "fragment"
    }
   },
   "outputs": [],
   "source": [
    "# Add the label to a QWidget\n",
    "window = Qt.QMainWindow()\n",
    "window.setCentralWidget(label)\n",
    "print(\"label's parent:\", label.parent())\n",
    "label.parent() is window"
   ]
  },
  {
   "cell_type": "markdown",
   "metadata": {
    "slideshow": {
     "slide_type": "slide"
    }
   },
   "source": [
    "### (Py)Qt object instance destruction\n",
    "\n",
    "With Qt, the object parenting used for layout also handles the life-cycle (i.e., automatic destruction) of widget instances.\n",
    "\n",
    "When a widget is destroyed, all its children are also destroyed...\n",
    "\n",
    "With PyQt, this raises an issue as Python is also handling the life-cycle of instances (with reference counting)."
   ]
  },
  {
   "cell_type": "code",
   "execution_count": null,
   "metadata": {
    "slideshow": {
     "slide_type": "fragment"
    }
   },
   "outputs": [],
   "source": [
    "del window\n",
    "print(\"label:\", label)\n",
    "label.show()"
   ]
  },
  {
   "cell_type": "markdown",
   "metadata": {
    "slideshow": {
     "slide_type": "slide"
    }
   },
   "source": [
    "### (Py)Qt object instance destruction\n",
    "\n",
    "A QWidget is a C++ Qt object.\n",
    "To be accessible from Python, it is wrapped in a Python object by PyQt.\n",
    "\n",
    "The destruction of the Python PyQt object instance is handled by Python.\n",
    "\n",
    "The destruction of the C++ Qt object instance is handled by:\n",
    "- **Python** if its `parent` is `None`.\n",
    "- **Qt** if its `parent` is **not** `None`."
   ]
  },
  {
   "cell_type": "markdown",
   "metadata": {
    "slideshow": {
     "slide_type": "slide"
    }
   },
   "source": [
    "## Exercice: layout\n",
    "\n",
    "Write a form widget which allows the user to provide parameters for the calculation of the diffraction image obtained from a 2D square cristal using the Laue formula seen earlier.\n",
    "\n",
    "The parameters are:\n",
    "\n",
    "- Number of unit cells (integer)\n",
    "- Oversampling factor (integer >= 2)\n",
    "- H (float)\n",
    "- K (float)\n",
    "\n",
    "Add a `\"Done\"` button.\n",
    "\n",
    "TODO add a drawing of the form here.\n",
    "\n",
    "Hint: You can create such form with a QWidget with a QFormLayout, QLineEdit widgets (and eventually QLabels) and a QPushButton.\n",
    "\n",
    "\n",
    "TODO read-back parameters from console"
   ]
  },
  {
   "cell_type": "markdown",
   "metadata": {
    "slideshow": {
     "slide_type": "slide"
    }
   },
   "source": [
    "# Signal/slot and events TODO\n",
    "\n",
    "- Signal: principle, usage, declaration\n",
    "- Slot: Just a word (meaningless in PyQt)\n",
    "- Events: Justa word and an example\n"
   ]
  },
  {
   "cell_type": "markdown",
   "metadata": {
    "slideshow": {
     "slide_type": "slide"
    }
   },
   "source": [
    "## Exercice: signal\n",
    "\n",
    "Use the QPushButton signal emitted when the user click on the button to trigger the computation of the Laue formulae with the given parameters."
   ]
  },
  {
   "cell_type": "markdown",
   "metadata": {
    "slideshow": {
     "slide_type": "slide"
    }
   },
   "source": [
    "\n",
    "### advanced hello world\n",
    "\n",
    "Define the following widget:\n",
    "\n",
    "The design is the following one:\n",
    "\n",
    "Now change the layout for a QVBoxLayout().\n",
    "See GridLayout ...\n",
    "\n",
    "\n",
    "\n",
    "## Learning by example: create an interface for Laue pattern\n",
    "\n",
    "TODO: add a screenshot of the final widget\n",
    "\n",
    "### create the formula\n",
    "### add a button\n",
    "### add callback\n",
    "### add a QMessageDialog if an input value is invalid (fail to cast to\n",
    "float for example).\n",
    "### add a QDoubleValidator\n",
    "### add a buttons to load and save data from / to a file.\n",
    "     -> Using QfileDialog, speak about silx DataDialog\n",
    "### propose a second solution using toolbar. QAction (or set it in home work)\n",
    "### add icons on buttons\n",
    "### move the formula into a dedicated widget. Play with Margins,\n",
    "setContentMargins\n",
    "### add some events ?\n",
    "### find a way to use a checkButton or radio button (activate complex\n",
    "mode / QDouble validator)\n",
    "### Do the same interface using qtcreator and make the connection\n"
   ]
  },
  {
   "cell_type": "markdown",
   "metadata": {},
   "source": [
    "Extra materials:\n",
    "\n",
    "some pyqt5 tutorials: https://pythonspot.com/gui/"
   ]
  },
  {
   "cell_type": "code",
   "execution_count": null,
   "metadata": {},
   "outputs": [],
   "source": []
  }
 ],
 "metadata": {
  "celltoolbar": "Slideshow",
  "kernelspec": {
   "display_name": "Python 3",
   "language": "python",
   "name": "python3"
  },
  "language_info": {
   "codemirror_mode": {
    "name": "ipython",
    "version": 3
   },
   "file_extension": ".py",
   "mimetype": "text/x-python",
   "name": "python",
   "nbconvert_exporter": "python",
   "pygments_lexer": "ipython3",
   "version": "3.4.2"
  }
 },
 "nbformat": 4,
 "nbformat_minor": 2
}
