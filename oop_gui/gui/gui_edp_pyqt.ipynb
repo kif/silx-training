{
 "cells": [
  {
   "cell_type": "markdown",
   "metadata": {
    "slideshow": {
     "slide_type": "slide"
    }
   },
   "source": [
    "# Developing GUI using PyQt5\n",
    "\n",
    "## GUI developmnent\n",
    "\n",
    "Gui developmnent are object oriented.\n",
    "\n",
    "\n",
    "### Architecture\n",
    "### Event-driven programming\n",
    "\n",
    "The flow of the program is determined by events (mouse clicks, key presses).\n",
    "The user is no more at the program service but the program is serving the user.\n",
    "Hollywood principle: \"Don't call us, we'll call you\"\n",
    "The program is at your service and not the \n"
   ]
  },
  {
   "cell_type": "markdown",
   "metadata": {
    "slideshow": {
     "slide_type": "slide"
    }
   },
   "source": [
    "## Qt and PyQt overview\n",
    "\n",
    "### PyQt\n",
    "\n",
    "Due to it sucess and python sucess, bindings have been developed for Qt: PyQt5 for Qt5, PyQt4 for Qt4. Now Qt is also starting of developping is own: PySide2. But development is on going.\n",
    "\n",
    "This permits users to access the power of Qt with the python 'abstraction'.\n",
    "\n",
    "Due to the documentation quality of pyqt5 and Qt, we are usuelly refering to the Qt documentation.\n",
    "Do not worry, most of the API is the same.\n",
    "\n",
    "* [pyqt5 on pypi](https://pypi.org/project/PyQt5/)\n",
    "* [pyqt5 official site](https://www.riverbankcomputing.com/software/pyqt/)\n",
    "\n",
    "### PySide\n",
    "\n",
    "A consequence of the PyQt sucess, Qt is now developping is own binding ['PySide(2)'](https://wiki.qt.io/Qt_for_Python) that have more and more users.\n",
    "\n",
    "If you want to have some comparaison between the two, you can read https://machinekoder.com/pyqt-vs-qt-for-python-pyside2-pyside/\n",
    "\n",
    "\n",
    "### Qt\n",
    "\n",
    "Qt is a free and open-source widget toolkit for creating graphical user interfaces.\n",
    "As a victim of its own success thanks it is also used for developing cross-platform applications.\n",
    "\n",
    "Written in c++, we are now in the 5th version, waiting for the 6th version.\n",
    "\n",
    "![qt](images/qt_icon.png)\n",
    "\n",
    "\n",
    "Qt is divided into several basic modules. The main modules for gui are:\n",
    "\n",
    "* Qt Core: Provides core non-GUI functionality, like signal and slots, properties, base classes of item models, serialization, etc.\n",
    "* Qt Gui: Extends QtCore with GUI functionality: Events, windows and screens, OpenGL and raster-based 2D painting, images.\n",
    "* Qt Widgets: Provides ready to use Widgets for your application, including also graphical elements for your UI.\n"
   ]
  },
  {
   "cell_type": "markdown",
   "metadata": {
    "slideshow": {
     "slide_type": "subslide"
    }
   },
   "source": [
    "### QApplication\n",
    "\n",
    "The QApplication manages GUI application control flow and relationshhip with the OS.\n",
    "\n",
    "* widget specific initialization, finalization.\n",
    "* settings (widget style...) within relation with the OS\n",
    "* events from the OS (click, key / mouse events...)\n",
    "* Qt signal / slot (detailled later)\n",
    "\n",
    "**note: no matter the number of windows, gui... there is only one QApplication object.**\n",
    "\n",
    "More details: https://doc.qt.io/qt-5/qapplication.html#details"
   ]
  },
  {
   "cell_type": "markdown",
   "metadata": {
    "slideshow": {
     "slide_type": "fragment"
    }
   },
   "source": [
    "Here is the simplest code possible for executing the QApplication\n",
    "\n",
    "``` python\n",
    "from PyQt5.QtWidgets import QApplication, QLabel, QMainWindow\n",
    "\n",
    "app = QApplication([])\n",
    "\n",
    "# ...\n",
    "\n",
    "app.exec_()\n",
    "\n",
    "```"
   ]
  },
  {
   "cell_type": "markdown",
   "metadata": {
    "slideshow": {
     "slide_type": "subslide"
    }
   },
   "source": [
    "### QObject\n",
    "\n",
    "Main Qt classes are inheriting from the QObject class.\n",
    "\n",
    "This class allows instances to communicate using the **signals and slots** communication. Which is central in the Qt design.\n",
    "\n",
    "This will permits Object to react to some information (button pressed...)\n",
    "\n",
    "**The instanciation of any QObject requires the creation of a QApplication**\n",
    "\n",
    "To see the interest and behavior of the signal / slot communication we can see the implementation of the observer pattern with QObject.\n",
    "\n",
    "![signal slot example](images/signal_slot_observer.png)\n",
    "\n",
    "The creation of a connection between two qobject is made using **connect**. You can remove the connection using **disconnect**"
   ]
  },
  {
   "cell_type": "markdown",
   "metadata": {
    "slideshow": {
     "slide_type": "subslide"
    }
   },
   "source": [
    "``` python\n",
    "\n",
    "subject_object.signal1.connect(observer_object.slot)\n",
    "\n",
    "...\n",
    "\n",
    "subject_object.signal1.disconnect(observer_object.slot)\n",
    "\n",
    "```"
   ]
  },
  {
   "cell_type": "markdown",
   "metadata": {
    "slideshow": {
     "slide_type": "fragment"
    }
   },
   "source": [
    "The 'pyqt' implementation looks like:"
   ]
  },
  {
   "cell_type": "code",
   "execution_count": null,
   "metadata": {
    "slideshow": {
     "slide_type": "subslide"
    }
   },
   "outputs": [],
   "source": [
    "%gui qt\n",
    "\n",
    "from PyQt5.QtCore import QObject, pyqtSignal\n",
    "from PyQt5.QtWidgets import QApplication\n",
    "\n",
    "\n",
    "class Observer(QObject):\n",
    "    \"\"\"Simple QObject, observing the state of a Subject\"\"\"\n",
    "    def __init__(self, name):\n",
    "        QObject.__init__(self)\n",
    "        self.name = name\n",
    "\n",
    "    def subjectObserveChangedHandler(self, state):\n",
    "        print('Observer ', self.name,\n",
    "            ' has been informed that subject has now state', state)\n",
    "\n",
    "\n",
    "class Subject(QObject):\n",
    "    \"\"\"Simple QObject with a state\"\"\"\n",
    "    sigStateChanged = pyqtSignal(str)\n",
    "\n",
    "    def setState(self, state):\n",
    "        print('subject state changed to', state)\n",
    "        self.sigStateChanged.emit(state)\n",
    "\n",
    "\n",
    "\n",
    "app = QApplication([])  # in this case we could have use QCoreApplication from QtCore\n",
    "\n",
    "subject = Subject()\n",
    "observer0 = Observer(name='observer0')\n",
    "observer1 = Observer(name='observer1')\n",
    "\n",
    "# connect subject signal with observer slots\n",
    "subject.sigStateChanged.connect(observer0.subjectObserveChangedHandler)\n",
    "subject.sigStateChanged.connect(observer1.subjectObserveChangedHandler)\n",
    "\n",
    "# then change the state of the subject\n",
    "subject.setState('waiting')\n",
    "subject.setState('working')\n",
    "print('----------------------------------------')\n",
    "subject.sigStateChanged.disconnect(observer0.subjectObserveChangedHandler)\n",
    "subject.sigStateChanged.disconnect(observer1.subjectObserveChangedHandler)\n",
    "subject.setState('waiting')\n"
   ]
  },
  {
   "cell_type": "markdown",
   "metadata": {
    "slideshow": {
     "slide_type": "subslide"
    }
   },
   "source": [
    "If you want more details on \n",
    "* QObject: https://doc.qt.io/qt-5/qobject.html#details\n",
    "* signal / slots: https://doc.qt.io/qt-5/signalsandslots.html\n",
    "* connection type: https://doc.qt.io/qt-5/qt.html#ConnectionType-enum"
   ]
  },
  {
   "cell_type": "markdown",
   "metadata": {
    "slideshow": {
     "slide_type": "subslide"
    }
   },
   "source": [
    "### Qt widgets\n",
    "\n",
    "Qt, among other, offers a large range of base widget to create your GUI.\n",
    "The complexity is weel hide behind the QApplication and QObject.\n"
   ]
  },
  {
   "cell_type": "markdown",
   "metadata": {
    "slideshow": {
     "slide_type": "fragment"
    }
   },
   "source": [
    "#### hello world\n",
    "If we want to create a simple label with 'hello word' text:"
   ]
  },
  {
   "cell_type": "code",
   "execution_count": null,
   "metadata": {
    "slideshow": {
     "slide_type": "skip"
    }
   },
   "outputs": [],
   "source": [
    "%gui qt"
   ]
  },
  {
   "cell_type": "code",
   "execution_count": null,
   "metadata": {
    "slideshow": {
     "slide_type": "fragment"
    }
   },
   "outputs": [],
   "source": [
    "%gui qt\n",
    "\n",
    "from PyQt5.QtWidgets import QApplication, QLabel\n",
    "app = QApplication([])\n",
    "\n",
    "first_widget = QLabel('hello world')\n",
    "first_widget.show()"
   ]
  },
  {
   "cell_type": "markdown",
   "metadata": {
    "slideshow": {
     "slide_type": "fragment"
    }
   },
   "source": [
    "We can execute some QApplication in a notbook locally using `%gui qt` magic"
   ]
  },
  {
   "cell_type": "markdown",
   "metadata": {
    "slideshow": {
     "slide_type": "subslide"
    }
   },
   "source": [
    "#### basic qt widgets\n",
    "\n",
    "The QWidget class provides the basic capability to render to the screen, and to handle user input events.\n",
    "Widgets are classes inheriting from [QWidget](https://doc.qt.io/qt-5/qwidget.html).\n",
    "\n",
    "We will present shortly the most used widgets. This part as been take from the official qt widget gallery: https://doc.qt.io/qt-5/gallery.html\n",
    "\n",
    "The qt implementation examples (calendar and styles) using pyqt5 are availables from: https://github.com/baoboa/pyqt5/edit/master/examples/widgets\n"
   ]
  },
  {
   "cell_type": "markdown",
   "metadata": {
    "slideshow": {
     "slide_type": "subslide"
    }
   },
   "source": [
    "![gallery calendar](images/gallery_calendar.png)\n",
    "\n",
    "\n",
    "* (1) [QGroupBox](https://doc.qt.io/qt-5/qgroupbox.html) provides a group box frame with a title.\n",
    "* (2) [QCalendarWidget](https://doc.qt.io/qt-5/qcalendarwidget.html) provides a monthly calendar widget that can be used to select dates.\n",
    "* (3) [QLabel](https://doc.qt.io/qt-5/qlabel.html) provides a text or image display.\n",
    "* (4) [QDateEdit](https://doc.qt.io/qt-5/qdateedit.html) provides a widget for editing dates.\n",
    "* (5) [QComboBox](https://doc.qt.io/qt-5/qcombobox.html) provides a combined button and pop-up list."
   ]
  },
  {
   "cell_type": "markdown",
   "metadata": {
    "slideshow": {
     "slide_type": "subslide"
    }
   },
   "source": [
    "![gallery style](images/gallery_styles.png)\n",
    "\n",
    "* (1)  [QCheckBox](https://doc.qt.io/qt-5/qcheckbox.html) provides a checkbox with a text label.\n",
    "* (2)  [QRadioButton](https://doc.qt.io/qt-5/qradiobutton.html) provides a radio button with a text or pixmap label.\n",
    "* (3)  [QPushButton](https://doc.qt.io/qt-5/qpushbutton.html) provides a command button.\n",
    "* (4)  [QTabWidget](https://doc.qt.io/qt-5/qtabwidget.html) provides a stack of tabbed widgets.\n",
    "* (5)  [QTableWidget](https://doc.qt.io/qt-5/qtablewidget.html) provides a classic item-based table view.\n",
    "* (6)  [QScrollBar](https://doc.qt.io/qt-5/qscrollbar.html) provides a vertical or horizontal scroll bar.\n",
    "* (7)  [QProgressBar](https://doc.qt.io/qt-5/qprogressbar.html) provides a horizontal progress bar.\n",
    "* (8)  [QDateTimeEdit](https://doc.qt.io/qt-5/qdatetimeedit.html) provides a widget for editing dates and times.\n",
    "* (9)  [QSlider](https://doc.qt.io/qt-5/qslider.html) provides a vertical or horizontal slider.\n",
    "* (10) [QDial](https://doc.qt.io/qt-5/qdial.html) provides a rounded range control (like a speedometer or potentiometer).\n",
    "* (11) [QLineEdit](https://doc.qt.io/qt-5/qlineedit.html) provides  a one-line text editor.\n"
   ]
  },
  {
   "cell_type": "markdown",
   "metadata": {},
   "source": [
    "## Exercise: simple QWidget with a QLineEdit\n",
    "\n",
    "complete the *IntLineEdit* such as:\n",
    "\n",
    "* myLabel is an instance of [QLabel](https://doc.qt.io/qt-5/qlabel.html)\n",
    "* myLineEdit is an instance of [QLineEdit](https://doc.qt.io/qt-5/qlineedit.html)\n",
    "* then show this widget\n",
    "* print the value of the [QLineEdit](https://doc.qt.io/qt-5/qlineedit.html)\n",
    "\n",
    "note: the layout *QHBoxLayout* and *setLayout* process will be described later."
   ]
  },
  {
   "cell_type": "code",
   "execution_count": null,
   "metadata": {},
   "outputs": [],
   "source": [
    "from PyQt5.QtWidgets import QWidget, QLineEdit, QLabel, QHBoxLayout\n",
    "\n",
    "class MyWidget(QWidget):\n",
    "    def __init__(self, parent=None):\n",
    "        super(MyWidget, self).__init__(parent)\n",
    "        self.setLayout(QHBoxLayout())\n",
    "        \n",
    "        # instanciation of the QLabel\n",
    "        self.myLabel = ...\n",
    "        # instanciation of the LineEdit\n",
    "        self.myLineEdit = ...\n",
    "        \n",
    "        self.layout().addWidget(self.myLabel)\n",
    "        self.layout().addWidget(self.myLineEdit)\n",
    "\n",
    "        \n",
    "widget = MyWidget()\n",
    "widget.myLineEdit.setText('this is my input')\n",
    "# show the widget\n",
    "...\n",
    "# print the value contained in myLineEdit\n",
    "print(...)"
   ]
  },
  {
   "cell_type": "markdown",
   "metadata": {
    "slideshow": {
     "slide_type": "subslide"
    }
   },
   "source": [
    "#### Dialogs\n",
    "\n",
    "Qt is also providing a set of dialogs.\n",
    "Dialogs are made for *short-term tasks and brief communications with the user*\n",
    "\n",
    "**Dialogs can be modal (blocking) or not.**"
   ]
  },
  {
   "cell_type": "markdown",
   "metadata": {
    "slideshow": {
     "slide_type": "fragment"
    }
   },
   "source": [
    "##### QMessageBox\n",
    "\n",
    "To ask user question or give information you can use a [QMessageBox](https://doc.qt.io/qt-5/qmessagebox.html)"
   ]
  },
  {
   "cell_type": "code",
   "execution_count": null,
   "metadata": {},
   "outputs": [],
   "source": [
    "%gui qt\n",
    "\n",
    "from PyQt5.QtWidgets import QMessageBox, QApplication\n",
    "\n",
    "msg = QMessageBox()\n",
    "msg.setIcon(QMessageBox.Warning)\n",
    "msg.setText(\"This is a warning message\")\n",
    "msg.setInformativeText(\"this message concern QMessageBox\")\n",
    "msg.setWindowTitle(\"MessageBox warning\")\n",
    "msg.setDetailedText(\"Details of the message\")\n",
    "msg.exec_()"
   ]
  },
  {
   "cell_type": "markdown",
   "metadata": {
    "slideshow": {
     "slide_type": "fragment"
    }
   },
   "source": [
    "##### QFileDialog\n",
    "\n",
    "The [QFileDialog](https://doc.qt.io/qt-5/qfiledialog.html) can be used to get file(s) and or folder(s) path, existing or not."
   ]
  },
  {
   "cell_type": "code",
   "execution_count": null,
   "metadata": {
    "slideshow": {
     "slide_type": "fragment"
    }
   },
   "outputs": [],
   "source": [
    "%gui qt\n",
    "\n",
    "dialog = QFileDialog()\n",
    "dialog.setAcceptMode(QFileDialog.AcceptOpen)\n",
    "dialog.setFileMode(QFileDialog.FileMode.ExistingFiles)\n",
    "dialog.setNameFilters([\"py (*.py)\", \"ipynb (*.ipynb)\", \"txt (*.txt)\"])\n",
    "\n",
    "if dialog.exec_():\n",
    "    print('selected files are', dialog.selectedFiles())\n",
    "else:\n",
    "    print('user cancel file selection')"
   ]
  },
  {
   "cell_type": "markdown",
   "metadata": {
    "slideshow": {
     "slide_type": "subslide"
    }
   },
   "source": [
    "#### other dialogs\n",
    "There is other dialogs available in Qt:\n",
    "    \n",
    "* [QColorDialog](https://doc.qt.io/qt-5/qcolordialog.html): dialog widget for specifying colors.\n",
    "* [QErrorMessage](https://doc.qt.io/qt-5/qerrormessage.html): error message display dialog.\n",
    "* [QFontDialog](https://doc.qt.io/qt-5/qfontdialog.html): dialog widget for selecting a font.\n",
    "* [QInputDialog](https://doc.qt.io/qt-5/qinputdialog.html): dialog to get a single value from the user.\n",
    "* [QProgressDialog](https://doc.qt.io/qt-5/qprogressdialog.html): progress of an operation. \n",
    "* [QWizard](https://doc.qt.io/qt-5/qwizard.html): framework for [wizards] (several pages dialogs, see https://doc.qt.io/qt-5/qtwidgets-dialogs-trivialwizard-example.html)."
   ]
  },
  {
   "cell_type": "markdown",
   "metadata": {
    "slideshow": {
     "slide_type": "subslide"
    }
   },
   "source": [
    "#### Advanced widgets\n",
    "\n",
    "\n",
    "![tree from silx view](images/silx_tree.png)\n",
    "\n",
    "\n",
    "There is even more possibilities, like defining trees ([QTreeView](https://doc.qt.io/qt-5/qtreeview.html)), list ([QListWidget](https://doc.qt.io/qt-5/qlistwidget.html))...\n",
    "But his part will not be covered today.\n"
   ]
  },
  {
   "cell_type": "markdown",
   "metadata": {
    "slideshow": {
     "slide_type": "slide"
    }
   },
   "source": [
    "# Assembling widgets\n",
    "\n",
    "How to go from single widgets to a consistent graphical user interface.\n",
    "\n",
    "Objective: Describe and manage the geometric imbrication of widgets:\n",
    "\n",
    "- Container widgets\n",
    "- Layout"
   ]
  },
  {
   "cell_type": "code",
   "execution_count": null,
   "metadata": {},
   "outputs": [],
   "source": [
    "# This creates the QApplication\n",
    "%gui qt\n",
    "\n",
    "from PyQt5 import Qt"
   ]
  },
  {
   "cell_type": "markdown",
   "metadata": {
    "slideshow": {
     "slide_type": "slide"
    }
   },
   "source": [
    "![pyMCA](images/pymca_gui.png)"
   ]
  },
  {
   "cell_type": "markdown",
   "metadata": {
    "slideshow": {
     "slide_type": "slide"
    }
   },
   "source": [
    "## Container widgets\n",
    "\n",
    "- [QMainWindow](https://doc.qt.io/qt-5/qmainwindow.html): Main application window\n",
    "\n",
    "\n",
    "- [QSplitter](https://doc.qt.io/qt-5/qsplitter.html): Lets the user control the size of child widgets\n",
    "- [QStackedWidget](https://doc.qt.io/qt-5/qstackedwidget.html): Stack of widgets where only one widget is visible at a time\n",
    "- [QTabWidget](https://doc.qt.io/qt-5/qtabwidget.html): Stack of tabbed widgets"
   ]
  },
  {
   "cell_type": "markdown",
   "metadata": {
    "slideshow": {
     "slide_type": "slide"
    }
   },
   "source": [
    "### QMainWindow: Main application window\n",
    "\n",
    "Layout:\n",
    "![QMainWindow layout](https://doc.qt.io/qt-5/images/mainwindowlayout.png)\n",
    "\n",
    "Example:\n",
    "![QMainWindow example](images/QMainWindow.png)\n",
    "\n",
    "Set the central widget: [QMainWindow.setCentralWidget](https://doc.qt.io/qt-5/qmainwindow.html#setCentralWidget)\n",
    "\n",
    "Documentation: https://doc.qt.io/qt-5/qmainwindow.html"
   ]
  },
  {
   "cell_type": "markdown",
   "metadata": {
    "slideshow": {
     "slide_type": "slide"
    }
   },
   "source": [
    "#### QMainWindow example"
   ]
  },
  {
   "cell_type": "code",
   "execution_count": null,
   "metadata": {},
   "outputs": [],
   "source": [
    "window = Qt.QMainWindow()\n",
    "\n",
    "# Set central widget\n",
    "label = Qt.QTextEdit(\"Type text here\")\n",
    "window.setCentralWidget(label)\n",
    "\n",
    "# Add menu\n",
    "menuBar = window.menuBar()\n",
    "fileMenu = menuBar.addMenu(\"File\")\n",
    "editMenu = menuBar.addMenu(\"Edit\")\n",
    "\n",
    "# Add a toolbar\n",
    "toolBar = window.addToolBar(\"Toolbar\")\n",
    "toolBar.addAction(Qt.QIcon.fromTheme(\"edit-undo\"), \"Undo\")\n",
    "toolBar.addAction(Qt.QIcon.fromTheme(\"edit-redo\"), \"Redo\")\n",
    "\n",
    "# Add a dock widget\n",
    "dock = Qt.QDockWidget(\"Dock\")\n",
    "window.addDockWidget(Qt.Qt.RightDockWidgetArea, dock)\n",
    "\n",
    "# Use status bar\n",
    "window.statusBar().showMessage(\"Current status\")\n",
    "\n",
    "window.show()"
   ]
  },
  {
   "cell_type": "markdown",
   "metadata": {
    "slideshow": {
     "slide_type": "slide"
    }
   },
   "source": [
    "## QWidget's layout\n",
    "\n",
    "[QWidget](https://doc.qt.io/qt-5/qwidget.html) base class can be used as a container with configurable layout (through the [QWidget.setLayout](https://doc.qt.io/qt-5/qwidget.html#setLayout) method).\n",
    "\n",
    "The layout is responsible for automatically allocating space for each child widget of a QWidget.\n",
    "\n",
    "Layouts are classes that inherit from [QLayout](https://doc.qt.io/qt-5/qlayout.html).\n",
    "\n",
    "This defines a spatial tree structure of widgets.\n",
    "\n",
    "We have 2 different hierarchical structures: the class inheritance and the widget spatial imbrication."
   ]
  },
  {
   "cell_type": "markdown",
   "metadata": {
    "slideshow": {
     "slide_type": "slide"
    }
   },
   "source": [
    "### Basic layouts: Horizontal and vertical\n",
    "\n",
    "- [QHBoxLayout](https://doc.qt.io/qt-5/qhboxlayout.html): Lines up widgets horizontally\n",
    "  ![QHBoxLayout](images/QHBoxLayout.png)\n",
    "- [QVBoxLayout](https://doc.qt.io/qt-5/qvboxlayout.html): Lines up widgets vertically\n",
    "  ![QVBoxLayout](images/QVBoxLayout.png)\n",
    "- [QBoxLayout](https://doc.qt.io/qt-5/qboxlayout.html): Lines up child widgets horizontally or vertically.\n",
    "  The [setDirection](https://doc.qt.io/qt-5/qboxlayout.html#setDirection) method allows to change it.\n",
    "\n",
    "To populate the layout, use:\n",
    "- [QBoxLayout.addWidget](https://doc.qt.io/qt-5/qboxlayout.html#addWidget)(widget, stretch=0): Appends a widget to the end of the layout\n",
    "- [QBoxLayout.addStrech](https://doc.qt.io/qt-5/qboxlayout.html#addStretch)(strech=0): Adds a stretchable empty space\n",
    " "
   ]
  },
  {
   "cell_type": "markdown",
   "metadata": {
    "slideshow": {
     "slide_type": "slide"
    }
   },
   "source": [
    "#### QBoxLayout example"
   ]
  },
  {
   "cell_type": "code",
   "execution_count": null,
   "metadata": {
    "slideshow": {
     "slide_type": "-"
    }
   },
   "outputs": [],
   "source": [
    "widget = Qt.QWidget()  # Container widget\n",
    "# Child widgets\n",
    "label = Qt.QLabel(\"Value:\")\n",
    "lineEdit = Qt.QLineEdit(\"0\")\n",
    "button = Qt.QPushButton(\"Done\")\n",
    "\n",
    "# Create layout and add widgets to it\n",
    "layout = Qt.QVBoxLayout()\n",
    "# or: layout = Qt.QVBoxLayout()\n",
    "\n",
    "layout.addWidget(label)\n",
    "layout.addWidget(lineEdit)\n",
    "layout.addWidget(button)\n",
    "# layout.addStretch(1)  # Add a stretch area to improve resizing\n",
    "\n",
    "# set the widget's layout\n",
    "widget.setLayout(layout)\n",
    "\n",
    "widget.show()"
   ]
  },
  {
   "cell_type": "markdown",
   "metadata": {
    "slideshow": {
     "slide_type": "slide"
    }
   },
   "source": [
    "### Advanced layouts : Grid and stack\n",
    "\n",
    "- [QGridLayout](https://doc.qt.io/qt-5/qgridlayout.html): lays out widgets in a grid\n",
    "\n",
    "  To populate the layout, use the [`addWidget(widget, row, column, rowSpan, columnSpan)`](https://doc.qt.io/qt-5/qgridlayout.html#addWidget) method.\n",
    "  ![](images/QGridLayout.svg)\n",
    "  \n",
    "- [QFormLayout](https://doc.qt.io/qt-5/qformlayout.html): lays out widgets in a 2 columns grid\n",
    "\n",
    "  To populate the layout, use the [`addRow(label, widget)`](https://doc.qt.io/qt-5/qformlayout.html#addRow) or [`addRow(widget)`](https://doc.qt.io/qt-5/qformlayout.html#addRow-4) method.\n",
    "  ![](images/QFormLayout.svg)\n",
    "  \n",
    "- [QStackedLayout](https://doc.qt.io/qt-5/qstackedlayout.html): stack of widgets where only one widget is visible at a time"
   ]
  },
  {
   "cell_type": "markdown",
   "metadata": {
    "slideshow": {
     "slide_type": "slide"
    }
   },
   "source": [
    "#### QGridLayout example"
   ]
  },
  {
   "cell_type": "code",
   "execution_count": null,
   "metadata": {
    "slideshow": {
     "slide_type": "-"
    }
   },
   "outputs": [],
   "source": [
    "widget = Qt.QWidget()  # Container widget\n",
    "# Child widgets\n",
    "label = Qt.QLabel(\"Range:\")\n",
    "beginLineEdit = Qt.QLineEdit(\"0\")\n",
    "endLineEdit = Qt.QLineEdit(\"1\")\n",
    "button = Qt.QPushButton(\"Done\")\n",
    "\n",
    "# Create layout and add widgets to it\n",
    "layout = Qt.QGridLayout()\n",
    "\n",
    "layout.addWidget(label, 0, 0)\n",
    "layout.addWidget(beginLineEdit, 0, 1)\n",
    "layout.addWidget(endLineEdit, 0, 2)\n",
    "layout.addWidget(button, 1, 0, 1, 3)\n",
    "\n",
    "# set the widget's layout\n",
    "widget.setLayout(layout)\n",
    "\n",
    "widget.show()"
   ]
  },
  {
   "cell_type": "markdown",
   "metadata": {
    "slideshow": {
     "slide_type": "slide"
    }
   },
   "source": [
    "#### QFormLayout example"
   ]
  },
  {
   "cell_type": "code",
   "execution_count": null,
   "metadata": {
    "slideshow": {
     "slide_type": "-"
    }
   },
   "outputs": [],
   "source": [
    "widget = Qt.QWidget()  # Container widget\n",
    "# Child widgets\n",
    "beginLineEdit = Qt.QLineEdit(\"0\", parent=widget)\n",
    "endLineEdit = Qt.QLineEdit(\"1\", parent=widget)\n",
    "button = Qt.QPushButton(\"Done\", parent=widget)\n",
    "\n",
    "# Create layout and add widgets to it\n",
    "layout = Qt.QFormLayout(parent=widget)  # Give the parent\n",
    "\n",
    "layout.addRow(\"Min:\", beginLineEdit)\n",
    "layout.addRow(\"Max:\", endLineEdit)\n",
    "layout.addRow(button)\n",
    "\n",
    "widget.show()"
   ]
  },
  {
   "cell_type": "code",
   "execution_count": null,
   "metadata": {
    "slideshow": {
     "slide_type": "slide"
    }
   },
   "outputs": [],
   "source": [
    "# Alternative: inherit from QWidget\n",
    "class Form(Qt.QWidget):\n",
    "    def __init__(self, parent=None):\n",
    "        super(Form, self).__init__(parent)\n",
    "        beginLineEdit = Qt.QLineEdit(\"0\", parent=widget)\n",
    "        endLineEdit = Qt.QLineEdit(\"1\", parent=widget)\n",
    "        button = Qt.QPushButton(\"Done\", parent=widget)\n",
    "\n",
    "        # Create layout and add widgets to it\n",
    "        layout = Qt.QFormLayout(parent=self)  # Give the parent is same as setLayout\n",
    "\n",
    "        layout.addRow(\"Min:\", beginLineEdit)\n",
    "        layout.addRow(\"Max:\", endLineEdit)\n",
    "        layout.addRow(button)\n",
    "\n",
    "widget = Form()\n",
    "widget.show()"
   ]
  },
  {
   "cell_type": "markdown",
   "metadata": {
    "slideshow": {
     "slide_type": "slide"
    }
   },
   "source": [
    "### Nested layout\n",
    "\n",
    "For complex widget imbrication, you can use a hierarchy of widgets, each having a different layout.\n",
    "\n",
    "It is also possible to nest layouts within each other (e.g., with [QBoxLayout.addLayout](https://doc.qt.io/qt-5/qboxlayout.html#addLayout))."
   ]
  },
  {
   "cell_type": "code",
   "execution_count": null,
   "metadata": {
    "slideshow": {
     "slide_type": "slide"
    }
   },
   "outputs": [],
   "source": [
    "class NestedBoxLayout(Qt.QWidget):\n",
    "    def __init__(self, parent=None):\n",
    "        super(NestedBoxLayout, self).__init__(parent)\n",
    "        label = Qt.QLabel(\"Range:\")\n",
    "        beginLineEdit = Qt.QLineEdit(\"0\")\n",
    "        endLineEdit = Qt.QLineEdit(\"1\")\n",
    "        button = Qt.QPushButton(\"Done\")\n",
    "\n",
    "        # Create layout and add widgets to it\n",
    "        layout = Qt.QVBoxLayout(self)\n",
    "\n",
    "        layout.addWidget(label)\n",
    "\n",
    "        # Adding a nested horizontal layout\n",
    "        horizontalLayout = Qt.QHBoxLayout()\n",
    "        layout.addLayout(horizontalLayout)\n",
    "\n",
    "        horizontalLayout.addWidget(beginLineEdit)\n",
    "        horizontalLayout.addWidget(endLineEdit)\n",
    "\n",
    "        layout.addWidget(button)\n",
    "        layout.addStretch(1)\n",
    "\n",
    "widget = NestedBoxLayout()\n",
    "widget.show()"
   ]
  },
  {
   "cell_type": "markdown",
   "metadata": {
    "slideshow": {
     "slide_type": "slide"
    }
   },
   "source": [
    "### Layout processus\n",
    "\n",
    "Each widget advertises:\n",
    "- some spatial request: [sizeHint](https://doc.qt.io/qt-5/qwidget.html#sizeHint-prop), [minimumSizeHint](https://doc.qt.io/qt-5/qwidget.html#minimumSizeHint-prop), [minimumSize](https://doc.qt.io/qt-5/qwidget.html#minimumSize-prop),\n",
    "[maximumSize](https://doc.qt.io/qt-5/qwidget.html#maximumSize-prop)\n",
    "- how it accepts to be resized: [sizePolicy](https://doc.qt.io/qt-5/qwidget.html#sizePolicy-prop)\n",
    "\n",
    "The layout manager takes this information into account to allocate a rectangle to each child widget.\n",
    "\n",
    "Documentation on layout: https://doc.qt.io/qt-5/layout.html\n"
   ]
  },
  {
   "cell_type": "markdown",
   "metadata": {
    "slideshow": {
     "slide_type": "slide"
    }
   },
   "source": [
    "### QWidget parent\n",
    "\n",
    "When a QWidget **A** is added to another QWidget **B** or to its layout, **B** becomes automatically the parent of **A**.\n",
    "\n",
    "To get the current QWidget parent, use the [QObject.parent](https://doc.qt.io/qt-5/qobject.html#parent) method.\n"
   ]
  },
  {
   "cell_type": "code",
   "execution_count": null,
   "metadata": {
    "scrolled": true,
    "slideshow": {
     "slide_type": "fragment"
    }
   },
   "outputs": [],
   "source": [
    "label = Qt.QLabel(\"Text\")  # Create a label\n",
    "print(\"label's parent:\", label.parent())"
   ]
  },
  {
   "cell_type": "code",
   "execution_count": null,
   "metadata": {
    "slideshow": {
     "slide_type": "fragment"
    }
   },
   "outputs": [],
   "source": [
    "# Add the label to a QWidget\n",
    "window = Qt.QMainWindow()\n",
    "window.setCentralWidget(label)\n",
    "print(\"label's parent:\", label.parent())\n",
    "label.parent() is window"
   ]
  },
  {
   "cell_type": "markdown",
   "metadata": {
    "slideshow": {
     "slide_type": "slide"
    }
   },
   "source": [
    "### (Py)Qt object instance destruction\n",
    "\n",
    "With Qt, the object parenting used for layout also handles the life-cycle (i.e., automatic destruction) of widget instances.\n",
    "\n",
    "When a widget is destroyed, all its children are also destroyed...\n",
    "\n",
    "With PyQt, this raises an issue as Python is also handling the life-cycle of instances (with reference counting)."
   ]
  },
  {
   "cell_type": "code",
   "execution_count": null,
   "metadata": {
    "slideshow": {
     "slide_type": "fragment"
    }
   },
   "outputs": [],
   "source": [
    "del window\n",
    "print(\"label:\", label)\n",
    "label.show()"
   ]
  },
  {
   "cell_type": "markdown",
   "metadata": {
    "slideshow": {
     "slide_type": "slide"
    }
   },
   "source": [
    "### (Py)Qt object instance destruction\n",
    "\n",
    "A QWidget is a C++ Qt object.\n",
    "To be accessible from Python, it is wrapped in a Python object by PyQt.\n",
    "\n",
    "The destruction of the Python PyQt object instance is handled by Python.\n",
    "\n",
    "The destruction of the C++ Qt object instance is handled by:\n",
    "- **Python** if its `parent` is `None`.\n",
    "- **Qt** if its `parent` is **not** `None`."
   ]
  },
  {
   "cell_type": "markdown",
   "metadata": {
    "slideshow": {
     "slide_type": "slide"
    }
   },
   "source": [
    "## Exercice: layout\n",
    "\n",
    "Write a form widget which allows the user to provide parameters for the calculation of the diffraction image obtained from a 2D square cristal using the Laue formula seen earlier.\n",
    "\n",
    "The parameters are:\n",
    "\n",
    "- Number of unit cells (integer)\n",
    "- Oversampling factor (integer >= 2)\n",
    "- H (float)\n",
    "- K (float)\n",
    "\n",
    "Add a `\"Done\"` button.\n",
    "\n",
    "TODO add a drawing of the form here.\n",
    "\n",
    "Hint: You can create such form with a QWidget with a QFormLayout, QLineEdit widgets (and eventually QLabels) and a QPushButton.\n",
    "\n",
    "\n",
    "TODO read-back parameters from console"
   ]
  },
  {
   "cell_type": "markdown",
   "metadata": {
    "slideshow": {
     "slide_type": "slide"
    }
   },
   "source": [
    "# Signal/slot and events TODO\n",
    "\n",
    "- Signal: principle, usage, declaration\n",
    "- Slot: Just a word (meaningless in PyQt)\n",
    "- Events: Justa word and an example\n"
   ]
  },
  {
   "cell_type": "markdown",
   "metadata": {
    "slideshow": {
     "slide_type": "slide"
    }
   },
   "source": [
    "## Exercice: signal\n",
    "\n",
    "Use the QPushButton signal emitted when the user click on the button to trigger the computation of the Laue formulae with the given parameters."
   ]
  },
  {
   "cell_type": "markdown",
   "metadata": {
    "slideshow": {
     "slide_type": "slide"
    }
   },
   "source": [
    "\n",
    "### advanced hello world\n",
    "\n",
    "Define the following widget:\n",
    "\n",
    "The design is the following one:\n",
    "\n",
    "Now change the layout for a QVBoxLayout().\n",
    "See GridLayout ...\n",
    "\n",
    "\n",
    "\n",
    "## Learning by example: create an interface for Laue pattern\n",
    "\n",
    "TODO: add a screenshot of the final widget\n",
    "\n",
    "### create the formula\n",
    "### add a button\n",
    "### add callback\n",
    "### add a QMessageDialog if an input value is invalid (fail to cast to\n",
    "float for example).\n",
    "### add a QDoubleValidator\n",
    "### add a buttons to load and save data from / to a file.\n",
    "     -> Using QfileDialog, speak about silx DataDialog\n",
    "### propose a second solution using toolbar. QAction (or set it in home work)\n",
    "### add icons on buttons\n",
    "### move the formula into a dedicated widget. Play with Margins,\n",
    "setContentMargins\n",
    "### add some events ?\n",
    "### find a way to use a checkButton or radio button (activate complex\n",
    "mode / QDouble validator)\n",
    "### Do the same interface using qtcreator and make the connection\n"
   ]
  },
  {
   "cell_type": "markdown",
   "metadata": {},
   "source": [
    "Extra materials:\n",
    "\n",
    "some pyqt5 tutorials: https://pythonspot.com/gui/"
   ]
  },
  {
   "cell_type": "code",
   "execution_count": null,
   "metadata": {},
   "outputs": [],
   "source": []
  }
 ],
 "metadata": {
  "celltoolbar": "Slideshow",
  "kernelspec": {
   "display_name": "Python 3",
   "language": "python",
   "name": "python3"
  },
  "language_info": {
   "codemirror_mode": {
    "name": "ipython",
    "version": 3
   },
   "file_extension": ".py",
   "mimetype": "text/x-python",
   "name": "python",
   "nbconvert_exporter": "python",
   "pygments_lexer": "ipython3",
   "version": "3.5.2"
  }
 },
 "nbformat": 4,
 "nbformat_minor": 2
}
