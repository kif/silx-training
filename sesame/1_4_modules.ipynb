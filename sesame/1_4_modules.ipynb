{
 "cells": [
  {
   "cell_type": "markdown",
   "metadata": {
    "slideshow": {
     "slide_type": "slide"
    }
   },
   "source": [
    "# Modules\n",
    "\n",
    "A module is:\n",
    "\n",
    "* a library containing useful variables, functions and classes to be used from different places (python script, python interactive interpreter...).\n",
    "* each module should group specific functionnalities.\n",
    "* a simple text file with the `.py` extension. </br>\n",
    "  \n",
    "  → a good practice is to start each new python file with the following line to specify the file encoding\n",
    "  \n",
    "  `# coding: utf-8`"
   ]
  },
  {
   "cell_type": "markdown",
   "metadata": {
    "slideshow": {
     "slide_type": "subslide"
    }
   },
   "source": [
    "## Example of a module:\n",
    "![Example of module](img/mymodule.png \"Example of python module\")"
   ]
  },
  {
   "cell_type": "markdown",
   "metadata": {
    "slideshow": {
     "slide_type": "subslide"
    }
   },
   "source": [
    "## How to import the module:\n",
    "\n",
    "There is many ways to import modules / from module:"
   ]
  },
  {
   "cell_type": "code",
   "execution_count": null,
   "metadata": {
    "slideshow": {
     "slide_type": "fragment"
    }
   },
   "outputs": [],
   "source": [
    "import mymodule\n",
    "mymodule.pow2(5)"
   ]
  },
  {
   "cell_type": "code",
   "execution_count": null,
   "metadata": {
    "slideshow": {
     "slide_type": "fragment"
    }
   },
   "outputs": [],
   "source": [
    "import mymodule as mm\n",
    "mm.pow2(6)"
   ]
  },
  {
   "cell_type": "code",
   "execution_count": null,
   "metadata": {
    "slideshow": {
     "slide_type": "fragment"
    }
   },
   "outputs": [],
   "source": [
    "from mymodule import pow2\n",
    "pow2(7)"
   ]
  },
  {
   "cell_type": "code",
   "execution_count": null,
   "metadata": {
    "slideshow": {
     "slide_type": "fragment"
    }
   },
   "outputs": [],
   "source": [
    "#You can also access to the attributes of the module:\n",
    "mymodule.__authors__"
   ]
  },
  {
   "cell_type": "code",
   "execution_count": null,
   "metadata": {
    "slideshow": {
     "slide_type": "fragment"
    }
   },
   "outputs": [],
   "source": [
    "mymodule.version"
   ]
  },
  {
   "cell_type": "code",
   "execution_count": null,
   "metadata": {
    "slideshow": {
     "slide_type": "subslide"
    }
   },
   "outputs": [],
   "source": [
    "help(mymodule)"
   ]
  },
  {
   "cell_type": "markdown",
   "metadata": {
    "slideshow": {
     "slide_type": "subslide"
    }
   },
   "source": [
    "## Executing a module\n",
    "\n",
    "To make a python module file executable on **Unix** one needs to:\n",
    "\n",
    "* Specify the name of the interpretor on  first line of the file like `#!/usr/bin/env python`\n",
    "* Make the script executable using `chmod +x filename`\n",
    "* Define a **main** section with `if __name__ == \"__main__\":`\n",
    "\n",
    "  → this block will be executed only when the script is executed. Not when imported"
   ]
  },
  {
   "cell_type": "markdown",
   "metadata": {
    "slideshow": {
     "slide_type": "fragment"
    }
   },
   "source": [
    "If we execute the file:\n",
    "\n",
    "``` bash\n",
    "$ ./mymodule.py\n",
    "Running unit tests\n",
    "All OK\n",
    "```"
   ]
  },
  {
   "cell_type": "markdown",
   "metadata": {
    "slideshow": {
     "slide_type": "subslide"
    }
   },
   "source": [
    "## Exercise\n",
    "\n",
    "0. create a new file exercise.py with the file encoding and a description of the module\n",
    "\n",
    "1. add a function into this file like polynom(a, b, c) defined previously and write a test() function to the first function is working.\n",
    "\n",
    "2. import this module from a python console (i.e from the notebook ... ).\n",
    "\n",
    "3. execute the function you wrote from the console and run the test.\n",
    "\n",
    "4. execute this file as a script:\n",
    "\n",
    "  * defining the 'main' section:\n",
    "  ``` python\n",
    "  if __name__ == '__main__':\n",
    "      # operations to be executed\n",
    "  ```\n",
    "  * execute python3 exercise.py"
   ]
  }
 ],
 "metadata": {
  "kernelspec": {
   "display_name": "Python 3",
   "language": "python",
   "name": "python3"
  },
  "language_info": {
   "codemirror_mode": {
    "name": "ipython",
    "version": 3
   },
   "file_extension": ".py",
   "mimetype": "text/x-python",
   "name": "python",
   "nbconvert_exporter": "python",
   "pygments_lexer": "ipython3",
   "version": "3.5.3"
  }
 },
 "nbformat": 4,
 "nbformat_minor": 4
}
