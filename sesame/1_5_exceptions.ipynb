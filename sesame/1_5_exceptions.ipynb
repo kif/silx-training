{
 "cells": [
  {
   "cell_type": "markdown",
   "metadata": {
    "slideshow": {
     "slide_type": "slide"
    }
   },
   "source": [
    "# Exceptions\n",
    "\n",
    "## Definition\n",
    "\n",
    "* Syntax errors are checked before actual execution\n",
    "* Any other error are called exceptions:\n",
    "* ZeroDivisionError, NameError, TypeError are all exceptions"
   ]
  },
  {
   "cell_type": "code",
   "execution_count": null,
   "metadata": {
    "slideshow": {
     "slide_type": "fragment"
    }
   },
   "outputs": [],
   "source": [
    "1/0"
   ]
  },
  {
   "cell_type": "code",
   "execution_count": null,
   "metadata": {
    "slideshow": {
     "slide_type": "fragment"
    }
   },
   "outputs": [],
   "source": [
    "undef_var + 1"
   ]
  },
  {
   "cell_type": "code",
   "execution_count": null,
   "metadata": {
    "slideshow": {
     "slide_type": "fragment"
    }
   },
   "outputs": [],
   "source": [
    "'2' + 8"
   ]
  },
  {
   "cell_type": "markdown",
   "metadata": {
    "slideshow": {
     "slide_type": "subslide"
    }
   },
   "source": [
    "### Exceptions are classes:\n",
    "\n",
    "- Plenty of exceptions are available (ImportError, RuntimeError, ...)\n",
    "- You can create your own exceptions\n",
    "    - This is out of the scope of this training\n",
    "    \n",
    "![All exceptions](img/python-exception-classes.jpg \"All exceptions\")"
   ]
  },
  {
   "cell_type": "markdown",
   "metadata": {
    "slideshow": {
     "slide_type": "subslide"
    }
   },
   "source": [
    "### Raising an exception:"
   ]
  },
  {
   "cell_type": "code",
   "execution_count": null,
   "metadata": {
    "slideshow": {
     "slide_type": "fragment"
    }
   },
   "outputs": [],
   "source": [
    "raise Exception('My personal message')"
   ]
  },
  {
   "cell_type": "code",
   "execution_count": null,
   "metadata": {
    "slideshow": {
     "slide_type": "fragment"
    }
   },
   "outputs": [],
   "source": [
    "raise ValueError('-1 is not an unsigned int')"
   ]
  },
  {
   "cell_type": "markdown",
   "metadata": {
    "slideshow": {
     "slide_type": "subslide"
    }
   },
   "source": [
    "## Catching exceptions\n",
    "\n",
    "Code to deal with exceptions\n",
    "\n",
    "``` python\n",
    "try:\n",
    "    # ... some code that may break\n",
    "except(TypeError, ExceptionXXX...):\n",
    "    # ... what to do if those exception appears\n",
    "else:\n",
    "    # executed if no error found\n",
    "finally:\n",
    "    # always executed (i.e. to close file)\n",
    "```"
   ]
  },
  {
   "cell_type": "code",
   "execution_count": null,
   "metadata": {
    "slideshow": {
     "slide_type": "fragment"
    }
   },
   "outputs": [],
   "source": [
    "try:\n",
    "    raise ValueError('Invalid value')\n",
    "    print('this code will not be executed if an error is raised before')\n",
    "except ValueError as e:\n",
    "    print('an error appears:', e)\n",
    "else:\n",
    "    print('this code will be executed if no error raised')\n",
    "finally:\n",
    "    print('this will always be executed at the end')"
   ]
  },
  {
   "cell_type": "code",
   "execution_count": null,
   "metadata": {
    "slideshow": {
     "slide_type": "subslide"
    }
   },
   "outputs": [],
   "source": [
    "# complete example: code that breaks from time to time:\n",
    "\n",
    "def unreliable(t):\n",
    "    d = int(t) % 2\n",
    "    try:\n",
    "        res = t/d # may divide by zero\n",
    "    except ZeroDivisionError as e:\n",
    "        print(\"Division by zero is not a good idea\")\n",
    "        raise RuntimeError(\"time is even !\")\n",
    "    else:\n",
    "        print(\"This time everything went smoothly\")\n",
    "    finally:\n",
    "        print(\"It is time to wrap-up\")\n",
    "\n",
    "import time        \n",
    "unreliable(time.time())"
   ]
  },
  {
   "cell_type": "code",
   "execution_count": null,
   "metadata": {
    "slideshow": {
     "slide_type": "fragment"
    }
   },
   "outputs": [],
   "source": [
    "unreliable(time.time())"
   ]
  }
 ],
 "metadata": {
  "kernelspec": {
   "display_name": "Python 3",
   "language": "python",
   "name": "python3"
  },
  "language_info": {
   "codemirror_mode": {
    "name": "ipython",
    "version": 3
   },
   "file_extension": ".py",
   "mimetype": "text/x-python",
   "name": "python",
   "nbconvert_exporter": "python",
   "pygments_lexer": "ipython3",
   "version": "3.5.3"
  }
 },
 "nbformat": 4,
 "nbformat_minor": 4
}
