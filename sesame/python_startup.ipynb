{
 "cells": [
  {
   "cell_type": "markdown",
   "metadata": {},
   "source": [
    "# Python startup"
   ]
  },
  {
   "cell_type": "markdown",
   "metadata": {
    "slideshow": {
     "slide_type": "slide"
    }
   },
   "source": [
    "## Primitive types\n",
    "\n",
    "The basic types build into Python include:\n",
    "* `int` variable length integers,\n",
    "* `float` double precision floating point numbers, \n",
    "* `complex` composed of two floats for *real* and *imag* part,  \n",
    "* `bool` boolean which can be only True or False. \n",
    "* `None` which is the equivalent of *NULL* or *nil*\n",
    "* `str` unicode character strings,\n"
   ]
  },
  {
   "cell_type": "markdown",
   "metadata": {
    "slideshow": {
     "slide_type": "subslide"
    }
   },
   "source": [
    "Some examples of each:"
   ]
  },
  {
   "cell_type": "code",
   "execution_count": null,
   "metadata": {
    "slideshow": {
     "slide_type": "fragment"
    }
   },
   "outputs": [],
   "source": [
    "-1234567890   # an integer\n",
    "2.0           # a floating point number\n",
    "6.02e23       # a floating point number with scientific notation\n",
    "complex(1,5)  # a complex\n",
    "True or False # the two possible boolean values\n",
    "'This is a string'\n",
    "\"It's another string\"\n",
    "print(\"\"\"Triple quotes (also with '''), allow strings to break over multiple lines.\n",
    "Alternatively \\n is a newline character (\\t for tab, \\\\ is a single backslash)\"\"\")"
   ]
  },
  {
   "cell_type": "code",
   "execution_count": null,
   "metadata": {
    "slideshow": {
     "slide_type": "subslide"
    }
   },
   "outputs": [],
   "source": [
    "print(complex(1,5))"
   ]
  },
  {
   "cell_type": "markdown",
   "metadata": {
    "slideshow": {
     "slide_type": "slide"
    }
   },
   "source": [
    "### Primary operations\n",
    "\n",
    "| Symbol | Task Performed |\n",
    "|----|---|\n",
    "| +  | Addition |\n",
    "| -  | Subtraction |\n",
    "| *  | Multiplication |\n",
    "| /  | Floating point division |\n",
    "| // | Floor division |\n",
    "| %  | Modulus or rest |\n",
    "| ** or pow(a, b) | Power |\n",
    "| abs(a) | absolute value |\n",
    "| round(a) | Banker's rounding |\n"
   ]
  },
  {
   "cell_type": "markdown",
   "metadata": {
    "slideshow": {
     "slide_type": "slide"
    }
   },
   "source": [
    "Relational Operators\n",
    " \n",
    "| Symbol | Task Performed |\n",
    "|---|---|\n",
    "| == | True, if it is equal |\n",
    "| != | True, if not equal to |\n",
    "| < | less than |\n",
    "| > | greater than |\n",
    "| <= | less than or equal to |\n",
    "| >= | greater than or equal to |\n",
    "| | |\n",
    "| not | negate a `bool` value |\n",
    "| is | True, if both are the same |\n",
    "| and | True if both are True |\n",
    "| or | True if any are are True |\n",
    "| xor | True if one or the other but not both are True |\n",
    "| | |\n",
    "| &  | bitwise and opeartor in `int` |\n",
    "| \\| | bitwise or  opeartor in `int` |\n",
    "| >> | right shift bitwise operation on `int`|\n",
    "| << | left shift bitwise operation on `int` |\n",
    "| | |\n",
    "\n",
    "Note the difference between:\n",
    "   * `==` equality test\n",
    "   * `=`  assignment\n"
   ]
  },
  {
   "cell_type": "code",
   "execution_count": 9,
   "metadata": {},
   "outputs": [
    {
     "name": "stdout",
     "output_type": "stream",
     "text": [
      "True\n",
      "<class 'int'> <class 'float'>\n",
      "False\n"
     ]
    }
   ],
   "source": [
    "# == vs `is`\n",
    "a, b = 5, 5.0\n",
    "print(a == b)\n",
    "print(type(a), type(b))\n",
    "print(a is b)"
   ]
  },
  {
   "cell_type": "markdown",
   "metadata": {},
   "source": [
    "# Data structures\n",
    "\n",
    "Python embed different data structures:"
   ]
  },
  {
   "cell_type": "markdown",
   "metadata": {},
   "source": [
    "* [list](https://docs.python.org/3/tutorial/datastructures.html#more-on-lists)"
   ]
  },
  {
   "cell_type": "code",
   "execution_count": 13,
   "metadata": {},
   "outputs": [
    {
     "name": "stdout",
     "output_type": "stream",
     "text": [
      "initial list: 2\n",
      "new list: ['eggs', 'sausages', 'eggs'] 3\n",
      "contains 2 time eggs\n"
     ]
    }
   ],
   "source": [
    "lst = ['eggs', 'sausages']\n",
    "print('initial list:', len(lst))\n",
    "lst.append(\"eggs\")\n",
    "print('new list:', lst, len(lst))\n",
    "print('contains', lst.count('eggs'), 'time eggs')"
   ]
  },
  {
   "cell_type": "markdown",
   "metadata": {},
   "source": [
    "* [tuple](https://docs.python.org/3/tutorial/datastructures.html#tuples-and-sequences)\n",
    "    \n",
    "    * Tuples are defined by the `tuple(iter)` or by a ``,`` separeted list in parenthesis ``()`` \n",
    "    * Tuples are like lists, but not mutable !"
   ]
  },
  {
   "cell_type": "code",
   "execution_count": 16,
   "metadata": {},
   "outputs": [
    {
     "name": "stdout",
     "output_type": "stream",
     "text": [
      "(12, 'a', 6)\n",
      "(12, 'a', 6)\n",
      "True\n"
     ]
    }
   ],
   "source": [
    "mytuple_1 = (12, 'a', 6)\n",
    "mytuple_2 = 12, 'a', 6\n",
    "print(mytuple_1)\n",
    "print(mytuple_2)\n",
    "print(mytuple_1==mytuple_2)"
   ]
  },
  {
   "cell_type": "markdown",
   "metadata": {},
   "source": [
    "* [dictionary](https://docs.python.org/3/tutorial/datastructures.html#dictionaries)"
   ]
  },
  {
   "cell_type": "code",
   "execution_count": 21,
   "metadata": {
    "slideshow": {
     "slide_type": "subslide"
    }
   },
   "outputs": [
    {
     "name": "stdout",
     "output_type": "stream",
     "text": [
      "{'pi': 3.14, 2: 'val2', 'key1': 'value1'}\n"
     ]
    }
   ],
   "source": [
    "dico = {'key1': 'value1', \n",
    "        2: 'val2',\n",
    "        'pi': 3.14}\n",
    "print(dico)"
   ]
  },
  {
   "cell_type": "code",
   "execution_count": 22,
   "metadata": {
    "slideshow": {
     "slide_type": "fragment"
    }
   },
   "outputs": [
    {
     "name": "stdout",
     "output_type": "stream",
     "text": [
      "value1\n"
     ]
    }
   ],
   "source": [
    "print(dico['key1'])"
   ]
  },
  {
   "cell_type": "code",
   "execution_count": 23,
   "metadata": {
    "slideshow": {
     "slide_type": "fragment"
    }
   },
   "outputs": [
    {
     "name": "stdout",
     "output_type": "stream",
     "text": [
      "dict_keys(['pi', 2, 'key1'])\n"
     ]
    }
   ],
   "source": [
    "print(dico.keys())"
   ]
  },
  {
   "cell_type": "code",
   "execution_count": 24,
   "metadata": {
    "slideshow": {
     "slide_type": "fragment"
    }
   },
   "outputs": [
    {
     "name": "stdout",
     "output_type": "stream",
     "text": [
      "dict_values([3.14, 'val2', 'value1'])\n"
     ]
    }
   ],
   "source": [
    "print(dico.values())"
   ]
  },
  {
   "cell_type": "code",
   "execution_count": 25,
   "metadata": {
    "slideshow": {
     "slide_type": "fragment"
    }
   },
   "outputs": [
    {
     "data": {
      "text/plain": [
       "True"
      ]
     },
     "execution_count": 25,
     "metadata": {},
     "output_type": "execute_result"
    }
   ],
   "source": [
    "#search for a key in a dict:\n",
    "'key1' in dico"
   ]
  },
  {
   "cell_type": "code",
   "execution_count": 26,
   "metadata": {
    "slideshow": {
     "slide_type": "fragment"
    }
   },
   "outputs": [
    {
     "data": {
      "text/plain": [
       "3"
      ]
     },
     "execution_count": 26,
     "metadata": {},
     "output_type": "execute_result"
    }
   ],
   "source": [
    "len(dico)"
   ]
  },
  {
   "cell_type": "markdown",
   "metadata": {},
   "source": [
    "### hands on"
   ]
  },
  {
   "cell_type": "code",
   "execution_count": null,
   "metadata": {},
   "outputs": [],
   "source": [
    "TODO"
   ]
  },
  {
   "cell_type": "markdown",
   "metadata": {},
   "source": [
    "## warning\n",
    "    * `lambda`, `map` and `filter` are reserved keywords, they should not be used as variable names, especially not **lambda**.\n",
    "    The following code will raise an error:"
   ]
  },
  {
   "cell_type": "code",
   "execution_count": 19,
   "metadata": {},
   "outputs": [
    {
     "ename": "SyntaxError",
     "evalue": "invalid syntax (<ipython-input-19-14a46820f051>, line 1)",
     "output_type": "error",
     "traceback": [
      "\u001b[0;36m  File \u001b[0;32m\"<ipython-input-19-14a46820f051>\"\u001b[0;36m, line \u001b[0;32m1\u001b[0m\n\u001b[0;31m    lambda = 12\u001b[0m\n\u001b[0m           ^\u001b[0m\n\u001b[0;31mSyntaxError\u001b[0m\u001b[0;31m:\u001b[0m invalid syntax\n"
     ]
    }
   ],
   "source": [
    "lambda = 12"
   ]
  },
  {
   "cell_type": "markdown",
   "metadata": {},
   "source": [
    "STOP HERE, too short on time"
   ]
  },
  {
   "cell_type": "code",
   "execution_count": null,
   "metadata": {},
   "outputs": [],
   "source": []
  },
  {
   "cell_type": "markdown",
   "metadata": {
    "slideshow": {
     "slide_type": "subslide"
    }
   },
   "source": [
    "### Warning: in Python, everything is object ..."
   ]
  },
  {
   "cell_type": "code",
   "execution_count": null,
   "metadata": {
    "slideshow": {
     "slide_type": "fragment"
    }
   },
   "outputs": [],
   "source": [
    "list1 = [3, 2, 1]\n",
    "print(\"list1=\", list1)\n",
    "list2 = list1\n",
    "list2[1] = 10\n",
    "print(\"list2=\", list2)"
   ]
  },
  {
   "cell_type": "code",
   "execution_count": null,
   "metadata": {
    "slideshow": {
     "slide_type": "fragment"
    }
   },
   "outputs": [],
   "source": [
    "# Did you expect ?\n",
    "print(\"list1= \", list1)"
   ]
  },
  {
   "cell_type": "markdown",
   "metadata": {
    "slideshow": {
     "slide_type": "subslide"
    }
   },
   "source": [
    "![a=1](img/Python_memory_1.png \"a=1\")"
   ]
  },
  {
   "cell_type": "markdown",
   "metadata": {
    "slideshow": {
     "slide_type": "subslide"
    }
   },
   "source": [
    "![list1](img/Python_memory_2.png \"list11\")"
   ]
  },
  {
   "cell_type": "markdown",
   "metadata": {
    "slideshow": {
     "slide_type": "subslide"
    }
   },
   "source": [
    "![list1](img/Python_memory_3.png \"list2\")"
   ]
  },
  {
   "cell_type": "markdown",
   "metadata": {
    "slideshow": {
     "slide_type": "subslide"
    }
   },
   "source": [
    "![mutate](img/Python_memory_4.png \"Mutate list2\")"
   ]
  },
  {
   "cell_type": "markdown",
   "metadata": {
    "slideshow": {
     "slide_type": "subslide"
    }
   },
   "source": [
    "![a=1](img/Python_memory_5.png \"a=1\")"
   ]
  },
  {
   "cell_type": "markdown",
   "metadata": {
    "slideshow": {
     "slide_type": "subslide"
    }
   },
   "source": [
    "![copy](img/Python_memory_6.png \"copy\")"
   ]
  },
  {
   "cell_type": "code",
   "execution_count": null,
   "metadata": {
    "slideshow": {
     "slide_type": "subslide"
    }
   },
   "outputs": [],
   "source": [
    "print(\"indeed: id(list1)=\", id(list1),\" and id(list2):\", id(list2), \"so list2 is list1:\", list2 is list1)"
   ]
  },
  {
   "cell_type": "code",
   "execution_count": null,
   "metadata": {
    "slideshow": {
     "slide_type": "fragment"
    }
   },
   "outputs": [],
   "source": [
    "#How to avoid this: make copies of mutable objects:\n",
    "list1 = [3, 2, 1]\n",
    "print(\"list1=\", list1)\n",
    "list3 = list1 [:] # copy the content !\n",
    "list3[1] = 10\n",
    "print(\"As expected: list3= \", list3)\n",
    "print(\"And now:     list1= \", list1)"
   ]
  },
  {
   "cell_type": "markdown",
   "metadata": {
    "slideshow": {
     "slide_type": "fragment"
    }
   },
   "source": [
    "**Warning:** This is very error prone when manipulating any mutable objects."
   ]
  },
  {
   "cell_type": "code",
   "execution_count": null,
   "metadata": {
    "slideshow": {
     "slide_type": "fragment"
    }
   },
   "outputs": [],
   "source": [
    "# Generic solution: use the copy module\n",
    "import copy\n",
    "list3 = copy.copy(list1)  # same, more explicit\n",
    "print(id(list1) == id(list3))"
   ]
  },
  {
   "cell_type": "markdown",
   "metadata": {
    "slideshow": {
     "slide_type": "slide"
    }
   },
   "source": [
    "## Control structures: blocks\n",
    "\n",
    "### Code structure\n",
    "\n",
    "\n",
    "Python uses a column `:` at the end of the line and 4 white-spaces indentation\n",
    "to establish code block structure.\n",
    "\n",
    "Many other programming languages uses braces { }, not python.\n",
    "\n",
    "\n"
   ]
  },
  {
   "cell_type": "markdown",
   "metadata": {
    "slideshow": {
     "slide_type": "subslide"
    }
   },
   "source": [
    "```\n",
    "\n",
    "    Block 1\n",
    "    ...\n",
    "    Header making new block:\n",
    "        Block 2\n",
    "        ...\n",
    "        Header making new block:\n",
    "            Block 3\n",
    "            ...\n",
    "        Block 2 (continuation)\n",
    "        ...\n",
    "    Block 1 continuation\n",
    "    ...\n",
    "```\n",
    "\n",
    "- Clearly indicates the beginning of a block\n",
    "- Coding style is mostly uniform. Use **4 spaces**, never <tabs>\n",
    "- Code structure is much more readable and clear.\n",
    "\n"
   ]
  },
  {
   "cell_type": "markdown",
   "metadata": {
    "slideshow": {
     "slide_type": "subslide"
    }
   },
   "source": [
    "### Branching\n",
    "    \n",
    "- Condition branching are made with `if elif else` statements\n",
    "- Can have many ``elif``'s (not recommended)\n",
    "- Can be nested (too much nesting is bad for readability)\n",
    "\n",
    "Example for solving a second order polynomial root:"
   ]
  },
  {
   "cell_type": "code",
   "execution_count": null,
   "metadata": {
    "slideshow": {
     "slide_type": "fragment"
    }
   },
   "outputs": [],
   "source": [
    "a = -1\n",
    "b = 2\n",
    "c = 1\n",
    "q2 = b * b - 4.0 * a * c\n",
    "print(\"Determinant is \", q2)\n",
    "if q2 < 0:\n",
    "    print(\"No real solution\")\n",
    "elif q2 > 0:\n",
    "    x1 = (-b + math.sqrt(q2)) / (2.0 * a)\n",
    "    x2 = (-b - math.sqrt(q2)) / (2.0 * a)\n",
    "    print(\"Two solutions %.2f and %.2f\" % (x1, x2))\n",
    "else:\n",
    "    x = -b / (2.0 * a)\n",
    "    print(\"One solution: %.2f\" % x)\n"
   ]
  },
  {
   "cell_type": "markdown",
   "metadata": {
    "slideshow": {
     "slide_type": "subslide"
    }
   },
   "source": [
    "### For loop\n",
    "\n",
    "- iterate over a sequence (list, tuple, char in string, keys in dict, any iterator)\n",
    "- no indexes, directly the object in the sequence\n",
    "- when index is really needed, use `enumerate`\n",
    "- One can use multiple sequences in parallel using `zip`"
   ]
  },
  {
   "cell_type": "code",
   "execution_count": null,
   "metadata": {
    "slideshow": {
     "slide_type": "fragment"
    }
   },
   "outputs": [],
   "source": [
    "ingredients = [\"spam\", \"eggs\", \"ham\", \"spam\", \"sausages\"]\n",
    "for food in ingredients:\n",
    "     print(\"I like %s\" % food)"
   ]
  },
  {
   "cell_type": "code",
   "execution_count": null,
   "metadata": {
    "slideshow": {
     "slide_type": "fragment"
    }
   },
   "outputs": [],
   "source": [
    "for idx, food in enumerate(ingredients[::-1]):\n",
    "    print(\"%s is number %d in my top 5 of foods\" % (food, len(ingredients)- idx))"
   ]
  },
  {
   "cell_type": "code",
   "execution_count": null,
   "metadata": {
    "slideshow": {
     "slide_type": "subslide"
    }
   },
   "outputs": [],
   "source": [
    "subjects = [\"Roses\", \"Violets\", \"Sugar\"]\n",
    "verbs = [\"are\", \"are\", \"is\"]\n",
    "adjectives = [\"red,\", \"blue,\", \"sweet.\"] \n",
    "for s, v, a in zip(subjects, verbs, adjectives):\n",
    "    print(\"%s %s %s\" % (s, v, a))"
   ]
  },
  {
   "cell_type": "markdown",
   "metadata": {
    "slideshow": {
     "slide_type": "subslide"
    }
   },
   "source": [
    "### While loop\n",
    "\n",
    "- Iterate while a condition is fulfilled\n",
    "- Make sure the condition becomes unfulfilled, else it could result in infinite loops ...\n"
   ]
  },
  {
   "cell_type": "code",
   "execution_count": null,
   "metadata": {
    "slideshow": {
     "slide_type": "fragment"
    }
   },
   "outputs": [],
   "source": [
    "a, b = 175, 3650\n",
    "stop = False\n",
    "possible_divisor = max(a, b) // 2\n",
    "while possible_divisor >= 1 and not stop:\n",
    "    if a % possible_divisor == 0 and b % possible_divisor == 0:\n",
    "        print(\"Found greatest common divisor: %d\" % possible_divisor)\n",
    "        stop = True\n",
    "    possible_divisor = possible_divisor - 1 \n"
   ]
  },
  {
   "cell_type": "code",
   "execution_count": null,
   "metadata": {
    "slideshow": {
     "slide_type": "fragment"
    }
   },
   "outputs": [],
   "source": [
    "while True: \n",
    "    print(\"I will print this forever\")\n",
    "    \n",
    "# Now you are ready to interrupt the kernel !\n",
    "#go in the menu and click kernel-> interrput\n"
   ]
  },
  {
   "cell_type": "markdown",
   "metadata": {
    "slideshow": {
     "slide_type": "subslide"
    }
   },
   "source": [
    "### Useful commands in loops\n",
    "\n",
    "- `continue`: go directly to the next iteration of the most inner loop\n",
    "- `break`: quit the most inner loop\n",
    "- `pass`: a block cannot be empty; ``pass`` is a command that does nothing\n",
    "- `else`: block executed after the normal exit of the loop.\n"
   ]
  },
  {
   "cell_type": "code",
   "execution_count": null,
   "metadata": {
    "slideshow": {
     "slide_type": "fragment"
    }
   },
   "outputs": [],
   "source": [
    "for i in range(10):\n",
    "    if not i % 7 == 0:\n",
    "        print(\"%d is *not* a multiple of 7\" % i)\n",
    "        continue\n",
    "    print(\"%d is a multiple of 7\" % i)"
   ]
  },
  {
   "cell_type": "code",
   "execution_count": null,
   "metadata": {
    "slideshow": {
     "slide_type": "subslide"
    }
   },
   "outputs": [],
   "source": [
    "n = 112\n",
    "# divide n by 2 until this does no longer return an integer\n",
    "while True:\n",
    "    if n % 2 != 0:\n",
    "        print(\"%d is not a multiple of 2\" % n)\n",
    "        break\n",
    "    print(\"%d is a multiple of 2\" % n)\n",
    "    n = n // 2\n"
   ]
  },
  {
   "cell_type": "markdown",
   "metadata": {
    "slideshow": {
     "slide_type": "slide"
    }
   },
   "source": [
    "### Exercise: Fibonacci series\n",
    "\n",
    "\n",
    "- Fibonacci:\n",
    "    - Each element is the sum of the previous two elements\n",
    "    - The first two elements are 0 and 1\n",
    "\n",
    "- Calculate all elements in this series up to 1000, put them in a list, then print the list.\n",
    "\n",
    "``[0, 1, 1, 2, 3, 5, 8, 13, 21, 34, 55, 89, 144, 233, 377, 610, 987]``\n",
    "\n",
    "prepend the the cell with `%%timeit` to measure the performances"
   ]
  },
  {
   "cell_type": "code",
   "execution_count": null,
   "metadata": {
    "slideshow": {
     "slide_type": "fragment"
    }
   },
   "outputs": [],
   "source": [
    "%%time\n",
    "# Sorry this exercise is not solved\n",
    "print([0, 1, 1, 2, 3, 5, 8, 13, 21, 34, 55, 89, 144, 233, 377, 610, 987])"
   ]
  },
  {
   "cell_type": "code",
   "execution_count": null,
   "metadata": {
    "slideshow": {
     "slide_type": "subslide"
    }
   },
   "outputs": [],
   "source": [
    "import base64, timeit\n",
    "code = [b'CmEsIGIgPSAwLCAxCnJlcyA9IFthLCBiXQp3aGlsZSBiIDwgMTAwMDogCiAgICBhLCBiID0gYiwgYSArIGIKICAgIHJlcy5hcHBlbmQoYikKcmVzID0gcmVzWzotMV0K',\n",
    "        b'CnJlcyA9IFswLCAxXQpuZXh0X2VsID0gMQp3aGlsZSBuZXh0X2VsIDwgMTAwMDogCiAgICByZXMuYXBwZW5kKG5leHRfZWwpCiAgICBuZXh0X2VsID0gcmVzWy0yXSArIHJlc1stMV0KcmVzID0gcmVzWzotMV0K']\n",
    "for i, cod in enumerate(code):\n",
    "    solution = base64.b64decode(cod).decode()\n",
    "    exec_time = timeit.timeit(solution)\n",
    "    print(\"Solution %i takes %.3f µs :\\n %s\"%(i, exec_time, solution))"
   ]
  }
 ],
 "metadata": {
  "kernelspec": {
   "display_name": "Python 3",
   "language": "python",
   "name": "python3"
  },
  "language_info": {
   "codemirror_mode": {
    "name": "ipython",
    "version": 3
   },
   "file_extension": ".py",
   "mimetype": "text/x-python",
   "name": "python",
   "nbconvert_exporter": "python",
   "pygments_lexer": "ipython3",
   "version": "3.5.3"
  }
 },
 "nbformat": 4,
 "nbformat_minor": 4
}
