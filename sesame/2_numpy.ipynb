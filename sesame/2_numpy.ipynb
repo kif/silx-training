{
 "cells": [
  {
   "cell_type": "markdown",
   "metadata": {},
   "source": [
    "How can we perform mathematical operation ?\n",
    "\n",
    "Like matrices multiplication"
   ]
  },
  {
   "cell_type": "markdown",
   "metadata": {},
   "source": [
    "Here is an array:"
   ]
  },
  {
   "cell_type": "code",
   "execution_count": null,
   "metadata": {},
   "outputs": [],
   "source": [
    "pa = [1, 2, 3]\n",
    "print(pa)"
   ]
  },
  {
   "cell_type": "markdown",
   "metadata": {},
   "source": [
    "what is the expected result of\n",
    "\n",
    "* ``` python\n",
    "pa * 2\n",
    "```\n",
    "* ``` python\n",
    "p[0] * 2\n",
    "```"
   ]
  },
  {
   "cell_type": "code",
   "execution_count": null,
   "metadata": {},
   "outputs": [],
   "source": [
    "pa * 2"
   ]
  },
  {
   "cell_type": "code",
   "execution_count": null,
   "metadata": {},
   "outputs": [],
   "source": [
    "pa[0] * 2"
   ]
  },
  {
   "cell_type": "markdown",
   "metadata": {
    "slideshow": {
     "slide_type": "slide"
    }
   },
   "source": [
    "## Scientist's Swiss knife\n",
    "\n",
    "- The ``numpy`` package\n",
    "- ``matplotlib`` provides high quality graphics\n",
    "- ``SciPy`` provides additional scientific capabilities"
   ]
  },
  {
   "cell_type": "markdown",
   "metadata": {},
   "source": [
    "# NumPy\n",
    "![numpy](img/numpy_icon.jpeg)\n",
    "\n",
    "NumPy is the fundamental package for scientific computing with Python.\n",
    "\n",
    "One of it's main feature is to allow manipulation of nd array."
   ]
  },
  {
   "cell_type": "markdown",
   "metadata": {
    "slideshow": {
     "slide_type": "slide"
    }
   },
   "source": [
    "## numpy ndarray\n",
    "\n",
    "The ``numpy.ndarray`` object is:\n",
    "\n",
    "* A collection of elements of the same type\n",
    "* Multidimensional with flexible indexing\n",
    "* Handled as any other Python object"
   ]
  },
  {
   "cell_type": "code",
   "execution_count": null,
   "metadata": {
    "slideshow": {
     "slide_type": "-"
    }
   },
   "outputs": [],
   "source": [
    "import numpy"
   ]
  },
  {
   "cell_type": "markdown",
   "metadata": {
    "slideshow": {
     "slide_type": "slide"
    }
   },
   "source": [
    "## Array creation given its content ``numpy.array``\n",
    "\n",
    "Documentation: https://docs.scipy.org/doc/numpy/reference/generated/numpy.array.html"
   ]
  },
  {
   "cell_type": "code",
   "execution_count": null,
   "metadata": {
    "slideshow": {
     "slide_type": "-"
    }
   },
   "outputs": [],
   "source": [
    "# create an array from a list of values\n",
    "pn = numpy.array([1, 2, 3])\n",
    "print(pn)"
   ]
  },
  {
   "cell_type": "code",
   "execution_count": null,
   "metadata": {},
   "outputs": [],
   "source": [
    "pn * 2"
   ]
  },
  {
   "cell_type": "code",
   "execution_count": null,
   "metadata": {},
   "outputs": [],
   "source": [
    "pn.sum()"
   ]
  },
  {
   "cell_type": "code",
   "execution_count": null,
   "metadata": {
    "slideshow": {
     "slide_type": "-"
    }
   },
   "outputs": [],
   "source": [
    "# create an array from a list of values and dimensions\n",
    "b = numpy.array([[1, 2, 3], [4, 5, 6]])\n",
    "print(b)"
   ]
  },
  {
   "cell_type": "code",
   "execution_count": null,
   "metadata": {},
   "outputs": [],
   "source": [
    "b.shape"
   ]
  },
  {
   "cell_type": "code",
   "execution_count": null,
   "metadata": {
    "slideshow": {
     "slide_type": "-"
    }
   },
   "outputs": [],
   "source": [
    "numpy.array?"
   ]
  },
  {
   "cell_type": "markdown",
   "metadata": {},
   "source": [
    "## Exercise 1"
   ]
  },
  {
   "cell_type": "code",
   "execution_count": null,
   "metadata": {},
   "outputs": [],
   "source": [
    "arr = numpy.array(\n",
    "    [[12, 15], [4, 8],\n",
    "     [-9, -4], [0, 1]])\n",
    "arr"
   ]
  },
  {
   "cell_type": "markdown",
   "metadata": {},
   "source": [
    "### 1 - from `arr` array compute\n",
    "\n",
    "* sum of the array\n",
    "* print min and max values\n",
    "* sum along one dimension (x or y)"
   ]
  },
  {
   "cell_type": "code",
   "execution_count": null,
   "metadata": {},
   "outputs": [],
   "source": []
  },
  {
   "cell_type": "markdown",
   "metadata": {},
   "source": [
    "reminder: documentation of array is available here: https://docs.scipy.org/doc/numpy/reference/generated/numpy.array.html"
   ]
  },
  {
   "cell_type": "markdown",
   "metadata": {},
   "source": [
    "if you finished earlier:\n",
    "\n",
    "- print the type of data contained in the array\n",
    "- cast those data from int to float"
   ]
  },
  {
   "cell_type": "markdown",
   "metadata": {
    "slideshow": {
     "slide_type": "slide"
    }
   },
   "source": [
    "## Indexing\n",
    "\n",
    "Select elements as with any other Python sequence:\n",
    "* Indexing starts at 0 for each array dimension\n",
    "* Indexes can be negative: `x[-1]` is the same as `x[len(x) - 1]`\n",
    "\n",
    "The output refers to the original array and usually it is not contiguous in memory."
   ]
  },
  {
   "cell_type": "code",
   "execution_count": null,
   "metadata": {
    "slideshow": {
     "slide_type": "-"
    }
   },
   "outputs": [],
   "source": [
    "a = numpy.array([0, 1, 2, 3])\n",
    "print('a[0] =', a[0])\n",
    "print('a[-1] =', a[-1])"
   ]
  },
  {
   "cell_type": "code",
   "execution_count": null,
   "metadata": {
    "slideshow": {
     "slide_type": "slide"
    }
   },
   "outputs": [],
   "source": [
    "a = numpy.array([(1, 2, 3, 4),\n",
    "                 (5, 6, 7, 8),\n",
    "                 (9, 10, 11, 12)])"
   ]
  },
  {
   "cell_type": "code",
   "execution_count": null,
   "metadata": {
    "slideshow": {
     "slide_type": "-"
    }
   },
   "outputs": [],
   "source": [
    "a[1, 2]"
   ]
  },
  {
   "cell_type": "code",
   "execution_count": null,
   "metadata": {
    "slideshow": {
     "slide_type": "-"
    }
   },
   "outputs": [],
   "source": [
    "a[0:2, 2]"
   ]
  },
  {
   "cell_type": "code",
   "execution_count": null,
   "metadata": {
    "slideshow": {
     "slide_type": "-"
    }
   },
   "outputs": [],
   "source": [
    "a[2] # all the elements of the third row"
   ]
  },
  {
   "cell_type": "code",
   "execution_count": null,
   "metadata": {
    "slideshow": {
     "slide_type": "-"
    }
   },
   "outputs": [],
   "source": [
    "a[2, :] # same as previous assuming a has at least two dimensions"
   ]
  },
  {
   "cell_type": "code",
   "execution_count": null,
   "metadata": {},
   "outputs": [],
   "source": [
    "a[:, 0] # all elements of the first column"
   ]
  },
  {
   "cell_type": "code",
   "execution_count": null,
   "metadata": {
    "slideshow": {
     "slide_type": "-"
    }
   },
   "outputs": [],
   "source": [
    "a[0, -1]  # last element of the first row"
   ]
  },
  {
   "cell_type": "code",
   "execution_count": null,
   "metadata": {
    "slideshow": {
     "slide_type": "-"
    }
   },
   "outputs": [],
   "source": [
    "a[0:2, 0:4:2]  # pick the first and second columns, then one element each two for the row in [0;4["
   ]
  },
  {
   "cell_type": "code",
   "execution_count": null,
   "metadata": {
    "slideshow": {
     "slide_type": "slide"
    }
   },
   "outputs": [],
   "source": [
    "a"
   ]
  },
  {
   "cell_type": "code",
   "execution_count": null,
   "metadata": {
    "slideshow": {
     "slide_type": "-"
    }
   },
   "outputs": [],
   "source": [
    "a[0:2, :2] = 5  # assignation is also possible\n",
    "a"
   ]
  },
  {
   "cell_type": "markdown",
   "metadata": {
    "slideshow": {
     "slide_type": "slide"
    }
   },
   "source": [
    "### More indexing"
   ]
  },
  {
   "cell_type": "code",
   "execution_count": null,
   "metadata": {},
   "outputs": [],
   "source": [
    "a = numpy.arange(10., 18.)\n",
    "a"
   ]
  },
  {
   "cell_type": "code",
   "execution_count": null,
   "metadata": {
    "slideshow": {
     "slide_type": "fragment"
    }
   },
   "outputs": [],
   "source": [
    "# The indexation argument can be a logical array\n",
    "mask = a > 13\n",
    "print('a > 13 =', mask)\n",
    "a[mask]"
   ]
  },
  {
   "cell_type": "markdown",
   "metadata": {
    "slideshow": {
     "slide_type": "slide"
    }
   },
   "source": [
    "## Exercise 2\n",
    "\n",
    "* Calculate the element-wise difference between ``x`` and ``y``?\n",
    "* Provide an expression to calculate the difference ``x[i+1]-x[i]`` for all the elements of the 1D array."
   ]
  },
  {
   "cell_type": "code",
   "execution_count": null,
   "metadata": {
    "slideshow": {
     "slide_type": "-"
    }
   },
   "outputs": [],
   "source": [
    "x = numpy.arange(10)\n",
    "y = numpy.arange(1, 11)\n",
    "print('x =', x)\n",
    "print('y =', y)"
   ]
  },
  {
   "cell_type": "code",
   "execution_count": null,
   "metadata": {
    "slideshow": {
     "slide_type": "-"
    }
   },
   "outputs": [],
   "source": [
    "# TODO"
   ]
  },
  {
   "cell_type": "code",
   "execution_count": null,
   "metadata": {
    "slideshow": {
     "slide_type": "skip"
    }
   },
   "outputs": [],
   "source": [
    "import numpysolution\n",
    "numpysolution.show(\"ex3_1\")"
   ]
  },
  {
   "cell_type": "code",
   "execution_count": null,
   "metadata": {
    "slideshow": {
     "slide_type": "skip"
    }
   },
   "outputs": [],
   "source": [
    "numpysolution.show(\"ex3_2\")"
   ]
  },
  {
   "cell_type": "markdown",
   "metadata": {},
   "source": [
    "### Exercise 3 perform a 2x2 binning of an image\n",
    "\n",
    "0. Generate a 1D array with 100 elements and perform a binning such that:\n",
    "\n",
    "   ``1 2 3 4`` -> ``1+2`` ``3+4``\n",
    "0. Generate a 100x100 array with elements in increasing order\n",
    "0. Perform a 2x2 binning\n",
    "\n",
    "|    |    |    |    |\n",
    "|----|----|----|----|\n",
    "| 1  | 2  | 3  | 4  |\n",
    "| 5  | 6  | 7  | 8  |\n",
    "| 9  | 10 | 11 | 12 |\n",
    "| 13 | 14 | 15 | 16 |\n",
    "\n",
    "2x2 binning:\n",
    "\n",
    "| 1+2+5+6    | 3+4+7+8     |\n",
    "|------------|-------------|\n",
    "| 9+10+13+14 | 11+12+15+16 |"
   ]
  },
  {
   "cell_type": "markdown",
   "metadata": {},
   "source": [
    "solution is given in solution in 'solutions.py'"
   ]
  },
  {
   "cell_type": "markdown",
   "metadata": {},
   "source": [
    "For a more complete tutorial on numpy you can look at:\n",
    "\n",
    "* [https://github.com/silx-kit/silx-training/numpy/introduction_to_numpy.ipynb](https://github.com/silx-kit/silx-training/blob/main/python/numpy/introduction_to_numpy.ipynb)\n",
    "* [https://www.python-course.eu/numpy.php](https://www.python-course.eu/numpy.php)\n",
    "* [https://www.machinelearningplus.com/python/101-numpy-exercises-python/](https://www.machinelearningplus.com/python/101-numpy-exercises-python/)"
   ]
  },
  {
   "cell_type": "markdown",
   "metadata": {},
   "source": [
    "Numpy is the main dependancy of Scipy"
   ]
  },
  {
   "cell_type": "markdown",
   "metadata": {
    "slideshow": {
     "slide_type": "slide"
    }
   },
   "source": [
    "# Resources\n",
    "\n",
    "- Complete reference material:\n",
    "  http://docs.scipy.org/doc/numpy/reference/\n",
    "- numpy user guide:\n",
    "  https://docs.scipy.org/doc/numpy/user/\n",
    "- Many recipes for different purposes:\n",
    "  http://www.scipy.org/Cookbook\n",
    "- Active mailing list where you can ask your questions:\n",
    "  numpy-discussion@scipy.org\n",
    "- Internal data-analysis mailing list:\n",
    "  data-analysis@esrf.fr"
   ]
  },
  {
   "cell_type": "markdown",
   "metadata": {
    "slideshow": {
     "slide_type": "slide"
    }
   },
   "source": [
    "## More exercises for the braves\n",
    "\n",
    "Thanks to Nicolas Rougier: https://github.com/rougier/numpy-100:"
   ]
  },
  {
   "cell_type": "code",
   "execution_count": null,
   "metadata": {},
   "outputs": [],
   "source": []
  }
 ],
 "metadata": {
  "kernelspec": {
   "display_name": "Python 3",
   "language": "python",
   "name": "python3"
  },
  "language_info": {
   "codemirror_mode": {
    "name": "ipython",
    "version": 3
   },
   "file_extension": ".py",
   "mimetype": "text/x-python",
   "name": "python",
   "nbconvert_exporter": "python",
   "pygments_lexer": "ipython3",
   "version": "3.6.6"
  }
 },
 "nbformat": 4,
 "nbformat_minor": 4
}
