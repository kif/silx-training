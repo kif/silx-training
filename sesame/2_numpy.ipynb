{
 "cells": [
  {
   "cell_type": "markdown",
   "metadata": {},
   "source": [
    "Here is an array:"
   ]
  },
  {
   "cell_type": "code",
   "execution_count": null,
   "metadata": {},
   "outputs": [],
   "source": [
    "pa = [1, 2, 3]\n",
    "print(pa)"
   ]
  },
  {
   "cell_type": "markdown",
   "metadata": {},
   "source": [
    "what is the expected result of\n",
    "\n",
    "* ``` python\n",
    "p1 * 2\n",
    "```\n",
    "* ``` python\n",
    "p1[0] * 2\n",
    "```"
   ]
  },
  {
   "cell_type": "code",
   "execution_count": null,
   "metadata": {},
   "outputs": [],
   "source": [
    "pa * 2"
   ]
  },
  {
   "cell_type": "code",
   "execution_count": null,
   "metadata": {},
   "outputs": [],
   "source": [
    "pa[0] * 2"
   ]
  },
  {
   "cell_type": "markdown",
   "metadata": {},
   "source": [
    "How to perform mathematical operation like matrice multiplcation ?"
   ]
  },
  {
   "cell_type": "markdown",
   "metadata": {
    "slideshow": {
     "slide_type": "slide"
    }
   },
   "source": [
    "## Scientist's Swiss knife\n",
    "\n",
    "- The ``numpy`` package\n",
    "- ``matplotlib`` provides high quality graphics\n",
    "- ``SciPy`` provides additional scientific capabilities"
   ]
  },
  {
   "cell_type": "markdown",
   "metadata": {},
   "source": [
    "# NumPy\n",
    "![numpy](img/numpy_icon.jpeg)\n",
    "\n",
    "NumPy is the fundamental package for scientific computing with Python.\n",
    "\n",
    "One of it's main feature is to allow manipulation of nd array."
   ]
  },
  {
   "cell_type": "markdown",
   "metadata": {
    "slideshow": {
     "slide_type": "slide"
    }
   },
   "source": [
    "# numpy array\n",
    "\n",
    "The ``numpy.ndarray`` object is:\n",
    "\n",
    "* A collection of elements of the same type\n",
    "* Multidimensional with flexible indexing\n",
    "* Handled as any other Python object\n",
    "* Implemented in memory as a true table optimized for performance\n",
    "    \n",
    "It can be interfaced with other languages."
   ]
  },
  {
   "cell_type": "code",
   "execution_count": null,
   "metadata": {
    "slideshow": {
     "slide_type": "-"
    }
   },
   "outputs": [],
   "source": [
    "import numpy"
   ]
  },
  {
   "cell_type": "markdown",
   "metadata": {
    "slideshow": {
     "slide_type": "slide"
    }
   },
   "source": [
    "## Array creation given its content ``numpy.array``\n",
    "\n",
    "Documentation: https://docs.scipy.org/doc/numpy/reference/generated/numpy.array.html"
   ]
  },
  {
   "cell_type": "code",
   "execution_count": null,
   "metadata": {
    "slideshow": {
     "slide_type": "-"
    }
   },
   "outputs": [],
   "source": [
    "# create an array from a list of values\n",
    "pn = numpy.array([1, 2, 3])\n",
    "print(pn)"
   ]
  },
  {
   "cell_type": "code",
   "execution_count": null,
   "metadata": {},
   "outputs": [],
   "source": [
    "pn * 2"
   ]
  },
  {
   "cell_type": "code",
   "execution_count": null,
   "metadata": {},
   "outputs": [],
   "source": [
    "pn.sum()"
   ]
  },
  {
   "cell_type": "code",
   "execution_count": null,
   "metadata": {
    "slideshow": {
     "slide_type": "-"
    }
   },
   "outputs": [],
   "source": [
    "# create an array from a list of values and dimensions\n",
    "b = numpy.array([[1, 2, 3], [4, 5, 6]])\n",
    "print(b)"
   ]
  },
  {
   "cell_type": "code",
   "execution_count": null,
   "metadata": {},
   "outputs": [],
   "source": [
    "b.shape"
   ]
  },
  {
   "cell_type": "code",
   "execution_count": null,
   "metadata": {
    "slideshow": {
     "slide_type": "-"
    }
   },
   "outputs": [],
   "source": [
    "numpy.array?"
   ]
  },
  {
   "cell_type": "markdown",
   "metadata": {},
   "source": [
    "## Exercise 1"
   ]
  },
  {
   "cell_type": "markdown",
   "metadata": {},
   "source": [
    "### 1 - from `arr` array compute\n",
    "\n",
    "* sum of the array\n",
    "* min value\n",
    "* sum along dimension 1"
   ]
  },
  {
   "cell_type": "code",
   "execution_count": null,
   "metadata": {},
   "outputs": [],
   "source": [
    "arr = numpy.array(\n",
    "    [[12, 15], [4, 8],\n",
    "     [-9, -4], [0, 1]])"
   ]
  },
  {
   "cell_type": "code",
   "execution_count": null,
   "metadata": {},
   "outputs": [],
   "source": [
    "arr.dtype"
   ]
  },
  {
   "cell_type": "markdown",
   "metadata": {},
   "source": [
    "now:\n",
    "\n",
    "- print the type of data contained in the array\n",
    "- cast those data from int to float"
   ]
  },
  {
   "cell_type": "markdown",
   "metadata": {
    "slideshow": {
     "slide_type": "slide"
    }
   },
   "source": [
    "## Indexing\n",
    "\n",
    "Select elements as with any other Python sequence:\n",
    "* Indexing starts at 0 for each array dimension\n",
    "* Indexes can be negative: `x[-1]` is the same as `x[len(x) - 1]`\n",
    "\n",
    "The output refers to the original array and usually it is not contiguous in memory."
   ]
  },
  {
   "cell_type": "code",
   "execution_count": null,
   "metadata": {
    "slideshow": {
     "slide_type": "-"
    }
   },
   "outputs": [],
   "source": [
    "a = numpy.array([0, 1, 2, 3])\n",
    "print('a[0] =', a[0])\n",
    "print('a[-1] =', a[-1])"
   ]
  },
  {
   "cell_type": "code",
   "execution_count": null,
   "metadata": {
    "slideshow": {
     "slide_type": "slide"
    }
   },
   "outputs": [],
   "source": [
    "a = numpy.array([(1, 2, 3, 4),\n",
    "                 (5, 6, 7, 8),\n",
    "                 (9, 10, 11, 12)])"
   ]
  },
  {
   "cell_type": "code",
   "execution_count": null,
   "metadata": {
    "slideshow": {
     "slide_type": "-"
    }
   },
   "outputs": [],
   "source": [
    "a[1, 2]"
   ]
  },
  {
   "cell_type": "code",
   "execution_count": null,
   "metadata": {
    "slideshow": {
     "slide_type": "-"
    }
   },
   "outputs": [],
   "source": [
    "a[0:2, 2]"
   ]
  },
  {
   "cell_type": "code",
   "execution_count": null,
   "metadata": {
    "slideshow": {
     "slide_type": "-"
    }
   },
   "outputs": [],
   "source": [
    "a[2] # all the elements of the third row"
   ]
  },
  {
   "cell_type": "code",
   "execution_count": null,
   "metadata": {
    "slideshow": {
     "slide_type": "-"
    }
   },
   "outputs": [],
   "source": [
    "a[2, :] # same as previous assuming a has at least two dimensions"
   ]
  },
  {
   "cell_type": "code",
   "execution_count": null,
   "metadata": {
    "slideshow": {
     "slide_type": "-"
    }
   },
   "outputs": [],
   "source": [
    "a[0, -1]  # last element of the first row"
   ]
  },
  {
   "cell_type": "code",
   "execution_count": null,
   "metadata": {
    "slideshow": {
     "slide_type": "-"
    }
   },
   "outputs": [],
   "source": [
    "a[0:2, 0:4:2]  # slicing allowed"
   ]
  },
  {
   "cell_type": "code",
   "execution_count": null,
   "metadata": {
    "slideshow": {
     "slide_type": "slide"
    }
   },
   "outputs": [],
   "source": [
    "a"
   ]
  },
  {
   "cell_type": "code",
   "execution_count": null,
   "metadata": {
    "slideshow": {
     "slide_type": "-"
    }
   },
   "outputs": [],
   "source": [
    "a[0:2, :2] = 5  # assignation is also possible\n",
    "a"
   ]
  },
  {
   "cell_type": "markdown",
   "metadata": {
    "slideshow": {
     "slide_type": "slide"
    }
   },
   "source": [
    "### More indexing"
   ]
  },
  {
   "cell_type": "code",
   "execution_count": null,
   "metadata": {},
   "outputs": [],
   "source": [
    "a = numpy.arange(10., 18.)\n",
    "a"
   ]
  },
  {
   "cell_type": "code",
   "execution_count": null,
   "metadata": {
    "slideshow": {
     "slide_type": "-"
    }
   },
   "outputs": [],
   "source": [
    "# The indexation argument can be a list or an array\n",
    "a[[0, 3, 5]]"
   ]
  },
  {
   "cell_type": "code",
   "execution_count": null,
   "metadata": {
    "slideshow": {
     "slide_type": "fragment"
    }
   },
   "outputs": [],
   "source": [
    "# The indexation argument can be a logical array\n",
    "mask = a > 13\n",
    "print('a > 13 =', mask)\n",
    "a[mask]"
   ]
  },
  {
   "cell_type": "markdown",
   "metadata": {
    "slideshow": {
     "slide_type": "slide"
    }
   },
   "source": [
    "## Exercise 2\n",
    "\n",
    "* Calculate the element-wise difference between ``x`` and ``y``?\n",
    "* Provide an expression to calculate the difference ``x[i+1]-x[i]`` for all the elements of the 1D array."
   ]
  },
  {
   "cell_type": "code",
   "execution_count": null,
   "metadata": {
    "slideshow": {
     "slide_type": "-"
    }
   },
   "outputs": [],
   "source": [
    "x = numpy.arange(10)\n",
    "y = numpy.arange(1, 11)\n",
    "print('x =', x)\n",
    "print('y =', y)"
   ]
  },
  {
   "cell_type": "code",
   "execution_count": null,
   "metadata": {
    "slideshow": {
     "slide_type": "-"
    }
   },
   "outputs": [],
   "source": [
    "# TODO"
   ]
  },
  {
   "cell_type": "code",
   "execution_count": 1,
   "metadata": {
    "slideshow": {
     "slide_type": "skip"
    }
   },
   "outputs": [
    {
     "name": "stdout",
     "output_type": "stream",
     "text": [
      "def ex3_1():\n",
      "    \"\"\" Simple example of an element wise comparaison\"\"\"\n",
      "    x = numpy.arange(10)\n",
      "    y = numpy.arange(1, 11)\n",
      "\n",
      "    difference = x - y\n",
      "    return difference\n",
      "\n"
     ]
    },
    {
     "data": {
      "text/plain": [
       "array([-1, -1, -1, -1, -1, -1, -1, -1, -1, -1])"
      ]
     },
     "execution_count": 1,
     "metadata": {},
     "output_type": "execute_result"
    }
   ],
   "source": [
    "import numpysolution\n",
    "numpysolution.show(\"ex3_1\")"
   ]
  },
  {
   "cell_type": "code",
   "execution_count": 2,
   "metadata": {
    "slideshow": {
     "slide_type": "skip"
    }
   },
   "outputs": [
    {
     "name": "stdout",
     "output_type": "stream",
     "text": [
      "def ex3_2():\n",
      "    \"\"\" Simple way to compute the difference x[i+1]-x[i] for all the elements\n",
      "    of the 1D array\"\"\"\n",
      "    x = numpy.arange(10)\n",
      "\n",
      "    difference = x[1:] - x[:-1]\n",
      "    return difference\n",
      "\n"
     ]
    },
    {
     "data": {
      "text/plain": [
       "array([1, 1, 1, 1, 1, 1, 1, 1, 1])"
      ]
     },
     "execution_count": 2,
     "metadata": {},
     "output_type": "execute_result"
    }
   ],
   "source": [
    "numpysolution.show(\"ex3_2\")"
   ]
  },
  {
   "cell_type": "markdown",
   "metadata": {},
   "source": [
    "### Exercise 3 perform a 2x2 binning of an image\n",
    "\n",
    "0. Generate a 1D array with 100 elements and perform a binning such that:\n",
    "\n",
    "   ``1 2 3 4`` -> ``1+2`` ``3+4``\n",
    "0. Generate a 100x100 array with elements in increasing order\n",
    "0. Perform a 2x2 binning\n",
    "\n",
    "|    |    |    |    |\n",
    "|----|----|----|----|\n",
    "| 1  | 2  | 3  | 4  |\n",
    "| 5  | 6  | 7  | 8  |\n",
    "| 9  | 10 | 11 | 12 |\n",
    "| 13 | 14 | 15 | 16 |\n",
    "\n",
    "2x2 binning:\n",
    "\n",
    "| 1+2+5+6    | 3+4+7+8     |\n",
    "|------------|-------------|\n",
    "| 9+10+13+14 | 11+12+15+16 |"
   ]
  },
  {
   "cell_type": "markdown",
   "metadata": {},
   "source": [
    "solution is given in solution in 'solutions.py'"
   ]
  },
  {
   "cell_type": "markdown",
   "metadata": {},
   "source": [
    "For a more complete tutorial on numpy you can look at:\n",
    "\n",
    "* [https://github.com/silx-kit/silx-training/numpy/introduction_to_numpy.ipynb](https://github.com/silx-kit/silx-training/blob/master/python/numpy/introduction_to_numpy.ipynb)\n",
    "* [https://www.python-course.eu/numpy.php](https://www.python-course.eu/numpy.php)\n",
    "* [https://www.machinelearningplus.com/python/101-numpy-exercises-python/](https://www.machinelearningplus.com/python/101-numpy-exercises-python/)"
   ]
  },
  {
   "cell_type": "markdown",
   "metadata": {},
   "source": [
    "Numpy is the main dependancy of Scipy"
   ]
  },
  {
   "cell_type": "markdown",
   "metadata": {
    "slideshow": {
     "slide_type": "slide"
    }
   },
   "source": [
    "# Resources\n",
    "\n",
    "- Complete reference material:\n",
    "  http://docs.scipy.org/doc/numpy/reference/\n",
    "- numpy user guide:\n",
    "  https://docs.scipy.org/doc/numpy/user/\n",
    "- Many recipes for different purposes:\n",
    "  http://www.scipy.org/Cookbook\n",
    "- Active mailing list where you can ask your questions:\n",
    "  numpy-discussion@scipy.org\n",
    "- Internal data-analysis mailing list:\n",
    "  data-analysis@esrf.fr"
   ]
  },
  {
   "cell_type": "markdown",
   "metadata": {
    "slideshow": {
     "slide_type": "slide"
    }
   },
   "source": [
    "## More exercises for the braves\n",
    "\n",
    "Thanks to Nicolas Rougier: https://github.com/rougier/numpy-100:\n",
    "\n",
    "* Create a 5x5 matrix with values 1,2,3,4 just below the diagonal\n",
    "* Create a 8x8 matrix and fill it with a checkerboard pattern\n",
    "* Normalize a 5x5 random matrix\n",
    "* Create a 5x5 matrix with row values ranging from 0 to 4\n",
    "* Consider a random 10x2 matrix representing cartesian coordinates, convert them to polar coordinates\n",
    "* Create random vector of size 10 and replace the maximum value by 0\n",
    "* Consider a random vector with shape (100,2) representing coordinates, find point by point distances\n",
    "* Generate a generic 2D Gaussian-like array\n",
    "* Subtract the mean of each row of a matrix\n",
    "* How to I sort an array by the nth column ?\n",
    "* Find the nearest value from a given value in an array"
   ]
  }
 ],
 "metadata": {
  "kernelspec": {
   "display_name": "Python 3",
   "language": "python",
   "name": "python3"
  },
  "language_info": {
   "codemirror_mode": {
    "name": "ipython",
    "version": 3
   },
   "file_extension": ".py",
   "mimetype": "text/x-python",
   "name": "python",
   "nbconvert_exporter": "python",
   "pygments_lexer": "ipython3",
   "version": "3.5.3"
  }
 },
 "nbformat": 4,
 "nbformat_minor": 4
}
