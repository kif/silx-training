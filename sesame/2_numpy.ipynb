{
 "cells": [
  {
   "cell_type": "markdown",
   "metadata": {},
   "source": [
    "Here is an array:"
   ]
  },
  {
   "cell_type": "code",
   "execution_count": null,
   "metadata": {},
   "outputs": [],
   "source": [
    "pa = [1, 2, 3]\n",
    "print(pa)"
   ]
  },
  {
   "cell_type": "markdown",
   "metadata": {},
   "source": [
    "what is the result of\n",
    "\n",
    "* ``` python\n",
    "p1 * 2\n",
    "```\n",
    "* ``` python\n",
    "p1[0] * 2\n",
    "```"
   ]
  },
  {
   "cell_type": "code",
   "execution_count": null,
   "metadata": {},
   "outputs": [],
   "source": [
    "pa * 2"
   ]
  },
  {
   "cell_type": "code",
   "execution_count": null,
   "metadata": {},
   "outputs": [],
   "source": [
    "pa[0] * 2"
   ]
  },
  {
   "cell_type": "markdown",
   "metadata": {},
   "source": [
    "How to perform mathematical operation like matrice multiplcation ?"
   ]
  },
  {
   "cell_type": "markdown",
   "metadata": {
    "slideshow": {
     "slide_type": "slide"
    }
   },
   "source": [
    "## Scientist's Swiss knife\n",
    "\n",
    "- The ``numpy`` package\n",
    "- ``matplotlib`` provides high quality graphics\n",
    "- ``SciPy`` provides additional scientific capabilities"
   ]
  },
  {
   "cell_type": "markdown",
   "metadata": {},
   "source": [
    "# NumPy\n",
    "![numpy](img/numpy_icon.jpeg)\n",
    "\n",
    "NumPy is the fundamental package for scientific computing with Python.\n",
    "\n",
    "One of it's main feature is to allow manipulation of nd array."
   ]
  },
  {
   "cell_type": "markdown",
   "metadata": {
    "slideshow": {
     "slide_type": "slide"
    }
   },
   "source": [
    "# numpy array\n",
    "\n",
    "The ``numpy.ndarray`` object is:\n",
    "\n",
    "* A collection of elements of the same type\n",
    "* Multidimensional with flexible indexing\n",
    "* Handled as any other Python object\n",
    "* Implemented in memory as a true table optimized for performance\n",
    "    \n",
    "It can be interfaced with other languages."
   ]
  },
  {
   "cell_type": "code",
   "execution_count": null,
   "metadata": {
    "slideshow": {
     "slide_type": "-"
    }
   },
   "outputs": [],
   "source": [
    "import numpy"
   ]
  },
  {
   "cell_type": "markdown",
   "metadata": {
    "slideshow": {
     "slide_type": "slide"
    }
   },
   "source": [
    "## Array creation given its content ``numpy.array``\n",
    "\n",
    "Documentation: https://docs.scipy.org/doc/numpy/reference/generated/numpy.array.html"
   ]
  },
  {
   "cell_type": "code",
   "execution_count": null,
   "metadata": {
    "slideshow": {
     "slide_type": "-"
    }
   },
   "outputs": [],
   "source": [
    "# create an array from a list of values\n",
    "pn = numpy.array([1, 2, 3])\n",
    "print(pn)"
   ]
  },
  {
   "cell_type": "code",
   "execution_count": null,
   "metadata": {},
   "outputs": [],
   "source": [
    "pn * 2"
   ]
  },
  {
   "cell_type": "code",
   "execution_count": null,
   "metadata": {},
   "outputs": [],
   "source": [
    "pn.sum()"
   ]
  },
  {
   "cell_type": "code",
   "execution_count": null,
   "metadata": {
    "slideshow": {
     "slide_type": "-"
    }
   },
   "outputs": [],
   "source": [
    "# create an array from a list of values and dimensions\n",
    "b = numpy.array([[1, 2, 3], [4, 5, 6]])\n",
    "print(b)"
   ]
  },
  {
   "cell_type": "code",
   "execution_count": null,
   "metadata": {},
   "outputs": [],
   "source": [
    "b.shape"
   ]
  },
  {
   "cell_type": "code",
   "execution_count": null,
   "metadata": {
    "slideshow": {
     "slide_type": "-"
    }
   },
   "outputs": [],
   "source": [
    "numpy.array?"
   ]
  },
  {
   "cell_type": "markdown",
   "metadata": {},
   "source": [
    "## Hands on"
   ]
  },
  {
   "cell_type": "markdown",
   "metadata": {},
   "source": [
    "### 1 - from `arr` array compute\n",
    "\n",
    "* min value\n",
    "* sum of the array\n",
    "* sum along dimension 1"
   ]
  },
  {
   "cell_type": "code",
   "execution_count": null,
   "metadata": {},
   "outputs": [],
   "source": [
    "arr = numpy.array(\n",
    "    [[12, 15], [4, 8],\n",
    "     [-9, -4], [0, 1]])"
   ]
  },
  {
   "cell_type": "markdown",
   "metadata": {},
   "source": [
    "### 2 - perform a 2x2 binning of an image\n",
    "\n",
    "0. Generate a 1D array with 100 elements and perform a binning such that:\n",
    "\n",
    "   ``1 2 3 4`` -> ``1+2`` ``3+4``\n",
    "0. Generate a 100x100 array with elements in increasing order\n",
    "0. Perform a 2x2 binning\n",
    "\n",
    "| 1  | 2  | 3  | 4  |\n",
    "|----|----|----|----|\n",
    "| 5  | 6  | 7  | 8  |\n",
    "| 9  | 10 | 11 | 12 |\n",
    "| 13 | 14 | 15 | 16 |\n",
    "\n",
    "2x2 binning:\n",
    "\n",
    "| 1+2+5+6    | 3+4+7+8     |\n",
    "|------------|-------------|\n",
    "| 9+10+13+14 | 11+12+15+16 |"
   ]
  },
  {
   "cell_type": "markdown",
   "metadata": {},
   "source": [
    "For a more complete tutorial on numpy you can look at:\n",
    "\n",
    "* [https://github.com/silx-kit/silx-training/numpy/introduction_to_numpy.ipynb](https://github.com/silx-kit/silx-training/blob/master/python/numpy/introduction_to_numpy.ipynb)\n",
    "* [https://www.python-course.eu/numpy.php](https://www.python-course.eu/numpy.php)\n",
    "* [https://www.machinelearningplus.com/python/101-numpy-exercises-python/](https://www.machinelearningplus.com/python/101-numpy-exercises-python/)"
   ]
  },
  {
   "cell_type": "markdown",
   "metadata": {},
   "source": [
    "Numpy is the main dependancy of Scipy"
   ]
  },
  {
   "cell_type": "code",
   "execution_count": null,
   "metadata": {},
   "outputs": [],
   "source": []
  }
 ],
 "metadata": {
  "kernelspec": {
   "display_name": "Python 3",
   "language": "python",
   "name": "python3"
  },
  "language_info": {
   "codemirror_mode": {
    "name": "ipython",
    "version": 3
   },
   "file_extension": ".py",
   "mimetype": "text/x-python",
   "name": "python",
   "nbconvert_exporter": "python",
   "pygments_lexer": "ipython3",
   "version": "3.5.3"
  }
 },
 "nbformat": 4,
 "nbformat_minor": 4
}
