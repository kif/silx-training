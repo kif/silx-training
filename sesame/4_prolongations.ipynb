{
 "cells": [
  {
   "cell_type": "markdown",
   "metadata": {},
   "source": [
    "Programming tools for python:\n",
    "\n",
    "* [git](https://git-scm.com/)\n",
    "* [gitlab](https://about.gitlab.com/)\n",
    "* [github](https://github.com/)\n",
    "* [virtualenvs](https://python-guide-pt-br.readthedocs.io/fr/latest/dev/virtualenvs.html), [conda](https://docs.conda.io/en/latest/), [pew](https://pypi.org/project/pew/)\n",
    "* [pycharm](https://www.jetbrains.com/pycharm/), [eclipse](https://www.eclipse.org/)\n",
    "* [coding style](https://www.python.org/dev/peps/pep-0008/)\n",
    "* [sphinx](http://www.sphinx-doc.org/en/master/)\n",
    "* [pytest](https://docs.pytest.org/en/latest/), [unittest](https://docs.python.org/fr/3/library/unittest.html)"
   ]
  },
  {
   "cell_type": "markdown",
   "metadata": {},
   "source": [
    "# Extra hands on"
   ]
  },
  {
   "cell_type": "markdown",
   "metadata": {},
   "source": [
    "## create a function"
   ]
  },
  {
   "cell_type": "markdown",
   "metadata": {
    "slideshow": {
     "slide_type": "subslide"
    }
   },
   "source": [
    "## Hands on:\n",
    "\n",
    "Write a function solving the quadratic equation. This function will take a, b and c in input and return the list of solutions (in **R**) for:\n",
    "$$\n",
    "{a.x^2}+b.x+c=0\n",
    "$$\n",
    "Reminder:\n",
    "$$\n",
    "    {\\Delta}={b^2}-4*{ac}\n",
    "$$\n",
    "if ${\\Delta}>0$ then the equation has two solutions\n",
    "$$\n",
    "        \\frac{-b - {\\sqrt{\\Delta}}}{2a} \n",
    "$$\n",
    "and\n",
    "$$\n",
    "        \\frac{-b + {\\sqrt{\\Delta}}}{2a}\n",
    "$$\n",
    "if ${\\Delta}=0$ the the equation has one solution\n",
    "$$        \n",
    "         \\frac{-b}{2a}\n",
    "$$\n",
    "if ${\\Delta}<0$ then there is no (real) solution\n",
    "\n",
    "**Nota:**\n",
    "square root of x can be obtained by x**(0.5)\n",
    "\n",
    "``` python\n",
    "def sqrt(x):\n",
    "    return x**(0.5)\n",
    "```\n"
   ]
  },
  {
   "cell_type": "code",
   "execution_count": null,
   "metadata": {
    "slideshow": {
     "slide_type": "subslide"
    }
   },
   "outputs": [],
   "source": [
    "# solution\n",
    "import inspect\n",
    "from solution_quadratic_function import polynom\n",
    "print('Solution:')\n",
    "print(inspect.getsource(polynom))"
   ]
  },
  {
   "cell_type": "code",
   "execution_count": null,
   "metadata": {
    "slideshow": {
     "slide_type": "fragment"
    }
   },
   "outputs": [],
   "source": [
    "#example of usage:\n",
    "polynom(1,5,1)"
   ]
  },
  {
   "cell_type": "markdown",
   "metadata": {},
   "source": [
    "## More about modules\n",
    "\n",
    "import a function from a module, create an executable script..."
   ]
  },
  {
   "cell_type": "markdown",
   "metadata": {},
   "source": [
    "see 1_4_modules.ipynb"
   ]
  },
  {
   "cell_type": "markdown",
   "metadata": {},
   "source": [
    "## create a code raising an exception"
   ]
  },
  {
   "cell_type": "markdown",
   "metadata": {},
   "source": [
    "see 1_5_exceptions.ipynb"
   ]
  },
  {
   "cell_type": "markdown",
   "metadata": {},
   "source": [
    "## other ... ?"
   ]
  },
  {
   "cell_type": "code",
   "execution_count": null,
   "metadata": {},
   "outputs": [],
   "source": []
  }
 ],
 "metadata": {
  "kernelspec": {
   "display_name": "Python 3",
   "language": "python",
   "name": "python3"
  },
  "language_info": {
   "codemirror_mode": {
    "name": "ipython",
    "version": 3
   },
   "file_extension": ".py",
   "mimetype": "text/x-python",
   "name": "python",
   "nbconvert_exporter": "python",
   "pygments_lexer": "ipython3",
   "version": "3.5.3"
  }
 },
 "nbformat": 4,
 "nbformat_minor": 4
}
