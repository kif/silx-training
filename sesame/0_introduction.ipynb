{
 "cells": [
  {
   "cell_type": "markdown",
   "metadata": {},
   "source": [
    "introduction to Python\n",
    "\n",
    "![python](img/python.png \"Python logo\")"
   ]
  },
  {
   "cell_type": "markdown",
   "metadata": {},
   "source": [
    "# Introduction\n",
    "\n",
    "- Computer language invented by Guido van Rossum in 1989\n",
    "    - Guido is slowly retiring from the management of Python since summer 2018\n",
    "    - Massively used at Dropbox & Google (employers of Guido)"
   ]
  },
  {
   "cell_type": "markdown",
   "metadata": {},
   "source": [
    "- Open source\n",
    "    - BSD-like license\n",
    "    - Means free for you\n",
    "    - Guaranteed to stay free"
   ]
  },
  {
   "cell_type": "markdown",
   "metadata": {},
   "source": [
    "- Easily extendable: The ideal `glue` language.\n",
    "    - in C, Fortran, …\n",
    "    - Once compiled, can be as fast as C"
   ]
  },
  {
   "cell_type": "markdown",
   "metadata": {},
   "source": [
    "- Portable\n",
    "    - Runs on any computer you may have access to"
   ]
  },
  {
   "cell_type": "markdown",
   "metadata": {},
   "source": [
    "- used by most of the synchrotron facilities"
   ]
  },
  {
   "cell_type": "markdown",
   "metadata": {},
   "source": [
    "## Why Python ?\n",
    "\n",
    "- [Python](https://www.python.org/) can be learned in a couple of days\n",
    "- Ideal for prototyping\n",
    "- Free alternative to Matlab\n",
    "- It runs everywhere\n",
    "- Batteries are included\n",
    "- Excellent community support & local expertise\n",
    "- Can be extended into larger projects\n",
    "- Interfaces to low-level languages (for performances)\n",
    "\n",
    "![batteries are included](img/batteries_included.png \"Batteries included\")"
   ]
  },
  {
   "cell_type": "markdown",
   "metadata": {},
   "source": [
    "## some mainstream libraries that might interest you"
   ]
  },
  {
   "cell_type": "markdown",
   "metadata": {},
   "source": [
    "- Graphical user interfaces & visualization:\n",
    "    - Bindings to Qt, gtk, Tcl/Tk, [wxWidgets](https://www.wxwidgets.org/), …\n",
    "    - Libraries for visualization: [matplotlib](https://matplotlib.org/), VTK, bokeh, bqplot, …\n",
    "- scientific libraries\n",
    "    - [numpy](https://numpy.org/), [scipy](https://www.scipy.org/), various [scikit-image](https://scikit-image.org/), [-learn](https://scikit-learn.org/stable/), [-cuda](https://scikit-cuda.readthedocs.io/en/latest/) …\n",
    "    - [pandas](https://pandas.pydata.org/), [numba](https://numba.pydata.org/), [numexpr](https://github.com/pydata/numexpr), …\n",
    "- compression libraries\n",
    "    - [blosc](http://blosc.org/),[zlib](https://zlib.net/), [gzip](https://docs.python.org/3/library/gzip.html)...\n",
    "- imagning library\n",
    "    - [Pillow](https://pillow.readthedocs.io/en/stable/)"
   ]
  },
  {
   "cell_type": "markdown",
   "metadata": {},
   "source": [
    "## some software / libraries using python in the synchrotrons world"
   ]
  },
  {
   "cell_type": "markdown",
   "metadata": {},
   "source": [
    "- [numfocus community](https://numfocus.org/)\n",
    "- [Savu](https://github.com/DiamondLightSource/Savu)\n",
    "- [astra](https://www.astra-toolbox.com/)\n",
    "- [crispy](http://www.esrf.eu/computing/scientific/crispy/)\n",
    "- [PyMca](http://pymca.sourceforge.net/)\n",
    "- [PyHST](https://gitlab.esrf.fr/mirone/pyhst2)\n",
    "- [PyFAI](https://github.com/silx-kit/pyFAI)\n",
    "- [FabIO](https://github.com/silx-kit/fabio)\n",
    "- [silx](https://github.com/silx-kit/silx)\n",
    "- [bliss](https://gitlab.esrf.fr/bliss/bliss)\n",
    "- [PyNx](http://ftp.esrf.fr/pub/scisoft/PyNX/)"
   ]
  },
  {
   "cell_type": "markdown",
   "metadata": {},
   "source": [
    "There is plenty of documentation all other the web:\n",
    "\n",
    "* [official tutorials](https://docs.python.org/3/tutorial/index.html)\n",
    "* [esrf tutorials](https://github.com/silx-kit/silx-training/) (Introduction too python, silx, Object Oriented programming, HPC, software engineering)\n",
    "* [python-course](https://www.python-course.eu)\n",
    "* ..."
   ]
  },
  {
   "cell_type": "markdown",
   "metadata": {},
   "source": [
    "## warnings\n",
    "\n",
    "* [python2 is (almost) no more maintened](https://pythonclock.org/)\n",
    "* [python 3.5 will be drop soon](https://devguide.python.org/#status-of-python-branches), most libraries are qlreqdy dropping compatibility/maintenance for python 3.5"
   ]
  },
  {
   "cell_type": "markdown",
   "metadata": {},
   "source": [
    "# Now let's play with python & jupyter notebooks"
   ]
  },
  {
   "cell_type": "markdown",
   "metadata": {},
   "source": [
    "Jupyter-notebook is a web interface for interactively programming in languages like JUlia, PYThon or R.\n",
    "Jupyter is a set of tools originally developed to make it easier for scientists to work with Python and data. \n",
    "It allows you to combine interactive Python exploration with prewritten programs and even text and equations for documentation."
   ]
  },
  {
   "cell_type": "markdown",
   "metadata": {},
   "source": [
    "Jupyter isn’t a different programming language, it’s just a set of computer programs for working with the Python language. However, there are other ways to work with Python which will be introduced later in this course.\n"
   ]
  },
  {
   "cell_type": "markdown",
   "metadata": {},
   "source": [
    "## Notebook cells\n",
    "\n",
    "Within the notebook, each box is called “cell” and can be used for entering Python code or writing comments."
   ]
  },
  {
   "cell_type": "markdown",
   "metadata": {},
   "source": [
    "For now I will ask you to clean up the content of all cells in this document by clicking:\n",
    "\n",
    "> \n",
    "> Cell -> All Output -> Clear\n",
    "> "
   ]
  },
  {
   "cell_type": "markdown",
   "metadata": {},
   "source": [
    "To run source code contqins in a cell, click the Run button (play icon) on the toolbar, or type Shift-Enter:"
   ]
  },
  {
   "cell_type": "code",
   "execution_count": null,
   "metadata": {},
   "outputs": [],
   "source": [
    "print(\"Hello world\")"
   ]
  },
  {
   "cell_type": "markdown",
   "metadata": {},
   "source": [
    "### some simple calculation"
   ]
  },
  {
   "cell_type": "code",
   "execution_count": null,
   "metadata": {},
   "outputs": [],
   "source": [
    "4+7/2"
   ]
  },
  {
   "cell_type": "markdown",
   "metadata": {},
   "source": [
    "Nota: \n",
    " - the integer division is obtained from: //\n",
    " - The division has priority over addition"
   ]
  },
  {
   "cell_type": "code",
   "execution_count": null,
   "metadata": {},
   "outputs": [],
   "source": [
    "4+7//2"
   ]
  },
  {
   "cell_type": "code",
   "execution_count": null,
   "metadata": {},
   "outputs": [],
   "source": [
    "2*3"
   ]
  },
  {
   "cell_type": "code",
   "execution_count": null,
   "metadata": {},
   "outputs": [],
   "source": [
    "3**2"
   ]
  },
  {
   "cell_type": "code",
   "execution_count": null,
   "metadata": {},
   "outputs": [],
   "source": [
    "9**0.5"
   ]
  },
  {
   "cell_type": "markdown",
   "metadata": {},
   "source": [
    "## Getting help !\n",
    "\n",
    "Python has extensive **help** built in. You can execute `help()` for an overview or `help(x)` for any library, object or type x to get more information. For example: help(). Use `quit` to leave the help mode\n"
   ]
  },
  {
   "cell_type": "code",
   "execution_count": null,
   "metadata": {},
   "outputs": [],
   "source": [
    "help()"
   ]
  },
  {
   "cell_type": "markdown",
   "metadata": {},
   "source": [
    "*note: the `help()` will wait until you specify the function for which you need help*"
   ]
  },
  {
   "cell_type": "code",
   "execution_count": null,
   "metadata": {},
   "outputs": [],
   "source": [
    "help(print)"
   ]
  },
  {
   "cell_type": "markdown",
   "metadata": {},
   "source": [
    "Another option is to use the `?` after a function name like `print?`"
   ]
  },
  {
   "cell_type": "code",
   "execution_count": null,
   "metadata": {},
   "outputs": [],
   "source": [
    "print?"
   ]
  },
  {
   "cell_type": "markdown",
   "metadata": {
    "slideshow": {
     "slide_type": "slide"
    }
   },
   "source": [
    " ## Variables & Values\n",
    "    \n",
    "A `name` that is used to denote something or a `value` is called a **variable**. In python, variables can be declared and values can be assigned to it as follows, using the **=** sign."
   ]
  },
  {
   "cell_type": "code",
   "execution_count": null,
   "metadata": {
    "slideshow": {
     "slide_type": "-"
    }
   },
   "outputs": [],
   "source": [
    "x = 2          # anything after a '#' is a comment\n",
    "y = 5\n",
    "xy = 'Hey'\n",
    "print(x+y, xy) # not really necessary as the last value in a bit of code is displayed by default in notebooks"
   ]
  },
  {
   "cell_type": "markdown",
   "metadata": {
    "slideshow": {
     "slide_type": "subslide"
    }
   },
   "source": [
    " Multiple variables can be assigned with the same value:"
   ]
  },
  {
   "cell_type": "code",
   "execution_count": null,
   "metadata": {
    "slideshow": {
     "slide_type": "-"
    }
   },
   "outputs": [],
   "source": [
    "x = y = 1\n",
    "print(x, \"+\", y, \"=\", x+y )"
   ]
  },
  {
   "cell_type": "markdown",
   "metadata": {},
   "source": [
    "importing a library"
   ]
  },
  {
   "cell_type": "code",
   "execution_count": null,
   "metadata": {},
   "outputs": [],
   "source": [
    "import sys\n",
    "print(sys.version)"
   ]
  },
  {
   "cell_type": "code",
   "execution_count": null,
   "metadata": {},
   "outputs": [],
   "source": [
    "import os\n",
    "print(os.path.exists(''))"
   ]
  },
  {
   "cell_type": "code",
   "execution_count": null,
   "metadata": {},
   "outputs": [],
   "source": [
    "from glob import glob\n",
    "print(glob('./*ipynb'))"
   ]
  },
  {
   "cell_type": "markdown",
   "metadata": {},
   "source": [
    "More information about importing libs here:"
   ]
  }
 ],
 "metadata": {
  "kernelspec": {
   "display_name": "Python 3",
   "language": "python",
   "name": "python3"
  },
  "language_info": {
   "codemirror_mode": {
    "name": "ipython",
    "version": 3
   },
   "file_extension": ".py",
   "mimetype": "text/x-python",
   "name": "python",
   "nbconvert_exporter": "python",
   "pygments_lexer": "ipython3",
   "version": "3.5.3"
  }
 },
 "nbformat": 4,
 "nbformat_minor": 4
}
