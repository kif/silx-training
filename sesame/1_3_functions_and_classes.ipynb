{
 "cells": [
  {
   "cell_type": "markdown",
   "metadata": {
    "slideshow": {
     "slide_type": "slide"
    }
   },
   "source": [
    "# Functions\n",
    "\n",
    "In programming, a function is a named section of a program that performs a specific task.\n",
    "\n",
    "## How to create a function?\n",
    "\n",
    "In python we use the `def` statement to define a new function and place the content of the function in an indented block."
   ]
  },
  {
   "cell_type": "code",
   "execution_count": null,
   "metadata": {
    "slideshow": {
     "slide_type": "-"
    }
   },
   "outputs": [],
   "source": [
    "def myadd(myparam1, myparam2):\n",
    "    print('my first parameter is %s' % myparam1)\n",
    "    print('my second parameter is %s' % myparam2)\n",
    "    return myparam1 + myparam2"
   ]
  },
  {
   "cell_type": "code",
   "execution_count": null,
   "metadata": {
    "slideshow": {
     "slide_type": "fragment"
    }
   },
   "outputs": [],
   "source": [
    "#Call of a function\n",
    "myadd(myparam1=12, myparam2=6)"
   ]
  },
  {
   "cell_type": "markdown",
   "metadata": {
    "slideshow": {
     "slide_type": "subslide"
    }
   },
   "source": [
    "## Documentation of the function\n",
    "\n",
    "One should use a **doc-string**, i.e. a string defining what the function does as first statement of the function:"
   ]
  },
  {
   "cell_type": "code",
   "execution_count": null,
   "metadata": {
    "slideshow": {
     "slide_type": "fragment"
    }
   },
   "outputs": [],
   "source": [
    "def myadd(myparam1, myparam2):\n",
    "    \"return the addition of the two input parameters\"\n",
    "    print('my first parameter is %s' % myparam1)\n",
    "    print('my second parameter is %s' % myparam2)\n",
    "    return myparam1 + myparam2\n",
    "\n",
    "help(myadd)\n"
   ]
  },
  {
   "cell_type": "markdown",
   "metadata": {
    "slideshow": {
     "slide_type": "fragment"
    }
   },
   "source": [
    "You can automatically generate html, pdf, latex ... documentations from those docstrings.\n",
    "This part is presented in the software engineering training."
   ]
  },
  {
   "cell_type": "markdown",
   "metadata": {
    "slideshow": {
     "slide_type": "subslide"
    }
   },
   "source": [
    "## Hands on:\n",
    "\n",
    "Write a function solving the quadratic equation. This function will take a, b and c in input and return the list of solutions (in **R**) for:\n",
    "$$\n",
    "{a.x^2}+b.x+c=0\n",
    "$$\n",
    "Reminder:\n",
    "$$\n",
    "    {\\Delta}={b^2}-4*{ac}\n",
    "$$\n",
    "if ${\\Delta}>0$ then the equation has two solutions\n",
    "$$\n",
    "        \\frac{-b - {\\sqrt{\\Delta}}}{2a} \n",
    "$$\n",
    "and\n",
    "$$\n",
    "        \\frac{-b + {\\sqrt{\\Delta}}}{2a}\n",
    "$$\n",
    "if ${\\Delta}=0$ the the equation has one solution\n",
    "$$        \n",
    "         \\frac{-b}{2a}\n",
    "$$\n",
    "if ${\\Delta}<0$ then there is no (real) solution\n",
    "\n",
    "**Nota:**\n",
    "square root of x can be obtained by x**(0.5)\n",
    "\n",
    "``` python\n",
    "def sqrt(x):\n",
    "    return x**(0.5)\n",
    "```\n"
   ]
  },
  {
   "cell_type": "code",
   "execution_count": null,
   "metadata": {
    "slideshow": {
     "slide_type": "subslide"
    }
   },
   "outputs": [],
   "source": [
    "# solution\n",
    "import inspect\n",
    "from solution_quadratic_function import polynom\n",
    "print('Solution:')\n",
    "print(inspect.getsource(polynom))"
   ]
  },
  {
   "cell_type": "code",
   "execution_count": null,
   "metadata": {
    "slideshow": {
     "slide_type": "fragment"
    }
   },
   "outputs": [],
   "source": [
    "#example of usage:\n",
    "polynom(1,5,1)"
   ]
  },
  {
   "cell_type": "markdown",
   "metadata": {
    "slideshow": {
     "slide_type": "subslide"
    }
   },
   "source": [
    "## Function parameters:\n",
    "\n",
    "* Default values for a parameter can be given after an `=` sign\n",
    "* All parameters can be seen as a tuple using the `*args` notation where args contains all arguments\n",
    "* All parameters can be seen as a dictionnary using the `**kwargs` notation\n"
   ]
  },
  {
   "cell_type": "code",
   "execution_count": null,
   "metadata": {
    "slideshow": {
     "slide_type": "fragment"
    }
   },
   "outputs": [],
   "source": [
    "def myfunction(myparam=5):\n",
    "    print('my parameter is %s' % myparam)\n",
    "\n",
    "\n",
    "myfunction()\n",
    "myfunction(\"toto\")\n",
    "myfunction(myparam=\"titi\")"
   ]
  },
  {
   "cell_type": "code",
   "execution_count": null,
   "metadata": {
    "slideshow": {
     "slide_type": "fragment"
    }
   },
   "outputs": [],
   "source": [
    "  def anyarg_function1(*unamedargs):\n",
    "        print(\"I got those arguments in a tuple:\")\n",
    "        print(unamedargs)\n",
    "\n",
    "anyarg_function1()\n",
    "anyarg_function1(5)\n",
    "anyarg_function1(\"Turlu\", \"tutu\", \"chapeau\", \"pointu\")"
   ]
  },
  {
   "cell_type": "code",
   "execution_count": null,
   "metadata": {
    "slideshow": {
     "slide_type": "subslide"
    }
   },
   "outputs": [],
   "source": [
    "  def anyarg_function2(**kwargs):\n",
    "        print(\"I got those arguments in a dict:\")\n",
    "        print(kwargs)\n",
    "\n",
    "anyarg_function2()\n",
    "anyarg_function2(arg1=5)"
   ]
  },
  {
   "cell_type": "code",
   "execution_count": null,
   "metadata": {
    "slideshow": {
     "slide_type": "subslide"
    }
   },
   "outputs": [],
   "source": [
    "def anyarg_function3(r, n=12, *arglist, **argdict):\n",
    "    print('r param = %s' % r)\n",
    "    print('n param = %s' % n)\n",
    "    if len(arglist) > 0:\n",
    "        print('got %s unnamed argument ' % len(arglist))\n",
    "        for arg in arglist:\n",
    "            print('- %s' % arg)\n",
    "    if len(argdict) > 0:\n",
    "        print('got %s named argument ' % len(argdict))\n",
    "        for key in argdict:\n",
    "            print('- name = %s , value = %s ' % (key, argdict[key]))\n",
    "\n",
    "anyarg_function3(\"Turlu\", \"tutu\", \"chapeau\", \"pointu\", souris=\"formage\", chat=\"souris\")"
   ]
  },
  {
   "cell_type": "markdown",
   "metadata": {
    "slideshow": {
     "slide_type": "subslide"
    }
   },
   "source": [
    "## Warning about default mutable objects:\n",
    "\n",
    "![warning](img/warning.png)\n",
    "\n",
    "Never use mutable objects as default parameter, or you will experience trouble !!!\n",
    "\n",
    "If the parameter is a mutable, its default value should generally be None (immutable) and initialize an empty container.\n",
    "\n",
    "Example:\n"
   ]
  },
  {
   "cell_type": "code",
   "execution_count": null,
   "metadata": {
    "slideshow": {
     "slide_type": "-"
    }
   },
   "outputs": [],
   "source": [
    "def bad_append(any_list=[]):\n",
    "    \"\"\"Append 1 to provided list and return it.\n",
    "    If no list is given as parameter, use empty list.\"\"\"\n",
    "    any_list.append(1)\n",
    "    return any_list\n",
    "\n",
    "\n",
    "print(bad_append())"
   ]
  },
  {
   "cell_type": "code",
   "execution_count": null,
   "metadata": {
    "slideshow": {
     "slide_type": "fragment"
    }
   },
   "outputs": [],
   "source": [
    "print(bad_append())"
   ]
  },
  {
   "cell_type": "markdown",
   "metadata": {
    "slideshow": {
     "slide_type": "subslide"
    }
   },
   "source": [
    "### Solution\n",
    "\n",
    "The default value should generally be `None` which is immutable and initialize an empty container if needed.\n",
    "\n"
   ]
  },
  {
   "cell_type": "code",
   "execution_count": null,
   "metadata": {
    "slideshow": {
     "slide_type": "subslide"
    }
   },
   "outputs": [],
   "source": [
    "def good_append(any_list=None):\n",
    "    if any_list is None:\n",
    "         any_list = []\n",
    "    any_list.append(1)\n",
    "    return any_list\n",
    "\n",
    "print(good_append())\n",
    "print(good_append())\n",
    "print(good_append())\n",
    "print(good_append())\n"
   ]
  },
  {
   "cell_type": "markdown",
   "metadata": {
    "slideshow": {
     "slide_type": "subslide"
    }
   },
   "source": [
    "## Lambda function\n",
    "\n",
    "One can define **anonymous** function, sometimes called lambda function in functional programing languages.\n",
    "\n",
    "\n",
    "**Nota:** We don't expect you to use lambda, but this is just to explain why you can get an error when trying to use a variable called `lambda`, as it is a reserved keyword."
   ]
  },
  {
   "cell_type": "code",
   "execution_count": null,
   "metadata": {
    "slideshow": {
     "slide_type": "fragment"
    }
   },
   "outputs": [],
   "source": [
    "pow2=lambda x: x*x\n",
    "\n",
    "pow2(5)"
   ]
  },
  {
   "cell_type": "code",
   "execution_count": null,
   "metadata": {
    "slideshow": {
     "slide_type": "fragment"
    }
   },
   "outputs": [],
   "source": [
    "lambda = 1.3e-10"
   ]
  },
  {
   "cell_type": "markdown",
   "metadata": {
    "slideshow": {
     "slide_type": "slide"
    }
   },
   "source": [
    "# Classes\n",
    "\n",
    "Classes are used for Object Oriented Programming, they are **out of the scope of this training**.\n",
    "\n",
    "## Definition\n",
    "They are defined by the `class` keyword to define the block corresponding to the class definition.\n",
    "The parameter `self` passed as first argument of any method is used to retrive the instance of the class.\n",
    "The constructor method is called `__init__`, there is usually no destructor as objects are *garbage collected* in Python.\n",
    "\n",
    "Here is just a simple example:"
   ]
  },
  {
   "cell_type": "code",
   "execution_count": null,
   "metadata": {
    "slideshow": {
     "slide_type": "subslide"
    }
   },
   "outputs": [],
   "source": [
    "class MyClass(object):\n",
    "    \"Simple class inheriting from object\"\n",
    "    def __init__(self, param):\n",
    "        \"Constructor method\"\n",
    "        object.__init__(self)\n",
    "        self.param = param\n",
    "\n",
    "    def mymethod(self):\n",
    "        print('value of my param is: %s'% self.param)"
   ]
  },
  {
   "cell_type": "markdown",
   "metadata": {
    "slideshow": {
     "slide_type": "subslide"
    }
   },
   "source": [
    "## Instanciation\n",
    "\n",
    "Instanciation is the creation of an object of a given class.\n",
    "\n"
   ]
  },
  {
   "cell_type": "code",
   "execution_count": null,
   "metadata": {
    "slideshow": {
     "slide_type": "fragment"
    }
   },
   "outputs": [],
   "source": [
    "# creation of a new class instance\n",
    "c = MyClass(2)\n",
    "\n",
    "# access to a class method\n",
    "c.mymethod()"
   ]
  },
  {
   "cell_type": "code",
   "execution_count": null,
   "metadata": {
    "slideshow": {
     "slide_type": "fragment"
    }
   },
   "outputs": [],
   "source": [
    "# access to a class attribute\n",
    "c.param"
   ]
  },
  {
   "cell_type": "code",
   "execution_count": null,
   "metadata": {
    "slideshow": {
     "slide_type": "fragment"
    }
   },
   "outputs": [],
   "source": [
    "# check the class of an object\n",
    "isinstance(c, MyClass) "
   ]
  }
 ],
 "metadata": {
  "kernelspec": {
   "display_name": "Python 3",
   "language": "python",
   "name": "python3"
  },
  "language_info": {
   "codemirror_mode": {
    "name": "ipython",
    "version": 3
   },
   "file_extension": ".py",
   "mimetype": "text/x-python",
   "name": "python",
   "nbconvert_exporter": "python",
   "pygments_lexer": "ipython3",
   "version": "3.7.3"
  }
 },
 "nbformat": 4,
 "nbformat_minor": 4
}
