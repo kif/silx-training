{
 "cells": [
  {
   "cell_type": "markdown",
   "metadata": {},
   "source": [
    "![hercules](img/Hercules_sesame.jpg)"
   ]
  },
  {
   "cell_type": "markdown",
   "metadata": {},
   "source": [
    "# Python & hdf5\n",
    "\n",
    "*goal: Overview of python, being to use data from hdf5 file using python*\n",
    "\n",
    "resources:https://github.com/silx-kit/silx-training/sesame\n",
    "\n",
    "``` bash\n",
    "git clone https://github.com/silx-kit/silx-training/sesame\n",
    "```\n",
    "\n",
    "or from the web interface: 'clone or download' -> 'download zip' "
   ]
  },
  {
   "cell_type": "markdown",
   "metadata": {},
   "source": [
    "summary:\n",
    "\n",
    "- quick round table\n",
    "- introduction to python (0_introduction.ipynb & 1_1_python_startup.ipynb)\n",
    "- a word about numpy (2_numpy.ipynb)\n",
    "- hdf5 & h5py (3_2_hdf5_h5py.ipynb)"
   ]
  },
  {
   "cell_type": "markdown",
   "metadata": {},
   "source": [
    "## round table time\n",
    "\n",
    "now you can either:\n",
    "\n",
    "* open notebooks from sesame jupyterhub sever:\n",
    "\n",
    "http://10.1.27.10:8000\n",
    "\n",
    "They should have provide you a login / password\n",
    "\n",
    "![sesame jupyterhub](img/sesame_jupyterhub.png)\n",
    "\n",
    "* open the first notebook locally with jupyter-lab or jupyter-notebook\n",
    "\n",
    "``` bash\n",
    ">>> jupyter-lab\n",
    "```\n",
    "``` bash\n",
    ">>> jupyter notebook\n",
    "```\n",
    "\n",
    "![jupter-lab interface](img/jupyterlab_screenshot.png)\n",
    "* use [binder](https://mybinder.org/v2/gh/silx-kit/silx-training/main)\n",
    "\n",
    "![binder interface](img/binder_screenshot.png)\n",
    "\n",
    "* just follow the tutorial and play with a python console\n",
    "\n",
    "``` bash\n",
    ">>> python\n",
    "```\n",
    "\n",
    "![python interface](img/python_screenshot.png)"
   ]
  }
 ],
 "metadata": {
  "kernelspec": {
   "display_name": "Python 3",
   "language": "python",
   "name": "python3"
  },
  "language_info": {
   "codemirror_mode": {
    "name": "ipython",
    "version": 3
   },
   "file_extension": ".py",
   "mimetype": "text/x-python",
   "name": "python",
   "nbconvert_exporter": "python",
   "pygments_lexer": "ipython3",
   "version": "3.6.6"
  }
 },
 "nbformat": 4,
 "nbformat_minor": 4
}
