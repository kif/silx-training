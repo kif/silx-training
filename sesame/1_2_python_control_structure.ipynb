{
 "cells": [
  {
   "cell_type": "markdown",
   "metadata": {
    "slideshow": {
     "slide_type": "slide"
    }
   },
   "source": [
    "# Control structures: blocks\n",
    "\n",
    "## Code structure\n",
    "\n",
    "\n",
    "Python uses a column `:` at the end of the line and 4 white-spaces indentation\n",
    "to establish code block structure.\n",
    "\n",
    "Many other programming languages uses braces { }, not python.\n",
    "\n",
    "\n"
   ]
  },
  {
   "cell_type": "markdown",
   "metadata": {
    "slideshow": {
     "slide_type": "subslide"
    }
   },
   "source": [
    "```\n",
    "\n",
    "    Block 1\n",
    "    ...\n",
    "    Header making new block:\n",
    "        Block 2\n",
    "        ...\n",
    "        Header making new block:\n",
    "            Block 3\n",
    "            ...\n",
    "        Block 2 (continuation)\n",
    "        ...\n",
    "    Block 1 continuation\n",
    "    ...\n",
    "```\n",
    "\n",
    "- Clearly indicates the beginning of a block\n",
    "- Coding style is mostly uniform. Use **4 spaces**, never <tabs>\n",
    "- Code structure is much more readable and clear.\n",
    "\n"
   ]
  },
  {
   "cell_type": "markdown",
   "metadata": {
    "slideshow": {
     "slide_type": "subslide"
    }
   },
   "source": [
    "## Branching\n",
    "    \n",
    "- Condition branching are made with `if elif else` statements\n",
    "- Can have many ``elif``'s (not recommended)\n",
    "- Can be nested (too much nesting is bad for readability)\n",
    "\n",
    "Example for solving a second order polynomial root:"
   ]
  },
  {
   "cell_type": "code",
   "execution_count": null,
   "metadata": {
    "slideshow": {
     "slide_type": "fragment"
    }
   },
   "outputs": [],
   "source": [
    "import math\n",
    "a = -1\n",
    "b = 2\n",
    "c = 1\n",
    "q2 = b * b - 4.0 * a * c\n",
    "print(\"Determinant is \", q2)\n",
    "if q2 < 0:\n",
    "    print(\"No real solution\")\n",
    "elif q2 > 0:\n",
    "    x1 = (-b + math.sqrt(q2)) / (2.0 * a)\n",
    "    x2 = (-b - math.sqrt(q2)) / (2.0 * a)\n",
    "    print(\"Two solutions %.2f and %.2f\" % (x1, x2))\n",
    "else:\n",
    "    x = -b / (2.0 * a)\n",
    "    print(\"One solution: %.2f\" % x)\n"
   ]
  },
  {
   "cell_type": "markdown",
   "metadata": {
    "slideshow": {
     "slide_type": "subslide"
    }
   },
   "source": [
    "## For loop\n",
    "\n",
    "- iterate over a sequence (list, tuple, char in string, keys in dict, any iterator)\n",
    "- no indexes, directly iterate on the sequence objects\n",
    "- when index is really needed, use `enumerate`\n",
    "- One can use multiple sequences in parallel using `zip`"
   ]
  },
  {
   "cell_type": "code",
   "execution_count": null,
   "metadata": {
    "slideshow": {
     "slide_type": "fragment"
    }
   },
   "outputs": [],
   "source": [
    "ingredients = [\"spam\", \"eggs\", \"ham\", \"spam\", \"sausages\"]\n",
    "for food in ingredients:\n",
    "     print(\"I like %s\" % food)"
   ]
  },
  {
   "cell_type": "code",
   "execution_count": null,
   "metadata": {
    "slideshow": {
     "slide_type": "fragment"
    }
   },
   "outputs": [],
   "source": [
    "for idx, food in enumerate(ingredients[::-1]):\n",
    "    print(\"%s is number %d in my top 5 of foods\" % (food, len(ingredients)- idx))"
   ]
  },
  {
   "cell_type": "code",
   "execution_count": null,
   "metadata": {
    "slideshow": {
     "slide_type": "subslide"
    }
   },
   "outputs": [],
   "source": [
    "subjects = [\"Roses\", \"Violets\", \"Sugar\"]\n",
    "verbs = [\"are\", \"are\", \"is\"]\n",
    "adjectives = [\"red,\", \"blue,\", \"sweet.\"] \n",
    "for s, v, a in zip(subjects, verbs, adjectives):\n",
    "    print(\"%s %s %s\" % (s, v, a))"
   ]
  },
  {
   "cell_type": "markdown",
   "metadata": {
    "slideshow": {
     "slide_type": "subslide"
    }
   },
   "source": [
    "## While loop\n",
    "\n",
    "- Iterate while a condition is fulfilled\n",
    "- Make sure the condition becomes unfulfilled, else it could result in infinite loops ...\n"
   ]
  },
  {
   "cell_type": "code",
   "execution_count": null,
   "metadata": {
    "slideshow": {
     "slide_type": "fragment"
    }
   },
   "outputs": [],
   "source": [
    "a, b = 175, 3650\n",
    "stop = False\n",
    "possible_divisor = max(a, b) // 2\n",
    "while possible_divisor >= 1 and not stop:\n",
    "    if a % possible_divisor == 0 and b % possible_divisor == 0:\n",
    "        print(\"Found greatest common divisor: %d\" % possible_divisor)\n",
    "        stop = True\n",
    "    possible_divisor = possible_divisor - 1 \n"
   ]
  },
  {
   "cell_type": "code",
   "execution_count": null,
   "metadata": {
    "slideshow": {
     "slide_type": "fragment"
    }
   },
   "outputs": [],
   "source": [
    "while True: \n",
    "    print(\"I will print this forever\")\n",
    "    \n",
    "# Now you are ready to interrupt the kernel !\n",
    "#go in the menu and click kernel-> interrput\n"
   ]
  },
  {
   "cell_type": "markdown",
   "metadata": {
    "slideshow": {
     "slide_type": "subslide"
    }
   },
   "source": [
    "## Useful commands in loops\n",
    "\n",
    "- `continue`: go directly to the next iteration of the most inner loop\n",
    "- `break`: quit the most inner loop\n",
    "- `pass`: a block cannot be empty; ``pass`` is a command that does nothing\n",
    "- `else`: block executed after the normal exit of the loop.\n"
   ]
  },
  {
   "cell_type": "code",
   "execution_count": null,
   "metadata": {
    "slideshow": {
     "slide_type": "fragment"
    }
   },
   "outputs": [],
   "source": [
    "for i in range(10):\n",
    "    if not i % 7 == 0:\n",
    "        print(\"%d is *not* a multiple of 7\" % i)\n",
    "        continue\n",
    "    print(\"%d is a multiple of 7\" % i)"
   ]
  },
  {
   "cell_type": "code",
   "execution_count": null,
   "metadata": {
    "slideshow": {
     "slide_type": "subslide"
    }
   },
   "outputs": [],
   "source": [
    "n = 112\n",
    "# divide n by 2 until this does no longer return an integer\n",
    "while True:\n",
    "    if n % 2 != 0:\n",
    "        print(\"%d is not a multiple of 2\" % n)\n",
    "        break\n",
    "    print(\"%d is a multiple of 2\" % n)\n",
    "    n = n // 2\n"
   ]
  },
  {
   "cell_type": "markdown",
   "metadata": {
    "slideshow": {
     "slide_type": "slide"
    }
   },
   "source": [
    "## Exercise: Fibonacci series\n",
    "\n",
    "\n",
    "- Fibonacci:\n",
    "    - Each element is the sum of the previous two elements\n",
    "    - The first two elements are 0 and 1\n",
    "\n",
    "- Calculate all elements in this series up to 1000, put them in a list, then print the list.\n",
    "\n",
    "``[0, 1, 1, 2, 3, 5, 8, 13, 21, 34, 55, 89, 144, 233, 377, 610, 987]``\n",
    "\n",
    "prepend the the cell with `%%timeit` to measure the performances"
   ]
  },
  {
   "cell_type": "code",
   "execution_count": null,
   "metadata": {
    "slideshow": {
     "slide_type": "fragment"
    }
   },
   "outputs": [],
   "source": [
    "%%time\n",
    "# Sorry this exercise is not solved\n",
    "print([0, 1, 1, 2, 3, 5, 8, 13, 21, 34, 55, 89, 144, 233, 377, 610, 987])"
   ]
  },
  {
   "cell_type": "code",
   "execution_count": null,
   "metadata": {
    "slideshow": {
     "slide_type": "subslide"
    }
   },
   "outputs": [],
   "source": [
    "import base64, timeit\n",
    "code = [b'CmEsIGIgPSAwLCAxCnJlcyA9IFthLCBiXQp3aGlsZSBiIDwgMTAwMDogCiAgICBhLCBiID0gYiwgYSArIGIKICAgIHJlcy5hcHBlbmQoYikKcmVzID0gcmVzWzotMV0K',\n",
    "        b'CnJlcyA9IFswLCAxXQpuZXh0X2VsID0gMQp3aGlsZSBuZXh0X2VsIDwgMTAwMDogCiAgICByZXMuYXBwZW5kKG5leHRfZWwpCiAgICBuZXh0X2VsID0gcmVzWy0yXSArIHJlc1stMV0KcmVzID0gcmVzWzotMV0K']\n",
    "for i, cod in enumerate(code):\n",
    "    solution = base64.b64decode(cod).decode()\n",
    "    exec_time = timeit.timeit(solution)\n",
    "    print(\"Solution %i takes %.3f µs :\\n %s\"%(i, exec_time, solution))"
   ]
  },
  {
   "cell_type": "code",
   "execution_count": null,
   "metadata": {},
   "outputs": [],
   "source": []
  }
 ],
 "metadata": {
  "kernelspec": {
   "display_name": "Python 3",
   "language": "python",
   "name": "python3"
  },
  "language_info": {
   "codemirror_mode": {
    "name": "ipython",
    "version": 3
   },
   "file_extension": ".py",
   "mimetype": "text/x-python",
   "name": "python",
   "nbconvert_exporter": "python",
   "pygments_lexer": "ipython3",
   "version": "3.6.6"
  }
 },
 "nbformat": 4,
 "nbformat_minor": 4
}
