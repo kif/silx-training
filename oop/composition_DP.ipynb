{
 "cells": [
  {
   "cell_type": "markdown",
   "metadata": {},
   "source": [
    "## Design patterns\n",
    "\n"
   ]
  },
  {
   "cell_type": "markdown",
   "metadata": {},
   "source": []
  },
  {
   "cell_type": "code",
   "execution_count": null,
   "metadata": {},
   "outputs": [],
   "source": []
  },
  {
   "cell_type": "markdown",
   "metadata": {},
   "source": [
    "## Composition\n",
    "\n",
    "### Introduction\n",
    "\n",
    "- *Composition* is another approach, different from *inheritance*, to structure code.\n",
    "- Object Oriented Programming can be achieved with composition.\n",
    "- Both are way to use, re-use and structure objects."
   ]
  },
  {
   "cell_type": "markdown",
   "metadata": {},
   "source": [
    "### Example: Engine Vehicle with inheritance\n",
    "\n",
    "```python\n",
    "class EngineVehicle(object):\n",
    "    def __init__(self, engine_power):\n",
    "        self.engine_power = engine_power\n",
    "        \n",
    "        \n",
    "class Car(EngineVehicle):\n",
    "    def __init__(self, engine_power):\n",
    "        EngineVehicle.__init__(self, engine_power)\n",
    "```"
   ]
  },
  {
   "cell_type": "markdown",
   "metadata": {},
   "source": [
    "### Example: Engine vehicle with composition\n",
    "\n",
    "```python\n",
    "class Engine(object):\n",
    "    def __init__(self, engine_power):\n",
    "        self.engine_power = engine_power\n",
    "        \n",
    "        \n",
    "class Car(object):\n",
    "    def __init__(self, engine_power):\n",
    "        self.engine = Engine(engine_power)\n",
    "```"
   ]
  },
  {
   "cell_type": "markdown",
   "metadata": {},
   "source": [
    "### Composition vs inheritance: what's the difference ?\n",
    "\n",
    "- Inheritance defines a **is a** relationship  (or \"behaves like\")\n",
    "- Composition defines a **has a** relationship\n",
    "\n",
    "`(a car) is a (engine vehicle)`\n",
    "\n",
    "`(a car) has an (engine)`\n"
   ]
  },
  {
   "cell_type": "markdown",
   "metadata": {},
   "source": [
    "### Composition vs inheritance: which should I choose ?\n",
    "\n",
    "It depends on what you want to do !  \n",
    "Usually you can settle this with the following tests:\n",
    "\n",
    "**Structure**\n",
    "  - Does this new class have the same interface as the other class ? \n",
    "\n",
    "**Behavior**\n",
    "  - Does this new class need only a part of the behavior of the other class ? \n",
    "  \n",
    "**Substitution**\n",
    "  - Can the code use `SpecializedClass` instead of `BasicClass` without breaking down ? (the affirmative indicates inheritance)\n",
    "\n",
    "See also: [Liskov principle](https://en.wikipedia.org/wiki/Liskov_substitution_principle).\n",
    "\n"
   ]
  },
  {
   "cell_type": "markdown",
   "metadata": {},
   "source": [
    "### To sum up\n",
    "\n",
    "Inheritance makes the child class expose *all* the interface of the mother class.\n",
    "  - If this is what you actually intended, then inheritance is advised (ex. GUI)\n",
    "  - If this is not what was primarily intended (ex. you only need a part of the features of the other class), composition should be preferred.\n",
    "  \n",
    "Composition often requires lots of wrapping/cabling which can be done:\n",
    "* explicitely (see the previous example)\n",
    "* implicitly using  `__getattr__` but it makes the code far less readable\n",
    "\n",
    "\n",
    "\n"
   ]
  },
  {
   "cell_type": "markdown",
   "metadata": {},
   "source": [
    "## Composition\n"
   ]
  },
  {
   "cell_type": "markdown",
   "metadata": {},
   "source": []
  }
 ],
 "metadata": {
  "kernelspec": {
   "display_name": "Python 3",
   "language": "python",
   "name": "python3"
  },
  "language_info": {
   "codemirror_mode": {
    "name": "ipython",
    "version": 3
   },
   "file_extension": ".py",
   "mimetype": "text/x-python",
   "name": "python",
   "nbconvert_exporter": "python",
   "pygments_lexer": "ipython3",
   "version": "3.5.3"
  }
 },
 "nbformat": 4,
 "nbformat_minor": 2
}
