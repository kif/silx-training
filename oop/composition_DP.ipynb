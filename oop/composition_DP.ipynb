{
 "cells": [
  {
   "cell_type": "markdown",
   "metadata": {},
   "source": [
    "## Composition\n",
    "\n",
    "### Introduction\n",
    "\n",
    "- *Composition* is another approach, different from *inheritance*, to structure code.\n",
    "- Object Oriented Programming can be achieved with composition.\n",
    "- Both are way to use, re-use and structure objects."
   ]
  },
  {
   "cell_type": "markdown",
   "metadata": {},
   "source": [
    "### Example: Engine Vehicle with inheritance\n",
    "\n",
    "```python\n",
    "class EngineVehicle(object):\n",
    "    def __init__(self, engine_power):\n",
    "        self.engine_power = engine_power\n",
    "        \n",
    "        \n",
    "class Car(EngineVehicle):\n",
    "    def __init__(self, engine_power):\n",
    "        EngineVehicle.__init__(self, engine_power)\n",
    "```"
   ]
  },
  {
   "cell_type": "markdown",
   "metadata": {},
   "source": [
    "### Example: Engine vehicle with composition\n",
    "\n",
    "```python\n",
    "class Engine(object):\n",
    "    def __init__(self, engine_power):\n",
    "        self.engine_power = engine_power\n",
    "        \n",
    "        \n",
    "class Car(object):\n",
    "    def __init__(self, engine_power):\n",
    "        self.engine = Engine(engine_power)\n",
    "```"
   ]
  },
  {
   "cell_type": "markdown",
   "metadata": {},
   "source": [
    "### Composition vs inheritance: what's the difference ?\n",
    "\n",
    "- Inheritance defines a **is a** relationship  (or \"behaves like\")\n",
    "- Composition defines a **has a** relationship\n",
    "\n",
    "`(a car) is a (engine vehicle)`\n",
    "\n",
    "`(a car) has an (engine)`\n"
   ]
  },
  {
   "cell_type": "markdown",
   "metadata": {},
   "source": [
    "### Composition vs inheritance: which should I choose ?\n",
    "\n",
    "It depends on what you want to do !  \n",
    "Usually you can settle this with the following tests:\n",
    "\n",
    "**Structure**\n",
    "  - Does this new class have the same interface as the other class ? \n",
    "\n",
    "**Behavior**\n",
    "  - Does this new class need only a part of the behavior of the other class ? \n",
    "  \n",
    "**Substitution**\n",
    "  - Can the code use `SpecializedClass` instead of `BasicClass` without breaking down ? (the affirmative indicates inheritance)\n",
    "\n",
    "See also: [Liskov principle](https://en.wikipedia.org/wiki/Liskov_substitution_principle).\n",
    "\n"
   ]
  },
  {
   "cell_type": "markdown",
   "metadata": {},
   "source": [
    "### To sum up\n",
    "\n",
    "Inheritance makes the child class expose *all* the interface of the mother class.\n",
    "  - If this is what you actually intended, then inheritance is advised (ex. GUI)\n",
    "  - If this is not what was primarily intended (ex. you only need a part of the features of the other class), composition should be preferred.\n",
    "  \n",
    "Composition often requires lots of wrapping/cabling which can be done:\n",
    "* explicitely (see the previous example)\n",
    "* implicitly using  `__getattr__` but it makes the code far less readable\n",
    "\n",
    "\n",
    "\n"
   ]
  },
  {
   "cell_type": "markdown",
   "metadata": {},
   "source": [
    "### Example\n",
    "\n",
    "Let us go back to our `Oxide` example.  \n",
    "An `Oxide` **has a** formula, so it seems reasonable to implement the formula logic in a dedicated class, and to compose this class within `Oxide`.\n",
    "\n",
    "```python\n",
    "class Formula(object):\n",
    "    def __init__(self, metal, nmet, nox):\n",
    "        self.formula = self.compute_formula(metal, nmet, nox)\n",
    "    def compute_formula(self, metal, nmet, nox):\n",
    "        if nmet > 1:\n",
    "            formula = \"%s%iO%i\"%(metal, nmet, nox)\n",
    "        else:\n",
    "            formula = \"%sO%i\"%(metal, nox)\n",
    "        return formula\n",
    "    \n",
    "class Oxide:\n",
    "    \"Defines simple oxides\"\n",
    "      \n",
    "    def __init__(self, metal, nmet, nox):\n",
    "        \"Provide the metal name and the number of them and oxygens\"\n",
    "        self.metal = str(metal)\n",
    "        self.nmet = int(nmet)\n",
    "        self.nox = int(nox)\n",
    "        self._formula = Formula(self.metal, self.nmet, self.nox) # Composition\n",
    "\n",
    "    @property\n",
    "    def formula(self):\n",
    "        return self._formula.formula\n",
    "```"
   ]
  },
  {
   "cell_type": "markdown",
   "metadata": {},
   "source": [
    "## Design Patterns\n",
    "\n",
    "### Introduction\n",
    "\n",
    "A Design Pattern is a generic re-usable solution.\n",
    "  - Recognize a (design) problem/need in your software\n",
    "  - Use a known (design) solution: a design pattern\n",
    "  - Know the limits of this pattern (see \"anti-patterns\")\n",
    "\n",
    "A design pattern is about *design*, not *implementation*, athough some design patterns are not relevant in certains languages (ex. Python with duck typing)\n",
    "\n",
    "Most software engineers agree on good patterns (\"this part should be designed this way\") and bad patterns (\"anti-patterns\").\n",
    "\n",
    "Design Patterns are sometimes obfuscated names for trivial things.\n",
    "\n",
    "See also: [python patterns](https://github.com/faif/python-patterns)."
   ]
  },
  {
   "cell_type": "markdown",
   "metadata": {},
   "source": [
    "### Design anti-patterns\n",
    "\n",
    "Let us start with how *not* to design one's code.  \n",
    "Here are two common design anti-patterns:\n",
    "  - Golden Hammer: \"I just learned how to use a hammer, now I see everything as a nail !\"\n",
    "  - God object: \"This class is really the heart of our architecture, all other classes ultimately inherit from it.\"\n",
    "\n",
    "\n"
   ]
  },
  {
   "cell_type": "markdown",
   "metadata": {},
   "source": [
    "### Types of design patterns\n",
    "\n",
    "The design patterns can be classified as follows:\n",
    "  - Creational\n",
    "    - Factory\n",
    "    - Singleton\n",
    "    - Borg\n",
    "  - Structural\n",
    "    - Adapter: use one class as an API to a number of others\n",
    "    - Facade: simplify an interface\n",
    "    - Proxy: an object funnels operations to something else\n",
    "  - Behavioral\n",
    "    - Template or Framework\n",
    "  - MVC: Model-View-Controller\n",
    "    - Model is doing the work\n",
    "    - Views (many) are displaying the result\n",
    "    - Controller sends signal from Model <-> View\n"
   ]
  },
  {
   "cell_type": "markdown",
   "metadata": {},
   "source": [
    "### Singleton\n",
    "\n",
    "**What**  \n",
    "A singleton is a class which has *one single* instance.   \n",
    "\n",
    "**Usage**  \n",
    "This is used when a *single* class (instance) is needed by all the components of a system.\n",
    "  - Example: shared data/configuration across modules.\n",
    "\n",
    "**Limits**  \n",
    "  - Subclassing is a problem with singletons\n",
    "  - Python modules are intrisically singletons !\n",
    "\n",
    "**Implementation**  \n",
    "\n",
    "In Python, all classes have a `__new__` method which creates the instance (this is a factory !).\n",
    "\n",
    "```python\n",
    "class Singleton(object):\n",
    "    @classmethod\n",
    "    def __new__(cls, *args, **kwargs):\n",
    "        if not hasattr(cls, \"_inst\"):\n",
    "            cls._inst = super(Singleton, cls).__new__(*args, **kwargs)\n",
    "        return cls._inst\n",
    "```\n",
    "**<font color=\"red\">Exercice</font>**   \n",
    "Build a singleton and subclass it"
   ]
  },
  {
   "cell_type": "markdown",
   "metadata": {},
   "source": [
    "### Borg\n",
    "\n",
    "**What**  \n",
    "Like the singleton, the Borg is a \"monostate pattern\".  \n",
    "The difference is that there can be multiple instance of a Borg, but they share the same *state* (not the same *identity*).\n",
    "\n",
    "**Usage**  \n",
    "Same as singleton: shared state/configuration \n",
    "\n",
    "**Limits**\n",
    "  - The borgs do not have the same memory address\n",
    "  \n",
    "**Implementation**\n",
    "\n",
    "In Python, all instances have their own attributes/methods stored in the `__dict__` dictionary.  \n",
    "By forcing the instances to share the same `__dict__`, we implement a Borg (all instances have the same internal state, but they do not have the same memory address).\n",
    "\n",
    "```python\n",
    "class Borg(object):\n",
    "    _shared_state = {}\n",
    "    def __init__(self, *args, **kwargs):\n",
    "        self.__dict__ = self._shared_state\n",
    "```\n",
    "**<font color=\"red\">Exercice</font>**   \n",
    "Build a singleton and subclass it"
   ]
  },
  {
   "cell_type": "markdown",
   "metadata": {},
   "source": [
    "### Framework/Template/self delegation\n",
    "\n",
    "**What**  \n",
    "Defines the skeleton, deferring the definition/implementation of exact steps to subclasses or other cooperating classes.\n",
    "\n",
    "**Usage**  \n",
    "  - Natural way of sub-classing withing OOP\n",
    "  - Super-class contains logic\n",
    "  - Hook methods to be overwritten\n",
    "  - Maximal re-use of logic\n",
    "  \n",
    "**Limits**  \n",
    "  - Need to understand the logic of the framework\n",
    "\n",
    "\n",
    "**Hollywood principle**: \"don't call us, we'll call you !\""
   ]
  },
  {
   "cell_type": "markdown",
   "metadata": {},
   "source": []
  },
  {
   "cell_type": "markdown",
   "metadata": {},
   "source": []
  },
  {
   "cell_type": "markdown",
   "metadata": {},
   "source": []
  }
 ],
 "metadata": {
  "kernelspec": {
   "display_name": "Python 3",
   "language": "python",
   "name": "python3"
  },
  "language_info": {
   "codemirror_mode": {
    "name": "ipython",
    "version": 3
   },
   "file_extension": ".py",
   "mimetype": "text/x-python",
   "name": "python",
   "nbconvert_exporter": "python",
   "pygments_lexer": "ipython3",
   "version": "3.5.3"
  }
 },
 "nbformat": 4,
 "nbformat_minor": 2
}
