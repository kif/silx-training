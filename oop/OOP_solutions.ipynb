{
 "cells": [
  {
   "cell_type": "markdown",
   "metadata": {},
   "source": [
    "# OOP training: solutions"
   ]
  },
  {
   "cell_type": "markdown",
   "metadata": {},
   "source": [
    "## 3.3 - Exercise 1"
   ]
  },
  {
   "cell_type": "code",
   "execution_count": null,
   "metadata": {},
   "outputs": [],
   "source": [
    "class Rectangle:\n",
    "    def __init__(self, width, height):\n",
    "        self.width = width\n",
    "        self.height = height\n",
    "        \n",
    "    def area(self):\n",
    "        return self.width*self.height\n",
    "    \n",
    "    def perimeter(self):\n",
    "        return 2*(self.width+self.height)"
   ]
  },
  {
   "cell_type": "code",
   "execution_count": null,
   "metadata": {},
   "outputs": [],
   "source": [
    "r = Rectangle(4,5)\n",
    "print(r.area(), r.perimeter())"
   ]
  },
  {
   "cell_type": "markdown",
   "metadata": {},
   "source": [
    "## 4.2 - Exercise 2"
   ]
  },
  {
   "cell_type": "code",
   "execution_count": null,
   "metadata": {},
   "outputs": [],
   "source": [
    "class Rectangle:\n",
    "    \"Rectangle class\"\n",
    "    def __init__(self, width, height):\n",
    "        self.width = width\n",
    "        self.height = height\n",
    "        \n",
    "    @property\n",
    "    def area(self):\n",
    "        return self.width*self.height\n",
    "    \n",
    "    @property\n",
    "    def perimeter(self):\n",
    "        return 2*(self.width+self.height)"
   ]
  },
  {
   "cell_type": "code",
   "execution_count": null,
   "metadata": {},
   "outputs": [],
   "source": [
    "r = Rectangle(4,5)\n",
    "print(r.area, r.perimeter)\n",
    "print(r.__doc__)\n",
    "r.__class__.__dict__"
   ]
  },
  {
   "cell_type": "markdown",
   "metadata": {},
   "source": [
    "## 5.1 - Exercise 3"
   ]
  },
  {
   "cell_type": "code",
   "execution_count": null,
   "metadata": {},
   "outputs": [],
   "source": [
    "class Square(Rectangle):\n",
    "    def __init__(self, side):\n",
    "        super().__init__(side, side)\n",
    "    \n",
    "    @property\n",
    "    def area(self):\n",
    "        return self.width*self.height\n",
    "    \n",
    "    @area.setter\n",
    "    def area(self, area):\n",
    "        self.width = self.length = (area)**0.5"
   ]
  },
  {
   "cell_type": "code",
   "execution_count": null,
   "metadata": {},
   "outputs": [],
   "source": [
    "c = Square(5)\n",
    "c.area\n",
    "c.area = 16\n",
    "c.length"
   ]
  },
  {
   "cell_type": "markdown",
   "metadata": {},
   "source": [
    "## 5.3 - Exercise on inheritance: Laue diffraction pattern"
   ]
  },
  {
   "cell_type": "code",
   "execution_count": null,
   "metadata": {},
   "outputs": [],
   "source": [
    "\"\"\"Laue simulation code\"\"\"\n",
    "\n",
    "import numpy\n",
    "\n",
    "def laue_array_size(ncells, oversampling):\n",
    "    \"\"\"Compute the output array size in each dimension\n",
    "\n",
    "    :param int ncells:\n",
    "        Number of unit cells in both directions\n",
    "    :param int oversampling: Oversampling factor\n",
    "    :rtype: int\n",
    "    \"\"\"\n",
    "    return ncells * oversampling\n",
    "\n",
    "def laue_image(ncells, h, k, oversampling):\n",
    "    \"\"\"\n",
    "\n",
    "    :param int ncells:\n",
    "        Number of unit cells in both directions\n",
    "    :param int h:\n",
    "        H Miller index of reflection where to sample space\n",
    "    :param int k:\n",
    "        K Miller index of reflection where to sample space\n",
    "    :param int oversampling:\n",
    "        Oversampling factor\n",
    "    :return: 2D array\n",
    "    :rtype: numpy.ndarray\n",
    "    \"\"\"\n",
    "    size = laue_array_size(ncells, oversampling)\n",
    "\n",
    "    # Prepare cristal structure\n",
    "    n = numpy.arange(ncells)\n",
    "    m = numpy.arange(ncells)\n",
    "\n",
    "    # Prepare sampling positions\n",
    "    h_sampling_pos = numpy.linspace(h - 0.5, h + 0.5, size, endpoint=True)\n",
    "    k_sampling_pos = numpy.linspace(k - 0.5, k + 0.5, size, endpoint=True)\n",
    "\n",
    "    # Do the computation\n",
    "    h, k, n, m = numpy.meshgrid(h_sampling_pos, k_sampling_pos, n, m, sparse=True)\n",
    "\n",
    "    # Sum over the unit-cells (last axis of the array) and take the squared modulus\n",
    "    return numpy.abs(numpy.exp(2j*numpy.pi*(h*n + k*m)).sum(axis=(2,3)))**2"
   ]
  },
  {
   "cell_type": "code",
   "execution_count": null,
   "metadata": {},
   "outputs": [],
   "source": [
    "import threading\n",
    "\n",
    "class LaueThread(threading.Thread):\n",
    "    def __init__(self, ncells, h, k, oversampling):\n",
    "        self.ncells = ncells\n",
    "        self.h = h\n",
    "        self.k = k\n",
    "        self.oversampling = oversampling\n",
    "        self.result = None\n",
    "        super(LaueThread, self).__init__(name=\"LaueThread\", group=None)\n",
    "    def run(self):\n",
    "        self.result = laue_image(self.ncells, self.h, self.k, self.oversampling)"
   ]
  },
  {
   "cell_type": "code",
   "execution_count": null,
   "metadata": {},
   "outputs": [],
   "source": [
    "t=LaueThread(10,5,5,50)\n",
    "t.start()\n",
    "import time\n",
    "for i in range(100): \n",
    "    print(t.result)\n",
    "    time.sleep(0.1)"
   ]
  },
  {
   "cell_type": "code",
   "execution_count": null,
   "metadata": {},
   "outputs": [],
   "source": []
  }
 ],
 "metadata": {
  "kernelspec": {
   "display_name": "Python 3",
   "language": "python",
   "name": "python3"
  },
  "language_info": {
   "codemirror_mode": {
    "name": "ipython",
    "version": 3
   },
   "file_extension": ".py",
   "mimetype": "text/x-python",
   "name": "python",
   "nbconvert_exporter": "python",
   "pygments_lexer": "ipython3",
   "version": "3.5.3"
  }
 },
 "nbformat": 4,
 "nbformat_minor": 2
}
