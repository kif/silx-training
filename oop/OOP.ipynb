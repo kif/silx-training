{
 "cells": [
  {
   "cell_type": "markdown",
   "metadata": {
    "slideshow": {
     "slide_type": "slide"
    }
   },
   "source": [
    "# Object Oriented Programming in Python\n",
    "\n",
    "* Why Object Oriented Programming\n",
    "* From **procedural programming** to **object oriented Programming**\n",
    "* Defining new classes\n",
    "* Properties\n",
    "* Inheritance\n",
    "* Composition\n",
    "* Class and static methods\n",
    "* How does OOP work in python\n",
    "* Presentation of a few design patterns\n",
    "* Definitions\n",
    "* Conclusions\n"
   ]
  },
  {
   "cell_type": "markdown",
   "metadata": {
    "slideshow": {
     "slide_type": "fragment"
    }
   },
   "source": [
    "Very different from Procedural Programming which you are used to.\n",
    "\n",
    "==> Change of paradigm "
   ]
  },
  {
   "cell_type": "markdown",
   "metadata": {
    "slideshow": {
     "slide_type": "slide"
    }
   },
   "source": [
    "## Why Object Oriented Programming\n",
    "\n",
    "* Mandatory for most GUI programming, hence needed for this afternoon's introduction to GUI programming\n",
    "* Object Oriented Programming is mandatory in some languages like Java, but not in Python"
   ]
  },
  {
   "cell_type": "markdown",
   "metadata": {
    "slideshow": {
     "slide_type": "fragment"
    }
   },
   "source": [
    "### Separate the Design from Implementation\n",
    "* Create new classes and define instances of them doing the work\n",
    "* Design can be made by architects (using tools like UML, … )\n",
    "* Implementation can be outsourced to another team"
   ]
  },
  {
   "cell_type": "markdown",
   "metadata": {
    "slideshow": {
     "slide_type": "fragment"
    }
   },
   "source": [
    "### Benefits\n",
    "* Write less code and re-use more. \n",
    "* Rely on external libraries\n",
    "* Get features implemented, both faster and more reliably\n",
    "* Better separation of the different pieces of work to be done"
   ]
  },
  {
   "cell_type": "markdown",
   "metadata": {
    "slideshow": {
     "slide_type": "slide"
    }
   },
   "source": [
    "## Back on  Procedural Programming\n",
    "\n",
    "* Divides your program into reusable 'chunks' called procedures, functions or subroutines\n",
    "* Make the logic of the program separated from low level implementation (easier to understand)"
   ]
  },
  {
   "cell_type": "markdown",
   "metadata": {
    "slideshow": {
     "slide_type": "fragment"
    }
   },
   "source": [
    "### Data separation:\n",
    "* Function take arguments as input and return a value (or modify input)\n",
    "* Input data-structure not always simple …"
   ]
  },
  {
   "cell_type": "markdown",
   "metadata": {
    "slideshow": {
     "slide_type": "fragment"
    }
   },
   "source": [
    "### Limits of Procedural Programming\n",
    "* Often functions ends up in taking dozen of parameters!\n",
    "* It is tempting to use GLOBAL variables which is a very BAD idea\n"
   ]
  },
  {
   "cell_type": "markdown",
   "metadata": {
    "slideshow": {
     "slide_type": "subslide"
    }
   },
   "source": [
    "### Idea of Object Oriented Programming: \n",
    "* Merge data and logics in objects\n",
    "* Avoid global variables"
   ]
  },
  {
   "cell_type": "markdown",
   "metadata": {
    "slideshow": {
     "slide_type": "slide"
    }
   },
   "source": [
    "## What is an object:\n",
    "* An entity that encapsulate data together with functions for manipulating those data. Those function are called **methods** in OOP\n",
    "* In Python everything is object: strings, dictionaries, integers, functions ... \n",
    "\n",
    "This means two strings have certain things in common: they are instances of the same class: **str** !"
   ]
  },
  {
   "cell_type": "markdown",
   "metadata": {
    "slideshow": {
     "slide_type": "fragment"
    }
   },
   "source": [
    "Reminder: In Python, everything is an object !\n",
    "\n",
    "So let's consider the complex number **5+8j** as an exemple !"
   ]
  },
  {
   "cell_type": "code",
   "execution_count": 1,
   "metadata": {
    "slideshow": {
     "slide_type": "fragment"
    }
   },
   "outputs": [
    {
     "name": "stdout",
     "output_type": "stream",
     "text": [
      "(5+8j)\n"
     ]
    },
    {
     "data": {
      "text/plain": [
       "complex"
      ]
     },
     "execution_count": 1,
     "metadata": {},
     "output_type": "execute_result"
    }
   ],
   "source": [
    "z = 5 + 8j\n",
    "print(z)\n",
    "type(z)"
   ]
  },
  {
   "cell_type": "markdown",
   "metadata": {
    "slideshow": {
     "slide_type": "subslide"
    }
   },
   "source": [
    "### An object contains data\n",
    "\n",
    "* In OOP, those data are called *attributes* \n",
    "* Attributes can be accessed with **object.attribute** \n",
    "\n",
    "In this example, the data stored are the *real* and *imag* part of the complex number"
   ]
  },
  {
   "cell_type": "code",
   "execution_count": 2,
   "metadata": {
    "slideshow": {
     "slide_type": "fragment"
    }
   },
   "outputs": [
    {
     "data": {
      "text/plain": [
       "(5.0, 8.0)"
      ]
     },
     "execution_count": 2,
     "metadata": {},
     "output_type": "execute_result"
    }
   ],
   "source": [
    "z.real, z.imag"
   ]
  },
  {
   "cell_type": "markdown",
   "metadata": {
    "slideshow": {
     "slide_type": "fragment"
    }
   },
   "source": [
    "In this example, *real* and *imag* are read-only properties but generally, the access is in read/write. "
   ]
  },
  {
   "cell_type": "markdown",
   "metadata": {
    "slideshow": {
     "slide_type": "slide"
    }
   },
   "source": [
    "## An objects contains logic\n",
    "\n",
    "* The logic is stored in *inner functions* called **methods**. \n",
    "* Methods are defined in the class.\n",
    "* Because methods apply primarly on the *object itself*, the name of the first argument is **self**. \n",
    "* Methods can take other arguments as normal functions do\n",
    "* The *self* argument is provided by default by the object, you don't need to care about \n",
    "when calling the method\n",
    "\n",
    "In our example, the complex number contains a method to calculate the conjugate value:\n",
    "\n"
   ]
  },
  {
   "cell_type": "code",
   "execution_count": 3,
   "metadata": {
    "slideshow": {
     "slide_type": "fragment"
    }
   },
   "outputs": [
    {
     "data": {
      "text/plain": [
       "builtin_function_or_method"
      ]
     },
     "execution_count": 3,
     "metadata": {},
     "output_type": "execute_result"
    }
   ],
   "source": [
    "type(z.conjugate)"
   ]
  },
  {
   "cell_type": "code",
   "execution_count": 4,
   "metadata": {
    "slideshow": {
     "slide_type": "fragment"
    }
   },
   "outputs": [
    {
     "data": {
      "text/plain": [
       "(5-8j)"
      ]
     },
     "execution_count": 4,
     "metadata": {},
     "output_type": "execute_result"
    }
   ],
   "source": [
    "z.conjugate()"
   ]
  },
  {
   "cell_type": "markdown",
   "metadata": {
    "slideshow": {
     "slide_type": "slide"
    }
   },
   "source": [
    "## Object creation\n",
    "\n",
    "* Object creation is called **instantiation** of the class\n",
    "* Instantiation is just like calling the class as if it was a function\n",
    "* One can usually provide arguments when instantiating the class."
   ]
  },
  {
   "cell_type": "code",
   "execution_count": 5,
   "metadata": {
    "slideshow": {
     "slide_type": "fragment"
    }
   },
   "outputs": [
    {
     "data": {
      "text/plain": [
       "complex"
      ]
     },
     "execution_count": 5,
     "metadata": {},
     "output_type": "execute_result"
    }
   ],
   "source": [
    "z = complex(5,8)\n",
    "type(z)"
   ]
  },
  {
   "cell_type": "code",
   "execution_count": 6,
   "metadata": {
    "slideshow": {
     "slide_type": "fragment"
    }
   },
   "outputs": [
    {
     "data": {
      "text/plain": [
       "str"
      ]
     },
     "execution_count": 6,
     "metadata": {},
     "output_type": "execute_result"
    }
   ],
   "source": [
    "s = str(5)\n",
    "type(s)"
   ]
  },
  {
   "cell_type": "markdown",
   "metadata": {
    "slideshow": {
     "slide_type": "fragment"
    }
   },
   "source": [
    "* The *method* responsible for creating objects is called the **constructor**\n",
    "* All parameters passed when creating a object are actually given to the constructor\n",
    "* In Python the constructor is called ``__init__`` and takes also *self* as first argument"
   ]
  },
  {
   "cell_type": "markdown",
   "metadata": {
    "slideshow": {
     "slide_type": "slide"
    }
   },
   "source": [
    "## Defining new classes"
   ]
  },
  {
   "cell_type": "markdown",
   "metadata": {
    "slideshow": {
     "slide_type": "fragment"
    }
   },
   "source": [
    "* The **class** keyword is used to declare the definition of a new class, like *def* for functions\n",
    "* Provide the **name** for the class followed by **colon** to start the implementation."
   ]
  },
  {
   "cell_type": "code",
   "execution_count": 7,
   "metadata": {
    "slideshow": {
     "slide_type": "fragment"
    }
   },
   "outputs": [],
   "source": [
    "class Sample:\n",
    "    \"This is the base class for all my samples\"\n",
    "    pass"
   ]
  },
  {
   "cell_type": "markdown",
   "metadata": {
    "slideshow": {
     "slide_type": "subslide"
    }
   },
   "source": [
    "* Class can **inherit** the structure and methods from a parent class (or superclass).\n",
    "* By default any class inherits from *object*.\n",
    "* The superclass name can be provided in parenthesis:"
   ]
  },
  {
   "cell_type": "code",
   "execution_count": 8,
   "metadata": {
    "slideshow": {
     "slide_type": "fragment"
    }
   },
   "outputs": [],
   "source": [
    "class Oxide(Sample):\n",
    "    \"The class Oxide inherits properties from the Sample class\"\n",
    "    pass"
   ]
  },
  {
   "cell_type": "markdown",
   "metadata": {
    "slideshow": {
     "slide_type": "subslide"
    }
   },
   "source": [
    "* **Methods** are declared like sub-functions of the class\n",
    "* methods always take **self** as **first argument** to refer to the instance itself\n",
    "* The *self* argument allows to access to the attributes and other methods of the class"
   ]
  },
  {
   "cell_type": "markdown",
   "metadata": {
    "slideshow": {
     "slide_type": "subslide"
    }
   },
   "source": [
    "* The *constructor* is a method called `__init__` in Python\n",
    "* The *constructor* always returns the instance itself, no need to specify it.\n",
    "* Hence it is an error to use *return* in a *constructor*.\n",
    "* Like all other methods, the *constructor* takes **self** as first argument\n",
    "* The constructor is responsible for declaring all attributes. Prevents **AttributeError**"
   ]
  },
  {
   "cell_type": "code",
   "execution_count": 9,
   "metadata": {
    "slideshow": {
     "slide_type": "fragment"
    }
   },
   "outputs": [],
   "source": [
    "class Oxide:\n",
    "    \"Defines simple oxides\"\n",
    "    def __init__(self, metal, nmet, nox):\n",
    "        \"Provide the metal name and the number of them and oxygens\"\n",
    "        self.metal = str(metal)\n",
    "        self.nmet = int(nmet)\n",
    "        self.nox = int(nox)\n",
    "    def formula(self):\n",
    "        if self.nmet>1:\n",
    "            formula = \"%s%iO%i\"%(self.metal, self.nmet, self.nox)\n",
    "        else:\n",
    "            formula = \"%sO%i\"%(self.metal, self.nox)\n",
    "        return formula"
   ]
  },
  {
   "cell_type": "code",
   "execution_count": 10,
   "metadata": {
    "slideshow": {
     "slide_type": "fragment"
    }
   },
   "outputs": [
    {
     "data": {
      "text/plain": [
       "'CeO2'"
      ]
     },
     "execution_count": 10,
     "metadata": {},
     "output_type": "execute_result"
    }
   ],
   "source": [
    "ceria = Oxide(\"Ce\", 1, 2)\n",
    "ceria.formula()"
   ]
  },
  {
   "cell_type": "markdown",
   "metadata": {
    "slideshow": {
     "slide_type": "slide"
    }
   },
   "source": [
    "## Naming conventions (PEP8)\n",
    "\n",
    "* Modules should have short, all-lowercase names  and best without underscores\n",
    "* Almost without exception, class names use the CamelCased convention. \n",
    "* Because exceptions are classes, the class naming convention applies.\n",
    "* Function names should be lowercase, with words separated by underscores \n",
    "* Always use *self* for the first argument to instance methods.\n",
    "* Always use *cls* for the first argument to class methods.\n",
    "* Use one leading underscore only for non-public methods and instance variables.\n",
    "* To avoid name clashes with subclasses, use two leading underscores to invoke Python's name mangling rules.\n",
    "* Constants are usually defined on a module level and written in all capital letters with underscores separating words."
   ]
  },
  {
   "cell_type": "markdown",
   "metadata": {
    "slideshow": {
     "slide_type": "fragment"
    }
   },
   "source": [
    "### Other Convention:\n",
    "Define all object's attributes in the constructor (to avoid **AttributeError**)"
   ]
  },
  {
   "cell_type": "markdown",
   "metadata": {
    "slideshow": {
     "slide_type": "slide"
    }
   },
   "source": [
    "## Exercise 1\n",
    "* Define a class representing a rectangle\n",
    "* The constructor should take **width** and **height** as parameter\n",
    "* Add a method to calculate the area, and another for the perimeter\n"
   ]
  },
  {
   "cell_type": "code",
   "execution_count": 11,
   "metadata": {
    "slideshow": {
     "slide_type": "fragment"
    }
   },
   "outputs": [],
   "source": [
    "class Rectangle:\n",
    "    def __init__(self, width, height):\n",
    "        self.width = width\n",
    "        self.height = height\n",
    "    def area(self):\n",
    "        return self.width*self.height\n",
    "    def perimeter(self):\n",
    "        return 2*(self.width+self.height)"
   ]
  },
  {
   "cell_type": "code",
   "execution_count": 12,
   "metadata": {
    "slideshow": {
     "slide_type": "fragment"
    }
   },
   "outputs": [
    {
     "name": "stdout",
     "output_type": "stream",
     "text": [
      "20 18\n"
     ]
    }
   ],
   "source": [
    "r = Rectangle(4,5)\n",
    "print(r.area(), r.perimeter())"
   ]
  },
  {
   "cell_type": "markdown",
   "metadata": {
    "slideshow": {
     "slide_type": "slide"
    }
   },
   "source": [
    "## Accessors & Properties\n",
    "\n",
    "### Accessors are methods to access attributes for which the acces is controled :\n",
    "* There are 3 kind of accessors: getters, setters and deleters \n",
    "\n",
    "``` \n",
    "def get_smth(self):\n",
    "    return self._something\n",
    "def set_smth(self, smth):\n",
    "    self._something = smth\n",
    "def del_smth(self):\n",
    "    self._something = None\n",
    "```\n",
    "\n",
    "* Accessors are useful to expose non-public attributes & allow fine control of attributes (caching, …)\n"
   ]
  },
  {
   "cell_type": "markdown",
   "metadata": {
    "slideshow": {
     "slide_type": "slide"
    }
   },
   "source": [
    "## Properties are accessors that behaves like attributes\n",
    "\n",
    "* Accessors are not pythonic, we prefer **properties**\n",
    "* Obtained by *decorating* the getter with `@property` decorator. \n",
    "* Offers a nice syntax for the user\n",
    "* Exposes a clean API (with indirection)\n",
    "* The *setter* function should have the **same name** as the *getter* and be decorated with `@getter_name.setter`\n",
    "* The *deleter* function should have the **same name** as the *getter* and should be decorated with `@getter_name.deleter`"
   ]
  },
  {
   "cell_type": "code",
   "execution_count": 13,
   "metadata": {
    "slideshow": {
     "slide_type": "subslide"
    }
   },
   "outputs": [],
   "source": [
    "class C(object):\n",
    "    def __init__(self):\n",
    "        self._x = None\n",
    "\n",
    "    @property\n",
    "    def x(self):\n",
    "        \"\"\"I'm the 'x' property.\"\"\"\n",
    "        return self._x\n",
    "\n",
    "    @x.setter\n",
    "    def x(self, value):\n",
    "        self._x = value\n",
    "\n",
    "    @x.deleter\n",
    "    def x(self):\n",
    "        del self._x"
   ]
  },
  {
   "cell_type": "code",
   "execution_count": 14,
   "metadata": {
    "slideshow": {
     "slide_type": "fragment"
    }
   },
   "outputs": [],
   "source": [
    "class C:\n",
    "    def __init__(self):\n",
    "        self.x = None"
   ]
  },
  {
   "cell_type": "markdown",
   "metadata": {
    "slideshow": {
     "slide_type": "fragment"
    }
   },
   "source": [
    "While those two implementations are equivalent, the former offers more control while the second is much more concise.\n",
    "\n",
    "Here is an example of the Oxide class with the formula changed into a *property*."
   ]
  },
  {
   "cell_type": "code",
   "execution_count": 15,
   "metadata": {
    "slideshow": {
     "slide_type": "subslide"
    }
   },
   "outputs": [],
   "source": [
    "class Oxide:\n",
    "    \"Defines simple oxides\"\n",
    "    def __init__(self, metal, nmet, nox):\n",
    "        \"Provide the metal name and the number of them and oxygens\"\n",
    "        self.metal = str(metal)\n",
    "        self.nmet = int(nmet)\n",
    "        self.nox = int(nox)\n",
    "    @property\n",
    "    def formula(self):\n",
    "        if self.nmet>1:\n",
    "            formula = \"%s%iO%i\"%(self.metal, self.nmet, self.nox)\n",
    "        else:\n",
    "            formula = \"%sO%i\"%(self.metal, self.nox)\n",
    "        return formula"
   ]
  },
  {
   "cell_type": "code",
   "execution_count": 16,
   "metadata": {
    "slideshow": {
     "slide_type": "fragment"
    }
   },
   "outputs": [
    {
     "data": {
      "text/plain": [
       "'CeO2'"
      ]
     },
     "execution_count": 16,
     "metadata": {},
     "output_type": "execute_result"
    }
   ],
   "source": [
    "ceria = Oxide(\"Ce\", 1, 2)\n",
    "ceria.formula"
   ]
  },
  {
   "cell_type": "markdown",
   "metadata": {
    "slideshow": {
     "slide_type": "slide"
    }
   },
   "source": [
    "## Execrise 2\n",
    "* Make *area* and *perimeter* two properties the Rectangle class from exercise 1."
   ]
  },
  {
   "cell_type": "code",
   "execution_count": 17,
   "metadata": {
    "slideshow": {
     "slide_type": "subslide"
    }
   },
   "outputs": [],
   "source": [
    "class Rectangle:\n",
    "    \"Rectangle class\"\n",
    "    def __init__(self, width, height):\n",
    "        self.width = width\n",
    "        self.height = height\n",
    "    @property\n",
    "    def area(self):\n",
    "        return self.width*self.height\n",
    "    @property\n",
    "    def perimeter(self):\n",
    "        return 2*(self.width+self.height)"
   ]
  },
  {
   "cell_type": "code",
   "execution_count": 18,
   "metadata": {},
   "outputs": [
    {
     "name": "stdout",
     "output_type": "stream",
     "text": [
      "20 18\n",
      "Rectangle class\n"
     ]
    },
    {
     "data": {
      "text/plain": [
       "mappingproxy({'__dict__': <attribute '__dict__' of 'Rectangle' objects>,\n",
       "              '__doc__': 'Rectangle class',\n",
       "              '__init__': <function __main__.Rectangle.__init__(self, width, height)>,\n",
       "              '__module__': '__main__',\n",
       "              '__weakref__': <attribute '__weakref__' of 'Rectangle' objects>,\n",
       "              'area': <property at 0x7f587c4f9c28>,\n",
       "              'perimeter': <property at 0x7f587c4f9b88>})"
      ]
     },
     "execution_count": 18,
     "metadata": {},
     "output_type": "execute_result"
    }
   ],
   "source": [
    "r = Rectangle(4,5)\n",
    "print(r.area, r.perimeter)\n",
    "print(r.__doc__)\n",
    "r.__class__.__dict__"
   ]
  },
  {
   "cell_type": "markdown",
   "metadata": {
    "slideshow": {
     "slide_type": "slide"
    }
   },
   "source": [
    "## Special methods of classes:\n",
    "* `__new__()`: factory of the class. Allocates the memory before calling the contructor\n",
    "* `__init__()`: constructor of the class. Allways returns the instance\n",
    "* `__str__()`: string to be printed (deprecated)\n",
    "* `__repr__()`: string representing the object (replaces `__str__`)\n",
    "* `__setattr__(“attr”,value)`: add an attribute: obj.attr = value\n",
    "* `__getattribute__(“attr”)`: get an attribute: obj.attr\n",
    "* `__delattr__(“attr”)`: delete an attribute \n",
    "* `__subclasses__()`: list of its derivative classes"
   ]
  },
  {
   "cell_type": "markdown",
   "metadata": {
    "slideshow": {
     "slide_type": "subslide"
    }
   },
   "source": [
    "## Special attributes of instances/objects:\n",
    "* `__class__`: reference to the class itself in the instance\n",
    "* `__doc__`: the documentation string (of the class)\n",
    "* `__dict__`: dictionary containing references to all attributes"
   ]
  },
  {
   "cell_type": "markdown",
   "metadata": {
    "slideshow": {
     "slide_type": "subslide"
    }
   },
   "source": [
    "## Special attributes of classes:\n",
    "* `__doc__`: the documentation string used by the *help* function \n",
    "* `__dict__`: dictionary containing references to all methods, class-attributes, class methods and properties\n",
    "* `__name__`: string representing the name of the class \n",
    "* `__bases__`: the list of superclasses\n",
    "* `__mro__`: method resolution order: order of superclass when resolving method calls "
   ]
  },
  {
   "cell_type": "markdown",
   "metadata": {
    "slideshow": {
     "slide_type": "slide"
    }
   },
   "source": [
    "## Inheritance\n",
    "* Define a new class inheriting from all methods and attributes from a superclass\n",
    "* Some methods of the superclass should be overwritten and new can be appended.\n",
    "* The whole family with the superclass and all subclasses is named **class hierarchy**"
   ]
  },
  {
   "cell_type": "markdown",
   "metadata": {
    "slideshow": {
     "slide_type": "slide"
    }
   },
   "source": [
    "### The framework pattern\n",
    "* Define most of the logic in the superclass (saves time)\n",
    "* Create empty method to be overwritten (abstract methods)\n",
    "* To actually do the work, the concrete classes does:\n",
    "    * Inherit from superclass\n",
    "    * overwrite abstract method and implement them to do the work\n",
    "    * Maximizes the code reuse\n",
    "\n",
    "Inheritance based development is very popular in C++ hence for Qt GUI-programming.\n",
    "\n",
    "But it is not always well suited for Python programming \n"
   ]
  },
  {
   "cell_type": "markdown",
   "metadata": {
    "slideshow": {
     "slide_type": "slide"
    }
   },
   "source": [
    "## Execrise 3\n",
    "* Define a class *Square* which inherits from the *Rectangle* of example 2.\n",
    "* The constructor takes only one parameter: the length of one side. \n",
    "* Add a setter accessor for defining the area hence the length of the side\n",
    "* Define the properties accordingly"
   ]
  },
  {
   "cell_type": "code",
   "execution_count": 19,
   "metadata": {
    "slideshow": {
     "slide_type": "slide"
    }
   },
   "outputs": [],
   "source": [
    "class Square(Rectangle):\n",
    "    def __init__(self, side):\n",
    "        super().__init__(side, side)\n",
    "    @property\n",
    "    def area(self):\n",
    "        return self.width*self.height\n",
    "    @area.setter\n",
    "    def area(self, area):\n",
    "        self.widht = self.length = (area)**0.5"
   ]
  },
  {
   "cell_type": "code",
   "execution_count": 20,
   "metadata": {
    "slideshow": {
     "slide_type": "fragment"
    }
   },
   "outputs": [
    {
     "data": {
      "text/plain": [
       "4.0"
      ]
     },
     "execution_count": 20,
     "metadata": {},
     "output_type": "execute_result"
    }
   ],
   "source": [
    "c = Square(5)\n",
    "c.area\n",
    "c.area = 16\n",
    "c.length"
   ]
  },
  {
   "cell_type": "markdown",
   "metadata": {
    "slideshow": {
     "slide_type": "slide"
    }
   },
   "source": [
    "## Extend or restrict ?\n",
    "\n",
    "According to *pylint*, to fit into one's brain, classes should be limited to:\n",
    "* 20 methods\n",
    "* 7 attributes\n",
    "\n",
    "But inheritance lets you **only** extend classes by adding new methods or attributes"
   ]
  },
  {
   "cell_type": "markdown",
   "metadata": {
    "slideshow": {
     "slide_type": "subslide"
    }
   },
   "source": [
    "## Compostion is another way ...\n",
    "\n",
    "For this a class holds control on other objects."
   ]
  },
  {
   "cell_type": "code",
   "execution_count": 21,
   "metadata": {
    "slideshow": {
     "slide_type": "fragment"
    }
   },
   "outputs": [],
   "source": [
    "class Car:\n",
    "    def __init__(self, *args, ** kwargs):\n",
    "        self.engine = Engine()\n",
    "        self.wheels = [Wheel() for i in range(4)]\n",
    "        self.brakes = Brakes()\n",
    "    def accelerate(self, val):\n",
    "        self.engine.accelerate(val)\n",
    "    def brake(self, val):\n",
    "        self.brakes.brake(val)"
   ]
  },
  {
   "cell_type": "markdown",
   "metadata": {
    "slideshow": {
     "slide_type": "fragment"
    }
   },
   "source": [
    "Composition requires often lots of wrapping/cabling which can be done:\n",
    "* explicitely as in this example \n",
    "* implicitly using  `__getattr__` but it makes the code far less readable\n"
   ]
  },
  {
   "cell_type": "markdown",
   "metadata": {
    "slideshow": {
     "slide_type": "slide"
    }
   },
   "source": [
    "## class-attributes\n",
    "Class are a separate namespace where one can define attributes (variables):"
   ]
  },
  {
   "cell_type": "code",
   "execution_count": 22,
   "metadata": {
    "slideshow": {
     "slide_type": "subslide"
    }
   },
   "outputs": [],
   "source": [
    "class Oxide:\n",
    "    \"Defines simple oxides\"\n",
    "    state = \"solid\"\n",
    "    def __init__(self, metal, nmet, nox):\n",
    "        \"Provide the metal name and the number of them and oxygens\"\n",
    "        self.metal = str(metal)\n",
    "        self.nmet = int(nmet)\n",
    "        self.nox = int(nox)\n",
    "    @property\n",
    "    def formula(self):\n",
    "        if self.nmet>1:\n",
    "            formula = \"%s%iO%i\"%(self.metal, self.nmet, self.nox)\n",
    "        else:\n",
    "            formula = \"%sO%i\"%(self.metal, self.nox)\n",
    "        return formula"
   ]
  },
  {
   "cell_type": "code",
   "execution_count": 23,
   "metadata": {
    "slideshow": {
     "slide_type": "fragment"
    }
   },
   "outputs": [
    {
     "name": "stdout",
     "output_type": "stream",
     "text": [
      "CeO2 solid\n"
     ]
    }
   ],
   "source": [
    "ceria = Oxide(\"Ce\", 1, 2)\n",
    "print(ceria.formula, ceria.state)"
   ]
  },
  {
   "cell_type": "code",
   "execution_count": 24,
   "metadata": {
    "slideshow": {
     "slide_type": "fragment"
    }
   },
   "outputs": [
    {
     "name": "stdout",
     "output_type": "stream",
     "text": [
      "H2O1 solid\n"
     ]
    }
   ],
   "source": [
    "water = Oxide(\"H\", 2, 1)\n",
    "print(water.formula, water.state)"
   ]
  },
  {
   "cell_type": "code",
   "execution_count": 25,
   "metadata": {
    "slideshow": {
     "slide_type": "fragment"
    }
   },
   "outputs": [
    {
     "name": "stdout",
     "output_type": "stream",
     "text": [
      "liquid\n",
      "solid\n",
      "solid\n"
     ]
    }
   ],
   "source": [
    "water.state = \"liquid\"\n",
    "print(water.state)\n",
    "print(water.__class__.state)\n",
    "print(ceria.state)"
   ]
  },
  {
   "cell_type": "markdown",
   "metadata": {
    "slideshow": {
     "slide_type": "fragment"
    }
   },
   "source": [
    "In those cases, the attribute name `state` is searched in this order into: \n",
    "* the instance namespace\n",
    "* the class namespace\n",
    "* all the namspaces of superclasses found in the class hierarchy"
   ]
  },
  {
   "cell_type": "markdown",
   "metadata": {
    "slideshow": {
     "slide_type": "slide"
    }
   },
   "source": [
    "## Class methods\n",
    "\n",
    "Those are methods defined in the class but can access only to class-attributes, not to instance attributes !\n",
    "* Take the `cls` implicit first argument instead of `self` for normal methods.\n",
    "* Have access to the class namespace via the `cls` parameter\n",
    "* Require the use of the **@classmethod** decorator\n"
   ]
  },
  {
   "cell_type": "markdown",
   "metadata": {
    "slideshow": {
     "slide_type": "subslide"
    }
   },
   "source": [
    "## Static methods\n",
    "Those are juste basic functions, juste attached to the class namespace.\n",
    "* In the namespace of the class\n",
    "* Cannot access any instance/class attribute.\n",
    "* No implicitly first argument (no `self`, no `cls`)\n",
    "* Require the use of the **@staticmethod** decorator"
   ]
  },
  {
   "cell_type": "code",
   "execution_count": 26,
   "metadata": {
    "slideshow": {
     "slide_type": "subslide"
    }
   },
   "outputs": [],
   "source": [
    "class Oxide:\n",
    "    \"Defines simple oxides\"\n",
    "    state = \"solid\"\n",
    "    \n",
    "    @classmethod\n",
    "    def print_state(cls):\n",
    "        return \"This %s is in %s state\"%(cls.__name__.lower(),cls.state)\n",
    "    \n",
    "    def __init__(self, metal, nmet, nox):\n",
    "        \"Provide the metal name and the number of them and oxygens\"\n",
    "        self.metal = str(metal)\n",
    "        self.nmet = int(nmet)\n",
    "        self.nox = int(nox)\n",
    "    @property\n",
    "    def formula(self):\n",
    "        if self.nmet>1:\n",
    "            formula = \"%s%iO%i\"%(self.metal, self.nmet, self.nox)\n",
    "        else:\n",
    "            formula = \"%sO%i\"%(self.metal, self.nox)\n",
    "        return formula"
   ]
  },
  {
   "cell_type": "code",
   "execution_count": 27,
   "metadata": {},
   "outputs": [
    {
     "data": {
      "text/plain": [
       "'This oxide is in solid state'"
      ]
     },
     "execution_count": 27,
     "metadata": {},
     "output_type": "execute_result"
    }
   ],
   "source": [
    "ceria = Oxide(\"Ce\", 1, 2)\n",
    "ceria.print_state()"
   ]
  },
  {
   "cell_type": "code",
   "execution_count": 28,
   "metadata": {},
   "outputs": [
    {
     "name": "stdout",
     "output_type": "stream",
     "text": [
      "This oxide is in solid state\n",
      "This oxide is in solid state\n"
     ]
    }
   ],
   "source": [
    "water = Oxide(\"H\", 2, 1)\n",
    "print(water.print_state())\n",
    "water.state = \"liquid\"\n",
    "print(water.print_state())"
   ]
  },
  {
   "cell_type": "markdown",
   "metadata": {
    "slideshow": {
     "slide_type": "slide"
    }
   },
   "source": [
    "## Virtual / abstract methods\n",
    "In Python, all methods can be sub-classed: they are all **virtual**\n",
    "\n",
    "But tricks exist..."
   ]
  },
  {
   "cell_type": "code",
   "execution_count": 29,
   "metadata": {
    "slideshow": {
     "slide_type": "fragment"
    }
   },
   "outputs": [],
   "source": [
    "class AbstractSearch:\n",
    "    def search(self):\n",
    "        '''Abstract method'''\n",
    "        raise NotImplementedError(\"abstract method to be overwritten\")"
   ]
  },
  {
   "cell_type": "markdown",
   "metadata": {
    "slideshow": {
     "slide_type": "slide"
    }
   },
   "source": [
    "## Final classes do not exist in Python\n",
    "\n",
    "Final classes are classes one cannot subclass or inherit from. \n",
    "\n",
    "But tricks exists, for example \n",
    "Here is a trick found in threading.py:"
   ]
  },
  {
   "cell_type": "code",
   "execution_count": 30,
   "metadata": {
    "slideshow": {
     "slide_type": "fragment"
    }
   },
   "outputs": [],
   "source": [
    "def Semaphore(*arg, **kwarg):\n",
    "    return _Semaphore(*arg, **kwarg)"
   ]
  },
  {
   "cell_type": "markdown",
   "metadata": {
    "slideshow": {
     "slide_type": "slide"
    }
   },
   "source": [
    "## How does this all work in Python ?\n",
    "\n",
    "* A class is basically a dictionary with all class-attributes and methods, class-methods and static-methods definied in it. \n",
    "* Each instance is another dictionary which contains the instance attributes\n",
    "* They can be accessed using the `__dict__` attribute:"
   ]
  },
  {
   "cell_type": "code",
   "execution_count": 31,
   "metadata": {
    "slideshow": {
     "slide_type": "fragment"
    }
   },
   "outputs": [
    {
     "name": "stdout",
     "output_type": "stream",
     "text": [
      "nmet :  1\n",
      "metal :  Ce\n",
      "nox :  2\n"
     ]
    }
   ],
   "source": [
    "for k,v in ceria.__dict__.items():\n",
    "    print(k,\": \",v)"
   ]
  },
  {
   "cell_type": "code",
   "execution_count": 32,
   "metadata": {},
   "outputs": [
    {
     "name": "stdout",
     "output_type": "stream",
     "text": [
      "__weakref__ :  <attribute '__weakref__' of 'Oxide' objects>\n",
      "__doc__ :  Defines simple oxides\n",
      "print_state :  <classmethod object at 0x7f587c4ace80>\n",
      "formula :  <property object at 0x7f587c4c8908>\n",
      "state :  solid\n",
      "__dict__ :  <attribute '__dict__' of 'Oxide' objects>\n",
      "__init__ :  <function Oxide.__init__ at 0x7f587c4a8840>\n",
      "__module__ :  __main__\n"
     ]
    }
   ],
   "source": [
    "for k,v in ceria.__class__.__dict__.items():\n",
    "    print(k,\": \",v)"
   ]
  },
  {
   "cell_type": "markdown",
   "metadata": {
    "slideshow": {
     "slide_type": "slide"
    }
   },
   "source": [
    "## Definition (from Grady Booch)\n",
    "\n",
    "Object–oriented programming is a method of implementation in which programs are organized as cooperative collections of objects, each of which represents an instance of some class, and whose classes are all members of a hierarchy of classes united via inheritance relationships”."
   ]
  },
  {
   "cell_type": "markdown",
   "metadata": {
    "slideshow": {
     "slide_type": "slide"
    }
   },
   "source": [
    "## Now a serious exercise ... Laue diffraction pattern\n",
    "\n",
    "In this example we will calculate the diffraction image obtained from a limited set of atoms using the Laue formula. \n",
    "\n",
    "The 2D crystal is composed on a square of NxN atoms.\n",
    "\n",
    "This formula calculates the diffraction image arround the Bragg peak (H, K), actually (H-0.5…H+0.5, K-0.5…K+0.5) considering an oversampling factor. This oversampling factor should be at least 2 to have 2 points per peak. "
   ]
  },
  {
   "cell_type": "code",
   "execution_count": 33,
   "metadata": {},
   "outputs": [],
   "source": [
    "\"\"\"Laue simulation code\"\"\"\n",
    "\n",
    "\n",
    "import numpy\n",
    "\n",
    "\n",
    "def laue_array_size(ncells, oversampling):\n",
    "    \"\"\"Compute the output array size in each dimension\n",
    "\n",
    "    :param int ncells:\n",
    "        Number of unit cells in both directions\n",
    "    :param int oversampling: Oversampling factor\n",
    "    :rtype: int\n",
    "    \"\"\"\n",
    "    return ncells * oversampling\n",
    "\n",
    "\n",
    "def laue_image(ncells, h, k, oversampling):\n",
    "    \"\"\"\n",
    "\n",
    "    :param int ncells:\n",
    "        Number of unit cells in both directions\n",
    "    :param int h:\n",
    "        H Miller index of reflection where to sample space\n",
    "    :param int k:\n",
    "        K Miller index of reflection where to sample space\n",
    "    :param int oversampling:\n",
    "        Oversampling factor\n",
    "    :return: 2D array\n",
    "    :rtype: numpy.ndarray\n",
    "    \"\"\"\n",
    "    size = laue_array_size(ncells, oversampling)\n",
    "\n",
    "    # Prepare cristal structure\n",
    "    n = numpy.arange(ncells)\n",
    "    m = numpy.arange(ncells)\n",
    "\n",
    "    # Prepare sampling positions\n",
    "    h_sampling_pos = numpy.linspace(h - 0.5, h + 0.5, size, endpoint=True)\n",
    "    k_sampling_pos = numpy.linspace(k - 0.5, k + 0.5, size, endpoint=True)\n",
    "\n",
    "    # Do the computation\n",
    "    h, k, n, m = numpy.meshgrid(h_sampling_pos, k_sampling_pos, n, m, sparse=True)\n",
    "\n",
    "    # Sum over the unit-cells (last axis of the array) and take the squared modulus\n",
    "    return numpy.abs(numpy.exp(2j*numpy.pi*(h*n + k*m)).sum(axis=(2,3)))**2\n",
    "\n"
   ]
  },
  {
   "cell_type": "code",
   "execution_count": 34,
   "metadata": {},
   "outputs": [
    {
     "data": {
      "text/plain": [
       "<matplotlib.image.AxesImage at 0x7f587c4d4da0>"
      ]
     },
     "execution_count": 34,
     "metadata": {},
     "output_type": "execute_result"
    },
    {
     "data": {
      "image/png": "[encoded data removed]",
      "text/plain": [
       "<Figure size 432x288 with 1 Axes>"
      ]
     },
     "metadata": {
      "needs_background": "light"
     },
     "output_type": "display_data"
    }
   ],
   "source": [
    "%matplotlib inline\n",
    "from matplotlib. pyplot import subplots\n",
    "fig, ax = subplots()\n",
    "ax.imshow(laue_image(4, 5, 6, 100))"
   ]
  },
  {
   "cell_type": "code",
   "execution_count": 35,
   "metadata": {},
   "outputs": [
    {
     "name": "stdout",
     "output_type": "stream",
     "text": [
      "CPU times: user 26.5 s, sys: 1.5 s, total: 28 s\n",
      "Wall time: 28 s\n"
     ]
    },
    {
     "data": {
      "text/plain": [
       "array([[2.13307989e-27, 2.12113874e-26, 9.41612901e-27, ...,\n",
       "        1.10804288e-25, 6.20606008e-29, 5.56488988e-24],\n",
       "       [7.11094882e-26, 1.56070439e-05, 6.21833958e-05, ...,\n",
       "        6.21833958e-05, 1.56070439e-05, 7.51020542e-27],\n",
       "       [4.44911580e-28, 6.21833958e-05, 2.47758303e-04, ...,\n",
       "        2.47758303e-04, 6.21833958e-05, 1.29199918e-26],\n",
       "       ...,\n",
       "       [2.99834012e-27, 6.21833958e-05, 2.47758303e-04, ...,\n",
       "        2.47758303e-04, 6.21833958e-05, 2.92487075e-26],\n",
       "       [1.66875565e-25, 1.56070439e-05, 6.21833958e-05, ...,\n",
       "        6.21833958e-05, 1.56070439e-05, 7.37487745e-27],\n",
       "       [3.81808678e-26, 1.18266213e-25, 4.46032217e-24, ...,\n",
       "        4.87389428e-26, 8.65717510e-27, 3.95818848e-26]])"
      ]
     },
     "execution_count": 35,
     "metadata": {},
     "output_type": "execute_result"
    }
   ],
   "source": [
    "# The problem is this function can take a while to calculate...\n",
    "%time laue_image(20, 5, 6, 50)"
   ]
  },
  {
   "cell_type": "markdown",
   "metadata": {},
   "source": [
    "The solution is to put this calculation in a thread, \n",
    "Please read the documentation of the `threading.Thead` class and try to make a derivative class that performs the *Laue* calculation in a thread. \n",
    "\n"
   ]
  },
  {
   "cell_type": "code",
   "execution_count": 36,
   "metadata": {},
   "outputs": [],
   "source": [
    "import threading\n",
    "threading.Thread?"
   ]
  },
  {
   "cell_type": "markdown",
   "metadata": {
    "slideshow": {
     "slide_type": "fragment"
    }
   },
   "source": [
    "One way of using `Thread` is to override the `run` method in a subclass.\n",
    "\n",
    "The constructor should take all parameters for "
   ]
  },
  {
   "cell_type": "code",
   "execution_count": 41,
   "metadata": {
    "slideshow": {
     "slide_type": "slide"
    }
   },
   "outputs": [],
   "source": [
    "class LaueThread(threading.Thread):\n",
    "    def __init__(self, ncells, h, k, oversampling):\n",
    "        self.ncells = ncells\n",
    "        self.h = h\n",
    "        self.k = k\n",
    "        self.oversampling = oversampling\n",
    "        self.result = None\n",
    "        super(LaueThread, self).__init__(name=\"LaueThread\", group=None)\n",
    "    def run(self):\n",
    "        self.result = laue_image(self.ncells, self.h, self.k, self.oversampling)"
   ]
  },
  {
   "cell_type": "code",
   "execution_count": 47,
   "metadata": {},
   "outputs": [
    {
     "name": "stdout",
     "output_type": "stream",
     "text": [
      "None\n",
      "None\n",
      "None\n",
      "None\n",
      "None\n",
      "None\n",
      "None\n",
      "None\n",
      "None\n",
      "None\n",
      "None\n",
      "None\n",
      "None\n",
      "None\n",
      "None\n",
      "None\n",
      "None\n",
      "None\n",
      "[[2.90805684e-26 2.13373899e-27 1.36872182e-26 ... 1.53744753e-27\n",
      "  9.22795086e-27 1.06149123e-26]\n",
      " [2.12856570e-27 1.56705407e-05 6.24414636e-05 ... 6.24414636e-05\n",
      "  1.56705407e-05 1.84694852e-27]\n",
      " [1.37644025e-26 6.24414636e-05 2.48806754e-04 ... 2.48806754e-04\n",
      "  6.24414636e-05 5.40831019e-27]\n",
      " ...\n",
      " [1.53311419e-27 6.24414636e-05 2.48806754e-04 ... 2.48806754e-04\n",
      "  6.24414636e-05 6.25820921e-27]\n",
      " [9.18812816e-27 1.56705407e-05 6.24414636e-05 ... 6.24414636e-05\n",
      "  1.56705407e-05 4.58688720e-28]\n",
      " [1.06149123e-26 1.83660242e-27 5.35105171e-27 ... 6.24838927e-27\n",
      "  4.51682235e-28 2.91613478e-25]]\n",
      "[[2.90805684e-26 2.13373899e-27 1.36872182e-26 ... 1.53744753e-27\n",
      "  9.22795086e-27 1.06149123e-26]\n",
      " [2.12856570e-27 1.56705407e-05 6.24414636e-05 ... 6.24414636e-05\n",
      "  1.56705407e-05 1.84694852e-27]\n",
      " [1.37644025e-26 6.24414636e-05 2.48806754e-04 ... 2.48806754e-04\n",
      "  6.24414636e-05 5.40831019e-27]\n",
      " ...\n",
      " [1.53311419e-27 6.24414636e-05 2.48806754e-04 ... 2.48806754e-04\n",
      "  6.24414636e-05 6.25820921e-27]\n",
      " [9.18812816e-27 1.56705407e-05 6.24414636e-05 ... 6.24414636e-05\n",
      "  1.56705407e-05 4.58688720e-28]\n",
      " [1.06149123e-26 1.83660242e-27 5.35105171e-27 ... 6.24838927e-27\n",
      "  4.51682235e-28 2.91613478e-25]]\n",
      "[[2.90805684e-26 2.13373899e-27 1.36872182e-26 ... 1.53744753e-27\n",
      "  9.22795086e-27 1.06149123e-26]\n",
      " [2.12856570e-27 1.56705407e-05 6.24414636e-05 ... 6.24414636e-05\n",
      "  1.56705407e-05 1.84694852e-27]\n",
      " [1.37644025e-26 6.24414636e-05 2.48806754e-04 ... 2.48806754e-04\n",
      "  6.24414636e-05 5.40831019e-27]\n",
      " ...\n",
      " [1.53311419e-27 6.24414636e-05 2.48806754e-04 ... 2.48806754e-04\n",
      "  6.24414636e-05 6.25820921e-27]\n",
      " [9.18812816e-27 1.56705407e-05 6.24414636e-05 ... 6.24414636e-05\n",
      "  1.56705407e-05 4.58688720e-28]\n",
      " [1.06149123e-26 1.83660242e-27 5.35105171e-27 ... 6.24838927e-27\n",
      "  4.51682235e-28 2.91613478e-25]]\n",
      "[[2.90805684e-26 2.13373899e-27 1.36872182e-26 ... 1.53744753e-27\n",
      "  9.22795086e-27 1.06149123e-26]\n",
      " [2.12856570e-27 1.56705407e-05 6.24414636e-05 ... 6.24414636e-05\n",
      "  1.56705407e-05 1.84694852e-27]\n",
      " [1.37644025e-26 6.24414636e-05 2.48806754e-04 ... 2.48806754e-04\n",
      "  6.24414636e-05 5.40831019e-27]\n",
      " ...\n",
      " [1.53311419e-27 6.24414636e-05 2.48806754e-04 ... 2.48806754e-04\n",
      "  6.24414636e-05 6.25820921e-27]\n",
      " [9.18812816e-27 1.56705407e-05 6.24414636e-05 ... 6.24414636e-05\n",
      "  1.56705407e-05 4.58688720e-28]\n",
      " [1.06149123e-26 1.83660242e-27 5.35105171e-27 ... 6.24838927e-27\n",
      "  4.51682235e-28 2.91613478e-25]]\n",
      "[[2.90805684e-26 2.13373899e-27 1.36872182e-26 ... 1.53744753e-27\n",
      "  9.22795086e-27 1.06149123e-26]\n",
      " [2.12856570e-27 1.56705407e-05 6.24414636e-05 ... 6.24414636e-05\n",
      "  1.56705407e-05 1.84694852e-27]\n",
      " [1.37644025e-26 6.24414636e-05 2.48806754e-04 ... 2.48806754e-04\n",
      "  6.24414636e-05 5.40831019e-27]\n",
      " ...\n",
      " [1.53311419e-27 6.24414636e-05 2.48806754e-04 ... 2.48806754e-04\n",
      "  6.24414636e-05 6.25820921e-27]\n",
      " [9.18812816e-27 1.56705407e-05 6.24414636e-05 ... 6.24414636e-05\n",
      "  1.56705407e-05 4.58688720e-28]\n",
      " [1.06149123e-26 1.83660242e-27 5.35105171e-27 ... 6.24838927e-27\n",
      "  4.51682235e-28 2.91613478e-25]]\n",
      "[[2.90805684e-26 2.13373899e-27 1.36872182e-26 ... 1.53744753e-27\n",
      "  9.22795086e-27 1.06149123e-26]\n",
      " [2.12856570e-27 1.56705407e-05 6.24414636e-05 ... 6.24414636e-05\n",
      "  1.56705407e-05 1.84694852e-27]\n",
      " [1.37644025e-26 6.24414636e-05 2.48806754e-04 ... 2.48806754e-04\n",
      "  6.24414636e-05 5.40831019e-27]\n",
      " ...\n",
      " [1.53311419e-27 6.24414636e-05 2.48806754e-04 ... 2.48806754e-04\n",
      "  6.24414636e-05 6.25820921e-27]\n",
      " [9.18812816e-27 1.56705407e-05 6.24414636e-05 ... 6.24414636e-05\n",
      "  1.56705407e-05 4.58688720e-28]\n",
      " [1.06149123e-26 1.83660242e-27 5.35105171e-27 ... 6.24838927e-27\n",
      "  4.51682235e-28 2.91613478e-25]]\n",
      "[[2.90805684e-26 2.13373899e-27 1.36872182e-26 ... 1.53744753e-27\n",
      "  9.22795086e-27 1.06149123e-26]\n",
      " [2.12856570e-27 1.56705407e-05 6.24414636e-05 ... 6.24414636e-05\n",
      "  1.56705407e-05 1.84694852e-27]\n",
      " [1.37644025e-26 6.24414636e-05 2.48806754e-04 ... 2.48806754e-04\n",
      "  6.24414636e-05 5.40831019e-27]\n",
      " ...\n",
      " [1.53311419e-27 6.24414636e-05 2.48806754e-04 ... 2.48806754e-04\n",
      "  6.24414636e-05 6.25820921e-27]\n",
      " [9.18812816e-27 1.56705407e-05 6.24414636e-05 ... 6.24414636e-05\n",
      "  1.56705407e-05 4.58688720e-28]\n",
      " [1.06149123e-26 1.83660242e-27 5.35105171e-27 ... 6.24838927e-27\n",
      "  4.51682235e-28 2.91613478e-25]]\n",
      "[[2.90805684e-26 2.13373899e-27 1.36872182e-26 ... 1.53744753e-27\n",
      "  9.22795086e-27 1.06149123e-26]\n",
      " [2.12856570e-27 1.56705407e-05 6.24414636e-05 ... 6.24414636e-05\n",
      "  1.56705407e-05 1.84694852e-27]\n",
      " [1.37644025e-26 6.24414636e-05 2.48806754e-04 ... 2.48806754e-04\n",
      "  6.24414636e-05 5.40831019e-27]\n",
      " ...\n",
      " [1.53311419e-27 6.24414636e-05 2.48806754e-04 ... 2.48806754e-04\n",
      "  6.24414636e-05 6.25820921e-27]\n",
      " [9.18812816e-27 1.56705407e-05 6.24414636e-05 ... 6.24414636e-05\n",
      "  1.56705407e-05 4.58688720e-28]\n",
      " [1.06149123e-26 1.83660242e-27 5.35105171e-27 ... 6.24838927e-27\n",
      "  4.51682235e-28 2.91613478e-25]]\n",
      "[[2.90805684e-26 2.13373899e-27 1.36872182e-26 ... 1.53744753e-27\n",
      "  9.22795086e-27 1.06149123e-26]\n",
      " [2.12856570e-27 1.56705407e-05 6.24414636e-05 ... 6.24414636e-05\n",
      "  1.56705407e-05 1.84694852e-27]\n",
      " [1.37644025e-26 6.24414636e-05 2.48806754e-04 ... 2.48806754e-04\n",
      "  6.24414636e-05 5.40831019e-27]\n",
      " ...\n",
      " [1.53311419e-27 6.24414636e-05 2.48806754e-04 ... 2.48806754e-04\n",
      "  6.24414636e-05 6.25820921e-27]\n",
      " [9.18812816e-27 1.56705407e-05 6.24414636e-05 ... 6.24414636e-05\n",
      "  1.56705407e-05 4.58688720e-28]\n",
      " [1.06149123e-26 1.83660242e-27 5.35105171e-27 ... 6.24838927e-27\n",
      "  4.51682235e-28 2.91613478e-25]]\n",
      "[[2.90805684e-26 2.13373899e-27 1.36872182e-26 ... 1.53744753e-27\n",
      "  9.22795086e-27 1.06149123e-26]\n",
      " [2.12856570e-27 1.56705407e-05 6.24414636e-05 ... 6.24414636e-05\n",
      "  1.56705407e-05 1.84694852e-27]\n",
      " [1.37644025e-26 6.24414636e-05 2.48806754e-04 ... 2.48806754e-04\n",
      "  6.24414636e-05 5.40831019e-27]\n",
      " ...\n",
      " [1.53311419e-27 6.24414636e-05 2.48806754e-04 ... 2.48806754e-04\n",
      "  6.24414636e-05 6.25820921e-27]\n",
      " [9.18812816e-27 1.56705407e-05 6.24414636e-05 ... 6.24414636e-05\n",
      "  1.56705407e-05 4.58688720e-28]\n",
      " [1.06149123e-26 1.83660242e-27 5.35105171e-27 ... 6.24838927e-27\n",
      "  4.51682235e-28 2.91613478e-25]]\n",
      "[[2.90805684e-26 2.13373899e-27 1.36872182e-26 ... 1.53744753e-27\n",
      "  9.22795086e-27 1.06149123e-26]\n",
      " [2.12856570e-27 1.56705407e-05 6.24414636e-05 ... 6.24414636e-05\n",
      "  1.56705407e-05 1.84694852e-27]\n",
      " [1.37644025e-26 6.24414636e-05 2.48806754e-04 ... 2.48806754e-04\n",
      "  6.24414636e-05 5.40831019e-27]\n",
      " ...\n",
      " [1.53311419e-27 6.24414636e-05 2.48806754e-04 ... 2.48806754e-04\n",
      "  6.24414636e-05 6.25820921e-27]\n",
      " [9.18812816e-27 1.56705407e-05 6.24414636e-05 ... 6.24414636e-05\n",
      "  1.56705407e-05 4.58688720e-28]\n",
      " [1.06149123e-26 1.83660242e-27 5.35105171e-27 ... 6.24838927e-27\n",
      "  4.51682235e-28 2.91613478e-25]]\n",
      "[[2.90805684e-26 2.13373899e-27 1.36872182e-26 ... 1.53744753e-27\n",
      "  9.22795086e-27 1.06149123e-26]\n",
      " [2.12856570e-27 1.56705407e-05 6.24414636e-05 ... 6.24414636e-05\n",
      "  1.56705407e-05 1.84694852e-27]\n",
      " [1.37644025e-26 6.24414636e-05 2.48806754e-04 ... 2.48806754e-04\n",
      "  6.24414636e-05 5.40831019e-27]\n",
      " ...\n",
      " [1.53311419e-27 6.24414636e-05 2.48806754e-04 ... 2.48806754e-04\n",
      "  6.24414636e-05 6.25820921e-27]\n",
      " [9.18812816e-27 1.56705407e-05 6.24414636e-05 ... 6.24414636e-05\n",
      "  1.56705407e-05 4.58688720e-28]\n",
      " [1.06149123e-26 1.83660242e-27 5.35105171e-27 ... 6.24838927e-27\n",
      "  4.51682235e-28 2.91613478e-25]]\n",
      "[[2.90805684e-26 2.13373899e-27 1.36872182e-26 ... 1.53744753e-27\n",
      "  9.22795086e-27 1.06149123e-26]\n",
      " [2.12856570e-27 1.56705407e-05 6.24414636e-05 ... 6.24414636e-05\n",
      "  1.56705407e-05 1.84694852e-27]\n",
      " [1.37644025e-26 6.24414636e-05 2.48806754e-04 ... 2.48806754e-04\n",
      "  6.24414636e-05 5.40831019e-27]\n",
      " ...\n",
      " [1.53311419e-27 6.24414636e-05 2.48806754e-04 ... 2.48806754e-04\n",
      "  6.24414636e-05 6.25820921e-27]\n",
      " [9.18812816e-27 1.56705407e-05 6.24414636e-05 ... 6.24414636e-05\n",
      "  1.56705407e-05 4.58688720e-28]\n",
      " [1.06149123e-26 1.83660242e-27 5.35105171e-27 ... 6.24838927e-27\n",
      "  4.51682235e-28 2.91613478e-25]]\n",
      "[[2.90805684e-26 2.13373899e-27 1.36872182e-26 ... 1.53744753e-27\n",
      "  9.22795086e-27 1.06149123e-26]\n",
      " [2.12856570e-27 1.56705407e-05 6.24414636e-05 ... 6.24414636e-05\n",
      "  1.56705407e-05 1.84694852e-27]\n",
      " [1.37644025e-26 6.24414636e-05 2.48806754e-04 ... 2.48806754e-04\n",
      "  6.24414636e-05 5.40831019e-27]\n",
      " ...\n",
      " [1.53311419e-27 6.24414636e-05 2.48806754e-04 ... 2.48806754e-04\n",
      "  6.24414636e-05 6.25820921e-27]\n",
      " [9.18812816e-27 1.56705407e-05 6.24414636e-05 ... 6.24414636e-05\n",
      "  1.56705407e-05 4.58688720e-28]\n",
      " [1.06149123e-26 1.83660242e-27 5.35105171e-27 ... 6.24838927e-27\n",
      "  4.51682235e-28 2.91613478e-25]]\n",
      "[[2.90805684e-26 2.13373899e-27 1.36872182e-26 ... 1.53744753e-27\n",
      "  9.22795086e-27 1.06149123e-26]\n",
      " [2.12856570e-27 1.56705407e-05 6.24414636e-05 ... 6.24414636e-05\n",
      "  1.56705407e-05 1.84694852e-27]\n",
      " [1.37644025e-26 6.24414636e-05 2.48806754e-04 ... 2.48806754e-04\n",
      "  6.24414636e-05 5.40831019e-27]\n",
      " ...\n",
      " [1.53311419e-27 6.24414636e-05 2.48806754e-04 ... 2.48806754e-04\n",
      "  6.24414636e-05 6.25820921e-27]\n",
      " [9.18812816e-27 1.56705407e-05 6.24414636e-05 ... 6.24414636e-05\n",
      "  1.56705407e-05 4.58688720e-28]\n",
      " [1.06149123e-26 1.83660242e-27 5.35105171e-27 ... 6.24838927e-27\n",
      "  4.51682235e-28 2.91613478e-25]]\n"
     ]
    },
    {
     "name": "stdout",
     "output_type": "stream",
     "text": [
      "[[2.90805684e-26 2.13373899e-27 1.36872182e-26 ... 1.53744753e-27\n",
      "  9.22795086e-27 1.06149123e-26]\n",
      " [2.12856570e-27 1.56705407e-05 6.24414636e-05 ... 6.24414636e-05\n",
      "  1.56705407e-05 1.84694852e-27]\n",
      " [1.37644025e-26 6.24414636e-05 2.48806754e-04 ... 2.48806754e-04\n",
      "  6.24414636e-05 5.40831019e-27]\n",
      " ...\n",
      " [1.53311419e-27 6.24414636e-05 2.48806754e-04 ... 2.48806754e-04\n",
      "  6.24414636e-05 6.25820921e-27]\n",
      " [9.18812816e-27 1.56705407e-05 6.24414636e-05 ... 6.24414636e-05\n",
      "  1.56705407e-05 4.58688720e-28]\n",
      " [1.06149123e-26 1.83660242e-27 5.35105171e-27 ... 6.24838927e-27\n",
      "  4.51682235e-28 2.91613478e-25]]\n",
      "[[2.90805684e-26 2.13373899e-27 1.36872182e-26 ... 1.53744753e-27\n",
      "  9.22795086e-27 1.06149123e-26]\n",
      " [2.12856570e-27 1.56705407e-05 6.24414636e-05 ... 6.24414636e-05\n",
      "  1.56705407e-05 1.84694852e-27]\n",
      " [1.37644025e-26 6.24414636e-05 2.48806754e-04 ... 2.48806754e-04\n",
      "  6.24414636e-05 5.40831019e-27]\n",
      " ...\n",
      " [1.53311419e-27 6.24414636e-05 2.48806754e-04 ... 2.48806754e-04\n",
      "  6.24414636e-05 6.25820921e-27]\n",
      " [9.18812816e-27 1.56705407e-05 6.24414636e-05 ... 6.24414636e-05\n",
      "  1.56705407e-05 4.58688720e-28]\n",
      " [1.06149123e-26 1.83660242e-27 5.35105171e-27 ... 6.24838927e-27\n",
      "  4.51682235e-28 2.91613478e-25]]\n",
      "[[2.90805684e-26 2.13373899e-27 1.36872182e-26 ... 1.53744753e-27\n",
      "  9.22795086e-27 1.06149123e-26]\n",
      " [2.12856570e-27 1.56705407e-05 6.24414636e-05 ... 6.24414636e-05\n",
      "  1.56705407e-05 1.84694852e-27]\n",
      " [1.37644025e-26 6.24414636e-05 2.48806754e-04 ... 2.48806754e-04\n",
      "  6.24414636e-05 5.40831019e-27]\n",
      " ...\n",
      " [1.53311419e-27 6.24414636e-05 2.48806754e-04 ... 2.48806754e-04\n",
      "  6.24414636e-05 6.25820921e-27]\n",
      " [9.18812816e-27 1.56705407e-05 6.24414636e-05 ... 6.24414636e-05\n",
      "  1.56705407e-05 4.58688720e-28]\n",
      " [1.06149123e-26 1.83660242e-27 5.35105171e-27 ... 6.24838927e-27\n",
      "  4.51682235e-28 2.91613478e-25]]\n",
      "[[2.90805684e-26 2.13373899e-27 1.36872182e-26 ... 1.53744753e-27\n",
      "  9.22795086e-27 1.06149123e-26]\n",
      " [2.12856570e-27 1.56705407e-05 6.24414636e-05 ... 6.24414636e-05\n",
      "  1.56705407e-05 1.84694852e-27]\n",
      " [1.37644025e-26 6.24414636e-05 2.48806754e-04 ... 2.48806754e-04\n",
      "  6.24414636e-05 5.40831019e-27]\n",
      " ...\n",
      " [1.53311419e-27 6.24414636e-05 2.48806754e-04 ... 2.48806754e-04\n",
      "  6.24414636e-05 6.25820921e-27]\n",
      " [9.18812816e-27 1.56705407e-05 6.24414636e-05 ... 6.24414636e-05\n",
      "  1.56705407e-05 4.58688720e-28]\n",
      " [1.06149123e-26 1.83660242e-27 5.35105171e-27 ... 6.24838927e-27\n",
      "  4.51682235e-28 2.91613478e-25]]\n",
      "[[2.90805684e-26 2.13373899e-27 1.36872182e-26 ... 1.53744753e-27\n",
      "  9.22795086e-27 1.06149123e-26]\n",
      " [2.12856570e-27 1.56705407e-05 6.24414636e-05 ... 6.24414636e-05\n",
      "  1.56705407e-05 1.84694852e-27]\n",
      " [1.37644025e-26 6.24414636e-05 2.48806754e-04 ... 2.48806754e-04\n",
      "  6.24414636e-05 5.40831019e-27]\n",
      " ...\n",
      " [1.53311419e-27 6.24414636e-05 2.48806754e-04 ... 2.48806754e-04\n",
      "  6.24414636e-05 6.25820921e-27]\n",
      " [9.18812816e-27 1.56705407e-05 6.24414636e-05 ... 6.24414636e-05\n",
      "  1.56705407e-05 4.58688720e-28]\n",
      " [1.06149123e-26 1.83660242e-27 5.35105171e-27 ... 6.24838927e-27\n",
      "  4.51682235e-28 2.91613478e-25]]\n",
      "[[2.90805684e-26 2.13373899e-27 1.36872182e-26 ... 1.53744753e-27\n",
      "  9.22795086e-27 1.06149123e-26]\n",
      " [2.12856570e-27 1.56705407e-05 6.24414636e-05 ... 6.24414636e-05\n",
      "  1.56705407e-05 1.84694852e-27]\n",
      " [1.37644025e-26 6.24414636e-05 2.48806754e-04 ... 2.48806754e-04\n",
      "  6.24414636e-05 5.40831019e-27]\n",
      " ...\n",
      " [1.53311419e-27 6.24414636e-05 2.48806754e-04 ... 2.48806754e-04\n",
      "  6.24414636e-05 6.25820921e-27]\n",
      " [9.18812816e-27 1.56705407e-05 6.24414636e-05 ... 6.24414636e-05\n",
      "  1.56705407e-05 4.58688720e-28]\n",
      " [1.06149123e-26 1.83660242e-27 5.35105171e-27 ... 6.24838927e-27\n",
      "  4.51682235e-28 2.91613478e-25]]\n",
      "[[2.90805684e-26 2.13373899e-27 1.36872182e-26 ... 1.53744753e-27\n",
      "  9.22795086e-27 1.06149123e-26]\n",
      " [2.12856570e-27 1.56705407e-05 6.24414636e-05 ... 6.24414636e-05\n",
      "  1.56705407e-05 1.84694852e-27]\n",
      " [1.37644025e-26 6.24414636e-05 2.48806754e-04 ... 2.48806754e-04\n",
      "  6.24414636e-05 5.40831019e-27]\n",
      " ...\n",
      " [1.53311419e-27 6.24414636e-05 2.48806754e-04 ... 2.48806754e-04\n",
      "  6.24414636e-05 6.25820921e-27]\n",
      " [9.18812816e-27 1.56705407e-05 6.24414636e-05 ... 6.24414636e-05\n",
      "  1.56705407e-05 4.58688720e-28]\n",
      " [1.06149123e-26 1.83660242e-27 5.35105171e-27 ... 6.24838927e-27\n",
      "  4.51682235e-28 2.91613478e-25]]\n",
      "[[2.90805684e-26 2.13373899e-27 1.36872182e-26 ... 1.53744753e-27\n",
      "  9.22795086e-27 1.06149123e-26]\n",
      " [2.12856570e-27 1.56705407e-05 6.24414636e-05 ... 6.24414636e-05\n",
      "  1.56705407e-05 1.84694852e-27]\n",
      " [1.37644025e-26 6.24414636e-05 2.48806754e-04 ... 2.48806754e-04\n",
      "  6.24414636e-05 5.40831019e-27]\n",
      " ...\n",
      " [1.53311419e-27 6.24414636e-05 2.48806754e-04 ... 2.48806754e-04\n",
      "  6.24414636e-05 6.25820921e-27]\n",
      " [9.18812816e-27 1.56705407e-05 6.24414636e-05 ... 6.24414636e-05\n",
      "  1.56705407e-05 4.58688720e-28]\n",
      " [1.06149123e-26 1.83660242e-27 5.35105171e-27 ... 6.24838927e-27\n",
      "  4.51682235e-28 2.91613478e-25]]\n",
      "[[2.90805684e-26 2.13373899e-27 1.36872182e-26 ... 1.53744753e-27\n",
      "  9.22795086e-27 1.06149123e-26]\n",
      " [2.12856570e-27 1.56705407e-05 6.24414636e-05 ... 6.24414636e-05\n",
      "  1.56705407e-05 1.84694852e-27]\n",
      " [1.37644025e-26 6.24414636e-05 2.48806754e-04 ... 2.48806754e-04\n",
      "  6.24414636e-05 5.40831019e-27]\n",
      " ...\n",
      " [1.53311419e-27 6.24414636e-05 2.48806754e-04 ... 2.48806754e-04\n",
      "  6.24414636e-05 6.25820921e-27]\n",
      " [9.18812816e-27 1.56705407e-05 6.24414636e-05 ... 6.24414636e-05\n",
      "  1.56705407e-05 4.58688720e-28]\n",
      " [1.06149123e-26 1.83660242e-27 5.35105171e-27 ... 6.24838927e-27\n",
      "  4.51682235e-28 2.91613478e-25]]\n",
      "[[2.90805684e-26 2.13373899e-27 1.36872182e-26 ... 1.53744753e-27\n",
      "  9.22795086e-27 1.06149123e-26]\n",
      " [2.12856570e-27 1.56705407e-05 6.24414636e-05 ... 6.24414636e-05\n",
      "  1.56705407e-05 1.84694852e-27]\n",
      " [1.37644025e-26 6.24414636e-05 2.48806754e-04 ... 2.48806754e-04\n",
      "  6.24414636e-05 5.40831019e-27]\n",
      " ...\n",
      " [1.53311419e-27 6.24414636e-05 2.48806754e-04 ... 2.48806754e-04\n",
      "  6.24414636e-05 6.25820921e-27]\n",
      " [9.18812816e-27 1.56705407e-05 6.24414636e-05 ... 6.24414636e-05\n",
      "  1.56705407e-05 4.58688720e-28]\n",
      " [1.06149123e-26 1.83660242e-27 5.35105171e-27 ... 6.24838927e-27\n",
      "  4.51682235e-28 2.91613478e-25]]\n",
      "[[2.90805684e-26 2.13373899e-27 1.36872182e-26 ... 1.53744753e-27\n",
      "  9.22795086e-27 1.06149123e-26]\n",
      " [2.12856570e-27 1.56705407e-05 6.24414636e-05 ... 6.24414636e-05\n",
      "  1.56705407e-05 1.84694852e-27]\n",
      " [1.37644025e-26 6.24414636e-05 2.48806754e-04 ... 2.48806754e-04\n",
      "  6.24414636e-05 5.40831019e-27]\n",
      " ...\n",
      " [1.53311419e-27 6.24414636e-05 2.48806754e-04 ... 2.48806754e-04\n",
      "  6.24414636e-05 6.25820921e-27]\n",
      " [9.18812816e-27 1.56705407e-05 6.24414636e-05 ... 6.24414636e-05\n",
      "  1.56705407e-05 4.58688720e-28]\n",
      " [1.06149123e-26 1.83660242e-27 5.35105171e-27 ... 6.24838927e-27\n",
      "  4.51682235e-28 2.91613478e-25]]\n",
      "[[2.90805684e-26 2.13373899e-27 1.36872182e-26 ... 1.53744753e-27\n",
      "  9.22795086e-27 1.06149123e-26]\n",
      " [2.12856570e-27 1.56705407e-05 6.24414636e-05 ... 6.24414636e-05\n",
      "  1.56705407e-05 1.84694852e-27]\n",
      " [1.37644025e-26 6.24414636e-05 2.48806754e-04 ... 2.48806754e-04\n",
      "  6.24414636e-05 5.40831019e-27]\n",
      " ...\n",
      " [1.53311419e-27 6.24414636e-05 2.48806754e-04 ... 2.48806754e-04\n",
      "  6.24414636e-05 6.25820921e-27]\n",
      " [9.18812816e-27 1.56705407e-05 6.24414636e-05 ... 6.24414636e-05\n",
      "  1.56705407e-05 4.58688720e-28]\n",
      " [1.06149123e-26 1.83660242e-27 5.35105171e-27 ... 6.24838927e-27\n",
      "  4.51682235e-28 2.91613478e-25]]\n",
      "[[2.90805684e-26 2.13373899e-27 1.36872182e-26 ... 1.53744753e-27\n",
      "  9.22795086e-27 1.06149123e-26]\n",
      " [2.12856570e-27 1.56705407e-05 6.24414636e-05 ... 6.24414636e-05\n",
      "  1.56705407e-05 1.84694852e-27]\n",
      " [1.37644025e-26 6.24414636e-05 2.48806754e-04 ... 2.48806754e-04\n",
      "  6.24414636e-05 5.40831019e-27]\n",
      " ...\n",
      " [1.53311419e-27 6.24414636e-05 2.48806754e-04 ... 2.48806754e-04\n",
      "  6.24414636e-05 6.25820921e-27]\n",
      " [9.18812816e-27 1.56705407e-05 6.24414636e-05 ... 6.24414636e-05\n",
      "  1.56705407e-05 4.58688720e-28]\n",
      " [1.06149123e-26 1.83660242e-27 5.35105171e-27 ... 6.24838927e-27\n",
      "  4.51682235e-28 2.91613478e-25]]\n",
      "[[2.90805684e-26 2.13373899e-27 1.36872182e-26 ... 1.53744753e-27\n",
      "  9.22795086e-27 1.06149123e-26]\n",
      " [2.12856570e-27 1.56705407e-05 6.24414636e-05 ... 6.24414636e-05\n",
      "  1.56705407e-05 1.84694852e-27]\n",
      " [1.37644025e-26 6.24414636e-05 2.48806754e-04 ... 2.48806754e-04\n",
      "  6.24414636e-05 5.40831019e-27]\n",
      " ...\n",
      " [1.53311419e-27 6.24414636e-05 2.48806754e-04 ... 2.48806754e-04\n",
      "  6.24414636e-05 6.25820921e-27]\n",
      " [9.18812816e-27 1.56705407e-05 6.24414636e-05 ... 6.24414636e-05\n",
      "  1.56705407e-05 4.58688720e-28]\n",
      " [1.06149123e-26 1.83660242e-27 5.35105171e-27 ... 6.24838927e-27\n",
      "  4.51682235e-28 2.91613478e-25]]\n"
     ]
    },
    {
     "name": "stdout",
     "output_type": "stream",
     "text": [
      "[[2.90805684e-26 2.13373899e-27 1.36872182e-26 ... 1.53744753e-27\n",
      "  9.22795086e-27 1.06149123e-26]\n",
      " [2.12856570e-27 1.56705407e-05 6.24414636e-05 ... 6.24414636e-05\n",
      "  1.56705407e-05 1.84694852e-27]\n",
      " [1.37644025e-26 6.24414636e-05 2.48806754e-04 ... 2.48806754e-04\n",
      "  6.24414636e-05 5.40831019e-27]\n",
      " ...\n",
      " [1.53311419e-27 6.24414636e-05 2.48806754e-04 ... 2.48806754e-04\n",
      "  6.24414636e-05 6.25820921e-27]\n",
      " [9.18812816e-27 1.56705407e-05 6.24414636e-05 ... 6.24414636e-05\n",
      "  1.56705407e-05 4.58688720e-28]\n",
      " [1.06149123e-26 1.83660242e-27 5.35105171e-27 ... 6.24838927e-27\n",
      "  4.51682235e-28 2.91613478e-25]]\n",
      "[[2.90805684e-26 2.13373899e-27 1.36872182e-26 ... 1.53744753e-27\n",
      "  9.22795086e-27 1.06149123e-26]\n",
      " [2.12856570e-27 1.56705407e-05 6.24414636e-05 ... 6.24414636e-05\n",
      "  1.56705407e-05 1.84694852e-27]\n",
      " [1.37644025e-26 6.24414636e-05 2.48806754e-04 ... 2.48806754e-04\n",
      "  6.24414636e-05 5.40831019e-27]\n",
      " ...\n",
      " [1.53311419e-27 6.24414636e-05 2.48806754e-04 ... 2.48806754e-04\n",
      "  6.24414636e-05 6.25820921e-27]\n",
      " [9.18812816e-27 1.56705407e-05 6.24414636e-05 ... 6.24414636e-05\n",
      "  1.56705407e-05 4.58688720e-28]\n",
      " [1.06149123e-26 1.83660242e-27 5.35105171e-27 ... 6.24838927e-27\n",
      "  4.51682235e-28 2.91613478e-25]]\n",
      "[[2.90805684e-26 2.13373899e-27 1.36872182e-26 ... 1.53744753e-27\n",
      "  9.22795086e-27 1.06149123e-26]\n",
      " [2.12856570e-27 1.56705407e-05 6.24414636e-05 ... 6.24414636e-05\n",
      "  1.56705407e-05 1.84694852e-27]\n",
      " [1.37644025e-26 6.24414636e-05 2.48806754e-04 ... 2.48806754e-04\n",
      "  6.24414636e-05 5.40831019e-27]\n",
      " ...\n",
      " [1.53311419e-27 6.24414636e-05 2.48806754e-04 ... 2.48806754e-04\n",
      "  6.24414636e-05 6.25820921e-27]\n",
      " [9.18812816e-27 1.56705407e-05 6.24414636e-05 ... 6.24414636e-05\n",
      "  1.56705407e-05 4.58688720e-28]\n",
      " [1.06149123e-26 1.83660242e-27 5.35105171e-27 ... 6.24838927e-27\n",
      "  4.51682235e-28 2.91613478e-25]]\n",
      "[[2.90805684e-26 2.13373899e-27 1.36872182e-26 ... 1.53744753e-27\n",
      "  9.22795086e-27 1.06149123e-26]\n",
      " [2.12856570e-27 1.56705407e-05 6.24414636e-05 ... 6.24414636e-05\n",
      "  1.56705407e-05 1.84694852e-27]\n",
      " [1.37644025e-26 6.24414636e-05 2.48806754e-04 ... 2.48806754e-04\n",
      "  6.24414636e-05 5.40831019e-27]\n",
      " ...\n",
      " [1.53311419e-27 6.24414636e-05 2.48806754e-04 ... 2.48806754e-04\n",
      "  6.24414636e-05 6.25820921e-27]\n",
      " [9.18812816e-27 1.56705407e-05 6.24414636e-05 ... 6.24414636e-05\n",
      "  1.56705407e-05 4.58688720e-28]\n",
      " [1.06149123e-26 1.83660242e-27 5.35105171e-27 ... 6.24838927e-27\n",
      "  4.51682235e-28 2.91613478e-25]]\n",
      "[[2.90805684e-26 2.13373899e-27 1.36872182e-26 ... 1.53744753e-27\n",
      "  9.22795086e-27 1.06149123e-26]\n",
      " [2.12856570e-27 1.56705407e-05 6.24414636e-05 ... 6.24414636e-05\n",
      "  1.56705407e-05 1.84694852e-27]\n",
      " [1.37644025e-26 6.24414636e-05 2.48806754e-04 ... 2.48806754e-04\n",
      "  6.24414636e-05 5.40831019e-27]\n",
      " ...\n",
      " [1.53311419e-27 6.24414636e-05 2.48806754e-04 ... 2.48806754e-04\n",
      "  6.24414636e-05 6.25820921e-27]\n",
      " [9.18812816e-27 1.56705407e-05 6.24414636e-05 ... 6.24414636e-05\n",
      "  1.56705407e-05 4.58688720e-28]\n",
      " [1.06149123e-26 1.83660242e-27 5.35105171e-27 ... 6.24838927e-27\n",
      "  4.51682235e-28 2.91613478e-25]]\n",
      "[[2.90805684e-26 2.13373899e-27 1.36872182e-26 ... 1.53744753e-27\n",
      "  9.22795086e-27 1.06149123e-26]\n",
      " [2.12856570e-27 1.56705407e-05 6.24414636e-05 ... 6.24414636e-05\n",
      "  1.56705407e-05 1.84694852e-27]\n",
      " [1.37644025e-26 6.24414636e-05 2.48806754e-04 ... 2.48806754e-04\n",
      "  6.24414636e-05 5.40831019e-27]\n",
      " ...\n",
      " [1.53311419e-27 6.24414636e-05 2.48806754e-04 ... 2.48806754e-04\n",
      "  6.24414636e-05 6.25820921e-27]\n",
      " [9.18812816e-27 1.56705407e-05 6.24414636e-05 ... 6.24414636e-05\n",
      "  1.56705407e-05 4.58688720e-28]\n",
      " [1.06149123e-26 1.83660242e-27 5.35105171e-27 ... 6.24838927e-27\n",
      "  4.51682235e-28 2.91613478e-25]]\n",
      "[[2.90805684e-26 2.13373899e-27 1.36872182e-26 ... 1.53744753e-27\n",
      "  9.22795086e-27 1.06149123e-26]\n",
      " [2.12856570e-27 1.56705407e-05 6.24414636e-05 ... 6.24414636e-05\n",
      "  1.56705407e-05 1.84694852e-27]\n",
      " [1.37644025e-26 6.24414636e-05 2.48806754e-04 ... 2.48806754e-04\n",
      "  6.24414636e-05 5.40831019e-27]\n",
      " ...\n",
      " [1.53311419e-27 6.24414636e-05 2.48806754e-04 ... 2.48806754e-04\n",
      "  6.24414636e-05 6.25820921e-27]\n",
      " [9.18812816e-27 1.56705407e-05 6.24414636e-05 ... 6.24414636e-05\n",
      "  1.56705407e-05 4.58688720e-28]\n",
      " [1.06149123e-26 1.83660242e-27 5.35105171e-27 ... 6.24838927e-27\n",
      "  4.51682235e-28 2.91613478e-25]]\n",
      "[[2.90805684e-26 2.13373899e-27 1.36872182e-26 ... 1.53744753e-27\n",
      "  9.22795086e-27 1.06149123e-26]\n",
      " [2.12856570e-27 1.56705407e-05 6.24414636e-05 ... 6.24414636e-05\n",
      "  1.56705407e-05 1.84694852e-27]\n",
      " [1.37644025e-26 6.24414636e-05 2.48806754e-04 ... 2.48806754e-04\n",
      "  6.24414636e-05 5.40831019e-27]\n",
      " ...\n",
      " [1.53311419e-27 6.24414636e-05 2.48806754e-04 ... 2.48806754e-04\n",
      "  6.24414636e-05 6.25820921e-27]\n",
      " [9.18812816e-27 1.56705407e-05 6.24414636e-05 ... 6.24414636e-05\n",
      "  1.56705407e-05 4.58688720e-28]\n",
      " [1.06149123e-26 1.83660242e-27 5.35105171e-27 ... 6.24838927e-27\n",
      "  4.51682235e-28 2.91613478e-25]]\n",
      "[[2.90805684e-26 2.13373899e-27 1.36872182e-26 ... 1.53744753e-27\n",
      "  9.22795086e-27 1.06149123e-26]\n",
      " [2.12856570e-27 1.56705407e-05 6.24414636e-05 ... 6.24414636e-05\n",
      "  1.56705407e-05 1.84694852e-27]\n",
      " [1.37644025e-26 6.24414636e-05 2.48806754e-04 ... 2.48806754e-04\n",
      "  6.24414636e-05 5.40831019e-27]\n",
      " ...\n",
      " [1.53311419e-27 6.24414636e-05 2.48806754e-04 ... 2.48806754e-04\n",
      "  6.24414636e-05 6.25820921e-27]\n",
      " [9.18812816e-27 1.56705407e-05 6.24414636e-05 ... 6.24414636e-05\n",
      "  1.56705407e-05 4.58688720e-28]\n",
      " [1.06149123e-26 1.83660242e-27 5.35105171e-27 ... 6.24838927e-27\n",
      "  4.51682235e-28 2.91613478e-25]]\n",
      "[[2.90805684e-26 2.13373899e-27 1.36872182e-26 ... 1.53744753e-27\n",
      "  9.22795086e-27 1.06149123e-26]\n",
      " [2.12856570e-27 1.56705407e-05 6.24414636e-05 ... 6.24414636e-05\n",
      "  1.56705407e-05 1.84694852e-27]\n",
      " [1.37644025e-26 6.24414636e-05 2.48806754e-04 ... 2.48806754e-04\n",
      "  6.24414636e-05 5.40831019e-27]\n",
      " ...\n",
      " [1.53311419e-27 6.24414636e-05 2.48806754e-04 ... 2.48806754e-04\n",
      "  6.24414636e-05 6.25820921e-27]\n",
      " [9.18812816e-27 1.56705407e-05 6.24414636e-05 ... 6.24414636e-05\n",
      "  1.56705407e-05 4.58688720e-28]\n",
      " [1.06149123e-26 1.83660242e-27 5.35105171e-27 ... 6.24838927e-27\n",
      "  4.51682235e-28 2.91613478e-25]]\n",
      "[[2.90805684e-26 2.13373899e-27 1.36872182e-26 ... 1.53744753e-27\n",
      "  9.22795086e-27 1.06149123e-26]\n",
      " [2.12856570e-27 1.56705407e-05 6.24414636e-05 ... 6.24414636e-05\n",
      "  1.56705407e-05 1.84694852e-27]\n",
      " [1.37644025e-26 6.24414636e-05 2.48806754e-04 ... 2.48806754e-04\n",
      "  6.24414636e-05 5.40831019e-27]\n",
      " ...\n",
      " [1.53311419e-27 6.24414636e-05 2.48806754e-04 ... 2.48806754e-04\n",
      "  6.24414636e-05 6.25820921e-27]\n",
      " [9.18812816e-27 1.56705407e-05 6.24414636e-05 ... 6.24414636e-05\n",
      "  1.56705407e-05 4.58688720e-28]\n",
      " [1.06149123e-26 1.83660242e-27 5.35105171e-27 ... 6.24838927e-27\n",
      "  4.51682235e-28 2.91613478e-25]]\n",
      "[[2.90805684e-26 2.13373899e-27 1.36872182e-26 ... 1.53744753e-27\n",
      "  9.22795086e-27 1.06149123e-26]\n",
      " [2.12856570e-27 1.56705407e-05 6.24414636e-05 ... 6.24414636e-05\n",
      "  1.56705407e-05 1.84694852e-27]\n",
      " [1.37644025e-26 6.24414636e-05 2.48806754e-04 ... 2.48806754e-04\n",
      "  6.24414636e-05 5.40831019e-27]\n",
      " ...\n",
      " [1.53311419e-27 6.24414636e-05 2.48806754e-04 ... 2.48806754e-04\n",
      "  6.24414636e-05 6.25820921e-27]\n",
      " [9.18812816e-27 1.56705407e-05 6.24414636e-05 ... 6.24414636e-05\n",
      "  1.56705407e-05 4.58688720e-28]\n",
      " [1.06149123e-26 1.83660242e-27 5.35105171e-27 ... 6.24838927e-27\n",
      "  4.51682235e-28 2.91613478e-25]]\n",
      "[[2.90805684e-26 2.13373899e-27 1.36872182e-26 ... 1.53744753e-27\n",
      "  9.22795086e-27 1.06149123e-26]\n",
      " [2.12856570e-27 1.56705407e-05 6.24414636e-05 ... 6.24414636e-05\n",
      "  1.56705407e-05 1.84694852e-27]\n",
      " [1.37644025e-26 6.24414636e-05 2.48806754e-04 ... 2.48806754e-04\n",
      "  6.24414636e-05 5.40831019e-27]\n",
      " ...\n",
      " [1.53311419e-27 6.24414636e-05 2.48806754e-04 ... 2.48806754e-04\n",
      "  6.24414636e-05 6.25820921e-27]\n",
      " [9.18812816e-27 1.56705407e-05 6.24414636e-05 ... 6.24414636e-05\n",
      "  1.56705407e-05 4.58688720e-28]\n",
      " [1.06149123e-26 1.83660242e-27 5.35105171e-27 ... 6.24838927e-27\n",
      "  4.51682235e-28 2.91613478e-25]]\n",
      "[[2.90805684e-26 2.13373899e-27 1.36872182e-26 ... 1.53744753e-27\n",
      "  9.22795086e-27 1.06149123e-26]\n",
      " [2.12856570e-27 1.56705407e-05 6.24414636e-05 ... 6.24414636e-05\n",
      "  1.56705407e-05 1.84694852e-27]\n",
      " [1.37644025e-26 6.24414636e-05 2.48806754e-04 ... 2.48806754e-04\n",
      "  6.24414636e-05 5.40831019e-27]\n",
      " ...\n",
      " [1.53311419e-27 6.24414636e-05 2.48806754e-04 ... 2.48806754e-04\n",
      "  6.24414636e-05 6.25820921e-27]\n",
      " [9.18812816e-27 1.56705407e-05 6.24414636e-05 ... 6.24414636e-05\n",
      "  1.56705407e-05 4.58688720e-28]\n",
      " [1.06149123e-26 1.83660242e-27 5.35105171e-27 ... 6.24838927e-27\n",
      "  4.51682235e-28 2.91613478e-25]]\n"
     ]
    },
    {
     "name": "stdout",
     "output_type": "stream",
     "text": [
      "[[2.90805684e-26 2.13373899e-27 1.36872182e-26 ... 1.53744753e-27\n",
      "  9.22795086e-27 1.06149123e-26]\n",
      " [2.12856570e-27 1.56705407e-05 6.24414636e-05 ... 6.24414636e-05\n",
      "  1.56705407e-05 1.84694852e-27]\n",
      " [1.37644025e-26 6.24414636e-05 2.48806754e-04 ... 2.48806754e-04\n",
      "  6.24414636e-05 5.40831019e-27]\n",
      " ...\n",
      " [1.53311419e-27 6.24414636e-05 2.48806754e-04 ... 2.48806754e-04\n",
      "  6.24414636e-05 6.25820921e-27]\n",
      " [9.18812816e-27 1.56705407e-05 6.24414636e-05 ... 6.24414636e-05\n",
      "  1.56705407e-05 4.58688720e-28]\n",
      " [1.06149123e-26 1.83660242e-27 5.35105171e-27 ... 6.24838927e-27\n",
      "  4.51682235e-28 2.91613478e-25]]\n",
      "[[2.90805684e-26 2.13373899e-27 1.36872182e-26 ... 1.53744753e-27\n",
      "  9.22795086e-27 1.06149123e-26]\n",
      " [2.12856570e-27 1.56705407e-05 6.24414636e-05 ... 6.24414636e-05\n",
      "  1.56705407e-05 1.84694852e-27]\n",
      " [1.37644025e-26 6.24414636e-05 2.48806754e-04 ... 2.48806754e-04\n",
      "  6.24414636e-05 5.40831019e-27]\n",
      " ...\n",
      " [1.53311419e-27 6.24414636e-05 2.48806754e-04 ... 2.48806754e-04\n",
      "  6.24414636e-05 6.25820921e-27]\n",
      " [9.18812816e-27 1.56705407e-05 6.24414636e-05 ... 6.24414636e-05\n",
      "  1.56705407e-05 4.58688720e-28]\n",
      " [1.06149123e-26 1.83660242e-27 5.35105171e-27 ... 6.24838927e-27\n",
      "  4.51682235e-28 2.91613478e-25]]\n",
      "[[2.90805684e-26 2.13373899e-27 1.36872182e-26 ... 1.53744753e-27\n",
      "  9.22795086e-27 1.06149123e-26]\n",
      " [2.12856570e-27 1.56705407e-05 6.24414636e-05 ... 6.24414636e-05\n",
      "  1.56705407e-05 1.84694852e-27]\n",
      " [1.37644025e-26 6.24414636e-05 2.48806754e-04 ... 2.48806754e-04\n",
      "  6.24414636e-05 5.40831019e-27]\n",
      " ...\n",
      " [1.53311419e-27 6.24414636e-05 2.48806754e-04 ... 2.48806754e-04\n",
      "  6.24414636e-05 6.25820921e-27]\n",
      " [9.18812816e-27 1.56705407e-05 6.24414636e-05 ... 6.24414636e-05\n",
      "  1.56705407e-05 4.58688720e-28]\n",
      " [1.06149123e-26 1.83660242e-27 5.35105171e-27 ... 6.24838927e-27\n",
      "  4.51682235e-28 2.91613478e-25]]\n",
      "[[2.90805684e-26 2.13373899e-27 1.36872182e-26 ... 1.53744753e-27\n",
      "  9.22795086e-27 1.06149123e-26]\n",
      " [2.12856570e-27 1.56705407e-05 6.24414636e-05 ... 6.24414636e-05\n",
      "  1.56705407e-05 1.84694852e-27]\n",
      " [1.37644025e-26 6.24414636e-05 2.48806754e-04 ... 2.48806754e-04\n",
      "  6.24414636e-05 5.40831019e-27]\n",
      " ...\n",
      " [1.53311419e-27 6.24414636e-05 2.48806754e-04 ... 2.48806754e-04\n",
      "  6.24414636e-05 6.25820921e-27]\n",
      " [9.18812816e-27 1.56705407e-05 6.24414636e-05 ... 6.24414636e-05\n",
      "  1.56705407e-05 4.58688720e-28]\n",
      " [1.06149123e-26 1.83660242e-27 5.35105171e-27 ... 6.24838927e-27\n",
      "  4.51682235e-28 2.91613478e-25]]\n",
      "[[2.90805684e-26 2.13373899e-27 1.36872182e-26 ... 1.53744753e-27\n",
      "  9.22795086e-27 1.06149123e-26]\n",
      " [2.12856570e-27 1.56705407e-05 6.24414636e-05 ... 6.24414636e-05\n",
      "  1.56705407e-05 1.84694852e-27]\n",
      " [1.37644025e-26 6.24414636e-05 2.48806754e-04 ... 2.48806754e-04\n",
      "  6.24414636e-05 5.40831019e-27]\n",
      " ...\n",
      " [1.53311419e-27 6.24414636e-05 2.48806754e-04 ... 2.48806754e-04\n",
      "  6.24414636e-05 6.25820921e-27]\n",
      " [9.18812816e-27 1.56705407e-05 6.24414636e-05 ... 6.24414636e-05\n",
      "  1.56705407e-05 4.58688720e-28]\n",
      " [1.06149123e-26 1.83660242e-27 5.35105171e-27 ... 6.24838927e-27\n",
      "  4.51682235e-28 2.91613478e-25]]\n",
      "[[2.90805684e-26 2.13373899e-27 1.36872182e-26 ... 1.53744753e-27\n",
      "  9.22795086e-27 1.06149123e-26]\n",
      " [2.12856570e-27 1.56705407e-05 6.24414636e-05 ... 6.24414636e-05\n",
      "  1.56705407e-05 1.84694852e-27]\n",
      " [1.37644025e-26 6.24414636e-05 2.48806754e-04 ... 2.48806754e-04\n",
      "  6.24414636e-05 5.40831019e-27]\n",
      " ...\n",
      " [1.53311419e-27 6.24414636e-05 2.48806754e-04 ... 2.48806754e-04\n",
      "  6.24414636e-05 6.25820921e-27]\n",
      " [9.18812816e-27 1.56705407e-05 6.24414636e-05 ... 6.24414636e-05\n",
      "  1.56705407e-05 4.58688720e-28]\n",
      " [1.06149123e-26 1.83660242e-27 5.35105171e-27 ... 6.24838927e-27\n",
      "  4.51682235e-28 2.91613478e-25]]\n",
      "[[2.90805684e-26 2.13373899e-27 1.36872182e-26 ... 1.53744753e-27\n",
      "  9.22795086e-27 1.06149123e-26]\n",
      " [2.12856570e-27 1.56705407e-05 6.24414636e-05 ... 6.24414636e-05\n",
      "  1.56705407e-05 1.84694852e-27]\n",
      " [1.37644025e-26 6.24414636e-05 2.48806754e-04 ... 2.48806754e-04\n",
      "  6.24414636e-05 5.40831019e-27]\n",
      " ...\n",
      " [1.53311419e-27 6.24414636e-05 2.48806754e-04 ... 2.48806754e-04\n",
      "  6.24414636e-05 6.25820921e-27]\n",
      " [9.18812816e-27 1.56705407e-05 6.24414636e-05 ... 6.24414636e-05\n",
      "  1.56705407e-05 4.58688720e-28]\n",
      " [1.06149123e-26 1.83660242e-27 5.35105171e-27 ... 6.24838927e-27\n",
      "  4.51682235e-28 2.91613478e-25]]\n",
      "[[2.90805684e-26 2.13373899e-27 1.36872182e-26 ... 1.53744753e-27\n",
      "  9.22795086e-27 1.06149123e-26]\n",
      " [2.12856570e-27 1.56705407e-05 6.24414636e-05 ... 6.24414636e-05\n",
      "  1.56705407e-05 1.84694852e-27]\n",
      " [1.37644025e-26 6.24414636e-05 2.48806754e-04 ... 2.48806754e-04\n",
      "  6.24414636e-05 5.40831019e-27]\n",
      " ...\n",
      " [1.53311419e-27 6.24414636e-05 2.48806754e-04 ... 2.48806754e-04\n",
      "  6.24414636e-05 6.25820921e-27]\n",
      " [9.18812816e-27 1.56705407e-05 6.24414636e-05 ... 6.24414636e-05\n",
      "  1.56705407e-05 4.58688720e-28]\n",
      " [1.06149123e-26 1.83660242e-27 5.35105171e-27 ... 6.24838927e-27\n",
      "  4.51682235e-28 2.91613478e-25]]\n",
      "[[2.90805684e-26 2.13373899e-27 1.36872182e-26 ... 1.53744753e-27\n",
      "  9.22795086e-27 1.06149123e-26]\n",
      " [2.12856570e-27 1.56705407e-05 6.24414636e-05 ... 6.24414636e-05\n",
      "  1.56705407e-05 1.84694852e-27]\n",
      " [1.37644025e-26 6.24414636e-05 2.48806754e-04 ... 2.48806754e-04\n",
      "  6.24414636e-05 5.40831019e-27]\n",
      " ...\n",
      " [1.53311419e-27 6.24414636e-05 2.48806754e-04 ... 2.48806754e-04\n",
      "  6.24414636e-05 6.25820921e-27]\n",
      " [9.18812816e-27 1.56705407e-05 6.24414636e-05 ... 6.24414636e-05\n",
      "  1.56705407e-05 4.58688720e-28]\n",
      " [1.06149123e-26 1.83660242e-27 5.35105171e-27 ... 6.24838927e-27\n",
      "  4.51682235e-28 2.91613478e-25]]\n",
      "[[2.90805684e-26 2.13373899e-27 1.36872182e-26 ... 1.53744753e-27\n",
      "  9.22795086e-27 1.06149123e-26]\n",
      " [2.12856570e-27 1.56705407e-05 6.24414636e-05 ... 6.24414636e-05\n",
      "  1.56705407e-05 1.84694852e-27]\n",
      " [1.37644025e-26 6.24414636e-05 2.48806754e-04 ... 2.48806754e-04\n",
      "  6.24414636e-05 5.40831019e-27]\n",
      " ...\n",
      " [1.53311419e-27 6.24414636e-05 2.48806754e-04 ... 2.48806754e-04\n",
      "  6.24414636e-05 6.25820921e-27]\n",
      " [9.18812816e-27 1.56705407e-05 6.24414636e-05 ... 6.24414636e-05\n",
      "  1.56705407e-05 4.58688720e-28]\n",
      " [1.06149123e-26 1.83660242e-27 5.35105171e-27 ... 6.24838927e-27\n",
      "  4.51682235e-28 2.91613478e-25]]\n",
      "[[2.90805684e-26 2.13373899e-27 1.36872182e-26 ... 1.53744753e-27\n",
      "  9.22795086e-27 1.06149123e-26]\n",
      " [2.12856570e-27 1.56705407e-05 6.24414636e-05 ... 6.24414636e-05\n",
      "  1.56705407e-05 1.84694852e-27]\n",
      " [1.37644025e-26 6.24414636e-05 2.48806754e-04 ... 2.48806754e-04\n",
      "  6.24414636e-05 5.40831019e-27]\n",
      " ...\n",
      " [1.53311419e-27 6.24414636e-05 2.48806754e-04 ... 2.48806754e-04\n",
      "  6.24414636e-05 6.25820921e-27]\n",
      " [9.18812816e-27 1.56705407e-05 6.24414636e-05 ... 6.24414636e-05\n",
      "  1.56705407e-05 4.58688720e-28]\n",
      " [1.06149123e-26 1.83660242e-27 5.35105171e-27 ... 6.24838927e-27\n",
      "  4.51682235e-28 2.91613478e-25]]\n",
      "[[2.90805684e-26 2.13373899e-27 1.36872182e-26 ... 1.53744753e-27\n",
      "  9.22795086e-27 1.06149123e-26]\n",
      " [2.12856570e-27 1.56705407e-05 6.24414636e-05 ... 6.24414636e-05\n",
      "  1.56705407e-05 1.84694852e-27]\n",
      " [1.37644025e-26 6.24414636e-05 2.48806754e-04 ... 2.48806754e-04\n",
      "  6.24414636e-05 5.40831019e-27]\n",
      " ...\n",
      " [1.53311419e-27 6.24414636e-05 2.48806754e-04 ... 2.48806754e-04\n",
      "  6.24414636e-05 6.25820921e-27]\n",
      " [9.18812816e-27 1.56705407e-05 6.24414636e-05 ... 6.24414636e-05\n",
      "  1.56705407e-05 4.58688720e-28]\n",
      " [1.06149123e-26 1.83660242e-27 5.35105171e-27 ... 6.24838927e-27\n",
      "  4.51682235e-28 2.91613478e-25]]\n",
      "[[2.90805684e-26 2.13373899e-27 1.36872182e-26 ... 1.53744753e-27\n",
      "  9.22795086e-27 1.06149123e-26]\n",
      " [2.12856570e-27 1.56705407e-05 6.24414636e-05 ... 6.24414636e-05\n",
      "  1.56705407e-05 1.84694852e-27]\n",
      " [1.37644025e-26 6.24414636e-05 2.48806754e-04 ... 2.48806754e-04\n",
      "  6.24414636e-05 5.40831019e-27]\n",
      " ...\n",
      " [1.53311419e-27 6.24414636e-05 2.48806754e-04 ... 2.48806754e-04\n",
      "  6.24414636e-05 6.25820921e-27]\n",
      " [9.18812816e-27 1.56705407e-05 6.24414636e-05 ... 6.24414636e-05\n",
      "  1.56705407e-05 4.58688720e-28]\n",
      " [1.06149123e-26 1.83660242e-27 5.35105171e-27 ... 6.24838927e-27\n",
      "  4.51682235e-28 2.91613478e-25]]\n",
      "[[2.90805684e-26 2.13373899e-27 1.36872182e-26 ... 1.53744753e-27\n",
      "  9.22795086e-27 1.06149123e-26]\n",
      " [2.12856570e-27 1.56705407e-05 6.24414636e-05 ... 6.24414636e-05\n",
      "  1.56705407e-05 1.84694852e-27]\n",
      " [1.37644025e-26 6.24414636e-05 2.48806754e-04 ... 2.48806754e-04\n",
      "  6.24414636e-05 5.40831019e-27]\n",
      " ...\n",
      " [1.53311419e-27 6.24414636e-05 2.48806754e-04 ... 2.48806754e-04\n",
      "  6.24414636e-05 6.25820921e-27]\n",
      " [9.18812816e-27 1.56705407e-05 6.24414636e-05 ... 6.24414636e-05\n",
      "  1.56705407e-05 4.58688720e-28]\n",
      " [1.06149123e-26 1.83660242e-27 5.35105171e-27 ... 6.24838927e-27\n",
      "  4.51682235e-28 2.91613478e-25]]\n"
     ]
    },
    {
     "name": "stdout",
     "output_type": "stream",
     "text": [
      "[[2.90805684e-26 2.13373899e-27 1.36872182e-26 ... 1.53744753e-27\n",
      "  9.22795086e-27 1.06149123e-26]\n",
      " [2.12856570e-27 1.56705407e-05 6.24414636e-05 ... 6.24414636e-05\n",
      "  1.56705407e-05 1.84694852e-27]\n",
      " [1.37644025e-26 6.24414636e-05 2.48806754e-04 ... 2.48806754e-04\n",
      "  6.24414636e-05 5.40831019e-27]\n",
      " ...\n",
      " [1.53311419e-27 6.24414636e-05 2.48806754e-04 ... 2.48806754e-04\n",
      "  6.24414636e-05 6.25820921e-27]\n",
      " [9.18812816e-27 1.56705407e-05 6.24414636e-05 ... 6.24414636e-05\n",
      "  1.56705407e-05 4.58688720e-28]\n",
      " [1.06149123e-26 1.83660242e-27 5.35105171e-27 ... 6.24838927e-27\n",
      "  4.51682235e-28 2.91613478e-25]]\n",
      "[[2.90805684e-26 2.13373899e-27 1.36872182e-26 ... 1.53744753e-27\n",
      "  9.22795086e-27 1.06149123e-26]\n",
      " [2.12856570e-27 1.56705407e-05 6.24414636e-05 ... 6.24414636e-05\n",
      "  1.56705407e-05 1.84694852e-27]\n",
      " [1.37644025e-26 6.24414636e-05 2.48806754e-04 ... 2.48806754e-04\n",
      "  6.24414636e-05 5.40831019e-27]\n",
      " ...\n",
      " [1.53311419e-27 6.24414636e-05 2.48806754e-04 ... 2.48806754e-04\n",
      "  6.24414636e-05 6.25820921e-27]\n",
      " [9.18812816e-27 1.56705407e-05 6.24414636e-05 ... 6.24414636e-05\n",
      "  1.56705407e-05 4.58688720e-28]\n",
      " [1.06149123e-26 1.83660242e-27 5.35105171e-27 ... 6.24838927e-27\n",
      "  4.51682235e-28 2.91613478e-25]]\n",
      "[[2.90805684e-26 2.13373899e-27 1.36872182e-26 ... 1.53744753e-27\n",
      "  9.22795086e-27 1.06149123e-26]\n",
      " [2.12856570e-27 1.56705407e-05 6.24414636e-05 ... 6.24414636e-05\n",
      "  1.56705407e-05 1.84694852e-27]\n",
      " [1.37644025e-26 6.24414636e-05 2.48806754e-04 ... 2.48806754e-04\n",
      "  6.24414636e-05 5.40831019e-27]\n",
      " ...\n",
      " [1.53311419e-27 6.24414636e-05 2.48806754e-04 ... 2.48806754e-04\n",
      "  6.24414636e-05 6.25820921e-27]\n",
      " [9.18812816e-27 1.56705407e-05 6.24414636e-05 ... 6.24414636e-05\n",
      "  1.56705407e-05 4.58688720e-28]\n",
      " [1.06149123e-26 1.83660242e-27 5.35105171e-27 ... 6.24838927e-27\n",
      "  4.51682235e-28 2.91613478e-25]]\n",
      "[[2.90805684e-26 2.13373899e-27 1.36872182e-26 ... 1.53744753e-27\n",
      "  9.22795086e-27 1.06149123e-26]\n",
      " [2.12856570e-27 1.56705407e-05 6.24414636e-05 ... 6.24414636e-05\n",
      "  1.56705407e-05 1.84694852e-27]\n",
      " [1.37644025e-26 6.24414636e-05 2.48806754e-04 ... 2.48806754e-04\n",
      "  6.24414636e-05 5.40831019e-27]\n",
      " ...\n",
      " [1.53311419e-27 6.24414636e-05 2.48806754e-04 ... 2.48806754e-04\n",
      "  6.24414636e-05 6.25820921e-27]\n",
      " [9.18812816e-27 1.56705407e-05 6.24414636e-05 ... 6.24414636e-05\n",
      "  1.56705407e-05 4.58688720e-28]\n",
      " [1.06149123e-26 1.83660242e-27 5.35105171e-27 ... 6.24838927e-27\n",
      "  4.51682235e-28 2.91613478e-25]]\n",
      "[[2.90805684e-26 2.13373899e-27 1.36872182e-26 ... 1.53744753e-27\n",
      "  9.22795086e-27 1.06149123e-26]\n",
      " [2.12856570e-27 1.56705407e-05 6.24414636e-05 ... 6.24414636e-05\n",
      "  1.56705407e-05 1.84694852e-27]\n",
      " [1.37644025e-26 6.24414636e-05 2.48806754e-04 ... 2.48806754e-04\n",
      "  6.24414636e-05 5.40831019e-27]\n",
      " ...\n",
      " [1.53311419e-27 6.24414636e-05 2.48806754e-04 ... 2.48806754e-04\n",
      "  6.24414636e-05 6.25820921e-27]\n",
      " [9.18812816e-27 1.56705407e-05 6.24414636e-05 ... 6.24414636e-05\n",
      "  1.56705407e-05 4.58688720e-28]\n",
      " [1.06149123e-26 1.83660242e-27 5.35105171e-27 ... 6.24838927e-27\n",
      "  4.51682235e-28 2.91613478e-25]]\n",
      "[[2.90805684e-26 2.13373899e-27 1.36872182e-26 ... 1.53744753e-27\n",
      "  9.22795086e-27 1.06149123e-26]\n",
      " [2.12856570e-27 1.56705407e-05 6.24414636e-05 ... 6.24414636e-05\n",
      "  1.56705407e-05 1.84694852e-27]\n",
      " [1.37644025e-26 6.24414636e-05 2.48806754e-04 ... 2.48806754e-04\n",
      "  6.24414636e-05 5.40831019e-27]\n",
      " ...\n",
      " [1.53311419e-27 6.24414636e-05 2.48806754e-04 ... 2.48806754e-04\n",
      "  6.24414636e-05 6.25820921e-27]\n",
      " [9.18812816e-27 1.56705407e-05 6.24414636e-05 ... 6.24414636e-05\n",
      "  1.56705407e-05 4.58688720e-28]\n",
      " [1.06149123e-26 1.83660242e-27 5.35105171e-27 ... 6.24838927e-27\n",
      "  4.51682235e-28 2.91613478e-25]]\n",
      "[[2.90805684e-26 2.13373899e-27 1.36872182e-26 ... 1.53744753e-27\n",
      "  9.22795086e-27 1.06149123e-26]\n",
      " [2.12856570e-27 1.56705407e-05 6.24414636e-05 ... 6.24414636e-05\n",
      "  1.56705407e-05 1.84694852e-27]\n",
      " [1.37644025e-26 6.24414636e-05 2.48806754e-04 ... 2.48806754e-04\n",
      "  6.24414636e-05 5.40831019e-27]\n",
      " ...\n",
      " [1.53311419e-27 6.24414636e-05 2.48806754e-04 ... 2.48806754e-04\n",
      "  6.24414636e-05 6.25820921e-27]\n",
      " [9.18812816e-27 1.56705407e-05 6.24414636e-05 ... 6.24414636e-05\n",
      "  1.56705407e-05 4.58688720e-28]\n",
      " [1.06149123e-26 1.83660242e-27 5.35105171e-27 ... 6.24838927e-27\n",
      "  4.51682235e-28 2.91613478e-25]]\n",
      "[[2.90805684e-26 2.13373899e-27 1.36872182e-26 ... 1.53744753e-27\n",
      "  9.22795086e-27 1.06149123e-26]\n",
      " [2.12856570e-27 1.56705407e-05 6.24414636e-05 ... 6.24414636e-05\n",
      "  1.56705407e-05 1.84694852e-27]\n",
      " [1.37644025e-26 6.24414636e-05 2.48806754e-04 ... 2.48806754e-04\n",
      "  6.24414636e-05 5.40831019e-27]\n",
      " ...\n",
      " [1.53311419e-27 6.24414636e-05 2.48806754e-04 ... 2.48806754e-04\n",
      "  6.24414636e-05 6.25820921e-27]\n",
      " [9.18812816e-27 1.56705407e-05 6.24414636e-05 ... 6.24414636e-05\n",
      "  1.56705407e-05 4.58688720e-28]\n",
      " [1.06149123e-26 1.83660242e-27 5.35105171e-27 ... 6.24838927e-27\n",
      "  4.51682235e-28 2.91613478e-25]]\n",
      "[[2.90805684e-26 2.13373899e-27 1.36872182e-26 ... 1.53744753e-27\n",
      "  9.22795086e-27 1.06149123e-26]\n",
      " [2.12856570e-27 1.56705407e-05 6.24414636e-05 ... 6.24414636e-05\n",
      "  1.56705407e-05 1.84694852e-27]\n",
      " [1.37644025e-26 6.24414636e-05 2.48806754e-04 ... 2.48806754e-04\n",
      "  6.24414636e-05 5.40831019e-27]\n",
      " ...\n",
      " [1.53311419e-27 6.24414636e-05 2.48806754e-04 ... 2.48806754e-04\n",
      "  6.24414636e-05 6.25820921e-27]\n",
      " [9.18812816e-27 1.56705407e-05 6.24414636e-05 ... 6.24414636e-05\n",
      "  1.56705407e-05 4.58688720e-28]\n",
      " [1.06149123e-26 1.83660242e-27 5.35105171e-27 ... 6.24838927e-27\n",
      "  4.51682235e-28 2.91613478e-25]]\n",
      "[[2.90805684e-26 2.13373899e-27 1.36872182e-26 ... 1.53744753e-27\n",
      "  9.22795086e-27 1.06149123e-26]\n",
      " [2.12856570e-27 1.56705407e-05 6.24414636e-05 ... 6.24414636e-05\n",
      "  1.56705407e-05 1.84694852e-27]\n",
      " [1.37644025e-26 6.24414636e-05 2.48806754e-04 ... 2.48806754e-04\n",
      "  6.24414636e-05 5.40831019e-27]\n",
      " ...\n",
      " [1.53311419e-27 6.24414636e-05 2.48806754e-04 ... 2.48806754e-04\n",
      "  6.24414636e-05 6.25820921e-27]\n",
      " [9.18812816e-27 1.56705407e-05 6.24414636e-05 ... 6.24414636e-05\n",
      "  1.56705407e-05 4.58688720e-28]\n",
      " [1.06149123e-26 1.83660242e-27 5.35105171e-27 ... 6.24838927e-27\n",
      "  4.51682235e-28 2.91613478e-25]]\n",
      "[[2.90805684e-26 2.13373899e-27 1.36872182e-26 ... 1.53744753e-27\n",
      "  9.22795086e-27 1.06149123e-26]\n",
      " [2.12856570e-27 1.56705407e-05 6.24414636e-05 ... 6.24414636e-05\n",
      "  1.56705407e-05 1.84694852e-27]\n",
      " [1.37644025e-26 6.24414636e-05 2.48806754e-04 ... 2.48806754e-04\n",
      "  6.24414636e-05 5.40831019e-27]\n",
      " ...\n",
      " [1.53311419e-27 6.24414636e-05 2.48806754e-04 ... 2.48806754e-04\n",
      "  6.24414636e-05 6.25820921e-27]\n",
      " [9.18812816e-27 1.56705407e-05 6.24414636e-05 ... 6.24414636e-05\n",
      "  1.56705407e-05 4.58688720e-28]\n",
      " [1.06149123e-26 1.83660242e-27 5.35105171e-27 ... 6.24838927e-27\n",
      "  4.51682235e-28 2.91613478e-25]]\n",
      "[[2.90805684e-26 2.13373899e-27 1.36872182e-26 ... 1.53744753e-27\n",
      "  9.22795086e-27 1.06149123e-26]\n",
      " [2.12856570e-27 1.56705407e-05 6.24414636e-05 ... 6.24414636e-05\n",
      "  1.56705407e-05 1.84694852e-27]\n",
      " [1.37644025e-26 6.24414636e-05 2.48806754e-04 ... 2.48806754e-04\n",
      "  6.24414636e-05 5.40831019e-27]\n",
      " ...\n",
      " [1.53311419e-27 6.24414636e-05 2.48806754e-04 ... 2.48806754e-04\n",
      "  6.24414636e-05 6.25820921e-27]\n",
      " [9.18812816e-27 1.56705407e-05 6.24414636e-05 ... 6.24414636e-05\n",
      "  1.56705407e-05 4.58688720e-28]\n",
      " [1.06149123e-26 1.83660242e-27 5.35105171e-27 ... 6.24838927e-27\n",
      "  4.51682235e-28 2.91613478e-25]]\n",
      "[[2.90805684e-26 2.13373899e-27 1.36872182e-26 ... 1.53744753e-27\n",
      "  9.22795086e-27 1.06149123e-26]\n",
      " [2.12856570e-27 1.56705407e-05 6.24414636e-05 ... 6.24414636e-05\n",
      "  1.56705407e-05 1.84694852e-27]\n",
      " [1.37644025e-26 6.24414636e-05 2.48806754e-04 ... 2.48806754e-04\n",
      "  6.24414636e-05 5.40831019e-27]\n",
      " ...\n",
      " [1.53311419e-27 6.24414636e-05 2.48806754e-04 ... 2.48806754e-04\n",
      "  6.24414636e-05 6.25820921e-27]\n",
      " [9.18812816e-27 1.56705407e-05 6.24414636e-05 ... 6.24414636e-05\n",
      "  1.56705407e-05 4.58688720e-28]\n",
      " [1.06149123e-26 1.83660242e-27 5.35105171e-27 ... 6.24838927e-27\n",
      "  4.51682235e-28 2.91613478e-25]]\n",
      "[[2.90805684e-26 2.13373899e-27 1.36872182e-26 ... 1.53744753e-27\n",
      "  9.22795086e-27 1.06149123e-26]\n",
      " [2.12856570e-27 1.56705407e-05 6.24414636e-05 ... 6.24414636e-05\n",
      "  1.56705407e-05 1.84694852e-27]\n",
      " [1.37644025e-26 6.24414636e-05 2.48806754e-04 ... 2.48806754e-04\n",
      "  6.24414636e-05 5.40831019e-27]\n",
      " ...\n",
      " [1.53311419e-27 6.24414636e-05 2.48806754e-04 ... 2.48806754e-04\n",
      "  6.24414636e-05 6.25820921e-27]\n",
      " [9.18812816e-27 1.56705407e-05 6.24414636e-05 ... 6.24414636e-05\n",
      "  1.56705407e-05 4.58688720e-28]\n",
      " [1.06149123e-26 1.83660242e-27 5.35105171e-27 ... 6.24838927e-27\n",
      "  4.51682235e-28 2.91613478e-25]]\n"
     ]
    },
    {
     "name": "stdout",
     "output_type": "stream",
     "text": [
      "[[2.90805684e-26 2.13373899e-27 1.36872182e-26 ... 1.53744753e-27\n",
      "  9.22795086e-27 1.06149123e-26]\n",
      " [2.12856570e-27 1.56705407e-05 6.24414636e-05 ... 6.24414636e-05\n",
      "  1.56705407e-05 1.84694852e-27]\n",
      " [1.37644025e-26 6.24414636e-05 2.48806754e-04 ... 2.48806754e-04\n",
      "  6.24414636e-05 5.40831019e-27]\n",
      " ...\n",
      " [1.53311419e-27 6.24414636e-05 2.48806754e-04 ... 2.48806754e-04\n",
      "  6.24414636e-05 6.25820921e-27]\n",
      " [9.18812816e-27 1.56705407e-05 6.24414636e-05 ... 6.24414636e-05\n",
      "  1.56705407e-05 4.58688720e-28]\n",
      " [1.06149123e-26 1.83660242e-27 5.35105171e-27 ... 6.24838927e-27\n",
      "  4.51682235e-28 2.91613478e-25]]\n",
      "[[2.90805684e-26 2.13373899e-27 1.36872182e-26 ... 1.53744753e-27\n",
      "  9.22795086e-27 1.06149123e-26]\n",
      " [2.12856570e-27 1.56705407e-05 6.24414636e-05 ... 6.24414636e-05\n",
      "  1.56705407e-05 1.84694852e-27]\n",
      " [1.37644025e-26 6.24414636e-05 2.48806754e-04 ... 2.48806754e-04\n",
      "  6.24414636e-05 5.40831019e-27]\n",
      " ...\n",
      " [1.53311419e-27 6.24414636e-05 2.48806754e-04 ... 2.48806754e-04\n",
      "  6.24414636e-05 6.25820921e-27]\n",
      " [9.18812816e-27 1.56705407e-05 6.24414636e-05 ... 6.24414636e-05\n",
      "  1.56705407e-05 4.58688720e-28]\n",
      " [1.06149123e-26 1.83660242e-27 5.35105171e-27 ... 6.24838927e-27\n",
      "  4.51682235e-28 2.91613478e-25]]\n",
      "[[2.90805684e-26 2.13373899e-27 1.36872182e-26 ... 1.53744753e-27\n",
      "  9.22795086e-27 1.06149123e-26]\n",
      " [2.12856570e-27 1.56705407e-05 6.24414636e-05 ... 6.24414636e-05\n",
      "  1.56705407e-05 1.84694852e-27]\n",
      " [1.37644025e-26 6.24414636e-05 2.48806754e-04 ... 2.48806754e-04\n",
      "  6.24414636e-05 5.40831019e-27]\n",
      " ...\n",
      " [1.53311419e-27 6.24414636e-05 2.48806754e-04 ... 2.48806754e-04\n",
      "  6.24414636e-05 6.25820921e-27]\n",
      " [9.18812816e-27 1.56705407e-05 6.24414636e-05 ... 6.24414636e-05\n",
      "  1.56705407e-05 4.58688720e-28]\n",
      " [1.06149123e-26 1.83660242e-27 5.35105171e-27 ... 6.24838927e-27\n",
      "  4.51682235e-28 2.91613478e-25]]\n",
      "[[2.90805684e-26 2.13373899e-27 1.36872182e-26 ... 1.53744753e-27\n",
      "  9.22795086e-27 1.06149123e-26]\n",
      " [2.12856570e-27 1.56705407e-05 6.24414636e-05 ... 6.24414636e-05\n",
      "  1.56705407e-05 1.84694852e-27]\n",
      " [1.37644025e-26 6.24414636e-05 2.48806754e-04 ... 2.48806754e-04\n",
      "  6.24414636e-05 5.40831019e-27]\n",
      " ...\n",
      " [1.53311419e-27 6.24414636e-05 2.48806754e-04 ... 2.48806754e-04\n",
      "  6.24414636e-05 6.25820921e-27]\n",
      " [9.18812816e-27 1.56705407e-05 6.24414636e-05 ... 6.24414636e-05\n",
      "  1.56705407e-05 4.58688720e-28]\n",
      " [1.06149123e-26 1.83660242e-27 5.35105171e-27 ... 6.24838927e-27\n",
      "  4.51682235e-28 2.91613478e-25]]\n",
      "[[2.90805684e-26 2.13373899e-27 1.36872182e-26 ... 1.53744753e-27\n",
      "  9.22795086e-27 1.06149123e-26]\n",
      " [2.12856570e-27 1.56705407e-05 6.24414636e-05 ... 6.24414636e-05\n",
      "  1.56705407e-05 1.84694852e-27]\n",
      " [1.37644025e-26 6.24414636e-05 2.48806754e-04 ... 2.48806754e-04\n",
      "  6.24414636e-05 5.40831019e-27]\n",
      " ...\n",
      " [1.53311419e-27 6.24414636e-05 2.48806754e-04 ... 2.48806754e-04\n",
      "  6.24414636e-05 6.25820921e-27]\n",
      " [9.18812816e-27 1.56705407e-05 6.24414636e-05 ... 6.24414636e-05\n",
      "  1.56705407e-05 4.58688720e-28]\n",
      " [1.06149123e-26 1.83660242e-27 5.35105171e-27 ... 6.24838927e-27\n",
      "  4.51682235e-28 2.91613478e-25]]\n",
      "[[2.90805684e-26 2.13373899e-27 1.36872182e-26 ... 1.53744753e-27\n",
      "  9.22795086e-27 1.06149123e-26]\n",
      " [2.12856570e-27 1.56705407e-05 6.24414636e-05 ... 6.24414636e-05\n",
      "  1.56705407e-05 1.84694852e-27]\n",
      " [1.37644025e-26 6.24414636e-05 2.48806754e-04 ... 2.48806754e-04\n",
      "  6.24414636e-05 5.40831019e-27]\n",
      " ...\n",
      " [1.53311419e-27 6.24414636e-05 2.48806754e-04 ... 2.48806754e-04\n",
      "  6.24414636e-05 6.25820921e-27]\n",
      " [9.18812816e-27 1.56705407e-05 6.24414636e-05 ... 6.24414636e-05\n",
      "  1.56705407e-05 4.58688720e-28]\n",
      " [1.06149123e-26 1.83660242e-27 5.35105171e-27 ... 6.24838927e-27\n",
      "  4.51682235e-28 2.91613478e-25]]\n",
      "[[2.90805684e-26 2.13373899e-27 1.36872182e-26 ... 1.53744753e-27\n",
      "  9.22795086e-27 1.06149123e-26]\n",
      " [2.12856570e-27 1.56705407e-05 6.24414636e-05 ... 6.24414636e-05\n",
      "  1.56705407e-05 1.84694852e-27]\n",
      " [1.37644025e-26 6.24414636e-05 2.48806754e-04 ... 2.48806754e-04\n",
      "  6.24414636e-05 5.40831019e-27]\n",
      " ...\n",
      " [1.53311419e-27 6.24414636e-05 2.48806754e-04 ... 2.48806754e-04\n",
      "  6.24414636e-05 6.25820921e-27]\n",
      " [9.18812816e-27 1.56705407e-05 6.24414636e-05 ... 6.24414636e-05\n",
      "  1.56705407e-05 4.58688720e-28]\n",
      " [1.06149123e-26 1.83660242e-27 5.35105171e-27 ... 6.24838927e-27\n",
      "  4.51682235e-28 2.91613478e-25]]\n",
      "[[2.90805684e-26 2.13373899e-27 1.36872182e-26 ... 1.53744753e-27\n",
      "  9.22795086e-27 1.06149123e-26]\n",
      " [2.12856570e-27 1.56705407e-05 6.24414636e-05 ... 6.24414636e-05\n",
      "  1.56705407e-05 1.84694852e-27]\n",
      " [1.37644025e-26 6.24414636e-05 2.48806754e-04 ... 2.48806754e-04\n",
      "  6.24414636e-05 5.40831019e-27]\n",
      " ...\n",
      " [1.53311419e-27 6.24414636e-05 2.48806754e-04 ... 2.48806754e-04\n",
      "  6.24414636e-05 6.25820921e-27]\n",
      " [9.18812816e-27 1.56705407e-05 6.24414636e-05 ... 6.24414636e-05\n",
      "  1.56705407e-05 4.58688720e-28]\n",
      " [1.06149123e-26 1.83660242e-27 5.35105171e-27 ... 6.24838927e-27\n",
      "  4.51682235e-28 2.91613478e-25]]\n",
      "[[2.90805684e-26 2.13373899e-27 1.36872182e-26 ... 1.53744753e-27\n",
      "  9.22795086e-27 1.06149123e-26]\n",
      " [2.12856570e-27 1.56705407e-05 6.24414636e-05 ... 6.24414636e-05\n",
      "  1.56705407e-05 1.84694852e-27]\n",
      " [1.37644025e-26 6.24414636e-05 2.48806754e-04 ... 2.48806754e-04\n",
      "  6.24414636e-05 5.40831019e-27]\n",
      " ...\n",
      " [1.53311419e-27 6.24414636e-05 2.48806754e-04 ... 2.48806754e-04\n",
      "  6.24414636e-05 6.25820921e-27]\n",
      " [9.18812816e-27 1.56705407e-05 6.24414636e-05 ... 6.24414636e-05\n",
      "  1.56705407e-05 4.58688720e-28]\n",
      " [1.06149123e-26 1.83660242e-27 5.35105171e-27 ... 6.24838927e-27\n",
      "  4.51682235e-28 2.91613478e-25]]\n",
      "[[2.90805684e-26 2.13373899e-27 1.36872182e-26 ... 1.53744753e-27\n",
      "  9.22795086e-27 1.06149123e-26]\n",
      " [2.12856570e-27 1.56705407e-05 6.24414636e-05 ... 6.24414636e-05\n",
      "  1.56705407e-05 1.84694852e-27]\n",
      " [1.37644025e-26 6.24414636e-05 2.48806754e-04 ... 2.48806754e-04\n",
      "  6.24414636e-05 5.40831019e-27]\n",
      " ...\n",
      " [1.53311419e-27 6.24414636e-05 2.48806754e-04 ... 2.48806754e-04\n",
      "  6.24414636e-05 6.25820921e-27]\n",
      " [9.18812816e-27 1.56705407e-05 6.24414636e-05 ... 6.24414636e-05\n",
      "  1.56705407e-05 4.58688720e-28]\n",
      " [1.06149123e-26 1.83660242e-27 5.35105171e-27 ... 6.24838927e-27\n",
      "  4.51682235e-28 2.91613478e-25]]\n",
      "[[2.90805684e-26 2.13373899e-27 1.36872182e-26 ... 1.53744753e-27\n",
      "  9.22795086e-27 1.06149123e-26]\n",
      " [2.12856570e-27 1.56705407e-05 6.24414636e-05 ... 6.24414636e-05\n",
      "  1.56705407e-05 1.84694852e-27]\n",
      " [1.37644025e-26 6.24414636e-05 2.48806754e-04 ... 2.48806754e-04\n",
      "  6.24414636e-05 5.40831019e-27]\n",
      " ...\n",
      " [1.53311419e-27 6.24414636e-05 2.48806754e-04 ... 2.48806754e-04\n",
      "  6.24414636e-05 6.25820921e-27]\n",
      " [9.18812816e-27 1.56705407e-05 6.24414636e-05 ... 6.24414636e-05\n",
      "  1.56705407e-05 4.58688720e-28]\n",
      " [1.06149123e-26 1.83660242e-27 5.35105171e-27 ... 6.24838927e-27\n",
      "  4.51682235e-28 2.91613478e-25]]\n"
     ]
    }
   ],
   "source": [
    "t=LaueThread(10,5,5,50)\n",
    "t.start()\n",
    "import time\n",
    "for i in range(100): \n",
    "    print(t.result)\n",
    "    time.sleep(0.1)"
   ]
  },
  {
   "cell_type": "code",
   "execution_count": null,
   "metadata": {},
   "outputs": [],
   "source": []
  },
  {
   "cell_type": "markdown",
   "metadata": {
    "slideshow": {
     "slide_type": "slide"
    }
   },
   "source": [
    "## Conclusion\n",
    "\n",
    "* This was a fast introduction to Object Oriented Programming\n",
    "* Much new vocabulary \n",
    "* Not so many new concepts\n",
    "* OOP looks like `black magic` initially but really it is not !\n",
    "\n",
    "Use classes only when you feel the need.\n",
    "Continue using simple functions if you feel more comfortable with procedural programming"
   ]
  },
  {
   "cell_type": "code",
   "execution_count": null,
   "metadata": {},
   "outputs": [],
   "source": []
  }
 ],
 "metadata": {
  "celltoolbar": "Slideshow",
  "kernelspec": {
   "display_name": "Python 3",
   "language": "python",
   "name": "python3"
  },
  "language_info": {
   "codemirror_mode": {
    "name": "ipython",
    "version": 3
   },
   "file_extension": ".py",
   "mimetype": "text/x-python",
   "name": "python",
   "nbconvert_exporter": "python",
   "pygments_lexer": "ipython3",
   "version": "3.5.3"
  }
 },
 "nbformat": 4,
 "nbformat_minor": 2
}
