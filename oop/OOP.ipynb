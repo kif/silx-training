{
 "cells": [
  {
   "cell_type": "markdown",
   "metadata": {
    "slideshow": {
     "slide_type": "slide"
    }
   },
   "source": [
    "# Object Oriented Programming in Python\n",
    "\n",
    "* Why Object Oriented Programming\n",
    "* From procedural programming to object oriented\n",
    "* Defining new classes\n",
    "* Properties\n",
    "* Inheritance\n",
    "* Composition\n",
    "* Class and static methods / attributesNamespace\n",
    "* How does OOP work in python\n",
    "* Presentation of a few design patterns\n",
    "* Conclusions\n",
    "* Definitions\n"
   ]
  },
  {
   "cell_type": "markdown",
   "metadata": {
    "slideshow": {
     "slide_type": "fragment"
    }
   },
   "source": [
    "Very different from Procedural Programming which you are used to.\n",
    "\n",
    "==> Change of paradigm "
   ]
  },
  {
   "cell_type": "markdown",
   "metadata": {
    "slideshow": {
     "slide_type": "slide"
    }
   },
   "source": [
    "## Why Object Oriented Programming\n",
    "\n",
    "* Mandatory for most GUI programming, hence needed for this afternoon\n",
    "* OOP is mandatory in some languages like Java"
   ]
  },
  {
   "cell_type": "markdown",
   "metadata": {
    "slideshow": {
     "slide_type": "fragment"
    }
   },
   "source": [
    "### Separate the Design from Implementation\n",
    "* Create new classes and define instances of them doing the work\n",
    "* Design can be made by architects (using tools like UML, … )\n",
    "* Implementation can be outsourced to another team"
   ]
  },
  {
   "cell_type": "markdown",
   "metadata": {
    "slideshow": {
     "slide_type": "fragment"
    }
   },
   "source": [
    "### Benefits\n",
    "* Write less code and re-use more. \n",
    "* Rely on external libraries\n",
    "* Get feature implemented, both faster and more reliably\n",
    "* Better separation of the different piece of work to be done"
   ]
  },
  {
   "cell_type": "markdown",
   "metadata": {
    "slideshow": {
     "slide_type": "slide"
    }
   },
   "source": [
    "## Back on  Procedural Programming\n",
    "\n",
    "* Divides your program into reusable 'chunks' called procedures, functions or subroutines\n",
    "* Make the logic of the program separated from low level implementation (easier to understand)"
   ]
  },
  {
   "cell_type": "markdown",
   "metadata": {
    "slideshow": {
     "slide_type": "fragment"
    }
   },
   "source": [
    "### Data separation:\n",
    "* Function take arguments as input and return a value (or modify input)\n",
    "* Input data-structure not always simple …"
   ]
  },
  {
   "cell_type": "markdown",
   "metadata": {
    "slideshow": {
     "slide_type": "fragment"
    }
   },
   "source": [
    "### Limits of Procedural Programming\n",
    "* Often functions ends up in taking dozen of parameters!\n",
    "* It is tempting to use GLOBAL variables which is a very BAD idea\n"
   ]
  },
  {
   "cell_type": "markdown",
   "metadata": {
    "slideshow": {
     "slide_type": "subslide"
    }
   },
   "source": [
    "### Idea of Object Oriented Programming: \n",
    "* Merge data and logics in objects\n",
    "* Avoid global variables"
   ]
  },
  {
   "cell_type": "markdown",
   "metadata": {
    "slideshow": {
     "slide_type": "slide"
    }
   },
   "source": [
    "## What is an object:\n",
    "* An entity that encapsulate data together with functions for manipulating those data. Those function are called methods in OOP\n",
    "* In Python everything is an objects: strings, dictionaries, integers, functions ... \n",
    "\n",
    "This means they have certain things in common: They are instances of the same class !"
   ]
  },
  {
   "cell_type": "markdown",
   "metadata": {
    "slideshow": {
     "slide_type": "fragment"
    }
   },
   "source": [
    "Reminder: In Python, everything is an object !\n",
    "\n",
    "So let's consider the complex number **5+8j** as an exemple !"
   ]
  },
  {
   "cell_type": "code",
   "execution_count": 11,
   "metadata": {
    "slideshow": {
     "slide_type": "fragment"
    }
   },
   "outputs": [
    {
     "name": "stdout",
     "output_type": "stream",
     "text": [
      "(5+8j)\n"
     ]
    },
    {
     "data": {
      "text/plain": [
       "complex"
      ]
     },
     "execution_count": 11,
     "metadata": {},
     "output_type": "execute_result"
    }
   ],
   "source": [
    "z = 5 + 8j\n",
    "print(z)\n",
    "type(z)"
   ]
  },
  {
   "cell_type": "markdown",
   "metadata": {
    "slideshow": {
     "slide_type": "subslide"
    }
   },
   "source": [
    "### An object contains data\n",
    "\n",
    "* In OOP, those data are called *attributes* \n",
    "* Attributes can be accessed with **object.attribute** \n",
    "\n",
    "In this example, the data stored are the *real* and *imag* part of the complex number"
   ]
  },
  {
   "cell_type": "code",
   "execution_count": 2,
   "metadata": {
    "slideshow": {
     "slide_type": "fragment"
    }
   },
   "outputs": [
    {
     "data": {
      "text/plain": [
       "(5.0, 8.0)"
      ]
     },
     "execution_count": 2,
     "metadata": {},
     "output_type": "execute_result"
    }
   ],
   "source": [
    "z.real, z.imag"
   ]
  },
  {
   "cell_type": "markdown",
   "metadata": {
    "slideshow": {
     "slide_type": "fragment"
    }
   },
   "source": [
    "In this example, *real* and *imag* are read-only properties but generally, the access is in read/write. "
   ]
  },
  {
   "cell_type": "markdown",
   "metadata": {
    "slideshow": {
     "slide_type": "slide"
    }
   },
   "source": [
    "## An objects contains logic\n",
    "\n",
    "* The logic is stored in *inner functions* called **methods**. \n",
    "* Methods are defined in the class.\n",
    "* Because methods apply primarly on the *object itself*, the name of the first argument is **self**. \n",
    "* Methods can take other arguments as normal functions\n",
    "* The *self* argument is provided by default by the object, you don't need to care about \n",
    "\n",
    "In our example, the complex number contains a method to calculate the conjugate value:\n",
    "\n"
   ]
  },
  {
   "cell_type": "code",
   "execution_count": 3,
   "metadata": {
    "slideshow": {
     "slide_type": "fragment"
    }
   },
   "outputs": [
    {
     "data": {
      "text/plain": [
       "builtin_function_or_method"
      ]
     },
     "execution_count": 3,
     "metadata": {},
     "output_type": "execute_result"
    }
   ],
   "source": [
    "type(z.conjugate)"
   ]
  },
  {
   "cell_type": "code",
   "execution_count": 4,
   "metadata": {
    "slideshow": {
     "slide_type": "fragment"
    }
   },
   "outputs": [
    {
     "data": {
      "text/plain": [
       "(5-8j)"
      ]
     },
     "execution_count": 4,
     "metadata": {},
     "output_type": "execute_result"
    }
   ],
   "source": [
    "z.conjugate()"
   ]
  },
  {
   "cell_type": "markdown",
   "metadata": {
    "slideshow": {
     "slide_type": "slide"
    }
   },
   "source": [
    "## Object creation\n",
    "\n",
    "* Object creation is called **instantiation** \n",
    "* Instantiation is just like calling the class as if it was a function"
   ]
  },
  {
   "cell_type": "code",
   "execution_count": 5,
   "metadata": {
    "slideshow": {
     "slide_type": "fragment"
    }
   },
   "outputs": [
    {
     "data": {
      "text/plain": [
       "complex"
      ]
     },
     "execution_count": 5,
     "metadata": {},
     "output_type": "execute_result"
    }
   ],
   "source": [
    "z = complex(5,8)\n",
    "type(z)"
   ]
  },
  {
   "cell_type": "code",
   "execution_count": 6,
   "metadata": {
    "slideshow": {
     "slide_type": "fragment"
    }
   },
   "outputs": [
    {
     "data": {
      "text/plain": [
       "str"
      ]
     },
     "execution_count": 6,
     "metadata": {},
     "output_type": "execute_result"
    }
   ],
   "source": [
    "s = str(5)\n",
    "type(s)"
   ]
  },
  {
   "cell_type": "markdown",
   "metadata": {
    "slideshow": {
     "slide_type": "fragment"
    }
   },
   "source": [
    "* The *method* responsible for creating objects is called the **constructor**\n",
    "* All parameters passed when creating a object are actually given to the constructor\n",
    "* In Python the constructor is called ``__init__`` and takes also *self* as first argument"
   ]
  },
  {
   "cell_type": "markdown",
   "metadata": {
    "slideshow": {
     "slide_type": "slide"
    }
   },
   "source": [
    "## Defining new classes"
   ]
  },
  {
   "cell_type": "markdown",
   "metadata": {
    "slideshow": {
     "slide_type": "fragment"
    }
   },
   "source": [
    "* The **class** keyword is used to declare the definition of a new class, like *def* for functions\n",
    "* Provide the **name** for the class followed by **colon** to start the implementation."
   ]
  },
  {
   "cell_type": "code",
   "execution_count": 7,
   "metadata": {
    "slideshow": {
     "slide_type": "fragment"
    }
   },
   "outputs": [],
   "source": [
    "class Sample:\n",
    "    \"This is the base class for all my samples\"\n",
    "    pass"
   ]
  },
  {
   "cell_type": "markdown",
   "metadata": {
    "slideshow": {
     "slide_type": "subslide"
    }
   },
   "source": [
    "* Class can **inherit** the structure and methods from a parent class (or superclass).\n",
    "* By default any class inherits from *object*.\n",
    "* The superclass name can be provided in parenthesis:"
   ]
  },
  {
   "cell_type": "code",
   "execution_count": 14,
   "metadata": {
    "slideshow": {
     "slide_type": "fragment"
    }
   },
   "outputs": [],
   "source": [
    "class Oxide(Sample):\n",
    "    \"The class Oxide inherits properties from the Sample class\"\n",
    "    pass"
   ]
  },
  {
   "cell_type": "markdown",
   "metadata": {
    "slideshow": {
     "slide_type": "subslide"
    }
   },
   "source": [
    "* **Methods** are declared like sub-functions of the class\n",
    "* methods always take **self** as **first argument** to refer to the instance itself\n",
    "* The *self* argument allows to access to the attributes and other methods of the class"
   ]
  },
  {
   "cell_type": "markdown",
   "metadata": {
    "slideshow": {
     "slide_type": "subslide"
    }
   },
   "source": [
    "* The *constructor* is a method called `__init__` in Python\n",
    "* The *constructor* always returns the instance itself, no need to specify it.\n",
    "* Hence it is an error to use *return* in a *constructor*.\n",
    "* Like all other methods, the *constructor* takes **self** as first argument\n",
    "* The constructor is responsible for declaring all attributes. Prevents **AttributeError**"
   ]
  },
  {
   "cell_type": "code",
   "execution_count": 9,
   "metadata": {
    "slideshow": {
     "slide_type": "fragment"
    }
   },
   "outputs": [],
   "source": [
    "class Oxide:\n",
    "    \"Defines simple oxides\"\n",
    "    def __init__(self, metal, nmet, nox):\n",
    "        \"Provide the metal name and the number of them and oxygens\"\n",
    "        self.metal = str(metal)\n",
    "        self.nmet = int(nmet)\n",
    "        self.nox = int(nox)\n",
    "    def formula(self):\n",
    "        if self.nmet>1:\n",
    "            formula = \"%s%iO%i\"%(self.metal, self.nmet, self.nox)\n",
    "        else:\n",
    "            formula = \"%sO%i\"%(self.metal, self.nox)\n",
    "        return formula"
   ]
  },
  {
   "cell_type": "code",
   "execution_count": 10,
   "metadata": {
    "slideshow": {
     "slide_type": "fragment"
    }
   },
   "outputs": [
    {
     "data": {
      "text/plain": [
       "'CeO2'"
      ]
     },
     "execution_count": 10,
     "metadata": {},
     "output_type": "execute_result"
    }
   ],
   "source": [
    "ceria = Oxide(\"Ce\", 1, 2)\n",
    "ceria.formula()"
   ]
  },
  {
   "cell_type": "markdown",
   "metadata": {
    "slideshow": {
     "slide_type": "slide"
    }
   },
   "source": [
    "## Naming conventions (PEP8)\n",
    "\n",
    "* Modules should have short, all-lowercase names  and best without underscores\n",
    "* Almost without exception, class names use the CamelCased convention. \n",
    "* Because exceptions are classes, the class naming convention applies.\n",
    "* Function names should be lowercase, with words separated by underscores \n",
    "* Always use *self* for the first argument to instance methods.\n",
    "* Always use *cls* for the first argument to class methods.\n",
    "* Use one leading underscore only for non-public methods and instance variables.\n",
    "* To avoid name clashes with subclasses, use two leading underscores to invoke Python's name mangling rules.\n",
    "* Constants are usually defined on a module level and written in all capital letters with underscores separating words."
   ]
  },
  {
   "cell_type": "markdown",
   "metadata": {
    "slideshow": {
     "slide_type": "fragment"
    }
   },
   "source": [
    "### Other Convention:\n",
    "Define all object's attributes in the constructor (to avoid **AttributeError**)"
   ]
  },
  {
   "cell_type": "markdown",
   "metadata": {
    "slideshow": {
     "slide_type": "slide"
    }
   },
   "source": [
    "## Exercise 1\n",
    "* Define a class representing a rectangle\n",
    "* The constructor should take **width** and **height** as parameter\n",
    "* Add a method to calculate the area, and another for the perimeter\n"
   ]
  },
  {
   "cell_type": "code",
   "execution_count": 18,
   "metadata": {
    "slideshow": {
     "slide_type": "fragment"
    }
   },
   "outputs": [],
   "source": [
    "class Rectangle:\n",
    "    def __init__(self, width, height):\n",
    "        self.width = width\n",
    "        self.height = height\n",
    "    def area(self):\n",
    "        return self.width*self.height\n",
    "    def perimeter(self):\n",
    "        return 2*(self.width+self.height)"
   ]
  },
  {
   "cell_type": "code",
   "execution_count": 20,
   "metadata": {
    "slideshow": {
     "slide_type": "fragment"
    }
   },
   "outputs": [
    {
     "name": "stdout",
     "output_type": "stream",
     "text": [
      "20 18\n"
     ]
    }
   ],
   "source": [
    "r = Rectangle(4,5)\n",
    "print(r.area(), r.perimeter())"
   ]
  },
  {
   "cell_type": "markdown",
   "metadata": {
    "slideshow": {
     "slide_type": "slide"
    }
   },
   "source": [
    "## Accessors & Properties\n",
    "\n",
    "### Accessors are methods to access attributes for which the acces is controled :\n",
    "* There are 3 kind of accessors: getters, setters and deleters \n",
    "\n",
    "``` \n",
    "def get_smth(self):\n",
    "    return self._something\n",
    "def set_smth(self, smth):\n",
    "    self._something = smth\n",
    "def del_smth(self):\n",
    "    self._something = None\n",
    "```\n",
    "\n",
    "* Accessors are useful to expose non-public attributes & allow fine control of attributes (caching, …)\n"
   ]
  },
  {
   "cell_type": "markdown",
   "metadata": {
    "slideshow": {
     "slide_type": "slide"
    }
   },
   "source": [
    "## Properties are accessors that behaves like attributes\n",
    "\n",
    "* Accessors are not pythonic, we prefer **properties**\n",
    "* Obtained by *decorating* the getter with `@property` decorator. \n",
    "* Offers a nice syntax for the user\n",
    "* Exposes a clean API (with indirection)\n",
    "* The setter should be decorated with `@getter_name.setter`\n",
    "* The deleter should be decorated with `@getter_name.deleter`"
   ]
  },
  {
   "cell_type": "code",
   "execution_count": 25,
   "metadata": {
    "slideshow": {
     "slide_type": "subslide"
    }
   },
   "outputs": [],
   "source": [
    "class C(object):\n",
    "    def __init__(self):\n",
    "        self._x = None\n",
    "\n",
    "    @property\n",
    "    def x(self):\n",
    "        \"\"\"I'm the 'x' property.\"\"\"\n",
    "        return self._x\n",
    "\n",
    "    @x.setter\n",
    "    def x(self, value):\n",
    "        self._x = value\n",
    "\n",
    "    @x.deleter\n",
    "    def x(self):\n",
    "        del self._x"
   ]
  },
  {
   "cell_type": "code",
   "execution_count": null,
   "metadata": {
    "slideshow": {
     "slide_type": "fragment"
    }
   },
   "outputs": [],
   "source": [
    "class C:\n",
    "    def __init__(self):\n",
    "        self.x = None"
   ]
  },
  {
   "cell_type": "code",
   "execution_count": 21,
   "metadata": {
    "slideshow": {
     "slide_type": "subslide"
    }
   },
   "outputs": [],
   "source": [
    "class Oxide:\n",
    "    \"Defines simple oxides\"\n",
    "    def __init__(self, metal, nmet, nox):\n",
    "        \"Provide the metal name and the number of them and oxygens\"\n",
    "        self.metal = str(metal)\n",
    "        self.nmet = int(nmet)\n",
    "        self.nox = int(nox)\n",
    "    @property\n",
    "    def formula(self):\n",
    "        if self.nmet>1:\n",
    "            formula = \"%s%iO%i\"%(self.metal, self.nmet, self.nox)\n",
    "        else:\n",
    "            formula = \"%sO%i\"%(self.metal, self.nox)\n",
    "        return formula"
   ]
  },
  {
   "cell_type": "code",
   "execution_count": 24,
   "metadata": {
    "slideshow": {
     "slide_type": "fragment"
    }
   },
   "outputs": [
    {
     "data": {
      "text/plain": [
       "'CeO2'"
      ]
     },
     "execution_count": 24,
     "metadata": {},
     "output_type": "execute_result"
    }
   ],
   "source": [
    "ceria = Oxide(\"Ce\", 1, 2)\n",
    "ceria.formula"
   ]
  },
  {
   "cell_type": "markdown",
   "metadata": {
    "slideshow": {
     "slide_type": "slide"
    }
   },
   "source": [
    "## Execrise 2\n",
    "* Make *area* and *perimeter* two properties"
   ]
  },
  {
   "cell_type": "code",
   "execution_count": 26,
   "metadata": {
    "slideshow": {
     "slide_type": "subslide"
    }
   },
   "outputs": [],
   "source": [
    "class Rectangle:\n",
    "    def __init__(self, width, height):\n",
    "        self.width = width\n",
    "        self.height = height\n",
    "    @property\n",
    "    def area(self):\n",
    "        return self.width*self.height\n",
    "    @property\n",
    "    def perimeter(self):\n",
    "        return 2*(self.width+self.height)"
   ]
  },
  {
   "cell_type": "code",
   "execution_count": 27,
   "metadata": {},
   "outputs": [
    {
     "name": "stdout",
     "output_type": "stream",
     "text": [
      "20 18\n"
     ]
    }
   ],
   "source": [
    "r = Rectangle(4,5)\n",
    "print(r.area, r.perimeter)"
   ]
  },
  {
   "cell_type": "markdown",
   "metadata": {},
   "source": [
    "## Special methods of classes\n",
    "* `__new__()`: factory of the class. Allocates the memory before calling the contructor\n",
    "* `__init__()`: constructor of the class. Allways returns the instance\n",
    "* `__str__()`: string to be printed (deprecated)\n",
    "* `__repr__()`: string representing the object (replaces `__str__`)\n",
    "* `__setattr__(“attr”,value)`: add an attribute: obj.attr = value\n",
    "* `__getattribute__(“attr”)`: get an attribute: obj.attr\n",
    "* `__delattr__(“attr”)`: delete an attribute \n",
    "* `__subclasses__()`: list of its derivative classes"
   ]
  },
  {
   "cell_type": "markdown",
   "metadata": {
    "slideshow": {
     "slide_type": "subslide"
    }
   },
   "source": [
    "## Special attributes of classes:\n",
    "* `__doc__`: the documentation string\n",
    "* `__class__`: reference to the class itself\n",
    "* `__dict__`: dictionary containing references to all attributes\n",
    "* `__name__`: it's name\n",
    "* `__bases__`: the list of superclasses\n",
    "* `__mro__`: method resolution it's ancestors "
   ]
  },
  {
   "cell_type": "markdown",
   "metadata": {
    "slideshow": {
     "slide_type": "slide"
    }
   },
   "source": [
    "## Inheritance\n",
    "* Define a new class inheriting from all methods and attributes from a superclass\n",
    "* Some methods of the superclass should be overwritten and new can be appended.\n",
    "* The whole family with the superclass and all subclasses is named **class hierarchy**"
   ]
  },
  {
   "cell_type": "markdown",
   "metadata": {
    "slideshow": {
     "slide_type": "subslide"
    }
   },
   "source": [
    "### The framework pattern\n",
    "* Define most of the logic in the superclass (saves time)\n",
    "* Create empty method to be overwritten (abstract methods)\n",
    "* To actually do the work, the concrete classes does:\n",
    "    * Inherit from superclass\n",
    "    * overwrite abstract method and implement them to do the work\n",
    "    * Maximizes the code reuse\n",
    "\n",
    "Inheritance based development is very popular in C++ hence for Qt GUI-programming.\n",
    "\n",
    "But it is not always well suited for Python programming \n"
   ]
  },
  {
   "cell_type": "code",
   "execution_count": null,
   "metadata": {},
   "outputs": [],
   "source": [
    "## Execrise 3\n",
    "* Define a class Square inheriting from Rectangle\n",
    "Add a setter accessor for area\n",
    "Modify the property"
   ]
  },
  {
   "cell_type": "markdown",
   "metadata": {
    "slideshow": {
     "slide_type": "slide"
    }
   },
   "source": [
    "## Definition (from Grady Booch)\n",
    "\n",
    "Object–oriented programming is a method of implementation in which programs are organized as cooperative collections of objects, each of which represents an instance of some class, and whose classes are all members of a hierarchy of classes united via inheritance relationships”."
   ]
  },
  {
   "cell_type": "code",
   "execution_count": 15,
   "metadata": {},
   "outputs": [
    {
     "data": {
      "text/plain": [
       "[__main__.Oxide]"
      ]
     },
     "execution_count": 15,
     "metadata": {},
     "output_type": "execute_result"
    }
   ],
   "source": [
    "Sample.__subclasses__()"
   ]
  },
  {
   "cell_type": "code",
   "execution_count": null,
   "metadata": {},
   "outputs": [],
   "source": []
  }
 ],
 "metadata": {
  "celltoolbar": "Slideshow",
  "kernelspec": {
   "display_name": "Python 3",
   "language": "python",
   "name": "python3"
  },
  "language_info": {
   "codemirror_mode": {
    "name": "ipython",
    "version": 3
   },
   "file_extension": ".py",
   "mimetype": "text/x-python",
   "name": "python",
   "nbconvert_exporter": "python",
   "pygments_lexer": "ipython3",
   "version": "3.7.3"
  }
 },
 "nbformat": 4,
 "nbformat_minor": 2
}
