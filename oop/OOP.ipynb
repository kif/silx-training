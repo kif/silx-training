{
 "cells": [
  {
   "cell_type": "markdown",
   "metadata": {
    "slideshow": {
     "slide_type": "slide"
    }
   },
   "source": [
    "# Object Oriented Programming in Python\n",
    "\n",
    "## Summary\n",
    "\n",
    "1. OOP and procedural programming\n",
    "2. What is an object ?\n",
    "3. Definig new classes\n",
    "4. Accessors, Properties and special methods\n",
    "5. Inheritance\n",
    "6. Composition\n",
    "7. Design patterns\n",
    "8. Conclusion\n"
   ]
  },
  {
   "cell_type": "markdown",
   "metadata": {
    "slideshow": {
     "slide_type": "slide"
    }
   },
   "source": [
    "## In a nutshell\n",
    "\n",
    "- Object Oriented Programming (OOP) is a way to structure and to design source code.  \n",
    "- It is (very) different from *procedural programming* which you are used to.\n",
    "  - This is a different [programming paradigm](https://en.wikipedia.org/wiki/Programming_paradigm)\n",
    "- The OOP concepts are mostly independent from the programming language.  \n",
    "  - However this training focuses on how to achieve OOP in Python.\n"
   ]
  },
  {
   "cell_type": "markdown",
   "metadata": {
    "slideshow": {
     "slide_type": "subslide"
    }
   },
   "source": [
    "The essence of OOP is to define *objects* which interact with eachother.  \n",
    "These objects define/implement concepts (ex. \"Oxide\", \"Sample\", \"Processing\"), or features (ex. \"PlotWidget\").\n",
    "\n",
    "> Object–oriented programming is a method of implementation in which programs are organized as cooperative collections of objects, each of which represents an instance of some class, and whose classes are all members of a hierarchy of classes united via inheritance relationships - from Grady Booch"
   ]
  },
  {
   "cell_type": "markdown",
   "metadata": {},
   "source": [
    "---"
   ]
  },
  {
   "cell_type": "markdown",
   "metadata": {
    "slideshow": {
     "slide_type": "slide"
    }
   },
   "source": [
    "## 1. Object Oriented programming and procedural programming \n"
   ]
  },
  {
   "cell_type": "markdown",
   "metadata": {
    "slideshow": {
     "slide_type": "slide"
    }
   },
   "source": [
    "### 1.1 - Back on  Procedural Programming\n",
    "\n",
    "* Divides your program into reusable 'chunks' called procedures, functions or subroutines\n",
    "* Makes the logic of the program separated from low level implementation (easier to understand)"
   ]
  },
  {
   "cell_type": "markdown",
   "metadata": {
    "slideshow": {
     "slide_type": "subslide"
    }
   },
   "source": [
    "#### 1.1.1 - Data separation:\n",
    "* Function take arguments as input and return a value (or modify input)\n",
    "* Input data-structure not always simple …"
   ]
  },
  {
   "cell_type": "markdown",
   "metadata": {
    "slideshow": {
     "slide_type": "subslide"
    }
   },
   "source": [
    "#### 1.1.2 - Limits of Procedural Programming\n",
    "* Often functions ends up in taking dozen of parameters!\n",
    "* It is tempting to use GLOBAL variables which is a very BAD idea\n"
   ]
  },
  {
   "cell_type": "markdown",
   "metadata": {
    "slideshow": {
     "slide_type": "slide"
    }
   },
   "source": [
    "### 1.2 - Why OOP ?\n",
    "\n",
    "* Mandatory for most GUI programming, hence needed for this afternoon's introduction to GUI programming\n",
    "* Object Oriented Programming is mandatory in some languages like Java, but not in Python"
   ]
  },
  {
   "cell_type": "markdown",
   "metadata": {
    "slideshow": {
     "slide_type": "subslide"
    }
   },
   "source": [
    "#### 1.2.1 - Idea of Object Oriented Programming: \n",
    "* Merge data and logics in objects\n",
    "* Avoid global variables"
   ]
  },
  {
   "cell_type": "markdown",
   "metadata": {
    "slideshow": {
     "slide_type": "subslide"
    }
   },
   "source": [
    "#### 1.2.2 - Separate the Design from Implementation\n",
    "* Create new classes and define instances of them doing the work\n",
    "* Design can be made by architects (using tools like [UML](https://en.wikipedia.org/wiki/Unified_Modeling_Language), … )\n",
    "* Implementation can be outsourced to another team"
   ]
  },
  {
   "cell_type": "markdown",
   "metadata": {
    "slideshow": {
     "slide_type": "subslide"
    }
   },
   "source": [
    "#### 1.2.3 - Benefits\n",
    "* Write less code and re-use more. \n",
    "* Rely on external libraries\n",
    "* Get features implemented, both faster and more reliably\n",
    "* Better separation of the different pieces of work to be done"
   ]
  },
  {
   "cell_type": "markdown",
   "metadata": {},
   "source": [
    "---"
   ]
  },
  {
   "cell_type": "markdown",
   "metadata": {
    "slideshow": {
     "slide_type": "slide"
    }
   },
   "source": [
    "## 2. What is an object ?"
   ]
  },
  {
   "cell_type": "markdown",
   "metadata": {
    "slideshow": {
     "slide_type": "slide"
    }
   },
   "source": [
    "### 2.1 - What is an object ?\n",
    "\n",
    "* An entity that encapsulate data together with functions for manipulating those data. Those function are called **methods** in OOP\n",
    "* In Python everything is object: strings, dictionaries, integers, functions ... \n",
    "\n",
    "This means two strings have certain things in common: they are instances of the same class: **str** !"
   ]
  },
  {
   "cell_type": "markdown",
   "metadata": {
    "slideshow": {
     "slide_type": "slide"
    }
   },
   "source": [
    "### 2.2 - Objects in Python\n",
    "\n",
    "Reminder: In Python, everything is an object !\n",
    "\n",
    "So let's consider the complex number **5+8j** as an exemple."
   ]
  },
  {
   "cell_type": "code",
   "execution_count": null,
   "metadata": {
    "slideshow": {
     "slide_type": "fragment"
    }
   },
   "outputs": [],
   "source": [
    "z = 5 + 8j\n",
    "print(z)\n",
    "print(type(z))"
   ]
  },
  {
   "cell_type": "markdown",
   "metadata": {
    "slideshow": {
     "slide_type": "slide"
    }
   },
   "source": [
    "### 2.3 - An object contains data\n",
    "\n",
    "* In OOP, those data are called *attributes* \n",
    "* Attributes can be accessed with **object.attribute** \n",
    "\n",
    "In this example, the data stored are the *real* and *imag* part of the complex number"
   ]
  },
  {
   "cell_type": "code",
   "execution_count": null,
   "metadata": {
    "slideshow": {
     "slide_type": "fragment"
    }
   },
   "outputs": [],
   "source": [
    "z.real, z.imag"
   ]
  },
  {
   "cell_type": "markdown",
   "metadata": {
    "slideshow": {
     "slide_type": "fragment"
    }
   },
   "source": [
    "In this example, *real* and *imag* are read-only properties but generally, the access is in read/write. "
   ]
  },
  {
   "cell_type": "markdown",
   "metadata": {
    "slideshow": {
     "slide_type": "slide"
    }
   },
   "source": [
    "### 2.4 - An objects contains logic\n",
    "\n",
    "* The logic is stored in *inner functions* called **methods**. \n",
    "* Methods are defined in the class.\n",
    "* Because methods apply primarly on the *object itself*, the name of the first argument is **self**. \n",
    "* Methods can take other arguments as normal functions do\n",
    "* The *self* argument is provided by default by the object, you don't need to care about \n",
    "when calling the method\n",
    "\n",
    "In our example, the complex number contains a method to calculate the conjugate value:\n",
    "\n"
   ]
  },
  {
   "cell_type": "code",
   "execution_count": null,
   "metadata": {
    "slideshow": {
     "slide_type": "fragment"
    }
   },
   "outputs": [],
   "source": [
    "type(z.conjugate)"
   ]
  },
  {
   "cell_type": "code",
   "execution_count": null,
   "metadata": {
    "slideshow": {
     "slide_type": "fragment"
    }
   },
   "outputs": [],
   "source": [
    "z.conjugate()"
   ]
  },
  {
   "cell_type": "markdown",
   "metadata": {
    "slideshow": {
     "slide_type": "slide"
    }
   },
   "source": [
    "### 2.5 - Object creation\n",
    "\n",
    "* Object creation is called **instantiation** of the class\n",
    "* Instantiation is just like calling the class as if it was a function\n",
    "* One can usually provide arguments when instantiating the class."
   ]
  },
  {
   "cell_type": "code",
   "execution_count": null,
   "metadata": {
    "slideshow": {
     "slide_type": "fragment"
    }
   },
   "outputs": [],
   "source": [
    "z = complex(5,8)\n",
    "type(z)"
   ]
  },
  {
   "cell_type": "code",
   "execution_count": null,
   "metadata": {
    "slideshow": {
     "slide_type": "fragment"
    }
   },
   "outputs": [],
   "source": [
    "s = str(5)\n",
    "type(s)"
   ]
  },
  {
   "cell_type": "markdown",
   "metadata": {
    "slideshow": {
     "slide_type": "subslide"
    }
   },
   "source": [
    "* The *method* responsible for creating objects is called the **constructor**\n",
    "* All parameters passed when creating a object are actually given to the constructor\n",
    "* In Python the constructor is called ``__init__`` and takes also *self* as first argument\n",
    "\n",
    "The constructor starts the *life cycle* of the object.   \n",
    "The mechanism taking care of the deletion of the object is called **destructor** (eg. free the memory)."
   ]
  },
  {
   "cell_type": "markdown",
   "metadata": {},
   "source": [
    "---"
   ]
  },
  {
   "cell_type": "markdown",
   "metadata": {
    "slideshow": {
     "slide_type": "slide"
    }
   },
   "source": [
    "## 3. Defining new classes"
   ]
  },
  {
   "cell_type": "markdown",
   "metadata": {
    "slideshow": {
     "slide_type": "slide"
    }
   },
   "source": [
    "### 3.1 - Defining new classes"
   ]
  },
  {
   "cell_type": "markdown",
   "metadata": {
    "slideshow": {
     "slide_type": "slide"
    }
   },
   "source": [
    "* The **class** keyword is used to declare the definition of a new class, like *def* for functions\n",
    "* Provide the **name** for the class followed by **colon** to start the implementation."
   ]
  },
  {
   "cell_type": "code",
   "execution_count": null,
   "metadata": {
    "slideshow": {
     "slide_type": "fragment"
    }
   },
   "outputs": [],
   "source": [
    "class Sample:\n",
    "    \"This is the base class for all my samples\"\n",
    "    pass"
   ]
  },
  {
   "cell_type": "markdown",
   "metadata": {
    "slideshow": {
     "slide_type": "slide"
    }
   },
   "source": [
    "* Class can **inherit** the structure and methods from a parent class (or superclass).\n",
    "* By default any class inherits from *object*.\n",
    "* The superclass name can be provided in parenthesis:\n",
    "* More on this (inheritance) later..."
   ]
  },
  {
   "cell_type": "code",
   "execution_count": null,
   "metadata": {
    "slideshow": {
     "slide_type": "fragment"
    }
   },
   "outputs": [],
   "source": [
    "class Oxide(Sample):\n",
    "    \"The class Oxide inherits properties from the Sample class\"\n",
    "    pass"
   ]
  },
  {
   "cell_type": "markdown",
   "metadata": {
    "slideshow": {
     "slide_type": "slide"
    }
   },
   "source": [
    "* **Methods** are declared like sub-functions of the class\n",
    "* methods always take **self** as **first argument** to refer to the instance itself\n",
    "* The *self* argument allows to access to the attributes and other methods of the class"
   ]
  },
  {
   "cell_type": "markdown",
   "metadata": {
    "slideshow": {
     "slide_type": "slide"
    }
   },
   "source": [
    "* The *constructor* is a method called `__init__` in Python\n",
    "* The *constructor* always returns the instance itself, no need to specify it.\n",
    "* Hence it is an error to use *return* in a *constructor*.\n",
    "* Like all other methods, the *constructor* takes **self** as first argument\n",
    "* The constructor is responsible for declaring all attributes. Prevents **AttributeError**"
   ]
  },
  {
   "cell_type": "code",
   "execution_count": null,
   "metadata": {
    "slideshow": {
     "slide_type": "fragment"
    }
   },
   "outputs": [],
   "source": [
    "class Oxide:\n",
    "    \"Defines simple oxides\"\n",
    "    def __init__(self, metal, nmet, nox):\n",
    "        \"Provide the metal name and the number of them and oxygens\"\n",
    "        self.metal = str(metal)\n",
    "        self.nmet = int(nmet)\n",
    "        self.nox = int(nox)\n",
    "        \n",
    "    def formula(self):\n",
    "        if self.nmet>1:\n",
    "            formula = \"%s%iO%i\"%(self.metal, self.nmet, self.nox)\n",
    "        else:\n",
    "            formula = \"%sO%i\"%(self.metal, self.nox)\n",
    "        return formula"
   ]
  },
  {
   "cell_type": "code",
   "execution_count": null,
   "metadata": {
    "slideshow": {
     "slide_type": "fragment"
    }
   },
   "outputs": [],
   "source": [
    "ceria = Oxide(\"Ce\", 1, 2)\n",
    "ceria.formula()"
   ]
  },
  {
   "cell_type": "markdown",
   "metadata": {
    "slideshow": {
     "slide_type": "slide"
    }
   },
   "source": [
    "### 3.2 - Naming conventions (PEP8)\n",
    "\n",
    "* Modules should have short, all-lowercase names  and best without underscores\n",
    "* Almost without exception, class names use the CamelCased convention. \n",
    "* Because exceptions are classes, the class naming convention applies.\n",
    "* Function names should be lowercase, with words separated by underscores \n",
    "* Always use *self* for the first argument to instance methods.\n",
    "* Always use *cls* for the first argument to class methods.\n",
    "* Use one leading underscore only for non-public methods and instance variables.\n",
    "* To avoid name clashes with subclasses, use two leading underscores to invoke Python's name mangling rules.\n",
    "* Constants are usually defined on a module level and written in all capital letters with underscores separating words.\n",
    "\n",
    "**Other Convention:**  \n",
    "Define all object's attributes in the constructor (to avoid **AttributeError**)"
   ]
  },
  {
   "cell_type": "markdown",
   "metadata": {
    "slideshow": {
     "slide_type": "slide"
    }
   },
   "source": [
    "### 3.3 - Exercise 1\n",
    "* Define a class representing a rectangle\n",
    "* The constructor should take **width** and **height** as parameter\n",
    "* Add a method to calculate the area, and another for the perimeter\n"
   ]
  },
  {
   "cell_type": "markdown",
   "metadata": {
    "slideshow": {
     "slide_type": "slide"
    }
   },
   "source": [
    "### 3.4 - How does this all work in Python ?\n",
    "\n",
    "* A class is basically a dictionary with all class-attributes and methods, class-methods and static-methods definied in it. \n",
    "* Each instance is another dictionary which contains the instance attributes\n",
    "* They can be accessed using the `__dict__` attribute:"
   ]
  },
  {
   "cell_type": "code",
   "execution_count": null,
   "metadata": {
    "slideshow": {
     "slide_type": "fragment"
    }
   },
   "outputs": [],
   "source": [
    "for k,v in ceria.__dict__.items():\n",
    "    print(k,\": \",v)"
   ]
  },
  {
   "cell_type": "code",
   "execution_count": null,
   "metadata": {
    "scrolled": true,
    "slideshow": {
     "slide_type": "fragment"
    }
   },
   "outputs": [],
   "source": [
    "for k,v in ceria.__class__.__dict__.items():\n",
    "    print(k,\": \",v)"
   ]
  },
  {
   "cell_type": "markdown",
   "metadata": {},
   "source": [
    "---"
   ]
  },
  {
   "cell_type": "markdown",
   "metadata": {
    "slideshow": {
     "slide_type": "slide"
    }
   },
   "source": [
    "## 4. Accessors, properties and special methods"
   ]
  },
  {
   "cell_type": "markdown",
   "metadata": {
    "slideshow": {
     "slide_type": "slide"
    }
   },
   "source": [
    "### 4.1 - Accessors\n",
    "\n",
    "* Accessors are methods to access attributes for which the acces is controled.\n",
    "* There are 3 kind of accessors: getters, setters and deleters \n",
    "\n",
    "``` python\n",
    "def get_smth(self):\n",
    "    return self._something\n",
    "def set_smth(self, smth):\n",
    "    self._something = smth\n",
    "def del_smth(self):\n",
    "    self._something = None\n",
    "```\n",
    "\n",
    "* Accessors are useful to expose non-public attributes & allow fine control of attributes (caching, ...)"
   ]
  },
  {
   "cell_type": "markdown",
   "metadata": {
    "slideshow": {
     "slide_type": "slide"
    }
   },
   "source": [
    "### 4.2 - Properties\n",
    "\n",
    "* Accessors are not pythonic, we prefer **properties**\n",
    "* Properties are accessors that behaves like attributes\n",
    "* Obtained by *decorating* the getter with `@property` decorator. \n",
    "* Offers a nice syntax for the user\n",
    "* Exposes a clean API (with indirection)\n",
    "* The *setter* function should have the **same name** as the *getter* and be decorated with `@getter_name.setter`\n",
    "* The *deleter* function should have the **same name** as the *getter* and should be decorated with `@getter_name.deleter`"
   ]
  },
  {
   "cell_type": "code",
   "execution_count": null,
   "metadata": {
    "slideshow": {
     "slide_type": "subslide"
    }
   },
   "outputs": [],
   "source": [
    "class C(object):\n",
    "    def __init__(self):\n",
    "        self._x = None\n",
    "\n",
    "    @property\n",
    "    def x(self):\n",
    "        \"\"\"I'm the 'x' property.\"\"\"\n",
    "        return self._x\n",
    "\n",
    "    @x.setter\n",
    "    def x(self, value):\n",
    "        self._x = value\n",
    "\n",
    "    @x.deleter\n",
    "    def x(self):\n",
    "        del self._x"
   ]
  },
  {
   "cell_type": "code",
   "execution_count": null,
   "metadata": {
    "slideshow": {
     "slide_type": "fragment"
    }
   },
   "outputs": [],
   "source": [
    "class C:\n",
    "    def __init__(self):\n",
    "        self.x = None"
   ]
  },
  {
   "cell_type": "markdown",
   "metadata": {
    "slideshow": {
     "slide_type": "fragment"
    }
   },
   "source": [
    "While those two implementations are equivalent, the former offers more control while the second is much more concise."
   ]
  },
  {
   "cell_type": "markdown",
   "metadata": {
    "slideshow": {
     "slide_type": "slide"
    }
   },
   "source": [
    "Here is an example of the Oxide class with the formula changed into a *property*."
   ]
  },
  {
   "cell_type": "code",
   "execution_count": null,
   "metadata": {
    "slideshow": {
     "slide_type": "fragment"
    }
   },
   "outputs": [],
   "source": [
    "class Oxide:\n",
    "    \"Defines simple oxides\"\n",
    "    def __init__(self, metal, nmet, nox):\n",
    "        \"Provide the metal name and the number of them and oxygens\"\n",
    "        self.metal = str(metal)\n",
    "        self.nmet = int(nmet)\n",
    "        self.nox = int(nox)\n",
    "        \n",
    "    @property\n",
    "    def formula(self):\n",
    "        if self.nmet>1:\n",
    "            formula = \"%s%iO%i\"%(self.metal, self.nmet, self.nox)\n",
    "        else:\n",
    "            formula = \"%sO%i\"%(self.metal, self.nox)\n",
    "        return formula"
   ]
  },
  {
   "cell_type": "code",
   "execution_count": null,
   "metadata": {
    "slideshow": {
     "slide_type": "fragment"
    }
   },
   "outputs": [],
   "source": [
    "ceria = Oxide(\"Ce\", 1, 2)\n",
    "ceria.formula"
   ]
  },
  {
   "cell_type": "markdown",
   "metadata": {
    "slideshow": {
     "slide_type": "slide"
    }
   },
   "source": [
    "### Exercice 2\n",
    "* Make *area* and *perimeter* two properties of the `Rectangle` class from exercise 1."
   ]
  },
  {
   "cell_type": "markdown",
   "metadata": {
    "slideshow": {
     "slide_type": "slide"
    }
   },
   "source": [
    "### 4.3 - Class methods and class attributes\n",
    "\n",
    "Those are methods defined in the class but can access only to class-attributes, not to instance attributes !\n",
    "* Take the `cls` implicit first argument instead of `self` for normal methods.\n",
    "* Have access to the class namespace via the `cls` parameter\n",
    "* Require the use of the **@classmethod** decorator\n"
   ]
  },
  {
   "cell_type": "markdown",
   "metadata": {
    "slideshow": {
     "slide_type": "slide"
    }
   },
   "source": [
    "#### 4.3.1 - Class attributes\n",
    "Class are a separate namespace where one can define attributes (variables):"
   ]
  },
  {
   "cell_type": "code",
   "execution_count": null,
   "metadata": {
    "slideshow": {
     "slide_type": "fragment"
    }
   },
   "outputs": [],
   "source": [
    "class Oxide:\n",
    "    \"Defines simple oxides\"\n",
    "    state = \"solid\"\n",
    "    def __init__(self, metal, nmet, nox):\n",
    "        \"Provide the metal name and the number of them and oxygens\"\n",
    "        self.metal = str(metal)\n",
    "        self.nmet = int(nmet)\n",
    "        self.nox = int(nox)\n",
    "\n",
    "    @property\n",
    "    def formula(self):\n",
    "        if self.nmet>1:\n",
    "            formula = \"%s%iO%i\"%(self.metal, self.nmet, self.nox)\n",
    "        else:\n",
    "            formula = \"%sO%i\"%(self.metal, self.nox)\n",
    "        return formula"
   ]
  },
  {
   "cell_type": "code",
   "execution_count": null,
   "metadata": {
    "slideshow": {
     "slide_type": "fragment"
    }
   },
   "outputs": [],
   "source": [
    "ceria = Oxide(\"Ce\", 1, 2)\n",
    "print(ceria.formula, ceria.state)"
   ]
  },
  {
   "cell_type": "code",
   "execution_count": null,
   "metadata": {
    "scrolled": true,
    "slideshow": {
     "slide_type": "slide"
    }
   },
   "outputs": [],
   "source": [
    "water = Oxide(\"H\", 2, 1)\n",
    "print(water.formula, water.state)"
   ]
  },
  {
   "cell_type": "code",
   "execution_count": null,
   "metadata": {
    "slideshow": {
     "slide_type": "fragment"
    }
   },
   "outputs": [],
   "source": [
    "water.state = \"liquid\"\n",
    "print(water.state)\n",
    "print(water.__class__.state)\n",
    "print(ceria.state)"
   ]
  },
  {
   "cell_type": "markdown",
   "metadata": {
    "slideshow": {
     "slide_type": "fragment"
    }
   },
   "source": [
    "In those cases, the attribute name `state` is searched in this order into: \n",
    "* the instance namespace\n",
    "* the class namespace\n",
    "* all the namspaces of superclasses found in the class hierarchy"
   ]
  },
  {
   "cell_type": "markdown",
   "metadata": {
    "slideshow": {
     "slide_type": "slide"
    }
   },
   "source": [
    "#### 4.3.2 - Class methods\n",
    "\n",
    "A class method is a method applied to the *class* itself, not its instances."
   ]
  },
  {
   "cell_type": "code",
   "execution_count": null,
   "metadata": {
    "slideshow": {
     "slide_type": "fragment"
    }
   },
   "outputs": [],
   "source": [
    "class Oxide:\n",
    "    \"Defines simple oxides\"\n",
    "    state = \"solid\"\n",
    "    \n",
    "    @classmethod\n",
    "    def print_state(cls):\n",
    "        return \"This %s is in %s state\"%(cls.__name__.lower(),cls.state)\n",
    "    \n",
    "    def __init__(self, metal, nmet, nox):\n",
    "        \"Provide the metal name and the number of them and oxygens\"\n",
    "        self.metal = str(metal)\n",
    "        self.nmet = int(nmet)\n",
    "        self.nox = int(nox)\n",
    "        \n",
    "    @property\n",
    "    def formula(self):\n",
    "        if self.nmet>1:\n",
    "            formula = \"%s%iO%i\"%(self.metal, self.nmet, self.nox)\n",
    "        else:\n",
    "            formula = \"%sO%i\"%(self.metal, self.nox)\n",
    "        return formula"
   ]
  },
  {
   "cell_type": "code",
   "execution_count": null,
   "metadata": {
    "slideshow": {
     "slide_type": "slide"
    }
   },
   "outputs": [],
   "source": [
    "ceria = Oxide(\"Ce\", 1, 2)\n",
    "ceria.print_state()"
   ]
  },
  {
   "cell_type": "code",
   "execution_count": null,
   "metadata": {
    "slideshow": {
     "slide_type": "fragment"
    }
   },
   "outputs": [],
   "source": [
    "water = Oxide(\"H\", 2, 1)\n",
    "print(water.print_state())\n",
    "water.state = \"liquid\"\n",
    "print(water.print_state())"
   ]
  },
  {
   "cell_type": "markdown",
   "metadata": {
    "slideshow": {
     "slide_type": "subslide"
    }
   },
   "source": [
    "### 4.4 - Static methods\n",
    "Those are basic functions, attached to the class namespace.\n",
    "* In the namespace of the class\n",
    "* Cannot access any instance/class attribute.\n",
    "* No implicitly first argument (no `self`, no `cls`)\n",
    "* Require the use of the **@staticmethod** decorator"
   ]
  },
  {
   "cell_type": "markdown",
   "metadata": {
    "slideshow": {
     "slide_type": "slide"
    }
   },
   "source": [
    "### 4.5 - Special methods of classes:\n",
    "* `__new__()`: factory of the class. Allocates the memory before calling the contructor\n",
    "* `__init__()`: constructor of the class. Allways returns the instance\n",
    "* `__str__()`: string to be printed (deprecated)\n",
    "* `__repr__()`: string representing the object (replaces `__str__`)\n",
    "* `__setattr__(“attr”,value)`: add an attribute: obj.attr = value\n",
    "* `__getattribute__(“attr”)`: get an attribute: obj.attr\n",
    "* `__delattr__(“attr”)`: delete an attribute \n",
    "* `__subclasses__()`: list of its derivative classes"
   ]
  },
  {
   "cell_type": "markdown",
   "metadata": {
    "slideshow": {
     "slide_type": "slide"
    }
   },
   "source": [
    "### 4.6 - Special attributes of classes:\n",
    "* `__doc__`: the documentation string used by the *help* function \n",
    "* `__dict__`: dictionary containing references to all methods, class-attributes, class methods and properties\n",
    "* `__name__`: string representing the name of the class \n",
    "* `__bases__`: the list of superclasses\n",
    "* `__mro__`: method resolution order: order of superclass when resolving method calls "
   ]
  },
  {
   "cell_type": "markdown",
   "metadata": {
    "slideshow": {
     "slide_type": "slide"
    }
   },
   "source": [
    "### 4.7 - Special attributes of instances/objects:\n",
    "* `__class__`: reference to the class itself in the instance\n",
    "* `__doc__`: the documentation string (of the class)\n",
    "* `__dict__`: dictionary containing references to all attributes"
   ]
  },
  {
   "cell_type": "markdown",
   "metadata": {},
   "source": [
    "---"
   ]
  },
  {
   "cell_type": "markdown",
   "metadata": {
    "slideshow": {
     "slide_type": "slide"
    }
   },
   "source": [
    "##  5. Inheritance"
   ]
  },
  {
   "cell_type": "markdown",
   "metadata": {
    "slideshow": {
     "slide_type": "slide"
    }
   },
   "source": [
    "### 5.1 - What is inheritance\n",
    "\n",
    "Inheritance is a way to do OOP, i.e to define relationship between objects.\n",
    "\n",
    "* Define a new class inheriting from all methods and attributes from a superclass\n",
    "* Some methods of the superclass should be overwritten and new can be appended.\n",
    "* The whole family with the superclass and all subclasses is named **class hierarchy**\n",
    "\n",
    "Inheritance based development is very popular in C++ hence for Qt GUI-programming.  \n",
    "But it is not always well suited for Python programming "
   ]
  },
  {
   "cell_type": "markdown",
   "metadata": {
    "slideshow": {
     "slide_type": "slide"
    }
   },
   "source": [
    "### Exercise 3\n",
    "* Define a class *Square* which inherits from the *Rectangle* of example 2.\n",
    "* The constructor takes only one parameter: the length of one side. \n",
    "* Add a setter accessor for defining the area hence the length of the side\n",
    "* Define the properties accordingly"
   ]
  },
  {
   "cell_type": "markdown",
   "metadata": {
    "slideshow": {
     "slide_type": "slide"
    }
   },
   "source": [
    "### 5.2 - Extend or restrict ?\n",
    "\n",
    "According to *pylint*, to fit into one's brain, classes should be limited to:\n",
    "* 20 methods\n",
    "* 7 attributes\n",
    "\n",
    "But inheritance lets you **only** extend classes by adding new methods or attributes."
   ]
  },
  {
   "cell_type": "markdown",
   "metadata": {
    "slideshow": {
     "slide_type": "slide"
    }
   },
   "source": [
    "### 5.3 - Exercise on inheritance: Laue diffraction pattern\n",
    "\n",
    "This exercise has several purposes:\n",
    "  - Show the use of inheritance based on a concrete example\n",
    "  - Use the standard library `Thread`, read and understand its API\n",
    "  - Making a long process run in background\n",
    "\n",
    "In this example we will calculate the diffraction image obtained from a limited set of atoms using the Laue formula. \n",
    "The 2D crystal is composed on a square of NxN atoms."
   ]
  },
  {
   "cell_type": "markdown",
   "metadata": {
    "slideshow": {
     "slide_type": "slide"
    }
   },
   "source": [
    "This formula calculates the diffraction image arround the Bragg peak (H, K), actually (H-0.5…H+0.5, K-0.5…K+0.5) considering an oversampling factor. This oversampling factor should be at least 2 to have 2 points per peak. "
   ]
  },
  {
   "cell_type": "code",
   "execution_count": null,
   "metadata": {
    "slideshow": {
     "slide_type": "fragment"
    }
   },
   "outputs": [],
   "source": [
    "\"\"\"Laue simulation code\"\"\"\n",
    "\n",
    "import numpy\n",
    "\n",
    "def laue_array_size(ncells, oversampling):\n",
    "    \"\"\"Compute the output array size in each dimension\n",
    "\n",
    "    :param int ncells:\n",
    "        Number of unit cells in both directions\n",
    "    :param int oversampling: Oversampling factor\n",
    "    :rtype: int\n",
    "    \"\"\"\n",
    "    return ncells * oversampling\n",
    "\n",
    "def laue_image(ncells, h, k, oversampling):\n",
    "    \"\"\"\n",
    "\n",
    "    :param int ncells:\n",
    "        Number of unit cells in both directions\n",
    "    :param int h:\n",
    "        H Miller index of reflection where to sample space\n",
    "    :param int k:\n",
    "        K Miller index of reflection where to sample space\n",
    "    :param int oversampling:\n",
    "        Oversampling factor\n",
    "    :return: 2D array\n",
    "    :rtype: numpy.ndarray\n",
    "    \"\"\"\n",
    "    size = laue_array_size(ncells, oversampling)\n",
    "\n",
    "    # Prepare cristal structure\n",
    "    n = numpy.arange(ncells)\n",
    "    m = numpy.arange(ncells)\n",
    "\n",
    "    # Prepare sampling positions\n",
    "    h_sampling_pos = numpy.linspace(h - 0.5, h + 0.5, size, endpoint=True)\n",
    "    k_sampling_pos = numpy.linspace(k - 0.5, k + 0.5, size, endpoint=True)\n",
    "\n",
    "    # Do the computation\n",
    "    h, k, n, m = numpy.meshgrid(h_sampling_pos, k_sampling_pos, n, m, sparse=True)\n",
    "\n",
    "    # Sum over the unit-cells (last axis of the array) and take the squared modulus\n",
    "    return numpy.abs(numpy.exp(2j*numpy.pi*(h*n + k*m)).sum(axis=(2,3)))**2"
   ]
  },
  {
   "cell_type": "code",
   "execution_count": null,
   "metadata": {
    "slideshow": {
     "slide_type": "slide"
    }
   },
   "outputs": [],
   "source": [
    "%matplotlib inline\n",
    "from matplotlib. pyplot import subplots\n",
    "fig, ax = subplots()\n",
    "ax.imshow(laue_image(4, 5, 6, 100))"
   ]
  },
  {
   "cell_type": "markdown",
   "metadata": {
    "slideshow": {
     "slide_type": "slide"
    }
   },
   "source": [
    "The problem of this function is that it can take a while to calculate.  \n",
    "The aim of the exercice is to run the process in background, while leaving the user free to perform other tasks in the mean time."
   ]
  },
  {
   "cell_type": "code",
   "execution_count": null,
   "metadata": {
    "slideshow": {
     "slide_type": "fragment"
    }
   },
   "outputs": [],
   "source": [
    "%time laue_image(20, 5, 6, 50)"
   ]
  },
  {
   "cell_type": "markdown",
   "metadata": {
    "slideshow": {
     "slide_type": "slide"
    }
   },
   "source": [
    "The solution is to put this calculation in a thread, \n",
    "Please read the documentation of the `threading.Thead` class and try to make a derivative class that performs the *Laue* calculation in a thread. \n",
    "\n"
   ]
  },
  {
   "cell_type": "code",
   "execution_count": null,
   "metadata": {
    "slideshow": {
     "slide_type": "fragment"
    }
   },
   "outputs": [],
   "source": [
    "import threading\n",
    "threading.Thread?"
   ]
  },
  {
   "cell_type": "markdown",
   "metadata": {
    "slideshow": {
     "slide_type": "slide"
    }
   },
   "source": [
    "One way of using `Thread` is to override the `run` method in a subclass."
   ]
  },
  {
   "cell_type": "markdown",
   "metadata": {},
   "source": [
    "---"
   ]
  },
  {
   "cell_type": "markdown",
   "metadata": {
    "slideshow": {
     "slide_type": "slide"
    }
   },
   "source": [
    "## 6. - Composition\n",
    "\n",
    "### 6.1 - Introduction\n",
    "\n",
    "- *Composition* is another approach, different from *inheritance*, to structure code.\n",
    "- Object Oriented Programming can be achieved with composition.\n",
    "- Both are way to use, re-use and structure objects."
   ]
  },
  {
   "cell_type": "markdown",
   "metadata": {
    "slideshow": {
     "slide_type": "slide"
    }
   },
   "source": [
    "### 6.2 Example: Engine Vehicle\n",
    "\n",
    "#### 6.2.1 - With inheritance\n",
    "\n",
    "```python\n",
    "class EngineVehicle(object):\n",
    "    def __init__(self, engine_power):\n",
    "        self.engine_power = engine_power\n",
    "        \n",
    "        \n",
    "class Car(EngineVehicle):\n",
    "    def __init__(self, engine_power):\n",
    "        EngineVehicle.__init__(self, engine_power)\n",
    "```"
   ]
  },
  {
   "cell_type": "markdown",
   "metadata": {
    "slideshow": {
     "slide_type": "slide"
    }
   },
   "source": [
    "#### 6.2.2 - With composition\n",
    "\n",
    "```python\n",
    "class Engine(object):\n",
    "    def __init__(self, engine_power):\n",
    "        self.engine_power = engine_power\n",
    "        \n",
    "        \n",
    "class Car(object):\n",
    "    def __init__(self, engine_power):\n",
    "        self.engine = Engine(engine_power)\n",
    "```"
   ]
  },
  {
   "cell_type": "markdown",
   "metadata": {
    "slideshow": {
     "slide_type": "slide"
    }
   },
   "source": [
    "### 6.3 - Composition vs inheritance: what's the difference ?\n",
    "\n",
    "- Inheritance defines a **is a** relationship  (or \"behaves like\")\n",
    "- Composition defines a **has a** relationship\n",
    "\n",
    "`(a car) is a (engine vehicle)` : inheritance\n",
    "\n",
    "`(a car) has an (engine)` : composition"
   ]
  },
  {
   "cell_type": "markdown",
   "metadata": {
    "slideshow": {
     "slide_type": "slide"
    }
   },
   "source": [
    "### 6.4 - Composition vs inheritance: which should I choose ?\n",
    "\n",
    "It depends on what you want to do !  \n",
    "Usually you can settle this with the following tests:\n",
    "\n",
    "**Structure**\n",
    "  - Does this new class have the same interface as the other class ? \n",
    "\n",
    "**Behavior**\n",
    "  - Does this new class need only a part of the behavior of the other class ? \n",
    "  \n",
    "**Substitution**\n",
    "  - Can the code use `SpecializedClass` instead of `BasicClass` without breaking down ? (the affirmative indicates inheritance)\n",
    "\n",
    "See also: [Liskov principle](https://en.wikipedia.org/wiki/Liskov_substitution_principle).\n",
    "\n"
   ]
  },
  {
   "cell_type": "markdown",
   "metadata": {
    "slideshow": {
     "slide_type": "slide"
    }
   },
   "source": [
    "### 6.5 - To sum up\n",
    "\n",
    "Inheritance makes the child class expose *all* the interface of the parent class.\n",
    "  - If this is what you actually intended, then inheritance is advised (ex. GUI)\n",
    "  - If this is not what was primarily intended (ex. you only need a part of the features of the other class), composition should be preferred.\n",
    "  \n",
    "Composition often requires lots of wrapping/cabling which can be done:\n",
    "* explicitely (see the previous example)\n",
    "* implicitly using  `__getattr__` but it makes the code far less readable"
   ]
  },
  {
   "cell_type": "markdown",
   "metadata": {
    "slideshow": {
     "slide_type": "slide"
    }
   },
   "source": [
    "### 6.6 - Example\n",
    "\n",
    "Let us go back to our `Oxide` example.  \n",
    "An `Oxide` **has a** formula, so it seems reasonable to implement the formula logic in a dedicated class, and to compose this class within `Oxide`."
   ]
  },
  {
   "cell_type": "code",
   "execution_count": null,
   "metadata": {
    "slideshow": {
     "slide_type": "fragment"
    }
   },
   "outputs": [],
   "source": [
    "class Formula(object):\n",
    "    def __init__(self, metal, nmet, nox):\n",
    "        self.formula = self.compute_formula(metal, nmet, nox)\n",
    "    def compute_formula(self, metal, nmet, nox):\n",
    "        if nmet > 1:\n",
    "            formula = \"%s%iO%i\"%(metal, nmet, nox)\n",
    "        else:\n",
    "            formula = \"%sO%i\"%(metal, nox)\n",
    "        return formula\n",
    "\n",
    "    \n",
    "class Oxide:\n",
    "    \"Defines simple oxides\"\n",
    "      \n",
    "    def __init__(self, metal, nmet, nox):\n",
    "        \"Provide the metal name and the number of them and oxygens\"\n",
    "        self.metal = str(metal)\n",
    "        self.nmet = int(nmet)\n",
    "        self.nox = int(nox)\n",
    "        self._formula = Formula(self.metal, self.nmet, self.nox) # Composition\n",
    "\n",
    "    @property\n",
    "    def formula(self):\n",
    "        return self._formula.formula"
   ]
  },
  {
   "cell_type": "markdown",
   "metadata": {
    "slideshow": {
     "slide_type": "-"
    }
   },
   "source": [
    "---"
   ]
  },
  {
   "cell_type": "markdown",
   "metadata": {
    "slideshow": {
     "slide_type": "slide"
    }
   },
   "source": [
    "## 7. Design patterns"
   ]
  },
  {
   "cell_type": "markdown",
   "metadata": {
    "slideshow": {
     "slide_type": "slide"
    }
   },
   "source": [
    "### 7.1 - Introduction\n",
    "\n",
    "A Design Pattern is a generic re-usable solution.\n",
    "  - Recognize a (design) problem/need in your software\n",
    "  - Use a known (design) solution: a design pattern\n",
    "  - Know the limits of this pattern (see \"anti-patterns\")\n",
    "\n",
    "A design pattern is about *design*, not *implementation*, athough some design patterns are not relevant in certains languages (ex. Python with duck typing)\n",
    "\n",
    "Most software engineers agree on good patterns (\"this part should be designed this way\") and bad patterns (\"anti-patterns\").\n",
    "\n",
    "Design Patterns are sometimes obfuscated names for trivial things.\n",
    "\n",
    "See also: [python patterns](https://github.com/faif/python-patterns)."
   ]
  },
  {
   "cell_type": "markdown",
   "metadata": {
    "slideshow": {
     "slide_type": "slide"
    }
   },
   "source": [
    "### 7.2 - Design anti-patterns\n",
    "\n",
    "Let us start with how *not* to design one's code.  \n",
    "Here are two common design anti-patterns:\n",
    "  - Golden Hammer: \"I just learned how to use a hammer, now I see everything as a nail !\"\n",
    "  - God object: \"This class is really the heart of our architecture, all other classes ultimately inherit from it.\""
   ]
  },
  {
   "cell_type": "markdown",
   "metadata": {
    "slideshow": {
     "slide_type": "slide"
    }
   },
   "source": [
    "### 7.3 - Types of design patterns\n",
    "\n",
    "The design patterns can be classified as follows:\n",
    "  - Creational\n",
    "    - Factory\n",
    "    - Singleton, Borg\n",
    "  - Structural\n",
    "    - Adapter: use one class as an API to a number of others\n",
    "    - Facade: simplify an interface\n",
    "    - Proxy: an object funnels operations to something else\n",
    "  - Behavioral\n",
    "    - Template or Framework\n",
    "  - MVC: Model-View-Controller\n",
    "    - Model is doing the work\n",
    "    - Views (many) are displaying the result\n",
    "    - Controller sends signal from Model <-> View"
   ]
  },
  {
   "cell_type": "markdown",
   "metadata": {
    "slideshow": {
     "slide_type": "slide"
    }
   },
   "source": [
    "### 7.4 - Factory\n",
    "\n",
    "**What**  \n",
    "A factory is an object (or method) for creating class instances. \n",
    "\n",
    "**Usage**  \n",
    "Sometimes you have different classes, each one implementing a specific feature. If the feature needed is only known at run-time, the factory provides an elegant way to create the right class instance.\n",
    "\n",
    "**Limits**  \n",
    "In simplest cases, a series of `if` is more readable."
   ]
  },
  {
   "cell_type": "markdown",
   "metadata": {
    "slideshow": {
     "slide_type": "subslide"
    }
   },
   "source": [
    "**Implementation**  \n",
    "In Python, everything is an object, including classes themselves. Objects have a default hashing function (the built-in `hash()` function). Therefore, classes themselves can be stored in dictionaries.\n",
    "\n",
    "```python\n",
    "from os.path import splitext\n",
    "filename = input(\"Please choose a configuration file in the current folder\")\n",
    "config_parsers = {\n",
    "    \".ini\": IniParser, # a class\n",
    "    \".yaml\": YamlParser # another class\n",
    "}\n",
    "file_ext = splitext(filename)[-1]\n",
    "parser = config_parsers[file_ext]() # instantiate the relevant class\n",
    "```"
   ]
  },
  {
   "cell_type": "markdown",
   "metadata": {
    "slideshow": {
     "slide_type": "slide"
    }
   },
   "source": [
    "### 7.5 - Singleton\n",
    "\n",
    "**What**  \n",
    "A singleton is a class which has *one single* instance.   \n",
    "\n",
    "**Usage**  \n",
    "This is used when a *single* class (instance) is needed by all the components of a system.\n",
    "  - Example: shared data/configuration across modules.\n",
    "\n",
    "**Limits**  \n",
    "  - Subclassing is a problem with singletons\n",
    "  - Python modules are intrisically singletons !"
   ]
  },
  {
   "cell_type": "markdown",
   "metadata": {
    "slideshow": {
     "slide_type": "subslide"
    }
   },
   "source": [
    "**Implementation**  \n",
    "\n",
    "In Python, all classes have a `__new__` method which creates the instance (this is a factory !).\n",
    "\n",
    "```python\n",
    "class Singleton(object):\n",
    "    @classmethod\n",
    "    def __new__(cls, *args, **kwargs):\n",
    "        if not hasattr(cls, \"_inst\"):\n",
    "            cls._inst = super(Singleton, cls).__new__(*args, **kwargs)\n",
    "        return cls._inst\n",
    "```\n",
    "**<font color=\"red\">Exercice</font>**   \n",
    "Build a singleton and subclass it"
   ]
  },
  {
   "cell_type": "markdown",
   "metadata": {
    "slideshow": {
     "slide_type": "slide"
    }
   },
   "source": [
    "### 7.6 - Borg\n",
    "\n",
    "**What**  \n",
    "Like the singleton, the Borg is a \"monostate pattern\".  \n",
    "The difference is that there can be multiple instance of a Borg, but they share the same *state* (not the same *identity*).\n",
    "\n",
    "**Usage**  \n",
    "Same as singleton: shared state/configuration \n",
    "\n",
    "**Limits**\n",
    "  - The borgs do not have the same memory address"
   ]
  },
  {
   "cell_type": "markdown",
   "metadata": {
    "slideshow": {
     "slide_type": "subslide"
    }
   },
   "source": [
    "**Implementation**\n",
    "\n",
    "In Python, all instances have their own attributes/methods stored in the `__dict__` dictionary.  \n",
    "By forcing the instances to share the same `__dict__`, we implement a Borg (all instances have the same internal state, but they do not have the same memory address).\n",
    "\n",
    "```python\n",
    "class Borg(object):\n",
    "    _shared_state = {}\n",
    "    def __init__(self, *args, **kwargs):\n",
    "        self.__dict__ = self._shared_state\n",
    "```\n",
    "**<font color=\"red\">Exercice</font>**   \n",
    "Build a borg and subclass it"
   ]
  },
  {
   "cell_type": "markdown",
   "metadata": {
    "slideshow": {
     "slide_type": "slide"
    }
   },
   "source": [
    "### 7.7 - Decorators\n",
    "\n",
    "**What**  \n",
    "A *decorator* modifies the *behavior* of a function/class/method, without being invasive on the code *sturcture*.  \n",
    "Decorators are an example of [Aspect Oriented Programming](https://en.wikipedia.org/wiki/Aspect-oriented_programming).\n",
    "\n",
    "**Usage**  \n",
    "  - Logging the process of a function (or method)\n",
    "  - Warnings (ex. deprecation warnings)\n",
    "  \n",
    "\n",
    "**Limits**  \n",
    "  - Creating decorator might be difficult for beginners\n"
   ]
  },
  {
   "cell_type": "markdown",
   "metadata": {
    "slideshow": {
     "slide_type": "subslide"
    }
   },
   "source": [
    "**Implementation**  \n",
    "A decorator is a function that takes a function as an input, and returns a (decorated) function as an output.  \n",
    "The decorator mechanism is part of Python. Also, Python comes with built-in decorators (ex. `functools.lru_cache`), but you can create your own decorators."
   ]
  },
  {
   "cell_type": "code",
   "execution_count": null,
   "metadata": {
    "slideshow": {
     "slide_type": "fragment"
    }
   },
   "outputs": [],
   "source": [
    "_warnings_cache = {}\n",
    "def deprecated(func):\n",
    "    def wrapper(*args, **kwargs):\n",
    "        func_name = func.__name__\n",
    "        if func_name not in _warnings_cache:\n",
    "            _warnings_cache[func_name] = 1\n",
    "            print(\"Warning: function %s is deprecated !\" % func_name)\n",
    "        return func(*args, **kwargs)\n",
    "    return wrapper\n",
    "\n",
    "@deprecated\n",
    "def my_old_function(a):\n",
    "    return a+1\n",
    "\n",
    "my_old_function(1) # displays a warning\n",
    "my_old_function(2)"
   ]
  },
  {
   "cell_type": "markdown",
   "metadata": {
    "slideshow": {
     "slide_type": "slide"
    }
   },
   "source": [
    "### 7.8 - Framework/Template/self delegation\n",
    "\n",
    "**What**  \n",
    "- Defines the skeleton, deferring the definition/implementation of exact steps to subclasses or other cooperating classes.\n",
    "- To actually do the work, the concrete classes does:\n",
    "    * Inherit from superclass\n",
    "    * Overwrite abstract method and implement them to do the work\n",
    "    * Maximizes the code reuse\n",
    "- \"Hollywood principle\": \"don't call us, we'll call you !\"\n",
    "\n",
    "\n",
    "**Usage**  \n",
    "  - Natural way of sub-classing withing OOP\n",
    "  - Super-class contains logic\n",
    "  - Hook methods to be overwritten\n",
    "  - Maximal re-use of logic"
   ]
  },
  {
   "cell_type": "markdown",
   "metadata": {
    "slideshow": {
     "slide_type": "subslide"
    }
   },
   "source": [
    "  **Limits**  \n",
    "  - Need to understand the logic of the framework\n",
    "  - \"Final\" classes do not exist in Python\n",
    "\n",
    "**Implementation**  \n",
    "Create empty method to be overwritten (\"abstract methods\").\n",
    "\n",
    "```python\n",
    "class AbstractSearch:\n",
    "    def search(self):\n",
    "        '''Abstract method'''\n",
    "        raise NotImplementedError(\"abstract method to be overwritten\")\n",
    "```"
   ]
  },
  {
   "cell_type": "markdown",
   "metadata": {
    "slideshow": {
     "slide_type": "slide"
    }
   },
   "source": [
    "### Final classes\n",
    "\n",
    "Final classes are classes one cannot subclass or inherit from. \n",
    "In Python, one can always inherit from a class, but tricks exists.  \n",
    "For example here is a trick found in threading.py:"
   ]
  },
  {
   "cell_type": "code",
   "execution_count": null,
   "metadata": {
    "slideshow": {
     "slide_type": "fragment"
    }
   },
   "outputs": [],
   "source": [
    "def Semaphore(*arg, **kwarg):\n",
    "    return _Semaphore(*arg, **kwarg)"
   ]
  },
  {
   "cell_type": "markdown",
   "metadata": {},
   "source": [
    "---"
   ]
  },
  {
   "cell_type": "markdown",
   "metadata": {
    "slideshow": {
     "slide_type": "slide"
    }
   },
   "source": [
    "## 8. Conclusion\n",
    "\n",
    "* This was a fast introduction to Object Oriented Programming\n",
    "* Much new vocabulary \n",
    "* Not so many new concepts\n",
    "* OOP looks like `black magic` initially but really it is not !\n",
    "\n",
    "Use classes only when you feel the need.\n",
    "Continue using simple functions if you feel more comfortable with procedural programming"
   ]
  },
  {
   "cell_type": "markdown",
   "metadata": {
    "slideshow": {
     "slide_type": "slide"
    }
   },
   "source": [
    "\n"
   ]
  }
 ],
 "metadata": {
  "celltoolbar": "Diaporama",
  "kernelspec": {
   "display_name": "Python 3",
   "language": "python",
   "name": "python3"
  },
  "language_info": {
   "codemirror_mode": {
    "name": "ipython",
    "version": 3
   },
   "file_extension": ".py",
   "mimetype": "text/x-python",
   "name": "python",
   "nbconvert_exporter": "python",
   "pygments_lexer": "ipython3",
   "version": "3.5.3"
  }
 },
 "nbformat": 4,
 "nbformat_minor": 2
}
