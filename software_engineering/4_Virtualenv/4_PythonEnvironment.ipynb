{
 "cells": [
  {
   "cell_type": "markdown",
   "metadata": {
    "slideshow": {
     "slide_type": "slide"
    }
   },
   "source": [
    "# Python (Virtual) Environments"
   ]
  },
  {
   "cell_type": "markdown",
   "metadata": {
    "slideshow": {
     "slide_type": "-"
    }
   },
   "source": [
    "## Introduction\n",
    "\n",
    "### Principle\n",
    "\n",
    "Keep the dependencies required by different projects in separate places by creating an environment for each of them.\n",
    "\n",
    "Each environment can have a different version of Python, and a different set of packages.\n",
    "\n",
    "The main purpose is isolation."
   ]
  },
  {
   "cell_type": "markdown",
   "metadata": {
    "slideshow": {
     "slide_type": "subslide"
    }
   },
   "source": [
    "### Why using environments?\n",
    "\n",
    "#### Users and production servers\n",
    "\n",
    "- Installing new software with up-to-date dependencies without breaking older installations relying on older versions of the same dependencies.\n",
    "- Sharing an environment, isolated from the system and users libraries, between different users.\n",
    "\n",
    "Using environments is our preferred way of installing new Python software for users.\n",
    "\n",
    "#### Developers\n",
    "\n",
    "- Testing installer scripts: are all necessary dependencies correctly installed on a blank system?\n",
    "- Testing that your software works with different sets of libraries, or different versions of a single library."
   ]
  },
  {
   "cell_type": "markdown",
   "metadata": {
    "slideshow": {
     "slide_type": "subslide"
    }
   },
   "source": [
    "### Python environment solutions\n",
    "\n",
    "- [venv](https://docs.python.org/3/library/venv.html) Python virtual environment (aka., virtualenv): Included in Python\n",
    "- [Miniconda](https://docs.conda.io/en/latest/miniconda.html) and [Anaconda](https://www.anaconda.com/products/individual): Main alternative\n",
    "- Others: [WinPython](https://winpython.github.io/) (Windows only)"
   ]
  },
  {
   "cell_type": "markdown",
   "metadata": {
    "slideshow": {
     "slide_type": "slide"
    }
   },
   "source": [
    "## `venv`'s virtualenv\n",
    "\n",
    "A virtualenv is a folder (e.g.,`/path/to/myvenv`) containing the python interpreter with its standard library, `pip`, and a *site-packages* directory for installing additional libraries.\n",
    "\n",
    "The virtualenv feature is provided by the `venv` standard Python package.\n",
    "\n",
    "### Usage\n",
    "\n",
    "- Creation: `python3 -m venv /path/to/myvenv`\n",
    "- Activation: `source /path/to/myvenv/bin/activate`\n",
    "- Run virtualenv's commands: `python`,...\n",
    "- Deactivation: `deactivate`\n",
    "- Delete environment: `rm -rf /path/to/myvenv`"
   ]
  },
  {
   "cell_type": "markdown",
   "metadata": {
    "slideshow": {
     "slide_type": "subslide"
    }
   },
   "source": [
    "### Manage installed packages with `pip`\n",
    "\n",
    "Usage of [`pip`](https://pypi.org/project/pip/) the **P**ackage **I**nstaller for **P**ython:\n",
    "- Install packages: `pip install numpy`\n",
    "- List installed packages: `pip list`\n",
    "- Remove packages: `pip uninstall numpy`\n",
    "\n",
    "`pip` packages search on [pypi.org](https://pypi.org/)"
   ]
  },
  {
   "cell_type": "markdown",
   "metadata": {
    "slideshow": {
     "slide_type": "fragment"
    }
   },
   "source": [
    "Once a virtualenv is created, it is best to upgrade packages related to package management:\n",
    "```shell\n",
    "python -m pip install --upgrade pip setuptools wheel\n",
    "```"
   ]
  },
  {
   "cell_type": "markdown",
   "metadata": {
    "slideshow": {
     "slide_type": "slide"
    }
   },
   "source": [
    "## \\[Mini|Ana\\]conda\n",
    "\n",
    "Comes in 2 flavors:\n",
    "\n",
    "- [Anaconda](https://www.anaconda.com/products/individual): Installer with \"batteries included\".\n",
    "- [Miniconda](https://docs.conda.io/en/latest/miniconda.html) (or [Miniforge](https://github.com/conda-forge/miniforge/#download)): Minimal installer: Python and conda package manager."
   ]
  },
  {
   "cell_type": "markdown",
   "metadata": {
    "slideshow": {
     "slide_type": "subslide"
    }
   },
   "source": [
    "### Setup\n",
    "\n",
    "- First, download and run the [Miniconda](https://docs.conda.io/en/latest/miniconda.html) (or [Miniforge](https://github.com/conda-forge/miniforge/#download)) installer for the Python of your choice and the architecture of your computer:\n",
    "  - Select installation path\n",
    "  - Do you wish to run `conda init`? = Do you want to use conda by default or not?\n",
    "\n",
    "- Add \"channels\" globally:\n",
    "  - [conda-forge](https://conda-forge.org/): `conda config --add channels conda-forge` (already registered in Miniforge).\n",
    "  - [esrf-bcu](https://anaconda.org/esrf-bcu/repo): `conda config --add channels esrf-bcu`"
   ]
  },
  {
   "cell_type": "markdown",
   "metadata": {
    "slideshow": {
     "slide_type": "subslide"
    }
   },
   "source": [
    "### conda init\n",
    "\n",
    "- Set command line shell(s) to use `conda`: `conda init`\n",
    "- Unset shell to use `conda`: `conda init --reverse`"
   ]
  },
  {
   "cell_type": "markdown",
   "metadata": {
    "slideshow": {
     "slide_type": "subslide"
    }
   },
   "source": [
    "### Manage environments\n",
    "\n",
    "It is recommended to use environment rather than the default one.\n",
    "\n",
    "- Creation: `conda create --name myenv python=3.9` (Currently issues with Python 3.10)\n",
    "- Activation: `conda activate myenv`\n",
    "- Run commands in conda env: `python`, `conda`,...\n",
    "- Deactivation: `conda deactivate`\n",
    "- Delete environment: `conda env remove --name myenv`\n",
    "\n",
    "\n",
    "- List environments: `conda env list`"
   ]
  },
  {
   "cell_type": "markdown",
   "metadata": {
    "slideshow": {
     "slide_type": "subslide"
    }
   },
   "source": [
    "### Manage installed packages with `conda`:\n",
    "\n",
    "- Install packages: `conda install [-c conda-forge] numpy`\n",
    "- List installed packages: `conda list`\n",
    "- Remove packages: `conda remove numpy` (`uninstall` also work)\n",
    "\n",
    "`conda` [package search](https://anaconda.org/anaconda/repo)\n",
    "\n",
    "In case something is not available with conda, `pip` also works."
   ]
  },
  {
   "cell_type": "markdown",
   "metadata": {
    "slideshow": {
     "slide_type": "subslide"
    }
   },
   "source": [
    "### Sharing an environment\n",
    "\n",
    "\n",
    "\n",
    "- Save installed packages: `conda env export --from-history > environment.yml`\n",
    "- Restore environment from file: `conda env create -f environment.yml`\n",
    "\n",
    "```yml\n",
    "name: test\n",
    "channels:\n",
    "  - esrf-bcu\n",
    "  - conda-forge\n",
    "  - defaults\n",
    "dependencies:\n",
    "  - python=3.9\n",
    "  - numpy\n",
    "prefix: [...]/miniconda3/envs/test\n",
    "```\n",
    "\n",
    "See [Doc](https://docs.conda.io/projects/conda/en/latest/user-guide/tasks/manage-environments.html#sharing-an-environment)"
   ]
  },
  {
   "cell_type": "markdown",
   "metadata": {
    "slideshow": {
     "slide_type": "slide"
    }
   },
   "source": [
    "## virtualenv vs conda\n",
    "\n",
    "<table>\n",
    "    <tr>\n",
    "        <th>&nbsp;</th>\n",
    "        <th colspan=\"2\">Binary packages</th>\n",
    "        <th colspan=\"3\">Architectures</th>\n",
    "        <th>Env. size (MB)</th>\n",
    "    </tr>\n",
    "    <tr>\n",
    "        <td>&nbsp;</td>\n",
    "        <td>Python</td>\n",
    "        <td>Others</td>\n",
    "        <td>x86_86</td>\n",
    "        <td>Power9</td>\n",
    "        <td>ARM</td>\n",
    "        <td>Linux</td>\n",
    "    </tr>\n",
    "    <tr>\n",
    "        <th>virtualenv</th>\n",
    "        <td>✓</td>\n",
    "        <td>✗</td>\n",
    "        <td>✓¹</td>\n",
    "        <td>✗¹</td>\n",
    "        <td>✗¹</td>\n",
    "        <td>13</td>\n",
    "    </tr>\n",
    "    <tr>\n",
    "        <th>miniconda</th>\n",
    "        <td>✓</td>\n",
    "        <td>✓</td>\n",
    "        <td>✓</td>\n",
    "        <td>✓</td>\n",
    "        <td>✓</td>\n",
    "        <td>311</td>\n",
    "    </tr>\n",
    "</table>\n",
    "\n",
    "¹: `pypi.org` relies on developers to provide pre-built binaries\n",
    "\n",
    "\n",
    "Commands comparison :[conda vs pip vs virtualenv commands](https://docs.conda.io/projects/conda/en/latest/commands.html#conda-vs-pip-vs-virtualenv-commands)\n",
    "\n",
    "**virtualenv**:\n",
    "- Lightweight isolation for Python only relying on an already installed Python (so on Linux, it is bound to a version of the operating system).\n",
    "- Packages installed from `pypi.org`.\n",
    "\n",
    "**conda**:\n",
    "- Strong isolation from the system (but not complete) at the expense of heavier environments.\n",
    "- Backed-up by [conda-forge](https://conda-forge.org/) a community-driven packaging authority (+ additional packages in other \"channels\")."
   ]
  },
  {
   "cell_type": "markdown",
   "metadata": {
    "slideshow": {
     "slide_type": "subslide"
    }
   },
   "source": [
    "## Hands-on\n",
    "\n",
    "Create a virtualenv or a conda env to be used for the rest of the training."
   ]
  }
 ],
 "metadata": {
  "celltoolbar": "Slideshow",
  "kernelspec": {
   "display_name": "Python 3",
   "language": "python",
   "name": "python3"
  },
  "language_info": {
   "codemirror_mode": {
    "name": "ipython",
    "version": 3
   },
   "file_extension": ".py",
   "mimetype": "text/x-python",
   "name": "python",
   "nbconvert_exporter": "python",
   "pygments_lexer": "ipython3",
   "version": "3.7.3"
  },
  "toc": {
   "base_numbering": 1,
   "nav_menu": {},
   "number_sections": true,
   "sideBar": true,
   "skip_h1_title": true,
   "title_cell": "Table of Contents",
   "title_sidebar": "Contents",
   "toc_cell": false,
   "toc_position": {},
   "toc_section_display": true,
   "toc_window_display": false
  }
 },
 "nbformat": 4,
 "nbformat_minor": 2
}
