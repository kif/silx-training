{
 "cells": [
  {
   "cell_type": "markdown",
   "metadata": {
    "slideshow": {
     "slide_type": "slide"
    }
   },
   "source": [
    "# Python (Virtual) Environments"
   ]
  },
  {
   "cell_type": "markdown",
   "metadata": {
    "slideshow": {
     "slide_type": "-"
    }
   },
   "source": [
    "## Introduction\n",
    "\n",
    "### Principle\n",
    "\n",
    "Keep the dependencies required by different projects in separate places by creating an environment for each of them.\n",
    "\n",
    "Each environment can have a different version of Python, and a different set of packages.\n",
    "\n",
    "The main purpose is isolation."
   ]
  },
  {
   "cell_type": "markdown",
   "metadata": {
    "slideshow": {
     "slide_type": "subslide"
    }
   },
   "source": [
    "### Why using environments?\n",
    "\n",
    "#### Users and production servers\n",
    "\n",
    "- Installing new software with up-to-date dependencies without breaking older installation relying on older versions of the same dependencies.\n",
    "- Sharing an environment, isolated from the system and users libraries, between different users.\n",
    "\n",
    "Using environments is our preferred way of installing new Python software for users.\n",
    "\n",
    "#### Developers\n",
    "\n",
    "- Testing installer scripts: are all necessary dependencies correctly installed on a blank system?\n",
    "- Testing that your software works with different sets of libraries, or different versions of a single library"
   ]
  },
  {
   "cell_type": "markdown",
   "metadata": {
    "slideshow": {
     "slide_type": "subslide"
    }
   },
   "source": [
    "### Python environment solutions\n",
    "\n",
    "- [venv](https://docs.python.org/3/library/venv.html) Python virtual environment (aka., virtualenv): Included in Python\n",
    "- [Miniconda](https://docs.conda.io/en/latest/miniconda.html) and [Anaconda](https://www.anaconda.com/products/individual): Main alternative\n",
    "- [WinPython](https://winpython.github.io/): Windows only\n",
    "- ..."
   ]
  },
  {
   "cell_type": "markdown",
   "metadata": {
    "slideshow": {
     "slide_type": "slide"
    }
   },
   "source": [
    "## `venv`'s virtualenv\n",
    "\n",
    "A virtualenv is a folder (e.g.,`/path/to/myvenv`) containing the python interpreter with its standard library, `pip`, and a *site-packages* directory for installing additional libraries.\n",
    "\n",
    "The virtualenv feature is provided by the `venv` standard Python package.\n",
    "\n",
    "### Usage\n",
    "\n",
    "- Creation: `python3 -m venv /path/to/myvenv`\n",
    "- Activation: `source /path/to/myvenv/bin/activate`\n",
    "- Run virtualenv's commands: `python`,...\n",
    "- Deactivation: `deactivate`"
   ]
  },
  {
   "cell_type": "markdown",
   "metadata": {
    "slideshow": {
     "slide_type": "subslide"
    }
   },
   "source": [
    "### Manage installed packages with `pip`\n",
    "\n",
    "Usage of [`pip`](https://pypi.org/project/pip/) the **P**ackage **I**nstaller for **P**ython:\n",
    "- Install packages: `pip install numpy`\n",
    "- List installed packages: `pip list`\n",
    "- Remove packages: `pip uninstall numpy`"
   ]
  },
  {
   "cell_type": "markdown",
   "metadata": {
    "slideshow": {
     "slide_type": "fragment"
    }
   },
   "source": [
    "Once a virtualenv is created, it is best to upgrade packages related to package management:\n",
    "```shell\n",
    "python -m pip install --upgrade pip setuptools wheel\n",
    "```"
   ]
  },
  {
   "cell_type": "markdown",
   "metadata": {
    "slideshow": {
     "slide_type": "subslide"
    }
   },
   "source": [
    "### Wheels and performances\n",
    "\n",
    "``pip`` preferably installs pre-compiled wheels when they are available for your platform.\n",
    "Wheels remove the burden of having to install a compiler (great for Mac and Windows) and saves compilation time/burden.\n",
    "\n",
    "On linux, *manylinux wheels* are available and simplify the installation of packages.\n",
    "These wheels are compiled with old tools and libraries, trading performances (~20% slower for *manylinux1*) for compatibility with any linux distributions.\n",
    "\n",
    "When performance matters, you should install packages by compiling from source (This can be tricky).\n",
    "\n",
    "Example with *numpy* (https://pypi.org/pypi/numpy):\n",
    "- From source package: `pip install --no-binary :all: numpy`\n",
    "- From a git repository: `pip install git+https://github.com/numpy/numpy@v1.21.2`\n",
    "- From a folder containing sources: `pip install .`"
   ]
  },
  {
   "cell_type": "markdown",
   "metadata": {
    "slideshow": {
     "slide_type": "slide"
    }
   },
   "source": [
    "## \\[Mini|Ana\\]conda\n",
    "\n",
    "- [Miniconda](https://docs.conda.io/en/latest/miniconda.html): Minimal installer: Python and conda.\n",
    "- [Anaconda](https://www.anaconda.com/products/individual): Installer with \"battery included\".\n",
    "\n",
    "\n",
    "Includes over 100 of the most popular Python, R and Scala packages for data science.\n",
    "\n",
    "Uses its own package manager (``conda install``), but can use ``pip`` as well for packages\n",
    "not managed by conda.\n",
    "\n",
    "Separating different environments: ``conda create -n myenv python``\n",
    "\n",
    "License issue: Anaconda is installed with [mkl](https://software.intel.com/en-us/intel-mkl),\n",
    "which cannot be included if you want to package your application as a fat binary.\n",
    "\n",
    "```shell\n",
    "conda install nomkl numpy scipy scikit-learn numexpr\n",
    "conda remove mkl mkl-service\n",
    "```\n",
    "\n",
    "\n",
    "Smaller version of Anaconda with Python, conda and essential packages (numpy)"
   ]
  },
  {
   "cell_type": "markdown",
   "metadata": {
    "slideshow": {
     "slide_type": "slide"
    }
   },
   "source": [
    "## virtualenv vs conda\n",
    "\n",
    "<table>\n",
    "    <tr>\n",
    "        <th>&nbsp;</th>\n",
    "        <th colspan=\"2\">Binary packages</th>\n",
    "        <th colspan=\"3\">Architectures</th>\n",
    "        <th>Env. size (MB)</th>\n",
    "    </tr>\n",
    "    <tr>\n",
    "        <td>&nbsp;</td>\n",
    "        <td>Python</td>\n",
    "        <td>Others</td>\n",
    "        <td>x86_86</td>\n",
    "        <td>Power9</td>\n",
    "        <td>ARM</td>\n",
    "        <td>Linux</td>\n",
    "    </tr>\n",
    "    <tr>\n",
    "        <th>virtualenv</th>\n",
    "        <td>✓</td>\n",
    "        <td>✗</td>\n",
    "        <td>✓¹</td>\n",
    "        <td>✗¹</td>\n",
    "        <td>✗¹</td>\n",
    "        <td>13</td>\n",
    "    </tr>\n",
    "    <tr>\n",
    "        <th>miniconda</th>\n",
    "        <td>✓</td>\n",
    "        <td>✓</td>\n",
    "        <td>✓</td>\n",
    "        <td>✓</td>\n",
    "        <td>✓</td>\n",
    "        <td>311</td>\n",
    "    </tr>\n",
    "</table>\n",
    "\n",
    "¹: `pypi.org` relies on developers to provide pre-built binaries\n",
    "\n",
    "\n",
    "**virtualenv**:\n",
    "- Light weight isolation for Python only relying on an already installed Python.\n",
    "- Packages installed from `pypi.org`.\n",
    "\n",
    "**conda**:\n",
    "- Strong isolation from the system (but not complete) at the expense of heavier environments.\n",
    "- Backed-up by conda-forge a packaging authority (+ additional packages in other \"channels\")."
   ]
  }
 ],
 "metadata": {
  "celltoolbar": "Slideshow",
  "kernelspec": {
   "display_name": "Python 3",
   "language": "python",
   "name": "python3"
  },
  "language_info": {
   "codemirror_mode": {
    "name": "ipython",
    "version": 3
   },
   "file_extension": ".py",
   "mimetype": "text/x-python",
   "name": "python",
   "nbconvert_exporter": "python",
   "pygments_lexer": "ipython3",
   "version": "3.7.3"
  },
  "toc": {
   "base_numbering": 1,
   "nav_menu": {},
   "number_sections": true,
   "sideBar": true,
   "skip_h1_title": true,
   "title_cell": "Table of Contents",
   "title_sidebar": "Contents",
   "toc_cell": false,
   "toc_position": {},
   "toc_section_display": true,
   "toc_window_display": false
  }
 },
 "nbformat": 4,
 "nbformat_minor": 2
}
