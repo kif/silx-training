{
 "cells": [
  {
   "cell_type": "markdown",
   "metadata": {
    "slideshow": {
     "slide_type": "slide"
    }
   },
   "source": [
    "# Virtual environments for Python"
   ]
  },
  {
   "cell_type": "markdown",
   "metadata": {
    "slideshow": {
     "slide_type": "-"
    }
   },
   "source": [
    "## What is a virtual environment"
   ]
  },
  {
   "cell_type": "markdown",
   "metadata": {
    "slideshow": {
     "slide_type": "-"
    }
   },
   "source": [
    "A Virtual Environment is a tool to keep the dependencies required by different projects in\n",
    "separate places, by creating virtual Python environments for them.\n",
    "\n",
    "Each can have a different version of Python, and a different set of libraries.\n",
    "\n",
    "Its main purpose is to create an isolated environment.\n",
    "\n",
    "A virtual environment is a folder containing :\n",
    "\n",
    "- The python executable\n",
    "- The environment python libraries\n",
    "- Executables (scripts, modules entry points)"
   ]
  },
  {
   "cell_type": "markdown",
   "metadata": {
    "slideshow": {
     "slide_type": "slide"
    }
   },
   "source": [
    "## Specific purposes\n",
    "\n",
    "### Users and production servers\n",
    "\n",
    "- installing new software with modern library dependencies, without breaking older software relying on older versions of the same libraries\n",
    "- sharing an environment, isolated from the system and users libraries, between different users\n",
    "\n",
    "Using virtual environments is our preferred way of installing new python software for users.\n",
    "\n",
    "### Developers\n",
    "\n",
    "- testing installer scripts: are all necessary dependencies correctly installed on a blank system?\n",
    "- testing that your software works with different sets of libraries (e.g PyQt4, PyQt5, PySide), or different versions of a single library\n",
    "\n",
    "Testing usages can be automated with *continuous integration*."
   ]
  },
  {
   "cell_type": "markdown",
   "metadata": {
    "slideshow": {
     "slide_type": "slide"
    }
   },
   "source": [
    "## Creating a virtualenv\n",
    "\n",
    "From Python 3, virtualenv is already shipped as a standard libray: ``venv``.\n",
    "\n",
    "### Simple case\n",
    "\n",
    "This will create a new directory ``myvenv`` in the current directory,\n",
    "containing the python interpreter with its standard library, *pip*,\n",
    "and a *site-packages* directory for installing additional libraries.\n",
    "\n",
    "\n",
    "```shell\n",
    "python3 -m venv path_to_myvenv_folder\n",
    "```\n",
    "\n",
    "### More advanced case\n",
    "\n",
    "The virtualenv is created by the system's Python. However, the python version of the virtualenv can be different.\n",
    "\n",
    "*Example : create a \"python 3.6\" virtual environment using system's python 3.5*\n",
    "\n",
    "```shell\n",
    "python3 -V # Python 3.5.3\n",
    "python3 -m venv -p /path/to/python3.6 my_virtualenv_folder\n",
    "```"
   ]
  },
  {
   "cell_type": "markdown",
   "metadata": {
    "slideshow": {
     "slide_type": "slide"
    }
   },
   "source": [
    "## Activating a virtual env\n",
    "\n",
    "*Activating* a virtual env means using the Python version (and related libraries) of the virtual environment.  \n",
    "\n",
    "```shell\n",
    "source myvenv/bin/activate\n",
    "```\n",
    "\n",
    "While this virtual environment is active:\n",
    "\n",
    "- the command ``python`` calls the python installed in ``myvenv``, and it is not aware of user libraries outside the environment.\n",
    "- the command ``pip`` installs new libraries inside the environment\n",
    "\n",
    "To deactivate the environment later, use the following command:\n",
    "\n",
    "```shell\n",
    "deactivate\n",
    "```"
   ]
  },
  {
   "cell_type": "markdown",
   "metadata": {
    "slideshow": {
     "slide_type": "slide"
    }
   },
   "source": [
    "## Upgrade pip, setuptools and wheel\n",
    "\n",
    "The *pip* command and the *setuptools* and *wheel* libraries in your new virtual environment\n",
    "are copies (or links to) the system's *pip*, *setuptools* and *wheel*.  They might be outdated.\n",
    "\n",
    "This step ensures that you will be able to install modern software and libraries.\n",
    "\n",
    "```shell\n",
    "python -m pip install --upgrade pip\n",
    "pip install setuptools --upgrade\n",
    "pip install wheel --upgrade\n",
    "```\n",
    "\n",
    "Note that although you are (likely) not root, you don't need the ``--user`` flag anymore. This is because the modules are installed in your virtualenv folder."
   ]
  },
  {
   "cell_type": "markdown",
   "metadata": {
    "slideshow": {
     "slide_type": "slide"
    }
   },
   "source": [
    "## Installing libraries\n",
    "\n",
    "As an exercise, let's install *silx* and its dependencies.\n",
    "\n",
    "Some dependencies can simply be installed from pypi:\n",
    "\n",
    "```shell\n",
    "pip install numpy cython\n",
    "pip install matplotlib fabio h5py qtconsole pyopencl mako PyQt5\n",
    "```"
   ]
  },
  {
   "cell_type": "markdown",
   "metadata": {
    "slideshow": {
     "slide_type": "slide"
    }
   },
   "source": [
    "## Installing from sources\n",
    "\n",
    "``pip`` preferably installs pre-compiled wheels when they are available for your platform.\n",
    "Wheels remove the burden of having to install a compiler (great for Mac and Windows).\n",
    "\n",
    "On linux, *manylinux1 wheels* are available and simplify the installation of packages.\n",
    "These wheels are compiled with old tools and libraries, trading performances (~20% slower) for compatibility with any linux distributions.\n",
    "\n",
    "When performance matters, you should install packages by compiling their\n",
    "sources. This can be tricky.\n",
    "\n",
    "Example for *numpy* (https://pypi.python.org/pypi/numpy#downloads):\n",
    "\n",
    "```shell\n",
    "unzip numpy-1.12.1rc1.zip\n",
    "cd numpy-1.12.1rc1/\n",
    "pip install .\n",
    "```\n",
    "\n",
    "Easier alternative (recent ``pip`` required):\n",
    "\n",
    "```shell\n",
    "pip install --no-binary :all: numpy\n",
    "```"
   ]
  },
  {
   "cell_type": "markdown",
   "metadata": {
    "slideshow": {
     "slide_type": "slide"
    }
   },
   "source": [
    "## Installing from sources (2)\n",
    "\n",
    "``pip`` also supports installing from a git repository (as well as Mercurial, Bazaar and SVN).\n",
    "\n",
    "Example: install an old version (0.8) of ``silx``:\n",
    "\n",
    "```shell\n",
    "pip install git+https://github.com/silx-kit/silx@0.8\n",
    "```"
   ]
  },
  {
   "cell_type": "markdown",
   "metadata": {
    "slideshow": {
     "slide_type": "slide"
    }
   },
   "source": [
    "## Installing silx\n",
    "\n",
    "### Distribution\n",
    "\n",
    "```shell\n",
    "pip install silx\n",
    "```\n",
    "\n",
    "### From sources\n",
    "\n",
    "```shell\n",
    "cd /path/to/silx\n",
    "pip install .\n",
    "```\n",
    "\n",
    "### Test it\n",
    "\n",
    "```python\n",
    ">>> import silx\n",
    ">>> print(silx.version)\n",
    "0.5.0-dev0\n",
    "```\n",
    "\n",
    "```python\n",
    ">>> import silx.test\n",
    ">>> silx.test.run_tests()\n",
    "```"
   ]
  },
  {
   "cell_type": "markdown",
   "metadata": {
    "slideshow": {
     "slide_type": "slide"
    }
   },
   "source": [
    "## Symbolic link to library (linux)\n",
    "\n",
    "\n",
    "**This is a hack!**\n",
    "\n",
    "If no wheel is available for your environment, and compiling from scratch is too complicated, it can be simpler to\n",
    "just add symbolic links in the virtual environment, pointing to the libraries already installed on the system\n",
    "**and to their dependencies**.\n",
    "\n",
    "Example for *PyQt4* (depends on *sip*):\n",
    "\n",
    "### Python 2.7\n",
    "\n",
    "\n",
    "```shell\n",
    "ln -s /usr/lib/python2.7/dist-packages/PyQt4 \\\n",
    "    myvenv/lib/python2.7/site-packages/\n",
    "ln -s /usr/lib/python2.7/dist-packages/sip.so \\\n",
    "    myvenv/lib/python2.7/site-packages/\n",
    "```\n",
    "\n",
    "### Python 3.4\n",
    "\n",
    "```shell\n",
    "ln -s /usr/lib/python3/dist-packages/PyQt4 \\\n",
    "    myvenv/lib/python3.4/site-packages/\n",
    "ln -s /usr/lib/python3/dist-packages/sip.cpython-34m-x86_64-linux-gnu.so \\\n",
    "    myvenv/lib/python3.4/site-packages/\n",
    "```"
   ]
  },
  {
   "cell_type": "markdown",
   "metadata": {
    "slideshow": {
     "slide_type": "slide"
    }
   },
   "source": [
    "## Managing multiple environments\n",
    "------------------------------\n",
    "\n",
    "[Python Env Wrapper (pew)](https://pypi.python.org/pypi/pew)  is a tool for managing\n",
    "multiple virtual environments.\n",
    "\n",
    "```shell\n",
    "$ pew new venv3\n",
    "$ pew ls\n",
    "venv1 venv2 venv3\n",
    "$ pew workon venv1\n",
    "Launching subshell in virtual environment. Type 'exit'\n",
    "or 'Ctrl+D' to return.\n",
    "$ which python\n",
    "/home/arthur/.virtualenvs/venv1/bin/python\n",
    "```\n",
    "\n",
    "Run a program that depends on a particular environment:\n",
    "\n",
    "```shell\n",
    "$ pew in venv2 myscript.py\n",
    "```\n",
    "\n",
    "More than 20 commands available:\n",
    "\n",
    "*help, inall, show, rm, cp, rename, mktmpenv, lssitepackages, restore, wipeenv, mkproject* ...\n",
    "\n",
    "[pipenv](https://github.com/pypa/pipenv) aims at combining the features of pip, virtualenv and pew. It also brings deterministic builds through a declarative configuration."
   ]
  },
  {
   "cell_type": "markdown",
   "metadata": {
    "slideshow": {
     "slide_type": "slide"
    }
   },
   "source": [
    "## Alternatives: Anaconda\n",
    "\n",
    "[Anaconda](https://www.continuum.io/downloads)\n",
    "\n",
    "Includes over 100 of the most popular Python, R and Scala packages for data science.\n",
    "\n",
    "Uses its own package manager (``conda install``), but can use ``pip`` as well for packages\n",
    "not managed by conda.\n",
    "\n",
    "Separating different environments: ``conda create -n myenv python``\n",
    "\n",
    "License issue: Anaconda is installed with [mkl](https://software.intel.com/en-us/intel-mkl),\n",
    "which cannot be included if you want to package your application as a fat binary.\n",
    "\n",
    "```shell\n",
    "conda install nomkl numpy scipy scikit-learn numexpr\n",
    "conda remove mkl mkl-service\n",
    "```\n",
    "\n",
    "[Miniconda](https://conda.io/miniconda.html)\n",
    "\n",
    "Smaller version of Anaconda with Python, conda and essential packages (numpy)"
   ]
  },
  {
   "cell_type": "markdown",
   "metadata": {
    "slideshow": {
     "slide_type": "slide"
    }
   },
   "source": [
    "## Alternatives: WinPython\n",
    "\n",
    "[WinPython](http://winpython.github.io/)\n",
    "\n",
    "Python distribution for scientific and educational usage\n",
    "\n",
    "Only for Windows 7/8/10\n",
    "\n",
    "Install as many isolated and self-consistent environments as needed."
   ]
  },
  {
   "cell_type": "code",
   "execution_count": null,
   "metadata": {},
   "outputs": [],
   "source": []
  }
 ],
 "metadata": {
  "celltoolbar": "Slideshow",
  "kernelspec": {
   "display_name": "Python 3",
   "language": "python",
   "name": "python3"
  },
  "language_info": {
   "codemirror_mode": {
    "name": "ipython",
    "version": 3
   },
   "file_extension": ".py",
   "mimetype": "text/x-python",
   "name": "python",
   "nbconvert_exporter": "python",
   "pygments_lexer": "ipython3",
   "version": "3.7.3"
  },
  "toc": {
   "base_numbering": 1,
   "nav_menu": {},
   "number_sections": true,
   "sideBar": true,
   "skip_h1_title": true,
   "title_cell": "Table of Contents",
   "title_sidebar": "Contents",
   "toc_cell": false,
   "toc_position": {},
   "toc_section_display": true,
   "toc_window_display": false
  }
 },
 "nbformat": 4,
 "nbformat_minor": 2
}
