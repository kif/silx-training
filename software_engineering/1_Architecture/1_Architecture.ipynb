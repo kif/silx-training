{
 "cells": [
  {
   "cell_type": "markdown",
   "id": "9a50a89e",
   "metadata": {
    "slideshow": {
     "slide_type": "slide"
    }
   },
   "source": [
    "# 1. Structure your project\n",
    "\n",
    "* 1.1. Make sure you are up to date\n",
    "* 1.2. Structure your code\n",
    "* 1.3. A word about licenses\n",
    "* 1.4. Coding convention\n",
    "* 1.5. Useful tools\n",
    "* 1.6. Python project Layout"
   ]
  },
  {
   "cell_type": "markdown",
   "id": "bbadd281",
   "metadata": {
    "slideshow": {
     "slide_type": "slide"
    }
   },
   "source": [
    "## 1.1 Make sure you are up to date\n",
    "\n",
    "![python logo](https://www.python.org/static/community_logos/python-logo.png)\n",
    "\n",
    "* You should have already forgotten about Python 2 ... for a while\n",
    "  Since 2020, the Python 2 support has ended.\n",
    "* All your projects **must** use **Python 3. >= 3.8** (3.7 support ended 05 Jun 2023)"
   ]
  },
  {
   "cell_type": "markdown",
   "id": "bb6b000c",
   "metadata": {
    "slideshow": {
     "slide_type": "slide"
    }
   },
   "source": [
    "## 1.2 Structure your code\n",
    "\n",
    "![pyramid](https://upload.wikimedia.org/wikipedia/commons/7/7b/USShipbuilding1943.gif)"
   ]
  },
  {
   "cell_type": "markdown",
   "id": "4da2ae4c",
   "metadata": {
    "slideshow": {
     "slide_type": "subslide"
    }
   },
   "source": [
    "- Separate library from scripts\n",
    "    * libraries are meant to be imported by others (libraries or scripts)\n",
    "    * scripts are 'final programs'\n",
    "\n",
    "- Separate test from 'production code'\n",
    "    * simplify understanding of source code\n",
    "    * allow to skip test distribution\n",
    "    * ...\n",
    "\n",
    "- Separate user interface and 'core processing' / calculation\n",
    "  *  Allows changing the front-end.\n",
    "  *  Allows access to core function without loading GUI.\n",
    "  *  Eases collaboration.\n",
    "\n",
    "- Separate I/O from calculation\n",
    "\n",
    "- **Avoid code duplication as much as possible !!!.**"
   ]
  },
  {
   "cell_type": "markdown",
   "id": "1162524b",
   "metadata": {
    "slideshow": {
     "slide_type": "slide"
    }
   },
   "source": [
    "## 1.3 A word about licenses\n",
    "\n",
    "![licensing](images/licensing.png)\n",
    "\n",
    "<a href=\"https://www.flaticon.com/free-icons/license\" title=\"license icons\">License icons created by monkik - Flaticon</a>"
   ]
  },
  {
   "cell_type": "markdown",
   "id": "f555ad7b",
   "metadata": {
    "slideshow": {
     "slide_type": "subslide"
    }
   },
   "source": [
    "According to the French law, one should distinguish authorship from ownership:\n",
    "\n",
    " - Authorship, you (author of a given code), is inalienable. Author work becomes public domain 50 years after\n",
    "   your death.\n",
    " - ESRF, your employer, owns the code you may have written during your contract\n",
    "   (unless you can *prove* this development does not correlate with your work)\n",
    "\n",
    "Licenses define how a piece of software can be used (and sometimes what for).\n",
    "None of them claims any liability to the author.\n",
    "\n",
    "If there is no license on your code, it can neither be distributed nor reused!\n",
    "\n",
    "[Guidelines for open science](https://www.ouvrirlascience.fr/open-science/)"
   ]
  },
  {
   "cell_type": "markdown",
   "id": "3ccdd880",
   "metadata": {
    "slideshow": {
     "slide_type": "subslide"
    }
   },
   "source": [
    "### One can define two categories of licenses:\n",
    "\n",
    "- Proprietary licenses\n",
    "\n",
    "  * Commercial licenses: one needs to purchase a license to use the code.\n",
    "  * Academic licenses: free for academic research only.\n",
    "\n",
    "- Open source licenses:\n",
    "\n",
    "  * GPL like enforces the distribution of source code.\n",
    "  * LGPL like enforces the publication of modified code.\n",
    "  * MIT/BSD which provides the name of the author for information (for scientific citation).\n",
    "\n",
    "The Python scientific stack has a BSD-like license.\n",
    "\n",
    "Defining licenses for your developments is important as the beamline can not\n",
    "build code on top of unlicensed or proprietary work without an explicit license\n",
    "agreement."
   ]
  },
  {
   "cell_type": "markdown",
   "id": "c8a081fc",
   "metadata": {
    "slideshow": {
     "slide_type": "skip"
    }
   },
   "source": [
    "### Code under MIT/BSD/Apache licenses can be integrated under proprietery licences, redistributed...\n",
    "\n",
    "* Why MIT instead of GPL or LGPL?\n",
    "    - GPL enforces publication of source code.\n",
    "    - LGPL enforces publication of any modification of the original work.\n",
    "* Why MIT instead of BSD?\n",
    "    - Different BSD versions, complexify a bit.\n",
    "* Why MIT instead of Apache 2.0?\n",
    "    - MIT is shorter and simpler.\n",
    "\n",
    "[More open source license comparaison](https://en.wikipedia.org/wiki/Comparison_of_free_and_open-source_software_licenses)"
   ]
  },
  {
   "cell_type": "markdown",
   "id": "0019bb6d",
   "metadata": {
    "slideshow": {
     "slide_type": "slide"
    }
   },
   "source": [
    "## 1.4 Coding convention\n",
    "\n",
    "This is a set of guidelines for a specific programming language that recommends: programming style, good practices, and methods for each aspect of a program written in that language.\n",
    "\n",
    "The idea is to help developers avoiding 'common mistakes', ease source code understanding and **reduce the cost** of software maintenance.\n",
    "\n",
    "For python a set of those 'implicite rules' can be found in PEPs (Python Enhancement Proposal)"
   ]
  },
  {
   "cell_type": "markdown",
   "id": "ed71ab12",
   "metadata": {
    "slideshow": {
     "slide_type": "subslide"
    }
   },
   "source": [
    "### [PEP 8](https://www.python.org/dev/peps/pep-0008/) Style Guide for Python Code\n",
    "\n",
    "- Wrap lines at 79 char.\n",
    "- Indent with **4 spaces**.\n",
    "- Put spaces around arguments (except in function declaration).\n",
    "- English docstrings and triple quoted.\n",
    "- One single import per line.\n",
    "- Variable, method, modules name should be **lower_case** (with underscore, only if needed).\n",
    "- Constant should be **UPPER_CASE** (with underscores).\n",
    "- Class names should be **CamelCased**.\n",
    "- Single letter variable should be limited to loop indexes.\n",
    "- One single statement per line\n",
    "- Two empty lines between top-level objects, only one later.\n",
    "\n",
    "### [PEP 7](https://www.python.org/dev/peps/pep-0007/) Style Guide for C Code"
   ]
  },
  {
   "cell_type": "markdown",
   "id": "62a2c432",
   "metadata": {
    "slideshow": {
     "slide_type": "subslide"
    }
   },
   "source": [
    "### Zen of Python: [PEP 20](https://www.python.org/dev/peps/pep-0020)"
   ]
  },
  {
   "cell_type": "code",
   "execution_count": 1,
   "id": "5fd3c0b1",
   "metadata": {
    "slideshow": {
     "slide_type": "fragment"
    }
   },
   "outputs": [
    {
     "name": "stdout",
     "output_type": "stream",
     "text": [
      "The Zen of Python, by Tim Peters\n",
      "\n",
      "Beautiful is better than ugly.\n",
      "Explicit is better than implicit.\n",
      "Simple is better than complex.\n",
      "Complex is better than complicated.\n",
      "Flat is better than nested.\n",
      "Sparse is better than dense.\n",
      "Readability counts.\n",
      "Special cases aren't special enough to break the rules.\n",
      "Although practicality beats purity.\n",
      "Errors should never pass silently.\n",
      "Unless explicitly silenced.\n",
      "In the face of ambiguity, refuse the temptation to guess.\n",
      "There should be one-- and preferably only one --obvious way to do it.\n",
      "Although that way may not be obvious at first unless you're Dutch.\n",
      "Now is better than never.\n",
      "Although never is often better than *right* now.\n",
      "If the implementation is hard to explain, it's a bad idea.\n",
      "If the implementation is easy to explain, it may be a good idea.\n",
      "Namespaces are one honking great idea -- let's do more of those!\n"
     ]
    }
   ],
   "source": [
    "import this"
   ]
  },
  {
   "cell_type": "markdown",
   "id": "ce63dcd8",
   "metadata": {
    "slideshow": {
     "slide_type": "slide"
    }
   },
   "source": [
    "## 1.5 Tools\n",
    "\n",
    "`Give us the tools, and we will finish the job`\n",
    "\n",
    "*Winston Churchill*\n",
    "\n",
    "* Use an IDE (Integrated Development Environment) like:\n",
    "  - [visual studio code](https://code.visualstudio.com/): Probably the best since a few year\n",
    "      * [tutorial to access the python debugger](https://www.youtube.com/watch?v=oCcTiRGPogQ)\n",
    "  - [PyCharm](https://www.jetbrains.com/pycharm/): An excellent IDE for Python.\n",
    "  - [PyDev](http://www.pydev.org/): Eclipse plugin.\n",
    "  - [Sublimtext](https://www.sublimetext.com/): light text editor\n",
    "\n",
    "* Other tools to improve your code:\n",
    "  - [black](https://black.readthedocs.io/en/stable/): The uncompromising Python code formatter.\n",
    "  - [pylint](https://www.pylint.org/): Validate Python code, syntax, and variable names.\n",
    "  - [flake8](https://pypi.python.org/pypi/flake8): Validate the code style for PEP 8.\n",
    "  - [autopep8](https://pypi.python.org/pypi/autopep8): Rewrites your code to conform with PEP 8.\n",
    "  - [modernize](https://pypi.python.org/pypi/modernize): rewrites Python 2 to Python 3.\n",
    "  - [cProfile](https://docs.python.org/3/library/profile.html#module-cProfile) & [SnakeViz](https://jiffyclub.github.io/snakeviz/): Profile your code"
   ]
  },
  {
   "cell_type": "markdown",
   "id": "6187e503",
   "metadata": {
    "slideshow": {
     "slide_type": "slide"
    }
   },
   "source": [
    "## 1.6 Python project layout\n",
    "\n",
    "\n",
    "* \"flat layout\"\n",
    "\n",
    "```\n",
    "myproject\n",
    "├── README.md\n",
    "├── LICENSE\n",
    "├── pyproject.toml\n",
    "├── setup.cfg\n",
    "├── setup.py\n",
    "├── awesome_package/\n",
    "│   ├── __init__.py\n",
    "│   └── module.py\n",
    "└── tools/\n",
    "    ├── generate_awesomeness.py\n",
    "    └── decrease_world_suck.py\n",
    "```\n",
    "\n",
    "* \"src layout\"\n",
    "\n",
    "```\n",
    ".\n",
    "├── README.md\n",
    "├── LICENSE\n",
    "├── pyproject.toml\n",
    "├── setup.cfg\n",
    "├── setup.py\n",
    "├── src/\n",
    "│    └── awesome_package/\n",
    "│       ├── __init__.py\n",
    "│       └── module.py\n",
    "└── tools/\n",
    "    ├── generate_awesomeness.py\n",
    "    └── decrease_world_suck.py\n",
    "```\n",
    "\n",
    "[src-layout vs flat layout](https://packaging.python.org/en/latest/discussions/src-layout-vs-flat-layout/)"
   ]
  },
  {
   "cell_type": "code",
   "execution_count": null,
   "id": "9e590c25",
   "metadata": {},
   "outputs": [],
   "source": []
  }
 ],
 "metadata": {
  "celltoolbar": "Diaporama",
  "kernelspec": {
   "display_name": "Python 3 (ipykernel)",
   "language": "python",
   "name": "python3"
  },
  "language_info": {
   "codemirror_mode": {
    "name": "ipython",
    "version": 3
   },
   "file_extension": ".py",
   "mimetype": "text/x-python",
   "name": "python",
   "nbconvert_exporter": "python",
   "pygments_lexer": "ipython3",
   "version": "3.8.10"
  },
  "varInspector": {
   "cols": {
    "lenName": 16,
    "lenType": 16,
    "lenVar": 40
   },
   "kernels_config": {
    "python": {
     "delete_cmd_postfix": "",
     "delete_cmd_prefix": "del ",
     "library": "var_list.py",
     "varRefreshCmd": "print(var_dic_list())"
    },
    "r": {
     "delete_cmd_postfix": ") ",
     "delete_cmd_prefix": "rm(",
     "library": "var_list.r",
     "varRefreshCmd": "cat(var_dic_list()) "
    }
   },
   "types_to_exclude": [
    "module",
    "function",
    "builtin_function_or_method",
    "instance",
    "_Feature"
   ],
   "window_display": false
  }
 },
 "nbformat": 4,
 "nbformat_minor": 5
}
