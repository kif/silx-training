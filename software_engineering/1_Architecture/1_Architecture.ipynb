{
 "cells": [
  {
   "cell_type": "markdown",
   "id": "9a50a89e",
   "metadata": {
    "slideshow": {
     "slide_type": "slide"
    }
   },
   "source": [
    "# 1. Structure your project\n",
    "\n",
    "Layout:\n",
    "\n",
    "* 1.1. Have a clean structure\n",
    "* 1.2. Get ready for the future\n",
    "* 1.3. A word about licenses\n",
    "* 1.4. Coding convention: PEP8, ...\n",
    "* 1.5. Useful tools \n",
    "* 1.6. Structure of a minimalistic project"
   ]
  },
  {
   "cell_type": "markdown",
   "id": "bb6b000c",
   "metadata": {
    "slideshow": {
     "slide_type": "slide"
    }
   },
   "source": [
    "## 1.1 Have a clean structure\n",
    "\n",
    "- Separate library from scripts:\n",
    "  * libraries are reusable, scripts not !\n",
    "\n",
    "- Separate user interface from calculation:\n",
    "  *  otherwise maintenance becomes a nightmare\n",
    "  *  allows to change the front-end\n",
    "  *  allows to access to core function without the GUI\n",
    "  *  simplifies testing\n",
    "  *  eases collaboration\n",
    "\n",
    "- Separate I/O from calculation\n",
    "  * interleaving I/O & calculation is optimization, should occur only at the very end of a project with clean structures.\n",
    "\n",
    "- Avoid code duplication\n"
   ]
  },
  {
   "cell_type": "markdown",
   "id": "a6cfd4d7",
   "metadata": {
    "slideshow": {
     "slide_type": "fragment"
    }
   },
   "source": [
    "Will also help you to :\n",
    "\n",
    "- find back your code\n",
    "- avoid code duplication\n"
   ]
  },
  {
   "cell_type": "markdown",
   "id": "bbadd281",
   "metadata": {
    "slideshow": {
     "slide_type": "subslide"
    }
   },
   "source": [
    "## 1.2 Get ready for the future\n",
    "\n",
    "### Python 2's end of life\n",
    "\n",
    "Since 2020, the support of Python2 has ended.\n",
    "All your projects **must** be Python3 based, Python2 has become deprecated."
   ]
  },
  {
   "cell_type": "markdown",
   "id": "a33cdca4",
   "metadata": {
    "slideshow": {
     "slide_type": "fragment"
    }
   },
   "source": [
    "### Nice features of Python 3:\n",
    "\n",
    "* prevents you from mixing tab and space indentation in your code.\n",
    "* enforces you to decode early your data to avoid mixing *bytes* and *unicode*\n",
    "* the [six library](https://pypi.python.org/pypi/six) eases the migration"
   ]
  },
  {
   "cell_type": "markdown",
   "id": "f555ad7b",
   "metadata": {
    "slideshow": {
     "slide_type": "slide"
    }
   },
   "source": [
    "## 1.3 Define a license for your work\n",
    "\n",
    "According to the French law, one should distinguish authorship from ownership:\n",
    "\n",
    " - Authorship is inalienable: your work becomes public domain 50 years after\n",
    "   your death.\n",
    " - ESRF, your employer, owns the code you may have written during your contract\n",
    "   (unless you can *prove* this development has no correlation with your work)\n",
    "\n",
    "Licenses define how a piece of software can be used (and sometimes what for).\n",
    "None of them claim any liability of the author.\n",
    "\n",
    "If there is not license on your code he can neither be distributed nor reused !\n"
   ]
  },
  {
   "cell_type": "markdown",
   "id": "3ccdd880",
   "metadata": {
    "slideshow": {
     "slide_type": "subslide"
    }
   },
   "source": [
    "### One can define 2 categories of licenses:\n",
    "\n",
    "- Proprietary licenses\n",
    "\n",
    "  * Commercial licenses: one needs to purchase a license to use the code\n",
    "  * Academic licenses: free for academic research only\n",
    "\n",
    "- Open source licenses:\n",
    "\n",
    "  * GPL like enforces the distribution of source code\n",
    "  * LGPL like enforces the publication of modified code\n",
    "  * MIT/BSD which provides the name of the author for information\n",
    "    (for scientific citation)\n",
    "\n",
    "The Python scientific stack has a BSD-like licenses.\n",
    "\n",
    "Defining licenses for your developments is important as the beamline can not\n",
    "build code on top of unlicensed or proprietary work without explicit license\n",
    "agreement."
   ]
  },
  {
   "cell_type": "markdown",
   "id": "c8a081fc",
   "metadata": {
    "slideshow": {
     "slide_type": "subslide"
    }
   },
   "source": [
    "### Code under MIT/BSD/Apache licenses can be integrated under proprieteray licences, redistributed...\n",
    "\n",
    "* Why MIT instead of GPL or LGPL?\n",
    "    - GPL enforces publication of source code\n",
    "    - LGPL enforces publication of any modification of the original work\n",
    "* Why MIT instead of BSD ?\n",
    "    - Different version of BSD, complexify a bit\n",
    "* Why MIT instead of Apache 2.0 ?\n",
    "    - MIT is shorter and simpler"
   ]
  },
  {
   "cell_type": "markdown",
   "id": "0019bb6d",
   "metadata": {
    "slideshow": {
     "slide_type": "slide"
    }
   },
   "source": [
    "## 1.4 Coding convention\n",
    "\n",
    "Set of guidelines for a specific programming language that recommend: programming style, practices, and methods for each aspect of a program written in that language. It contains:\n",
    "\n",
    "* file organization, \n",
    "* indentation, \n",
    "* comments, \n",
    "* declarations, \n",
    "* statements, \n",
    "* white space, \n",
    "* naming conventions, \n",
    "* programming practices, \n",
    "* programming principles, \n",
    "* programming rules of thumb, \n",
    "* architectural best practices, \n",
    "\n",
    "Why using such contrains ? Because it **reduce cost** of software maintenance. Things can be automated with `black`.\n",
    "\n"
   ]
  },
  {
   "cell_type": "markdown",
   "id": "ed71ab12",
   "metadata": {},
   "source": [
    "### [PEP8](https://www.python.org/dev/peps/pep-0008/) Style Guide for Python Code\n",
    "\n",
    "- Wrap lines at 79 char.\n",
    "- Indent with **4 spaces**.\n",
    "- Put spaces around arguments (except in function declaration).\n",
    "- English docstrings and triple quoted.\n",
    "- One single import per line.\n",
    "- Variable, method, modules name should be **lower_case** (with underscore, only if needed).\n",
    "- Constant should be **UPPER_CASE** (with underscores).\n",
    "- Class names should be **CamelCased**.\n",
    "- Single letter variable should be limited to loop indexes.\n",
    "- One single statement per line\n",
    "- Two empty lines between top-level objects, only one later.\n",
    "\n",
    "### [PEP 7](https://www.python.org/dev/peps/pep-0007/) Style Guide for C Code\n"
   ]
  },
  {
   "cell_type": "markdown",
   "id": "ab44bd3f",
   "metadata": {
    "slideshow": {
     "slide_type": "notes"
    }
   },
   "source": [
    "definition of PEP : python enhancement proposal\n",
    "\n",
    "Why PEP ?\n",
    "\n",
    "- insures code homogeneity\n",
    "- insures readability\n",
    "- insures maintenance / avoid some classical errors"
   ]
  },
  {
   "cell_type": "markdown",
   "id": "62a2c432",
   "metadata": {
    "slideshow": {
     "slide_type": "subslide"
    }
   },
   "source": [
    "### Zen of Python: [PEP20](https://www.python.org/dev/peps/pep-0020/)"
   ]
  },
  {
   "cell_type": "code",
   "execution_count": 1,
   "id": "5fd3c0b1",
   "metadata": {
    "slideshow": {
     "slide_type": "fragment"
    }
   },
   "outputs": [
    {
     "name": "stdout",
     "output_type": "stream",
     "text": [
      "The Zen of Python, by Tim Peters\n",
      "\n",
      "Beautiful is better than ugly.\n",
      "Explicit is better than implicit.\n",
      "Simple is better than complex.\n",
      "Complex is better than complicated.\n",
      "Flat is better than nested.\n",
      "Sparse is better than dense.\n",
      "Readability counts.\n",
      "Special cases aren't special enough to break the rules.\n",
      "Although practicality beats purity.\n",
      "Errors should never pass silently.\n",
      "Unless explicitly silenced.\n",
      "In the face of ambiguity, refuse the temptation to guess.\n",
      "There should be one-- and preferably only one --obvious way to do it.\n",
      "Although that way may not be obvious at first unless you're Dutch.\n",
      "Now is better than never.\n",
      "Although never is often better than *right* now.\n",
      "If the implementation is hard to explain, it's a bad idea.\n",
      "If the implementation is easy to explain, it may be a good idea.\n",
      "Namespaces are one honking great idea -- let's do more of those!\n"
     ]
    }
   ],
   "source": [
    "import this"
   ]
  },
  {
   "cell_type": "markdown",
   "id": "ce63dcd8",
   "metadata": {
    "slideshow": {
     "slide_type": "slide"
    }
   },
   "source": [
    "## 1.5 Tools\n",
    "\n",
    "* Use an Integrated Development Environments (IDE) like:\n",
    "\n",
    "  - [pycharm](https://www.jetbrains.com/pycharm/) Probably the best IDE for Python\n",
    "  - [pydev](http://www.pydev.org/) Eclipse plugin\n",
    "  - [VS code](https://code.visualstudio.com/) Microsoft's editor\n",
    "  - [sublimtext](https://www.sublimetext.com/)\n",
    "\n",
    "* Other tools to improve your code:\n",
    "  - [black](https://black.readthedocs.io/en/stable/): Aggressively rewrites your code in PEP8!\n",
    "  - [autopep8](https://pypi.python.org/pypi/autopep8): rewrites your code in PEP8 (softer)\n",
    "  - [flake8](https://pypi.python.org/pypi/flake8): Validate the code style for PEP8\n",
    "  - [pylint](https://www.pylint.org/): Validate Python code, syntax, variable names\n",
    "  - [modernize](https://pypi.python.org/pypi/modernize): rewrites Python2 in Python3\n",
    " "
   ]
  },
  {
   "cell_type": "markdown",
   "id": "6187e503",
   "metadata": {
    "slideshow": {
     "slide_type": "slide"
    }
   },
   "source": [
    "## 1.6 Scafold of a minimalistic Python project\n",
    "\n",
    "\n",
    "```\n",
    "pet_project/\n",
    "       pet/\n",
    "           __init__.py\n",
    "           cat.py\n",
    "           dog.py\n",
    "           \n",
    "       LICENSE.txt\n",
    "       README.txt\n",
    "       [pyproject.toml]\n",
    "       [requirements.txt]\n",
    "       setup.py\n",
    "```\n"
   ]
  },
  {
   "cell_type": "markdown",
   "id": "440fa5fa",
   "metadata": {
    "slideshow": {
     "slide_type": "subslide"
    }
   },
   "source": [
    "### Exercise:\n",
    "\n",
    "* Create the stucture of the pet-project with all needed files. \n",
    "* Populate the top level files with needed metadata."
   ]
  },
  {
   "cell_type": "markdown",
   "id": "e7dbafe5",
   "metadata": {
    "slideshow": {
     "slide_type": "slide"
    }
   },
   "source": [
    "### Conclusion\n",
    "\n",
    "Now that we have out *pet* project, we will learn how to manage the source code with our new best friend: `git`"
   ]
  }
 ],
 "metadata": {
  "celltoolbar": "Slideshow",
  "kernelspec": {
   "display_name": "Python 3.9 (local venv)",
   "language": "python",
   "name": "py39-venv"
  },
  "language_info": {
   "codemirror_mode": {
    "name": "ipython",
    "version": 3
   },
   "file_extension": ".py",
   "mimetype": "text/x-python",
   "name": "python",
   "nbconvert_exporter": "python",
   "pygments_lexer": "ipython3",
   "version": "3.9.2"
  }
 },
 "nbformat": 4,
 "nbformat_minor": 5
}
