{
 "cells": [
  {
   "cell_type": "markdown",
   "id": "civilian-delhi",
   "metadata": {
    "slideshow": {
     "slide_type": "slide"
    }
   },
   "source": [
    "# git"
   ]
  },
  {
   "cell_type": "markdown",
   "id": "light-custody",
   "metadata": {
    "slideshow": {
     "slide_type": "fragment"
    }
   },
   "source": [
    "git is a version control system.\n",
    "\n",
    "version control system are used to avoid this:\n",
    "    \n",
    "![phdcomics](images/phd101212s.png)\n",
    "\n",
    "image from: http://phdcomics.com/comics/archive_print.php?comicid=1531\n",
    "\n",
    "It should preserve you from losing modifications and keep track of modifications / history"
   ]
  },
  {
   "cell_type": "markdown",
   "id": "front-might",
   "metadata": {
    "slideshow": {
     "slide_type": "slide"
    }
   },
   "source": [
    "## History\n",
    "\n",
    "git has been created in 2005 by Linus Torvalds.\n",
    "\n",
    "He described the tool as \"the stupid content tracker\" and the name as (depending on your way):\n",
    "\n",
    "* US, regional, argot (get)\n",
    "* random three-letter combination that is pronounceable, and not actually used by any common UNIX command.\n",
    "* \"global information tracker\": you're in a good mood, and it actually works for you. Angels sing, and a light suddenly fills the room.\n",
    "* \"goddamn idiotic truckload of sh*t\": when it breaks\n",
    "    "
   ]
  },
  {
   "cell_type": "markdown",
   "id": "union-router",
   "metadata": {
    "slideshow": {
     "slide_type": "slide"
    }
   },
   "source": [
    "## status\n",
    "\n",
    "Git is the current (2021) standard, it has replaced SVN, CVS, ...\n",
    "\n",
    "If you have heard of any of them, the concepts in Git are similar while offering a lot of flexibility.\n",
    "\n",
    "wikipedia definition:\n",
    "\n",
    " `Git is a distributed version-control system for tracking changes in source code during software development. It is designed for coordinating work among programmers, but it can be used to track changes in any set of files. Its goals include speed data integrity, and support for distributed, non-linear workflows`\n"
   ]
  },
  {
   "cell_type": "markdown",
   "id": "special-rental",
   "metadata": {
    "slideshow": {
     "slide_type": "notes"
    }
   },
   "source": [
    "Mercurial is the main concurrent of git with a close design.\n",
    "Mercurial seems simpler but a little less powerful (API). Git seems to have less 'corner cases'.\n",
    "Previous 'leaders' (before git and mercurial arrival):\n",
    "CVS: concurrent version system\n",
    "SVN: Apache Subversion"
   ]
  },
  {
   "cell_type": "markdown",
   "id": "postal-greenhouse",
   "metadata": {
    "slideshow": {
     "slide_type": "slide"
    }
   },
   "source": [
    "## Github vs gitlab\n",
    "\n",
    "**github.com** and **gitlab.esrf.fr** provides git-hosting for project and\n",
    "encourage collaboration using forks of projects.\n",
    "\n",
    "The main advantages are:\n",
    "\n",
    "* simplify contribution.\n",
    "* many tutorials for [github](https://guides.github.com/) and [gitlab](https://docs.gitlab.com/ee/gitlab-basics/).\n",
    "* web page hosting for projects.\n",
    "* over the years a cluster of services have pop up to help developers like gitlab-ci, github actions or [AppVeyor](https://github.com/marketplace/appveyor).\n",
    "* [offer a fixed pipeline based on *Pull request*](https://help.github.com/articles/using-pull-requests/).\n",
    "* lead to some 'standardization' of projects.\n"
   ]
  },
  {
   "cell_type": "markdown",
   "id": "veterinary-inquiry",
   "metadata": {
    "slideshow": {
     "slide_type": "subslide"
    }
   },
   "source": [
    "* activities on github are monitored by head-hunters and can be useful for professional placement.\n",
    "* github and gitlab offers very close features. Github has [marketplace](https://github.com/marketplace) full of services that can be integrated. gitlab tries to embed the more useful one.\n",
    "    * one of the latest features of github: [`github copilot`](https://copilot.github.com/)\n",
    "* gitlab allows you to select a privacy level for your projects. Public projects can be seen from outside: https://gitlab.esrf.fr/public not private projects.\n",
    "\n",
    "![gitlab privacy](images/gitlab_privacy.png)\n",
    "\n",
    "* github is free for open-source projects. Extra tools (CI) are usually charged with time. You can get some for free for open source projects not supported by a company.\n",
    "* github has been acquired by Microsoft in 2018 for 7.5 billion dollars !!!\n"
   ]
  },
  {
   "cell_type": "markdown",
   "id": "postal-politics",
   "metadata": {
    "slideshow": {
     "slide_type": "notes"
    }
   },
   "source": [
    "* github intends to open itself to services, gitlab intends to embed them. The usage is the same but the philosophy is different.\n",
    "* The amount of the purchase by Microsoft shows the importance of github on the daily life of today's developers.\n",
    "  As a consequence thousands of projects has move from github to gitlab. (50000 after a week)\n",
    "* gitlab is free and open source. But has big companies behind (nas, bayer, siemens...)"
   ]
  },
  {
   "cell_type": "markdown",
   "id": "requested-tours",
   "metadata": {
    "slideshow": {
     "slide_type": "slide"
    }
   },
   "source": [
    "## Different types of workflow\n",
    "\n",
    "Main workflow: [**forking workflow**](https://www.atlassian.com/git/tutorials/comparing-workflows/forking-workflow)\n",
    "\n",
    "git permits several workflows: e.g., [centralized](https://www.atlassian.com/git/tutorials/comparing-workflows#centralized-workflow), [feature branch](https://www.atlassian.com/git/tutorials/comparing-workflows/feature-branch-workflow), [gitflow](https://www.atlassian.com/git/tutorials/comparing-workflows/gitflow-workflow)\n"
   ]
  },
  {
   "cell_type": "markdown",
   "id": "sustained-beatles",
   "metadata": {
    "slideshow": {
     "slide_type": "notes"
    }
   },
   "source": [
    "* centralized : a single point of entry 'central repository'. Let each users deal with synchronization\n",
    "* feature branch workflow: each new feature should take place in a dedicated branch\n",
    "* gitflow : strict management of branches designed for releases. One branch per:\n",
    "    - releases\n",
    "    - each feature\n",
    "    - fix\n",
    "* those can be applied for 'cloning' or 'forking' workflow"
   ]
  },
  {
   "cell_type": "markdown",
   "id": "center-occurrence",
   "metadata": {
    "slideshow": {
     "slide_type": "subslide"
    }
   },
   "source": [
    "### forking workflow\n",
    "\n",
    "\n",
    "This is not the goal today to see the advantages of the different type of workflows.\n",
    "But for the hands-on session today we will focus in the 'forking workflow'.\n",
    "\n",
    "![forking flow](images/github-workflow.png)"
   ]
  },
  {
   "cell_type": "markdown",
   "id": "thermal-choice",
   "metadata": {
    "slideshow": {
     "slide_type": "notes"
    }
   },
   "source": [
    "Why the 'forking flow' ? \n",
    "\n",
    "    * most commonly used.\n",
    "    * If you can understand this one, you will be able to handle other workflows.\n",
    "\n",
    "This schema is very important and we will follow it all along the training.\n",
    "The idea is that each developer can interact with others from his own fork.\n",
    "Each developer can request to merge some modifications (feature, bug fix...) with others: this is a pull request (or merge request in gitlab)\n",
    "\n",
    "* Simplify branch forking\n",
    "* Always keep upstream branch ready for deployment with features and fixes\n",
    "* Each new branch starts from the main branch (up to date)\n",
    "* Use merge requests for each new feature"
   ]
  },
  {
   "cell_type": "markdown",
   "id": "valued-quantum",
   "metadata": {
    "slideshow": {
     "slide_type": "subslide"
    }
   },
   "source": [
    "### example: create a new git project\n",
    "\n",
    "\n",
    "This example presents how to create a git project from a single source file: polynom.py\n",
    "\n",
    "note: *For those which intend to create a new git project from existing source code you can follow the same procedure.*\n",
    "\n",
    "\n",
    "To create the git project:\n",
    "\n",
    "1. login\n",
    "\n",
    "2. create a new project from github or gitlab\n",
    "\n",
    "<img src=\"images/gitlab-new.png\" alt=\"gitlab new\" high=\"800\"/>\n",
    "\n",
    "-----------\n",
    "\n",
    "<img src=\"images/github-new.png\" alt=\"github new\" width=\"800\"/>\n"
   ]
  },
  {
   "cell_type": "markdown",
   "id": "dirty-defense",
   "metadata": {
    "slideshow": {
     "slide_type": "subslide"
    }
   },
   "source": [
    "\n",
    "3. clone this project on your computer\n",
    "\n",
    "```bash\n",
    "git clone [project url]\n",
    "```\n",
    "\n",
    "<img src=\"images/gitlab-clone.png\" alt=\"gitlab clone\" width=\"800\"/>\n",
    "\n",
    "-----------\n",
    "\n",
    "<img src=\"images/github-clone.png\" alt=\"github clone\" width=\"800\"/>\n"
   ]
  },
  {
   "cell_type": "markdown",
   "id": "proper-macro",
   "metadata": {
    "slideshow": {
     "slide_type": "subslide"
    }
   },
   "source": [
    "4. add files to a commit (detail later)\n",
    "\n",
    "```bash\n",
    "    git add <file1> <file2> ... <folder1> ...\n",
    "```\n",
    "\n",
    "5. create a commit (detail later)\n",
    "\n",
    "```bash\n",
    "    git commit\n",
    "```\n",
    "\n",
    "6. push modifications (detail later)\n",
    "\n",
    "```bash\n",
    "    git push origin main\n",
    "```\n",
    "\n",
    "[Alternative using `git init` and `git remote add` commands](https://docs.gitlab.com/ee/gitlab-basics/start-using-git.html#convert-a-local-directory-into-a-repository)\n"
   ]
  },
  {
   "cell_type": "markdown",
   "id": "domestic-sally",
   "metadata": {
    "slideshow": {
     "slide_type": "subslide"
    }
   },
   "source": [
    "### Hands on: fork an existing project\n",
    "\n",
    "\n",
    "1. fork the project from the webinterface of gitlab ( work the same for github).\n",
    "\n",
    "    1.1 login to gitlab\n",
    "\n",
    "    1.2 look for the 'https://gitlab.esrf.fr/silx/pypolynom' project\n",
    "\n",
    "    1.3 fork the project and go to the homepage of the fork you just created\n",
    "\n",
    "\n",
    "-> This will provide you an url to your personal repository.\n",
    "\n",
    "| fork-gitlab                | fork-github                 |\n",
    "|----------------------------|-----------------------------|\n",
    "|![](images/gitlab-fork.png) | ![](images/github-fork.png) |\n",
    "\n",
    "\n",
    "2. clone the project:\n",
    "\n",
    "```bash\n",
    "git clone https://gitlab.esrf.fr/[my_id]/pypolynom.git\n",
    "```\n",
    "\n",
    "-> You are now ready to make some modifications and share them with others.\n"
   ]
  },
  {
   "cell_type": "markdown",
   "id": "precise-minneapolis",
   "metadata": {
    "slideshow": {
     "slide_type": "slide"
    }
   },
   "source": [
    "## branches\n",
    "\n",
    "\n",
    "* **main** (or **master**) branch is the default / 'main' branch.\n",
    "\n",
    "* The history of a branch is a collection commits (see details later).\n",
    "\n",
    "   * Eah commit has an 'ID' (SHA-1 checksum from modifications + commit message + author + date)\n",
    "\n",
    "<img src=\"images/simple_history.png\" alt=\"simple history\" width=\"300\"/>\n",
    "\n",
    "\n",
    "* Two branches can be merged together.\n",
    "\n",
    "* We will consider the case where each new feature, bug fix or improvement is developed in a dedicated branch.\n",
    "\n",
    "![](images/git_branch.png)"
   ]
  },
  {
   "cell_type": "markdown",
   "id": "liquid-louisiana",
   "metadata": {
    "slideshow": {
     "slide_type": "notes"
    }
   },
   "source": [
    "To simplify things, we will consider the main branch to be the develop branch.\n"
   ]
  },
  {
   "cell_type": "markdown",
   "id": "married-sympathy",
   "metadata": {
    "slideshow": {
     "slide_type": "subslide"
    }
   },
   "source": [
    "### Branch commands\n",
    "\n",
    "\n",
    "* *git checkout <branch>* : move to another branch.\n",
    "* *git checkout -b <branch>* : create a new branch from the current branch\n",
    "* *git merge <branch>* : merge history of <branch> into the current branch\n",
    "* *git fetch <branch>* retrieve history from another branch\n",
    "\n",
    "Note : *pull* command is grouping *fetch* and *merge*"
   ]
  },
  {
   "cell_type": "markdown",
   "id": "animated-valuation",
   "metadata": {
    "slideshow": {
     "slide_type": "notes"
    }
   },
   "source": [
    "Default parameters are usually origin/main\n",
    "\n",
    "TODO: make a small demo of how to move from one branch to an other..."
   ]
  },
  {
   "cell_type": "markdown",
   "id": "casual-westminster",
   "metadata": {
    "slideshow": {
     "slide_type": "slide"
    }
   },
   "source": [
    "## Git actions\n",
    "\n",
    "\n",
    "To make modifications locally, you will have to follow the current process:\n",
    "\n",
    "1. *git add* files to the list of tracked files\n",
    "2. *git commit* the files, locally\n",
    "3. *git push* your changes to a remote repository\n",
    "\n",
    "The cycle 1-2-3 is the normal development cycle for a local project.\n",
    "\n",
    "Any git repository contains all the history of the project, i.e all\n",
    "commits with authors, data time, changed files, and the chain of commits called *branch*\n",
    "\n",
    "\n",
    "note: *graphic tools as* [git-gui](https://git-scm.com/docs/git-gui), [GitKraken](https://www.gitkraken.com/git-client) *and* [gitk](https://git-scm.com/docs/gitk) *might help you for commits and to have a graphic representation of the tree view.*"
   ]
  },
  {
   "cell_type": "markdown",
   "id": "basic-stake",
   "metadata": {
    "slideshow": {
     "slide_type": "notes"
    }
   },
   "source": [
    "git add can be repeated. git commit will group all previous git add.\n",
    "\n",
    "git commit can also be repeated and git push will 'group' all git commit command."
   ]
  },
  {
   "cell_type": "markdown",
   "id": "alive-cruise",
   "metadata": {
    "slideshow": {
     "slide_type": "subslide"
    }
   },
   "source": [
    "### Some useful git commands\n",
    "\n",
    "\n",
    "* *git status* : show the working tree status (branch name, file modified, added...)\n",
    "* *git log* : show commits logs\n",
    "* *git diff* : show changes between commits\n",
    "* *git tag* : add a tag at a specific point of the history"
   ]
  },
  {
   "cell_type": "markdown",
   "id": "romantic-carnival",
   "metadata": {
    "slideshow": {
     "slide_type": "notes"
    }
   },
   "source": [
    "* git tag can help you to retrieve some milestone\n",
    "* git reflog"
   ]
  },
  {
   "cell_type": "markdown",
   "id": "separated-pantyhose",
   "metadata": {
    "slideshow": {
     "slide_type": "subslide"
    }
   },
   "source": [
    "### Hands on: propose modifications\n",
    "\n",
    "For this exercise you can use a [git Cheat sheet](https://education.github.com/git-cheat-sheet-education.pdf) if you like.\n",
    "\n",
    "The goal is to make some modifications on the source code (for a bug fix for example).\n",
    "\n",
    "We need to:\n",
    "\n",
    "* create a new branch relative to the bug fix\n",
    "* make some modifications on the source code\n",
    "* create a commit of the modifications\n",
    "* push the new branch to your personal repository\n",
    "* create a pull / merge request to the original github / gitlab repository"
   ]
  },
  {
   "cell_type": "markdown",
   "id": "competent-overall",
   "metadata": {
    "slideshow": {
     "slide_type": "subslide"
    }
   },
   "source": [
    "\n",
    "1. create a new branch branch_my_name\n",
    "\n",
    "```bash\n",
    "    git checkout -b branch_my_name\n",
    "```\n",
    "\n",
    "2. Then modify the source code (create a new function, add some documentation...)\n",
    "\n",
    "\n",
    "once done you can check the current status of your project\n",
    "\n",
    "```bash\n",
    "    git status ./\n",
    "```\n",
    "\n",
    "3. create your first commit:\n",
    "    * add the modifications you want to embed\n",
    "    * create a commit\n",
    "\n",
    "note: *a .gitignore file can help you to specify files that should not be tracked by git.*"
   ]
  },
  {
   "cell_type": "markdown",
   "id": "confidential-biology",
   "metadata": {
    "slideshow": {
     "slide_type": "subslide"
    }
   },
   "source": [
    "\n",
    "Now we want to merge those modifications into the original gitlab/github repository.\n",
    "\n",
    "\n",
    "<img src=\"images/github-workflow.png\" width=\"800\">\n",
    "\n",
    "\n",
    "4. Push those modifications on your personal repository.\n",
    "\n",
    "```bash\n",
    "    git push origin <branch>\n",
    "```\n",
    "\n",
    "you can now see the branch on your personal directory.\n",
    "\n",
    "<img src=\"images/new_branch_git_push.png\" width=\"800\">\n"
   ]
  },
  {
   "cell_type": "markdown",
   "id": "humanitarian-insulation",
   "metadata": {
    "slideshow": {
     "slide_type": "subslide"
    }
   },
   "source": [
    "\n",
    "5. connect to your personal repository and from the web interface, create a merge request to the original gitlab / github repository.\n",
    "\n",
    "<img src=\"images/create_merge_request.png\" width=\"800\">\n",
    "\n",
    "---------\n",
    "<img src=\"images/merge_request_1.png\" width=\"800\">\n",
    "\n",
    "---------\n",
    "<img src=\"images/merge_request_3.png\" width=\"800\">\n",
    "\n",
    "\n",
    "6. You can ask someone to review your code and merge your PR\n"
   ]
  },
  {
   "cell_type": "markdown",
   "id": "iraqi-special",
   "metadata": {
    "slideshow": {
     "slide_type": "slide"
    }
   },
   "source": [
    "## Git - Interact with a third repository\n",
    "\n",
    "\n",
    "To interact with a remote repository from a local clone :\n",
    "\n",
    "* *git remote* : manage tracked repositories\n",
    "* *git remote add name url* : Adds a remote named <name> for the repository at <url>\n",
    "\n",
    "note: *all this information is stored in .git/config file*\n",
    "\n",
    "Then you can retrieve commits from those repositories:\n",
    "\n",
    "* *git fetch <repository> <branch>* retrieve history from another branch\n",
    "* *git merge <repository>/<branch>* : merge history of <branch> into the current branch\n",
    "\n",
    "The cycle 1-2 is the normal cycle to retrieve commits.\n"
   ]
  },
  {
   "cell_type": "markdown",
   "id": "beneficial-anger",
   "metadata": {
    "slideshow": {
     "slide_type": "notes"
    }
   },
   "source": [
    "git actions have default parameters in order to simplify commands and to fit such workflows\n",
    "For example *fetch* and *merge* have default values for:\n",
    "\n",
    "* repository --> origin\n",
    "* branch  --> master / main"
   ]
  },
  {
   "cell_type": "markdown",
   "id": "medical-mathematics",
   "metadata": {
    "slideshow": {
     "slide_type": "subslide"
    }
   },
   "source": [
    "### Hands on: retrieve modifications\n",
    "\n",
    "\n",
    "We now want to keep the clone up to date to get our modifications and more importantly,\n",
    "the ones from the other developers.\n",
    "\n",
    "1. add a remote repository\n",
    "\n",
    "```bash\n",
    "git remote add upstream https://gitlab.esrf.fr/silx/pypolynom.git\n",
    "# git remote add co-worker https://gitlab.esrf.fr/<co-worker>/pypolynom.git\n",
    "```\n",
    "\n",
    "2. merge those modifications on your master branch\n",
    "\n",
    "```bash\n",
    "git checkout master\n",
    "git fetch upstream <branch>\n",
    "git merge upstream/main\n",
    "```\n",
    "or\n",
    "\n",
    "```bash\n",
    "git checkout master\n",
    "git pull upstream/main\n",
    "```\n",
    "\n",
    "you are now ready for a new development cycle."
   ]
  },
  {
   "cell_type": "markdown",
   "id": "collective-breeding",
   "metadata": {
    "slideshow": {
     "slide_type": "slide"
    }
   },
   "source": [
    "\n",
    "## Some tutorials and utils for git/github\n",
    "\n",
    "\n",
    "* [Comprehensive tutorial](http://gitref.org)\n",
    "* [Cheat sheet from Github](https://education.github.com/git-cheat-sheet-education.pdf)\n",
    "* [simple Cheat sheet](http://rogerdudler.github.io/git-guide/files/git_cheat_sheet.pdf)\n",
    "* [list of default .gitignore for several languages](https://github.com/github/gitignore)\n"
   ]
  },
  {
   "cell_type": "markdown",
   "id": "optional-racing",
   "metadata": {
    "slideshow": {
     "slide_type": "slide"
    }
   },
   "source": [
    "## Contribution in OSS\n",
    "\n",
    "If your project becomes popular, you may have external contributors...\n",
    "or you might want to contribute to other projects.\n",
    "\n",
    "How to contribute to an Open Source project is presented in\n",
    "[this document](http://scikit-image.org/docs/stable/contribute.html)\n",
    "for scikit-image.\n"
   ]
  }
 ],
 "metadata": {
  "celltoolbar": "Slideshow",
  "interpreter": {
   "hash": "6f82d4ae8b46138505ab3ab51cc34ecdd299a7111312895395843b5b30495571"
  },
  "kernelspec": {
   "display_name": "Python 3",
   "language": "python",
   "name": "python3"
  },
  "language_info": {
   "codemirror_mode": {
    "name": "ipython",
    "version": 3
   },
   "file_extension": ".py",
   "mimetype": "text/x-python",
   "name": "python",
   "nbconvert_exporter": "python",
   "pygments_lexer": "ipython3",
   "version": "3.7.3"
  },
  "varInspector": {
   "cols": {
    "lenName": 16,
    "lenType": 16,
    "lenVar": 40
   },
   "kernels_config": {
    "python": {
     "delete_cmd_postfix": "",
     "delete_cmd_prefix": "del ",
     "library": "var_list.py",
     "varRefreshCmd": "print(var_dic_list())"
    },
    "r": {
     "delete_cmd_postfix": ") ",
     "delete_cmd_prefix": "rm(",
     "library": "var_list.r",
     "varRefreshCmd": "cat(var_dic_list()) "
    }
   },
   "types_to_exclude": [
    "module",
    "function",
    "builtin_function_or_method",
    "instance",
    "_Feature"
   ],
   "window_display": false
  }
 },
 "nbformat": 4,
 "nbformat_minor": 5
}
