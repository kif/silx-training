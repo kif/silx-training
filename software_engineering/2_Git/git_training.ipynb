{
 "cells": [
  {
   "cell_type": "markdown",
   "id": "86d75f92",
   "metadata": {
    "slideshow": {
     "slide_type": "slide"
    }
   },
   "source": [
    "# git"
   ]
  },
  {
   "cell_type": "markdown",
   "id": "9113d587",
   "metadata": {
    "slideshow": {
     "slide_type": "fragment"
    }
   },
   "source": [
    "git is a version control system.\n",
    "\n",
    "version control system are used to avoid this:\n",
    "    \n",
    "![phdcomics](images/phd101212s.png)\n",
    "\n",
    "image from: http://phdcomics.com/comics/archive_print.php?comicid=1531\n",
    "\n",
    "It should preserve you from losing modifications and keep trace of modifications / history"
   ]
  },
  {
   "cell_type": "markdown",
   "id": "b880d56d",
   "metadata": {
    "slideshow": {
     "slide_type": "slide"
    }
   },
   "source": [
    "## History\n",
    "\n",
    "git has been created in 2005 by Linus Torvals.\n",
    "\n",
    "He described the tool as \"the stupid content tracker\" and the name as (depending on your way):\n",
    "\n",
    "* random three-letter combination that is pronounceable, and not actually used by any common UNIX command.\n",
    "* \"global information tracker\": you're in a good mood, and it actually works for you. Angels sing, and a light suddenly fills the room.\n",
    "* US, regional, slang (get)\n",
    "* \"goddamn idiotic truckload of sh*t\": when it breaks\n",
    "    "
   ]
  },
  {
   "cell_type": "markdown",
   "id": "425d2a7c",
   "metadata": {
    "slideshow": {
     "slide_type": "slide"
    }
   },
   "source": [
    "## status\n",
    "\n",
    "Git is the current (2019) standard, it has replaced SVN, CVS, ...\n",
    "\n",
    "If you have heard of any of them, the concepts in Git are similar while offering a lot of flexibility.\n",
    "\n",
    "wikipedia definition:\n",
    "\n",
    " `Git is a distributed version-control system for tracking changes in source code during software development. It is designed for coordinating work among programmers, but it can be used to track changes in any set of files. Its goals include speed data integrity, and support for distributed, non-linear workflows`\n"
   ]
  },
  {
   "cell_type": "markdown",
   "id": "552b7c6c",
   "metadata": {
    "slideshow": {
     "slide_type": "notes"
    }
   },
   "source": [
    "Mercurial is the main concurrent of git with a close design.\n",
    "Mercurial seems simpler but a little less powerful (API). Git seems to have less 'corner cases'.\n",
    "Previous 'leaders' (before git and mercurial arrival):\n",
    "CVS: concurrent version system\n",
    "SVN: Apache Subversion"
   ]
  },
  {
   "cell_type": "markdown",
   "id": "a8efb708",
   "metadata": {
    "slideshow": {
     "slide_type": "slide"
    }
   },
   "source": [
    "## Github vs gitlab\n",
    "\n",
    "**github.com** and **gitlab.esrf.fr** provides git-hosting for project and\n",
    "encourage collaboration using forks of projects.\n",
    "\n",
    "The main advantages are:\n",
    "\n",
    "* simplify contribution.\n",
    "* many tutorials for [github](https://guides.github.com/) and [gitlab](https://docs.gitlab.com/ee/gitlab-basics/).\n",
    "* web page hosting for projects.\n",
    "* over the years a cluster of services have pop up to help developers like [Travis](https://github.com/marketplace/travis-ci) and [AppVeyor](https://github.com/marketplace/appveyor).\n",
    "* [offer a fixed pipeline based on *Pull request*](https://help.github.com/articles/using-pull-requests/).\n",
    "* lead to some 'standardization' of projects.\n"
   ]
  },
  {
   "cell_type": "markdown",
   "id": "84607d29",
   "metadata": {
    "slideshow": {
     "slide_type": "subslide"
    }
   },
   "source": [
    "* github should bring to your project an [Higher visibility compared to other hosting (in 2017)] (http://software.ac.uk/resources/guides/choosing-repository-your-software-project).\n",
    "* github is usually one step ahead compare to gitlab regarding features and usability.\n",
    "* activities on github are monitored by head-hunters and can be useful for professional placement.\n",
    "* gitlab allows you to select a privacy level for your projects. Public projects can be seen from outside: https://gitlab.esrf.fr/public not private projects.\n",
    "* github is free for open-source project.\n",
    "* github has been acquire by Microsoft in 2018 for 7.5 billion dollars\n",
    "\n",
    "![gitlab privacy](images/gitlab_privacy.png)"
   ]
  },
  {
   "cell_type": "markdown",
   "id": "0e9712ec",
   "metadata": {
    "slideshow": {
     "slide_type": "notes"
    }
   },
   "source": [
    "* github intend to open itself to services, gitlab intend to embed them. Usage is the same but philosophy is different.\n",
    "* The amount of the acquirement by Microsoft show the importance of github on the today life of the developer.\n",
    "  As a consequence thousands of project has move from github to gitlab. (50000 after a week)\n",
    "* gitlab is free and open source. But has big compamies behind (nas, bayer, siemens...)"
   ]
  },
  {
   "cell_type": "markdown",
   "id": "e578b2c9",
   "metadata": {
    "slideshow": {
     "slide_type": "slide"
    }
   },
   "source": [
    "## Different types of workflow\n",
    "\n",
    "git permits several workflows:\n",
    "\n",
    "* [centralized workflow](https://www.atlassian.com/git/tutorials/comparing-workflows#centralized-workflow)\n",
    "* [feature branch workflow](https://www.atlassian.com/git/tutorials/comparing-workflows/feature-branch-workflow)\n",
    "* [gitflow workflow](https://www.atlassian.com/git/tutorials/comparing-workflows/gitflow-workflow)\n",
    "* [**forking workflow**](https://www.atlassian.com/git/tutorials/comparing-workflows/forking-workflow)"
   ]
  },
  {
   "cell_type": "markdown",
   "id": "9de1a68d",
   "metadata": {
    "slideshow": {
     "slide_type": "notes"
    }
   },
   "source": [
    "* centralized : a single point of entry 'central repository'. Let each users to deal with synchronization\n",
    "* feature branch workflow: each new feature should take place in a dedicated branch\n",
    "* gitflow : strict management of branches designed for releases. One branch per:\n",
    "    - releases\n",
    "    - each feature\n",
    "    - fix"
   ]
  },
  {
   "cell_type": "markdown",
   "id": "c246ca51",
   "metadata": {
    "slideshow": {
     "slide_type": "subslide"
    }
   },
   "source": [
    "### forking workflow\n",
    "\n",
    "\n",
    "This is not the goal today to see the advantages of the different type of workflows.\n",
    "But for the hands on session today we will focus in the 'forking workflow'.\n",
    "\n",
    "![forking flow](images/github-workflow.png)"
   ]
  },
  {
   "cell_type": "markdown",
   "id": "f7d8f48a",
   "metadata": {
    "slideshow": {
     "slide_type": "notes"
    }
   },
   "source": [
    "Why the 'forking flow' ? \n",
    "\n",
    "    * most commonly used.\n",
    "\n",
    "This schema is very important and we will follow it during all along training\n",
    "The idea is that each developer can interact with other from his own fork.\n",
    "Each developer can request to merge some modifications (feature, bug fix...) with others: this is a pull request\n",
    "\n",
    "* simplify branch forking\n",
    "* Always keep upstream branch ready for deployment with features and fixes\n",
    "* Each new branch starts from the master (up to date)\n",
    "* Use merge request for each new feature"
   ]
  },
  {
   "cell_type": "markdown",
   "id": "cb6c9b1a",
   "metadata": {
    "slideshow": {
     "slide_type": "subslide"
    }
   },
   "source": [
    "### example: create a new git project\n",
    "\n",
    "\n",
    "This example presents how to create a git project from a single source file: polynom.py\n",
    "\n",
    "note: *For those which intend to create a new git project from existing source code you can follow the same procedure.*\n",
    "\n",
    "\n",
    "To create the git project:\n",
    "\n",
    "1. create an empty folder to start the new project\n",
    "\n",
    "```bash\n",
    "mkdir pypolynom\n",
    "cd pypolynom\n",
    "```\n",
    "\n",
    "2. create the directory which will contains the source code file(s)\n",
    "\n",
    "```bash\n",
    "mkdir pypolynom\n",
    "```\n",
    "\n",
    "3. add / copy your source code file(s)\n",
    "\n",
    "```bash\n",
    "touch pypolynom/polynom.py\n",
    "```"
   ]
  },
  {
   "cell_type": "markdown",
   "id": "a0d635c0",
   "metadata": {
    "slideshow": {
     "slide_type": "subslide"
    }
   },
   "source": [
    "\n",
    "4. init the git project file (from the root directory)\n",
    "\n",
    "```bash\n",
    "    git init\n",
    "```\n",
    "\n",
    "5. create a new project from [gitlab](http://gitlab.esrf.fr/) or [github](http://github.com/)\n",
    "\n",
    "\n",
    "6. you can now register the gitlab / github project url to the current git project\n",
    "\n",
    "```bash\n",
    "    git remote add origin git@gitlab.esrf.fr:silx/pypolynom.git\n",
    "```\n",
    "\n",
    "7. add files to a commit (detail later)\n",
    "\n",
    "```bash\n",
    "    git add <file1> <file2> ... <folder1> ...\n",
    "    git commit\n",
    "```\n",
    "\n",
    "8. push modifications (detail later)\n",
    "\n",
    "```bash\n",
    "    git push origin master\n",
    "```"
   ]
  },
  {
   "cell_type": "markdown",
   "id": "44c327a2",
   "metadata": {
    "slideshow": {
     "slide_type": "subslide"
    }
   },
   "source": [
    "### Hands on: fork an existing project\n",
    "\n",
    "\n",
    "1 fork the project from the webinterface of gitlab or github.\n",
    "\n",
    "    1.1 login to github / gitlab\n",
    "\n",
    "    1.2 look for the 'https://gitlab.esrf.fr/silx/pypolynom' project\n",
    "\n",
    "    1.3 fork the project and go to the homepage of the fork you just created\n",
    "\n",
    "\n",
    "-> This will provide you an url to your personal repository.\n",
    "\n",
    "| fork-gitlab                | fork-github                 |\n",
    "|----------------------------|-----------------------------|\n",
    "|![](images/gitlab-fork.png) | ![](images/github-fork.png) |\n",
    "\n",
    "2. clone the project:\n",
    "\n",
    "```bash\n",
    "git clone git@gitlab.esrf.fr:[my_id]/pypolynom.git\n",
    "```\n",
    "\n",
    "-> You are now ready for making some modifications and share them with others.\n"
   ]
  },
  {
   "cell_type": "markdown",
   "id": "1c07217f",
   "metadata": {
    "slideshow": {
     "slide_type": "slide"
    }
   },
   "source": [
    "## branches\n",
    "\n",
    "\n",
    "**main** or **master** branch is the default / 'main' branch.\n",
    "\n",
    "-> We will consider the case where each new features, bug fix or improvements are developed in a dedicated branch.\n",
    "\n",
    "-> The history of a branch is a collection commits.\n",
    "\n",
    "-> Two branches can be merge together.\n",
    "\n",
    "The case we will consider:\n",
    "\n",
    "![](images/git_branch.png)\n",
    "\n",
    "A more realistic case:\n",
    "\n",
    "<img src=\"images/branches_real.png\" width=800>"
   ]
  },
  {
   "cell_type": "markdown",
   "id": "6b32c0c9",
   "metadata": {
    "slideshow": {
     "slide_type": "notes"
    }
   },
   "source": [
    "Eah commit has an 'ID': SHA-1 checksum from modifications + commit message + author + date\n",
    "\n",
    "To simplify thinks, we will consider the master branch to be the develop branch.\n"
   ]
  },
  {
   "cell_type": "markdown",
   "id": "4e24d9f7",
   "metadata": {
    "slideshow": {
     "slide_type": "subslide"
    }
   },
   "source": [
    "### Branches commands\n",
    "\n",
    "\n",
    "* *git checkout <branch>* : move to another branch.\n",
    "* *git checkout -b <branch>* : create a new branch\n",
    "* *git merge <branch>* : merge history of <branch> into the current branch\n",
    "* *git fetch <branch>* retrieve history from another branch\n",
    "\n",
    "Note : *pull* command is grouping *fetch* and *merge*"
   ]
  },
  {
   "cell_type": "markdown",
   "id": "0f4112d1",
   "metadata": {
    "slideshow": {
     "slide_type": "notes"
    }
   },
   "source": [
    "Default parameters are usually origin/master\n",
    "\n",
    "TODO: make a small demo of how to move from one branch to an other..."
   ]
  },
  {
   "cell_type": "markdown",
   "id": "811e0997",
   "metadata": {
    "slideshow": {
     "slide_type": "slide"
    }
   },
   "source": [
    "## Git actions\n",
    "\n",
    "\n",
    "To made modification locally you will have to follow the current process:\n",
    "\n",
    "1. *git add* files to the list of tracked files\n",
    "2. *git commit* the files, locally\n",
    "3. *git push* your changes to a remote repository\n",
    "\n",
    "The cycle 1-2-3 is the normal development cycle for a local project.\n",
    "\n",
    "Any git repository contains all the history of the project, i.e all\n",
    "commits with authors, data time, file changed, and the chain of commits called *branch*\n",
    "\n",
    "\n",
    "note: *graphic tools as* [git-gui](https://git-scm.com/docs/git-gui) *and* [gitk](https://git-scm.com/docs/gitk) *might help you for commits and to have a graphic representation of the tree view.*"
   ]
  },
  {
   "cell_type": "markdown",
   "id": "60643378",
   "metadata": {
    "slideshow": {
     "slide_type": "notes"
    }
   },
   "source": [
    "git add / git commit can be repeated"
   ]
  },
  {
   "cell_type": "markdown",
   "id": "30f5243d",
   "metadata": {
    "slideshow": {
     "slide_type": "subslide"
    }
   },
   "source": [
    "### Some useful git commands\n",
    "\n",
    "\n",
    "* *git status* : show the working tree status (branch name, file modified, added...)\n",
    "* *git log* : show commits logs\n",
    "* *git diff* : show changes between commits\n",
    "* *git tag* : add a tag at a specific point of the history"
   ]
  },
  {
   "cell_type": "markdown",
   "id": "cf3f1dcc",
   "metadata": {
    "slideshow": {
     "slide_type": "notes"
    }
   },
   "source": [
    "* git tag can help you to retrieve some milestone\n",
    "* git reflog"
   ]
  },
  {
   "cell_type": "markdown",
   "id": "8021ac74",
   "metadata": {
    "slideshow": {
     "slide_type": "subslide"
    }
   },
   "source": [
    "### Hands on: propose modifications\n",
    "\n",
    "For this exercise you can use a [git Cheat sheet](https://education.github.com/git-cheat-sheet-education.pdf) if you like.\n",
    "\n",
    "The goal is to make some modifications on the source code (for a bug fix for example).\n",
    "\n",
    "We need to:\n",
    "\n",
    "* create a new branch relative to the bug fix\n",
    "* make some modifications on the source code\n",
    "* create a commit of the modifications\n",
    "* push the new branch to your personal repository\n",
    "* create a pull / merge request to the original github / gitlab repository"
   ]
  },
  {
   "cell_type": "markdown",
   "id": "32fa0a53",
   "metadata": {
    "slideshow": {
     "slide_type": "subslide"
    }
   },
   "source": [
    "\n",
    "1. create a new branch branch_my_name\n",
    "\n",
    "```bash\n",
    "    git checkout -b branch_my_name\n",
    "```\n",
    "\n",
    "2. Then modify the source code (create a new function, add some documentation...)\n",
    "\n",
    "\n",
    "once done you can check the current status of your project\n",
    "\n",
    "```bash\n",
    "    git status ./\n",
    "```\n",
    "\n",
    "3. create your first commit:\n",
    "    * add the modifications you want to embed\n",
    "    * create a commit\n",
    "\n",
    "note: *a .gitignore file can help you to specify files to untrack.*"
   ]
  },
  {
   "cell_type": "markdown",
   "id": "201e1a3c",
   "metadata": {
    "slideshow": {
     "slide_type": "subslide"
    }
   },
   "source": [
    "\n",
    "Now we want to merge those modifications into the original gitlab/github repository.\n",
    "\n",
    "\n",
    "<img src=\"images/github-workflow.png\" width=\"800\">\n",
    "\n",
    "\n",
    "4. Push those modifications on your personal repository.\n",
    "\n",
    "```bash\n",
    "    git push origin <branch>\n",
    "```\n",
    "\n",
    "you can now see the branch on your personal directory.\n",
    "\n",
    "<img src=\"images/new_branch_git_push.png\" width=\"800\">\n"
   ]
  },
  {
   "cell_type": "markdown",
   "id": "a7b09a80",
   "metadata": {
    "slideshow": {
     "slide_type": "subslide"
    }
   },
   "source": [
    "\n",
    "5. connect you to your personal repository and from the web interface create a merge request to the original gitlab / github repository.\n",
    "\n",
    "<img src=\"images/create_merge_request.png\" width=\"800\">\n",
    "\n",
    "---------\n",
    "<img src=\"images/merge_request_1.png\" width=\"800\">\n",
    "\n",
    "---------\n",
    "<img src=\"images/merge_request_3.png\" width=\"800\">\n",
    "\n",
    "\n",
    "6. You can ask someone to review your code and merge your PR"
   ]
  },
  {
   "cell_type": "markdown",
   "id": "c25a78b1",
   "metadata": {
    "slideshow": {
     "slide_type": "slide"
    }
   },
   "source": [
    "## Git - Interact with a third repository\n",
    "\n",
    "\n",
    "To interact with a remote repository from a local clone :\n",
    "\n",
    "* *git remote* : manage tracked repositories\n",
    "* *git remote add name url* : Adds a remote named <name> for the repository at <url>\n",
    "\n",
    "note: *all this information is stored in .git/config file*\n",
    "\n",
    "Then you can retrieve commits from those repositories:\n",
    "\n",
    "* *git fetch <repository> <branch>* retrieve history from another branch\n",
    "* *git merge <repository>/<branch>* : merge history of <branch> into the current branch\n",
    "\n",
    "The cycle 1-2 is the normal cycle to retrieve commits.\n"
   ]
  },
  {
   "cell_type": "markdown",
   "id": "8f028235",
   "metadata": {
    "slideshow": {
     "slide_type": "notes"
    }
   },
   "source": [
    "git actions have defaults parameters in order to simplify commands and to fit sith workflows\n",
    "For example *fetch* and *merge* have default values for:\n",
    "\n",
    "* repository --> origin\n",
    "* branch  --> master / main"
   ]
  },
  {
   "cell_type": "markdown",
   "id": "87468710",
   "metadata": {
    "slideshow": {
     "slide_type": "subslide"
    }
   },
   "source": [
    "### Hands on: retrieve modifications\n",
    "\n",
    "\n",
    "We now want to keep the clone up to date. To get our modifications and more importantly,\n",
    "the one from the other developers.\n",
    "\n",
    "1. add a remote repository\n",
    "\n",
    "```bash\n",
    "git remote add upstream git@gitlab.esrf.fr:silx/pypolynom.git\n",
    "# git remote add co-worker git@gitlab.esrf.fr:<co-worker>/pypolynom.git\n",
    "```\n",
    "\n",
    "2. merge those modification on your master branch\n",
    "\n",
    "```bash\n",
    "git checkout master\n",
    "git merge upstream/master\n",
    "```\n",
    "\n",
    "or\n",
    "\n",
    "```bash\n",
    "git checkout master\n",
    "git fetch upstream <branch>\n",
    "git merge upstream/master\n",
    "```\n",
    "\n",
    "you are now ready for a new development cycle."
   ]
  },
  {
   "cell_type": "markdown",
   "id": "23f103db",
   "metadata": {
    "slideshow": {
     "slide_type": "slide"
    }
   },
   "source": [
    "\n",
    "## Some tutorials and utils for git/github\n",
    "\n",
    "\n",
    "* [Comprehensive tutorial](http://gitref.org)\n",
    "* [Cheat sheet from Github](https://education.github.com/git-cheat-sheet-education.pdf)\n",
    "* [simple Cheat sheet](http://rogerdudler.github.io/git-guide/files/git_cheat_sheet.pdf)\n",
    "* [list of default .gitignore for several languages](https://github.com/github/gitignore>)\n"
   ]
  },
  {
   "cell_type": "markdown",
   "id": "c565906e",
   "metadata": {
    "slideshow": {
     "slide_type": "slide"
    }
   },
   "source": [
    "## Contribution in OSS\n",
    "\n",
    "If your project becomes popular, you may have external contributors...\n",
    "or you might want to contribute to other projects.\n",
    "\n",
    "How to contribute to an Open Source project is presented in\n",
    "[this document](http://scikit-image.org/docs/stable/contribute.html)\n",
    "for scikit-image.\n"
   ]
  },
  {
   "cell_type": "code",
   "execution_count": null,
   "id": "d0648e6d",
   "metadata": {},
   "outputs": [],
   "source": []
  }
 ],
 "metadata": {
  "celltoolbar": "Slideshow",
  "kernelspec": {
   "display_name": "Python 3 (ipykernel)",
   "language": "python",
   "name": "python3"
  },
  "language_info": {
   "codemirror_mode": {
    "name": "ipython",
    "version": 3
   },
   "file_extension": ".py",
   "mimetype": "text/x-python",
   "name": "python",
   "nbconvert_exporter": "python",
   "pygments_lexer": "ipython3",
   "version": "3.8.10"
  }
 },
 "nbformat": 4,
 "nbformat_minor": 5
}
