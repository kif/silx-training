{
 "cells": [
  {
   "cell_type": "markdown",
   "id": "d7f7c599",
   "metadata": {
    "slideshow": {
     "slide_type": "slide"
    }
   },
   "source": [
    "# Software engineering tips & tools\n",
    "\n",
    "The initial idea has been stolen from\n",
    "[software carpentry](http://swcarpentry.github.io/slideshows/best-practices/index.html)\n",
    "defined in this [publication from 2014](http://dx.doi.org/10.1371/journal.pbio.1001745).\n",
    "\n",
    "The most important message for scientists writing code can be summarized in 8\n",
    "points they consider being the *best practices*."
   ]
  },
  {
   "cell_type": "markdown",
   "id": "9aae227a",
   "metadata": {
    "slideshow": {
     "slide_type": "subslide"
    }
   },
   "source": [
    "### 1. Write programs for people, not computers\n",
    "\n",
    "*  A program should not require its readers to hold more than a handful of facts in memory at once.\n",
    "*  Make names consistent, distinctive, and meaningful.\n",
    "*  Make code style and formatting consistent: `PEP8`."
   ]
  },
  {
   "cell_type": "markdown",
   "id": "15bcbbbf",
   "metadata": {
    "slideshow": {
     "slide_type": "subslide"
    }
   },
   "source": [
    "### 2. Let the computer do the work\n",
    "\n",
    "*   Make the computer repeat tasks.\n",
    "*   Save recent commands in a file for re-use.\n",
    "*   Use a build tool to automate compilation, test and packaging workflows."
   ]
  },
  {
   "cell_type": "markdown",
   "id": "1987f8df",
   "metadata": {
    "slideshow": {
     "slide_type": "subslide"
    }
   },
   "source": [
    "### 3. Make incremental changes\n",
    "\n",
    "*  Work in small steps with frequent feedback and course correction.\n",
    "*  Use a version control system: *git*.\n",
    "*  Put everything that has been created **manually** in version control."
   ]
  },
  {
   "cell_type": "markdown",
   "id": "4001ace4",
   "metadata": {
    "slideshow": {
     "slide_type": "subslide"
    }
   },
   "source": [
    "### 4. Don’t repeat yourself (or others)\n",
    "\n",
    "*   Every piece of data must have a single authoritative representation in the system\n",
    "    i.e. version number, constants, ...\n",
    "*   Modularize code rather than copying and pasting.\n",
    "*   Re-use code instead of rewriting it. Don't be afraid of dependencies."
   ]
  },
  {
   "cell_type": "markdown",
   "id": "98b852ba",
   "metadata": {
    "slideshow": {
     "slide_type": "subslide"
    }
   },
   "source": [
    "### 5. Plan for mistakes\n",
    "\n",
    "*   Add assertions to programs to check their operation.\n",
    "*   Use an off-the-shelf unit testing library, e.g. *pytest*.\n",
    "*   Turn bugs into test cases, i.e. non regression tests.\n",
    "*   Use a symbolic debugger."
   ]
  },
  {
   "cell_type": "markdown",
   "id": "e974820a",
   "metadata": {
    "slideshow": {
     "slide_type": "subslide"
    }
   },
   "source": [
    "### 6. Optimize software only **after** it works\n",
    "\n",
    "*   Use a profiler to identify bottlenecks and optimize there and not anywhere else.\n",
    "*   Write code in the highest-level language possible to have as little code to maintain as possible.\n",
    "* Come to our `optimization` training course. "
   ]
  },
  {
   "cell_type": "markdown",
   "id": "5a22dc32",
   "metadata": {
    "slideshow": {
     "slide_type": "subslide"
    }
   },
   "source": [
    "### 7. Document design and purpose\n",
    "\n",
    "It is more important than to document mechanics. \n",
    "\n",
    "* Document interfaces and reasons, not implementations.\n",
    "* Refactor code in preference to explaining how it works.\n",
    "* Embed the documentation for a piece of software in thatsoftware.\n",
    "* One can always refer to the source code for the implementation."
   ]
  },
  {
   "cell_type": "markdown",
   "id": "2f64d84c",
   "metadata": {
    "slideshow": {
     "slide_type": "subslide"
    }
   },
   "source": [
    "### 8. Collaborate\n",
    "\n",
    "* Use pre-merge code reviews.\n",
    "* Use pair programming when bringing someone new up to\n",
    "   speed and when tackling particularly tricky problems.\n",
    "* Use an issue tracking tool.\n",
    "* Use a code-forge like `github` or `gitlab.esrf.fr`."
   ]
  },
  {
   "cell_type": "markdown",
   "id": "5d2121cd",
   "metadata": {
    "slideshow": {
     "slide_type": "slide"
    }
   },
   "source": [
    "## Summary\n",
    "\n",
    "While we agree on the \"*why?*\" basic software engineering practice is important,\n",
    "it does not address the \"*how do I do?*\" question.\n",
    "\n",
    "We have tried to summarize all the needed information into a tutorial\n",
    "which we hope will save you a lot of time in your future:\n",
    "\n",
    "1. Structure your project: minimalistic architecture of a Python project.\n",
    "2. Version control system: how *git* becomes your best friend. \n",
    "3. Virtual environments: how to test many setups.\n",
    "4. Package your code to distribute it efficiently.\n",
    "5. Testing and validation: turn bugs into non-regression tests.\n",
    "6. Continuous integration: when the *cloud* tests your code for you.\n",
    "7. Documentation: tools for generating the documentation for you.\n",
    "\n",
    "This training is focusing on Python only and presents a deliberately\n",
    "simplified view:\n",
    "\n",
    "There should be one, *and preferably only one* obvious way to do it."
   ]
  }
 ],
 "metadata": {
  "celltoolbar": "Slideshow",
  "kernelspec": {
   "display_name": "Python 3.9 (local venv)",
   "language": "python",
   "name": "py39-venv"
  },
  "language_info": {
   "codemirror_mode": {
    "name": "ipython",
    "version": 3
   },
   "file_extension": ".py",
   "mimetype": "text/x-python",
   "name": "python",
   "nbconvert_exporter": "python",
   "pygments_lexer": "ipython3",
   "version": "3.9.2"
  }
 },
 "nbformat": 4,
 "nbformat_minor": 5
}
