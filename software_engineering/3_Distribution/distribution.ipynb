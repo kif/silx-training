{
 "cells": [
  {
   "cell_type": "markdown",
   "metadata": {
    "slideshow": {
     "slide_type": "slide"
    }
   },
   "source": [
    "# Distribute Python software (in June 2023)"
   ]
  },
  {
   "cell_type": "markdown",
   "metadata": {
    "slideshow": {
     "slide_type": "slide"
    }
   },
   "source": [
    "## 0. Introduction\n",
    "\n",
    "### 0.1 - Objectives\n",
    "\n",
    "Build, install, package and distribute Python code\n",
    "\n",
    "References:\n",
    "\n",
    "* https://packaging.python.org/tutorials/packaging-projects/\n",
    "* https://setuptools.readthedocs.io/en/latest/\n",
    "* https://github.com/pypa/sampleproject"
   ]
  },
  {
   "cell_type": "markdown",
   "metadata": {
    "slideshow": {
     "slide_type": "slide"
    }
   },
   "source": [
    "Suppose you have a python package, or a collection of scripts, that you want to share with others (eg. beamline users).\n",
    "\n",
    "> -- Alright, I send you my scripts by mail. Can you try `python mypackage/script.py` ?  \n",
    "> -- It doesn't work  \n",
    "> -- Oh, yes, I forgot: you have to first install numpy: `pip install numpy`  \n",
    "> -- Done, still doesn't work  \n",
    "> -- Mmh, lemme check. OK, you also have to install these: `pip install scipy matplotlib`  \n",
    "\n"
   ]
  },
  {
   "cell_type": "markdown",
   "metadata": {
    "slideshow": {
     "slide_type": "slide"
    }
   },
   "source": [
    "The objective of this tutorial is to end up with something like\n",
    "\n",
    "> -- To install and use my package, do `pip install mypackage` and then run the command `process_data`  "
   ]
  },
  {
   "cell_type": "markdown",
   "metadata": {
    "slideshow": {
     "slide_type": "slide"
    }
   },
   "source": [
    "### 0.2 - Warning\n",
    "\n",
    "When it comes to packaging and distribution, **python has too many ways of doing things**.  \n",
    "\n",
    "Python packaging has a long and chaotic history (see section 7)\n",
    "\n",
    "Consequently:\n",
    "  - You **will** find obsolete/incorrect advice all around the web - prefer [packaging.python.org](https://packaging.python.org) whenever possible\n",
    "  - There **will** still be a new cool packaging tool every few months"
   ]
  },
  {
   "cell_type": "markdown",
   "metadata": {
    "slideshow": {
     "slide_type": "slide"
    }
   },
   "source": [
    "### 0.3 - What is a package ?\n",
    "\n",
    "A package is a file (or set of files) that **encapsulates your software in a given state** (version!), and possibly  data/metadata.\n",
    "\n",
    "It can be delivered in the form of pre-compiled binary, or source code.\n",
    "\n",
    "Ideally, package can be distributed on various operating systems (Windows, MacOS, Linux countless distributions) and processors (x86_64, PowerPC, ARM).\n",
    "\n",
    "A package usually comes with **dependencies**: it needs other packages to work.\n",
    "\n",
    "Packages are installed/removed by a **package manager**."
   ]
  },
  {
   "cell_type": "markdown",
   "metadata": {
    "slideshow": {
     "slide_type": "slide"
    }
   },
   "source": [
    "### 0.4 - OS package vs Python package\n",
    "\n",
    "An Operating System (OS) package is  \n",
    "  - Installed system-wide, i.e for all users - needs admin privileges\n",
    "  - Usually accessible by default without issuing any command (eg. module load)\n",
    "  - Handled by the OS package manager\n",
    "    - Debian/Ubuntu: apt + dpkg\n",
    "    - RHEL/CentOS/Rocky: yum/dnf + rpm\n",
    "    - Windows: MSI\n",
    "\n",
    "A python package is  \n",
    "  - Installed within a user directory - does not need admin privileges\n",
    "  - Usually available after some activation command (eg. `source myvenv/bin/activate`)\n",
    "  - Handled by a python package manager: pip, conda\n"
   ]
  },
  {
   "cell_type": "markdown",
   "metadata": {
    "slideshow": {
     "slide_type": "slide"
    }
   },
   "source": [
    "### 0.5 - Package manager\n",
    "\n",
    "A package manager \n",
    "  * Keeps track of installed packages\n",
    "  * Manages dependencies (and sometimes conflicts)\n",
    "  * Provides access to a package repository"
   ]
  },
  {
   "cell_type": "markdown",
   "metadata": {
    "slideshow": {
     "slide_type": "slide"
    }
   },
   "source": [
    "### 0.6 - Standalone packages\n",
    "\n",
    "Packages can also be standalone (self-contained, i.e almost no dependency):\n",
    "  - Linux: appimage, snap\n",
    "  - Python \"fat binaries\" (might be preferable for GUI on Windows and MacOS)\n",
    "  "
   ]
  },
  {
   "cell_type": "markdown",
   "metadata": {
    "slideshow": {
     "slide_type": "slide"
    }
   },
   "source": [
    "In this tutorial, we will use **setuptools**. Many alternatives exist.\n",
    "\n",
    "Ensure your environment is use to date\n",
    "\n",
    "```bash\n",
    "pip install --upgrade pip setuptools wheel build\n",
    "```"
   ]
  },
  {
   "cell_type": "markdown",
   "metadata": {
    "slideshow": {
     "slide_type": "slide"
    }
   },
   "source": [
    "## 1. Python package skeleton \n",
    "\n",
    "Let's create the directory structure of our python package.  \n",
    "The directories should be aranged as:\n",
    "\n",
    "```\n",
    "project/\n",
    "    src/\n",
    "        package/\n",
    "            __init__.py\n",
    "            module.py\n",
    "            subpackage/\n",
    "                __init__.py\n",
    "        ...\n",
    "```\n",
    "\n",
    "As a series of commands:\n",
    "```bash\n",
    "mkdir -p project/src/package/subpackage\n",
    "echo 'version = \"0.0.1\"' > src/package/__init__.py\n",
    "touch project/src/package/module.py\n",
    "touch project/src/package/subpackage/__init__.py\n",
    "```\n",
    "\n",
    "NB: `project` and `package` usually have the same name"
   ]
  },
  {
   "cell_type": "markdown",
   "metadata": {
    "slideshow": {
     "slide_type": "slide"
    }
   },
   "source": [
    "So that, from the `project/src` directory:\n",
    "\n",
    "```python\n",
    ">>> import package\n",
    ">>> from package import module\n",
    ">>> import package.subpackage\n",
    "```"
   ]
  },
  {
   "cell_type": "markdown",
   "metadata": {
    "slideshow": {
     "slide_type": "slide"
    }
   },
   "source": [
    "In the `module.py` file, write a function that prints something:\n",
    "\n",
    "```python\n",
    "def say_hello():\n",
    "    print(\"Hello!\")\n",
    "```\n",
    "\n",
    "Test that it works, from within the `project/src` directory:\n",
    "\n",
    "```bash\n",
    "python -c \"from package.module import say_hello; say_hello()\"\n",
    "``` "
   ]
  },
  {
   "cell_type": "markdown",
   "metadata": {
    "slideshow": {
     "slide_type": "slide"
    }
   },
   "source": [
    "---"
   ]
  },
  {
   "cell_type": "markdown",
   "metadata": {
    "slideshow": {
     "slide_type": "slide"
    }
   },
   "source": [
    "## 2. Configuring a package with `pyproject.toml` \n",
    "\n",
    "We use [setuptools](https://setuptools.pypa.io/en/latest) to build the package. It can be configured by serveral ways:\n",
    "  - `pyproject.toml` (preferred, works with other backends like hatch, flit, poetry, pdm)\n",
    "  - `setup.cfg` (specific to setuptools)\n",
    "  - `setup.py`\n",
    "\n",
    "https://setuptools.pypa.io/en/latest/userguide/pyproject_config.html\n"
   ]
  },
  {
   "cell_type": "markdown",
   "metadata": {
    "slideshow": {
     "slide_type": "slide"
    }
   },
   "source": [
    "The project configuration files (`pyproject.toml` or `setup.cfg`) have several purposes:\n",
    "  - Declare project metadata: name, version, description authors names/email\n",
    "  - Configure how the project is built\n",
    "  - Define the project dependencies (requirements) - [PEP 518](https://www.python.org/dev/peps/pep-0518)"
   ]
  },
  {
   "cell_type": "markdown",
   "metadata": {
    "slideshow": {
     "slide_type": "slide"
    }
   },
   "source": [
    "### 2.1 - Basic `pyproject.toml` file\n",
    "\n",
    "Add a `pyproject.toml` file with the following content:\n",
    "\n",
    "```toml\n",
    "[build-system]\n",
    "# Minimum requirements for the build system to execute.\n",
    "requires = [\"setuptools>=61.0\", \"wheel\"]  # PEP 508 syntax\n",
    "build-backend = \"setuptools.build_meta\"\n",
    "```"
   ]
  },
  {
   "cell_type": "markdown",
   "metadata": {
    "slideshow": {
     "slide_type": "slide"
    }
   },
   "source": [
    "### 2.2 - Dependencies\n",
    "\n",
    "Dependencies allow the user and installation system to require other packages.\n",
    "There is 2 kinds of dependencies:\n",
    "\n",
    "- build dependencies: packages needed to **build** your package\n",
    "- runtime dependencies: packages needed to **run** your package\n",
    "\n",
    "For example, your scientific software package probably won't need `numpy` to be installed, but will probably need it to run. "
   ]
  },
  {
   "cell_type": "markdown",
   "metadata": {
    "slideshow": {
     "slide_type": "slide"
    }
   },
   "source": [
    "in `pyproject.toml`, build dependencies are specified with the `requires` keyword in the `[build-system]` section:\n",
    "\n",
    "```toml\n",
    "[build-system]\n",
    "requires = [\"setuptools>=61.0\", \"wheel\"]\n",
    "```\n",
    "\n",
    "runtime dependencies are specified with the `dependencies` in the `[project]` section:\n",
    "\n",
    "```toml\n",
    "[project]\n",
    "dependencies = [\n",
    "    \"numpy\",\n",
    "    \"scipy >= 1.10.1\",\n",
    "]\n",
    "``` \n"
   ]
  },
  {
   "cell_type": "markdown",
   "metadata": {
    "slideshow": {
     "slide_type": "slide"
    }
   },
   "source": [
    "**Optional dependencies** can also be specified in the `[project.optional-dependencies]` section.\n",
    "\n",
    "```toml\n",
    "[project.optional-dependencies]\n",
    "gui = [\"PyQt5\"]\n",
    "cli = [\n",
    "  \"rich\",\n",
    "  \"click\",\n",
    "]\n",
    "``` \n",
    "\n",
    "that way, you can choose to install only required components:\n",
    "  - Install the package and its minimal required dependencies: `pip install \"mypackage\"`\n",
    "  - Install the package and the dependencies associated with GUI: `pip install \"mypackage[gui]\"`\n"
   ]
  },
  {
   "cell_type": "markdown",
   "metadata": {
    "slideshow": {
     "slide_type": "slide"
    }
   },
   "source": [
    "Complete the `pyproject.toml` file with various metadata - see also https://packaging.python.org/en/latest/specifications/declaring-project-metadata/\n",
    "\n",
    "```toml\n",
    "[project]\n",
    "name = \"package\"\n",
    "version = \"0.0.1\"\n",
    "authors = [\n",
    "  { name=\"Example Author\", email=\"author@example.com\" },\n",
    "]\n",
    "description = \"A small example package\"\n",
    "readme = \"README.md\"\n",
    "requires-python = \">=3.8\"\n",
    "classifiers = [\n",
    "    \"Programming Language :: Python :: 3\",\n",
    "    \"License :: OSI Approved :: MIT License\",\n",
    "    \"Operating System :: OS Independent\",\n",
    "]\n",
    "license = {text = \"MIT\"}\n",
    "dependencies = [\n",
    "    \"numpy\",\n",
    "    \"scipy >= 1.10.1\",\n",
    "    'importlib-metadata; python_version<\"3.8\"',\n",
    "]\n",
    "\n",
    "[project.urls]\n",
    "\"Homepage\" = \"https://github.com/myself/myproject\"\n",
    "\"Bug Tracker\" = \"https://github.com/myself/myproject/issues\"\n",
    "```"
   ]
  },
  {
   "cell_type": "markdown",
   "metadata": {
    "slideshow": {
     "slide_type": "slide"
    }
   },
   "source": [
    "### 2.3 -  Entry points\n",
    "\n",
    "Entry points are commands made available to user once the package are installed. They are useful for launching applications in a user-friendly way.\n",
    "\n",
    "For example in the python package `pip`, `pip install ...` is an entry point named `install`. \n",
    "\n",
    "- https://packaging.python.org/specifications/entry-points/\n",
    "- https://packaging.python.org/specifications/declaring-project-metadata/#entry-points\n",
    "- https://setuptools.pypa.io/userguide/entry_point.html\n"
   ]
  },
  {
   "cell_type": "markdown",
   "metadata": {
    "slideshow": {
     "slide_type": "slide"
    }
   },
   "source": [
    "To add an entry point to the `say_hello` function within `module.py`, add this to the `pyproject.toml` file:\n",
    "\n",
    "```toml\n",
    "[project.scripts]\n",
    "say-hello = \"package.module:say_hello\"\n",
    "\n",
    "``` "
   ]
  },
  {
   "cell_type": "markdown",
   "metadata": {
    "slideshow": {
     "slide_type": "slide"
    }
   },
   "source": [
    "### 2.4 - Dynamic metadata\n",
    "\n",
    "Some metadata can be automatically generated at build time using [dynamic metadata](https://setuptools.pypa.io/en/latest/userguide/pyproject_config.html#dynamic-metadata).\n",
    "\n",
    "For example, to avoid defining the version number at multiple places:\n",
    "\n",
    "```toml\n",
    "# ...\n",
    "[project]\n",
    "name = \"package\"\n",
    "dynamic = [\"version\", \"readme\"]\n",
    "# ...\n",
    "[tool.setuptools.dynamic]\n",
    "version = {attr = \"package.version\"} # defined in src/package/__init__.py\n",
    "readme = {file = [\"README.rst\"]}\n",
    "``` \n",
    "\n"
   ]
  },
  {
   "cell_type": "markdown",
   "metadata": {
    "slideshow": {
     "slide_type": "slide"
    }
   },
   "source": [
    "### 2.5 - Misc.\n",
    "\n",
    "#### Version numbering scheme\n",
    "\n",
    "Stay compatible with Python's \"Version Identification and Dependency Specification\" [PEP 440](https://www.python.org/dev/peps/pep-0440/#version-scheme):\n",
    "\n",
    "Some common versioning:\n",
    "- `major.minor[.micro][{a|b|rc}N]`: 1.0, 1.1.1b1\n",
    "- `year.month`: 2021.10\n",
    "\n",
    "\n",
    "#### Additional information files\n",
    "\n",
    "Good practice (almost mandatory for distribution):\n",
    "\n",
    "- `LICENSE`: Contract for using the package\n",
    "- `README`: Abstract"
   ]
  },
  {
   "cell_type": "markdown",
   "metadata": {
    "slideshow": {
     "slide_type": "slide"
    }
   },
   "source": [
    "---"
   ]
  },
  {
   "cell_type": "markdown",
   "metadata": {
    "slideshow": {
     "slide_type": "slide"
    }
   },
   "source": [
    "## 3. Alternative: configure the package with `setup.cfg` or `setup.py`\n",
    "\n",
    "`setup.cfg` describes the project metadata and build configuration for setuptools. See: https://setuptools.pypa.io/en/latest/userguide/declarative_config.html\n",
    "\n",
    "The equivalent to previous `pyproject.toml` file is\n",
    "\n",
    "```cfg\n",
    "[metadata]\n",
    "name = package\n",
    "version = attr: package.VERSION # dynamic metadata\n",
    "author = me\n",
    "author_email = my.email@esrf.fr\n",
    "description = My package description\n",
    "long_description = file: README.rst, CHANGELOG.rst, LICENSE.rst\n",
    "license = BSDMIT\n",
    "classifiers =\n",
    "    Programming Language :: Python :: 3\n",
    "\n",
    "[options]\n",
    "zip_safe = False\n",
    "include_package_data = True\n",
    "packages = find:  # automatic modules discovery\n",
    "python_requires = >=3.8\n",
    "# runtime dependencies\n",
    "install_requires =\n",
    "    numpy\n",
    "    scipy >= 1.10.1\n",
    "    importlib-metadata; python_version<\"3.8\"\n",
    "# build dependencies\n",
    "setup_requires = \n",
    "    build\n",
    "```"
   ]
  },
  {
   "cell_type": "markdown",
   "metadata": {
    "slideshow": {
     "slide_type": "slide"
    }
   },
   "source": [
    "For a single `module.py` file project:\n",
    "\n",
    "```cfg\n",
    "[metadata]\n",
    "name = package\n",
    "version = 0.0.1\n",
    "\n",
    "[options]\n",
    "py_modules = module\n",
    "```"
   ]
  },
  {
   "cell_type": "markdown",
   "metadata": {
    "slideshow": {
     "slide_type": "slide"
    }
   },
   "source": [
    "#### Optional requirements\n",
    "\n",
    "`setup.cfg`'s `[options.extras_require]` section allows to define optional dependencies:\n",
    "\n",
    "```cfg\n",
    "[options.extras_require]\n",
    "dev =\n",
    "    pytest\n",
    "\tsphinx\n",
    "```\n",
    "\n",
    "It is then possible to install those extra dependencies with:\n",
    "\n",
    "```\n",
    "pip install package[dev]\n",
    "```"
   ]
  },
  {
   "cell_type": "markdown",
   "metadata": {
    "slideshow": {
     "slide_type": "slide"
    }
   },
   "source": [
    "#### Alternative: `setup.py` \n",
    "\n",
    "It used to be the central place for building and packaging Python projects (and it still is for many projects), but it is now optional.\n",
    "\n",
    "Useful for backward compatibility:\n",
    "```python\n",
    "# coding: utf-8\n",
    "import setuptools\n",
    "\n",
    "if __name__ == \"__main__\":\n",
    "    setuptools.setup()\n",
    "```\n",
    "\n",
    "It is also the place for defining specific commands and C extensions."
   ]
  },
  {
   "cell_type": "markdown",
   "metadata": {
    "slideshow": {
     "slide_type": "slide"
    }
   },
   "source": [
    "## 4. Building and installing the package\n",
    "\n",
    "At this stage, we have a project skeleton and a `pyproject.toml` file (or `setup.cfg` or `setup.py`).\n",
    "\n",
    "Now it's time to build/install it, as a first step toward distribution to the outside world."
   ]
  },
  {
   "cell_type": "markdown",
   "metadata": {
    "slideshow": {
     "slide_type": "slide"
    }
   },
   "source": [
    "#### Build packages\n",
    "\n",
    "With the [build](https://pypi.org/project/build/) package (`pip install build`):\n",
    "```\n",
    "python -m build\n",
    "```\n",
    "generates a source tarball and a wheel (`*.whl`) files in `dist/`:\n",
    "- The Source tarball needs to be built on target machine\n",
    "- The wheel file (`.whl`) is a zip file containing an already built Python package"
   ]
  },
  {
   "cell_type": "markdown",
   "metadata": {
    "slideshow": {
     "slide_type": "slide"
    }
   },
   "source": [
    "#### Install from source\n",
    "\n",
    "- Install your package:\n",
    "  ```\n",
    "  pip install .\n",
    "  ```\n",
    "- Install in editable mode (aka., develop mode):\n",
    "  ```\n",
    "  pip install -e .\n",
    "  ```\n",
    "- Previous way:\n",
    "  ```\n",
    "  python setup.py install\n",
    "  ```"
   ]
  },
  {
   "cell_type": "markdown",
   "metadata": {
    "slideshow": {
     "slide_type": "slide"
    }
   },
   "source": [
    "Check that your package is installed: execute the entry point!\n",
    "\n",
    "In a shell:\n",
    "\n",
    "```bash\n",
    "say-hello\n",
    "``` "
   ]
  },
  {
   "cell_type": "markdown",
   "metadata": {
    "slideshow": {
     "slide_type": "slide"
    }
   },
   "source": [
    "## 5. Distribution\n",
    "\n",
    "Distributing means publishing your package in a standard format (wheel or source code) to a public place (pip or a conda channel)\n",
    "\n",
    "We will use the Python Package Index [PyPI](https://pypi.org).\n",
    "\n",
    "For this, you need to create an account on pypi.org.\n",
    "\n",
    "![](PyPI.png)\n"
   ]
  },
  {
   "cell_type": "markdown",
   "metadata": {
    "slideshow": {
     "slide_type": "slide"
    }
   },
   "source": [
    "Use the `twine` package to publish to [pypi.org](https://pypi.org/account/register/):\n",
    "\n",
    "- First, create an account on [pypi.org](https://pypi.org/account/register/) (or the test instance: [test.pypi.org](https://test.pypi.org/account/register/)) \n",
    "- Generate the packages you want to provide (check the version number, and tag it in git):\n",
    "\n",
    "  `python -m build  # or python setup.py sdist bdist_wheel`\n",
    "- Upload the project with `twine` (`pip install twine`):\n",
    "\n",
    "  `twine upload dist/*`\n",
    "\n",
    "  or for [test.pypi.org](https://test.pypi.org): `twine upload --repository-url https://test.pypi.org/legacy/ dist/*`\n",
    "- Install from [pypi.org](https://pypi.org/): `pip install package`\n",
    "\n",
    "  or for [test.pypi.org](https://test.pypi.org): `pip install --index-url https://test.pypi.org/simple/ --extra-index-url https://pypi.org/simple package`"
   ]
  },
  {
   "cell_type": "markdown",
   "metadata": {
    "slideshow": {
     "slide_type": "slide"
    }
   },
   "source": [
    "**Important note**: uploading a package version to pypi is irreversible\n",
    "  - you cannot delete a version number and re-upload it with the same version number\n",
    "Ensure your package works before uploading it to pypi !\n",
    "\n",
    "To test real-world deployment, use test.pypi.org"
   ]
  },
  {
   "cell_type": "markdown",
   "metadata": {
    "slideshow": {
     "slide_type": "slide"
    }
   },
   "source": [
    "---"
   ]
  },
  {
   "cell_type": "markdown",
   "metadata": {
    "slideshow": {
     "slide_type": "slide"
    }
   },
   "source": [
    "## 6. Advanced features"
   ]
  },
  {
   "cell_type": "markdown",
   "metadata": {
    "slideshow": {
     "slide_type": "slide"
    }
   },
   "source": [
    "### `requirements.txt` vs `setup.cfg`\n",
    "\n",
    "It may look contradictory to define dependencies at different places but it is not https://packaging.python.org/discussions/install-requires-vs-requirements/.\n",
    "\n",
    "* `setup.cfg` provides abstract minimal dependency requirements (e.g., `numpy`)\n",
    "* `requirements.txt` provides concrete implementation\n",
    "  (with hard coded versions and URL to download wheels from).\n",
    "  This provides a way to specify an environment: `numpy==1.12.0`\n",
    "\n",
    "  Usage: `pip install -r requirements.txt`"
   ]
  },
  {
   "cell_type": "markdown",
   "metadata": {
    "slideshow": {
     "slide_type": "slide"
    }
   },
   "source": [
    "### `MANIFEST.in`: Source package content\n",
    "\n",
    "A default set of files (`*.py`, `LICENSE`, `README.md`) is included in source packages produced by:\n",
    "```\n",
    "python -m build  # or python setup.py sdist\n",
    "```\n",
    "\n",
    "It is possible to include additional files by declaring them in a `MANIFEST.in` file at the project's top-level:\n",
    "\n",
    "```\n",
    "include CONTRIBUTE.txt\n",
    "recursive-include package *.dat\n",
    "graft example\n",
    "```\n",
    "\n",
    "See [documentation](https://packaging.python.org/guides/using-manifest-in/)"
   ]
  },
  {
   "cell_type": "markdown",
   "metadata": {
    "slideshow": {
     "slide_type": "slide"
    }
   },
   "source": [
    "### Additional resources\n",
    "\n",
    "Install non-Python files within the package (e.g., reference data).\n",
    "\n",
    "#### Automatic\n",
    "\n",
    "Add needed files to `MANIFEST.in` and add the following to `setup.cfg`:\n",
    "```cfg\n",
    "[options]\n",
    "include_package_data = True\n",
    "```\n",
    "\n",
    "#### Manual\n",
    "\n",
    "```cfg\n",
    "[options]\n",
    "package_data =\n",
    "    * = *.txt  # * Applies to all packages\n",
    "    package.subpackage = *.dat \n",
    "```\n",
    "\n",
    "See [Data Files Support](https://setuptools.pypa.io/en/latest/userguide/datafiles.html) documentation."
   ]
  },
  {
   "cell_type": "markdown",
   "metadata": {
    "slideshow": {
     "slide_type": "slide"
    }
   },
   "source": [
    "### Alternative package folder\n",
    "\n",
    "Change the folder storing package source:\n",
    "```\n",
    "project/\n",
    "  ...\n",
    "  src/\n",
    "    package/\n",
    "      __init__.py\n",
    "      ...\n",
    "```\n",
    "\n",
    "`setup.cfg`:\n",
    "```cfg\n",
    "[options]\n",
    "package_dir=\n",
    "    =src\n",
    "```"
   ]
  },
  {
   "cell_type": "markdown",
   "metadata": {
    "slideshow": {
     "slide_type": "slide"
    }
   },
   "source": [
    "### `setup.cfg` vs. `setup.py`\n",
    "\n",
    "`setup.cfg`:\n",
    "```cfg\n",
    "[metadata]\n",
    "name = package\n",
    "version = 0.0.1\n",
    "\n",
    "[options]\n",
    "packages = find:\n",
    "```\n",
    "is equivalent to `setup.py`:\n",
    "```python\n",
    "import setuptools\n",
    "\n",
    "setuptools.setup(\n",
    "    name=\"package\",\n",
    "    version=\"0.0.1\",\n",
    "    packages=setuptools.find_packages(),\n",
    ")\n",
    "```\n",
    "\n",
    "As of today, `setup.cfg` is the recommended way, but `setup.py` is fully working."
   ]
  },
  {
   "cell_type": "markdown",
   "metadata": {
    "slideshow": {
     "slide_type": "slide"
    }
   },
   "source": [
    "### Compiled extensions\n",
    "\n",
    "It is possible to compile modules written in C, C++, Cython as part of the build process.\n",
    "\n",
    "```python\n",
    "from setuptools.extension import Extension\n",
    "\n",
    "setup(\n",
    "    ext_modules=[\n",
    "        Extension('package.cmodule', ['package/cmodule.c'])],\n",
    "        Extension('package.cythonmodule', ['package/cmodule.pyx'])\n",
    "    ],\n",
    ")\n",
    "```\n",
    "\n",
    "This adds the requirement of having the proper compiler available and put a lot more constraint on packaging and distribution (e.g., one wheel per operating system and per architecture built with a specific environment)."
   ]
  },
  {
   "cell_type": "markdown",
   "metadata": {
    "slideshow": {
     "slide_type": "slide"
    }
   },
   "source": [
    "### A word on automated deployment\n",
    "\n",
    "It is possible to automate the release process with \"continous integration\" services:\n",
    "\n",
    "- Ease version number handling and git tag: [bump2version](https://pypi.org/project/bump2version/)\n",
    "- Ease generation of compiled wheels: [cibuildwheel](https://cibuildwheel.readthedocs.io/en/stable/)\n",
    "- Possible to set continuous integration service to publish release on pypi.org (using a token from pypi): [Example here](https://github.com/silx-kit/h5grove/blob/f44bc762ebcf02e1db2e51e442552c469f95f586/.github/workflows/release.yml#L39-L46)"
   ]
  },
  {
   "cell_type": "markdown",
   "metadata": {
    "slideshow": {
     "slide_type": "slide"
    }
   },
   "source": [
    "---"
   ]
  },
  {
   "cell_type": "markdown",
   "metadata": {
    "slideshow": {
     "slide_type": "slide"
    }
   },
   "source": [
    "## 7. Some notes on python packaging"
   ]
  },
  {
   "cell_type": "markdown",
   "metadata": {
    "slideshow": {
     "slide_type": "slide"
    }
   },
   "source": [
    "Python packaging has gone a long way.\n",
    "\n",
    "![](xkcd_standards.png)\n",
    "\n",
    "setuptools - distutils - numpy.distutils - hatch - flit - pdm - poetry - ... conda\n"
   ]
  },
  {
   "cell_type": "markdown",
   "metadata": {
    "slideshow": {
     "slide_type": "slide"
    }
   },
   "source": [
    "Before: \n",
    "  - a handful packaging tools (setuptools/easy_install and (numpy-)distutil)\n",
    "  - The setup procedure was **specified programmatically** (via `setup.py`)\n",
    "  - Complicated/cumbersome calls to setup tool API => copypaste from other project or stackoverflow\n",
    "  - Messy: if one part of the packaging tool changes, then everything changes\n",
    "\n",
    "Now:\n",
    "  - (Too) many packaging tools\n",
    "  - The setup procedure is **specified declaratively** (via a configuration file).\n",
    "    - \"\"\"standard\"\"\": `pyproject.toml` (PEP 518) + `MANIFEST.in`\n",
    "    - Dedicated: setup.cfg (setuptools), meson.build (meson-python), ...\n",
    "  - Simpler - \"make the easy things easy\"\n",
    "  - Hopefully conceptually cleaner (PEP 518 and 517). User interface and actual build backend are decoupled, so can be changed with limited impact\n"
   ]
  },
  {
   "cell_type": "markdown",
   "metadata": {
    "slideshow": {
     "slide_type": "slide"
    }
   },
   "source": [
    "The **build frontend** is a tool exposed to user (via command-line interface) helping to build ( example: `pip wheel .`).  \n",
    "It calls the actual building code, \"the build backend\", under the hood.  \n",
    "Up to \"recently\", frontend and backend were usually part of the same part codebase.  \n",
    "PEP 517 specifies how the two can be decoupled.\n",
    "\n",
    "The **build backend** is the code that does the actual package build (example: `setuptools.build_meta`)."
   ]
  },
  {
   "cell_type": "markdown",
   "metadata": {
    "slideshow": {
     "slide_type": "slide"
    }
   },
   "source": [
    "### Wheels: [PEP427](https://www.python.org/dev/peps/pep-0427/)\n",
    "\n",
    "\n",
    "Wheels are the current standard of Python distribution through [pypi.org](https://pypi.org/).\n",
    "\n",
    "#### Advantages\n",
    "\n",
    "1. Avoids arbitrary code execution for installation (no `setup.py` executed).\n",
    "1. Does not require a compiler on the user side for binary extensions.\n",
    "1. Faster installation, especially for binary extensions.\n",
    "1. Creates `*.pyc` files at installation, matching the Python interpreter used.\n",
    "1. More consistent installs across platforms and machines.\n",
    "\n",
    "Wheels provide binary packages and a decent installer (`pip`).\n",
    "It is a very convenient way to install up-to-date versions."
   ]
  },
  {
   "cell_type": "markdown",
   "metadata": {
    "slideshow": {
     "slide_type": "slide"
    }
   },
   "source": [
    "#### Pitfalls\n",
    "\n",
    "- For compiled extension, a specific compilation environment is required (e.g., [manylinux](https://github.com/pypa/manylinux) docker under Linux). See [Building binary extensions doc](https://packaging.python.org/guides/packaging-binary-extensions/#building-binary-extensions)).\n",
    "- External shared library needs to be incorporated in the wheel.\n",
    "  You can use utility software to check against which libraries your package is linked :\n",
    "\n",
    "  - macOS: [delocate](https://github.com/matthew-brett/delocate)\n",
    "  - Windows: [depends](http://www.dependencywalker.com/)\n",
    "  - Linux: ldd, [auditwheel](https://github.com/pypa/auditwheel)"
   ]
  },
  {
   "cell_type": "markdown",
   "metadata": {
    "slideshow": {
     "slide_type": "slide"
    }
   },
   "source": [
    "### Debian/Ubuntu packages\n",
    "\n",
    "Useful tools to create Debian packages from Python packages:\n",
    "\n",
    "- [stdeb](https://pypi.python.org/pypi/stdeb/): Takes a source Python project as input.\n",
    "- [wheel2deb](https://pypi.org/project/wheel2deb/): Takes wheels as input.\n",
    "\n",
    "Might need to edit generated Debian packaging configuration to change dependencies."
   ]
  },
  {
   "cell_type": "markdown",
   "metadata": {
    "slideshow": {
     "slide_type": "slide"
    }
   },
   "source": [
    "### Fat binaries\n",
    "\n",
    "Standalone self-contained applications or installers.\n",
    "\n",
    "- Include Python interpreter and all dependencies.\n",
    "- Fits Windows and macOS application distribution, as unlike Linux they lack a dependency management tool.\n",
    "\n",
    "Beware:\n",
    "\n",
    "- Fat binaries are fat (~150 Mb for projects involving GUIs).\n",
    "- You are redistributing many other people's work, so take care about licenses."
   ]
  },
  {
   "cell_type": "markdown",
   "metadata": {
    "slideshow": {
     "slide_type": "slide"
    }
   },
   "source": [
    "#### Freezing\n",
    "\n",
    "There is a number of tools to 'freeze' a Python application for distribution from an installation on a computer.\n",
    "\n",
    "Principle:\n",
    "\n",
    "- Analyze a script to find its dependencies (i.e., its imports).\n",
    "- Collect all dependencies and python interpreter in a directory.\n",
    "- Add a launcher and eventually bundle everything in a single file or installer."
   ]
  },
  {
   "cell_type": "markdown",
   "metadata": {
    "slideshow": {
     "slide_type": "slide"
    }
   },
   "source": [
    "#### Freezing issues\n",
    "\n",
    "- Those tools relies on rules specific to each package (`matplotlib`, `numpy`) which needs to be updated when packages evolve.\n",
    "- Analysis can miss some hidden imports.\n",
    "- All runtime dependencies must be included (including external libraries wrapped by Python packages).\n",
    "- Data files cannot be guessed and need to be explicitly added.\n",
    "\n",
    "You must make sure it is stand-alone and includes everything required.\n",
    "Test the result on a different computer than the one used for packaging."
   ]
  },
  {
   "cell_type": "markdown",
   "metadata": {
    "slideshow": {
     "slide_type": "slide"
    }
   },
   "source": [
    "#### Tools\n",
    "\n",
    "[PyInstaller](http://www.pyinstaller.org/): Cross-platform\n",
    "\n",
    "But also\n",
    "[cx_Freeze](http://cx-freeze.readthedocs.org/) (cross-platform),\n",
    "[py2app](https://pythonhosted.org/py2app/) (macOS),\n",
    "[pynsist](https://pypi.python.org/pypi/pynsist) (Windows),\n",
    "[py2exe](https://pypi.python.org/pypi/py2exe/) (Windows),\n",
    "[pex](https://github.com/pantsbuild/pex) (Linux, macOS)\n",
    "\n",
    "On Windows, you can create an installer with a tool such as [NSIS](http://nsis.sourceforge.net/)."
   ]
  }
 ],
 "metadata": {
  "celltoolbar": "Slideshow",
  "kernelspec": {
   "display_name": "Python 3 (ipykernel)",
   "language": "python",
   "name": "python3"
  },
  "language_info": {
   "codemirror_mode": {
    "name": "ipython",
    "version": 3
   },
   "file_extension": ".py",
   "mimetype": "text/x-python",
   "name": "python",
   "nbconvert_exporter": "python",
   "pygments_lexer": "ipython3",
   "version": "3.9.2"
  },
  "toc": {
   "base_numbering": 1,
   "nav_menu": {},
   "number_sections": true,
   "sideBar": true,
   "skip_h1_title": true,
   "title_cell": "Table of Contents",
   "title_sidebar": "Contents",
   "toc_cell": false,
   "toc_position": {},
   "toc_section_display": true,
   "toc_window_display": false
  },
  "varInspector": {
   "cols": {
    "lenName": 16,
    "lenType": 16,
    "lenVar": 40
   },
   "kernels_config": {
    "python": {
     "delete_cmd_postfix": "",
     "delete_cmd_prefix": "del ",
     "library": "var_list.py",
     "varRefreshCmd": "print(var_dic_list())"
    },
    "r": {
     "delete_cmd_postfix": ") ",
     "delete_cmd_prefix": "rm(",
     "library": "var_list.r",
     "varRefreshCmd": "cat(var_dic_list()) "
    }
   },
   "types_to_exclude": [
    "module",
    "function",
    "builtin_function_or_method",
    "instance",
    "_Feature"
   ],
   "window_display": false
  }
 },
 "nbformat": 4,
 "nbformat_minor": 2
}
