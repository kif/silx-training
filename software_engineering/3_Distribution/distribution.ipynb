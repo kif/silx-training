{
 "cells": [
  {
   "cell_type": "markdown",
   "metadata": {
    "slideshow": {
     "slide_type": "slide"
    }
   },
   "source": [
    "# Distribute Python software"
   ]
  },
  {
   "cell_type": "markdown",
   "metadata": {
    "slideshow": {
     "slide_type": "subslide"
    }
   },
   "source": [
    "## Introduction\n",
    "\n",
    "### Objectives\n",
    "\n",
    "Build, install, package and distribute Python code\n",
    "\n",
    "References:\n",
    "\n",
    "* https://setuptools.readthedocs.io/en/latest/\n",
    "* https://packaging.python.org/tutorials/packaging-projects/\n",
    "* https://github.com/pypa/sampleproject"
   ]
  },
  {
   "cell_type": "markdown",
   "metadata": {},
   "source": [
    "### Packaging\n",
    "\n",
    "Packages are the best way to distribute a library, regardless of the operating system.\n",
    "For (graphical) applications, \"fat-binaries\" may be a better choice, especially under Windows and macOS.\n",
    "\n",
    "There are different of packages to be distinguished:\n",
    "\n",
    "* Python specific packages: Wheels\n",
    "* Operating system packages: RPM, DEB, MSI, ...\n",
    "* Conda packages: Not discussed today\n",
    "\n",
    "Advantages of packaging tools:\n",
    "\n",
    "* Keeps track of installed packages\n",
    "* Management of dependencies\n",
    "* Provides access to a package repository."
   ]
  },
  {
   "cell_type": "markdown",
   "metadata": {
    "slideshow": {
     "slide_type": "subslide"
    }
   },
   "source": [
    "### Outline\n",
    "\n",
    "1. Prepare for packaging\n",
    "   1. Quick start: The bare minimum\n",
    "   1. Enhance project description\n",
    "1. Distribution\n",
    "1. Advanced features\n",
    "1. A word on automated deployment\n",
    "1. A word on packages"
   ]
  },
  {
   "cell_type": "markdown",
   "metadata": {
    "slideshow": {
     "slide_type": "slide"
    }
   },
   "source": [
    "## Prepare for packaging\n",
    "\n",
    "Python packaging has a history and legacy.\n",
    "\n",
    "We present only the most common solution as of today: [setuptools](https://setuptools.pypa.io/en/latest/) and [pip](https://pypi.org/project/pip/) (the **p**ackage **i**nstaller for **P**ython)\n",
    "\n",
    "Note: There are others: [flit](https://pypi.org/project/flit/), [maturin](https://pypi.org/project/maturin/), [poetry](https://python-poetry.org/docs/)."
   ]
  },
  {
   "cell_type": "markdown",
   "metadata": {
    "slideshow": {
     "slide_type": "slide"
    }
   },
   "source": [
    "### First, make a package\n",
    "\n",
    "Create a directory with the name of your package and a `__init__.py` file in it.\n",
    "\n",
    "```\n",
    "project/\n",
    "    package/\n",
    "        __init__.py\n",
    "        module.py\n",
    "        subpackage/\n",
    "            __init__.py\n",
    "        ...\n",
    "```\n",
    "\n",
    "Often the *project* and the *package* names are the same.\n",
    "\n",
    "So that, from the `project` directory:\n",
    "\n",
    "```python\n",
    ">>> import package\n",
    ">>> from package import module\n",
    ">>> import package.subpackage\n",
    "```"
   ]
  },
  {
   "cell_type": "markdown",
   "metadata": {
    "slideshow": {
     "slide_type": "slide"
    }
   },
   "source": [
    "### Quick start\n",
    "\n",
    "[setuptools](https://setuptools.pypa.io/en/latest/) and [pip](https://pypi.org/project/pip/) rely on:\n",
    "- 2 configuration files: `pyproject.toml` and `setup.cfg`\n",
    "- a `setup.py` script (optional)"
   ]
  },
  {
   "cell_type": "markdown",
   "metadata": {
    "slideshow": {
     "slide_type": "subslide"
    }
   },
   "source": [
    "#### pyproject.toml\n",
    "\n",
    "`pyproject.toml` describes project's build dependencies ([PEP 518](https://www.python.org/dev/peps/pep-0518/)).\n",
    "\n",
    "Sample `pyproject.toml` for using [setuptools](https://setuptools.pypa.io/en/latest/):\n",
    "```toml\n",
    "[build-system]\n",
    "requires = [\"setuptools\", \"wheel\"]\n",
    "build-backend = \"setuptools.build_meta\"\n",
    "```"
   ]
  },
  {
   "cell_type": "markdown",
   "metadata": {
    "slideshow": {
     "slide_type": "subslide"
    }
   },
   "source": [
    "#### setup.cfg\n",
    "\n",
    "`setup.cfg` describes the project metadata and build configuration for [setuptools](https://setuptools.pypa.io/en/latest/).\n",
    "The bare minimum:\n",
    "```cfg\n",
    "[metadata]\n",
    "name = package\n",
    "version = 0.0.1\n",
    "\n",
    "[options]\n",
    "packages = find:  # Automatic package discovery\n",
    "# Or a list: packages = package, package.subpackage\n",
    "```"
   ]
  },
  {
   "cell_type": "markdown",
   "metadata": {
    "slideshow": {
     "slide_type": "subslide"
    }
   },
   "source": [
    "For a single `module.py` file project:\n",
    "\n",
    "```cfg\n",
    "[metadata]\n",
    "name = package\n",
    "version = 0.0.1\n",
    "\n",
    "[options]\n",
    "py_modules = module\n",
    "```"
   ]
  },
  {
   "cell_type": "markdown",
   "metadata": {
    "slideshow": {
     "slide_type": "subslide"
    }
   },
   "source": [
    "#### Version number\n",
    "\n",
    "Stay compatible with Python's \"Version Identification and Dependency Specification\" [PEP 440](https://www.python.org/dev/peps/pep-0440/#version-scheme):\n",
    "\n",
    "Some common versioning:\n",
    "- `major.minor[.micro][{a|b|rc}N]`: 1.0, 1.1.1b1\n",
    "- `year.month`: 2021.10"
   ]
  },
  {
   "cell_type": "markdown",
   "metadata": {
    "slideshow": {
     "slide_type": "subslide"
    }
   },
   "source": [
    "#### setup.py\n",
    "\n",
    "It used to be the central place for building and packaging Python projects (and it still is for many projects), but it is now optional.\n",
    "\n",
    "Useful for backward compatibility:\n",
    "```python\n",
    "# coding: utf-8\n",
    "import setuptools\n",
    "\n",
    "if __name__ == \"__main__\":\n",
    "    setuptools.setup()\n",
    "```\n",
    "\n",
    "It is also the place for defining specific commands and C extensions."
   ]
  },
  {
   "cell_type": "markdown",
   "metadata": {
    "slideshow": {
     "slide_type": "subslide"
    }
   },
   "source": [
    "#### Install from source\n",
    "\n",
    "- Install your package:\n",
    "  ```\n",
    "  pip install . [--user]\n",
    "  ```\n",
    "- Install in editable mode (aka., develop mode):\n",
    "  ```\n",
    "  pip install -e .\n",
    "  ```\n",
    "- Previous way:\n",
    "  ```\n",
    "  python setup.py install\n",
    "  ```"
   ]
  },
  {
   "cell_type": "markdown",
   "metadata": {
    "slideshow": {
     "slide_type": "subslide"
    }
   },
   "source": [
    "#### Build packages\n",
    "\n",
    "With the [build](https://pypi.org/project/build/) package (`pip install build`):\n",
    "```\n",
    "python -m build\n",
    "```\n",
    "generates a source tarball and a wheel (`*.whl`) files in `dist/`:\n",
    "- Source tarball needs to be built before installation\n",
    "- A wheel file (`.whl`) is a zip file containing an already built Python package\n",
    "  \n",
    "Former way (`pip install setuptools wheel`):\n",
    "```\n",
    "python setup.py sdist bdist_wheel\n",
    "```"
   ]
  },
  {
   "cell_type": "markdown",
   "metadata": {
    "slideshow": {
     "slide_type": "slide"
    }
   },
   "source": [
    "### Additional information files\n",
    "\n",
    "Good practice (almost mandatory for distribution):\n",
    "\n",
    "- `LICENSE`: Contract for using the package\n",
    "- `README`: Abstract"
   ]
  },
  {
   "cell_type": "markdown",
   "metadata": {
    "slideshow": {
     "slide_type": "slide"
    }
   },
   "source": [
    "### Project's description\n",
    "\n",
    "More information about the project can be added to `setup.cfg` section:\n",
    "\n",
    "```cfg\n",
    "[metadata]\n",
    "```"
   ]
  },
  {
   "cell_type": "markdown",
   "metadata": {
    "slideshow": {
     "slide_type": "subslide"
    }
   },
   "source": [
    "#### Version\n",
    "\n",
    "It is simpler to store the version number at a unique place:\n",
    "- `package/__init__.py`:\n",
    "  ```python\n",
    "  ...\n",
    "  version = \"0.0.1\"\n",
    "  ...\n",
    "    ```\n",
    "- `setup.cfg`:\n",
    "  ```cfg\n",
    "  [metadata]\n",
    "  name = package\n",
    "  version = attr: package.version  # Instead of duplicated version number\n",
    "  ```"
   ]
  },
  {
   "cell_type": "markdown",
   "metadata": {
    "slideshow": {
     "slide_type": "subslide"
    }
   },
   "source": [
    "#### More metadata\n",
    "`setup.cfg`:\n",
    "```cfg\n",
    "[metadata]\n",
    "...\n",
    "# Optional\n",
    "author = Someone\n",
    "author_email = someone@somewhere.org\n",
    "description = Sample project for distribution training\n",
    "license = MIT\n",
    "url = https://github.com/silx-kit/silx-training/\n",
    "project_urls = \n",
    "\tBug Tracker = https://github.com/silx-kit/silx-training/issues\n",
    "\n",
    "```"
   ]
  },
  {
   "cell_type": "markdown",
   "metadata": {
    "slideshow": {
     "slide_type": "subslide"
    }
   },
   "source": [
    "#### Long description\n",
    "\n",
    "Reuse project's \"README\" in project metadata to avoid duplication:\n",
    "\n",
    "- `setup.cfg`:\n",
    "  ```cfg\n",
    "  [metadata]\n",
    "  ...\n",
    "  long_description = file: README.md\n",
    "  long_description_content_type = text/markdown\n",
    "  ```\n",
    "- `README.md`:\n",
    "  ```\n",
    "  This is a very nice project.\n",
    "  \n",
    "  It does a lot of useful things.\n",
    "  ```\n",
    "\n",
    "Note: \"README\" and `*.md` discussed later in the documentation section."
   ]
  },
  {
   "cell_type": "markdown",
   "metadata": {
    "slideshow": {
     "slide_type": "subslide"
    }
   },
   "source": [
    "#### Classifiers\n",
    "\n",
    "```cfg\n",
    "[metadata]\n",
    "...\n",
    "classifiers =\n",
    "    Development Status :: 3 - Alpha\n",
    "    Intended Audience :: Education\n",
    "    License :: OSI Approved :: MIT License\n",
    "    Operating System :: MacOS\n",
    "    Operating System :: Microsoft :: Windows\n",
    "    Operating System :: POSIX\n",
    "    Programming Language :: Python :: 3\n",
    "```\n",
    "\n",
    "Available classifiers: https://pypi.org/classifiers/"
   ]
  },
  {
   "cell_type": "markdown",
   "metadata": {
    "slideshow": {
     "slide_type": "slide"
    }
   },
   "source": [
    "### Build configuration \n",
    "\n",
    "Build configuration is defined both in the `pyproject.toml` and `setup.cfg` section:\n",
    "\n",
    "```cfg\n",
    "[options]\n",
    "packages = find:\n",
    "```"
   ]
  },
  {
   "cell_type": "markdown",
   "metadata": {
    "slideshow": {
     "slide_type": "subslide"
    }
   },
   "source": [
    "#### Dependencies\n",
    "\n",
    "Dependencies allow the user and installation system to require other packages.\n",
    "There is 2 kinds of dependencies:\n",
    "\n",
    "- build dependencies in `pyproject.toml`:\n",
    "  ```toml\n",
    "  [build-system]\n",
    "  requires = [\"setuptools\", \"wheel\", \"cython\"]\n",
    "  ```\n",
    "- runtime dependencies in `setup.cfg`\n",
    "  ```cfg\n",
    "  [options]\n",
    "  packages = find:\n",
    "  python_requires = >=3.6\n",
    "  install_requires = \n",
    "\tnumpy\n",
    "    h5py\n",
    "  ```\n",
    "\n",
    "Dependencies are propagated to binary packages (wheels, Debian...)\n",
    "\n",
    "Dependency syntax: [PEP508](https://www.python.org/dev/peps/pep-0508/)"
   ]
  },
  {
   "cell_type": "markdown",
   "metadata": {
    "slideshow": {
     "slide_type": "subslide"
    }
   },
   "source": [
    "#### Optional requirements\n",
    "\n",
    "`setup.cfg`'s `[options.extras_require]` section allows to define optional dependencies:\n",
    "\n",
    "```cfg\n",
    "[options.extras_require]\n",
    "dev =\n",
    "    pytest\n",
    "\tsphinx\n",
    "```\n",
    "\n",
    "It is then possible to install those extra dependencies with:\n",
    "\n",
    "```\n",
    "pip install package[dev]\n",
    "```"
   ]
  },
  {
   "cell_type": "markdown",
   "metadata": {
    "slideshow": {
     "slide_type": "subslide"
    }
   },
   "source": [
    "#### `setup.cfg` resources\n",
    "\n",
    "- [[metadata] fields](https://setuptools.pypa.io/en/latest/userguide/declarative_config.html#metadata)\n",
    "- [[options] fields](https://setuptools.pypa.io/en/latest/userguide/declarative_config.html#options)\n",
    "- [List of keywords](https://setuptools.pypa.io/en/latest/references/keywords.html)"
   ]
  },
  {
   "cell_type": "markdown",
   "metadata": {
    "slideshow": {
     "slide_type": "slide"
    }
   },
   "source": [
    "## Distribution\n",
    "\n",
    "The central registration point is the Python Package Index [PyPI](https://pypi.org/).\n",
    "\n",
    "![](PyPI.png)\n"
   ]
  },
  {
   "cell_type": "markdown",
   "metadata": {
    "slideshow": {
     "slide_type": "subslide"
    }
   },
   "source": [
    "Use the `twine` package to publish to [pypi.org](https://pypi.org/account/register/):\n",
    "\n",
    "- First, create an account on [pypi.org](https://pypi.org/account/register/) (or the test instance: [test.pypi.org](https://test.pypi.org/account/register/)) \n",
    "- Generate the packages you want to provide (check the version number, and tag it in git):\n",
    "\n",
    "  `python -m build  # or python setup.py sdist bdist_wheel`\n",
    "- Upload the project with `twine` (`pip install twine`):\n",
    "\n",
    "  `twine upload [--sign] dist/*`\n",
    "\n",
    "  or for [test.pypi.org](https://test.pypi.org): `twine upload [--sign] --repository-url https://test.pypi.org/legacy/ dist/*`\n",
    "- Install from [pypi.org](https://pypi.org/): `pip install package`\n",
    "\n",
    "  or for [test.pypi.org](https://test.pypi.org): `pip install --index-url https://test.pypi.org/simple/ --extra-index-url https://pypi.org/simple package`"
   ]
  },
  {
   "cell_type": "markdown",
   "metadata": {
    "slideshow": {
     "slide_type": "slide"
    }
   },
   "source": [
    "## Advanced features"
   ]
  },
  {
   "cell_type": "markdown",
   "metadata": {
    "slideshow": {
     "slide_type": "subslide"
    }
   },
   "source": [
    "### `requirements.txt` vs `setup.cfg`\n",
    "\n",
    "It may look contradictory to define dependencies at different places but it is not https://packaging.python.org/discussions/install-requires-vs-requirements/.\n",
    "\n",
    "* `setup.cfg` provides abstract minimal dependency requirements (e.g., `numpy`)\n",
    "* `requirements.txt` provides concrete implementation\n",
    "  (with hard coded versions and URL to download wheels from).\n",
    "  This provides a way to specify an environment: `numpy==1.12.0`\n",
    "\n",
    "  Usage: `pip install -r requirements.txt`"
   ]
  },
  {
   "cell_type": "markdown",
   "metadata": {
    "slideshow": {
     "slide_type": "subslide"
    }
   },
   "source": [
    "### Entry points\n",
    "\n",
    "Allows to define functions that are available as commands once installed.\n",
    "It provides a cross-platform automatic script creation mechanism (i.e., produces .exe files on Windows and scripts on other OS).\n",
    "\n",
    "`setup.cfg`:\n",
    "```cfg\n",
    "[options.entry_points]\n",
    "console_scripts =\n",
    "    package-script = package:main\n",
    "gui_scripts =\n",
    "    package-gui = package.gui:main\n",
    "```\n",
    "\n",
    "Will create a `package-script` and a `package-gui` command-line scripts during installation."
   ]
  },
  {
   "cell_type": "markdown",
   "metadata": {
    "slideshow": {
     "slide_type": "subslide"
    }
   },
   "source": [
    "### `MANIFEST.in`: Source package content\n",
    "\n",
    "A default set of files (`*.py`, `LICENSE`, `README.md`) is included in source packages produced by:\n",
    "```\n",
    "python -m build  # or python setup.py sdist\n",
    "```\n",
    "\n",
    "It is possible to include additional files by declaring them in a `MANIFEST.in` file at the project's top-level:\n",
    "\n",
    "```\n",
    "include CONTRIBUTE.txt\n",
    "recursive-include package *.dat\n",
    "graft example\n",
    "```\n",
    "\n",
    "See [documentation](https://packaging.python.org/guides/using-manifest-in/)"
   ]
  },
  {
   "cell_type": "markdown",
   "metadata": {
    "slideshow": {
     "slide_type": "subslide"
    }
   },
   "source": [
    "### Additional resources\n",
    "\n",
    "Install non-Python files within the package (e.g., reference data).\n",
    "\n",
    "#### Automatic\n",
    "\n",
    "Add needed files to `MANIFEST.in` and add the following to `setup.cfg`:\n",
    "```cfg\n",
    "[options]\n",
    "include_package_data = True\n",
    "```\n",
    "\n",
    "#### Manual\n",
    "\n",
    "```cfg\n",
    "[options]\n",
    "package_data =\n",
    "    * = *.dat  # * Applies to all packages\n",
    "    package.subpackage = *.dat \n",
    "```\n",
    "\n",
    "See [Data Files Support](https://setuptools.pypa.io/en/latest/userguide/datafiles.html) documentation."
   ]
  },
  {
   "cell_type": "markdown",
   "metadata": {
    "slideshow": {
     "slide_type": "subslide"
    }
   },
   "source": [
    "### Alternative package folder\n",
    "\n",
    "Change the folder storing package source:\n",
    "```\n",
    "project/\n",
    "  ...\n",
    "  src/\n",
    "    package/\n",
    "      __init__.py\n",
    "      ...\n",
    "```\n",
    "\n",
    "`setup.cfg`:\n",
    "```cfg\n",
    "[options]\n",
    "package_dir=\n",
    "    =src\n",
    "```"
   ]
  },
  {
   "cell_type": "markdown",
   "metadata": {
    "slideshow": {
     "slide_type": "subslide"
    }
   },
   "source": [
    "### `setup.cfg` vs. `setup.py`\n",
    "\n",
    "`setup.cfg`:\n",
    "```cfg\n",
    "[metadata]\n",
    "name = package\n",
    "version = 0.0.1\n",
    "\n",
    "[options]\n",
    "packages = find:\n",
    "```\n",
    "is equivalent to `setup.py`:\n",
    "```python\n",
    "import setuptools\n",
    "\n",
    "setuptools.setup(\n",
    "    name=\"package\",\n",
    "    version=\"0.0.1\",\n",
    "    packages=setuptools.find_packages(),\n",
    ")\n",
    "```\n",
    "\n",
    "As of today, `setup.cfg` is the recommended way, but `setup.py` is fully working."
   ]
  },
  {
   "cell_type": "markdown",
   "metadata": {
    "slideshow": {
     "slide_type": "subslide"
    }
   },
   "source": [
    "### Compiled extensions\n",
    "\n",
    "It is possible to compile modules written in C, C++, Cython as part of the build process.\n",
    "\n",
    "```python\n",
    "from setuptools.extension import Extension\n",
    "\n",
    "setup(\n",
    "    ext_modules=[\n",
    "        Extension('package.cmodule', ['package/cmodule.c'])],\n",
    "        Extension('package.cythonmodule', ['package/cmodule.pyx'])\n",
    "    ],\n",
    ")\n",
    "```\n",
    "\n",
    "This adds the requirement of having the proper compiler available and put a lot more constraint on packaging and distribution (e.g., one wheel per operating system and per architecture built with a specific environment)."
   ]
  },
  {
   "cell_type": "markdown",
   "metadata": {
    "slideshow": {
     "slide_type": "subslide"
    }
   },
   "source": [
    "### Advanced setup.py: numpy.distutils\n",
    "\n",
    "[numpy.distutils](https://docs.scipy.org/doc/numpy/reference/distutils.html) provides a way to use a hierarchy of `setup.py`:\n",
    "\n",
    "```\n",
    "project/\n",
    "  setup.py  -> Effective setup.py\n",
    "  package/\n",
    "    __init__.py\n",
    "    setup.py      -> Handles main package build\n",
    "    subpackage/\n",
    "      __init__.py\n",
    "      setup.py    -> Handles subpackage build\n",
    "```\n",
    "\n",
    "- Pros: Each sub-package is embedding its own build.\n",
    "- Cons: `numpy` becomes a build dependency.\n",
    "\n",
    "This is based on the [Configuration class](https://docs.scipy.org/doc/numpy/reference/distutils.html#numpy.distutils.misc_util.Configuration)."
   ]
  },
  {
   "cell_type": "markdown",
   "metadata": {
    "slideshow": {
     "slide_type": "slide"
    }
   },
   "source": [
    "## A word on automated deployment\n",
    "\n",
    "It is possible to automate the release process with \"continous integration\" services:\n",
    "\n",
    "- Ease version number handling and git tag: [bump2version](https://pypi.org/project/bump2version/)\n",
    "- Ease generation of compiled wheels: [cibuildwheel](https://cibuildwheel.readthedocs.io/en/stable/)\n",
    "- Possible to set continuous integration service to publish release on pypi.org (using a token from pypi): [Example here](https://github.com/silx-kit/h5grove/blob/f44bc762ebcf02e1db2e51e442552c469f95f586/.github/workflows/release.yml#L39-L46)"
   ]
  },
  {
   "cell_type": "markdown",
   "metadata": {
    "slideshow": {
     "slide_type": "slide"
    }
   },
   "source": [
    "## A word on packages"
   ]
  },
  {
   "cell_type": "markdown",
   "metadata": {
    "slideshow": {
     "slide_type": "subslide"
    }
   },
   "source": [
    "### Wheels: [PEP427](https://www.python.org/dev/peps/pep-0427/)\n",
    "\n",
    "\n",
    "Wheels are the current standard of Python distribution through [pypi.org](https://pypi.org/).\n",
    "\n",
    "#### Advantages\n",
    "\n",
    "1. Avoids arbitrary code execution for installation (no `setup.py` executed).\n",
    "1. Does not require a compiler on the user side for binary extensions.\n",
    "1. Faster installation, especially for binary extensions.\n",
    "1. Creates `*.pyc` files at installation, matching the Python interpreter used.\n",
    "1. More consistent installs across platforms and machines.\n",
    "\n",
    "Wheels provide binary packages and a decent installer (`pip`).\n",
    "It is a very convenient way to install up-to-date versions."
   ]
  },
  {
   "cell_type": "markdown",
   "metadata": {
    "slideshow": {
     "slide_type": "subslide"
    }
   },
   "source": [
    "#### Pitfalls\n",
    "\n",
    "- For compiled extension, a specific compilation environment is required (e.g., [manylinux](https://github.com/pypa/manylinux) docker under Linux). See [Building binary extensions doc](https://packaging.python.org/guides/packaging-binary-extensions/#building-binary-extensions)).\n",
    "- External shared library needs to be incorporated in the wheel.\n",
    "  You can use utility software to check against which libraries your package is linked :\n",
    "\n",
    "  - macOS: [delocate](https://github.com/matthew-brett/delocate)\n",
    "  - Windows: [depends](http://www.dependencywalker.com/)\n",
    "  - Linux: ldd, [auditwheel](https://github.com/pypa/auditwheel)"
   ]
  },
  {
   "cell_type": "markdown",
   "metadata": {
    "slideshow": {
     "slide_type": "subslide"
    }
   },
   "source": [
    "### Debian/Ubuntu packages\n",
    "\n",
    "Useful tools to create Debian packages from Python packages:\n",
    "\n",
    "- [stdeb](https://pypi.python.org/pypi/stdeb/): Takes a source Python project as input.\n",
    "- [wheel2deb](https://pypi.org/project/wheel2deb/): Takes wheels as input.\n",
    "\n",
    "Might need to edit generated Debian packaging configuration to change dependencies."
   ]
  },
  {
   "cell_type": "markdown",
   "metadata": {
    "slideshow": {
     "slide_type": "slide"
    }
   },
   "source": [
    "### Fat binaries\n",
    "\n",
    "Standalone self-contained applications or installers.\n",
    "\n",
    "- Include Python interpreter and all dependencies.\n",
    "- Fits Windows and macOS application distribution, as unlike Linux they lack a dependency management tool.\n",
    "\n",
    "Beware:\n",
    "\n",
    "- Fat binaries are fat (~150 Mb for projects involving GUIs).\n",
    "- You are redistributing many other people's work, so take care about licenses."
   ]
  },
  {
   "cell_type": "markdown",
   "metadata": {
    "slideshow": {
     "slide_type": "subslide"
    }
   },
   "source": [
    "#### Freezing\n",
    "\n",
    "There is a number of tools to 'freeze' a Python application for distribution from an installation on a computer.\n",
    "\n",
    "Principle:\n",
    "\n",
    "- Analyze a script to find its dependencies (i.e., its imports).\n",
    "- Collect all dependencies and python interpreter in a directory.\n",
    "- Add a launcher and eventually bundle everything in a single file or installer."
   ]
  },
  {
   "cell_type": "markdown",
   "metadata": {
    "slideshow": {
     "slide_type": "subslide"
    }
   },
   "source": [
    "#### Freezing issues\n",
    "\n",
    "- Those tools relies on rules specific to each package (`matplotlib`, `numpy`) which needs to be updated when packages evolve.\n",
    "- Analysis can miss some hidden imports.\n",
    "- All runtime dependencies must be included (including external libraries wrapped by Python packages).\n",
    "- Data files cannot be guessed and need to be explicitly added.\n",
    "\n",
    "You must make sure it is stand-alone and includes everything required.\n",
    "Test the result on a different computer than the one used for packaging."
   ]
  },
  {
   "cell_type": "markdown",
   "metadata": {
    "slideshow": {
     "slide_type": "subslide"
    }
   },
   "source": [
    "#### Tools\n",
    "\n",
    "[PyInstaller](http://www.pyinstaller.org/): Cross-platform\n",
    "\n",
    "But also\n",
    "[cx_Freeze](http://cx-freeze.readthedocs.org/) (cross-platform),\n",
    "[py2app](https://pythonhosted.org/py2app/) (macOS),\n",
    "[pynsist](https://pypi.python.org/pypi/pynsist) (Windows),\n",
    "[py2exe](https://pypi.python.org/pypi/py2exe/) (Windows),\n",
    "[pex](https://github.com/pantsbuild/pex) (Linux, macOS)\n",
    "\n",
    "On Windows, you can create an installer with a tool such as [NSIS](http://nsis.sourceforge.net/)."
   ]
  }
 ],
 "metadata": {
  "celltoolbar": "Slideshow",
  "kernelspec": {
   "display_name": "Python 3",
   "language": "python",
   "name": "python3"
  },
  "language_info": {
   "codemirror_mode": {
    "name": "ipython",
    "version": 3
   },
   "file_extension": ".py",
   "mimetype": "text/x-python",
   "name": "python",
   "nbconvert_exporter": "python",
   "pygments_lexer": "ipython3",
   "version": "3.7.3"
  },
  "toc": {
   "base_numbering": 1,
   "nav_menu": {},
   "number_sections": true,
   "sideBar": true,
   "skip_h1_title": true,
   "title_cell": "Table of Contents",
   "title_sidebar": "Contents",
   "toc_cell": false,
   "toc_position": {},
   "toc_section_display": true,
   "toc_window_display": false
  }
 },
 "nbformat": 4,
 "nbformat_minor": 2
}
