{
 "cells": [
  {
   "cell_type": "markdown",
   "metadata": {
    "slideshow": {
     "slide_type": "slide"
    }
   },
   "source": [
    "# Distribute Python software"
   ]
  },
  {
   "cell_type": "markdown",
   "metadata": {
    "slideshow": {
     "slide_type": "subslide"
    }
   },
   "source": [
    "## Objectives\n",
    "\n",
    "Build, install, package and distribute Python code\n",
    "\n",
    "References:\n",
    "\n",
    "* https://packaging.python.org/tutorials/packaging-projects/\n",
    "* https://setuptools.readthedocs.io/en/latest/\n",
    "* https://github.com/pypa/sampleproject"
   ]
  },
  {
   "cell_type": "markdown",
   "metadata": {
    "slideshow": {
     "slide_type": "slide"
    }
   },
   "source": [
    "## Outline\n",
    "\n",
    "1. setup.py and setuptools:\n",
    "   1. The basic\n",
    "   1. Dependencies\n",
    "   1. Metadata and distribution with PyPI\n",
    "1. Additional features\n",
    "   1. Additional resources\n",
    "   1. Entry points\n",
    "   1. Binary extensions\n",
    "   1. numpy.distutils\n",
    "1. A word on packages: Wheels, Debian, Fat binaries"
   ]
  },
  {
   "cell_type": "markdown",
   "metadata": {
    "slideshow": {
     "slide_type": "slide"
    }
   },
   "source": [
    "## First, make a package\n",
    "\n",
    "Create a directory with the name of your package and a `__init__.py` file in it.\n",
    "\n",
    "```\n",
    "project/\n",
    "    package/\n",
    "        __init__.py\n",
    "        module.py\n",
    "        subpackage/\n",
    "            __init__.py\n",
    "        ...\n",
    "```\n",
    "\n",
    "Often the *project* and the *package* names are the same.\n",
    "\n",
    "So that, from the `project` directory:\n",
    "\n",
    "```python\n",
    ">>> import package\n",
    ">>> from package import module\n",
    ">>> import package.subpackage\n",
    "```"
   ]
  },
  {
   "cell_type": "markdown",
   "metadata": {
    "slideshow": {
     "slide_type": "slide"
    }
   },
   "source": [
    "## The core of the distribution: *setup.py*\n",
    "\n",
    "\n",
    "![](setup.svg)\n",
    "\n",
    "As *setup.py* used to be doing to many things, other tools have been added:\n",
    "*pip* (the official Python package installer) and\n",
    "*twine* (for uploading distributions to PyPI)."
   ]
  },
  {
   "cell_type": "markdown",
   "metadata": {
    "slideshow": {
     "slide_type": "subslide"
    }
   },
   "source": [
    "### The core of the distribution: *setup.py*\n",
    "\n",
    "```\n",
    "project/\n",
    "    setup.py\n",
    "    package/\n",
    "        __init__.py\n",
    "```\n",
    "\n",
    "To handle package distribution, *setup.py* relies on the `setuptools` package.\n",
    "\n",
    "The *setup.py* is basically a call to the `setuptools.setup` function providing the description of the Python package:\n",
    "\n",
    "```python\n",
    "# coding: utf-8\n",
    "from setuptools import setup\n",
    "\n",
    "setup(...)\n",
    "```\n",
    "\n",
    "The next slides will present you an incremental way to make from scratch the\n",
    "*setup.py* for your project."
   ]
  },
  {
   "cell_type": "markdown",
   "metadata": {
    "slideshow": {
     "slide_type": "subslide"
    }
   },
   "source": [
    "### *setup.py*: The bare minimum\n",
    "\n",
    "```python\n",
    "\n",
    "from setuptools import setup, find_packages\n",
    "\n",
    "setup(name='package',\n",
    "      version='0.0.1',  # https://www.python.org/dev/peps/pep-0440/\n",
    "      packages=['package', 'package.subpackage'],\n",
    "      # or \n",
    "      # packages=find_packages(exclude=[]),\n",
    "      )\n",
    "```\n",
    "\n",
    "For:\n",
    "```\n",
    "project/\n",
    "    package/\n",
    "        __init__.py\n",
    "        module.py\n",
    "        subpackage/\n",
    "            __init__.py\n",
    "```\n",
    "\n",
    "Note:\n",
    "For a single file project (e.g., `module.py`), use:\n",
    "\n",
    "```python\n",
    "py_modules=[\"module\"] # instead of packages=...\n",
    "```"
   ]
  },
  {
   "cell_type": "markdown",
   "metadata": {
    "slideshow": {
     "slide_type": "subslide"
    }
   },
   "source": [
    "### *setup.py*: The bare minimum\n",
    "\n",
    "Even if some information is still missing, you can already:\n",
    "\n",
    "#### Build your package with\n",
    "\n",
    "```shell\n",
    "python setup.py build\n",
    "```\n",
    "\n",
    "#### Install your package with\n",
    "\n",
    "```shell\n",
    "pip install .\n",
    "# deprecated: python setup.py install\n",
    "```\n",
    "\n",
    "and even:\n",
    "\n",
    "```shell\n",
    "pip install git+https://gitlab.esrf.fr/silx/pypolynom.git\n",
    "```\n",
    "\n",
    "#### Create a source package with\n",
    "\n",
    "```shell\n",
    "python setup.py sdist\n",
    "```\n",
    "\n",
    "#### Create a binary package with:\n",
    "\n",
    "```shell\n",
    "python setup.py bdist_wheel\n",
    "```"
   ]
  },
  {
   "cell_type": "markdown",
   "metadata": {
    "slideshow": {
     "slide_type": "subslide"
    }
   },
   "source": [
    "### Source package content: *MANIFEST.in*\n",
    "\n",
    "A default set of files (\\*.py, README.rst,...) is included in source packages produced by:\n",
    "\n",
    "```\n",
    "python setup.py sdist\n",
    "```\n",
    "\n",
    "It is possible to include additional files by declaring them in a `MANIFEST.in` file at the project's top-level:\n",
    "\n",
    "```\n",
    "include LICENSE\n",
    "include README.rst\n",
    "recursive-include package_name *.pyx\n",
    "```"
   ]
  },
  {
   "cell_type": "markdown",
   "metadata": {
    "slideshow": {
     "slide_type": "subslide"
    }
   },
   "source": [
    "### *setup.py*: Requirements (1/2)\n",
    "\n",
    "Dependencies allow the user and installation system to know other required packages.\n",
    "\n",
    "Those requirements can be build requirements or installation requirements:\n",
    "*install_requires* and *setup_requires*:\n",
    "\n",
    "Describe package dependencies:\n",
    "\n",
    "```python\n",
    "setup(...\n",
    "      python_requires='>=3.4',\n",
    "      setup_requires=['setuptools', 'wheel'],\n",
    "      install_requires=['numpy>=1.8'],\n",
    "     )\n",
    "```\n",
    "\n",
    "Dependencies defined in the *setup.py* are propagated to binary packages (wheels, Debian...)\n",
    "\n",
    "Syntax: [PEP508](https://www.python.org/dev/peps/pep-0508/)"
   ]
  },
  {
   "cell_type": "markdown",
   "metadata": {
    "slideshow": {
     "slide_type": "subslide"
    }
   },
   "source": [
    "### *setup.py*: Requirements (2/2)\n",
    "\n",
    "Optional:\n",
    "The `extras_require` argument allows to define optional dependencies:\n",
    "\n",
    "```python\n",
    "setup(...\n",
    "      extras_require={\n",
    "          'doc': ['sphinx'],\n",
    "      },\n",
    "     )\n",
    "```\n",
    "\n",
    "It is then possible to install those extra dependencies with:\n",
    "\n",
    "```shell\n",
    "pip install package[doc]\n",
    "```"
   ]
  },
  {
   "cell_type": "markdown",
   "metadata": {
    "slideshow": {
     "slide_type": "subslide"
    }
   },
   "source": [
    "### *setup.py* vs *requirement.txt*\n",
    "It may look contradictory to define dependencies at different places but it is not https://packaging.python.org/discussions/install-requires-vs-requirements/.\n",
    "\n",
    "* *setup.py* provides an abstract dependency (e.g., `numpy`)\n",
    "* *requirement.txt* provides concrete implementation (with hard coded\n",
    "  versions and URL to download wheels from).\n",
    "  This is provides a way to specify an environment: `numpy==1.12.0`\n",
    "\n",
    "  Usage: `pip install -r requirements.txt`"
   ]
  },
  {
   "cell_type": "markdown",
   "metadata": {
    "slideshow": {
     "slide_type": "subslide"
    }
   },
   "source": [
    "### *setup.py*: Metadata (1/3)\n",
    "\n",
    "\n",
    "```python\n",
    "setup(...\n",
    "      description='Sample project for distribution training',\n",
    "      long_description=long_description,\n",
    "      url='https://gitlab.esrf.fr/silx/trainingproject',\n",
    "      classifiers=classifiers,\n",
    "      author='Someone',\n",
    "      author_email='someone@somewhere.org',\n",
    "      # keywords='',\n",
    "      project_urls={\n",
    "          'Issues': 'https://gitlab.esrf.fr/silx/trainingproject/issues',\n",
    "          }\n",
    "      )\n",
    "```"
   ]
  },
  {
   "cell_type": "markdown",
   "metadata": {
    "slideshow": {
     "slide_type": "subslide"
    }
   },
   "source": [
    "### *setup.py*: Metadata (2/3)\n",
    "\n",
    "\n",
    "Definition of the list of project's classifiers:\n",
    "\n",
    "```python\n",
    "classifiers = [\n",
    "    'Development Status :: 3 - Alpha',\n",
    "    'Intended Audience :: Education',\n",
    "    'License :: OSI Approved :: MIT License',\n",
    "    'Natural Language :: English',\n",
    "    'Operating System :: MacOS',\n",
    "    'Operating System :: Microsoft :: Windows',\n",
    "    'Operating System :: POSIX',\n",
    "    'Programming Language :: Python :: 3',\n",
    "    'Programming Language :: Python :: 3.4',\n",
    "    'Programming Language :: Python :: 3.5',\n",
    "    'Programming Language :: Python :: 3.6',\n",
    "    'Programming Language :: Python :: 3.7',\n",
    "    ]\n",
    "```\n",
    "\n",
    "Available classifiers: https://pypi.org/classifiers/\n"
   ]
  },
  {
   "cell_type": "markdown",
   "metadata": {
    "slideshow": {
     "slide_type": "subslide"
    }
   },
   "source": [
    "### *setup.py*: Metadata (3/3)\n",
    "\n",
    "\n",
    "If a README file is available, it can be reused as the `long_description`:\n",
    "\n",
    "```python\n",
    "import io, os\n",
    "\n",
    "def get_readme():\n",
    "    dirname = os.path.dirname(os.path.abspath(__file__))\n",
    "    filename = os.path.join(dirname, \"README.rst\")\n",
    "    with io.open(filename, \"r\", encoding=\"utf-8\") as fp:\n",
    "        long_description = fp.read()\n",
    "    return long_description\n",
    "```\n",
    "\n",
    "Similarly, there are different ways to define the `version` number at a unique place:\n",
    "https://packaging.python.org/guides/single-sourcing-package-version/"
   ]
  },
  {
   "cell_type": "markdown",
   "metadata": {
    "slideshow": {
     "slide_type": "subslide"
    }
   },
   "source": [
    "### Distribution (1/2)\n",
    "\n",
    "The central registration point is the Python Package Index [PyPI](https://pypi.org/).\n",
    "\n",
    "![](PyPI.png)\n"
   ]
  },
  {
   "cell_type": "markdown",
   "metadata": {
    "slideshow": {
     "slide_type": "subslide"
    }
   },
   "source": [
    "### Distribution (2/2)\n",
    "\n",
    "This requires the `twine` package (`pip install twine`).\n",
    "\n",
    "- First, create an account on [test.]PyPI: https://[test.]pypi.org/account/register/\n",
    "- Generates the packages you want to provide (check the version number, and tag it in git):\n",
    "  ```shell\n",
    "  python setup.py sdist bdist_wheel\n",
    "  ```\n",
    "- Upload the project with `twine`:\n",
    "  ```shell\n",
    "  twine upload [--repository-url https://test.pypi.org/legacy/] dist/*\n",
    "  ```\n",
    "\n",
    "- Install from [test.]PyPI:\n",
    "  ```shell\n",
    "  pip install [--index-url https://test.pypi.org/simple/ --extra-index-url https://pypi.org/simple] package\n",
    "  ```"
   ]
  },
  {
   "cell_type": "markdown",
   "metadata": {
    "slideshow": {
     "slide_type": "slide"
    }
   },
   "source": [
    "## Additional features"
   ]
  },
  {
   "cell_type": "markdown",
   "metadata": {
    "slideshow": {
     "slide_type": "subslide"
    }
   },
   "source": [
    "### Entry points\n",
    "\n",
    "Allows to define functions that are available as commands once installed.\n",
    "It provides a cross-platform automatic script creation mechanism (i.e., produces .exe files on Windows and scripts on other OS).\n",
    "\n",
    "```python\n",
    "setup(\n",
    "    ...\n",
    "    entry_points={\n",
    "        'console_scripts': [\n",
    "            'package-script = package:main'],\n",
    "        'gui_scripts': [\n",
    "            'package-gui = package.gui:main']\n",
    "    },\n",
    ")\n",
    "```\n",
    "\n",
    "Will create a `package-script` and a `package-gui` command-line scripts during installation."
   ]
  },
  {
   "cell_type": "markdown",
   "metadata": {
    "slideshow": {
     "slide_type": "subslide"
    }
   },
   "source": [
    "### Additional resources\n",
    "\n",
    "```python\n",
    "setup(\n",
    "    ...\n",
    "    # Files to install within the package\n",
    "    package_data={\n",
    "        'package': ['*.dat'],\n",
    "    },\n",
    "    # Files to install outside of the package\n",
    "    data_files=[('data', ['data/data.dat'])],  # List of (directory, files)\n",
    ")\n",
    "```\n",
    "\n",
    "See [package_data](https://docs.python.org/3/distutils/setupscript.html#installing-package-data) and [data_files](https://docs.python.org/3/distutils/setupscript.html#installing-additional-files) documentation."
   ]
  },
  {
   "cell_type": "markdown",
   "metadata": {
    "slideshow": {
     "slide_type": "subslide"
    }
   },
   "source": [
    "### Compiled extensions\n",
    "\n",
    "It is possible to compile modules written in C, C++, Cython as part of the build process.\n",
    "\n",
    "```python\n",
    "from setuptools.extension import Extension\n",
    "\n",
    "setup(\n",
    "    ...\n",
    "    ext_modules=[\n",
    "        Extension('package.cmodule', ['package/cmodule.c'])],\n",
    "        Extension('package.cythonmodule', ['package/cmodule.pyx'])\n",
    "    ],\n",
    ")\n",
    "```\n",
    "\n",
    "This adds the requirement of having the proper compiler available... and put a lot more constraint on packaging and distribution."
   ]
  },
  {
   "cell_type": "markdown",
   "metadata": {
    "slideshow": {
     "slide_type": "subslide"
    }
   },
   "source": [
    "### *setup_requires*: chicken-egg issue\n",
    "\n",
    "It is possible to define build requirements (i.e., `setup_requires`) outside the `setup.py` file (See [PEP518](https://www.python.org/dev/peps/pep-0518/)) in a `pyproject.toml`:\n",
    "\n",
    "```\n",
    "[build-system]\n",
    "requires=['setuptools', 'wheel', 'cython']\n",
    "```"
   ]
  },
  {
   "cell_type": "markdown",
   "metadata": {
    "slideshow": {
     "slide_type": "subslide"
    }
   },
   "source": [
    "### Advanced setup.py: numpy.distutils\n",
    "\n",
    "[numpy.distutils](https://docs.scipy.org/doc/numpy/reference/distutils.html) provides a way to use a hierarchy of setup.py:\n",
    "\n",
    "```\n",
    "project/\n",
    "  setup.py  -> Effective setup.py\n",
    "  package/\n",
    "    __init__.py\n",
    "    setup.py      -> Handles main package build\n",
    "    subpackage/\n",
    "      __init__.py\n",
    "      setup.py    -> Handles subpackage build\n",
    "```\n",
    "\n",
    "- Pros: Each sub-package is embedding its own build.\n",
    "- Cons: `numpy` becomes a build dependency.\n",
    "\n",
    "This is based on the [Configuration class](https://docs.scipy.org/doc/numpy/reference/distutils.html#numpy.distutils.misc_util.Configuration)."
   ]
  },
  {
   "cell_type": "markdown",
   "metadata": {
    "slideshow": {
     "slide_type": "slide"
    }
   },
   "source": [
    "## A word on packages\n",
    "\n",
    "Packages are the best way to distribute a library, regardless of the operating system.\n",
    "For (graphical) applications, fat-binaries may be a better choice, especially under Windows and macOS.\n",
    "\n",
    "There are different of packages to be distinguished:\n",
    "\n",
    "* Operating system packages: RPM, DEB, MSI, ...\n",
    "* Python specific packages: Wheels\n",
    "* Conda packages\n",
    "\n",
    "Advantages of packaging tools:\n",
    "\n",
    "* Keeps track of installed packages\n",
    "* Management of dependencies\n",
    "* Provides access to a package repository."
   ]
  },
  {
   "cell_type": "markdown",
   "metadata": {
    "slideshow": {
     "slide_type": "subslide"
    }
   },
   "source": [
    "### Wheels: [PEP427](https://www.python.org/dev/peps/pep-0427/)\n",
    "\n",
    "\n",
    "Wheels are the [current standard](http://pythonwheels.com/) of python distribution.\n",
    "\n",
    "Advantages of wheels:\n",
    "\n",
    "1. Avoids arbitrary code execution for installation (no *setup.py* executed).\n",
    "1. Does not require a compiler on the client side for binary extensions.\n",
    "1. Faster installation, especially for binary extensions.\n",
    "1. Allows better and faster testing and continuous integration.\n",
    "1. Creates *.pyc* files at installation, matching the Python interpreter used.\n",
    "1. More consistent installs across platforms and machines.\n",
    "\n",
    "Wheels provide binary packages and a decent installer (pip) for Windows and macOS.\n",
    "Under Linux, the reference platform (*manylinux1* aka *centos5*) is very old and binary wheels are much slower than native builds (~20%).\n",
    "Yet it is a very convenient way to install recent versions."
   ]
  },
  {
   "cell_type": "markdown",
   "metadata": {
    "slideshow": {
     "slide_type": "subslide"
    }
   },
   "source": [
    "### Building Wheels\n",
    "\n",
    "You will need `setuptools` and `wheel` installed:\n",
    "```\n",
    "apt-get install python3-setuptools python3-wheel\n",
    "```\n",
    "or:\n",
    "```\n",
    "pip install --upgrade setuptools wheel [--user]\n",
    "```\n",
    "then:\n",
    "```\n",
    "python3 setup.py bdist_wheel\n",
    "```"
   ]
  },
  {
   "cell_type": "markdown",
   "metadata": {
    "slideshow": {
     "slide_type": "subslide"
    }
   },
   "source": [
    "### Building Wheels: Pitfalls\n",
    "\n",
    "- For compiled extension, a specific version of the compiler is required (e.g., `manylinux` = *centOS 5* under Linux). See [Building binary extensions doc](https://packaging.python.org/guides/packaging-binary-extensions/#building-binary-extensions).\n",
    "- External shared library (e.g., Qt, hdf5, ...) needs to be incorporated in the wheel.\n",
    "  You can use utility software to check which libraries your package is linked against:\n",
    "\n",
    "  - macOS: [delocate](https://github.com/matthew-brett/delocate)\n",
    "  - Windows: [depends](http://www.dependencywalker.com/)\n",
    "  - Linux: ldd, [auditwheel](https://github.com/pypa/auditwheel)"
   ]
  },
  {
   "cell_type": "markdown",
   "metadata": {
    "slideshow": {
     "slide_type": "subslide"
    }
   },
   "source": [
    "### Debian packages\n",
    "\n",
    "To build debian packages we recommend an additional tool: [stdeb](https://pypi.python.org/pypi/stdeb/)\n",
    "\n",
    "```shell\n",
    "sudo apt-get install python3-stdeb\n",
    "   \n",
    "python3 setup.py --command-packages=stdeb.command bdist_deb\n",
    "```\n",
    "\n",
    "You should find your python3-*package**.deb in deb_dist directory.\n",
    "\n",
    "stdeb can be configured with an additionnal file: *stdeb.cfg*\n",
    "\n",
    "Alternative to be considered: [pypi2deb](https://github.com/p1otr/pypi2deb)"
   ]
  },
  {
   "cell_type": "markdown",
   "metadata": {
    "slideshow": {
     "slide_type": "slide"
    }
   },
   "source": [
    "## Fat binaries\n",
    "\n",
    "Standalone self-contained applications or installers.\n",
    "\n",
    "- Include Python interpreter and all dependencies.\n",
    "- Fits Windows and macOS application distribution, as unlike Linux they lack a dependency management tools.\n",
    "\n",
    "Beware:\n",
    "\n",
    "- Fat binaries are fat (~150 Mb for projects involving GUIs).\n",
    "- You are redistributing (many) other people's work, so take care about licenses\n",
    "  (e.g., `numpy` compiled with Intel's Math Kernel Library, `PyQt` has a GPL license)."
   ]
  },
  {
   "cell_type": "markdown",
   "metadata": {
    "slideshow": {
     "slide_type": "subslide"
    }
   },
   "source": [
    "### Freezing\n",
    "\n",
    "There is a number of tools to 'freeze' a Python application for distribution from an installation on a computer.\n",
    "\n",
    "Principle:\n",
    "\n",
    "- Analyze a script to find its dependencies (i.e., its imports).\n",
    "- Collect all dependencies and python interpreter in a directory.\n",
    "- Add a launcher and eventually bundle everything in a single file or installer."
   ]
  },
  {
   "cell_type": "markdown",
   "metadata": {
    "slideshow": {
     "slide_type": "subslide"
    }
   },
   "source": [
    "### Freezing issues\n",
    "\n",
    "- Those tools relies on rules specific to each package (`matplotlib`, `numpy`) which needs to be updated when packages evolve.\n",
    "- Analysis can miss some hidden imports.\n",
    "- All runtime dependencies must be included (including external libraries wrapped by Python packages).\n",
    "- Data files cannot be guessed and need to be explicitly added.\n",
    "\n",
    "You must make sure it is stand-alone and includes everything required.\n",
    "Test the result on a different computer than the one used for packaging."
   ]
  },
  {
   "cell_type": "markdown",
   "metadata": {
    "slideshow": {
     "slide_type": "subslide"
    }
   },
   "source": [
    "### Tools\n",
    "\n",
    "- [cx_Freeze](http://cx-freeze.readthedocs.org/): Cross-platform\n",
    "- [py2app](https://pythonhosted.org/py2app/): macOS\n",
    "- [PyInstaller](http://www.pyinstaller.org/): Cross-platform\n",
    "\n",
    "[Platypus](http://www.sveinbjorn.org/platypus) (macOS),\n",
    "[pynsist](https://pypi.python.org/pypi/pynsist) (Windows),\n",
    "[py2exe](https://pypi.python.org/pypi/py2exe/) (Windows),\n",
    "[bbFreeze](https://pypi.python.org/pypi/bbfreeze) (Windows, Linux),\n",
    "[pex](https://github.com/pantsbuild/pex) (Linux, macOS)\n",
    "\n",
    "On Windows, you can create an installer with a tool such as [NSIS](http://nsis.sourceforge.net/)."
   ]
  }
 ],
 "metadata": {
  "celltoolbar": "Slideshow",
  "kernelspec": {
   "display_name": "Python 3",
   "language": "python",
   "name": "python3"
  },
  "language_info": {
   "codemirror_mode": {
    "name": "ipython",
    "version": 3
   },
   "file_extension": ".py",
   "mimetype": "text/x-python",
   "name": "python",
   "nbconvert_exporter": "python",
   "pygments_lexer": "ipython3",
   "version": "3.7.3"
  }
 },
 "nbformat": 4,
 "nbformat_minor": 2
}
