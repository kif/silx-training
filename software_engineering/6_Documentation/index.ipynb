{
 "cells": [
  {
   "cell_type": "markdown",
   "metadata": {
    "slideshow": {
     "slide_type": "slide"
    }
   },
   "source": [
    "\n",
    "# Documenting Python packages\n",
    "\n",
    "<img src=\"images/dagmara-dombrovska-7Fu-HGrOq1E-unsplash.jpg\" style=\"margin: 1em auto;\" caption=\"Gdsgs\">\n",
    "\n",
    "_Dagmara Dombrovska_, [Unsplash](https://unsplash.com/photos/7Fu-HGrOq1E)"
   ]
  },
  {
   "cell_type": "markdown",
   "metadata": {
    "slideshow": {
     "slide_type": "slide"
    }
   },
   "source": [
    "## Introduction\n",
    "\n",
    "What does this function do?"
   ]
  },
  {
   "cell_type": "code",
   "execution_count": 1,
   "metadata": {},
   "outputs": [],
   "source": [
    "def p(x):\n",
    "   return (x & (x - 1)) == 0"
   ]
  },
  {
   "cell_type": "markdown",
   "metadata": {
    "slideshow": {
     "slide_type": "slide"
    }
   },
   "source": [
    "## Introduction 2\n",
    "\n",
    "What does this function do?"
   ]
  },
  {
   "cell_type": "code",
   "execution_count": 2,
   "metadata": {},
   "outputs": [],
   "source": [
    "def is_power_of_two(value):\n",
    "   return (value & (value - 1)) == 0"
   ]
  },
  {
   "cell_type": "markdown",
   "metadata": {
    "slideshow": {
     "slide_type": "slide"
    }
   },
   "source": [
    "## Introduction 3\n",
    "\n",
    "What does this function do?"
   ]
  },
  {
   "cell_type": "code",
   "execution_count": 3,
   "metadata": {},
   "outputs": [],
   "source": [
    "def is_power_of_two(value):\n",
    "   \"\"\"Returns True if value is a power of two.\n",
    "\n",
    "   It supports numpy array of int of any dimensions and returns\n",
    "   an array of bool of same dimensions.\n",
    "\n",
    "   Limitation: Returns True for 0.\n",
    "   \"\"\"\n",
    "   return (value & (value - 1)) == 0"
   ]
  },
  {
   "cell_type": "markdown",
   "metadata": {
    "slideshow": {
     "slide_type": "fragment"
    }
   },
   "source": [
    "This is why you should consider documenting your code.\n",
    "If you have no documentation yet, you should start it.\n",
    "\n",
    "The purpose of this presentation is to see how do it and what tools can ease the process. "
   ]
  },
  {
   "cell_type": "markdown",
   "metadata": {
    "slideshow": {
     "slide_type": "slide"
    }
   },
   "source": [
    "### Outline\n",
    "\n",
    "- Writing rules for documentation\n",
    "- How to write documentation ? Intro to Markdown\n",
    "- The README file\n",
    "- Organizing documentation with Sphinx\n",
    "- Document source code\n",
    "- _Hands-on_\n",
    "- Concluding remarks: Sphinx extensions and continous deployment of documentation "
   ]
  },
  {
   "cell_type": "markdown",
   "metadata": {
    "slideshow": {
     "slide_type": "slide"
    }
   },
   "source": [
    "## Writing rules for documentation\n",
    "\n",
    "Adapted from _Tarek Ziadé.\n",
    "Expert Python Programming. Chapter 10: Documenting your project.\n",
    "September 2008, PACKT Publishing.\n",
    "https://tarekziade.files.wordpress.com/2008/09/chapter-10.pdf_"
   ]
  },
  {
   "cell_type": "markdown",
   "metadata": {
    "slideshow": {
     "slide_type": "slide"
    }
   },
   "source": [
    "### 1. Target the readership\n",
    "\n",
    "Different types of documentation serve different purposes !\n",
    "\n",
    "* **Operation**: Installation, FAQ\n",
    "\n",
    "Intended audience: **all users**\n",
    "\n",
    "Ex: https://github.com/silx-kit/silx#installation\n"
   ]
  },
  {
   "cell_type": "markdown",
   "metadata": {
    "slideshow": {
     "slide_type": "slide"
    }
   },
   "source": [
    "* **Usage**: How to use the software from API, command line or GUI.\n",
    "\n",
    "Intended audience: **all users** but in-depth documentations can complement:\n",
    "  * *Cookbooks*: how to *do* something specific,\n",
    "  * *Tutorials*: how to *use* a feature step-by-step,\n",
    "  * *Module API*: how to *use* part of the code. More on this in the **Document source code** part. \n",
    "  \n",
    "Ex: http://www.silx.org/doc/silx/latest/tutorials.html"
   ]
  },
  {
   "cell_type": "markdown",
   "metadata": {
    "slideshow": {
     "slide_type": "slide"
    }
   },
   "source": [
    "* **Design**: How the software works, how code is organized.\n",
    "\n",
    "Intended audience: developers, advanced users looking for insights.\n",
    "  \n",
    "Ex: https://pyfai.readthedocs.io/en/master/design/index.html"
   ]
  },
  {
   "cell_type": "markdown",
   "metadata": {
    "slideshow": {
     "slide_type": "slide"
    }
   },
   "source": [
    "### 2. Convey efficiently and directly your message\n",
    "- Use simple style.\n",
    "- Limit the scope of the information: one concept at a time.\n",
    "- Use realistic code examples."
   ]
  },
  {
   "cell_type": "markdown",
   "metadata": {
    "slideshow": {
     "slide_type": "slide"
    }
   },
   "source": [
    "### 3. Structure the documentation\n",
    "- Choose what you want to document (avoid heavy documents)\n",
    "- Use templates so that readers can get used to your documentation\n",
    "- Separate topics and organize them with an index page\n"
   ]
  },
  {
   "cell_type": "markdown",
   "metadata": {
    "slideshow": {
     "slide_type": "slide"
    }
   },
   "source": [
    "### How to write documentation ?\n",
    "\n",
    "Plain text is often too limited to write documentation. Extensions of plain text are more suitable:\n",
    "- LaTeX\n",
    "- ReStructuredText (RST)\n",
    "- Markdown (MD)"
   ]
  },
  {
   "cell_type": "markdown",
   "metadata": {
    "slideshow": {
     "slide_type": "fragment"
    }
   },
   "source": [
    "\n",
    "RST is the historical langage for Python documentation (more on this in the Sphinx section) but we will present Markdown for the following reasons:\n",
    "\n",
    "* *Easy-to-read* text markup syntax.\n",
    "* Easier to write than RST\n",
    "* Supported by a lot of renderers (Jupyter notebooks, GitHub/GitLab, IDE...)"
   ]
  },
  {
   "cell_type": "markdown",
   "metadata": {
    "slideshow": {
     "slide_type": "slide"
    },
    "tags": []
   },
   "source": [
    "## A small taste of Markdown\n",
    "\n",
    "> This presentation is written in Markdown !\n",
    "\n",
    "```**Markdown** can be used to _format_ text quite `easily` inline.```\n",
    "\n",
    "**Markdown** can be used to _format_ text quite `easily` inline.\n",
    "\n",
    "| Markdown              | Result              |\n",
    "|-----------------------|---------------------|\n",
    "| `*italics*` or `_italics_`    | _italics_          |\n",
    "| `**bold**` | **bold** |\n",
    "| `[Python hyperlink](<http://www.python.org/)` | [Python hyperlink](http://www.python.org/) |\n",
    "| ``` `monospace` ``` | `monospace` |\n",
    "| `$\\sqrt{\\frac{x^2}{3}}$` | $\\sqrt{\\frac{x^2}{3}}$ | \n",
    "\n",
    "\n",
    "\n",
    "It is only a small sample: it can render lists, quotes, images... See https://www.markdownguide.org/ for a complete list."
   ]
  },
  {
   "cell_type": "markdown",
   "metadata": {
    "slideshow": {
     "slide_type": "slide"
    }
   },
   "source": [
    "## Heading levels\n",
    "\n",
    "Use heading levels (number of `#`) to structure your documentation:\n",
    "\n",
    "```\n",
    "# My marvelous software\n",
    "## Install it !\n",
    "### Windows\n",
    "### Linux\n",
    "## Use it !\n",
    "## FAQ\n",
    "```"
   ]
  },
  {
   "cell_type": "markdown",
   "metadata": {
    "slideshow": {
     "slide_type": "slide"
    }
   },
   "source": [
    "\n",
    "# My marvelous software\n",
    "## Install it !\n",
    "### Windows\n",
    "### Linux\n",
    "## Use it !\n",
    "## FAQ"
   ]
  },
  {
   "cell_type": "markdown",
   "metadata": {
    "slideshow": {
     "slide_type": "slide"
    }
   },
   "source": [
    "## Code blocks\n",
    "\n",
    "Use code blocks (enclosed in triple back-quotes ` ``` `) to give code examples. Giving the langage after the opening backquote will activate highlighting.\n",
    "\n",
    "- Ex: bash\n",
    "<pre>\n",
    "```bash\n",
    "pip install my_marvelous_software\n",
    "```\n",
    "</pre>\n",
    "\n",
    "will render as:\n",
    "\n",
    "```bash\n",
    "pip install my_marvelous_software\n",
    "```\n"
   ]
  },
  {
   "cell_type": "markdown",
   "metadata": {
    "slideshow": {
     "slide_type": "slide"
    }
   },
   "source": [
    "\n",
    "- Ex: python\n",
    "\n",
    "<pre>\n",
    "```python\n",
    "from my_marvelous_software import print_unicorns\n",
    "\n",
    "# Use this to print unicorns in the terminal\n",
    "print_unicorns()\n",
    "```\n",
    "\n",
    "</pre>\n",
    "\n",
    "will render as:\n",
    "\n",
    "```python\n",
    "from my_marvelous_software import print_unicorns\n",
    "\n",
    "# Use this to print unicorns in the terminal\n",
    "print_unicorns()\n",
    "```"
   ]
  },
  {
   "cell_type": "markdown",
   "metadata": {
    "slideshow": {
     "slide_type": "slide"
    }
   },
   "source": [
    "## README\n",
    "\n",
    "\n",
    "\n",
    "It will be the **first look** at your project, don't neglect it !\n",
    "\n",
    "It should contain:\n",
    "\n",
    "* Name of the project\n",
    "* Brief description (i.e., abstract)\n",
    "* Installation\n",
    "* Documentation: Getting started and/or link to documentation.\n",
    "* License\n",
    "* Authors\n",
    "* More if you think it is relevant\n",
    "\n",
    "Ex: https://github.com/silx-kit/jupyterlab-h5web#jupyterlab-h5web"
   ]
  },
  {
   "cell_type": "markdown",
   "metadata": {
    "slideshow": {
     "slide_type": "slide"
    }
   },
   "source": [
    "More advice on https://www.makeareadme.com/:\n",
    "\n",
    "> Perhaps in the future, you'll be able to attach a copy of your thoughts and/or consciousness to your projects. In the meantime, please make READMEs."
   ]
  },
  {
   "cell_type": "markdown",
   "metadata": {
    "slideshow": {
     "slide_type": "slide"
    }
   },
   "source": [
    "## Organizing documentation with Sphinx\n",
    "\n",
    "If you wish to document a large project, a simple README might not be sufficient.\n",
    "\n",
    "**Sphinx is a documentation generator that allows to separate your documentation in several files and generate HTML/PDF from them.**\n",
    "\n",
    "Ex: The collection of `md` files at https://github.com/silx-kit/h5grove/tree/main/docs will be generated in [this HTML page](https://silx-kit.github.io/h5grove/)"
   ]
  },
  {
   "cell_type": "markdown",
   "metadata": {
    "slideshow": {
     "slide_type": "slide"
    }
   },
   "source": [
    "### Set up Sphinx\n",
    "\n",
    "```bash\n",
    "pip install sphinx\n",
    "```\n",
    "\n",
    "Sphinx will generate documentation from files situated in a **source folder** (often called `doc`) into a **build folder**. This generation is based on a configuration file (`conf.py`) that can be generated using `sphinx-quickstart`.\n",
    "\n",
    "Run `sphinx-quickstart`, answer the questions and it will create a source directory and a Makefile.\n"
   ]
  },
  {
   "cell_type": "markdown",
   "metadata": {
    "slideshow": {
     "slide_type": "slide"
    }
   },
   "source": [
    "### Generating documentation with Sphinx\n",
    "\n",
    "Now that we have files, we can build the documentation:\n",
    "- either by using the `Makefile` and run `make html` \n",
    "- or by running `sphinx-build sourcedir builddir`\n",
    "\n",
    "This will create HTML files in the build folder that you can open in your browser."
   ]
  },
  {
   "cell_type": "markdown",
   "metadata": {
    "slideshow": {
     "slide_type": "fragment"
    }
   },
   "source": [
    "#### Ease the build process\n",
    "\n",
    "You can [integrate with setup tools](https://www.sphinx-doc.org/en/master/usage/advanced/setuptools.html) to run the build through `python3 setup.py build_sphinx`.\n",
    "\n",
    "When writing docs, [sphinx-autobuild](https://github.com/executablebooks/sphinx-autobuild) can be used to rebuild Sphinx documentation on changes, with live-reload in the browser."
   ]
  },
  {
   "cell_type": "markdown",
   "metadata": {
    "slideshow": {
     "slide_type": "slide"
    }
   },
   "source": [
    "### Using Sphinx with Markdown\n",
    "\n",
    "**The source directory contains the master document file that is the entry point of the documentation**. By default, it is `index.rst`.\n",
    "\n",
    "> Hang on ? `.rst` ?"
   ]
  },
  {
   "cell_type": "markdown",
   "metadata": {
    "slideshow": {
     "slide_type": "slide"
    }
   },
   "source": [
    "\n",
    "Yes ! Sphinx expects the documentation to be written in RST. **We will use Markdown instead thanks to a Sphinx extension called [MyST-Parser](https://myst-parser.readthedocs.io/en/latest/sphinx/intro.html).**\n",
    "\n",
    "```bash\n",
    "pip install myst-parser\n",
    "```\n",
    "\n",
    "Sphinx extensions are Python packages that extend the features of Sphinx. They must be enabled in `conf.py`:\n",
    "\n",
    "> conf.py\n",
    "\n",
    "```python\n",
    "extensions = [\"myst_parser\"]\n",
    "```"
   ]
  },
  {
   "cell_type": "markdown",
   "metadata": {
    "slideshow": {
     "slide_type": "slide"
    }
   },
   "source": [
    "### Writing directives with MyST\n",
    "\n",
    "**Directives are a way to declare dynamic behaviour in Sphinx** (think like functions in code).\n",
    "\n",
    "For example, the generated `index.rst` contains a directive `toctree` to generate a table of contents:\n",
    "\n",
    "> index.rst\n",
    "\n",
    "```rst\n",
    ".. toctree::\n",
    "   :maxdepth: 2\n",
    "   :caption: Contents:\n",
    "   \n",
    "   polynom\n",
    "   mathutils\n",
    "```\n",
    "\n",
    "**Like in Python, indentation is key !**\n",
    "\n",
    "The toctree directive is used to reference the other files of your documentation (in this case, we expect to have files named `polynom` and `mathutils` in the doc folder)\n"
   ]
  },
  {
   "cell_type": "markdown",
   "metadata": {
    "slideshow": {
     "slide_type": "slide"
    }
   },
   "source": [
    "The directive can be written in Markdown instead using the following syntax:\n",
    "\n",
    "> index.md\n",
    "\n",
    "<pre>\n",
    "```{toctree}\n",
    "    :maxdepth: 2\n",
    "    :caption: \"Contents:\"\n",
    "   \n",
    "    polynom\n",
    "    mathutils\n",
    "```\n",
    "</pre>"
   ]
  },
  {
   "cell_type": "markdown",
   "metadata": {
    "slideshow": {
     "slide_type": "slide"
    }
   },
   "source": [
    "For directives not compatible with MD (such as autodoc), `eval-rst` must be used to write directly RST in code blocks:\n",
    "> index.md\n",
    "\n",
    "<pre>\n",
    "```{eval-rst}\n",
    ".. toctree::\n",
    "   :maxdepth: 2\n",
    "   :caption: Contents:\n",
    "   \n",
    "   polynom\n",
    "   mathutils\n",
    "```\n",
    "</pre>"
   ]
  },
  {
   "cell_type": "markdown",
   "metadata": {
    "slideshow": {
     "slide_type": "slide"
    }
   },
   "source": [
    "**Use the `toctree` directive to structure the documentation in several files**. \n",
    "\n",
    "You can then select what is documented and avoid pollution of the source code with too much documentation."
   ]
  },
  {
   "cell_type": "markdown",
   "metadata": {
    "slideshow": {
     "slide_type": "fragment"
    }
   },
   "source": [
    "You can also use [other directives](https://www.sphinx-doc.org/en/master/usage/restructuredtext/basics.html#rst-directives) to create stylish content:\n",
    "\n",
    "<pre>\n",
    "```{danger}\n",
    "This function can break your code.\n",
    "```\n",
    "</pre>\n",
    "\n",
    "![Screenshot of a danger directive rendered by Sphinx](images/danger_directive.png)"
   ]
  },
  {
   "cell_type": "markdown",
   "metadata": {
    "slideshow": {
     "slide_type": "slide"
    }
   },
   "source": [
    "### Writing roles with MyST\n",
    "\n",
    "Roles are another kind of Sphinx special mark-up. For example, `ref` can be used to reference to other files as in `index.rst`\n",
    "\n",
    "> index.rst\n",
    "\n",
    "```rst\n",
    ":ref:`genindex`\n",
    "```\n",
    "\n",
    "will create a link to the file named `genindex`. This file is automatically generated by Sphinx."
   ]
  },
  {
   "cell_type": "markdown",
   "metadata": {
    "slideshow": {
     "slide_type": "fragment"
    }
   },
   "source": [
    "In MyST Markdown, it is simply written as\n",
    "\n",
    "> index.md\n",
    "\n",
    "<pre>\n",
    "{ref}`genindex`\n",
    "</pre>\n",
    "\n"
   ]
  },
  {
   "cell_type": "markdown",
   "metadata": {
    "slideshow": {
     "slide_type": "slide"
    }
   },
   "source": [
    "## Document source code\n",
    "\n",
    "Code can be documented in the source using **docstrings**:\n",
    "\n",
    "```python\n",
    "def is_power_of_two(value):\n",
    "   \"\"\"Returns True if value is a power of two.\n",
    "\n",
    "   It supports numpy array of int of any dimensions and returns\n",
    "   an array of bool of same dimensions.\n",
    "\n",
    "   Limitation: Returns True for 0.\n",
    "   \"\"\"\n",
    "   return (value & (value - 1)) == 0\n",
    "```"
   ]
  },
  {
   "cell_type": "markdown",
   "metadata": {
    "slideshow": {
     "slide_type": "slide"
    }
   },
   "source": [
    "Docstrings are not limited to functions:"
   ]
  },
  {
   "cell_type": "code",
   "execution_count": 4,
   "metadata": {},
   "outputs": [],
   "source": [
    "\"\"\"This module provides a random generator.\"\"\"  # Module docstring\n",
    "\n",
    "RAND_SEED = 1\n",
    "\"\"\"Seed used by rand.\"\"\"  # Module attribute docstring\n",
    "\n",
    "def rand():\n",
    "   \"\"\"Returns a random floating point number.\"\"\"  # Function docstring\n",
    "   ...\n",
    "\n",
    "class RandomGenerator(object):\n",
    "   \"\"\"Pseudo random generator class.\n",
    "   It is based on the XORShift algorithm.\n",
    "   \"\"\"  # Class docstring\n",
    "\n",
    "   DEFAULT_SEED = 1\n",
    "   \"\"\"Default random generator seed.\"\"\"  # Class attribute docstring\n",
    "\n",
    "   def __init__(self, seed=None):\n",
    "       self.seed = seed or self.DEFAULT_SEED\n",
    "       \"\"\"The generator's seed.\"\"\"  # Instance attribute docstring\n",
    "\n",
    "   def rand(self):\n",
    "       \"\"\"Returns a pseudo-random float.\"\"\"  # Method docstring"
   ]
  },
  {
   "cell_type": "markdown",
   "metadata": {
    "slideshow": {
     "slide_type": "slide"
    }
   },
   "source": [
    "The docstrings are accessible from Python using `help()` or `__doc__`."
   ]
  },
  {
   "cell_type": "code",
   "execution_count": 5,
   "metadata": {},
   "outputs": [
    {
     "name": "stdout",
     "output_type": "stream",
     "text": [
      "Help on function rand in module __main__:\n",
      "\n",
      "rand()\n",
      "    Returns a random floating point number.\n",
      "\n"
     ]
    }
   ],
   "source": [
    "help(rand)"
   ]
  },
  {
   "cell_type": "markdown",
   "metadata": {
    "slideshow": {
     "slide_type": "slide"
    }
   },
   "source": [
    "### Docstring content\n",
    "\n",
    "[PEP 257](https://www.python.org/dev/peps/pep-0257/) docstring content recommendation:\n",
    "\n",
    "* For **script**: **usage message** from the command line.\n",
    "* For **module**: List of the classes, exceptions and functions with a one-line summary of each.\n",
    "* For **class**: **Behavior summary**, list of the public methods and instance variables.\n",
    "* For **function** and **method**: **Behavior summary**, documentation of **arguments**, **return value**, side effects, exceptions raised, restrictions."
   ]
  },
  {
   "cell_type": "markdown",
   "metadata": {
    "slideshow": {
     "slide_type": "fragment"
    }
   },
   "source": [
    "Even one line of documentation is better than none !"
   ]
  },
  {
   "cell_type": "markdown",
   "metadata": {
    "slideshow": {
     "slide_type": "slide"
    }
   },
   "source": [
    "### Include docstrings in documentation\n",
    "\n",
    "The Sphinx extension `sphinx.ext.autodoc` includes docstrings from source code in the generated documentation. As any extension, it must be enabled in Sphinx:\n",
    "\n",
    "> conf.py\n",
    "\n",
    "```python\n",
    "extensions = [\"myst_parser\", \"sphinx.ext.autodoc\"]\n",
    "```\n",
    "\n",
    "_Note: Extensions `sphinx.ext` are already included in Sphinx and need not to be installed separately._\n"
   ]
  },
  {
   "cell_type": "markdown",
   "metadata": {
    "slideshow": {
     "slide_type": "slide"
    }
   },
   "source": [
    "### Autodoc directives\n",
    "\n",
    "`sphinx.ext.autodoc` adds `autofunction`, `automodule`, `autoclass` directives (and [many more !](https://www.sphinx-doc.org/en/master/usage/extensions/autodoc.html)) that will generate documentation from the docstrings in the code.\n",
    "\n",
    "**These directives need to be written in RST as autodoc is hard-coded to parse RST**. See https://myst-parser.readthedocs.io/en/latest/sphinx/use.html#use-sphinx-ext-autodoc-in-markdown-files."
   ]
  },
  {
   "cell_type": "markdown",
   "metadata": {
    "slideshow": {
     "slide_type": "slide"
    }
   },
   "source": [
    "Ex:\n",
    "\n",
    "> in the MD file\n",
    "\n",
    "<pre>\n",
    "```{eval-rst} \n",
    ".. autofunction:: is_power_of_two\n",
    "```\n",
    "</pre>\n",
    "\n",
    "> When generated by Sphinx\n",
    "\n",
    "![Screenshot of a docstring rendered by Sphinx](images/is_power_of_two_doc_screenshot.png)"
   ]
  },
  {
   "cell_type": "markdown",
   "metadata": {
    "slideshow": {
     "slide_type": "slide"
    }
   },
   "source": [
    "#### Documentating modules and classes \n",
    "<pre>\n",
    "\n",
    "```{eval-rst} \n",
    ".. automodule:: < module_name >\n",
    "    :members: < optional list of members >\n",
    "    :undoc-members:\n",
    "```\n",
    "\n",
    "```{eval-rst}\n",
    ".. autoclass:: < class_name >\n",
    "   :members: < optional list of members >\n",
    "   :undoc-members:\n",
    "   :inherited-members:\n",
    "```\n",
    "</pre>\n",
    "\n",
    "**Warning:** autodoc **imports** the modules to be documented. They must be available to Python (i.e. installed or added to `sys.path` in `conf.py`.)"
   ]
  },
  {
   "cell_type": "markdown",
   "metadata": {
    "slideshow": {
     "slide_type": "slide"
    }
   },
   "source": [
    "#### Documentating a collection of modules (packages)\n",
    "\n",
    "For a package, you may not want to write all module directives by yourself. \n",
    "\n",
    "You can instead use **[sphinx-apidoc](https://www.sphinx-doc.org/en/master/man/sphinx-autogen.html)** to generate the files documenting the package contents:\n",
    "\n",
    "```bash\n",
    "sphinx-apidoc -o doc/ <package path>\n",
    "```"
   ]
  },
  {
   "cell_type": "markdown",
   "metadata": {
    "slideshow": {
     "slide_type": "slide"
    }
   },
   "source": [
    "### Mixing documentation and directives\n",
    "\n",
    "Directives are powerful as they can be integrated into regular documentation.\n",
    "\n",
    "For example a simple `polynom.md` can look like:\n",
    "\n",
    "<pre>\n",
    "\n",
    "# PyPolynom: a module for polynom solving\n",
    "\n",
    "PyPolynom provides functions to solve [second-order polynomial equations](https://en.wikipedia.org/wiki/Quadratic_equation). It contains the following functions:\n",
    "\n",
    "```{eval-rst}\n",
    ".. automodule:: pypolynom.polynom\n",
    "    :members: polynom\n",
    "```\n",
    "<pre>"
   ]
  },
  {
   "cell_type": "markdown",
   "metadata": {
    "slideshow": {
     "slide_type": "slide"
    }
   },
   "source": [
    "#### Extend docstring with info field lists\n",
    "\n",
    "[Info field lists](https://www.sphinx-doc.org/en/master/usage/restructuredtext/domains.html#info-field-lists) are sequences of fields marked up to explain the purpose and type of parameters/attributes/return values.\n",
    "\n",
    "```python\n",
    "\n",
    "   def random_xorshift32(last_value, shift_triple=(13, 17, 5)):\n",
    "       \"\"\"32 bits pseudo-random generator.\n",
    "\n",
    "       :param numpy.uint32 last_value: Previously returned number or the seed.\n",
    "       :param shift_triple: Bit shifts to use.\n",
    "       :type shift_triple: 3-tuple of int\n",
    "       :return: The generated random number.\n",
    "       :rtype: numpy.uint32\n",
    "       :raises ValueError: if x is not a numpy.uint32\n",
    "       \"\"\"\n",
    "       x = numpy.uint32(last_value)  # Work with 32bits unsigned integer\n",
    "       x ^= numpy.uint32(last_value) << shift_triple[0]\n",
    "       x ^= x >> shift_triple[1]\n",
    "       x ^= x << shift_triple[2]\n",
    "       return x\n",
    "```\n",
    "    \n"
   ]
  },
  {
   "cell_type": "markdown",
   "metadata": {
    "slideshow": {
     "slide_type": "slide"
    }
   },
   "source": [
    "The field lists above was written with the \"classic\" syntax. Other syntax can be supported with the [Napoleon extension](http://sphinxcontrib-napoleon.readthedocs.org>):\n",
    "- [Google style](http://sphinxcontrib-napoleon.readthedocs.org/en/latest/example_google.html)\n",
    "- [Numpy style](http://sphinxcontrib-napoleon.readthedocs.org/en/latest/example_numpy.html#example-numpy>)"
   ]
  },
  {
   "cell_type": "markdown",
   "metadata": {
    "slideshow": {
     "slide_type": "slide"
    }
   },
   "source": [
    "## _Hands-on_\n",
    "\n",
    "Let's write the documentation of the pypolynom project ([GitHub](https://github.com/silx-kit/pypolynom) or [Gitlab](https://gitlab.esrf.fr/silx/pypolynom)) ! You can use your own project if you have one you need to document...\n",
    "\n",
    "0. Write the README. It should include the project name, description, installation, license and author.\n",
    "1. Set-up Sphinx and generate the HTML documentation of your master branch. Open it using a web browser.\n",
    "2. Embed documentation of the `polynom` module. Make sure it contains the documentation of the `polynom` function.\n",
    "3. Document the `mathutil` module with docstrings and regenerate documentation\n",
    "\n",
    "    - add docstrings to the `mathutil.py` file\n",
    "\n",
    "    - add a `mathutil.md` file to embed documentation from the mathutil module\n",
    "\n",
    "    - specify the classes and functions to include in the documentation\n",
    "\n",
    "    - include the `mathutil.md` file into the `index.md` file\n",
    "\n",
    "    - regenerate the documentation"
   ]
  },
  {
   "cell_type": "markdown",
   "metadata": {
    "slideshow": {
     "slide_type": "slide"
    }
   },
   "source": [
    "## Concluding remarks\n",
    "\n",
    "### Some Sphinx extensions of interest\n",
    "\n",
    "Included with Sphinx\n",
    "\n",
    "* **mathjax**: renders math formula in the browser with MathJax\n",
    "* **autodoc**: automatically inserts docstrings from modules\n",
    "* **viewcode**: includes links to source\n",
    "\n",
    "More on http://www.sphinx-doc.org/en/stable/extensions.html"
   ]
  },
  {
   "cell_type": "markdown",
   "metadata": {
    "slideshow": {
     "slide_type": "slide"
    }
   },
   "source": [
    "### Some Sphinx extensions of interest\n",
    "\n",
    "Third-party extensions (must be installed independently of Sphinx) allows to embed richer objects in the documentation:\n",
    "\n",
    "* [matplotlib plots](https://matplotlib.org/devel/plot_directive.html)\n",
    "* [videos](https://github.com/sphinx-contrib/video)\n",
    "* [Jupyter notebooks](https://nbsphinx.readthedocs.io/en/0.8.7/) (See this [example](https://gitlab.esrf.fr/silx/pypolynom/blob/completed/doc/source/index.md) which embed a `tutorial.ipynb` notebook.)\n",
    "\n",
    "More on https://www.sphinx-doc.org/en/master/develop.html and https://github.com/sphinx-contrib"
   ]
  },
  {
   "cell_type": "markdown",
   "metadata": {
    "slideshow": {
     "slide_type": "slide"
    }
   },
   "source": [
    "### Continuous deployment of documentation\n",
    "\n",
    "Once you have a working documentation build with Sphinx, it is worth deploying it so that it is on-line and updated at each commit.\n",
    "\n",
    "We list here two alternatives:\n",
    "\n",
    "1. Building documentation automatically from [Read the Docs](https://readthedocs.org/).\n",
    "  - [Documentation of Read the Docs](https://docs.readthedocs.io/en/stable/index.html)\n",
    "\n",
    "2. Using [Gitlab pages](https://docs.gitlab.com/ee/user/project/pages/) which allows you to publish static websites that can be generated from CI.\n",
    "  - See the [gitlab-ci.yml file](https://gitlab.esrf.fr/silx/pypolynom/blob/completed/.gitlab-ci.yml) and the [gitlab project pages](https://silx.gitlab-pages.esrf.fr/pypolynom/)\n",
    "\n"
   ]
  },
  {
   "cell_type": "markdown",
   "metadata": {
    "slideshow": {
     "slide_type": "slide"
    }
   },
   "source": [
    "## Conclusion\n",
    "\n",
    "\n",
    "* If your project does not have documentation yet → **start it right away !**\n",
    "   - **Add a README**: it is the first thing people will read !\n",
    "   - **Add docstrings**: they will be the most useful to you as the primary maintainer !\n",
    "* Writing documentation is not difficult with the right mindset and the right tools to ease the process.\n"
   ]
  },
  {
   "cell_type": "markdown",
   "metadata": {
    "slideshow": {
     "slide_type": "fragment"
    }
   },
   "source": [
    "* **You should document your project !** A project without documentation is like a can without a label. Will you buy/eat a can without a label ?\n",
    "\n",
    "<img src=\"images/can.JPG\" width=200 style=\"margin: 1em auto;\">\n",
    "\n",
    "_Tomomarusan_, [Wikimedia](https://commons.wikimedia.org/wiki/File:Can(Easy_Open_Can).JPG)"
   ]
  },
  {
   "cell_type": "code",
   "execution_count": null,
   "metadata": {},
   "outputs": [],
   "source": []
  }
 ],
 "metadata": {
  "celltoolbar": "Slideshow",
  "kernelspec": {
   "display_name": "Python3 (juno)",
   "language": "python",
   "name": "python3"
  },
  "language_info": {
   "codemirror_mode": {
    "name": "ipython",
    "version": 3
   },
   "file_extension": ".py",
   "mimetype": "text/x-python",
   "name": "python",
   "nbconvert_exporter": "python",
   "pygments_lexer": "ipython3",
   "version": "3.8.10"
  },
  "varInspector": {
   "cols": {
    "lenName": 16,
    "lenType": 16,
    "lenVar": 40
   },
   "kernels_config": {
    "python": {
     "delete_cmd_postfix": "",
     "delete_cmd_prefix": "del ",
     "library": "var_list.py",
     "varRefreshCmd": "print(var_dic_list())"
    },
    "r": {
     "delete_cmd_postfix": ") ",
     "delete_cmd_prefix": "rm(",
     "library": "var_list.r",
     "varRefreshCmd": "cat(var_dic_list()) "
    }
   },
   "types_to_exclude": [
    "module",
    "function",
    "builtin_function_or_method",
    "instance",
    "_Feature"
   ],
   "window_display": false
  }
 },
 "nbformat": 4,
 "nbformat_minor": 4
}
