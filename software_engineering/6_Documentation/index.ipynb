{
 "cells": [
  {
   "cell_type": "markdown",
   "metadata": {
    "slideshow": {
     "slide_type": "slide"
    }
   },
   "source": [
    "# Documentation"
   ]
  },
  {
   "cell_type": "markdown",
   "metadata": {},
   "source": [
    "## Documenting Python packages\n",
    "\n",
    "### Outline\n",
    "\n",
    "- Introduction\n",
    "- reStructuredText\n",
    "- Readme file\n",
    "- Docstrings\n",
    "- Sphinx\n",
    "- Continuous Documentation"
   ]
  },
  {
   "cell_type": "markdown",
   "metadata": {
    "slideshow": {
     "slide_type": "slide"
    }
   },
   "source": [
    "## Introduction\n",
    "\n",
    "What does this function?"
   ]
  },
  {
   "cell_type": "code",
   "execution_count": 2,
   "metadata": {},
   "outputs": [],
   "source": [
    "def p(x):\n",
    "   return (x & (x - 1)) == 0"
   ]
  },
  {
   "cell_type": "markdown",
   "metadata": {
    "slideshow": {
     "slide_type": "slide"
    }
   },
   "source": [
    "## Introduction 2\n",
    "\n",
    "What does this function?"
   ]
  },
  {
   "cell_type": "code",
   "execution_count": 3,
   "metadata": {},
   "outputs": [],
   "source": [
    "def is_power_of_two(value):\n",
    "   return (value & (value - 1)) == 0"
   ]
  },
  {
   "cell_type": "markdown",
   "metadata": {
    "slideshow": {
     "slide_type": "slide"
    }
   },
   "source": [
    "## Introduction 3\n",
    "\n",
    "What does this function?"
   ]
  },
  {
   "cell_type": "code",
   "execution_count": 4,
   "metadata": {},
   "outputs": [],
   "source": [
    "def is_power_of_two(value):\n",
    "   \"\"\"Returns True if value is a power of two.\n",
    "\n",
    "   It supports numpy array of int of any dimensions and returns\n",
    "   an array of bool of same dimensions.\n",
    "\n",
    "   Limitation: Returns True for 0.\n",
    "   \"\"\"\n",
    "   return (value & (value - 1)) == 0"
   ]
  },
  {
   "cell_type": "markdown",
   "metadata": {
    "slideshow": {
     "slide_type": "fragment"
    }
   },
   "source": [
    "This is why you should consider documenting your code.\n",
    "If you have no documentation yet, you should start it.\n",
    "\n",
    "It will be easier today than tomorrow.\n",
    "\n",
    "You can start by documenting each function you use for new developments.\n",
    "It is faster that you can expect."
   ]
  },
  {
   "cell_type": "markdown",
   "metadata": {
    "slideshow": {
     "slide_type": "slide"
    }
   },
   "source": [
    "## Different types of documentations\n",
    "\n",
    "Credits:\n",
    "\n",
    "Tarek Ziadé.\n",
    "Expert Python Programming. Chapter 10: Documenting your project.\n",
    "September 2008, PACKT Publishing.\n",
    "https://tarekziade.files.wordpress.com/2008/09/chapter-10.pdf\n",
    "\n",
    "See also the [software documentation article on Wikipedia](https://en.wikipedia.org/wiki/Software_documentation)."
   ]
  },
  {
   "cell_type": "markdown",
   "metadata": {
    "slideshow": {
     "slide_type": "slide"
    }
   },
   "source": [
    "Different types of documentation:\n",
    "\n",
    "* **Operation**: Installation, FAQ\n",
    "\n",
    "* **Usage**: How to use the software from API, command line or GUI:\n",
    "\n",
    "  * *Cookbooks*: how to *do* something specific,\n",
    "  * *Tutorials*: how to *use* a feature step-by-step,\n",
    "  * *module API*.\n",
    "\n",
    "* **Design**: How the software works, how code is organized.\n",
    "\n",
    "  Intended audience: developers, advanced users looking for insights.\n",
    "\n",
    "\n",
    "Structure all the documents: Index page, tree structure."
   ]
  },
  {
   "cell_type": "markdown",
   "metadata": {
    "slideshow": {
     "slide_type": "slide"
    }
   },
   "source": [
    "Main rules for technical writing:\n",
    "\n",
    "* Write in two steps: Ideas first, then organisation and style.\n",
    "* Target the readership.\n",
    "* Use a simple style.\n",
    "* Limit the scope of the information: One concept at a time.\n",
    "* Use realistic code examples.\n",
    "* Choose which documentation to write and avoid heavy documents.\n",
    "* (Re)Use templates."
   ]
  },
  {
   "cell_type": "markdown",
   "metadata": {
    "slideshow": {
     "slide_type": "slide"
    }
   },
   "source": [
    "## reStructuredText (rst)\n",
    "\n",
    "Wikipedia definition:\n",
    "\n",
    "[reStructuredText](http://docutils.sourceforge.net/rst.html) is a file format for textual data used for technical documentation (among others).\n",
    "\n",
    "* *Easy-to-read* text markup syntax.\n",
    "* Conversion to different formats (e.g., html, pdf, latex).\n",
    "* Version Control System friendly: Text files with one sentence per line.\n",
    "* Primarily for Python documentation."
   ]
  },
  {
   "cell_type": "markdown",
   "metadata": {
    "slideshow": {
     "slide_type": "slide"
    },
    "tags": []
   },
   "source": [
    "## rst inline markup\n",
    "\n",
    "| rst                   | result              |\n",
    "|-----------------------|---------------------|\n",
    "| `*emphasis*`          | *emphasis*          |\n",
    "| `**strong emphasis**` | **strong emphasis** |\n",
    "| ``` `Python hyperlink <http://www.python.org/>`_``` | [Python hyperlink](http://www.python.org/) |\n",
    "\n",
    "For more inline markup: http://docutils.sourceforge.net/docs/user/rst/quickref.html#inline-markup"
   ]
  },
  {
   "cell_type": "markdown",
   "metadata": {
    "slideshow": {
     "slide_type": "slide"
    }
   },
   "source": [
    "## rst roles\n",
    "\n",
    "```text\n",
    "   :role_name:`content`\n",
    "```\n",
    "\n",
    "Examples:\n",
    "\n",
    "- ``` `:math:\\`\\\\sqrt{\\\\frac{x^2}{3}}\\` ``` → $$\\sqrt{\\frac{x^2}{3}}$$\n",
    "- ``` `1\\\\ :superscript:`st`` ``` → $$1^{st}$$\n",
    "\n",
    "[Documentation relative to roles](http://docutils.sourceforge.net/docs/ref/rst/roles.html)"
   ]
  },
  {
   "cell_type": "markdown",
   "metadata": {
    "slideshow": {
     "slide_type": "slide"
    }
   },
   "source": [
    "## rst directive\n",
    "\n",
    "```text\n",
    "  .. directive_type:: arguments\n",
    "     :option: value\n",
    "```\n",
    "\n",
    "Content: indented and separated by blank lines.\n",
    "\n",
    "Example: **Code block** with syntax highlighting:\n",
    "\n",
    "```text\n",
    "  .. code-block:: python\n",
    "\n",
    "     def add(a, b):\n",
    "         return a + b\n",
    "```\n",
    "\n",
    "→ This directive will produce:\n",
    "\n",
    "```python\n",
    "   def add(a, b):\n",
    "       return a + b\n",
    "```\n",
    "\n",
    "[Documentation relative to directives](http://docutils.sourceforge.net/docs/ref/rst/directives.html)"
   ]
  },
  {
   "cell_type": "markdown",
   "metadata": {
    "slideshow": {
     "slide_type": "slide"
    }
   },
   "source": [
    "## README\n",
    "\n",
    "It will be the **first look** at your project.\n",
    "\n",
    "It should contain:\n",
    "\n",
    "* Name of the project\n",
    "* Brief description (i.e., abstract)\n",
    "* Installation\n",
    "* Documentation: Getting started and/or link to documentation.\n",
    "* License\n",
    "* Authors\n",
    "* More if you think it is relevant\n",
    "\n",
    "\n"
   ]
  },
  {
   "cell_type": "markdown",
   "metadata": {
    "slideshow": {
     "slide_type": "slide"
    }
   },
   "source": [
    "You can start from an existing template file:\n",
    "\n",
    "* https://github.com/konstantint/python-boilerplate-template/blob/master/README.rst\n",
    "* https://github.com/rtfd/template/blob/master/README.rst\n",
    "\n",
    "README is also commonly written in a `.md` file: markdown format.\n",
    "Markdown is the format adopted by Doxygen. RST and MD are very close."
   ]
  },
  {
   "cell_type": "markdown",
   "metadata": {
    "slideshow": {
     "slide_type": "slide"
    }
   },
   "source": [
    "## Hands-on\n",
    "\n",
    "Write the README.rst of the project.\n",
    "\n",
    "It should include the project name, description, installation, license and author.\n"
   ]
  },
  {
   "cell_type": "markdown",
   "metadata": {
    "slideshow": {
     "slide_type": "slide"
    }
   },
   "source": [
    "You can use a [rst cheat sheet](https://github.com/ralsina/rst-cheatsheet/blob/master/rst-cheatsheet.rst) and create/edit the README.rst file directly from github / gitlab (result preview can help you)\n",
    "\n",
    "![image](images/rst_cheat_sheet.png)"
   ]
  },
  {
   "cell_type": "markdown",
   "metadata": {
    "slideshow": {
     "slide_type": "slide"
    }
   },
   "source": [
    "## Docstrings"
   ]
  },
  {
   "cell_type": "code",
   "execution_count": 5,
   "metadata": {},
   "outputs": [],
   "source": [
    "\"\"\"This module provides a random generator.\"\"\"  # Module docstring\n",
    "\n",
    "RAND_SEED = 1\n",
    "\"\"\"Seed used by rand.\"\"\"  # Module attribute docstring\n",
    "\n",
    "def rand():\n",
    "   \"\"\"Returns a random floating point number.\"\"\"  # Function docstring\n",
    "   ...\n",
    "\n",
    "class RandomGenerator(object):\n",
    "   \"\"\"Pseudo random generator class.\n",
    "   It is based on the XORShift algorithm.\n",
    "   \"\"\"  # Class docstring\n",
    "\n",
    "   DEFAULT_SEED = 1\n",
    "   \"\"\"Default random generator seed.\"\"\"  # Class attribute docstring\n",
    "\n",
    "   def __init__(self, seed=None):\n",
    "       self.seed = seed or self.DEFAULT_SEED\n",
    "       \"\"\"The generator's seed.\"\"\"  # Instance attribute docstring\n",
    "\n",
    "   def rand(self):\n",
    "       \"\"\"Returns a pseudo-random float.\"\"\"  # Method docstring"
   ]
  },
  {
   "cell_type": "markdown",
   "metadata": {},
   "source": [
    "The docstrings are accessible from Python using `help()` or `__doc__`."
   ]
  },
  {
   "cell_type": "markdown",
   "metadata": {
    "slideshow": {
     "slide_type": "slide"
    }
   },
   "source": [
    "### Docstring content\n",
    "\n",
    "[PEP 257](https://www.python.org/dev/peps/pep-0257/) docstring content recommendation:\n",
    "\n",
    "* For **script**: Module docstring should be its **usage message** from the command line.\n",
    "* For **module**: List of the classes, exceptions and functions with a one-line summary of each.\n",
    "* For **class**: **Behavior summary**, list of the public method and instance variables.\n",
    "* For **function** and **method**: **Behavior summary**, documentation of **arguments**, **return value**, side effects, exceptions raised, restrictions."
   ]
  },
  {
   "cell_type": "markdown",
   "metadata": {
    "slideshow": {
     "slide_type": "slide"
    }
   },
   "source": [
    "## Sphinx\n",
    "\n",
    "Wikipedia definition:\n",
    "\n",
    "\"Sphinx is a documentation generator written and used by the Python community. It is written in Python, and also used in other environments.\"\n",
    "\n",
    "Sphinx is able to produce html / pdf documentation from docstrings and a valid syntax based on rst.\n",
    "\n",
    "This means that you can add some rst information to be interpreted by Sphinx.\n",
    "\n",
    "```python\n",
    "def is_power_of_two(value):\n",
    "   \"\"\"Function to check given values are a power of two\n",
    "\n",
    "   :param value: array of value to test\n",
    "   :type value: numpy array of int\n",
    "   :return: True if value is a power of two or is 0.\n",
    "   :rtype: numpy array of bool\n",
    "   \"\"\"\n",
    "   return (value & (value - 1)) == 0\n",
    "```\n",
    "\n",
    "![image](images/is_power_of_two_doc_screenshot.png)"
   ]
  },
  {
   "cell_type": "markdown",
   "metadata": {
    "slideshow": {
     "slide_type": "slide"
    }
   },
   "source": [
    "## Sphinx\n",
    "\n",
    "### Installation\n",
    "\n",
    "```bash\n",
    "pip install sphinx\n",
    "```\n",
    "\n",
    "Note: [First steps with Sphinx](http://sphinx-doc.org/tutorial.html)"
   ]
  },
  {
   "cell_type": "markdown",
   "metadata": {
    "slideshow": {
     "slide_type": "slide"
    }
   },
   "source": [
    "### Using Sphinx\n",
    "\n",
    "Sphinx documentation generation is based on a configuration file (`conf.py`)\n",
    "\n",
    "Steps to create the sphinx configuration file:\n",
    "\n",
    "1. Create a `doc` folder at the root level\n",
    "2. Run `sphinx-quickstart ./`\n",
    "\n",
    "This will create a source directory and a Makefile. To build the documentation, run\n",
    "\n",
    "```bash\n",
    "make html\n",
    "```\n",
    "\n",
    "or from the root dir:\n",
    "\n",
    "```bash\n",
    "sphinx-build -b html sourcedir builddir\n",
    "```"
   ]
  },
  {
   "cell_type": "markdown",
   "metadata": {
    "slideshow": {
     "slide_type": "slide"
    }
   },
   "source": [
    "### Using Sphinx (2)\n",
    "\n",
    "- The doc/source directory contains the 'master document' file. By default the name is 'index.rst'.\n",
    "\n",
    "- `index.rst` file is the entry point of the documentation.\n",
    "\n",
    "- You can include other `*.rst` files to write the documentation.\n",
    "\n",
    "The `index.rst` file contains the table of contents:\n",
    "\n",
    "```rst\n",
    "  Contents:\n",
    "  \n",
    "  .. toctree::\n",
    "     :maxdepth: 2\n",
    "\n",
    "     polynom.rst\n",
    "     mathutils.rst\n",
    "```"
   ]
  },
  {
   "cell_type": "markdown",
   "metadata": {
    "slideshow": {
     "slide_type": "slide"
    }
   },
   "source": [
    "### Using Sphinx (3)\n",
    "\n",
    "The different `*.rst` files are used to\n",
    "\n",
    "* structure the documentation.\n",
    "* select what is documented.\n",
    "* avoid pollution of the source code with too much documentation."
   ]
  },
  {
   "cell_type": "markdown",
   "metadata": {
    "slideshow": {
     "slide_type": "slide"
    }
   },
   "source": [
    "### Using Sphinx (4)\n",
    "\n",
    "#### autodoc\n",
    "\n",
    "The sphinx extension `sphinx.ext.autodoc` includes docstrings from source code in the generated documentation.\n",
    "\n",
    "This will allow you to define what should be included in the documentation and what shouldn't\n",
    "\n",
    "```rst\n",
    "\n",
    "  .. autofunction:: <function_name>\n",
    "\n",
    "  .. automodule:: <module_name>\n",
    "     :members: <optional: list of members>\n",
    "     :undoc-members:\n",
    "\n",
    "  .. autoclass:: <class_name>\n",
    "     :members: <optional: list of members>\n",
    "     :undoc-members:\n",
    "     :inherited-members:\n",
    "```"
   ]
  },
  {
   "cell_type": "markdown",
   "metadata": {
    "slideshow": {
     "slide_type": "slide"
    }
   },
   "source": [
    "\n",
    "And more: `autoexception, autodata, automethod, autoattribute` (see [sphinx.ext.autodoc documentation](http://sphinx-doc.org/ext/autodoc.html#module-sphinx.ext.autodoc>))\n",
    "\n",
    "Warning: autodoc **imports** the modules to be documented.\n",
    "The modules must be installed or added to `sys.path` in `conf.py`."
   ]
  },
  {
   "cell_type": "markdown",
   "metadata": {
    "slideshow": {
     "slide_type": "slide"
    }
   },
   "source": [
    "#### autodoc (2)\n",
    "For example a simple polynom.rst can look like:\n",
    "\n",
    "```rst\n",
    "  :mod:`polynom`: Polynom\n",
    "  -----------------------\n",
    "\n",
    "  .. automodule:: pypolynom.polynom\n",
    "      :members: polynom\n",
    "```"
   ]
  },
  {
   "cell_type": "markdown",
   "metadata": {
    "slideshow": {
     "slide_type": "slide"
    }
   },
   "source": [
    "#### Info field lists\n",
    "\n",
    "Info field lists are sequences of fields marked up.\n",
    "They are useful to document functions:\n",
    "\n",
    "```python\n",
    "\n",
    "   def random_xorshift32(last_value, shift_triple=(13, 17, 5)):\n",
    "       \"\"\"32 bits pseudo-random generator.\n",
    "\n",
    "       :param numpy.uint32 last_value: Previously returned number or the seed.\n",
    "       :param shift_triple: Bit shifts to use.\n",
    "       :type shift_triple: 3-tuple of int\n",
    "       :return: The generated random number.\n",
    "       :rtype: numpy.uint32\n",
    "       :raises ValueError: if x is not a numpy.uint32\n",
    "       \"\"\"\n",
    "       x = numpy.uint32(last_value)  # Work with 32bits unsigned integer\n",
    "       x ^= numpy.uint32(last_value) << shift_triple[0]\n",
    "       x ^= x >> shift_triple[1]\n",
    "       x ^= x << shift_triple[2]\n",
    "       return x\n",
    "```\n",
    "    \n",
    "The field lists above was written with the \"classic\" syntax. Other syntax can be supported with the [Napoleon extension](http://sphinxcontrib-napoleon.readthedocs.org>):\n",
    "- [Google style](http://sphinxcontrib-napoleon.readthedocs.org/en/latest/example_google.html)\n",
    "- [Numpy style](http://sphinxcontrib-napoleon.readthedocs.org/en/latest/example_numpy.html#example-numpy>)"
   ]
  },
  {
   "cell_type": "markdown",
   "metadata": {
    "slideshow": {
     "slide_type": "slide"
    }
   },
   "source": [
    "## Hands-on\n",
    "\n",
    "1. Generate the html documentation of your master branch. Open it using a web browser.\n",
    "2. Embed documentation of the polynom module. Make sure it contains the documentation of the polynom function.\n",
    "3. Document the mathutil module with (rst) docstring and regenerate documentation\n",
    "\n",
    "    - add docstrings (rst format) to the mathutil.py file\n",
    "\n",
    "    - add a `mathutil.rst` file to embed documentation from the mathutil module\n",
    "\n",
    "    - specify the class, function... to include in the documentation\n",
    "\n",
    "    - include the `mathutil.rst` file into the `index.rst` file\n",
    "\n",
    "    - regenerate the documentation"
   ]
  },
  {
   "cell_type": "markdown",
   "metadata": {
    "slideshow": {
     "slide_type": "slide"
    }
   },
   "source": [
    "## Final note on Sphinx\n",
    "\n",
    "`*.rst files` can be generated automatically using **sphinx-apidoc**. See https://www.sphinx-doc.org/en/master/man/sphinx-autogen.html\n",
    "\n",
    "```bash\n",
    "sphinx-apidoc -o doc/ ./\n",
    "```"
   ]
  },
  {
   "cell_type": "markdown",
   "metadata": {
    "slideshow": {
     "slide_type": "slide"
    }
   },
   "source": [
    "## Sphinx extensions\n",
    "\n",
    "Sphinx includes extensions that provide additionnal features such as:\n",
    "\n",
    "* **mathjax**: renders math formula in the browser with MathJax\n",
    "* **autodoc**: automatically inserts docstrings from modules\n",
    "* **viewcode**: includes links to source\n",
    "\n",
    "To use the extensions, they need to be registered in your Sphinx `conf.py` file\n",
    "\n",
    "```python\n",
    "    extensions = [\n",
    "        # automatically inserts docstrings from modules\n",
    "        'sphinx.ext.autodoc',\n",
    "\n",
    "        # renders math formula in the browser with MathJax\n",
    "        'sphinx.ext.mathjax',\n",
    "\n",
    "        # includes links to source\n",
    "        'sphinx.ext.viewcode'\n",
    "    ]\n",
    "```\n",
    "\n",
    "[See more sphinx extensions](http://www.sphinx-doc.org/en/stable/extensions.html)"
   ]
  },
  {
   "cell_type": "markdown",
   "metadata": {
    "slideshow": {
     "slide_type": "slide"
    }
   },
   "source": [
    "## Sphinx extensions (2)\n",
    "\n",
    "Several third-party libraries are also defining there own directives and/or roles.\n",
    "\n",
    "* [matplotlib plot](https://matplotlib.org/devel/plot_directive.html)\n",
    "* [embed video](https://github.com/sphinx-contrib/video)\n",
    "* [list of reference contribution](https://www.sphinx-doc.org/en/master/develop.html)\n",
    "* [github sphinx contrib](https://github.com/sphinx-contrib)\n",
    "\n",
    "Those extensions have to be installed independently of Sphinx."
   ]
  },
  {
   "cell_type": "markdown",
   "metadata": {
    "slideshow": {
     "slide_type": "slide"
    }
   },
   "source": [
    "## Embed a Jupyter notebook into documentation\n",
    "\n",
    "You can also embed Jupyter notebooks into documentation using [nbsphinx](https://nbsphinx.readthedocs.io/en/0.4.2/).\n",
    "\n",
    "This is particularly helpful if notebook tutorials are already existing.\n",
    "\n",
    "See https://gitlab.esrf.fr/silx/pypolynom_completed/blob/master/doc/source/index.rst which embed the tutorial.ipynb notebook."
   ]
  },
  {
   "cell_type": "markdown",
   "metadata": {
    "slideshow": {
     "slide_type": "slide"
    }
   },
   "source": [
    "## Continuous deployment of documentation\n",
    "\n",
    "There are two alternatives\n",
    "\n",
    "1. Building documentation automatically from [Read the Docs](https://readthedocs.org/).\n",
    "\n",
    "  It builds the documentation with Sphinx:\n",
    "\n",
    "  * Install dependencies defined in a *requirements file*.\n",
    "  * Install the package with `setup.py install`.\n",
    "  * Look for a `conf.py` file and use it to build the documentation.\n",
    "  * Make documentation available at `http://<project_name>.readthedocs.org/`.\n",
    "\n",
    "  [Documentation of Read the Docs](http://read-the-docs.readthedocs.org/)\n",
    "\n",
    "2. Using [Gitlab pages](https://docs.gitlab.com/ee/user/project/pages/) which allows you to publish static websites that can be generated from CI.\n",
    "See the [gitlab-ci.yml file](https://gitlab.esrf.fr/silx/pypolynom_completed/blob/master/.gitlab-ci.yml) and the [gitlab project pages](https://gitlab.esrf.fr/silx/pypolynom_completed/pages)"
   ]
  },
  {
   "cell_type": "markdown",
   "metadata": {
    "slideshow": {
     "slide_type": "slide"
    }
   },
   "source": [
    "## Conclusion\n",
    "\n",
    "\n",
    "* If your project does not have documentation yet → **start it right away !**\n",
    "* The README file is the first thing people will read. Do not neglect it !\n",
    "* Different documentation exist for different purposes\n",
    "* Powerful tools exist to ease the process\n",
    "* You should document your project !!!\n",
    "* Having a build system that generates the documentation encourages writing it.\n",
    "* Keeping the documentaion with the source code helps maintaining it: update the code and the documentation at the same time.\n",
    "* You really should document your project !!!\n"
   ]
  }
 ],
 "metadata": {
  "celltoolbar": "Slideshow",
  "kernelspec": {
   "display_name": "Python3 (juno)",
   "language": "python",
   "name": "python3"
  },
  "language_info": {
   "codemirror_mode": {
    "name": "ipython",
    "version": 3
   },
   "file_extension": ".py",
   "mimetype": "text/x-python",
   "name": "python",
   "nbconvert_exporter": "python",
   "pygments_lexer": "ipython3",
   "version": "3.8.10"
  }
 },
 "nbformat": 4,
 "nbformat_minor": 4
}
