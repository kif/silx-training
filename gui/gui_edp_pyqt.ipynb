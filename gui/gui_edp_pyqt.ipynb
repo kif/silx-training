{
 "cells": [
  {
   "cell_type": "markdown",
   "metadata": {
    "slideshow": {
     "slide_type": "slide"
    }
   },
   "source": [
    "# Graphical User Interface programming in Python\n",
    "\n",
    "Goal: Writing a simple Graphical User Interfaces (GUI) with PyQt based on existing widgets."
   ]
  },
  {
   "cell_type": "markdown",
   "metadata": {
    "slideshow": {
     "slide_type": "slide"
    }
   },
   "source": [
    "## Exercice\n",
    "\n",
    "The exercice for this training is to create a GUI for calculating the diffraction image obtained from a 2D cristal composed on a square of NxN atoms using the Laue formula.\n",
    "\n",
    "```python\n",
    "def laue_image(ncells, h, k, oversampling):\n",
    "    pass\n",
    "```\n",
    "\n",
    "The `laue_image` function calculates the diffraction image around the Bragg peak (`H`, `K`), actually (H-0.5…H+0.5, K-0.5…K+0.5) of a `ncells`x`ncells` 2D square cristal considering an `oversampling` factor.\n",
    "This oversampling factor should be at least 2 to have 2 points per peak. \n",
    "\n",
    "The Python/numpy implementation is available here: [laue.py](laue.py)"
   ]
  },
  {
   "cell_type": "code",
   "execution_count": 42,
   "metadata": {
    "slideshow": {
     "slide_type": "subslide"
    }
   },
   "outputs": [
    {
     "data": {
      "text/plain": [
       "<matplotlib.image.AxesImage at 0x7f1283814550>"
      ]
     },
     "execution_count": 42,
     "metadata": {},
     "output_type": "execute_result"
    },
    {
     "data": {
      "image/png": "[encoded data removed]",
      "text/plain": [
       "<Figure size 432x288 with 1 Axes>"
      ]
     },
     "metadata": {
      "needs_background": "light"
     },
     "output_type": "display_data"
    }
   ],
   "source": [
    "%matplotlib inline\n",
    "from matplotlib import pyplot\n",
    "from matplotlib.colors import LogNorm\n",
    "\n",
    "import laue\n",
    "\n",
    "result = laue.laue_image(ncells=10, h=0, k=4, oversampling=2)\n",
    "\n",
    "pyplot.imshow(result, norm=LogNorm())"
   ]
  },
  {
   "cell_type": "markdown",
   "metadata": {
    "slideshow": {
     "slide_type": "subslide"
    }
   },
   "source": [
    "### Goal of the exercice\n",
    "\n",
    "Write a GUI similar to this sketch to execute the Laue function and save its result :\n",
    "\n",
    "![GUI sketch](images/sketch.png)"
   ]
  },
  {
   "cell_type": "markdown",
   "metadata": {
    "slideshow": {
     "slide_type": "slide"
    }
   },
   "source": [
    "# Qt and PyQt overview"
   ]
  },
  {
   "cell_type": "markdown",
   "metadata": {
    "slideshow": {
     "slide_type": "subslide"
    }
   },
   "source": [
    "### Qt\n",
    "\n",
    "[Qt](https://doc.qt.io/qt-5/index.html) is a free and open-source widget toolkit for creating graphical user interfaces.\n",
    "As a victim of its own success thanks it is also used for developing cross-platform applications.\n",
    "\n",
    "Written in c++, we are now in the 5th version, waiting for the 6th version. The first version has been released in 1995 !!!\n",
    "\n",
    "![qt](images/qt_icon.png)\n",
    "\n",
    "\n",
    "Qt is divided into several basic modules. The main modules for gui are:\n",
    "\n",
    "* Qt Core: Provides core non-GUI functionality, like signal and slots, properties, base classes of item models, serialization, etc.\n",
    "* Qt Gui: Extends QtCore with GUI functionality: Events, windows and screens, OpenGL and raster-based 2D painting, images.\n",
    "* Qt Widgets: Provides ready to use Widgets for your application, including also graphical elements for your UI.\n",
    "\n",
    "Besides those modules that you will use today, Qt is offering modules for web, sql, multimedia..."
   ]
  },
  {
   "cell_type": "markdown",
   "metadata": {
    "slideshow": {
     "slide_type": "subslide"
    }
   },
   "source": [
    "### PyQt\n",
    "\n",
    "Due to it sucess and python sucess, bindings have been developed for Qt: PyQt5 for Qt5, PyQt4 for Qt4. Now Qt is also starting of developping is own: PySide2. But development is on going.\n",
    "\n",
    "This permits users to access the power of Qt with the python 'abstraction'.\n",
    "\n",
    "Due to the documentation quality of pyqt5 and Qt, we are usuelly refering to the Qt documentation.\n",
    "Do not worry, most of the API is the same.\n",
    "\n",
    "* [pyqt5 on pypi](https://pypi.org/project/PyQt5/)\n",
    "* [pyqt5 official site](https://www.riverbankcomputing.com/software/pyqt/)"
   ]
  },
  {
   "cell_type": "code",
   "execution_count": null,
   "metadata": {
    "slideshow": {
     "slide_type": "-"
    }
   },
   "outputs": [],
   "source": [
    "from PyQt5 import Qt"
   ]
  },
  {
   "cell_type": "markdown",
   "metadata": {
    "slideshow": {
     "slide_type": "subslide"
    }
   },
   "source": [
    "### PySide2\n",
    "\n",
    "The Qt company is developping is own binding ['PySide2'](https://wiki.qt.io/Qt_for_Python).\n",
    "\n",
    "If you want to have some comparaison between the two, you can read https://machinekoder.com/pyqt-vs-qt-for-python-pyside2-pyside/\n",
    "\n",
    "*Usually people are using wrappers like [QtPy](https://pypi.org/project/QtPy/) for using eaver PySide2 or Pyqt5.*\n",
    "\n",
    "Information on licenses:\n",
    "\n",
    "* PySide2 is [LGPL](https://www.gnu.org/licenses/lgpl-3.0.en.html)\n",
    "* PyQt5 is [GNU GPL v3](https://www.gnu.org/licenses/gpl-3.0.en.html) (more restrivtive than the LGPL, basically all derivative works should be licensed under the terms of the GPL)\n",
    "\n"
   ]
  },
  {
   "cell_type": "markdown",
   "metadata": {
    "slideshow": {
     "slide_type": "slide"
    }
   },
   "source": [
    "# Introduction to GUI programming\n",
    "\n",
    "A GUI is an **interface** between a user and a computer system/program.\n",
    "\n",
    "It provides an **interaction** between both (mutual action/reaction relation).\n",
    "\n",
    "The computer system/program reacts upon user actions and provides feedbacks... and the other way around."
   ]
  },
  {
   "cell_type": "markdown",
   "metadata": {
    "slideshow": {
     "slide_type": "subslide"
    }
   },
   "source": [
    "## Human factors\n",
    "\n",
    "For this interaction to be efficent, human factors and ergonomics is key.\n",
    "\n",
    "This is not covered in this training. We will only introduce how to program a GUI application.\n",
    "\n",
    "Yet, you can ask yourself a few questions:\n",
    "\n",
    "- Who are the expected users? E.g., beginners or experts, frequency of usage.\n",
    "- Does the GUI provides hints on how to proceed?\n",
    "  E.g., do not expect users to find a function that is only available as a keyboard shortcut."
   ]
  },
  {
   "cell_type": "markdown",
   "metadata": {
    "slideshow": {
     "slide_type": "subslide"
    }
   },
   "source": [
    "## Event-driven programming\n",
    "\n",
    "The GUI is waiting for user inputs to react upon (or for new information from the processing to be available)."
   ]
  },
  {
   "cell_type": "markdown",
   "metadata": {
    "slideshow": {
     "slide_type": "subslide"
    }
   },
   "source": [
    "### Polling versus events\n",
    "\n",
    "Instead of checking if something happened on a regular basis (\"polling\"), a GUI program is waiting for notifications of user input or processing information.\n",
    "\n",
    "This is based on the callback mechanism: \"Don't call us, we'll call you back\" (Hollywood principle).\n",
    "\n",
    "This is the usual paradigm of GUI libraries."
   ]
  },
  {
   "cell_type": "markdown",
   "metadata": {
    "slideshow": {
     "slide_type": "subslide"
    }
   },
   "source": [
    "### Event loop\n",
    "\n",
    "The application execution is splitted in 2 stages:\n",
    "- Initialization: Prepare the application, register callbacks to get notified.\n",
    "- Execution of an event loop: Wait for events and process them in a loop.\n",
    "\n",
    "As the chronological order of events matters, the processing of events runs in a single thread.\n",
    "As a consequence, most GUI libraries are single-threaded (unless exceptions).\n",
    "\n",
    "The event loop is handled by the GUI libraries."
   ]
  },
  {
   "cell_type": "markdown",
   "metadata": {
    "slideshow": {
     "slide_type": "subslide"
    }
   },
   "source": [
    "### Event dispatcher\n",
    "\n",
    "GUI libraries provides an event dispatching mechanism to hide the event loop to the developer.\n",
    "\n",
    "A GUI is composed of reusable building bricks (\"widgets\") which are objects.\n",
    "The GUI library is in charge of dispatching the events to the right widget or to the right event handler.\n",
    "\n",
    "This turns the problem of handling events from a global one (a single loop for the whole application) to a local self-contained one (at the level of a single widget)."
   ]
  },
  {
   "cell_type": "markdown",
   "metadata": {
    "slideshow": {
     "slide_type": "subslide"
    }
   },
   "source": [
    "### QApplication\n",
    "\n",
    "The `QApplication` manages GUI control flow and relationship with the OS:\n",
    "* Runs the event loop and dispatcher\n",
    "* Handles the relation with the OS and window system: keyboard and mouse events, settings (look&feel, string localization)\n",
    "* Manages Qt objects\n",
    "\n",
    "**Note: There is only one QApplication per application.**\n",
    "\n",
    "Doc: https://doc.qt.io/qt-5/qapplication.html#details"
   ]
  },
  {
   "cell_type": "code",
   "execution_count": null,
   "metadata": {
    "slideshow": {
     "slide_type": "fragment"
    }
   },
   "outputs": [],
   "source": [
    "from PyQt5 import Qt\n",
    "\n",
    "app = Qt.QApplication([])\n",
    "\n",
    "# Initialization\n",
    "\n",
    "app.exec_()  # Event loop execution\n",
    "# This blocks until the application quit"
   ]
  },
  {
   "cell_type": "markdown",
   "metadata": {
    "slideshow": {
     "slide_type": "subslide"
    }
   },
   "source": [
    "#### Qt-IPython integration\n",
    "\n",
    "There is an IPython magic command to create the QApplication and execute it from a notebook"
   ]
  },
  {
   "cell_type": "code",
   "execution_count": null,
   "metadata": {
    "slideshow": {
     "slide_type": "-"
    }
   },
   "outputs": [],
   "source": [
    "%gui qt"
   ]
  },
  {
   "cell_type": "markdown",
   "metadata": {
    "slideshow": {
     "slide_type": "slide"
    }
   },
   "source": [
    "## A bit of software design\n",
    "\n",
    "**1st rule**: Keep a strict separation between the processing code and the GUI.\n",
    "\n",
    "- Why?:\n",
    "  - Different concerns\n",
    "  - Different knowledge\n",
    "  - Testing\n",
    "\n",
    "- How?:\n",
    "  - Split the code in e.g., 2 files: `myprocessing.py` and `gui.py`"
   ]
  },
  {
   "cell_type": "markdown",
   "metadata": {
    "slideshow": {
     "slide_type": "subslide"
    }
   },
   "source": [
    "**2nd rule**: The processing code does not depend on the GUI.\n",
    "\n",
    "- Why?:\n",
    "  - Minimize dependencies and avoid circular dependencies\n",
    "  - GUI usually evolves faster than the processing part\n",
    "  - The processing code can be reused in a different context (batch processing, script, web...)\n",
    "\n",
    "- How?:\n",
    "  - `gui.py` has an `import myprocessing` statement\n",
    "  - `myprocessing.py` does **NOT** have an `import gui` statement\n",
    "  - Communication:\n",
    "    - GUI -> Processing: function calls\n",
    "    - Processing -> GUI: callback mechanism"
   ]
  },
  {
   "cell_type": "markdown",
   "metadata": {
    "slideshow": {
     "slide_type": "slide"
    }
   },
   "source": [
    "# Qt mechanism and classes  TODO move"
   ]
  },
  {
   "cell_type": "markdown",
   "metadata": {
    "slideshow": {
     "slide_type": "slide"
    }
   },
   "source": [
    "### QObject\n",
    "\n",
    "Main Qt classes inherit from the QObject class.\n",
    "\n",
    "**The instanciation of any QObject requires the creation of a QApplication**\n",
    "This mecanism is clearly oriented Event-driven development and is central in the Qt design.\n",
    "This will permits Object to react to some information (button pressed...)\n",
    "\n",
    "This QObject class allows instances to communicate using the **signals and slots** communication.\n",
    "\n",
    "![signal slot example](images/signal_slot_observer.png)"
   ]
  },
  {
   "cell_type": "markdown",
   "metadata": {
    "slideshow": {
     "slide_type": "subslide"
    }
   },
   "source": [
    "The creation of a connection between two QObjects is made using **connect**. You can remove the connection using **disconnect**"
   ]
  },
  {
   "cell_type": "markdown",
   "metadata": {
    "slideshow": {
     "slide_type": "fragment"
    }
   },
   "source": [
    "``` python\n",
    "\n",
    "subject_object.signal1.connect(observer_object.slot)\n",
    "\n",
    "...\n",
    "\n",
    "subject_object.signal1.disconnect(observer_object.slot)\n",
    "\n",
    "```"
   ]
  },
  {
   "cell_type": "markdown",
   "metadata": {
    "slideshow": {
     "slide_type": "subslide"
    }
   },
   "source": [
    "#### signal / slot example\n",
    "To understand the interest of the signal / slot communication we can see implementation of the [observer](https://en.wikipedia.org/wiki/Observer_pattern) pattern with QObjects.\n",
    "\n",
    "The idea is that one object 'Subject' is notifying a list of objects 'Observer' about his state.\n",
    "\n",
    "![signal slot example](images/signal_slot_observer.png)\n"
   ]
  },
  {
   "cell_type": "markdown",
   "metadata": {
    "slideshow": {
     "slide_type": "subslide"
    }
   },
   "source": [
    "The 'pyqt' implementation looks like:"
   ]
  },
  {
   "cell_type": "code",
   "execution_count": null,
   "metadata": {
    "slideshow": {
     "slide_type": "fragment"
    }
   },
   "outputs": [],
   "source": [
    "class Observer(Qt.QObject):\n",
    "    \"\"\"Simple QObject, observing the state of a Subject\"\"\"\n",
    "    def __init__(self, name):\n",
    "        Qt.QObject.__init__(self)\n",
    "        self.name = name\n",
    "\n",
    "    def subjectObserveChangedHandler(self, state):\n",
    "        print('Observer ', self.name,\n",
    "            ' has been informed that subject has now state', state)\n",
    "\n",
    "\n",
    "class Subject(Qt.QObject):\n",
    "    \"\"\"Simple QObject with a state\"\"\"\n",
    "    sigStateChanged = Qt.pyqtSignal(str)\n",
    "\n",
    "    def setState(self, state):\n",
    "        print('subject state changed to', state)\n",
    "        self.sigStateChanged.emit(state)\n",
    "\n",
    "\n",
    "subject = Subject()\n",
    "observer0 = Observer(name='observer0')\n",
    "observer1 = Observer(name='observer1')\n",
    "\n",
    "# connect subject signal with observer slots\n",
    "subject.sigStateChanged.connect(observer0.subjectObserveChangedHandler)\n",
    "subject.sigStateChanged.connect(observer1.subjectObserveChangedHandler)\n",
    "\n",
    "# then change the state of the subject\n",
    "subject.setState('waiting')\n",
    "subject.setState('working')\n",
    "print('----------------------------------------')\n",
    "subject.sigStateChanged.disconnect(observer0.subjectObserveChangedHandler)\n",
    "subject.sigStateChanged.disconnect(observer1.subjectObserveChangedHandler)\n",
    "subject.setState('waiting')\n"
   ]
  },
  {
   "cell_type": "markdown",
   "metadata": {
    "slideshow": {
     "slide_type": "subslide"
    }
   },
   "source": [
    "If you want more details on \n",
    "* QObject: https://doc.qt.io/qt-5/qobject.html#details\n",
    "* signal / slots: https://doc.qt.io/qt-5/signalsandslots.html\n",
    "* connection type: https://doc.qt.io/qt-5/qt.html#ConnectionType-enum"
   ]
  },
  {
   "cell_type": "markdown",
   "metadata": {
    "slideshow": {
     "slide_type": "slide"
    }
   },
   "source": [
    "# Qt widgets\n",
    "\n",
    "Qt, among other, offers a large range of base widget to create your GUI.\n",
    "The complexity is well hidden behind the QApplication and QObject.\n"
   ]
  },
  {
   "cell_type": "markdown",
   "metadata": {
    "slideshow": {
     "slide_type": "fragment"
    }
   },
   "source": [
    "#### hello world\n",
    "If we want to create a simple label with 'hello word' text:"
   ]
  },
  {
   "cell_type": "code",
   "execution_count": null,
   "metadata": {
    "slideshow": {
     "slide_type": "fragment"
    }
   },
   "outputs": [],
   "source": [
    "first_widget = Qt.QLabel('hello world')\n",
    "first_widget.show()"
   ]
  },
  {
   "cell_type": "markdown",
   "metadata": {
    "slideshow": {
     "slide_type": "subslide"
    }
   },
   "source": [
    "#### basic qt widgets\n",
    "\n",
    "The QWidget class provides the basic capability to render to the screen, and to handle user input events.\n",
    "Widgets are classes inheriting from [QWidget](https://doc.qt.io/qt-5/qwidget.html).\n",
    "\n",
    "We will present shortly the most used widgets. This part as been taken from the official qt widget gallery: https://doc.qt.io/qt-5/gallery.html\n",
    "\n",
    "The qt implementation examples (calendar and styles) using pyqt5 are availables from: https://github.com/baoboa/pyqt5/edit/master/examples/widgets\n"
   ]
  },
  {
   "cell_type": "markdown",
   "metadata": {
    "slideshow": {
     "slide_type": "subslide"
    }
   },
   "source": [
    "![gallery calendar](images/gallery_calendar.png)\n",
    "\n",
    "\n",
    "* (1) [QGroupBox](https://doc.qt.io/qt-5/qgroupbox.html) provides a group box frame with a title.\n",
    "* (2) [QCalendarWidget](https://doc.qt.io/qt-5/qcalendarwidget.html) provides a monthly calendar widget that can be used to select dates.\n",
    "* (3) [QLabel](https://doc.qt.io/qt-5/qlabel.html) provides a text or image display.\n",
    "* (4) [QDateEdit](https://doc.qt.io/qt-5/qdateedit.html) provides a widget for editing dates.\n",
    "* (5) [QComboBox](https://doc.qt.io/qt-5/qcombobox.html) provides a combined button and pop-up list."
   ]
  },
  {
   "cell_type": "markdown",
   "metadata": {
    "slideshow": {
     "slide_type": "subslide"
    }
   },
   "source": [
    "![gallery style](images/gallery_styles.png)\n",
    "\n",
    "* (1)  [QCheckBox](https://doc.qt.io/qt-5/qcheckbox.html) provides a checkbox with a text label.\n",
    "* (2)  [QRadioButton](https://doc.qt.io/qt-5/qradiobutton.html) provides a radio button with a text or pixmap label.\n",
    "* (3)  [QPushButton](https://doc.qt.io/qt-5/qpushbutton.html) provides a command button.\n",
    "* (4)  [QTabWidget](https://doc.qt.io/qt-5/qtabwidget.html) provides a stack of tabbed widgets.\n",
    "* (5)  [QTableWidget](https://doc.qt.io/qt-5/qtablewidget.html) provides a classic item-based table view.\n",
    "* (6)  [QScrollBar](https://doc.qt.io/qt-5/qscrollbar.html) provides a vertical or horizontal scroll bar.\n",
    "* (7)  [QProgressBar](https://doc.qt.io/qt-5/qprogressbar.html) provides a horizontal progress bar.\n",
    "* (8)  [QDateTimeEdit](https://doc.qt.io/qt-5/qdatetimeedit.html) provides a widget for editing dates and times.\n",
    "* (9)  [QSlider](https://doc.qt.io/qt-5/qslider.html) provides a vertical or horizontal slider.\n",
    "* (10) [QDial](https://doc.qt.io/qt-5/qdial.html) provides a rounded range control (like a speedometer or potentiometer).\n",
    "* (11) [QLineEdit](https://doc.qt.io/qt-5/qlineedit.html) provides  a one-line text editor.\n"
   ]
  },
  {
   "cell_type": "markdown",
   "metadata": {
    "slideshow": {
     "slide_type": "subslide"
    }
   },
   "source": [
    "#### QWidget properties\n",
    "\n",
    "[QWidgets](https://doc.qt.io/qt-5/qwidget.html) have several properties.\n",
    "Some interesting one:\n",
    "    \n",
    "* visibility (hide/show/setVisible/isVisible): https://doc.qt.io/qt-5/qwidget.html#visible-prop\n",
    "* toolTip: tooltip will be displayed when the mouse fly over (toolTip(), setToolTip())\n",
    "* window title (windowTitle(), setWindowTitle())\n",
    "* widget size (setFixedSize(), setWidth(), resize()...)\n",
    "* enabled (enabled(), setEnabled())"
   ]
  },
  {
   "cell_type": "markdown",
   "metadata": {
    "slideshow": {
     "slide_type": "subslide"
    }
   },
   "source": [
    "### Exercise with QLabel\n",
    "\n",
    "* create a QLabel and display it\n",
    "* change the value and print the value using the [QLabel API](https://doc.qt.io/qt-5/qlabel.html)"
   ]
  },
  {
   "cell_type": "code",
   "execution_count": null,
   "metadata": {
    "slideshow": {
     "slide_type": "fragment"
    }
   },
   "outputs": [],
   "source": [
    "# create a QLabel\n",
    "mylabel = ...\n",
    "# set the value of the QLabel\n",
    "...\n",
    "# show the QLabel\n",
    "...\n",
    "# print the QLabel text\n",
    "print()"
   ]
  },
  {
   "cell_type": "markdown",
   "metadata": {
    "slideshow": {
     "slide_type": "subslide"
    }
   },
   "source": [
    "### Exercise with QLineEdit (1)\n",
    "\n",
    "* create a [QLineEdit](https://doc.qt.io/qt-5/qlineedit.html) and display it\n",
    "* use a [QIntValidator](https://doc.qt.io/qt-5/qintvalidator.html) to insure the contain of the [QLineEdit](https://doc.qt.io/qt-5/qlineedit.html) is a **positive** int\n",
    "* (optionnal) add a toolTip on the QLineEdit"
   ]
  },
  {
   "cell_type": "code",
   "execution_count": null,
   "metadata": {
    "slideshow": {
     "slide_type": "fragment"
    }
   },
   "outputs": [],
   "source": [
    "# QLineEdit creation\n",
    "myLineEdit = ...\n",
    "# defining the validator\n",
    "...\n",
    "# adding the validator to the QLineEdit\n",
    "...\n",
    "# show the QLineEdit"
   ]
  },
  {
   "cell_type": "markdown",
   "metadata": {
    "slideshow": {
     "slide_type": "fragment"
    }
   },
   "source": [
    "### Exercise with QLineEdit (2)\n",
    "\n",
    "* define a class `IntLineEdit` which inherit from QLineEdit and create the QIntValidator in the constructor.\n",
    "* the constructor should take `bottom` and `top` arguments."
   ]
  },
  {
   "cell_type": "code",
   "execution_count": null,
   "metadata": {
    "slideshow": {
     "slide_type": "fragment"
    }
   },
   "outputs": [],
   "source": [
    "class IntLineEdit(Qt.QLineEdit):\n",
    "    def __init__(self, parent=None):\n",
    "        super(IntLineEdit, self).__init__(parent)\n",
    "\n",
    "widget = IntLineEdit()\n",
    "widget.show()"
   ]
  },
  {
   "cell_type": "markdown",
   "metadata": {
    "slideshow": {
     "slide_type": "subslide"
    }
   },
   "source": [
    "#### Dialogs\n",
    "\n",
    "Qt is also providing a set of dialogs.\n",
    "Dialogs are made for *short-term tasks and brief communications with the user*\n",
    "\n",
    "**Dialogs can be modal (blocking) or not.**\n",
    "\n",
    "-> If we want a modal dialog then we will call `exec_()` and wait for response. If not we will use `show()`"
   ]
  },
  {
   "cell_type": "markdown",
   "metadata": {
    "slideshow": {
     "slide_type": "slide"
    }
   },
   "source": [
    "##### QMessageBox\n",
    "\n",
    "To ask user question or give information you can use a [QMessageBox](https://doc.qt.io/qt-5/qmessagebox.html)"
   ]
  },
  {
   "cell_type": "code",
   "execution_count": null,
   "metadata": {
    "slideshow": {
     "slide_type": "subslide"
    }
   },
   "outputs": [],
   "source": [
    "msg = Qt.QMessageBox()\n",
    "msg.setIcon(Qt.QMessageBox.Warning)\n",
    "msg.setText(\"This is a warning message\")\n",
    "msg.setInformativeText(\"this message concern QMessageBox\")\n",
    "msg.setWindowTitle(\"MessageBox warning\")\n",
    "msg.setDetailedText(\"Details of the message\")\n",
    "msg.exec_()"
   ]
  },
  {
   "cell_type": "markdown",
   "metadata": {
    "slideshow": {
     "slide_type": "subslide"
    }
   },
   "source": [
    "We can also obtain QMessageBox instances from the [QMessageBox](https://doc.qt.io/qt-5/qmessagebox.html) static functions like 'warning' or 'information':"
   ]
  },
  {
   "cell_type": "code",
   "execution_count": null,
   "metadata": {
    "slideshow": {
     "slide_type": "fragment"
    }
   },
   "outputs": [],
   "source": [
    "button = Qt.QMessageBox.warning(None,\n",
    "                                \"MessageBox warning\",\n",
    "                                \"This is a warning message\")"
   ]
  },
  {
   "cell_type": "markdown",
   "metadata": {
    "slideshow": {
     "slide_type": "fragment"
    }
   },
   "source": [
    "##### QFileDialog\n",
    "\n",
    "The [QFileDialog](https://doc.qt.io/qt-5/qfiledialog.html) can be used to get file(s) and or folder(s) path, existing or not."
   ]
  },
  {
   "cell_type": "code",
   "execution_count": null,
   "metadata": {
    "slideshow": {
     "slide_type": "fragment"
    }
   },
   "outputs": [],
   "source": [
    "dialog = Qt.QFileDialog()\n",
    "dialog.setAcceptMode(QFileDialog.AcceptOpen)\n",
    "dialog.setFileMode(QFileDialog.FileMode.ExistingFiles)\n",
    "dialog.setNameFilters([\"py (*.py)\", \"ipynb (*.ipynb)\", \"txt (*.txt)\"])\n",
    "\n",
    "if dialog.exec_():\n",
    "    print('selected files are', dialog.selectedFiles())\n",
    "else:\n",
    "    print('user cancel file selection')"
   ]
  },
  {
   "cell_type": "markdown",
   "metadata": {
    "slideshow": {
     "slide_type": "subslide"
    }
   },
   "source": [
    "Here again, you can get some default QFileDialog from static functions:"
   ]
  },
  {
   "cell_type": "code",
   "execution_count": null,
   "metadata": {
    "slideshow": {
     "slide_type": "fragment"
    }
   },
   "outputs": [],
   "source": [
    "filenames, filter_ = Qt.QFileDialog.getOpenFileNames(None, 'files to open')\n",
    "print('File names:', filename)"
   ]
  },
  {
   "cell_type": "markdown",
   "metadata": {
    "slideshow": {
     "slide_type": "subslide"
    }
   },
   "source": [
    "#### other dialogs\n",
    "There is other dialogs available in Qt:\n",
    "    \n",
    "* [QColorDialog](https://doc.qt.io/qt-5/qcolordialog.html): dialog widget for specifying colors.\n",
    "* [QErrorMessage](https://doc.qt.io/qt-5/qerrormessage.html): error message display dialog.\n",
    "* [QFontDialog](https://doc.qt.io/qt-5/qfontdialog.html): dialog widget for selecting a font.\n",
    "* [QInputDialog](https://doc.qt.io/qt-5/qinputdialog.html): dialog to get a single value from the user.\n",
    "* [QProgressDialog](https://doc.qt.io/qt-5/qprogressdialog.html): progress of an operation. \n",
    "* [QWizard](https://doc.qt.io/qt-5/qwizard.html): framework for [wizards] (several pages dialogs, see https://doc.qt.io/qt-5/qtwidgets-dialogs-trivialwizard-example.html)."
   ]
  },
  {
   "cell_type": "markdown",
   "metadata": {
    "slideshow": {
     "slide_type": "subslide"
    }
   },
   "source": [
    "#### Advanced widgets\n",
    "\n",
    "\n",
    "![tree from silx view](images/silx_tree.png)\n",
    "\n",
    "\n",
    "There is even more possibilities, like defining trees ([QTreeView](https://doc.qt.io/qt-5/qtreeview.html)), list ([QListWidget](https://doc.qt.io/qt-5/qlistwidget.html))...\n",
    "But his part will not be covered today.\n"
   ]
  },
  {
   "cell_type": "markdown",
   "metadata": {
    "slideshow": {
     "slide_type": "slide"
    }
   },
   "source": [
    "# A word on events\n",
    "\n",
    "As said in the introduction, Qt dispatches events such as keyboard, mouse and windowing system events to the right QWidget.\n",
    "\n",
    "QWidgets are notified of such events by calls to their event handling methods, which names end with `Event`:\n",
    "- [mousePressEvent](https://doc.qt.io/qt-5/qwidget.html#mousePressEvent)\n",
    "- [keyPressEvent](https://doc.qt.io/qt-5/qwidget.html#keyPressEvent)\n",
    "- [resizeEvent](https://doc.qt.io/qt-5/qwidget.html#resizeEvent)\n",
    "- And more, see [QWidget events doc](https://doc.qt.io/qt-5/qwidget.html#events)"
   ]
  },
  {
   "cell_type": "code",
   "execution_count": 41,
   "metadata": {
    "slideshow": {
     "slide_type": "subslide"
    }
   },
   "outputs": [
    {
     "name": "stdout",
     "output_type": "stream",
     "text": [
      "You are smart or lucky!\n"
     ]
    }
   ],
   "source": [
    "import random\n",
    "\n",
    "class Button(Qt.QPushButton):\n",
    "    def __init__(self, parent=None):\n",
    "        super(Button, self).__init__(\"Catch me if you can\", parent)\n",
    "        self.clicked.connect(self._clicked)\n",
    "        \n",
    "    def _clicked(self):\n",
    "        print(\"You are smart or lucky!\")\n",
    "\n",
    "    def enterEvent(self, event):\n",
    "        app = Qt.QApplication.instance()\n",
    "        desktop = app.desktop()  # QDesktopWidget\n",
    "        rect = desktop.availableGeometry(self)\n",
    "        x = random.randint(rect.x(), rect.width() - self.width())\n",
    "        y = random.randint(rect.y(), rect.height() - self.height())\n",
    "        self.move(x, y)\n",
    "\n",
    "\n",
    "button = Button()\n",
    "button.show()"
   ]
  },
  {
   "cell_type": "markdown",
   "metadata": {
    "slideshow": {
     "slide_type": "slide"
    }
   },
   "source": [
    "# Assembling widgets\n",
    "\n",
    "How to go from single widgets to a consistent graphical user interface.\n",
    "\n",
    "Objective: Describe and manage the geometric imbrication of widgets:\n",
    "\n",
    "- Container widgets\n",
    "- Layout"
   ]
  },
  {
   "cell_type": "markdown",
   "metadata": {
    "slideshow": {
     "slide_type": "subslide"
    }
   },
   "source": [
    "![pyMCA](images/pymca_gui.png)"
   ]
  },
  {
   "cell_type": "markdown",
   "metadata": {
    "slideshow": {
     "slide_type": "subslide"
    }
   },
   "source": [
    "## Container widgets\n",
    "\n",
    "- [QMainWindow](https://doc.qt.io/qt-5/qmainwindow.html): Main application window\n",
    "\n",
    "\n",
    "- [QSplitter](https://doc.qt.io/qt-5/qsplitter.html): Lets the user control the size of child widgets\n",
    "- [QStackedWidget](https://doc.qt.io/qt-5/qstackedwidget.html): Stack of widgets where only one widget is visible at a time\n",
    "- [QTabWidget](https://doc.qt.io/qt-5/qtabwidget.html): Stack of tabbed widgets\n",
    "- [QGroupBox](https://doc.qt.io/qt-5/qgroupbox.html): Box frame with a title."
   ]
  },
  {
   "cell_type": "markdown",
   "metadata": {
    "slideshow": {
     "slide_type": "subslide"
    }
   },
   "source": [
    "### QMainWindow: Main application window\n",
    "\n",
    "![QMainWindow example](images/QMainWindow.png)"
   ]
  },
  {
   "cell_type": "code",
   "execution_count": null,
   "metadata": {
    "slideshow": {
     "slide_type": "subslide"
    }
   },
   "outputs": [],
   "source": [
    "class MainWindow(Qt.QMainWindow):\n",
    "    def __init__(self, parent=None):\n",
    "        super(MainWindow, self).__init__(parent)\n",
    "\n",
    "        # Set central widget\n",
    "        label = Qt.QTextEdit(\"Type text here\")\n",
    "        self.setCentralWidget(label)\n",
    "\n",
    "        # Add menu\n",
    "        menuBar = self.menuBar()\n",
    "        fileMenu = menuBar.addMenu(\"File\")\n",
    "        editMenu = menuBar.addMenu(\"Edit\")\n",
    "\n",
    "        # Add a toolbar\n",
    "        toolBar = self.addToolBar(\"Toolbar\")\n",
    "        toolBar.addAction(Qt.QIcon.fromTheme(\"edit-undo\"), \"Undo\")\n",
    "        toolBar.addAction(Qt.QIcon.fromTheme(\"edit-redo\"), \"Redo\")\n",
    "\n",
    "        # Add a dock widget\n",
    "        dock = Qt.QDockWidget(\"Dock\")\n",
    "        self.addDockWidget(Qt.Qt.RightDockWidgetArea, dock)\n",
    "\n",
    "        # Use status bar\n",
    "        self.statusBar().showMessage(\"Current status\")\n",
    "\n",
    "window = MainWindow()\n",
    "window.show()"
   ]
  },
  {
   "cell_type": "markdown",
   "metadata": {
    "slideshow": {
     "slide_type": "subslide"
    }
   },
   "source": [
    "QMainWindow Layout:\n",
    "![QMainWindow layout](https://doc.qt.io/qt-5/images/mainwindowlayout.png)\n",
    "\n",
    "Set the central widget: [QMainWindow.setCentralWidget](https://doc.qt.io/qt-5/qmainwindow.html#setCentralWidget)\n",
    "\n",
    "Documentation: https://doc.qt.io/qt-5/qmainwindow.html"
   ]
  },
  {
   "cell_type": "markdown",
   "metadata": {
    "slideshow": {
     "slide_type": "slide"
    }
   },
   "source": [
    "## QWidget's layout\n",
    "\n",
    "[QWidget](https://doc.qt.io/qt-5/qwidget.html) base class can be used as a container with configurable layout (through the [QWidget.setLayout](https://doc.qt.io/qt-5/qwidget.html#setLayout) method).\n",
    "\n",
    "The layout is responsible for automatically allocating space for each child widget of a QWidget.\n",
    "\n",
    "Layouts are classes that inherit from [QLayout](https://doc.qt.io/qt-5/qlayout.html).\n",
    "\n",
    "This defines a spatial tree structure of widgets.\n",
    "\n",
    "We now have 2 different hierarchical structures: the class inheritance and the widget spatial imbrication."
   ]
  },
  {
   "cell_type": "markdown",
   "metadata": {
    "slideshow": {
     "slide_type": "subslide"
    }
   },
   "source": [
    "### Basic layouts: Horizontal and vertical\n",
    "\n",
    "- [QHBoxLayout](https://doc.qt.io/qt-5/qhboxlayout.html): Lines up widgets horizontally\n",
    "  ![QHBoxLayout](images/QHBoxLayout.png)\n",
    "- [QVBoxLayout](https://doc.qt.io/qt-5/qvboxlayout.html): Lines up widgets vertically\n",
    "  ![QVBoxLayout](images/QVBoxLayout.png)\n",
    "- [QBoxLayout](https://doc.qt.io/qt-5/qboxlayout.html): Lines up child widgets horizontally or vertically.\n",
    "  The [setDirection](https://doc.qt.io/qt-5/qboxlayout.html#setDirection) method allows to change it.\n",
    "\n",
    "To populate the layout, use:\n",
    "- [QBoxLayout.addWidget](https://doc.qt.io/qt-5/qboxlayout.html#addWidget)(widget, stretch=0): Appends a widget to the end of the layout\n",
    "- [QBoxLayout.addStrech](https://doc.qt.io/qt-5/qboxlayout.html#addStretch)(strech=0): Adds a stretchable empty space\n",
    " "
   ]
  },
  {
   "cell_type": "markdown",
   "metadata": {
    "slideshow": {
     "slide_type": "subslide"
    }
   },
   "source": [
    "#### QBoxLayout example"
   ]
  },
  {
   "cell_type": "code",
   "execution_count": null,
   "metadata": {
    "slideshow": {
     "slide_type": "-"
    }
   },
   "outputs": [],
   "source": [
    "class BoxWidget(Qt.QWidget):  # Container widget\n",
    "    def __init__(self, parent=None):\n",
    "        super(BoxWidget, self).__init__(parent)\n",
    "\n",
    "        # Child widgets\n",
    "        label = Qt.QLabel(\"Value:\")\n",
    "        lineEdit = Qt.QLineEdit(\"0\")\n",
    "        button = Qt.QPushButton(\"Done\")\n",
    "\n",
    "        # Create layout and add widgets to it\n",
    "        layout = Qt.QHBoxLayout()\n",
    "        # or: layout = Qt.QVBoxLayout()\n",
    "\n",
    "        layout.addWidget(label)\n",
    "        layout.addWidget(lineEdit)\n",
    "        layout.addWidget(button)\n",
    "        # layout.addStretch(1)  # Add a stretch area to improve resizing\n",
    "\n",
    "        # set the widget's layout\n",
    "        self.setLayout(layout)\n",
    "\n",
    "widget = BoxWidget()\n",
    "widget.show()"
   ]
  },
  {
   "cell_type": "markdown",
   "metadata": {
    "slideshow": {
     "slide_type": "subslide"
    }
   },
   "source": [
    "### Advanced layouts : Grid and stack\n",
    "\n",
    "- [QGridLayout](https://doc.qt.io/qt-5/qgridlayout.html): lays out widgets in a grid\n",
    "\n",
    "  To populate the layout, use the [`addWidget(widget, row, column, rowSpan, columnSpan)`](https://doc.qt.io/qt-5/qgridlayout.html#addWidget) method.\n",
    "  ![](images/QGridLayout.svg)\n",
    "  \n",
    "- [QFormLayout](https://doc.qt.io/qt-5/qformlayout.html): lays out widgets in a 2 columns grid\n",
    "\n",
    "  To populate the layout, use the [`addRow(label, widget)`](https://doc.qt.io/qt-5/qformlayout.html#addRow) or [`addRow(widget)`](https://doc.qt.io/qt-5/qformlayout.html#addRow-4) method.\n",
    "  ![](images/QFormLayout.svg)\n",
    "  \n",
    "- [QStackedLayout](https://doc.qt.io/qt-5/qstackedlayout.html): stack of widgets where only one widget is visible at a time"
   ]
  },
  {
   "cell_type": "markdown",
   "metadata": {
    "slideshow": {
     "slide_type": "subslide"
    }
   },
   "source": [
    "#### QGridLayout example"
   ]
  },
  {
   "cell_type": "code",
   "execution_count": null,
   "metadata": {
    "slideshow": {
     "slide_type": "-"
    }
   },
   "outputs": [],
   "source": [
    "class GridWidget(Qt.QWidget):  # Container widget\n",
    "    def __init__(self, parent=None):\n",
    "        super(GridWidget, self).__init__(parent)\n",
    "\n",
    "        # Child widgets\n",
    "        label = Qt.QLabel(\"Range:\")\n",
    "        beginLineEdit = Qt.QLineEdit(\"0\")\n",
    "        endLineEdit = Qt.QLineEdit(\"1\")\n",
    "        button = Qt.QPushButton(\"Done\")\n",
    "        \n",
    "        # Create layout and add widgets to it\n",
    "        layout = Qt.QGridLayout()\n",
    "        \n",
    "        layout.addWidget(label, 0, 0)\n",
    "        layout.addWidget(beginLineEdit, 0, 1)\n",
    "        layout.addWidget(endLineEdit, 0, 2)\n",
    "        layout.addWidget(button, 1, 0, 1, 3)\n",
    "        \n",
    "        # set the widget's layout\n",
    "        self.setLayout(layout)\n",
    "\n",
    "widget = GridWidget()\n",
    "widget.show()"
   ]
  },
  {
   "cell_type": "markdown",
   "metadata": {
    "slideshow": {
     "slide_type": "subslide"
    }
   },
   "source": [
    "#### QFormLayout example"
   ]
  },
  {
   "cell_type": "code",
   "execution_count": null,
   "metadata": {
    "slideshow": {
     "slide_type": "-"
    }
   },
   "outputs": [],
   "source": [
    "# Alternative: inherit from QWidget\n",
    "class FormWidget(Qt.QWidget):\n",
    "    def __init__(self, parent=None):\n",
    "        super(FormWidget, self).__init__(parent)\n",
    "        beginLineEdit = Qt.QLineEdit(\"0\", parent=widget)\n",
    "        endLineEdit = Qt.QLineEdit(\"1\", parent=widget)\n",
    "        button = Qt.QPushButton(\"Done\", parent=widget)\n",
    "\n",
    "        # Create layout and add widgets to it\n",
    "        layout = Qt.QFormLayout(parent=self)  # Give the parent is same as setLayout\n",
    "\n",
    "        layout.addRow(\"Min:\", beginLineEdit)\n",
    "        layout.addRow(\"Max:\", endLineEdit)\n",
    "        layout.addRow(button)\n",
    "\n",
    "widget = FormWidget()\n",
    "widget.show()"
   ]
  },
  {
   "cell_type": "markdown",
   "metadata": {
    "slideshow": {
     "slide_type": "subslide"
    }
   },
   "source": [
    "### Nested layout\n",
    "\n",
    "For complex widget imbrication, you can use a hierarchy of widgets, each having a different layout.\n",
    "\n",
    "It is also possible to nest layouts within each other (e.g., with [QBoxLayout.addLayout](https://doc.qt.io/qt-5/qboxlayout.html#addLayout))."
   ]
  },
  {
   "cell_type": "code",
   "execution_count": null,
   "metadata": {
    "slideshow": {
     "slide_type": "-"
    }
   },
   "outputs": [],
   "source": [
    "class NestedBoxLayoutWidget(Qt.QWidget):\n",
    "    def __init__(self, parent=None):\n",
    "        super(NestedBoxLayoutWidget, self).__init__(parent)\n",
    "        label = Qt.QLabel(\"Range:\")\n",
    "        beginLineEdit = Qt.QLineEdit(\"0\")\n",
    "        endLineEdit = Qt.QLineEdit(\"1\")\n",
    "        button = Qt.QPushButton(\"Done\")\n",
    "\n",
    "        # Create layout and add widgets to it\n",
    "        layout = Qt.QVBoxLayout(self)\n",
    "\n",
    "        layout.addWidget(label)\n",
    "\n",
    "        # Adding a nested horizontal layout\n",
    "        horizontalLayout = Qt.QHBoxLayout()\n",
    "        layout.addLayout(horizontalLayout)\n",
    "\n",
    "        horizontalLayout.addWidget(beginLineEdit)\n",
    "        horizontalLayout.addWidget(endLineEdit)\n",
    "\n",
    "        layout.addWidget(button)\n",
    "        layout.addStretch(1)\n",
    "\n",
    "widget = NestedBoxLayoutWidget()\n",
    "widget.show()"
   ]
  },
  {
   "cell_type": "markdown",
   "metadata": {
    "slideshow": {
     "slide_type": "slide"
    }
   },
   "source": [
    "### Layout processus\n",
    "\n",
    "Each widget advertises:\n",
    "- some spatial request: [sizeHint](https://doc.qt.io/qt-5/qwidget.html#sizeHint-prop), [minimumSizeHint](https://doc.qt.io/qt-5/qwidget.html#minimumSizeHint-prop), [minimumSize](https://doc.qt.io/qt-5/qwidget.html#minimumSize-prop),\n",
    "[maximumSize](https://doc.qt.io/qt-5/qwidget.html#maximumSize-prop)\n",
    "- how it accepts to be resized: [sizePolicy](https://doc.qt.io/qt-5/qwidget.html#sizePolicy-prop)\n",
    "\n",
    "The layout manager takes this information into account to allocate a rectangle to each child widget.\n",
    "\n",
    "Documentation on layout: https://doc.qt.io/qt-5/layout.html\n"
   ]
  },
  {
   "cell_type": "markdown",
   "metadata": {
    "slideshow": {
     "slide_type": "slide"
    }
   },
   "source": [
    "## Exercice\n",
    "\n",
    "### Layout\n",
    "\n",
    "Write a form widget which allows the user to provide parameters for the calculation of the diffraction image obtained from a 2D square cristal using the Laue formula.\n",
    "The Python/numpy implementation is available here: [laue.py](laue.py)\n",
    "\n",
    "Sketch of the GUI:\n",
    "![GUI sketch](images/sketch.png)\n",
    "\n",
    "Hint: You can create such a form with a QWidget with a QFormLayout, QLineEdit widgets (and eventually QLabels) and a QPushButton."
   ]
  },
  {
   "cell_type": "markdown",
   "metadata": {
    "slideshow": {
     "slide_type": "subslide"
    }
   },
   "source": [
    "### Retrieve parameters\n",
    "\n",
    "Add a `compute` method that retrieves parameters from the different widgets and prints the result of the`laue_image` function.\n",
    "\n",
    "### Connect button signal\n",
    "\n",
    "Connect the `compute` method to the `clicked` QPushButton signal (see [QAbstractButton signals](https://doc.qt.io/qt-5/qabstractbutton.html#signals)) to run the computation when the user clicks on the button.\n",
    "\n",
    "### Add a file dialog\n",
    "\n",
    "Replace the printing of the result by saving to a file:\n",
    "- Use one of the [QFileDialog static methods](https://doc.qt.io/qt-5/qfiledialog.html#static-public-members) to ask the user for a filename.\n",
    "- Use [numpy.save](https://docs.scipy.org/doc/numpy/reference/generated/numpy.save.html) to save the result to a file."
   ]
  },
  {
   "cell_type": "markdown",
   "metadata": {
    "slideshow": {
     "slide_type": "slide"
    }
   },
   "source": [
    "# PyQt pitfalls"
   ]
  },
  {
   "cell_type": "markdown",
   "metadata": {
    "slideshow": {
     "slide_type": "subslide"
    }
   },
   "source": [
    "### QWidget parent\n",
    "\n",
    "When a QWidget **A** is added to another QWidget **B** or to its layout, **B** becomes automatically the parent of **A**.\n",
    "\n",
    "To get the current QWidget parent, use the [QObject.parent](https://doc.qt.io/qt-5/qobject.html#parent) method.\n"
   ]
  },
  {
   "cell_type": "code",
   "execution_count": null,
   "metadata": {
    "scrolled": true,
    "slideshow": {
     "slide_type": "fragment"
    }
   },
   "outputs": [],
   "source": [
    "label = Qt.QLabel(\"Text\")  # Create a label\n",
    "print(\"label's parent:\", label.parent())"
   ]
  },
  {
   "cell_type": "code",
   "execution_count": null,
   "metadata": {
    "slideshow": {
     "slide_type": "fragment"
    }
   },
   "outputs": [],
   "source": [
    "# Add the label to a QWidget\n",
    "window = Qt.QMainWindow()\n",
    "window.setCentralWidget(label)\n",
    "print(\"label's parent:\", label.parent())\n",
    "label.parent() is window"
   ]
  },
  {
   "cell_type": "markdown",
   "metadata": {
    "slideshow": {
     "slide_type": "subslide"
    }
   },
   "source": [
    "### (Py)Qt object instance destruction\n",
    "\n",
    "With Qt, the object parenting used for layout also handles the life-cycle (i.e., automatic destruction) of widget instances.\n",
    "\n",
    "When a widget is destroyed, all its children are also destroyed...\n",
    "\n",
    "With PyQt, this raises an issue as Python is also handling the life-cycle of instances (with reference counting)."
   ]
  },
  {
   "cell_type": "code",
   "execution_count": null,
   "metadata": {
    "slideshow": {
     "slide_type": "fragment"
    }
   },
   "outputs": [],
   "source": [
    "label.text()"
   ]
  },
  {
   "cell_type": "code",
   "execution_count": null,
   "metadata": {
    "slideshow": {
     "slide_type": "fragment"
    }
   },
   "outputs": [],
   "source": [
    "del window\n",
    "print(\"label:\", label)\n",
    "label.text()"
   ]
  },
  {
   "cell_type": "markdown",
   "metadata": {
    "slideshow": {
     "slide_type": "subslide"
    }
   },
   "source": [
    "### (Py)Qt object instance destruction\n",
    "\n",
    "A QWidget is a C++ Qt object.\n",
    "To be accessible from Python, it is wrapped in a Python object by PyQt.\n",
    "\n",
    "- The destruction of the Python PyQt object instance is handled by Python.\n",
    "- The destruction of the C++ Qt object instance is handled by:\n",
    "  - **Python** if its `parent` is `None`.\n",
    "  - **Qt** if its `parent` is **not** `None`."
   ]
  },
  {
   "cell_type": "markdown",
   "metadata": {
    "slideshow": {
     "slide_type": "slide"
    }
   },
   "source": [
    "## Unhandled exceptions\n",
    "\n",
    "With PyQt5 >= 5.5, an unhandled exception in Python terminates the application (see [doc](https://www.riverbankcomputing.com/static/Docs/PyQt5/incompatibilities.html#unhandled-python-exceptions)).\n",
    "\n",
    "It is possible to override this behavior by setting Python's [sys.excepthook](https://docs.python.org/3/library/sys.html#sys.excepthook).\n"
   ]
  },
  {
   "cell_type": "code",
   "execution_count": null,
   "metadata": {},
   "outputs": [],
   "source": [
    "import sys, traceback\n",
    "from PyQt5 import Qt\n",
    "\n",
    "def excepthook(type_, value, tb):\n",
    "    message = '%s, %s, %s' % (type_, value, ''.join(traceback.format_tb(tb)))\n",
    "    print('message')\n",
    "    Qt.QMessageBox.critical(None, \"Exception raised\", message)\n",
    "\n",
    "def clicked():\n",
    "    raise RuntimeError(\"Button clicked\")\n",
    "    \n",
    "app = Qt.QApplication([])\n",
    "sys.excepthook = excepthook\n",
    "\n",
    "button = Qt.QPushButton('Press here')\n",
    "button.clicked.connect(clicked)\n",
    "button.show()\n",
    "app.exec_()"
   ]
  },
  {
   "cell_type": "markdown",
   "metadata": {
    "slideshow": {
     "slide_type": "slide"
    }
   },
   "source": [
    "## Final hands on\n",
    "\n",
    "Create a GUI for the Laue simulation.\n",
    "\n",
    "### step 1: create the LaueFormWidget\n",
    "\n",
    "Might look like:\n",
    "\n",
    "* an input for the number of unit cells\n",
    "* an input for oversampling\n",
    "* an input for H\n",
    "* an input for K\n",
    "* a run button which call the laue_image with the input defined previously\n",
    "\n",
    "\n",
    "### step 2 add one or several of the following add-on (the one interest you the most)\n",
    "\n",
    "#### 2.1 Add validators in the QLineEdit\n",
    "\n",
    "For now you can give any input value in the QLineEdit.\n",
    "You should add `QIntValidator` to restrict the possible entries:\n",
    "\n",
    "* number of cells should be 1 or higher\n",
    "* number of oversampling should be 1 or higher\n",
    "* H should be 0 or higher\n",
    "* K should be 0 or higher\n",
    "\n",
    "note: you can create a dedicated widget `IntLineEdit` which deal with the `QIntValidator` to avoid code duplication.\n",
    "\n",
    "\n",
    "#### 2.2 Using a QMainWindow\n",
    "\n",
    "Make the LaueFormWidget inherit from [QMainWindow](https://doc.qt.io/qt-5/qmainwindow.html) instead of QWidget\n",
    "\n",
    "#### 2.3 save the result into a .npy\n",
    "\n",
    "You can rename the run button run and save or create a new button 'save'.\n",
    "For saving you should ask the user the output file using a QFileDialog.\n",
    "Use the [numpy save function](https://docs.scipy.org/doc/numpy/reference/generated/numpy.save.html) to dump the data into a file.\n",
    "\n",
    "#### 2.4 display output size\n",
    "\n",
    "Add a Qlabel which update automatically when the output size change (when number of unit cells or oversampling values changed)\n",
    "\n",
    "\n",
    "#### 2.5 add advancement status\n",
    "\n",
    "Add information concerning process advancement into the QMainWindow [statusBar](https://doc.qt.io/qt-5/qmainwindow.html#statusBar)\n",
    "This require to have accomplish 2.2 first\n",
    "\n",
    "\n",
    "#### 2.6 add a result preview\n",
    "\n",
    "Add a QLabel to display the result once computed.\n",
    "You can use the `gray_log` function from colormap to get the QPixmap\n",
    "\n",
    "#### 2.7 execute 'laue' process into a Thread\n",
    "\n",
    "This will avoid GUI freeze that you might have enconter.\n",
    "\n",
    "#### 2.8 Add tooltips\n",
    "\n",
    "Add tooltips on the different QLineEdit and button to give extra information."
   ]
  },
  {
   "cell_type": "markdown",
   "metadata": {
    "slideshow": {
     "slide_type": "slide"
    }
   },
   "source": [
    "# QtDesigner\n",
    "\n",
    "\n",
    "[QtCreator](https://doc.qt.io/qtcreator/) is an integrated development environment (IDE) for creating cross platform applications using Qt.\n",
    "\n",
    "[QtDesigner](https://doc.qt.io/qt-5/qtdesigner-manual.html) is a one of the tool embed in QtCreator for building GUIs.\n",
    "From this tool you can compose Qwindows, QWidgets or QDialogs for example and embed it with some python script.\n",
    "\n",
    "\n",
    "![QtDesigner](images/designer-multiple-screenshot.png)"
   ]
  },
  {
   "cell_type": "markdown",
   "metadata": {
    "slideshow": {
     "slide_type": "subslide"
    }
   },
   "source": [
    "## demonstration: doing the Laue exercice with QtCreator\n",
    "\n",
    "launch *qtcreator* application\n",
    "\n",
    "``` bash\n",
    "qtcreator\n",
    "```\n",
    "\n",
    "![QtCreator start](images/qt_creator_start.png)\n",
    "\n",
    "\n",
    "Then go for the new project, application => QtWidgetsApplication"
   ]
  },
  {
   "cell_type": "markdown",
   "metadata": {
    "slideshow": {
     "slide_type": "subslide"
    }
   },
   "source": [
    "\n",
    "Give a path and name to your project.\n",
    "\n",
    "![QtCreator start](images/qt_creator_new_project.png)\n",
    "\n",
    "We are only focusing on the .ui file, since you are not supposed to be C++ developer and we want a python application.\n",
    "Signals / slot connections will be managed in python script, not in c++."
   ]
  },
  {
   "cell_type": "markdown",
   "metadata": {
    "slideshow": {
     "slide_type": "subslide"
    }
   },
   "source": [
    "Now you can add your widget and subwidgets. **Name all your widget** for recovering them later.\n",
    "\n",
    "Once created, select your widgets and add a layout.\n",
    "\n",
    "As we want to create a python application, we only focus on the widget and layout,\n",
    "\n",
    "![QtDesigner tree](images/qt_designer_project_tree.png)\n",
    "\n",
    "Now save your project, you will be able to modify it afterwards."
   ]
  },
  {
   "cell_type": "markdown",
   "metadata": {
    "slideshow": {
     "slide_type": "subslide"
    }
   },
   "source": [
    "### Link .ui file with python script\n",
    "\n",
    "On the web you will find several tutorial to convert directly the `.ui` files to `.py` files like\n",
    "\n",
    "``` bash\n",
    "python -m PyQt5.uic.pyuic -x [FILENAME].ui -o [FILENAME].py\n",
    "```\n",
    "\n",
    "In this case, beware not to modify the generated code: See [How-to use the generated code](https://www.riverbankcomputing.com/static/Docs/PyQt5/designer.html#using-the-generated-code)\n",
    "\n",
    "It is best if you use the [uic](https://www.riverbankcomputing.com/static/Docs/PyQt5/designer.html#the-uic-module) module from PyQt5.\n",
    "\n",
    "This way you won't need to convert it each time you modify the `.ui` and you can embed the widget connections in the same python file."
   ]
  },
  {
   "cell_type": "code",
   "execution_count": null,
   "metadata": {
    "slideshow": {
     "slide_type": "subslide"
    }
   },
   "outputs": [],
   "source": [
    "from PyQt5 import uic\n",
    "help(uic.loadUi)"
   ]
  },
  {
   "cell_type": "markdown",
   "metadata": {
    "slideshow": {
     "slide_type": "subslide"
    }
   },
   "source": [
    "### Loading .ui\n",
    "\n",
    "Example: [laue_widget.ui](examples/laue_widget.ui)"
   ]
  },
  {
   "cell_type": "code",
   "execution_count": 40,
   "metadata": {},
   "outputs": [],
   "source": [
    "from PyQt5 import Qt, uic\n",
    "\n",
    "class LaueMainWindow(Qt.QMainWindow):\n",
    "    def __init__(self, *args, **kwargs):\n",
    "        super(LaueMainWindow, self).__init__(*args, **kwargs)\n",
    "        uic.loadUi(uifile=\"examples/laue_widget.ui\", baseinstance=self)\n",
    "\n",
    "window = LaueMainWindow()\n",
    "window.setAttribute(Qt.Qt.WA_DeleteOnClose)\n",
    "window.show()"
   ]
  },
  {
   "cell_type": "code",
   "execution_count": null,
   "metadata": {},
   "outputs": [],
   "source": [
    "print(\"ncells:\", window._nCellsSpinBox.text(), \"oversampling:\", window._oversamplingSpinBox.value(),\n",
    "      \"H:\", window._hLineEdit.text(), \"K:\", window._kLineEdit.text())"
   ]
  },
  {
   "cell_type": "markdown",
   "metadata": {
    "slideshow": {
     "slide_type": "subslide"
    }
   },
   "source": [
    "### Using inherited widgets in Qt designer\n",
    "\n",
    "It is possible to use widgets that are not part of Qt (like `IntLineEdit`) in the designer, through **widget promotion**:\n",
    "\n",
    "- In the designer, use the base Qt widget as a placeholder\n",
    "- Configure this base widget to be replaced by the target onde: widget context menu->**Promote to...**\n",
    "- In the dialog, give the target widget name and the Python module it belongs to as the header file."
   ]
  },
  {
   "cell_type": "markdown",
   "metadata": {
    "slideshow": {
     "slide_type": "slide"
    }
   },
   "source": [
    "# Conclusion\n",
    "\n",
    "PyQt as most GUI library is:\n",
    "- single-threaded\n",
    "- event-driven\n",
    "- object oriented\n",
    "\n",
    "It provides reusable building bricks (widgets and layout) to compose GUI.\n",
    "\n",
    "Its functionalities and the level of control is huge, and so is its API.\n",
    "\n",
    "The designer is an efficient way to build (and maintain) GUIs."
   ]
  },
  {
   "cell_type": "markdown",
   "metadata": {
    "slideshow": {
     "slide_type": "subslide"
    }
   },
   "source": [
    "You can find more exercices here: https://pythonspot.com/gui/"
   ]
  },
  {
   "cell_type": "markdown",
   "metadata": {
    "slideshow": {
     "slide_type": "subslide"
    }
   },
   "source": [
    "## Final remark\n",
    "\n",
    "Compare the code you've written during the exercice to the following cell which provides the same functionality:"
   ]
  },
  {
   "cell_type": "code",
   "execution_count": null,
   "metadata": {
    "slideshow": {
     "slide_type": "-"
    }
   },
   "outputs": [],
   "source": [
    "import numpy\n",
    "import laue\n",
    "\n",
    "numpy.save(\"result.npy\", laue.laue_image(ncells=10, h=0, k=4, oversampling=2))"
   ]
  }
 ],
 "metadata": {
  "celltoolbar": "Slideshow",
  "kernelspec": {
   "display_name": "Python 3",
   "language": "python",
   "name": "python3"
  },
  "language_info": {
   "codemirror_mode": {
    "name": "ipython",
    "version": 3
   },
   "file_extension": ".py",
   "mimetype": "text/x-python",
   "name": "python",
   "nbconvert_exporter": "python",
   "pygments_lexer": "ipython3",
   "version": "3.4.2"
  }
 },
 "nbformat": 4,
 "nbformat_minor": 2
}
