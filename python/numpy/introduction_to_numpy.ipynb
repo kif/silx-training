{
 "cells": [
  {
   "cell_type": "markdown",
   "metadata": {
    "slideshow": {
     "slide_type": "slide"
    }
   },
   "source": [
    "# Introduction to numpy\n",
    "\n",
    "0. Introduction\n",
    "0. numpy overview\n",
    "0. numpy arrays\n",
    "    * Creation\n",
    "    * Save and load\n",
    "    * Manipulation\n",
    "    * Indexing\n",
    "0. numpy modules\n",
    "\n",
    "\n",
    "Credits: V. A. Sole, ESRF Software Group"
   ]
  },
  {
   "cell_type": "markdown",
   "metadata": {
    "slideshow": {
     "slide_type": "slide"
    }
   },
   "source": [
    "# Introduction\n",
    "\n",
    "## Python basic operators\n",
    "\n",
    "* `+`: Addition\n",
    "* `-`: Substraction\n",
    "* `/`: Division\n",
    "* `**`: Exponentiation\n",
    "* ``abs(x)``: Absolute value of x\n",
    "* `x%y` Remaining of x/y\n",
    "* `x//y`: Integer part of x/y"
   ]
  },
  {
   "cell_type": "markdown",
   "metadata": {
    "slideshow": {
     "slide_type": "slide"
    }
   },
   "source": [
    "## Python basic high level data types\n",
    "\n",
    "* Numbers: ``10, 10.0, 1.0e+01, (10.0+3j)``\n",
    "* Strings: ``\"Hello world\"``\n",
    "* Bytes: ``b\"Hello world\"``\n",
    "* Lists: ``['abc', 3, 'x']``\n",
    "* Tuples: ``('abc', 3, 'x')``\n",
    "* Dictionnaries: ``{'key1': 'abc', 'key2': 3, 'key3': 'x'}``"
   ]
  },
  {
   "cell_type": "markdown",
   "metadata": {
    "slideshow": {
     "slide_type": "slide"
    }
   },
   "source": [
    "## Exercice 1\n",
    "\n",
    "Perform operations on a Python list:"
   ]
  },
  {
   "cell_type": "code",
   "execution_count": null,
   "metadata": {
    "slideshow": {
     "slide_type": "-"
    }
   },
   "outputs": [],
   "source": [
    "# Let a be a list \n",
    "a = [1, 2, 3]\n",
    "print(a)"
   ]
  },
  {
   "cell_type": "code",
   "execution_count": null,
   "metadata": {
    "slideshow": {
     "slide_type": "-"
    }
   },
   "outputs": [],
   "source": [
    "# What is the results of\n",
    "2 * a[2]"
   ]
  },
  {
   "cell_type": "code",
   "execution_count": null,
   "metadata": {
    "slideshow": {
     "slide_type": "-"
    }
   },
   "outputs": [],
   "source": [
    "# and\n",
    "2 * a\n",
    "\n",
    "# Try other combination of operations and data types"
   ]
  },
  {
   "cell_type": "markdown",
   "metadata": {
    "slideshow": {
     "slide_type": "slide"
    }
   },
   "source": [
    "## Conclusion\n",
    "\n",
    "Without additional libraries python is almost useless for scientific computing"
   ]
  },
  {
   "cell_type": "markdown",
   "metadata": {
    "slideshow": {
     "slide_type": "slide"
    }
   },
   "source": [
    "## Scientist's Swiss knife\n",
    "\n",
    "- The ``numpy`` package\n",
    "- ``matplotlib`` provides high quality graphics\n",
    "- ``SciPy`` provides additional scientific capabilities"
   ]
  },
  {
   "cell_type": "markdown",
   "metadata": {
    "slideshow": {
     "slide_type": "slide"
    }
   },
   "source": [
    "# numpy\n",
    "\n",
    "numpy is THE library providing number crunching capabilities to Python.\n",
    "\n",
    "It extends Python by providing tools for:\n",
    "\n",
    "* Treatment of multi-dimensional data\n",
    "* Access to optimized linear algebra libraries\n",
    "* Encapsulation of C and Fortran code"
   ]
  },
  {
   "cell_type": "markdown",
   "metadata": {
    "slideshow": {
     "slide_type": "slide"
    }
   },
   "source": [
    "# numpy array\n",
    "\n",
    "The ``numpy.ndarray`` object is:\n",
    "\n",
    "* A collection of elements of the same type\n",
    "* Multidimensional with flexible indexing\n",
    "* Handled as any other Python object\n",
    "* Implemented in memory as a true table optimized for performance\n",
    "    \n",
    "It can be interfaced with other languages."
   ]
  },
  {
   "cell_type": "code",
   "execution_count": null,
   "metadata": {
    "slideshow": {
     "slide_type": "-"
    }
   },
   "outputs": [],
   "source": [
    "import numpy"
   ]
  },
  {
   "cell_type": "markdown",
   "metadata": {
    "slideshow": {
     "slide_type": "slide"
    }
   },
   "source": [
    "## Array creation given its content ``numpy.array``\n",
    "\n",
    "Documentation: https://docs.scipy.org/doc/numpy/reference/generated/numpy.array.html"
   ]
  },
  {
   "cell_type": "code",
   "execution_count": null,
   "metadata": {
    "slideshow": {
     "slide_type": "-"
    }
   },
   "outputs": [],
   "source": [
    "# create an array from a list of values\n",
    "a = numpy.array([1, 2, 3, 5, 7, 11, 13, 17])\n",
    "a"
   ]
  },
  {
   "cell_type": "code",
   "execution_count": null,
   "metadata": {
    "slideshow": {
     "slide_type": "-"
    }
   },
   "outputs": [],
   "source": [
    "# create an array from a list of values and dimensions\n",
    "b = numpy.array([[1, 2, 3], [4, 5, 6]])\n",
    "b"
   ]
  },
  {
   "cell_type": "code",
   "execution_count": null,
   "metadata": {
    "slideshow": {
     "slide_type": "-"
    }
   },
   "outputs": [],
   "source": [
    "numpy.array?"
   ]
  },
  {
   "cell_type": "markdown",
   "metadata": {
    "slideshow": {
     "slide_type": "slide"
    }
   },
   "source": [
    "## Exercice 2\n",
    "\n",
    "Use Python as a simple calculator and try the basic operations\n",
    "on different arrays of numbers"
   ]
  },
  {
   "cell_type": "code",
   "execution_count": null,
   "metadata": {
    "slideshow": {
     "slide_type": "-"
    }
   },
   "outputs": [],
   "source": [
    "import numpy\n",
    "\n",
    "a = [1, 2, 3]\n",
    "b = numpy.array(a)"
   ]
  },
  {
   "cell_type": "code",
   "execution_count": null,
   "metadata": {
    "slideshow": {
     "slide_type": "-"
    }
   },
   "outputs": [],
   "source": [
    "# perform some operations with the list a:\n",
    "print('2 * a[2] =', 2 * a[2])\n",
    "print('2 * a =', 2 * a)"
   ]
  },
  {
   "cell_type": "code",
   "execution_count": null,
   "metadata": {
    "scrolled": true,
    "slideshow": {
     "slide_type": "-"
    }
   },
   "outputs": [],
   "source": [
    "# perform some operations with the numpy array b:\n",
    "print('2 * b[2] =', 2 * b[2])\n",
    "print('2 * b =', 2 * b)"
   ]
  },
  {
   "cell_type": "markdown",
   "metadata": {
    "slideshow": {
     "slide_type": "slide"
    }
   },
   "source": [
    "## Array creation with dedicated methods\n",
    "\n",
    "Documentation: https://docs.scipy.org/doc/numpy/reference/routines.array-creation.html"
   ]
  },
  {
   "cell_type": "code",
   "execution_count": null,
   "metadata": {
    "slideshow": {
     "slide_type": "-"
    }
   },
   "outputs": [],
   "source": [
    "numpy.empty((2, 4))"
   ]
  },
  {
   "cell_type": "code",
   "execution_count": null,
   "metadata": {
    "slideshow": {
     "slide_type": "fragment"
    }
   },
   "outputs": [],
   "source": [
    "numpy.zeros((3,))"
   ]
  },
  {
   "cell_type": "code",
   "execution_count": null,
   "metadata": {
    "slideshow": {
     "slide_type": "fragment"
    }
   },
   "outputs": [],
   "source": [
    "numpy.ones((2, 2, 3))"
   ]
  },
  {
   "cell_type": "markdown",
   "metadata": {
    "slideshow": {
     "slide_type": "slide"
    }
   },
   "source": [
    "### More array creation methods"
   ]
  },
  {
   "cell_type": "code",
   "execution_count": null,
   "metadata": {
    "slideshow": {
     "slide_type": "-"
    }
   },
   "outputs": [],
   "source": [
    "numpy.arange(start=0, stop=10, step=1)"
   ]
  },
  {
   "cell_type": "code",
   "execution_count": null,
   "metadata": {
    "slideshow": {
     "slide_type": "fragment"
    }
   },
   "outputs": [],
   "source": [
    "numpy.linspace(start=1, stop=10, num=10, endpoint=True)"
   ]
  },
  {
   "cell_type": "code",
   "execution_count": null,
   "metadata": {
    "slideshow": {
     "slide_type": "fragment"
    }
   },
   "outputs": [],
   "source": [
    "numpy.identity(2)"
   ]
  },
  {
   "cell_type": "markdown",
   "metadata": {
    "slideshow": {
     "slide_type": "slide"
    }
   },
   "source": [
    "## Types of elements\n",
    "\n",
    "* Integers and real numbers with different precision (float, double, long double)\n",
    "* Complex\n",
    "* Chains of characters\n",
    "* Any python object (object)."
   ]
  },
  {
   "cell_type": "markdown",
   "metadata": {
    "slideshow": {
     "slide_type": "slide"
    }
   },
   "source": [
    "### Types of elements: `dtype`\n",
    "\n",
    "Specify the element type with the ``dtype`` argument:\n"
   ]
  },
  {
   "cell_type": "code",
   "execution_count": null,
   "metadata": {
    "slideshow": {
     "slide_type": "-"
    }
   },
   "outputs": [],
   "source": [
    "numpy.zeros((3,), dtype=numpy.int)"
   ]
  },
  {
   "cell_type": "code",
   "execution_count": null,
   "metadata": {
    "slideshow": {
     "slide_type": "-"
    }
   },
   "outputs": [],
   "source": [
    "numpy.arange(3, dtype=numpy.float)"
   ]
  },
  {
   "cell_type": "markdown",
   "metadata": {
    "slideshow": {
     "slide_type": "slide"
    }
   },
   "source": [
    "### Types of elements: `dtype`\n",
    "\n",
    "* ``numpy.float`` is ``double`` precision (64 bits)\n",
    "* ``numpy.int`` is a ``long int`` (either 64 or 32 bits)\n",
    "\n",
    "The best is to use sized types:\n",
    "* Integers: ``int32``, ``int64``, ``uint8`` ...\n",
    "* Real numbers: ``float32``, ``float64`` ...\n",
    "* Complex: ``complex64``, ``complex128``"
   ]
  },
  {
   "cell_type": "code",
   "execution_count": null,
   "metadata": {
    "slideshow": {
     "slide_type": "-"
    }
   },
   "outputs": [],
   "source": [
    "numpy.arange(2, dtype=numpy.float32)"
   ]
  },
  {
   "cell_type": "markdown",
   "metadata": {
    "slideshow": {
     "slide_type": "slide"
    }
   },
   "source": [
    "### Array of objects\n",
    "\n",
    "numpy arrays can contain any type of object"
   ]
  },
  {
   "cell_type": "code",
   "execution_count": null,
   "metadata": {
    "slideshow": {
     "slide_type": "-"
    }
   },
   "outputs": [],
   "source": [
    "a = dict({'key1': 0})\n",
    "b = [1, 2, 3]\n",
    "c = \"element\"\n",
    "numpy.array([a, b, c])"
   ]
  },
  {
   "cell_type": "markdown",
   "metadata": {
    "slideshow": {
     "slide_type": "slide"
    }
   },
   "source": [
    "### Record arrays\n",
    "\n",
    "They allow access to the data using named fields.\n",
    "\n",
    "Imagine your data being a spreadsheet, the field names would be the column heading."
   ]
  },
  {
   "cell_type": "code",
   "execution_count": null,
   "metadata": {
    "slideshow": {
     "slide_type": "-"
    }
   },
   "outputs": [],
   "source": [
    "img = numpy.zeros((2,2),\n",
    "        {'names': ('r','g','b'),\n",
    "         'formats': (numpy.float32, numpy.float64, numpy.int32)})\n",
    "img"
   ]
  },
  {
   "cell_type": "code",
   "execution_count": null,
   "metadata": {
    "slideshow": {
     "slide_type": "fragment"
    }
   },
   "outputs": [],
   "source": [
    "img['r'] = 1.\n",
    "img"
   ]
  },
  {
   "cell_type": "markdown",
   "metadata": {
    "slideshow": {
     "slide_type": "slide"
    }
   },
   "source": [
    "# Save and load arrays\n",
    "\n",
    "Documentation: https://docs.scipy.org/doc/numpy/reference/routines.io.html"
   ]
  },
  {
   "cell_type": "code",
   "execution_count": null,
   "metadata": {
    "slideshow": {
     "slide_type": "fragment"
    }
   },
   "outputs": [],
   "source": [
    "a = numpy.arange(start=0, stop=10, step=1, dtype=numpy.int32)\n",
    "\n",
    "# Save as a binary file (.npy)\n",
    "numpy.save('data.npy', a)"
   ]
  },
  {
   "cell_type": "code",
   "execution_count": null,
   "metadata": {
    "slideshow": {
     "slide_type": "fragment"
    }
   },
   "outputs": [],
   "source": [
    "numpy.load('data.npy')"
   ]
  },
  {
   "cell_type": "code",
   "execution_count": null,
   "metadata": {
    "slideshow": {
     "slide_type": "fragment"
    }
   },
   "outputs": [],
   "source": [
    "# Save as a text file\n",
    "numpy.savetxt('myarray.txt', a)"
   ]
  },
  {
   "cell_type": "code",
   "execution_count": null,
   "metadata": {
    "slideshow": {
     "slide_type": "fragment"
    }
   },
   "outputs": [],
   "source": [
    "numpy.loadtxt('myarray.txt', dtype=numpy.int32)"
   ]
  },
  {
   "cell_type": "markdown",
   "metadata": {
    "slideshow": {
     "slide_type": "slide"
    }
   },
   "source": [
    "## ``numpy.loadtxt``\n",
    "\n",
    "* Each row in the text file must have the same number of values\n",
    "* Several other options exists"
   ]
  },
  {
   "cell_type": "code",
   "execution_count": null,
   "metadata": {
    "slideshow": {
     "slide_type": "-"
    }
   },
   "outputs": [],
   "source": [
    "numpy.loadtxt?"
   ]
  },
  {
   "cell_type": "markdown",
   "metadata": {
    "slideshow": {
     "slide_type": "slide"
    }
   },
   "source": [
    "# Using arrays"
   ]
  },
  {
   "cell_type": "markdown",
   "metadata": {
    "slideshow": {
     "slide_type": "slide"
    }
   },
   "source": [
    "## Array operations\n",
    "\n",
    "Common functions are:\n",
    "    \n",
    "* Linear algebra: ``dot`` (matrix multiplication), ``inner`` product, ``outer`` product\n",
    "* Statistics: ``mean``, ``std``, ``median``, ``percentile``, ... (https://docs.scipy.org/doc/numpy/reference/routines.statistics.html)\n",
    "* Sums: ``sum``, ``cumsum``, ...\n",
    "* Math: ``cos``, ``sin``, ``log10``, ``interp``, ... (https://docs.scipy.org/doc/numpy/reference/routines.math.html)\n",
    "* Indexing, Logic functions, Sorting\n",
    "* ... See: https://docs.scipy.org/doc/numpy/reference/routines.html"
   ]
  },
  {
   "cell_type": "code",
   "execution_count": null,
   "metadata": {
    "slideshow": {
     "slide_type": "slide"
    }
   },
   "outputs": [],
   "source": [
    "a = numpy.linspace(0., 1., 100)\n",
    "print('Mean:', numpy.mean(a), ', Std:', numpy.std(a))"
   ]
  },
  {
   "cell_type": "code",
   "execution_count": null,
   "metadata": {
    "slideshow": {
     "slide_type": "-"
    }
   },
   "outputs": [],
   "source": [
    "# Standard operations operate element by element\n",
    "angles = numpy.linspace(0, numpy.pi, 5)\n",
    "numpy.cos(angles)"
   ]
  },
  {
   "cell_type": "code",
   "execution_count": null,
   "metadata": {
    "slideshow": {
     "slide_type": "-"
    }
   },
   "outputs": [],
   "source": [
    "a = numpy.array([[0., 1., 2.],\n",
    "                 [3., 4., 5.],\n",
    "                 [6., 7., 8.]])\n",
    "b = numpy.identity(3)\n",
    "numpy.dot(a, b)\n",
    "# Or: c= a @ b  with Python>=3.5"
   ]
  },
  {
   "cell_type": "markdown",
   "metadata": {
    "slideshow": {
     "slide_type": "slide"
    }
   },
   "source": [
    "### Array operations along an axis\n",
    "\n",
    "Many ``numpy`` *reduction* functions take an `axis` argument:"
   ]
  },
  {
   "cell_type": "code",
   "execution_count": null,
   "metadata": {
    "slideshow": {
     "slide_type": "-"
    }
   },
   "outputs": [],
   "source": [
    "a = numpy.array([[0, 1, 2, 3],\n",
    "                 [4, 5, 6, 7]])"
   ]
  },
  {
   "cell_type": "code",
   "execution_count": null,
   "metadata": {
    "slideshow": {
     "slide_type": "-"
    }
   },
   "outputs": [],
   "source": [
    "numpy.min(a)"
   ]
  },
  {
   "cell_type": "code",
   "execution_count": null,
   "metadata": {
    "slideshow": {
     "slide_type": "-"
    }
   },
   "outputs": [],
   "source": [
    "numpy.min(a, axis=1)"
   ]
  },
  {
   "cell_type": "markdown",
   "metadata": {
    "slideshow": {
     "slide_type": "slide"
    }
   },
   "source": [
    "### Array operation example"
   ]
  },
  {
   "cell_type": "code",
   "execution_count": null,
   "metadata": {
    "slideshow": {
     "slide_type": "-"
    }
   },
   "outputs": [],
   "source": [
    "# argsort return the sorted indices not the sorted array\n",
    "a = [2, 5, 3]\n",
    "\n",
    "idx = numpy.argsort(a)\n",
    "idx"
   ]
  },
  {
   "cell_type": "code",
   "execution_count": null,
   "metadata": {
    "slideshow": {
     "slide_type": "-"
    }
   },
   "outputs": [],
   "source": [
    "# numpy.take returns a new sorted array\n",
    "numpy.take(a, idx)"
   ]
  },
  {
   "cell_type": "markdown",
   "metadata": {
    "slideshow": {
     "slide_type": "slide"
    }
   },
   "source": [
    "## Array methods\n",
    "\n",
    "Some ``numpy`` functions are also available as array methods:"
   ]
  },
  {
   "cell_type": "code",
   "execution_count": null,
   "metadata": {
    "slideshow": {
     "slide_type": "-"
    }
   },
   "outputs": [],
   "source": [
    "a = numpy.array([[7, 6, 5, 4],\n",
    "                 [3, 2, 1, 0]])"
   ]
  },
  {
   "cell_type": "code",
   "execution_count": null,
   "metadata": {
    "slideshow": {
     "slide_type": "-"
    }
   },
   "outputs": [],
   "source": [
    "# Return a value computed from the array\n",
    "a.min(), a.max(), a.sum()"
   ]
  },
  {
   "cell_type": "code",
   "execution_count": null,
   "metadata": {
    "slideshow": {
     "slide_type": "-"
    }
   },
   "outputs": [],
   "source": [
    "# In-place operation\n",
    "a.sort()\n",
    "a"
   ]
  },
  {
   "cell_type": "markdown",
   "metadata": {
    "slideshow": {
     "slide_type": "slide"
    }
   },
   "source": [
    "### More on array methods"
   ]
  },
  {
   "cell_type": "code",
   "execution_count": null,
   "metadata": {
    "slideshow": {
     "slide_type": "-"
    }
   },
   "outputs": [],
   "source": [
    "a = numpy.array([(0, 1), (2, 3)])\n",
    "a"
   ]
  },
  {
   "cell_type": "code",
   "execution_count": null,
   "metadata": {
    "slideshow": {
     "slide_type": "-"
    }
   },
   "outputs": [],
   "source": [
    "b = a.copy()\n",
    "c = numpy.copy(a)\n",
    "# or even\n",
    "d = numpy.array(a, copy=True)"
   ]
  },
  {
   "cell_type": "code",
   "execution_count": null,
   "metadata": {},
   "outputs": [],
   "source": [
    "a.transpose()"
   ]
  },
  {
   "cell_type": "code",
   "execution_count": null,
   "metadata": {},
   "outputs": [],
   "source": [
    "numpy.transpose(a)"
   ]
  },
  {
   "cell_type": "markdown",
   "metadata": {
    "slideshow": {
     "slide_type": "slide"
    }
   },
   "source": [
    "## Array attributes\n",
    "\n",
    "### ``dtype`` attribute\n",
    "\n",
    "Identifies the type of the elements of the array"
   ]
  },
  {
   "cell_type": "code",
   "execution_count": null,
   "metadata": {
    "slideshow": {
     "slide_type": "-"
    }
   },
   "outputs": [],
   "source": [
    "a = numpy.array([[3, 2], [8, 12]])\n",
    "a.dtype"
   ]
  },
  {
   "cell_type": "code",
   "execution_count": null,
   "metadata": {
    "slideshow": {
     "slide_type": "-"
    }
   },
   "outputs": [],
   "source": [
    "a.dtype.str"
   ]
  },
  {
   "cell_type": "markdown",
   "metadata": {
    "slideshow": {
     "slide_type": "slide"
    }
   },
   "source": [
    "### ``shape`` attribute\n",
    "\n",
    "Tuple containing the array dimensions"
   ]
  },
  {
   "cell_type": "code",
   "execution_count": null,
   "metadata": {
    "slideshow": {
     "slide_type": "-"
    }
   },
   "outputs": [],
   "source": [
    "a = numpy.array([1, 2, 3, 4])\n",
    "a.shape"
   ]
  },
  {
   "cell_type": "code",
   "execution_count": null,
   "metadata": {
    "slideshow": {
     "slide_type": "-"
    }
   },
   "outputs": [],
   "source": [
    "# It is a Read and Write attribute.\n",
    "a.shape = (2, 2)\n",
    "a"
   ]
  },
  {
   "cell_type": "markdown",
   "metadata": {
    "slideshow": {
     "slide_type": "slide"
    }
   },
   "source": [
    "### More array attributes\n",
    "\n",
    "* ``ndim``: Number of dimensions\n",
    "* ``size``: Total number of element\n",
    "* ``itemsize``: Size of a single item\n",
    "* ``strides``: Bytes to step in each dimension\n",
    "* ``flags``: Contiguity of the data in the buffer\n",
    "* ``nbytes``: Size in bytes occupied in memory\n",
    "* ``data``: Read/write buffer containing the data"
   ]
  },
  {
   "cell_type": "code",
   "execution_count": null,
   "metadata": {
    "slideshow": {
     "slide_type": "-"
    }
   },
   "outputs": [],
   "source": [
    "a.ndim"
   ]
  },
  {
   "cell_type": "markdown",
   "metadata": {
    "slideshow": {
     "slide_type": "slide"
    }
   },
   "source": [
    "## Plotting numpy arrays with matplotlib\n",
    "\n",
    "``matplolib`` is a versatile 1D and 2D plotting Python library producing publication quality figures.\n",
    "\n",
    "``matplotlib.pyplot`` provides MATLAB-like functions, such as ``plot`` and ``imshow``.\n",
    "\n",
    "In notebooks, this is enabled through the ``%pylab`` magic:"
   ]
  },
  {
   "cell_type": "code",
   "execution_count": null,
   "metadata": {
    "slideshow": {
     "slide_type": "-"
    }
   },
   "outputs": [],
   "source": [
    "%pylab inline\n",
    "# Or: %pylab nbagg"
   ]
  },
  {
   "cell_type": "code",
   "execution_count": null,
   "metadata": {
    "slideshow": {
     "slide_type": "slide"
    }
   },
   "outputs": [],
   "source": [
    "x = numpy.linspace(0., 2 * numpy.pi, 100)\n",
    "cos_x = numpy.cos(x)\n",
    "\n",
    "plot(cos_x)\n",
    "#plot(x, cos_x, x, numpy.sin(x))"
   ]
  },
  {
   "cell_type": "code",
   "execution_count": null,
   "metadata": {
    "slideshow": {
     "slide_type": "-"
    }
   },
   "outputs": [],
   "source": [
    "plot?"
   ]
  },
  {
   "cell_type": "code",
   "execution_count": null,
   "metadata": {
    "slideshow": {
     "slide_type": "slide"
    }
   },
   "outputs": [],
   "source": [
    "image = numpy.arange(5000)\n",
    "image.shape = 100, 50\n",
    "\n",
    "imshow(image)\n",
    "colorbar() "
   ]
  },
  {
   "cell_type": "code",
   "execution_count": null,
   "metadata": {
    "slideshow": {
     "slide_type": "-"
    }
   },
   "outputs": [],
   "source": [
    "imshow?"
   ]
  },
  {
   "cell_type": "markdown",
   "metadata": {
    "slideshow": {
     "slide_type": "slide"
    }
   },
   "source": [
    "## Excercise 3\n",
    "\n",
    "0. Load the `anscombe.txt` file as a numpy.array.\n",
    "0. Check the number of dimensions and the size of each dimension.\n",
    "0. Compute the mean and std along dimension 1 (i.e., for each column)."
   ]
  },
  {
   "cell_type": "code",
   "execution_count": null,
   "metadata": {
    "slideshow": {
     "slide_type": "-"
    }
   },
   "outputs": [],
   "source": [
    "# TODO"
   ]
  },
  {
   "cell_type": "markdown",
   "metadata": {
    "slideshow": {
     "slide_type": "slide"
    }
   },
   "source": [
    "## Exercice 3\n",
    "\n",
    "Data taken from the Anscombe's quartet: https://en.wikipedia.org/wiki/Anscombe%27s_quartet"
   ]
  },
  {
   "cell_type": "code",
   "execution_count": null,
   "metadata": {
    "slideshow": {
     "slide_type": "-"
    }
   },
   "outputs": [],
   "source": [
    "# Display the curves\n",
    "data = numpy.loadtxt('anscombe.txt')\n",
    "\n",
    "curves = numpy.transpose(data)\n",
    "for curve in curves:\n",
    "    plot(curve)"
   ]
  },
  {
   "cell_type": "markdown",
   "metadata": {
    "slideshow": {
     "slide_type": "slide"
    }
   },
   "source": [
    "## Indexing\n",
    "\n",
    "Select elements as with any other Python sequence:\n",
    "* Indexing starts at 0 for each array dimension\n",
    "* Indexes can be negative: `x[-1]` is the same as `x[len(x) - 1]`\n",
    "\n",
    "The output refers to the original array and usually it is not contiguous in memory."
   ]
  },
  {
   "cell_type": "code",
   "execution_count": null,
   "metadata": {
    "slideshow": {
     "slide_type": "-"
    }
   },
   "outputs": [],
   "source": [
    "a = numpy.array([0, 1, 2, 3])\n",
    "print('a[0] =', a[0])\n",
    "print('a[-1] =', a[-1])"
   ]
  },
  {
   "cell_type": "code",
   "execution_count": null,
   "metadata": {
    "slideshow": {
     "slide_type": "slide"
    }
   },
   "outputs": [],
   "source": [
    "a = numpy.array([(1, 2, 3, 4),\n",
    "                 (5, 6, 7, 8),\n",
    "                 (9, 10, 11, 12)])"
   ]
  },
  {
   "cell_type": "code",
   "execution_count": null,
   "metadata": {
    "slideshow": {
     "slide_type": "-"
    }
   },
   "outputs": [],
   "source": [
    "a[1, 2]"
   ]
  },
  {
   "cell_type": "code",
   "execution_count": null,
   "metadata": {
    "slideshow": {
     "slide_type": "-"
    }
   },
   "outputs": [],
   "source": [
    "a[0:2, 2]"
   ]
  },
  {
   "cell_type": "code",
   "execution_count": null,
   "metadata": {
    "slideshow": {
     "slide_type": "-"
    }
   },
   "outputs": [],
   "source": [
    "a[2] # all the elements of the third row"
   ]
  },
  {
   "cell_type": "code",
   "execution_count": null,
   "metadata": {
    "slideshow": {
     "slide_type": "-"
    }
   },
   "outputs": [],
   "source": [
    "a[2, :] # same as previous assuming a has at least two dimensions"
   ]
  },
  {
   "cell_type": "code",
   "execution_count": null,
   "metadata": {
    "slideshow": {
     "slide_type": "-"
    }
   },
   "outputs": [],
   "source": [
    "a[0, -1]  # last element of the first row"
   ]
  },
  {
   "cell_type": "code",
   "execution_count": null,
   "metadata": {
    "slideshow": {
     "slide_type": "-"
    }
   },
   "outputs": [],
   "source": [
    "a[0:2, 0:4:2]  # slicing allowed"
   ]
  },
  {
   "cell_type": "code",
   "execution_count": null,
   "metadata": {
    "slideshow": {
     "slide_type": "slide"
    }
   },
   "outputs": [],
   "source": [
    "a"
   ]
  },
  {
   "cell_type": "code",
   "execution_count": null,
   "metadata": {
    "slideshow": {
     "slide_type": "-"
    }
   },
   "outputs": [],
   "source": [
    "a[0:2, :2] = 5  # assignation is also possible\n",
    "a"
   ]
  },
  {
   "cell_type": "markdown",
   "metadata": {
    "slideshow": {
     "slide_type": "slide"
    }
   },
   "source": [
    "### More indexing"
   ]
  },
  {
   "cell_type": "code",
   "execution_count": null,
   "metadata": {},
   "outputs": [],
   "source": [
    "a = numpy.arange(10., 18.)\n",
    "a"
   ]
  },
  {
   "cell_type": "code",
   "execution_count": null,
   "metadata": {
    "slideshow": {
     "slide_type": "-"
    }
   },
   "outputs": [],
   "source": [
    "# The indexation argument can be a list or an array\n",
    "a[[0, 3, 5]]"
   ]
  },
  {
   "cell_type": "code",
   "execution_count": null,
   "metadata": {
    "slideshow": {
     "slide_type": "fragment"
    }
   },
   "outputs": [],
   "source": [
    "# The indexation argument can be a logical array\n",
    "mask = a > 13\n",
    "print('a > 13 =', mask)\n",
    "a[mask]"
   ]
  },
  {
   "cell_type": "markdown",
   "metadata": {
    "slideshow": {
     "slide_type": "slide"
    }
   },
   "source": [
    "## Excercise 4\n",
    "\n",
    "* Calculate the element-wise difference between ``x`` and ``y``?\n",
    "* Provide an expression to calculate the difference ``x[i+1]-x[i]`` for all the elements of the 1D array."
   ]
  },
  {
   "cell_type": "code",
   "execution_count": null,
   "metadata": {
    "slideshow": {
     "slide_type": "-"
    }
   },
   "outputs": [],
   "source": [
    "x = numpy.arange(10)\n",
    "y = numpy.arange(1, 11)\n",
    "print('x =', x)\n",
    "print('y =', y)"
   ]
  },
  {
   "cell_type": "code",
   "execution_count": null,
   "metadata": {
    "slideshow": {
     "slide_type": "-"
    }
   },
   "outputs": [],
   "source": [
    "# TODO"
   ]
  },
  {
   "cell_type": "code",
   "execution_count": null,
   "metadata": {
    "slideshow": {
     "slide_type": "skip"
    }
   },
   "outputs": [],
   "source": [
    "import exercicesolution\n",
    "exercicesolution.show(\"ex3_1\")"
   ]
  },
  {
   "cell_type": "code",
   "execution_count": null,
   "metadata": {
    "slideshow": {
     "slide_type": "skip"
    }
   },
   "outputs": [],
   "source": [
    "exercicesolution.show(\"ex3_2\")"
   ]
  },
  {
   "cell_type": "markdown",
   "metadata": {
    "slideshow": {
     "slide_type": "slide"
    }
   },
   "source": [
    "## Array views\n",
    "\n",
    "New array object but pointing to the same buffer"
   ]
  },
  {
   "cell_type": "code",
   "execution_count": null,
   "metadata": {
    "scrolled": true,
    "slideshow": {
     "slide_type": "-"
    }
   },
   "outputs": [],
   "source": [
    "a = numpy.arange(10.)\n",
    "a.shape = (2, 5)\n",
    "c = a.transpose()\n",
    "print('a =', a)\n",
    "print('c =', c)\n",
    "a[1, 2]"
   ]
  },
  {
   "cell_type": "code",
   "execution_count": null,
   "metadata": {},
   "outputs": [],
   "source": [
    "c[2, 1] = 10\n",
    "\n",
    "a[1, 2]"
   ]
  },
  {
   "cell_type": "markdown",
   "metadata": {
    "slideshow": {
     "slide_type": "slide"
    }
   },
   "source": [
    "### More on array views"
   ]
  },
  {
   "cell_type": "code",
   "execution_count": null,
   "metadata": {
    "slideshow": {
     "slide_type": "-"
    }
   },
   "outputs": [],
   "source": [
    "a = numpy.array([[0, 1, 2], [3, 4, 5]])\n",
    "\n",
    "b = a.reshape(-1) # makes whatever needed to get the matching number\n",
    "\n",
    "a[0, 0]"
   ]
  },
  {
   "cell_type": "code",
   "execution_count": null,
   "metadata": {
    "slideshow": {
     "slide_type": "-"
    }
   },
   "outputs": [],
   "source": [
    "b[0] = 1000\n",
    "\n",
    "a[0, 0]"
   ]
  },
  {
   "cell_type": "markdown",
   "metadata": {
    "slideshow": {
     "slide_type": "slide"
    }
   },
   "source": [
    "## Exercise 5: perform a 2x2 binning of an image\n",
    "\n",
    "0. Generate a 1D array with 100 elements and perform a binning such that:\n",
    "\n",
    "   ``1 2 3 4`` -> ``1+2`` ``3+4``\n",
    "0. Generate a 100x100 array with elements in increasing order\n",
    "0. Perform a 2x2 binning\n",
    "\n",
    "| 1  | 2  | 3  | 4  |\n",
    "|----|----|----|----|\n",
    "| 5  | 6  | 7  | 8  |\n",
    "| 9  | 10 | 11 | 12 |\n",
    "| 13 | 14 | 15 | 16 |\n",
    "\n",
    "2x2 binning:\n",
    "\n",
    "| 1+2+5+6    | 3+4+7+8     |\n",
    "|------------|-------------|\n",
    "| 9+10+13+14 | 11+12+15+16 |\n",
    "\n",
    "Bonus: Set all elements of the resulting array that are below 1000 to 0."
   ]
  },
  {
   "cell_type": "code",
   "execution_count": null,
   "metadata": {
    "slideshow": {
     "slide_type": "-"
    }
   },
   "outputs": [],
   "source": [
    "# TODO"
   ]
  },
  {
   "cell_type": "code",
   "execution_count": null,
   "metadata": {
    "slideshow": {
     "slide_type": "skip"
    }
   },
   "outputs": [],
   "source": [
    "import exercicesolution\n",
    "exercicesolution.show(\"ex4_1\")"
   ]
  },
  {
   "cell_type": "code",
   "execution_count": null,
   "metadata": {
    "slideshow": {
     "slide_type": "skip"
    }
   },
   "outputs": [],
   "source": [
    "exercicesolution.show(\"ex4_2\")"
   ]
  },
  {
   "cell_type": "code",
   "execution_count": null,
   "metadata": {
    "slideshow": {
     "slide_type": "skip"
    }
   },
   "outputs": [],
   "source": [
    "exercicesolution.show(\"ex4_2_alt\")"
   ]
  },
  {
   "cell_type": "markdown",
   "metadata": {
    "slideshow": {
     "slide_type": "slide"
    }
   },
   "source": [
    "# Numpy modules\n",
    "\n",
    "Documentation: https://docs.scipy.org/doc/numpy/reference/"
   ]
  },
  {
   "cell_type": "markdown",
   "metadata": {
    "slideshow": {
     "slide_type": "slide"
    }
   },
   "source": [
    "## Linear algebra: ``numpy.linalg``\n",
    "\n",
    "As usual, dir() and help() are your friends...\n",
    "Some functions:\n",
    "\n",
    "* ``numpy.linalg.det(x)``: determinant of x\n",
    "* ``numpy.linalg.eig(x)``: eigenvalues and eigenvectors of x\n",
    "* ``numpy.linalg.eigh(x)``: idem profiting of x being a hermitian matrix\n",
    "* ``numpy.linalg.inv(x)``: inverse matrix of x\n",
    "* ``numpy.linalg.svd(x)``: singular value decomposition of x"
   ]
  },
  {
   "cell_type": "markdown",
   "metadata": {
    "slideshow": {
     "slide_type": "slide"
    }
   },
   "source": [
    "## Random sampling: ``numpy.random``\n",
    "\n",
    "### Simple random data"
   ]
  },
  {
   "cell_type": "code",
   "execution_count": null,
   "metadata": {
    "slideshow": {
     "slide_type": "-"
    }
   },
   "outputs": [],
   "source": [
    "import numpy.random"
   ]
  },
  {
   "cell_type": "code",
   "execution_count": null,
   "metadata": {
    "slideshow": {
     "slide_type": "-"
    }
   },
   "outputs": [],
   "source": [
    "# random integers in the interval [low:high[\n",
    "numpy.random.randint(low=0, high=5, size=10)"
   ]
  },
  {
   "cell_type": "code",
   "execution_count": null,
   "metadata": {
    "slideshow": {
     "slide_type": "-"
    }
   },
   "outputs": [],
   "source": [
    "# random floats in the half-open interval [0.0:1.0[\n",
    "numpy.random.random(10)"
   ]
  },
  {
   "cell_type": "code",
   "execution_count": null,
   "metadata": {
    "slideshow": {
     "slide_type": "-"
    }
   },
   "outputs": [],
   "source": [
    "numpy.random.bytes(10)"
   ]
  },
  {
   "cell_type": "markdown",
   "metadata": {
    "slideshow": {
     "slide_type": "slide"
    }
   },
   "source": [
    "### Permutations"
   ]
  },
  {
   "cell_type": "code",
   "execution_count": null,
   "metadata": {
    "slideshow": {
     "slide_type": "-"
    }
   },
   "outputs": [],
   "source": [
    "a = numpy.arange(1, 10)\n",
    "a"
   ]
  },
  {
   "cell_type": "code",
   "execution_count": null,
   "metadata": {
    "slideshow": {
     "slide_type": "-"
    }
   },
   "outputs": [],
   "source": [
    "# In-place\n",
    "numpy.random.shuffle(a)\n",
    "a"
   ]
  },
  {
   "cell_type": "code",
   "execution_count": null,
   "metadata": {
    "slideshow": {
     "slide_type": "-"
    }
   },
   "outputs": [],
   "source": [
    "# Out-of-place\n",
    "numpy.random.permutation(a)"
   ]
  },
  {
   "cell_type": "markdown",
   "metadata": {
    "slideshow": {
     "slide_type": "slide"
    }
   },
   "source": [
    "### Distributions\n",
    "\n",
    "``normal``, ``poisson``, ..."
   ]
  },
  {
   "cell_type": "code",
   "execution_count": null,
   "metadata": {
    "slideshow": {
     "slide_type": "-"
    }
   },
   "outputs": [],
   "source": [
    "data = numpy.random.normal(loc=1., scale=1., size=100000)"
   ]
  },
  {
   "cell_type": "code",
   "execution_count": null,
   "metadata": {
    "slideshow": {
     "slide_type": "-"
    }
   },
   "outputs": [],
   "source": [
    "%pylab inline\n",
    "\n",
    "histo, bin_edges = numpy.histogram(data, bins=100)\n",
    "bin_centers = (bin_edges[:-1] + bin_edges[1:]) / 2.\n",
    "plot(bin_centers, histo)\n",
    "# Or: hist(data, bins=100)"
   ]
  },
  {
   "cell_type": "markdown",
   "metadata": {
    "slideshow": {
     "slide_type": "slide"
    }
   },
   "source": [
    "## Discrete Fourier Transform: ``numpy.fft``\n",
    "\n",
    "* ``numpy.fft.fft`` --> 1D FFT\n",
    "* ``numpy.fft.fft2`` --> 2D FFT\n",
    "* ``numpy.fft.fftn`` --> nD FFT"
   ]
  },
  {
   "cell_type": "code",
   "execution_count": null,
   "metadata": {
    "slideshow": {
     "slide_type": "-"
    }
   },
   "outputs": [],
   "source": [
    "numpy.fft.fft?"
   ]
  },
  {
   "cell_type": "markdown",
   "metadata": {
    "slideshow": {
     "slide_type": "slide"
    }
   },
   "source": [
    "## Polynomials: ``numpy.polynomial``\n",
    "\n",
    "Polynomials in numpy can be created, manipulated, and even fitted.\n",
    "\n",
    "It provides Polynomial, Chebyshev, Legendre, Laguerre, Hermite and HermiteE series."
   ]
  },
  {
   "cell_type": "markdown",
   "metadata": {
    "slideshow": {
     "slide_type": "slide"
    }
   },
   "source": [
    "## Exercice 6\n",
    "\n",
    "* Write a function ``fill_array(height, width)`` to generate an array of dimension (height, width) in which ``X[row, column] = cos(row) * sin(column)``\n",
    "* Time it for height=1000, width=1000\n",
    "\n",
    "Bonus: Do the same for ``X[row, column] = cos(row) + sin(column)``"
   ]
  },
  {
   "cell_type": "code",
   "execution_count": null,
   "metadata": {
    "slideshow": {
     "slide_type": "-"
    }
   },
   "outputs": [],
   "source": [
    "def fill_array(height, width):\n",
    "    return None  # TODO\n",
    "\n",
    "%timeit fill_array(1000, 1000)"
   ]
  },
  {
   "cell_type": "code",
   "execution_count": null,
   "metadata": {
    "slideshow": {
     "slide_type": "skip"
    }
   },
   "outputs": [],
   "source": [
    "# inefficient fill\n",
    "import exercicesolution\n",
    "exercicesolution.show(\"ex5_inefficient_fill\")\n",
    "%timeit exercicesolution.ex5_inefficient_fill(1000, 1000)"
   ]
  },
  {
   "cell_type": "code",
   "execution_count": null,
   "metadata": {
    "slideshow": {
     "slide_type": "skip"
    }
   },
   "outputs": [],
   "source": [
    "# naive fill\n",
    "exercicesolution.show(\"ex5_naive_fill\")\n",
    "%timeit exercicesolution.ex5_naive_fill(1000, 1000)"
   ]
  },
  {
   "cell_type": "code",
   "execution_count": null,
   "metadata": {
    "slideshow": {
     "slide_type": "skip"
    }
   },
   "outputs": [],
   "source": [
    "# clever fill\n",
    "exercicesolution.show(\"ex5_clever_fill\")\n",
    "%timeit exercicesolution.ex5_clever_fill(1000, 1000)"
   ]
  },
  {
   "cell_type": "code",
   "execution_count": null,
   "metadata": {
    "slideshow": {
     "slide_type": "skip"
    }
   },
   "outputs": [],
   "source": [
    "# practical fill\n",
    "exercicesolution.show(\"ex5_practical_fill\")\n",
    "%timeit exercicesolution.ex5_practical_fill(1000, 1000)"
   ]
  },
  {
   "cell_type": "code",
   "execution_count": null,
   "metadata": {
    "slideshow": {
     "slide_type": "skip"
    }
   },
   "outputs": [],
   "source": [
    "# optimized fill\n",
    "exercicesolution.show(\"ex5_optimized_fill\")\n",
    "%timeit exercicesolution.ex5_optimized_fill(1000, 1000)"
   ]
  },
  {
   "cell_type": "code",
   "execution_count": null,
   "metadata": {
    "slideshow": {
     "slide_type": "skip"
    }
   },
   "outputs": [],
   "source": [
    "# atleast_2d fill\n",
    "exercicesolution.show(\"ex5_atleast_2d_fill\")\n",
    "%timeit exercicesolution.ex5_atleast_2d_fill(1000, 1000)"
   ]
  },
  {
   "cell_type": "markdown",
   "metadata": {
    "slideshow": {
     "slide_type": "slide"
    }
   },
   "source": [
    "Speed is a question of algorithm.\n",
    "\n",
    "It is not just a question of language.\n",
    "    \n",
    "| Implementation       | Duration (seconds) |\n",
    "|----------------------|--------------------|\n",
    "| ex5_inefficient_fill | 5.052937           |\n",
    "| ex5_naive_fill       | 0.886003           |\n",
    "| ex5_clever_fill      | 0.016836           |\n",
    "| ex5_practical_fill   | 0.014959           |\n",
    "| ex5_optimized_fill   | 0.004497           |\n",
    "| ex5_atleast_2d_fill  | 0.005262           |\n",
    "\n",
    "Done on Intel(R) Xeon(R) CPU E5-1650 @ 3.50GHz"
   ]
  },
  {
   "cell_type": "markdown",
   "metadata": {
    "slideshow": {
     "slide_type": "slide"
    }
   },
   "source": [
    "# Resources\n",
    "\n",
    "- Complete reference material:\n",
    "  http://docs.scipy.org/doc/numpy/reference/\n",
    "- numpy user guide:\n",
    "  https://docs.scipy.org/doc/numpy/user/\n",
    "- Many recipes for different purposes:\n",
    "  http://www.scipy.org/Cookbook\n",
    "- Active mailing list where you can ask your questions:\n",
    "  numpy-discussion@scipy.org\n",
    "- Internal data-analysis mailing list:\n",
    "  data-analysis@esrf.fr"
   ]
  },
  {
   "cell_type": "markdown",
   "metadata": {
    "slideshow": {
     "slide_type": "slide"
    }
   },
   "source": [
    "## More exercises for the braves\n",
    "\n",
    "Thanks to Nicolas Rougier: https://github.com/rougier/numpy-100:\n",
    "\n",
    "* Create a 5x5 matrix with values 1,2,3,4 just below the diagonal\n",
    "* Create a 8x8 matrix and fill it with a checkerboard pattern\n",
    "* Normalize a 5x5 random matrix\n",
    "* Create a 5x5 matrix with row values ranging from 0 to 4\n",
    "* Consider a random 10x2 matrix representing cartesian coordinates, convert them to polar coordinates\n",
    "* Create random vector of size 10 and replace the maximum value by 0\n",
    "* Consider a random vector with shape (100,2) representing coordinates, find point by point distances\n",
    "* Generate a generic 2D Gaussian-like array\n",
    "* Subtract the mean of each row of a matrix\n",
    "* How to I sort an array by the nth column ?\n",
    "* Find the nearest value from a given value in an array"
   ]
  }
 ],
 "metadata": {
  "celltoolbar": "Slideshow",
  "kernelspec": {
   "display_name": "Python 3",
   "language": "python",
   "name": "python3"
  },
  "language_info": {
   "codemirror_mode": {
    "name": "ipython",
    "version": 3
   },
   "file_extension": ".py",
   "mimetype": "text/x-python",
   "name": "python",
   "nbconvert_exporter": "python",
   "pygments_lexer": "ipython3",
   "version": "3.4.2"
  }
 },
 "nbformat": 4,
 "nbformat_minor": 1
}
