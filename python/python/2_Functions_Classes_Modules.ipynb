{
 "cells": [
  {
   "cell_type": "markdown",
   "metadata": {
    "slideshow": {
     "slide_type": "slide"
    }
   },
   "source": [
    "# Functions\n",
    "\n",
    "In programming, a [function](https://docs.python.org/3.7/tutorial/controlflow.html#defining-functions) is a named section of a program that performs a specific task.\n",
    "\n",
    "## How to create a function?\n",
    "\n",
    "In Python, we use the `def` statement to define a new function and place the content of the function in an **indented block**."
   ]
  },
  {
   "cell_type": "code",
   "execution_count": null,
   "metadata": {},
   "outputs": [],
   "source": [
    "def myfunction():\n",
    "    print('This is dummy')"
   ]
  },
  {
   "cell_type": "code",
   "execution_count": null,
   "metadata": {},
   "outputs": [],
   "source": [
    "# Call the function.\n",
    "myfunction()"
   ]
  },
  {
   "cell_type": "code",
   "execution_count": null,
   "metadata": {
    "slideshow": {
     "slide_type": "-"
    }
   },
   "outputs": [],
   "source": [
    "def myadd(myparam1, myparam2):\n",
    "    print('My first parameter is %s.' % myparam1)\n",
    "    print('My second parameter is %s.' % myparam2)\n",
    "    return myparam1 + myparam2"
   ]
  },
  {
   "cell_type": "code",
   "execution_count": null,
   "metadata": {
    "slideshow": {
     "slide_type": "fragment"
    }
   },
   "outputs": [],
   "source": [
    "# Call the function.\n",
    "myadd(12, 6)"
   ]
  },
  {
   "cell_type": "markdown",
   "metadata": {},
   "source": [
    "*Note: a function always returns a value. If no `return` statement is defined, it will return `None`:*"
   ]
  },
  {
   "cell_type": "code",
   "execution_count": null,
   "metadata": {},
   "outputs": [],
   "source": [
    "result = myfunction()\n",
    "print('The result is', result)"
   ]
  },
  {
   "cell_type": "markdown",
   "metadata": {
    "slideshow": {
     "slide_type": "subslide"
    }
   },
   "source": [
    "## Function parameters:\n",
    "\n",
    "* The function's signature defines a set of parameters to be given when calling a function.\n",
    "* Default values for a parameter can be given after an `=` sign\n",
    "* There are more options for function parameters (like defining arbitrary argument list) that won't be discussed today but are presented in the [official Python documentation](https://docs.python.org/3/tutorial/controlflow.html#more-on-defining-functions) or in [pythoncentral tutorial](https://www.pythoncentral.io/fun-with-python-function-parameters/)."
   ]
  },
  {
   "cell_type": "code",
   "execution_count": null,
   "metadata": {
    "slideshow": {
     "slide_type": "fragment"
    }
   },
   "outputs": [],
   "source": [
    "def myfunction(myparam1, myparam2=5):\n",
    "    print('My parameters are %s and %s.' % (myparam1, myparam2))\n",
    "\n",
    "myfunction(1)\n",
    "myfunction(2, \"toto\")\n",
    "myfunction(3, myparam2=\"titi\")"
   ]
  },
  {
   "cell_type": "markdown",
   "metadata": {
    "slideshow": {
     "slide_type": "subslide"
    }
   },
   "source": [
    "## Documentation of the function\n",
    "\n",
    "Functions can be documented via a **doc-string**: a string defining what the function does."
   ]
  },
  {
   "cell_type": "code",
   "execution_count": null,
   "metadata": {
    "slideshow": {
     "slide_type": "fragment"
    }
   },
   "outputs": [],
   "source": [
    "def myadd(myparam1, myparam2):\n",
    "    \"Returns the addition of the two input parameters.\"\n",
    "    print('My first parameter is %s.' % myparam1)\n",
    "    print('My second parameter is %s.' % myparam2)\n",
    "    return myparam1 + myparam2\n",
    "\n",
    "help(myadd)"
   ]
  },
  {
   "cell_type": "markdown",
   "metadata": {
    "slideshow": {
     "slide_type": "fragment"
    }
   },
   "source": [
    "You can automatically generate HTML, PDF, LaTeX... documentations from those docstrings.\n",
    "This part is presented in the [software engineering training](https://github.com/silx-kit/silx-training/tree/master/software_engineering/6_Documentation)."
   ]
  },
  {
   "cell_type": "markdown",
   "metadata": {
    "slideshow": {
     "slide_type": "subslide"
    }
   },
   "source": [
    "## Hands on:\n",
    "\n",
    "Write a function solving for $x$ the [quadratic equation](https://en.wikipedia.org/wiki/Quadratic_equation): ${a \\cdot x^2} + b \\cdot x + c = 0$.\n",
    "\n",
    "![quadratic_eq_example](img/quadratic_eq_example.png)\n",
    "\n",
    "**Note**: For the quadratic function $y = x^2 − x − 2$, the points where the graph crosses the x-axis, $x = −1$ and $x = 2$, are the solutions of the quadratic equation $x^2 − x − 2 = 0.$\n",
    "\n",
    "This function will take a, b, and c as input and return the list of solutions (in **R**). For the standard form:\n",
    "$$\n",
    "{a \\cdot x^2} + b \\cdot x + c = 0\n",
    "$$\n",
    "The discriminant is:\n",
    "$$\n",
    "    {\\Delta}={b^2} - 4 \\cdot a \\cdot c\n",
    "$$\n",
    "if ${\\Delta}>0$ then the equation has **two solutions**:\n",
    "$$\n",
    "        \\frac{-b - {\\sqrt{\\Delta}}}{2a} \n",
    "$$\n",
    "and\n",
    "$$\n",
    "        \\frac{-b + {\\sqrt{\\Delta}}}{2a}\n",
    "$$\n",
    "if ${\\Delta}=0$ the the equation has **one solution**:\n",
    "$$        \n",
    "         \\frac{-b}{2a}\n",
    "$$\n",
    "if ${\\Delta}<0$ then there are **no real solutions**.\n",
    "\n",
    "**Note:**: The square root of x can be obtained by x**(0.5).\n",
    "\n",
    "``` python\n",
    "def sqrt(x):\n",
    "    \"\"\"Returns the square root of x.\"\"\"\n",
    "    return x**(0.5)\n",
    "```"
   ]
  },
  {
   "cell_type": "code",
   "execution_count": null,
   "metadata": {
    "slideshow": {
     "slide_type": "subslide"
    }
   },
   "outputs": [],
   "source": [
    "# Solution\n",
    "import inspect\n",
    "from solution_quadratic_function import polynom\n",
    "\n",
    "print('Solution:')\n",
    "print(inspect.getsource(polynom))"
   ]
  },
  {
   "cell_type": "code",
   "execution_count": null,
   "metadata": {
    "slideshow": {
     "slide_type": "fragment"
    }
   },
   "outputs": [],
   "source": [
    "# Example of usage.\n",
    "polynom(1, -1, -2)"
   ]
  },
  {
   "cell_type": "markdown",
   "metadata": {
    "slideshow": {
     "slide_type": "subslide"
    }
   },
   "source": [
    "## Warning about default mutable objects:\n",
    "\n",
    "![warning](img/warning.png)\n",
    "\n",
    "Never use mutable objects (typically `list`) as default parameter, or you will experience trouble !!!\n",
    "\n",
    "Example:\n"
   ]
  },
  {
   "cell_type": "code",
   "execution_count": null,
   "metadata": {
    "slideshow": {
     "slide_type": "-"
    }
   },
   "outputs": [],
   "source": [
    "def bad_append(any_list=[]):\n",
    "    \"\"\"If no list is given as parameter, the function uses empty list.\"\"\"\n",
    "    any_list.append(1)\n",
    "    return any_list\n",
    "\n",
    "print(bad_append())"
   ]
  },
  {
   "cell_type": "code",
   "execution_count": null,
   "metadata": {
    "slideshow": {
     "slide_type": "fragment"
    }
   },
   "outputs": [],
   "source": [
    "print(bad_append())"
   ]
  },
  {
   "cell_type": "markdown",
   "metadata": {
    "slideshow": {
     "slide_type": "subslide"
    }
   },
   "source": [
    "### Solution\n",
    "\n",
    "The default value should generally be `None` which is immutable and initialize an empty container if needed.\n",
    "\n"
   ]
  },
  {
   "cell_type": "code",
   "execution_count": null,
   "metadata": {
    "slideshow": {
     "slide_type": "subslide"
    }
   },
   "outputs": [],
   "source": [
    "def good_append(any_list=None):\n",
    "    if any_list is None:\n",
    "         any_list = []\n",
    "    any_list.append(1)\n",
    "    return any_list\n",
    "\n",
    "print(good_append())\n",
    "print(good_append())\n",
    "print(good_append())\n",
    "print(good_append())"
   ]
  },
  {
   "cell_type": "markdown",
   "metadata": {
    "slideshow": {
     "slide_type": "subslide"
    }
   },
   "source": [
    "## Lambda function\n",
    "\n",
    "One can define **anonymous** function, sometimes called lambda function in functional programing languages.\n",
    "\n",
    "\n",
    "**Nota:** We don't expect you to use lambda, but this is just to explain why you can get an error when trying to use a variable called `lambda`, as it is a reserved keyword."
   ]
  },
  {
   "cell_type": "code",
   "execution_count": null,
   "metadata": {
    "slideshow": {
     "slide_type": "fragment"
    }
   },
   "outputs": [],
   "source": [
    "lambda = 1.3e-10"
   ]
  },
  {
   "cell_type": "code",
   "execution_count": null,
   "metadata": {
    "slideshow": {
     "slide_type": "fragment"
    }
   },
   "outputs": [],
   "source": [
    "pow2 = lambda x: x*x\n",
    "pow2(5)"
   ]
  },
  {
   "cell_type": "markdown",
   "metadata": {},
   "source": [
    "In general, prefer the equivalent clearer syntax"
   ]
  },
  {
   "cell_type": "code",
   "execution_count": null,
   "metadata": {},
   "outputs": [],
   "source": [
    "def pow2_not_lambda(x):\n",
    "    return x * x\n",
    "\n",
    "pow2_not_lambda(5)"
   ]
  },
  {
   "cell_type": "markdown",
   "metadata": {
    "slideshow": {
     "slide_type": "slide"
    }
   },
   "source": [
    "# Classes\n",
    "Classes, the base of object oriented programming, are **out of the scope of this training**. Here we provide a *very* brief overview.\n",
    "\n",
    "## Definition\n",
    "They are defined using the `class` keyword.\n",
    "The parameter `self` passed as first argument of any method is used to retrieve the instance of the class.\n",
    "The constructor method is called `__init__`. There is usually no destructor as objects are *garbage collected* in Python.\n",
    "\n",
    "Here is just a simple example:"
   ]
  },
  {
   "cell_type": "code",
   "execution_count": null,
   "metadata": {
    "slideshow": {
     "slide_type": "subslide"
    }
   },
   "outputs": [],
   "source": [
    "class MyClass(object):\n",
    "    \"Simple class inheriting from object.\"\n",
    "    \n",
    "    def __init__(self, param):\n",
    "        \"The constructor method.\"\n",
    "        object.__init__(self)\n",
    "        self.param = param\n",
    "\n",
    "    def mymethod(self):\n",
    "        \"A method of the class.\"\n",
    "        print(\"The value of self.param is: %s.\"% self.param)"
   ]
  },
  {
   "cell_type": "markdown",
   "metadata": {
    "slideshow": {
     "slide_type": "subslide"
    }
   },
   "source": [
    "## Instantiation\n",
    "\n",
    "Instantiation is the creation of an object of a given class."
   ]
  },
  {
   "cell_type": "code",
   "execution_count": null,
   "metadata": {
    "slideshow": {
     "slide_type": "fragment"
    }
   },
   "outputs": [],
   "source": [
    "# Create a new class instance.\n",
    "c = MyClass(2)\n",
    "\n",
    "# Access a class method.\n",
    "c.mymethod()"
   ]
  },
  {
   "cell_type": "code",
   "execution_count": null,
   "metadata": {
    "slideshow": {
     "slide_type": "fragment"
    }
   },
   "outputs": [],
   "source": [
    "# Access a class attribute.\n",
    "c.param"
   ]
  },
  {
   "cell_type": "code",
   "execution_count": null,
   "metadata": {
    "slideshow": {
     "slide_type": "fragment"
    }
   },
   "outputs": [],
   "source": [
    "# Check the class of an object.\n",
    "isinstance(c, MyClass) "
   ]
  },
  {
   "cell_type": "markdown",
   "metadata": {
    "slideshow": {
     "slide_type": "slide"
    }
   },
   "source": [
    "# Modules\n",
    "\n",
    "A module is:\n",
    "\n",
    "* A library containing useful variables, functions and classes to be used from different places (Python script, Python interpreter...).\n",
    "* A simple text file with the `.py` extension. </br>\n",
    "\n",
    "**Each module should provide specific functionnalities.**\n",
    "\n",
    "A good practice is to specify the encoding at the begining of the Python file. Following ([PEP0263](https://www.python.org/dev/peps/pep-0263/)) this is done using the line: `# coding: utf-8`"
   ]
  },
  {
   "cell_type": "markdown",
   "metadata": {
    "slideshow": {
     "slide_type": "subslide"
    }
   },
   "source": [
    "## Example of a module:\n",
    "![Example of module](img/mymodule.png \"Example of python module\")"
   ]
  },
  {
   "cell_type": "markdown",
   "metadata": {
    "slideshow": {
     "slide_type": "subslide"
    }
   },
   "source": [
    "## How to import the module:\n",
    "\n",
    "There are many ways to import modules:"
   ]
  },
  {
   "cell_type": "code",
   "execution_count": null,
   "metadata": {
    "slideshow": {
     "slide_type": "fragment"
    }
   },
   "outputs": [],
   "source": [
    "import mymodule\n",
    "\n",
    "mymodule.pow2(5)"
   ]
  },
  {
   "cell_type": "code",
   "execution_count": null,
   "metadata": {
    "slideshow": {
     "slide_type": "fragment"
    }
   },
   "outputs": [],
   "source": [
    "import mymodule as mm\n",
    "\n",
    "mm.pow2(6)"
   ]
  },
  {
   "cell_type": "code",
   "execution_count": null,
   "metadata": {
    "slideshow": {
     "slide_type": "fragment"
    }
   },
   "outputs": [],
   "source": [
    "from mymodule import pow2\n",
    "\n",
    "pow2(7)"
   ]
  },
  {
   "cell_type": "code",
   "execution_count": null,
   "metadata": {
    "slideshow": {
     "slide_type": "fragment"
    }
   },
   "outputs": [],
   "source": [
    "# You can also access to the attributes of the module.\n",
    "mymodule.__authors__"
   ]
  },
  {
   "cell_type": "code",
   "execution_count": null,
   "metadata": {
    "slideshow": {
     "slide_type": "fragment"
    }
   },
   "outputs": [],
   "source": [
    "mymodule.version"
   ]
  },
  {
   "cell_type": "code",
   "execution_count": null,
   "metadata": {
    "slideshow": {
     "slide_type": "subslide"
    }
   },
   "outputs": [],
   "source": [
    "help(mymodule)"
   ]
  },
  {
   "cell_type": "markdown",
   "metadata": {
    "slideshow": {
     "slide_type": "subslide"
    }
   },
   "source": [
    "## Module import and execution\n",
    "\n",
    "Importing a module executes the module file: all the Python code inside will be executed except for the **main** section. This is defined with `if __name__ == \"__main__\":`\n",
    "\n",
    "```python\n",
    "if __name__ == \"__main__\":\n",
    "    print('Running unit tests.')\n",
    "    test()\n",
    "```\n",
    "\n",
    "This part will only be executed when running the module as a script:\n",
    "\n",
    "```bash\n",
    "python mymodule.py\n",
    "```"
   ]
  },
  {
   "cell_type": "markdown",
   "metadata": {
    "slideshow": {
     "slide_type": "fragment"
    }
   },
   "source": [
    "If we execute the file:\n",
    "\n",
    "``` text\n",
    "$ python mymodule.py\n",
    "Running unit tests\n",
    "All OK\n",
    "```"
   ]
  },
  {
   "cell_type": "markdown",
   "metadata": {},
   "source": [
    "### Make a Python module file executable on **Unix**\n",
    "\n",
    "For this you will need:\n",
    "\n",
    "* a main section\n",
    "* to make the script executable using `chmod +x filename`.\n",
    "\n",
    "The file can then be executed:\n",
    "\n",
    "``` bash\n",
    "$ ./mymodule.py\n",
    "Running unit tests\n",
    "All OK\n",
    "```"
   ]
  },
  {
   "cell_type": "markdown",
   "metadata": {},
   "source": [
    "For more info see the [Official Python documentation about executing modules](https://docs.python.org/3/tutorial/modules.html#executing-modules-as-scripts)."
   ]
  },
  {
   "cell_type": "markdown",
   "metadata": {
    "slideshow": {
     "slide_type": "subslide"
    }
   },
   "source": [
    "## Exercise\n",
    "\n",
    "0. Create a new file `exercise.py` with the file encoding and a description of the module.\n",
    "\n",
    "1. Add a function into this file like `polynom(a, b, c)` defined previously and write a `test()` function to test that the function polynom is working.\n",
    "\n",
    "2. Import this module in a Python console (i.e in the notebook ... ).\n",
    "\n",
    "3. Execute the function you wrote from the console and run the test.\n",
    "\n",
    "4. Define the 'main' section:\n",
    "\n",
    "  ``` python\n",
    "  if __name__ == '__main__':\n",
    "      # operations to be executed\n",
    "  ```\n",
    "  \n",
    "5. Execute this file as a script: `python3 exercise.py`."
   ]
  },
  {
   "cell_type": "markdown",
   "metadata": {
    "slideshow": {
     "slide_type": "subslide"
    }
   },
   "source": [
    "## Standard modules\n",
    "\n",
    "\n",
    "![Batteries included philosophy](img/batteries_included.png \"Batteries included philosophy\")\n",
    "\n",
    "- Basic system utilities with `sys`, `os`, `shutil`, `glob`, `copy`\n",
    "- Extensions of basic types with `string`, `re`, `collections`\n",
    "- Basic numerical operations with `math`, `random`, `decimal`\n",
    "- Time utilities with `time`, `datetime`\n",
    "- Internet access with `email`, `urllib2`, `smtplib`\n",
    "- Multi-core programming with `multiprocessing`, `threading`, `thread`\n",
    "- Handle compressed archives with `gzip`, `bz2`, `zlib`, `zipfile`, `tarfile`\n",
    "- Execute another program with `subprocess`, `shlex`\n",
    "- Quality control with `unittest` and `doctest`\n",
    "- Performance control with `timeit`, `profile` and `cProfile`\n",
    "- Logging capabilities with `logging`"
   ]
  },
  {
   "cell_type": "markdown",
   "metadata": {
    "slideshow": {
     "slide_type": "subslide"
    }
   },
   "source": [
    "## Non standard modules\n",
    "\n",
    "- General purpose mathematics libraries:\n",
    "    - NumPy\n",
    "    - SciPy\n",
    "- Input/Output libraries to handle data acquired at ESRF\n",
    "    - Silx\n",
    "    - FabIO\n",
    "    - H5py\n",
    "- Visualization libraries (curves, images, ...)\n",
    "    - Matplotlib\n",
    "    - Silx\n",
    "- Image handling library:\n",
    "    - Python Imaging Library (PIL → Pillow)\n",
    "\n",
    "They will be introduced this afternoon."
   ]
  },
  {
   "cell_type": "markdown",
   "metadata": {
    "slideshow": {
     "slide_type": "slide"
    }
   },
   "source": [
    "# Errors and Exceptions\n",
    "\n",
    "## Syntax Errors\n",
    "\n",
    "When you will start Python you will certainly encounters several ([syntax errors](https://docs.python.org/3.7/tutorial/errors.html#syntax-errors)).\n",
    "Those are checked before actual execution."
   ]
  },
  {
   "cell_type": "code",
   "execution_count": null,
   "metadata": {},
   "outputs": [],
   "source": [
    "if True\n",
    "    print(True)"
   ]
  },
  {
   "cell_type": "markdown",
   "metadata": {},
   "source": [
    "## Exceptions\n",
    "\n",
    "### Definition\n",
    "\n",
    "Any other error than syntax errors are called [exceptions](https://docs.python.org/3/tutorial/errors.html#exceptions):\n",
    "\n",
    "* ZeroDivisionError\n",
    "* NameError\n",
    "* TypeError\n",
    "* ..."
   ]
  },
  {
   "cell_type": "code",
   "execution_count": null,
   "metadata": {
    "slideshow": {
     "slide_type": "fragment"
    }
   },
   "outputs": [],
   "source": [
    "1 / 0"
   ]
  },
  {
   "cell_type": "code",
   "execution_count": null,
   "metadata": {
    "slideshow": {
     "slide_type": "fragment"
    }
   },
   "outputs": [],
   "source": [
    "undefined_var + 1"
   ]
  },
  {
   "cell_type": "code",
   "execution_count": null,
   "metadata": {
    "slideshow": {
     "slide_type": "fragment"
    }
   },
   "outputs": [],
   "source": [
    "'2' + 8"
   ]
  },
  {
   "cell_type": "markdown",
   "metadata": {
    "slideshow": {
     "slide_type": "subslide"
    }
   },
   "source": [
    "### Exceptions type:\n",
    "\n",
    "- Plenty of exceptions are available (ImportError, RuntimeError, ...) see [built-in exceptions](https://docs.python.org/3/library/exceptions.html#bltin-exceptions).\n",
    "- You can create your own exceptions by creating a new class (out of the scope of this training)."
   ]
  },
  {
   "cell_type": "markdown",
   "metadata": {
    "slideshow": {
     "slide_type": "subslide"
    }
   },
   "source": [
    "### Raising an exception:\n",
    "\n",
    "The `raise` statement allows the programmer to force a specified exception to occur. "
   ]
  },
  {
   "cell_type": "code",
   "execution_count": null,
   "metadata": {
    "slideshow": {
     "slide_type": "fragment"
    }
   },
   "outputs": [],
   "source": [
    "raise Exception('My personal message.')"
   ]
  },
  {
   "cell_type": "code",
   "execution_count": null,
   "metadata": {
    "slideshow": {
     "slide_type": "fragment"
    }
   },
   "outputs": [],
   "source": [
    "raise ValueError('-1 is not an unsigned int.')"
   ]
  },
  {
   "cell_type": "markdown",
   "metadata": {
    "slideshow": {
     "slide_type": "subslide"
    }
   },
   "source": [
    "### Handling exceptions\n",
    "\n",
    "In some cases, you might want to handle raised exceptions.\n",
    "\n",
    "For this, we will use the `try` statement like:\n",
    "\n",
    "``` python\n",
    "try:\n",
    "    # Code here might break.\n",
    "except(TypeError, ExceptionXXX...):\n",
    "    # What to do if those exception are triggered?\n",
    "else:\n",
    "    # This is executed if no error found.\n",
    "finally:\n",
    "    # This is always executed (useful for example for closing a file).\n",
    "```"
   ]
  },
  {
   "cell_type": "code",
   "execution_count": null,
   "metadata": {
    "slideshow": {
     "slide_type": "fragment"
    }
   },
   "outputs": [],
   "source": [
    "try:\n",
    "    raise ValueError('Invalid value')\n",
    "    print('this code will not be executed if an error is raised before')\n",
    "except ValueError as e:\n",
    "    print('an error appears:', e)\n",
    "else:\n",
    "    print('this code will be executed if no error raised')\n",
    "finally:\n",
    "    print('this will always be executed at the end')"
   ]
  },
  {
   "cell_type": "code",
   "execution_count": null,
   "metadata": {
    "slideshow": {
     "slide_type": "subslide"
    }
   },
   "outputs": [],
   "source": [
    "# A complete example. This is a code that breaks from time to time.\n",
    "\n",
    "def unreliable(t):\n",
    "    d = int(t) % 2\n",
    "    try:\n",
    "        res = t / d # Might give division by zero.\n",
    "    except ZeroDivisionError as e:\n",
    "        print(\"Division by zero is not a good idea.\")\n",
    "        raise RuntimeError(\"Time is even!\")\n",
    "    else:\n",
    "        print(\"This time everything went smoothly.\")\n",
    "    finally:\n",
    "        print(\"It is time to wrap-up.\")\n",
    "\n",
    "import time        \n",
    "unreliable(time.time())"
   ]
  },
  {
   "cell_type": "code",
   "execution_count": null,
   "metadata": {
    "slideshow": {
     "slide_type": "fragment"
    }
   },
   "outputs": [],
   "source": [
    "unreliable(time.time())"
   ]
  }
 ],
 "metadata": {
  "celltoolbar": "Slideshow",
  "kernelspec": {
   "display_name": "Python 3",
   "language": "python",
   "name": "python3"
  },
  "language_info": {
   "codemirror_mode": {
    "name": "ipython",
    "version": 3
   },
   "file_extension": ".py",
   "mimetype": "text/x-python",
   "name": "python",
   "nbconvert_exporter": "python",
   "pygments_lexer": "ipython3",
   "version": "3.7.9"
  }
 },
 "nbformat": 4,
 "nbformat_minor": 4
}
