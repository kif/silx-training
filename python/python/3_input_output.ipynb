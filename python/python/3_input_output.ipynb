{
 "cells": [
  {
   "cell_type": "markdown",
   "metadata": {
    "slideshow": {
     "slide_type": "slide"
    }
   },
   "source": [
    "# Input and Output\n",
    "\n",
    "* In this section, we see how to do **simple** file handling with `open()`. \n",
    "* More often than not, you **won't** need to do that\n",
    "    * For text files, use `numpy.loadtxt()` or `numpy.genfromtxt`\n",
    "    * Otherwise, use dedicated libraries (h5py, fabio, ...)"
   ]
  },
  {
   "cell_type": "markdown",
   "metadata": {
    "slideshow": {
     "slide_type": "fragment"
    }
   },
   "source": [
    "## Opening files\n",
    "\n",
    "How to open a file ?\n",
    "\n",
    "`f = open(filename, mode='r')` will create a *file object* `f`\n",
    "\n",
    "`mode` can be:\n",
    "\n",
    "* `r` for read-only mode\n",
    "* `w` for write mode\n",
    "* `a` for append mode\n",
    "* `+` for read+write mode\n",
    "* `b` for binary mode (disable encoding handling)\n",
    "\n",
    "\n",
    "Common methods for all file objects:\n",
    "\n",
    "* `f.close()` → close the file\n",
    "* `f.seek(pos)` → Moves to a given position in the file"
   ]
  },
  {
   "cell_type": "markdown",
   "metadata": {
    "slideshow": {
     "slide_type": "slide"
    }
   },
   "source": [
    "## Writing into a file\n",
    "\n",
    "- `f.write(string)` → write a string to the file\n",
    "- `f.writelines([list of strings])` → write multiple lines\n",
    "- `f.flush()` → write (actually) the data to the disk\n"
   ]
  },
  {
   "cell_type": "code",
   "execution_count": null,
   "metadata": {
    "slideshow": {
     "slide_type": "fragment"
    }
   },
   "outputs": [],
   "source": [
    "import time\n",
    "\n",
    "filename = \"example_file.txt\"\n",
    "\n",
    "f = open(filename, \"w\")\n",
    "f.write(\"It is now: \" + time.ctime())\n",
    "f.flush()  # Optional\n",
    "f.close()  # Mandatory"
   ]
  },
  {
   "cell_type": "markdown",
   "metadata": {
    "slideshow": {
     "slide_type": "slide"
    }
   },
   "source": [
    "## Reading from a file\n",
    "\n",
    "\n",
    "- `f.read(size)` → read `size` bytes or the whole file in a string\n",
    "- `f.readlines()` → read the whole file in a list of lines\n",
    "- `f.readline()` → read the next line (by default defined by `\\n`)\n"
   ]
  },
  {
   "cell_type": "code",
   "execution_count": null,
   "metadata": {
    "slideshow": {
     "slide_type": "fragment"
    }
   },
   "outputs": [],
   "source": [
    "print(\"Current time:\", time.ctime())\n",
    "print(\"Time recorded in file:\", open(fn1).read())"
   ]
  },
  {
   "cell_type": "markdown",
   "metadata": {
    "slideshow": {
     "slide_type": "-"
    }
   },
   "source": [
    "**Nota:** In the former cell, the file may not be closed immediately as the garbage collection can be delayed. As the number of opened files is limited at ~1000 per process, it is always better to explicitly close files.\n",
    "\n",
    "**This is best achieved using a `context manager`.**"
   ]
  },
  {
   "cell_type": "markdown",
   "metadata": {
    "slideshow": {
     "slide_type": "slide"
    }
   },
   "source": [
    "### Context manager\n",
    "\n",
    "* Context manager will allocate and release resources 'automatically' when needed.\n",
    "* Usually used from the `with` statement.\n",
    "\n",
    "To write safely into a file, instead of having something like:"
   ]
  },
  {
   "cell_type": "code",
   "execution_count": null,
   "metadata": {
    "slideshow": {
     "slide_type": "-"
    }
   },
   "outputs": [],
   "source": [
    "file = open(\"my_file\", \"w\")\n",
    "try:\n",
    "    file.write(\"Hi there!\")\n",
    "finally:\n",
    "    file.close()"
   ]
  },
  {
   "cell_type": "markdown",
   "metadata": {
    "slideshow": {
     "slide_type": "-"
    }
   },
   "source": [
    "using a context manager will give:"
   ]
  },
  {
   "cell_type": "code",
   "execution_count": null,
   "metadata": {
    "slideshow": {
     "slide_type": "-"
    }
   },
   "outputs": [],
   "source": [
    "with open(\"my_file\", \"w\") as opened_file:\n",
    "    opened_file.write(\"Hi there!\")"
   ]
  },
  {
   "cell_type": "markdown",
   "metadata": {
    "slideshow": {
     "slide_type": "-"
    }
   },
   "source": [
    "The main advantage of using a `with` statement is to make sure your file will be closed (without dealing with the `finally` block in this case)\n",
    "\n",
    "This will also increase code readability.\n",
    "\n",
    "A **common use case of context managers is locking and unlocking resources**.\n",
    "\n",
    "Yasoob Khalid Python tips regarding context manager:\n",
    "\n",
    "http://book.pythontips.com/en/latest/context_managers.html"
   ]
  },
  {
   "cell_type": "markdown",
   "metadata": {
    "slideshow": {
     "slide_type": "slide"
    }
   },
   "source": [
    "## File as iterator\n",
    "\n",
    "Files can behave as iterators over readlines"
   ]
  },
  {
   "cell_type": "code",
   "execution_count": null,
   "metadata": {
    "slideshow": {
     "slide_type": "-"
    }
   },
   "outputs": [],
   "source": [
    "with open(\"data/dummy_file.txt\") as f:\n",
    "    for line in f:\n",
    "        print(line)"
   ]
  },
  {
   "cell_type": "markdown",
   "metadata": {
    "slideshow": {
     "slide_type": "fragment"
    }
   },
   "source": [
    "will display:\n",
    "``` text\n",
    "    first line\n",
    "    second line\n",
    "    ...\n",
    "```\n",
    "\n",
    "* Very concise typing\n",
    "* Efficient reading\n",
    "* Limited memory footprint (File is not fully loaded in memory → only one line at a time)\n",
    "\n"
   ]
  },
  {
   "cell_type": "markdown",
   "metadata": {
    "slideshow": {
     "slide_type": "slide"
    }
   },
   "source": [
    "## Hands on\n",
    "\n",
    "Write into a file:\n",
    "\n",
    "    - your name\n",
    "    - the current date\n",
    "\n",
    "Then, read back this file and parse it to retrieve the month of the date.\n",
    "Use only the functions given by the file object (the one returned by `open(...)`)"
   ]
  },
  {
   "cell_type": "markdown",
   "metadata": {
    "slideshow": {
     "slide_type": "slide"
    }
   },
   "source": [
    "### Solution - writing"
   ]
  },
  {
   "cell_type": "code",
   "execution_count": null,
   "metadata": {
    "slideshow": {
     "slide_type": "fragment"
    }
   },
   "outputs": [],
   "source": [
    "import time\n",
    "\n",
    "with open(\"myoutputfile\", mode=\"w\") as opened_file:\n",
    "    opened_file.write(\"Jerome\\n\")\n",
    "    opened_file.write(time.ctime())"
   ]
  },
  {
   "cell_type": "markdown",
   "metadata": {
    "slideshow": {
     "slide_type": "slide"
    }
   },
   "source": [
    "### Solution - reading"
   ]
  },
  {
   "cell_type": "code",
   "execution_count": null,
   "metadata": {
    "slideshow": {
     "slide_type": "fragment"
    }
   },
   "outputs": [],
   "source": [
    "# reading\n",
    "with open(\"myoutputfile\", mode=\"r\") as f:\n",
    "    # read the first line with the name\n",
    "    firstline = f.readline()\n",
    "    # read the second line with the date\n",
    "    secondline = f.readline()\n",
    "    month = secondline.split()[1]\n",
    "print(\"month is %s\" % month)"
   ]
  },
  {
   "cell_type": "markdown",
   "metadata": {
    "slideshow": {
     "slide_type": "slide"
    }
   },
   "source": [
    "## Hands on\n",
    "\n",
    "Read an ascii spreadsheet written by FIT2D:\n",
    "\n",
    "* The first non commented line looks like:\n",
    "    * `512 512 Start pixel = ( 1 1 )`\n",
    "    * Then 512 values per line, 512 lines\n",
    "* Read the file as a list of lists and display as an image.\n",
    "\n",
    "If `data` is a list of lists (of float), this can be done using matlab with:\n",
    "\n",
    "``` python\n",
    "%matplotlib inline\n",
    "from matplotlib.pyplot import subplots\n",
    "\n",
    "fig, ax = subplots()\n",
    "ax.imshow(data)\n",
    "```\n",
    "\n",
    "* Example file in : data/example.spr\n",
    "\n",
    "\n",
    "![FIT2D image saved in ASCII](img/fit2d_ascii_file.png \"FIT2D image saved in ASCII\")\n"
   ]
  },
  {
   "cell_type": "markdown",
   "metadata": {
    "slideshow": {
     "slide_type": "slide"
    }
   },
   "source": [
    "### Solution"
   ]
  },
  {
   "cell_type": "code",
   "execution_count": null,
   "metadata": {
    "slideshow": {
     "slide_type": "slide"
    }
   },
   "outputs": [],
   "source": [
    "def readspr(filepath):\n",
    "    \"Read a FIT2D ascii spread file\"\n",
    "    result = []\n",
    "    xsize = 0\n",
    "    ysize = 0\n",
    "    with open(filepath, \"r\") as opened_file:\n",
    "        for idx, line in enumerate(opened_file):\n",
    "            strippedline = line.strip()\n",
    "            # if this is a commented line\n",
    "            if strippedline.startswith(\"#\"):\n",
    "                continue\n",
    "            words = strippedline.split()\n",
    "            if (len(words) == 8) and (words[2:6] == [\"Start\", \"pixel\", \"=\", \"(\"]):\n",
    "                xsize = int(words[0])\n",
    "                ysize = int(words[1])\n",
    "                print(\"Dimensions of the size are (%s, %s)\" % (xsize, ysize))\n",
    "                break\n",
    "        if xsize and ysize:\n",
    "            for line in opened_file:\n",
    "                words = line.split()\n",
    "                if len(words) != xsize:\n",
    "                    print(\n",
    "                        \"Error !!! Expected entries are %s, got %s\"\n",
    "                        % (xsize, len(words))\n",
    "                    )\n",
    "                    return None\n",
    "                else:\n",
    "                    result.append([float(i) for i in words])\n",
    "    return result\n",
    "\n",
    "\n",
    "data = readspr(\"data/example.spr\")"
   ]
  },
  {
   "cell_type": "code",
   "execution_count": null,
   "metadata": {
    "slideshow": {
     "slide_type": "fragment"
    }
   },
   "outputs": [],
   "source": [
    "# Display the image\n",
    "%matplotlib inline\n",
    "from matplotlib.pyplot import subplots\n",
    "\n",
    "fig, ax = subplots()\n",
    "ax.imshow(data)"
   ]
  },
  {
   "cell_type": "markdown",
   "metadata": {
    "slideshow": {
     "slide_type": "slide"
    }
   },
   "source": [
    "## Interaction with the console\n",
    "\n",
    "- Output to the console:\n",
    "    - `print(str)`\n",
    "- Input from the console:\n",
    "    - `input()` reads the standard input and returns a string"
   ]
  },
  {
   "cell_type": "code",
   "execution_count": null,
   "metadata": {
    "slideshow": {
     "slide_type": "fragment"
    }
   },
   "outputs": [],
   "source": [
    "user_name = input(\"Please enter your name:\")\n",
    "print(\"user name is\", user_name)"
   ]
  },
  {
   "cell_type": "markdown",
   "metadata": {
    "slideshow": {
     "slide_type": "slide"
    }
   },
   "source": [
    "### Hands on\n",
    "\n",
    "\n",
    "Create a function asking for the name and the age of the user and then display it\n",
    "\n",
    "```\n",
    ">>> What is your name ?\n",
    "polo\n",
    ">>> How old are you ? \n",
    "22\n",
    ">>> Your name is polo and you are 22 years old\n",
    "```"
   ]
  },
  {
   "cell_type": "markdown",
   "metadata": {
    "slideshow": {
     "slide_type": "slide"
    }
   },
   "source": [
    "### Solution\n"
   ]
  },
  {
   "cell_type": "code",
   "execution_count": null,
   "metadata": {
    "slideshow": {
     "slide_type": "fragment"
    }
   },
   "outputs": [],
   "source": [
    "def questioneer():\n",
    "    print(\"What is your name ?\")\n",
    "    name = input()\n",
    "    print(\"How old are you ? \")\n",
    "    age = input()\n",
    "    print(\"Your name is %s and you are %s years old\" % (name, age))\n",
    "\n",
    "\n",
    "questioneer()"
   ]
  },
  {
   "cell_type": "markdown",
   "metadata": {
    "slideshow": {
     "slide_type": "slide"
    }
   },
   "source": [
    "## sys standard output, input and error\n",
    "- `sys.stdout`, `sys.stdin`, `sys.stderr`:\n",
    "    - File objects used for standard output, input and errors.\n",
    "    - `sys.stdout` is a file open in write mode\n",
    "    - `sys.stdin` is a file open in read mode\n",
    "    - `sys.stdout.write(str+os.linesep)` is equivalent to `print(str)`"
   ]
  },
  {
   "cell_type": "markdown",
   "metadata": {
    "slideshow": {
     "slide_type": "fragment"
    }
   },
   "source": [
    "``` ipython\n",
    ">>> import sys\n",
    ">>> import os\n",
    ">>> sys.stdout.write('Is winter coming ?' + os.linesep)\n",
    "Is winter coming ?\n",
    ">>> answer = sys.stdin.readline()\n",
    "might\n",
    ">>> print(answer)\n",
    "might\n",
    "```"
   ]
  },
  {
   "cell_type": "markdown",
   "metadata": {
    "slideshow": {
     "slide_type": "slide"
    }
   },
   "source": [
    "example of stdin, stdout"
   ]
  },
  {
   "cell_type": "code",
   "execution_count": null,
   "metadata": {},
   "outputs": [],
   "source": [
    "import sys\n",
    "\n",
    "sys.stdout = open(\"std_out_file\", \"w\")\n",
    "print(\"toto\")\n",
    "sys.stdout.flush()"
   ]
  }
 ],
 "metadata": {
  "celltoolbar": "Slideshow",
  "kernelspec": {
   "display_name": "Python3 (juno)",
   "language": "python",
   "name": "python3"
  },
  "language_info": {
   "codemirror_mode": {
    "name": "ipython",
    "version": 3
   },
   "file_extension": ".py",
   "mimetype": "text/x-python",
   "name": "python",
   "nbconvert_exporter": "python",
   "pygments_lexer": "ipython3",
   "version": "3.8.10"
  }
 },
 "nbformat": 4,
 "nbformat_minor": 4
}
