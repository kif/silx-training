{
 "cells": [
  {
   "attachments": {},
   "cell_type": "markdown",
   "id": "06d17a7a-6770-4400-80bf-1a3861d4eeb4",
   "metadata": {},
   "source": [
    "# GPU programming using PyOpenCL, part 5: Scan\n",
    "\n",
    "This is a set of exercises on the usage of PyOpenCL. There are 6 main classes of parallel algorithms:\n",
    "1. Map or Element-wise kernels: 1 thread calculates 1 result from 1 input position\n",
    "2. Gather: 1 thread calculates 1 result from several input data, one typical example is the convolution\n",
    "3. Scatter: 1 thread uses 1 input element and scatters it on one or several output pixels, this requires the usage of atomic operarions\n",
    "4. Reduction: Apply the same associative operation on all element of an ensemble, for example the sum of all elements in a list.\n",
    "5. Scan: also called *prefix sum*, this algorithm applies the same associative operation to all *previous* elements of a list, for example a cummulative sum (cumsum)\n",
    "6. Sort: using sorting network like the bitonic sort.\n",
    "\n",
    "This fith tutorial focuses on the **Scan** operation where one applies the same associative operation to all element previously in the input array. \n",
    "The result is an array with as many elements as the input array!\n",
    "\n",
    "\n",
    "\n",
    "Two main algorithms exists: \n",
    "\n",
    "* [Hillis and Steele](https://en.wikipedia.org/wiki/Prefix_sum?Parallel%20algorithms#Algorithm_1:_Shorter_span,_more_parallel)\n",
    "\n",
    " ![Hillis and Steele](Hillis_Steele.svg)\n",
    "\n",
    "* [Blelloch](https://en.wikipedia.org/wiki/Prefix_sum?Parallel%20algorithms#Algorithm_2:_Work-efficient)\n",
    "\n",
    " ![Blelloch](Prefix_sum_16.svg)\n",
    "  \n",
    "\n",
    "The later algorithm is similar to the reduction algorythm applies twice. Dues to the limited time, this algorithm will only be demonstrates using metaprogramming."
   ]
  },
  {
   "cell_type": "code",
   "execution_count": null,
   "id": "d44425e3-cca1-4afb-98c8-6b21d08d1ac6",
   "metadata": {},
   "outputs": [],
   "source": []
  },
  {
   "cell_type": "code",
   "execution_count": null,
   "id": "90618651-bfd2-4d96-9204-919241fb5dbb",
   "metadata": {},
   "outputs": [],
   "source": []
  },
  {
   "cell_type": "code",
   "execution_count": null,
   "id": "38098b15-ec18-48f3-b6c4-9d6428f23995",
   "metadata": {},
   "outputs": [],
   "source": []
  },
  {
   "cell_type": "markdown",
   "id": "c5bd3aef-a437-4acd-bd75-11c745ed65b4",
   "metadata": {},
   "source": [
    "## Now it is your turn:\n",
    "\n",
    "Write a byte-offset algorithm that substract the previous value from the current and stores the results on:\n",
    "* 1 byte if the value is between -127 and 127\n",
    "* 3 bytes (-128+value on 2 bytes little endian) if the difference value is between -32767 and 32767\n",
    "* 7 bytes (-128, -128, 0 + value on 4 bytes little endian) if the difference value is larger.\n"
   ]
  },
  {
   "cell_type": "code",
   "execution_count": 9,
   "id": "b200ba8a-10d8-4dd8-a8f2-142023a948d9",
   "metadata": {},
   "outputs": [],
   "source": [
    "import numpy as np\n",
    "size = 100\n",
    "ary = np.random.poisson(100, size=size)"
   ]
  },
  {
   "cell_type": "code",
   "execution_count": 10,
   "id": "1d144481-d1df-4e6b-b5e3-3dbc09b96967",
   "metadata": {},
   "outputs": [],
   "source": [
    "def compByteOffset_numpy(data):\n",
    "    \"\"\"\n",
    "    Compress a dataset into a string using the byte_offet algorithm\n",
    "\n",
    "    :param data: ndarray\n",
    "    :return: string/bytes with compressed data\n",
    "\n",
    "    test = numpy.array([0,1,2,127,0,1,2,128,0,1,2,32767,0,1,2,32768,0,1,2,2147483647,0,1,2,2147483648,0,1,2,128,129,130,32767,32768,128,129,130,32768,2147483647,2147483648])\n",
    "\n",
    "    \"\"\"\n",
    "    flat = numpy.ascontiguousarray(data.ravel(), numpy.int64)\n",
    "    delta = numpy.zeros_like(flat)\n",
    "    delta[0] = flat[0]\n",
    "    delta[1:] = flat[1:] - flat[:-1]\n",
    "    mask = abs(delta) > 127\n",
    "    exceptions = numpy.nonzero(mask)[0]\n",
    "    if numpy.little_endian:\n",
    "        byteswap = False\n",
    "    else:\n",
    "        byteswap = True\n",
    "    start = 0\n",
    "    binary_blob = b\"\"\n",
    "    for stop in exceptions:\n",
    "        if stop - start > 0:\n",
    "            binary_blob += delta[start:stop].astype(numpy.int8).tobytes()\n",
    "        exc = delta[stop]\n",
    "        absexc = abs(exc)\n",
    "        if absexc > 2147483647:  # 2**31-1\n",
    "            binary_blob += b\"\\x80\\x00\\x80\\x00\\x00\\x00\\x80\"\n",
    "            if byteswap:\n",
    "                binary_blob += delta[stop:stop + 1].byteswap().tobytes()\n",
    "            else:\n",
    "                binary_blob += delta[stop:stop + 1].tobytes()\n",
    "        elif absexc > 32767:  # 2**15-1\n",
    "            binary_blob += b\"\\x80\\x00\\x80\"\n",
    "            if byteswap:\n",
    "                binary_blob += delta[stop:stop + 1].astype(numpy.int32).byteswap().tobytes()\n",
    "            else:\n",
    "                binary_blob += delta[stop:stop + 1].astype(numpy.int32).tobytes()\n",
    "        else:  # >127\n",
    "            binary_blob += b\"\\x80\"\n",
    "            if byteswap:\n",
    "                binary_blob += delta[stop:stop + 1].astype(numpy.int16).byteswap().tobytes()\n",
    "            else:\n",
    "                binary_blob += delta[stop:stop + 1].astype(numpy.int16).tobytes()\n",
    "        start = stop + 1\n",
    "    if start < delta.size:\n",
    "        binary_blob += delta[start:].astype(numpy.int8).tobytes()\n",
    "    return binary_blob"
   ]
  },
  {
   "cell_type": "code",
   "execution_count": 11,
   "id": "94966fc4-9d25-4d36-93a1-b5929f518e3f",
   "metadata": {},
   "outputs": [],
   "source": [
    "ref = compByteOffset_numpy(ary)"
   ]
  },
  {
   "cell_type": "code",
   "execution_count": 12,
   "id": "5823dab8-09b4-430d-a3c2-ce3cd169bc98",
   "metadata": {},
   "outputs": [
    {
     "data": {
      "text/plain": [
       "b'c\\xfb\\x05\\r\\xf7\\xfd\\t\\xf7\\xf9\\xf0\\x1d\\xf9\\x05\\xfd\\xff\\xf2\\x0e\\x08\\xef\\x0c\\x05\\xfc\\xf5\\x0f\\xfc\\r\\xe7\\x01\\x06\\x07\\xfc\\x01\\x02\\x00\\xe5\\x15\\x0c\\xf8\\r\\xf6\\xfe\\xff\\xfc\\x05\\xff\\xf0\\x06\\xfe\\x1c\\xee\\x02\\xf9\\xfd\\x0b\\xfc\\x06\\xf4\\t\\x03\\xf1\\x13\\xf3\\xfd&\\xd5\\x06\\xf7\\xf5\\r\\x0c\\x03\\xfa\\x07\\xef\\x1a\\xf0\\xf3\\x17\\xe9\\x18\\xf0\\x14\\xfb\\xf6\\t\\xf8\\x1c\\xd6\\x14\\xf0\\xff\\x1d\\xec\\x01\\x0c\\x03\\xf9\\xfd\\x02\\xef'"
      ]
     },
     "execution_count": 12,
     "metadata": {},
     "output_type": "execute_result"
    }
   ],
   "source": [
    "ref"
   ]
  },
  {
   "cell_type": "code",
   "execution_count": null,
   "id": "551dde33-25e8-406c-b0d1-d00475b0ccc6",
   "metadata": {},
   "outputs": [],
   "source": []
  }
 ],
 "metadata": {
  "kernelspec": {
   "display_name": "Python 3 (ipykernel)",
   "language": "python",
   "name": "python3"
  },
  "language_info": {
   "codemirror_mode": {
    "name": "ipython",
    "version": 3
   },
   "file_extension": ".py",
   "mimetype": "text/x-python",
   "name": "python",
   "nbconvert_exporter": "python",
   "pygments_lexer": "ipython3",
   "version": "3.11.0"
  }
 },
 "nbformat": 4,
 "nbformat_minor": 5
}
