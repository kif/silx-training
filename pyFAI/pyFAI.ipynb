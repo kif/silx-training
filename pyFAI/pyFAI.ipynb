{
 "cells": [
  {
   "cell_type": "markdown",
   "metadata": {
    "slideshow": {
     "slide_type": "slide"
    }
   },
   "source": [
    "# Data reduction for scattering experiements\n",
    "\n",
    "## Tutorial T7 of the ESRF users meeting"
   ]
  },
  {
   "cell_type": "markdown",
   "metadata": {
    "slideshow": {
     "slide_type": "slide"
    }
   },
   "source": [
    "## Outline\n",
    "\n",
    "1. Usage of Jupyter notebooks: the data-analysis service for treating data at the ESRF\n",
    "2. Quick overview of pyFAI (presentation)\n",
    "3. Basic usage of pyFAI for azimuthal integration\n",
    "4. Validation of the uncertainty propagation\n",
    "5. Image filtering: Bragg peaks separation\n",
    "6. Conclusions\n",
    "\n",
    "All the practical sessions will occur in the `jupyter-slurm` environment."
   ]
  },
  {
   "cell_type": "markdown",
   "metadata": {
    "slideshow": {
     "slide_type": "slide"
    }
   },
   "source": [
    "# 1. Python in a notebook"
   ]
  },
  {
   "cell_type": "markdown",
   "metadata": {
    "slideshow": {
     "slide_type": "slide"
    }
   },
   "source": [
    "## From jupyter-slurm\n",
    "\n",
    "\n",
    "Connect to https://jupyter-slurm.esrf.fr and login using your ESRF credentials.\n",
    "\n",
    "![esrf_sso](images/esrf_sso.png)\n"
   ]
  },
  {
   "cell_type": "markdown",
   "metadata": {
    "slideshow": {
     "slide_type": "subslide"
    }
   },
   "source": [
    "In the `Advanced tab`, select\n",
    "* On Partition `nice`\n",
    "    * Nodes: `1`\n",
    "    * Number of tasks: `1`\n",
    "    * CPUs per task: `2`\n",
    "    * Runtime: `6` hours\n",
    "    * GPU: `0` \n",
    "    * Reservation: `python-training`\n",
    "\n",
    "Then click **Start** ![Server Options](server_options.png)"
   ]
  },
  {
   "cell_type": "markdown",
   "metadata": {
    "slideshow": {
     "slide_type": "subslide"
    }
   },
   "source": [
    "Once connected, if necessary, clone the pyFAI directory: \n",
    "\n",
    "You can open a terminal from `New > Terminal`\n",
    "\n",
    "![jupyterhub](images/jupyterhub.png)\n",
    "\n"
   ]
  },
  {
   "cell_type": "markdown",
   "metadata": {
    "slideshow": {
     "slide_type": "subslide"
    }
   },
   "source": [
    "then go for:\n",
    "\n",
    "```bash\n",
    "$ git clone https://github.com/silx-kit/pyFAI\n",
    "```\n",
    "\n",
    "Now you can open training 'notebooks' (.ipynb) from the jupyterhub interface. \n",
    "They all live in `pyFAI/doc/usage`\n",
    "\n",
    "Opening one of them should give you this:\n",
    "\n",
    "![notebook](images/notebook.png)"
   ]
  },
  {
   "cell_type": "markdown",
   "metadata": {
    "slideshow": {
     "slide_type": "subslide"
    }
   },
   "source": [
    "\n",
    "Double-click on a cell: _Edit the cell_\n",
    "\n",
    "When editing:\n",
    "\n",
    "**Enter**: _Add a new line to the cell_\n",
    "\n",
    "**Shift+Enter**:  _Execute the cell_\n",
    "\n",
    "A cell can contain source code or (Markdown) text\n",
    "\n",
    "\n"
   ]
  },
  {
   "cell_type": "markdown",
   "metadata": {
    "slideshow": {
     "slide_type": "subslide"
    }
   },
   "source": [
    "## If Jupyter-slurm does not work\n",
    "\n",
    "Run the notebook on scisoft10/11. For this, enter inside the esrf network:\n",
    "* Connect to https://nx.esrf.fr/nxwebplayer\n",
    "* Open a terminal through NX\n",
    "* Connect to scisoft: `ssh -X scisoft11`\n",
    "* Run the notebook: `jupyter-notebook -ip=0.0.0.0`\n",
    "* Open a web browser and connect to:\n",
    "     * http://scisoft11:8888/?token=.........\n",
    "\n",
    "![nxwebplayer](images/nxwebplayer.png)\n"
   ]
  },
  {
   "cell_type": "markdown",
   "metadata": {
    "slideshow": {
     "slide_type": "slide"
    }
   },
   "source": [
    "# 2. General presentation of pyFAI\n",
    "\n",
    "Slides are available at: http://www.silx.org/pub/pyFAI/pyFAI_UM_2021/2021-02-08-ESRF.pdf\n"
   ]
  },
  {
   "cell_type": "markdown",
   "metadata": {
    "slideshow": {
     "slide_type": "slide"
    }
   },
   "source": [
    "# 3. First tutorial: **Basic usage of pyFAI for azimuthal integration**\n",
    "\n",
    "This tutorial is available in `pyFAI/doc/source/usage/cookbook/integration_with_python.ipynb`.\n",
    "It explains how to transform an image into a powder diffraction pattern."
   ]
  },
  {
   "cell_type": "markdown",
   "metadata": {
    "slideshow": {
     "slide_type": "slide"
    }
   },
   "source": [
    "# 4. Second tutorial: **Propagation of uncertainties in pyFAI**\n",
    "\n",
    "It demonstrates that after azimuthal integration, the intensity in each bin (with its associated error)\n",
    "follows a normal distribution, thus the value of χ² should be around 1.0, where χ² is defined like this:\n",
    "![Formula for χ²](https://wikimedia.org/api/rest_v1/media/math/render/svg/c213bde85b99f187551ea2c3a30231b784293eb4)"
   ]
  },
  {
   "cell_type": "markdown",
   "metadata": {
    "slideshow": {
     "slide_type": "subslide"
    }
   },
   "source": [
    "Of course, how close χ² is from 1 is modulated by the number of bins, the number of experiments, which is given by the χ² law:\n",
    "\n",
    "![χ² law](https://wikimedia.org/api/rest_v1/media/math/render/svg/704843de63eff0e643258787dc5483e34fd11c61)\n",
    "\n",
    "Where `k` is the number of bins in the integration and `x` depends on the number of bins for histogramming χ² values.\n",
    "\n"
   ]
  },
  {
   "cell_type": "markdown",
   "metadata": {
    "slideshow": {
     "slide_type": "subslide"
    }
   },
   "source": [
    "Daniel Franke from EMBL Hamburg reported deviation from this law, and 3 origins have been spotted:\n",
    "* Normalization\n",
    "* Pixel splitting\n",
    "* Error in the implementation\n",
    "\n",
    "Sylvain Prevost from ILL suggested to use a synthetic experiment SAXS with a Poissonian detector (where σ²=µ) rather than experimental data which would be too hard to record.\n",
    "\n"
   ]
  },
  {
   "cell_type": "markdown",
   "metadata": {
    "slideshow": {
     "slide_type": "subslide"
    }
   },
   "source": [
    "The tutorial is available in `pyFAI/doc/source/usage/tutorial/Variance/Variance.ipynb`.\n",
    "\n",
    "**DO NOT RUN IT STRAIGHT AWAY !**\n",
    "\n",
    "One has to cut some corners to have it running within an hour:\n",
    "* Decrease the number of images to about a hundred:  `nimg = 100`\n",
    "* Deactivate OpenCL since there is no GPU on those computers:\n",
    "```\n",
    "import os\n",
    "os.environ[\"PYFAI_OPENCL\"] = \"0\"\n",
    "```\n",
    "* Skip the benchmark of `numba` (not installed)\n",
    "\n",
    "Also, modify the cell with  `%matplotlib nbagg` and run it to activate the notebook mode of matplotlib.\n"
   ]
  },
  {
   "cell_type": "markdown",
   "metadata": {
    "slideshow": {
     "slide_type": "slide"
    }
   },
   "source": [
    " # 5. Third tutorial: **Bragg peaks separation**\n",
    " \n",
    "This tutorial explains how to model the amorphous background to better extract single crystal diffraction signal.\n",
    "\n",
    "It is located in `pyFAI/doc/source/usage/tutorial/Separation/Separate.ipynb`"
   ]
  },
  {
   "cell_type": "markdown",
   "metadata": {
    "slideshow": {
     "slide_type": "slide"
    }
   },
   "source": [
    "# 6. Conclusion\n",
    "\n",
    "PyFAI is not only limited to azimuthal integration, it is also a rich toolbox to manipulate detectors, images and simulate diffraction experiments from Python."
   ]
  }
 ],
 "metadata": {
  "celltoolbar": "Slideshow",
  "kernelspec": {
   "display_name": "Python 3",
   "language": "python",
   "name": "python3"
  },
  "language_info": {
   "codemirror_mode": {
    "name": "ipython",
    "version": 3
   },
   "file_extension": ".py",
   "mimetype": "text/x-python",
   "name": "python",
   "nbconvert_exporter": "python",
   "pygments_lexer": "ipython3",
   "version": "3.9.1+"
  }
 },
 "nbformat": 4,
 "nbformat_minor": 4
}
