{
 "cells": [
  {
   "cell_type": "markdown",
   "metadata": {
    "slideshow": {
     "slide_type": "slide"
    }
   },
   "source": [
    "# Data reduction for scattering experiements\n",
    "\n",
    "## Tutorial T7 of the ESRF users meeting"
   ]
  },
  {
   "cell_type": "markdown",
   "metadata": {
    "slideshow": {
     "slide_type": "slide"
    }
   },
   "source": [
    "## Outline\n",
    "\n",
    "1. Usage of Jupyter notebooks: the data-analysis service for treating data at the ESRF\n",
    "2. Quick overview of pyFAI (presentation)\n",
    "3. Basic usage of pyFAI for azimuthal integration\n",
    "4. Validation of the uncertainty propagation\n",
    "5. Image filtering: bragg peak separation\n",
    "\n",
    "All the practial sessions will occure in the `jupyter-slurm` environment."
   ]
  },
  {
   "cell_type": "markdown",
   "metadata": {
    "collapsed": true,
    "slideshow": {
     "slide_type": "slide"
    }
   },
   "source": [
    "# Python in a notebook\n",
    "\n",
    "\n",
    "## from jupyter-slurm\n",
    "\n",
    "\n",
    "connect to https://jupyter-slurm.esrf.fr and login using your esrf credentials.\n",
    "\n",
    "![esrf_sso](images/esrf_sso.png)\n",
    "\n"
   ]
  },
  {
   "cell_type": "markdown",
   "metadata": {
    "slideshow": {
     "slide_type": "subslide"
    }
   },
   "source": [
    "In the `Advanced tab`, select\n",
    "* On Partition `nice`, pick `1` node `1` task and `2` CPU/task for `6` hours, no GPU. \n",
    "* Use the reservation `python-training` \n",
    "Then click 'start'\n",
    "![Server Options](server_options.png)\n",
    "\n"
   ]
  },
  {
   "cell_type": "markdown",
   "metadata": {
    "slideshow": {
     "slide_type": "subslide"
    }
   },
   "source": [
    "Once connected if necessary clone the pyFAI directory. \n",
    "\n",
    "You can open a terminal from `new > terminal`\n",
    "\n",
    "![jupyterhub](images/jupyterhub.png)\n",
    "\n"
   ]
  },
  {
   "cell_type": "markdown",
   "metadata": {
    "slideshow": {
     "slide_type": "subslide"
    }
   },
   "source": [
    "then go for:\n",
    "\n",
    "```bash\n",
    "$ git clone https://github.com/silx-kit/pyFAI\n",
    "```\n",
    "\n",
    "Now you can open training 'notebooks' (.ipynb) from the jupyterhub interface. \n",
    "They all live in `pyFAI/doc/usage`\n",
    "Once open they look like:\n",
    "\n",
    "\n",
    "![notebook](images/notebook.png)\n",
    "\n"
   ]
  },
  {
   "cell_type": "markdown",
   "metadata": {
    "slideshow": {
     "slide_type": "subslide"
    }
   },
   "source": [
    "\n",
    "To edit a cell double click on it.\n",
    "\n",
    "**Enter** will add a new line to the cell\n",
    "\n",
    "**Shift+Enter** will execute the cell\n",
    "\n",
    "A cell can contain source code or (Markdown) text\n",
    "\n",
    "\n"
   ]
  },
  {
   "cell_type": "markdown",
   "metadata": {
    "slideshow": {
     "slide_type": "subslide"
    }
   },
   "source": [
    "## on scisoft10/11\n",
    "\n",
    "Backup solution if needed enter inside the esrf network:\n",
    "* https://nx.esrf.fr/nxwebplayer\n",
    "* open a teminal\n",
    "* ssh -X scisoft11\n",
    "* jupyter-notebook -ip=0.0.0.0\n",
    "* Open a web browser and connect to:\n",
    "     * http://scisoft11:8888/?token=.........\n",
    "\n",
    "![nxwebplayer](images/nxwebplayer.png)\n"
   ]
  },
  {
   "cell_type": "markdown",
   "metadata": {
    "slideshow": {
     "slide_type": "slide"
    }
   },
   "source": [
    "# General presentation of pyFAI\n",
    "\n",
    "Slides are available at: http://www.silx.org/pub/pyFAI/pyFAI_UM_2021/2021-02-08-ESRF.pdf\n"
   ]
  },
  {
   "cell_type": "markdown",
   "metadata": {
    "slideshow": {
     "slide_type": "slide"
    }
   },
   "source": [
    "# Basic usage of pyFAI for azimuthal integration:\n",
    "\n",
    "This tutorial is available in `pyFAI/doc/source/usage/cookbook/integration_with_python.ipynb`.\n",
    "It explains how to transform an image into a powder diffraction pattern."
   ]
  },
  {
   "cell_type": "markdown",
   "metadata": {
    "slideshow": {
     "slide_type": "slide"
    }
   },
   "source": [
    "# Propagation of uncertainties in pyFAI\n",
    "\n",
    "\n",
    "It demonstrate the after azimuthal integration, the intensity in each bin (with its associated error)\n",
    "follows a normal distribution, thus the value of χ² should be around 1.0, where χ² is defined like this:\n",
    "![Formula for χ²](https://wikimedia.org/api/rest_v1/media/math/render/svg/c213bde85b99f187551ea2c3a30231b784293eb4)\n",
    "\n"
   ]
  },
  {
   "cell_type": "markdown",
   "metadata": {
    "slideshow": {
     "slide_type": "subslide"
    }
   },
   "source": [
    "Of course, how close χ² is from 1 is modulated by the number of bins, the number of experiments, which is given by the χ² law:\n",
    "\n",
    "![χ² law](https://wikimedia.org/api/rest_v1/media/math/render/svg/704843de63eff0e643258787dc5483e34fd11c61)\n",
    "\n",
    "Where `k` is the number of bins in the integration and `x` depends on the number of bins for histogramming χ² values.\n",
    "\n"
   ]
  },
  {
   "cell_type": "markdown",
   "metadata": {
    "slideshow": {
     "slide_type": "subslide"
    }
   },
   "source": [
    "Daniel Franke from EMBL Hamburg reported deviation from this law, and 3 origins have been spotted:\n",
    "* Normalization\n",
    "* Pixel splitting\n",
    "* Error in the implementation\n",
    "\n",
    "Sylvain Prevost from ILL suggested to use a synthetic experiment SAXS with a Poissonian detector (where σ²=µ) rather than experimental data which would be too hard to record.\n",
    "\n"
   ]
  },
  {
   "cell_type": "markdown",
   "metadata": {
    "slideshow": {
     "slide_type": "subslide"
    }
   },
   "source": [
    "## For this tutorial:\n",
    "\n",
    "Activate the Notebook mode: `%matplotlib nbagg`\n",
    "\n",
    "One has to cut some corners to have it running within an hour:\n",
    "* Decrease the number of images to about a hundred:  `nimg = 100`\n",
    "* Deactivate OpenCL since there is no GPU on those computers:\n",
    "```\n",
    "import os\n",
    "os.environ[\"PYFAI_OPENCL\"] = \"0\"\n",
    "```\n",
    "* Skip the benchmark of `numba` (not installed)\n",
    "\n",
    "The tutorial is available in `pyFAI/doc/source/usage/tutorial/Variance/Variance.ipynb`\n",
    "\n"
   ]
  },
  {
   "cell_type": "markdown",
   "metadata": {
    "slideshow": {
     "slide_type": "slide"
    }
   },
   "source": [
    " # Bragg peak separation"
   ]
  },
  {
   "cell_type": "code",
   "execution_count": null,
   "metadata": {},
   "outputs": [],
   "source": []
  }
 ],
 "metadata": {
  "celltoolbar": "Slideshow",
  "kernelspec": {
   "display_name": "Python 3",
   "language": "python",
   "name": "python3"
  },
  "language_info": {
   "codemirror_mode": {
    "name": "ipython",
    "version": 3
   },
   "file_extension": ".py",
   "mimetype": "text/x-python",
   "name": "python",
   "nbconvert_exporter": "python",
   "pygments_lexer": "ipython3",
   "version": "3.9.1+"
  }
 },
 "nbformat": 4,
 "nbformat_minor": 2
}
