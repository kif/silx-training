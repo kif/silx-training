{
 "cells": [
  {
   "cell_type": "markdown",
   "metadata": {
    "collapsed": true,
    "slideshow": {
     "slide_type": "slide"
    }
   },
   "source": [
    "# Python in a notebook\n",
    "\n",
    "\n",
    "## from jupyter-slurm\n",
    "\n",
    "\n",
    "connect to https://jupyter-slurm.esrf.fr and login using your esrf credentials.\n",
    "\n",
    "![esrf_sso](images/esrf_sso.png)\n",
    "\n",
    "\n",
    "Select one score - CPU for 6 hours. Then click 'start'\n",
    "\n",
    "\n",
    "Once connected if necessary clone the training directory. You can open a terminal from new > terminal\n",
    "\n",
    "![jupyterhub](images/jupyterhub.png)\n",
    "\n",
    "\n",
    "\n",
    "then go for:\n",
    "\n",
    "```bash\n",
    "git clone https://github.com/silx-kit/silx-training\n",
    "```\n",
    "\n",
    "Now you can open training 'notebooks' (.ipynb) from the jupyterhub interface. Once open they look like:\n",
    "\n",
    "\n",
    "![notebook](images/notebook.png)\n",
    "\n",
    "\n",
    "To edit a cell double click on it.\n",
    "\n",
    "**Enter** will add a new line to the cell\n",
    "\n",
    "**Shift+Enter** will execute the cell\n",
    "\n",
    "A cell can contain source code or (Markdown) text\n",
    "\n",
    "\n",
    "## on scisoft23\n",
    "\n",
    "if needed enter inside the esrf network:\n",
    "* https://nx.esrf.fr/nxwebplayer\n",
    "* Open a web browser and connect to:\n",
    "     * http://scisoft12.esrf.fr:8000/\n",
    "     * Login with your ESRF credentials\n",
    "\n",
    "![nxwebplayer](images/nxwebplayer.png)\n"
   ]
  },
  {
   "cell_type": "code",
   "execution_count": null,
   "metadata": {},
   "outputs": [],
   "source": []
  }
 ],
 "metadata": {
  "celltoolbar": "Slideshow",
  "kernelspec": {
   "display_name": "Python 3",
   "language": "python",
   "name": "python3"
  },
  "language_info": {
   "codemirror_mode": {
    "name": "ipython",
    "version": 3
   },
   "file_extension": ".py",
   "mimetype": "text/x-python",
   "name": "python",
   "nbconvert_exporter": "python",
   "pygments_lexer": "ipython3",
   "version": "3.5.2"
  }
 },
 "nbformat": 4,
 "nbformat_minor": 2
}
